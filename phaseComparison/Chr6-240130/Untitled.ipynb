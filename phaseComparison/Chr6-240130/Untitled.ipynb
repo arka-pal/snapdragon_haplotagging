{
 "cells": [
  {
   "cell_type": "code",
   "execution_count": null,
   "id": "35aa0718-1c74-4b26-8c61-73b5ad8d0806",
   "metadata": {},
   "outputs": [],
   "source": [
    "# Statistical Phasing: Chr6"
   ]
  }
 ],
 "metadata": {
  "kernelspec": {
   "display_name": "Bash",
   "language": "bash",
   "name": "bash"
  },
  "language_info": {
   "codemirror_mode": "shell",
   "file_extension": ".sh",
   "mimetype": "text/x-sh",
   "name": "bash"
  }
 },
 "nbformat": 4,
 "nbformat_minor": 5
}
