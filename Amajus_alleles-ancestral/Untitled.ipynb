{
 "cells": [
  {
   "cell_type": "code",
   "execution_count": 2,
   "id": "630d4671-e300-40f5-ac39-8f3d0a57677c",
   "metadata": {},
   "outputs": [],
   "source": [
    "import numpy as np\n",
    "import pandas as pd\n",
    "from numba import njit"
   ]
  },
  {
   "cell_type": "code",
   "execution_count": 3,
   "id": "79fa710d-80d2-4dc8-86b8-4d624f3f47b3",
   "metadata": {},
   "outputs": [
    {
     "name": "stdout",
     "output_type": "stream",
     "text": [
      "   A  B  C  D  E  F\n",
      "0  0  0  0  0  0  0\n",
      "1  1  0  1  1  1  1\n",
      "2  1  1  0  0  1  1\n",
      "3  0  0  0  0  0  0\n",
      "4  1  0  0  1  1  1\n"
     ]
    }
   ],
   "source": [
    "# Create a sample DataFrame\n",
    "np.random.seed(0) # For reproducibility\n",
    "df = pd.DataFrame({\n",
    "    'A': np.random.randint(0, 2, size=22000000),\n",
    "    'B': np.random.randint(0, 2, size=22000000),\n",
    "    'C': np.random.randint(0, 2, size=22000000),\n",
    "    'D': np.random.randint(0, 2, size=22000000),\n",
    "    'E': np.random.randint(0, 2, size=22000000)\n",
    "})\n",
    "\n",
    "# Define a function to create column F using numba for speed\n",
    "@njit\n",
    "def create_column_f(A, B, C, D, E):\n",
    "    F = np.empty(A.shape[0], dtype=D.dtype)\n",
    "    for i in range(A.shape[0]):\n",
    "        if (A[i] == 0 and B[i] == 0 and C[i] == 0) or \\\n",
    "           (A[i] == 0 and B[i] == 0 and C[i] == 1) or \\\n",
    "           (A[i] == 0 and B[i] == 1 and C[i] == 1):\n",
    "            F[i] = D[i]\n",
    "        else:\n",
    "            F[i] = E[i]\n",
    "    return F\n",
    "\n",
    "# Apply the function to create column F\n",
    "df['F'] = create_column_f(df['A'].values, df['B'].values, df['C'].values, df['D'].values, df['E'].values)\n",
    "\n",
    "# Check the resulting DataFrame\n",
    "print(df.head())"
   ]
  }
 ],
 "metadata": {
  "kernelspec": {
   "display_name": "Python 3 (ipykernel)",
   "language": "python",
   "name": "python3"
  },
  "language_info": {
   "codemirror_mode": {
    "name": "ipython",
    "version": 3
   },
   "file_extension": ".py",
   "mimetype": "text/x-python",
   "name": "python",
   "nbconvert_exporter": "python",
   "pygments_lexer": "ipython3",
   "version": "3.11.8"
  }
 },
 "nbformat": 4,
 "nbformat_minor": 5
}
