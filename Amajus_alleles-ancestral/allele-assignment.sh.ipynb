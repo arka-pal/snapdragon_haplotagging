{
 "cells": [
  {
   "cell_type": "markdown",
   "id": "ec5b03ee-e06d-4017-be4f-92f57ffff76d",
   "metadata": {},
   "source": [
    "# Assigning Amajus alleles as ancestral or derived"
   ]
  },
  {
   "cell_type": "code",
   "execution_count": 2,
   "id": "90ab896d-59df-4f83-94d7-8a186100fa88",
   "metadata": {},
   "outputs": [],
   "source": [
    "source ~/.bashrc"
   ]
  },
  {
   "cell_type": "code",
   "execution_count": 1,
   "id": "24c38ec6-9268-44f5-ae7a-dcdc97988c83",
   "metadata": {},
   "outputs": [],
   "source": [
    "baseDIR='/nfs/scistore18/bartogrp/apal/snap_hap/Amajus_alleles-ancestral'"
   ]
  },
  {
   "cell_type": "markdown",
   "id": "a07a564f-8d2f-49b4-b0be-ede611256eec",
   "metadata": {
    "jp-MarkdownHeadingCollapsed": true
   },
   "source": [
    "## RosEl region – Chr6:52775014-53149974"
   ]
  },
  {
   "cell_type": "code",
   "execution_count": 7,
   "id": "24df9209-e05b-4474-b1e5-736a069e48df",
   "metadata": {},
   "outputs": [],
   "source": [
    "chrom=Chr6\n",
    "start=52775014\n",
    "end=53149974"
   ]
  },
  {
   "cell_type": "code",
   "execution_count": 8,
   "id": "7da6da41-4b20-439e-9526-03fb231211aa",
   "metadata": {},
   "outputs": [
    {
     "name": "stdout",
     "output_type": "stream",
     "text": [
      "\n",
      "real\t0m3.710s\n",
      "user\t0m2.803s\n",
      "sys\t0m0.186s\n"
     ]
    }
   ],
   "source": [
    "vcf=/nfs/scistore18/bartogrp/apal/snap_hap/variants/stitch/$chrom/Am_all_stitchRun1_$chrom.final.vcf.gz\n",
    "time bcftools query -r ${chrom}:${start}-${end} -f '%CHROM\\t%POS\\t%REF\\t%ALT\\t%AN\\t%AC' $vcf -o $baseDIR/pos/Chr6.RosEl.pos"
   ]
  },
  {
   "cell_type": "code",
   "execution_count": 1,
   "id": "d69be83b-ce81-45c5-99a9-df6c727caea1",
   "metadata": {},
   "outputs": [],
   "source": [
    "# ## Get n96 samples and outgroups\n",
    "# vcf=~/snap_hap/variants/vcf_bcftools_n96/n96_stitch.vcf.gz\n",
    "# time bcftools query -r ${chrom}:${start}-${end} -f '%CHROM\\t%POS\\t%REF\\t%ALT\\t%AN\\t%AC' $vcf -o $baseDIR/pos/n96_outgroups_Chr6.RosEl.pos"
   ]
  },
  {
   "cell_type": "markdown",
   "id": "e32aca60-2cc3-4545-9bce-5ef27bef08df",
   "metadata": {},
   "source": [
    "## all chromosomes"
   ]
  },
  {
   "cell_type": "code",
   "execution_count": 3,
   "id": "53d7783a-aca2-4875-9948-4fa3908ba019",
   "metadata": {
    "collapsed": true,
    "jupyter": {
     "outputs_hidden": true
    },
    "scrolled": true
   },
   "outputs": [
    {
     "name": "stdout",
     "output_type": "stream",
     "text": [
      "Chr1 /nfs/scistore18/bartogrp/apal/snap_hap/variants/stitch/Chr1/Am_all_stitchRun1_Chr1.final.vcf.gz\n",
      "\n",
      "real\t3m16.961s\n",
      "user\t2m59.360s\n",
      "sys\t0m13.044s\n",
      "Chr2 /nfs/scistore18/bartogrp/apal/snap_hap/variants/stitch/Chr2/Am_all_stitchRun1_Chr2.final.vcf.gz\n",
      "\n",
      "real\t3m43.961s\n",
      "user\t3m24.925s\n",
      "sys\t0m14.784s\n",
      "Chr3 /nfs/scistore18/bartogrp/apal/snap_hap/variants/stitch/Chr3/Am_all_stitchRun1_Chr3.final.vcf.gz\n",
      "\n",
      "real\t3m10.516s\n",
      "user\t2m54.063s\n",
      "sys\t0m12.513s\n",
      "Chr4 /nfs/scistore18/bartogrp/apal/snap_hap/variants/stitch/Chr4/Am_all_stitchRun1_Chr4.final.vcf.gz\n",
      "\n",
      "real\t2m35.915s\n",
      "user\t2m23.763s\n",
      "sys\t0m10.108s\n",
      "Chr5 /nfs/scistore18/bartogrp/apal/snap_hap/variants/stitch/Chr5/Am_all_stitchRun1_Chr5.final.vcf.gz\n",
      "\n",
      "real\t3m35.437s\n",
      "user\t3m17.715s\n",
      "sys\t0m14.903s\n",
      "Chr6 /nfs/scistore18/bartogrp/apal/snap_hap/variants/stitch/Chr6/Am_all_stitchRun1_Chr6.final.vcf.gz\n",
      "\n",
      "real\t2m41.504s\n",
      "user\t2m28.361s\n",
      "sys\t0m11.966s\n",
      "Chr7 /nfs/scistore18/bartogrp/apal/snap_hap/variants/stitch/Chr7/Am_all_stitchRun1_Chr7.final.vcf.gz\n",
      "\n",
      "real\t2m57.514s\n",
      "user\t2m33.441s\n",
      "sys\t0m12.968s\n",
      "Chr8 /nfs/scistore18/bartogrp/apal/snap_hap/variants/stitch/Chr8/Am_all_stitchRun1_Chr8.final.vcf.gz\n",
      "\n",
      "real\t3m15.416s\n",
      "user\t2m59.756s\n",
      "sys\t0m12.924s\n"
     ]
    }
   ],
   "source": [
    "baseDIR='/nfs/scistore18/bartogrp/apal/snap_hap/Amajus_alleles-ancestral'\n",
    "stitchRun=stitchRun1\n",
    "for chrom in Chr{1..8}\n",
    "do\n",
    "    vcf=/nfs/scistore18/bartogrp/apal/snap_hap/variants/stitch/$chrom/Am_all_${stitchRun}_$chrom.final.vcf.gz\n",
    "    echo $chrom $vcf\n",
    "    time bcftools query -f '%CHROM\\t%POS\\t%REF\\t%ALT\\t%AN\\t%AC' $vcf -o $baseDIR/pos/${stitchRun}_$chrom.final.pos\n",
    "done"
   ]
  },
  {
   "cell_type": "code",
   "execution_count": 5,
   "id": "c953844b-45e2-4e91-9dd3-0aed035b5825",
   "metadata": {},
   "outputs": [
    {
     "name": "stdout",
     "output_type": "stream",
     "text": [
      "Chr1 2940701 /nfs/scistore18/bartogrp/apal/snap_hap/Amajus_alleles-ancestral/pos/stitchRun1_Chr1.final.pos\n",
      "Chr2 3301920 /nfs/scistore18/bartogrp/apal/snap_hap/Amajus_alleles-ancestral/pos/stitchRun1_Chr2.final.pos\n",
      "Chr3 2600018 /nfs/scistore18/bartogrp/apal/snap_hap/Amajus_alleles-ancestral/pos/stitchRun1_Chr3.final.pos\n",
      "Chr4 2317799 /nfs/scistore18/bartogrp/apal/snap_hap/Amajus_alleles-ancestral/pos/stitchRun1_Chr4.final.pos\n",
      "Chr5 3277515 /nfs/scistore18/bartogrp/apal/snap_hap/Amajus_alleles-ancestral/pos/stitchRun1_Chr5.final.pos\n",
      "Chr6 2533823 /nfs/scistore18/bartogrp/apal/snap_hap/Amajus_alleles-ancestral/pos/stitchRun1_Chr6.final.pos\n",
      "Chr7 2358818 /nfs/scistore18/bartogrp/apal/snap_hap/Amajus_alleles-ancestral/pos/stitchRun1_Chr7.final.pos\n",
      "Chr8 2765149 /nfs/scistore18/bartogrp/apal/snap_hap/Amajus_alleles-ancestral/pos/stitchRun1_Chr8.final.pos\n"
     ]
    }
   ],
   "source": [
    "baseDIR='/nfs/scistore18/bartogrp/apal/snap_hap/Amajus_alleles-ancestral'\n",
    "stitchRun=stitchRun1\n",
    "for chrom in Chr{1..8}\n",
    "do\n",
    "    echo $chrom $(wc -l $baseDIR/pos/${stitchRun}_$chrom.final.pos)\n",
    "done"
   ]
  },
  {
   "cell_type": "markdown",
   "id": "c67b9a17-7e44-4238-9776-7af981c102af",
   "metadata": {
    "jp-MarkdownHeadingCollapsed": true
   },
   "source": [
    "### misc: old stuff now moved to STITCH postprocessing"
   ]
  },
  {
   "cell_type": "code",
   "execution_count": 3,
   "id": "a06067a9-96e8-43b1-9e1f-5b8f088f6783",
   "metadata": {},
   "outputs": [],
   "source": [
    "# ## Add AC-AN tags to the vcf file\n",
    "# for chrom in Chr{1..8}\n",
    "# do\n",
    "#     vcf=~/snap_hap/variants/stitch/${chrom}/Am_all_stitch_${chrom}_SnpGap5_biSNPs_filtered-DP_500-7732_QUAL20_MQ30.PL.vcf.gz\n",
    "#     echo -e '\\n' $chrom $vcf \"\\n\"    \n",
    "    \n",
    "#     bash ~/snap_hap/variants/statphase/_scripts/fill-AC-AN.sh $vcf\n",
    "# done"
   ]
  },
  {
   "cell_type": "code",
   "execution_count": 4,
   "id": "b125e7f2-9ae1-4f0b-ac2b-799c5b17478a",
   "metadata": {},
   "outputs": [],
   "source": [
    "# ## Get list of positions for each chromosome\n",
    "# for chrom in Chr{1..8}\n",
    "# do\n",
    "#     echo $chrom\n",
    "#     vcf=~/snap_hap/variants/stitch/${chrom}/Am_all_stitch_${chrom}_SnpGap5_biSNPs_filtered-DP_500-7732_QUAL20_MQ30.PL.vcf.gz\n",
    "#     time bcftools query -f '%CHROM\\t%POS\\t%REF\\t%ALT\\t%AN\\t%AC' $vcf > ${baseDIR}/pos/${chrom}.pos\n",
    "# done"
   ]
  }
 ],
 "metadata": {
  "kernelspec": {
   "display_name": "Bash",
   "language": "bash",
   "name": "bash"
  },
  "language_info": {
   "codemirror_mode": "shell",
   "file_extension": ".sh",
   "mimetype": "text/x-sh",
   "name": "bash"
  }
 },
 "nbformat": 4,
 "nbformat_minor": 5
}
