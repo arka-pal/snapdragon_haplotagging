{
 "cells": [
  {
   "cell_type": "markdown",
   "id": "5d4a724c-516c-4a14-97fc-eb2aec0adbd9",
   "metadata": {},
   "source": [
    "# Polarising A.majus alleles into ancestral/derived"
   ]
  },
  {
   "cell_type": "code",
   "execution_count": null,
   "id": "31be30a9-7682-4a77-8a18-64b38eeec2bb",
   "metadata": {},
   "outputs": [
    {
     "name": "stderr",
     "output_type": "stream",
     "text": [
      "── \u001b[1mAttaching core tidyverse packages\u001b[22m ──────────────────────── tidyverse 2.0.0 ──\n",
      "\u001b[32m✔\u001b[39m \u001b[34mdplyr    \u001b[39m 1.1.4     \u001b[32m✔\u001b[39m \u001b[34mreadr    \u001b[39m 2.1.5\n",
      "\u001b[32m✔\u001b[39m \u001b[34mforcats  \u001b[39m 1.0.0     \u001b[32m✔\u001b[39m \u001b[34mstringr  \u001b[39m 1.5.1\n",
      "\u001b[32m✔\u001b[39m \u001b[34mggplot2  \u001b[39m 3.5.0     \u001b[32m✔\u001b[39m \u001b[34mtibble   \u001b[39m 3.2.1\n",
      "\u001b[32m✔\u001b[39m \u001b[34mlubridate\u001b[39m 1.9.3     \u001b[32m✔\u001b[39m \u001b[34mtidyr    \u001b[39m 1.3.1\n",
      "\u001b[32m✔\u001b[39m \u001b[34mpurrr    \u001b[39m 1.0.2     \n",
      "── \u001b[1mConflicts\u001b[22m ────────────────────────────────────────── tidyverse_conflicts() ──\n",
      "\u001b[31m✖\u001b[39m \u001b[34mdplyr\u001b[39m::\u001b[32mbetween()\u001b[39m     masks \u001b[34mdata.table\u001b[39m::between()\n",
      "\u001b[31m✖\u001b[39m \u001b[34mdplyr\u001b[39m::\u001b[32mfilter()\u001b[39m      masks \u001b[34mstats\u001b[39m::filter()\n",
      "\u001b[31m✖\u001b[39m \u001b[34mdplyr\u001b[39m::\u001b[32mfirst()\u001b[39m       masks \u001b[34mdata.table\u001b[39m::first()\n",
      "\u001b[31m✖\u001b[39m \u001b[34mlubridate\u001b[39m::\u001b[32mhour()\u001b[39m    masks \u001b[34mdata.table\u001b[39m::hour()\n",
      "\u001b[31m✖\u001b[39m \u001b[34mlubridate\u001b[39m::\u001b[32misoweek()\u001b[39m masks \u001b[34mdata.table\u001b[39m::isoweek()\n",
      "\u001b[31m✖\u001b[39m \u001b[34mdplyr\u001b[39m::\u001b[32mlag()\u001b[39m         masks \u001b[34mstats\u001b[39m::lag()\n",
      "\u001b[31m✖\u001b[39m \u001b[34mdplyr\u001b[39m::\u001b[32mlast()\u001b[39m        masks \u001b[34mdata.table\u001b[39m::last()\n",
      "\u001b[31m✖\u001b[39m \u001b[34mlubridate\u001b[39m::\u001b[32mmday()\u001b[39m    masks \u001b[34mdata.table\u001b[39m::mday()\n",
      "\u001b[31m✖\u001b[39m \u001b[34mlubridate\u001b[39m::\u001b[32mminute()\u001b[39m  masks \u001b[34mdata.table\u001b[39m::minute()\n",
      "\u001b[31m✖\u001b[39m \u001b[34mlubridate\u001b[39m::\u001b[32mmonth()\u001b[39m   masks \u001b[34mdata.table\u001b[39m::month()\n",
      "\u001b[31m✖\u001b[39m \u001b[34mlubridate\u001b[39m::\u001b[32mquarter()\u001b[39m masks \u001b[34mdata.table\u001b[39m::quarter()\n",
      "\u001b[31m✖\u001b[39m \u001b[34mlubridate\u001b[39m::\u001b[32msecond()\u001b[39m  masks \u001b[34mdata.table\u001b[39m::second()\n",
      "\u001b[31m✖\u001b[39m \u001b[34mpurrr\u001b[39m::\u001b[32mtranspose()\u001b[39m   masks \u001b[34mdata.table\u001b[39m::transpose()\n",
      "\u001b[31m✖\u001b[39m \u001b[34mlubridate\u001b[39m::\u001b[32mwday()\u001b[39m    masks \u001b[34mdata.table\u001b[39m::wday()\n",
      "\u001b[31m✖\u001b[39m \u001b[34mlubridate\u001b[39m::\u001b[32mweek()\u001b[39m    masks \u001b[34mdata.table\u001b[39m::week()\n",
      "\u001b[31m✖\u001b[39m \u001b[34mlubridate\u001b[39m::\u001b[32myday()\u001b[39m    masks \u001b[34mdata.table\u001b[39m::yday()\n",
      "\u001b[31m✖\u001b[39m \u001b[34mlubridate\u001b[39m::\u001b[32myear()\u001b[39m    masks \u001b[34mdata.table\u001b[39m::year()\n",
      "\u001b[36mℹ\u001b[39m Use the conflicted package (\u001b[3m\u001b[34m<http://conflicted.r-lib.org/>\u001b[39m\u001b[23m) to force all conflicts to become errors\n",
      "\n",
      "Attaching package: ‘foreach’\n",
      "\n",
      "\n",
      "The following objects are masked from ‘package:purrr’:\n",
      "\n",
      "    accumulate, when\n",
      "\n",
      "\n",
      "\n",
      "Attaching package: ‘tictoc’\n",
      "\n",
      "\n"
     ]
    }
   ],
   "source": [
    "library(data.table)\n",
    "library(tidyverse)\n",
    "library(foreach)\n",
    "# library(doParallel)\n",
    "library(tictoc)\n",
    "\n",
    "source(\"~/snap_hap/Amajus_alleles-ancestral/_scripts/functions_polarisation.R\")"
   ]
  },
  {
   "cell_type": "markdown",
   "id": "09bf3785-93f3-4995-b5e8-801d080f1e24",
   "metadata": {},
   "source": [
    "## Process all chromosomes for A.majus and A.molle alleles\n",
    "Run in bash"
   ]
  },
  {
   "cell_type": "raw",
   "id": "3f15f82d-eceb-4e15-ac95-b9b6c88e7543",
   "metadata": {},
   "source": [
    "%bash\n",
    "module load R\n",
    "baseDIR=/nfs/scistore18/bartogrp/apal/snap_hap\n",
    "stitchRun=stitchRun1\n",
    "cd $baseDIR/Amajus_alleles-ancestral/\n",
    "\n",
    "for chrom in Chr{1..8}\n",
    "do\n",
    "    time Rscript ./_scripts/compareAlleles_bash.R $baseDIR $chrom $stitchRun ./alleleDat_chrom/alleleDat_${chrom}.csv\n",
    "done"
   ]
  },
  {
   "cell_type": "markdown",
   "id": "da51cfed-cdfe-4cd1-ad5a-7a9d930cb1a4",
   "metadata": {
    "jp-MarkdownHeadingCollapsed": true
   },
   "source": [
    "## A.molle poolseq read depth"
   ]
  },
  {
   "cell_type": "code",
   "execution_count": 23,
   "id": "b0a93032-256e-4194-81af-479f0169669c",
   "metadata": {},
   "outputs": [],
   "source": [
    "alleleDat = foreach(chrom = c(1:8), .combine = rbind) %do% {\n",
    "    file = file.path('~/snap_hap/Amajus_alleles-ancestral/alleleDat_chrom', paste0('alleleDat_Chr', chrom, '.csv'))\n",
    "    dat = fread('~/snap_hap/Amajus_alleles-ancestral/alleleDat_chrom/alleleDat_Chr1.csv', header=T)\n",
    "    dat\n",
    "}"
   ]
  },
  {
   "cell_type": "code",
   "execution_count": 24,
   "id": "904973ce-7fde-41ff-b230-c44936711efd",
   "metadata": {
    "collapsed": true,
    "jupyter": {
     "outputs_hidden": true
    },
    "scrolled": true
   },
   "outputs": [
    {
     "name": "stdout",
     "output_type": "stream",
     "text": [
      "Classes ‘data.table’ and 'data.frame':\t23525608 obs. of  31 variables:\n",
      " $ pos               : int  3817 3850 3873 3881 3917 3922 3946 3981 3992 3994 ...\n",
      " $ chrom             : chr  \"Chr1\" \"Chr1\" \"Chr1\" \"Chr1\" ...\n",
      " $ ref               : chr  \"C\" \"T\" \"T\" \"T\" ...\n",
      " $ alt               : chr  \"G\" \"C\" \"C\" \"C\" ...\n",
      " $ AN                : int  2146 2146 2148 2148 2148 2148 2148 2148 2148 2146 ...\n",
      " $ AC                : int  1651 1781 9 1 1174 1181 63 63 1331 711 ...\n",
      " $ pop1              : chr  \"0:0:0:0:0:0\" \"\" \"\" \"\" ...\n",
      " $ pop2              : chr  \"0:0:1:0:0:0\" \"\" \"\" \"\" ...\n",
      " $ pop3              : chr  \"0:0:0:0:0:0\" \"\" \"\" \"\" ...\n",
      " $ Amajus_refFreq    : num  0.231 0.17 0.996 1 0.453 ...\n",
      " $ Amajus_altFreq    : num  0.769338 0.829916 0.00419 0.000466 0.546555 ...\n",
      " $ Amajus_majFreq    : num  0.769 0.83 0.996 1 0.547 ...\n",
      " $ Amajus_majAllele  : chr  \"G\" \"C\" \"T\" \"T\" ...\n",
      " $ Amajus_minFreq    : num  0.230662 0.170084 0.00419 0.000466 0.453445 ...\n",
      " $ Amajus_minAllele  : chr  \"C\" \"T\" \"C\" \"C\" ...\n",
      " $ pool              : chr  \"0:0:1:0:0:0\" \"0:0:0:0:0:0\" \"0:0:0:0:0:0\" \"0:0:0:0:0:0\" ...\n",
      " $ pool_numAlleles   : int  1 0 0 0 0 0 0 0 0 0 ...\n",
      " $ pool_totalCounts  : int  1 0 0 0 0 0 0 0 0 0 ...\n",
      " $ pool_refCounts    : int  1 0 0 0 0 0 0 0 0 0 ...\n",
      " $ pool_altCounts    : int  0 0 0 0 0 0 0 0 0 0 ...\n",
      " $ pool_allele3Counts: int  0 0 0 0 0 0 0 0 0 0 ...\n",
      " $ pool_check        : int  0 0 0 0 0 0 0 0 0 0 ...\n",
      " $ pool_allele3      : chr  NA NA NA NA ...\n",
      " $ pool_alleleShared : chr  NA NA NA NA ...\n",
      " $ pool_missing      : int  0 1 1 1 1 1 1 1 1 1 ...\n",
      " $ pool_refFreq      : num  1 NA NA NA NA NA NA NA NA NA ...\n",
      " $ pool_altFreq      : num  0 NA NA NA NA NA NA NA NA NA ...\n",
      " $ pool_allele3Freq  : num  0 NA NA NA NA NA NA NA NA NA ...\n",
      " $ pool_minFreq      : num  0 NA NA NA NA NA NA NA NA NA ...\n",
      " $ pool_minAllele    : chr  \"G\" \"\" \"\" \"\" ...\n",
      " $ check_minAllele   : int  1 NA NA NA NA NA NA NA NA NA ...\n",
      " - attr(*, \".internal.selfref\")=<externalptr> \n"
     ]
    }
   ],
   "source": [
    "str(alleleDat)"
   ]
  },
  {
   "cell_type": "code",
   "execution_count": 26,
   "id": "1f3ce37a-23f4-43a9-a315-eba390792742",
   "metadata": {},
   "outputs": [
    {
     "name": "stdout",
     "output_type": "stream",
     "text": [
      "Read depth for poolseq data\n",
      "Mean: 83.96687 \n",
      "Median: 93"
     ]
    }
   ],
   "source": [
    "cat(\"Read depth for poolseq data\\n\")\n",
    "cat(\"Mean:\", mean(alleleDat$pool_totalCounts),'\\n')\n",
    "cat(\"Median:\", median(alleleDat$pool_totalCounts))"
   ]
  },
  {
   "cell_type": "code",
   "execution_count": 12,
   "id": "dda6ff85-7fff-4a84-8550-46e7d79ecf2f",
   "metadata": {},
   "outputs": [
    {
     "data": {
      "text/plain": [
       "   Min. 1st Qu.  Median    Mean 3rd Qu.    Max. \n",
       "   0.00   46.00   93.00   83.97  113.00 6822.00 "
      ]
     },
     "metadata": {},
     "output_type": "display_data"
    }
   ],
   "source": [
    "summary(alleleDat$pool_totalCounts)"
   ]
  },
  {
   "cell_type": "code",
   "execution_count": 38,
   "id": "cc7148dd-c26c-4020-a633-dc44dc9f0bf3",
   "metadata": {},
   "outputs": [
    {
     "name": "stderr",
     "output_type": "stream",
     "text": [
      "Warning message in xy.coords(x, y, xlabel, ylabel, log):\n",
      "“1 x value <= 0 omitted from logarithmic plot”\n"
     ]
    },
    {
     "data": {
      "image/png": "[encoded data removed]",
      "text/plain": [
       "Plot with title “”"
      ]
     },
     "metadata": {
      "image/png": {
       "height": 420,
       "width": 420
      }
     },
     "output_type": "display_data"
    }
   ],
   "source": [
    "plot(density(alleleDat$pool_totalCounts), main='', xlab='Read depth in A. molle', log='x', las=2)"
   ]
  },
  {
   "cell_type": "markdown",
   "id": "585096df-963f-4847-bd4b-70d45d891f31",
   "metadata": {},
   "source": [
    "## Count the no of sites with allele polarisation class"
   ]
  },
  {
   "cell_type": "markdown",
   "id": "baa6998e-aa99-439e-a288-8df344915f7a",
   "metadata": {},
   "source": [
    "### Chr1"
   ]
  },
  {
   "cell_type": "code",
   "execution_count": null,
   "id": "1ea200dd-9b6b-445b-a0df-441057386c91",
   "metadata": {},
   "outputs": [],
   "source": [
    "## Chr1\n",
    "alleleDat = fread('~/snap_hap/Amajus_alleles-ancestral/alleleDat_chrom/alleleDat_Chr1.csv', header=T)\n",
    "str(alleleDat)"
   ]
  },
  {
   "cell_type": "code",
   "execution_count": 6,
   "id": "91a65d00-e9a1-4a31-bb90-0d489000185b",
   "metadata": {},
   "outputs": [
    {
     "name": "stdout",
     "output_type": "stream",
     "text": [
      "\n",
      "Total no. of sites"
     ]
    },
    {
     "data": {
      "text/html": [
       "2940701"
      ],
      "text/latex": [
       "2940701"
      ],
      "text/markdown": [
       "2940701"
      ],
      "text/plain": [
       "[1] 2940701"
      ]
     },
     "metadata": {},
     "output_type": "display_data"
    },
    {
     "name": "stdout",
     "output_type": "stream",
     "text": [
      "\n",
      "Total no. of sites with no A.molle information"
     ]
    },
    {
     "data": {
      "text/html": [
       "148669"
      ],
      "text/latex": [
       "148669"
      ],
      "text/markdown": [
       "148669"
      ],
      "text/plain": [
       "[1] 148669"
      ]
     },
     "metadata": {},
     "output_type": "display_data"
    },
    {
     "name": "stdout",
     "output_type": "stream",
     "text": [
      "\n",
      "Total no. of sites with 1 A.molle allele"
     ]
    },
    {
     "data": {
      "text/html": [
       "1917602"
      ],
      "text/latex": [
       "1917602"
      ],
      "text/markdown": [
       "1917602"
      ],
      "text/plain": [
       "[1] 1917602"
      ]
     },
     "metadata": {},
     "output_type": "display_data"
    },
    {
     "data": {
      "text/html": [
       "7202"
      ],
      "text/latex": [
       "7202"
      ],
      "text/markdown": [
       "7202"
      ],
      "text/plain": [
       "[1] 7202"
      ]
     },
     "metadata": {},
     "output_type": "display_data"
    },
    {
     "data": {
      "text/html": [
       "1910400"
      ],
      "text/latex": [
       "1910400"
      ],
      "text/markdown": [
       "1910400"
      ],
      "text/plain": [
       "[1] 1910400"
      ]
     },
     "metadata": {},
     "output_type": "display_data"
    },
    {
     "data": {
      "text/html": [
       "1728987"
      ],
      "text/latex": [
       "1728987"
      ],
      "text/markdown": [
       "1728987"
      ],
      "text/plain": [
       "[1] 1728987"
      ]
     },
     "metadata": {},
     "output_type": "display_data"
    },
    {
     "data": {
      "text/html": [
       "181413"
      ],
      "text/latex": [
       "181413"
      ],
      "text/markdown": [
       "181413"
      ],
      "text/plain": [
       "[1] 181413"
      ]
     },
     "metadata": {},
     "output_type": "display_data"
    },
    {
     "name": "stdout",
     "output_type": "stream",
     "text": [
      "\n",
      "Total no. of sites with 2 A.molle alleles"
     ]
    },
    {
     "data": {
      "text/html": [
       "311"
      ],
      "text/latex": [
       "311"
      ],
      "text/markdown": [
       "311"
      ],
      "text/plain": [
       "[1] 311"
      ]
     },
     "metadata": {},
     "output_type": "display_data"
    },
    {
     "data": {
      "text/html": [
       "115508"
      ],
      "text/latex": [
       "115508"
      ],
      "text/markdown": [
       "115508"
      ],
      "text/plain": [
       "[1] 115508"
      ]
     },
     "metadata": {},
     "output_type": "display_data"
    },
    {
     "data": {
      "text/html": [
       "6140"
      ],
      "text/latex": [
       "6140"
      ],
      "text/markdown": [
       "6140"
      ],
      "text/plain": [
       "[1] 6140"
      ]
     },
     "metadata": {},
     "output_type": "display_data"
    },
    {
     "data": {
      "text/html": [
       "510521"
      ],
      "text/latex": [
       "510521"
      ],
      "text/markdown": [
       "510521"
      ],
      "text/plain": [
       "[1] 510521"
      ]
     },
     "metadata": {},
     "output_type": "display_data"
    },
    {
     "data": {
      "text/html": [
       "177937"
      ],
      "text/latex": [
       "177937"
      ],
      "text/markdown": [
       "177937"
      ],
      "text/plain": [
       "[1] 177937"
      ]
     },
     "metadata": {},
     "output_type": "display_data"
    },
    {
     "name": "stdout",
     "output_type": "stream",
     "text": [
      "\n",
      "Total no. of sites with 3 A.molle alleles"
     ]
    },
    {
     "data": {
      "text/html": [
       "7"
      ],
      "text/latex": [
       "7"
      ],
      "text/markdown": [
       "7"
      ],
      "text/plain": [
       "[1] 7"
      ]
     },
     "metadata": {},
     "output_type": "display_data"
    },
    {
     "data": {
      "text/html": [
       "4072"
      ],
      "text/latex": [
       "4072"
      ],
      "text/markdown": [
       "4072"
      ],
      "text/plain": [
       "[1] 4072"
      ]
     },
     "metadata": {},
     "output_type": "display_data"
    },
    {
     "data": {
      "text/html": [
       "0"
      ],
      "text/latex": [
       "0"
      ],
      "text/markdown": [
       "0"
      ],
      "text/plain": [
       "[1] 0"
      ]
     },
     "metadata": {},
     "output_type": "display_data"
    },
    {
     "data": {
      "text/html": [
       "18996"
      ],
      "text/latex": [
       "18996"
      ],
      "text/markdown": [
       "18996"
      ],
      "text/plain": [
       "[1] 18996"
      ]
     },
     "metadata": {},
     "output_type": "display_data"
    },
    {
     "data": {
      "text/html": [
       "38065"
      ],
      "text/latex": [
       "38065"
      ],
      "text/markdown": [
       "38065"
      ],
      "text/plain": [
       "[1] 38065"
      ]
     },
     "metadata": {},
     "output_type": "display_data"
    },
    {
     "name": "stdout",
     "output_type": "stream",
     "text": [
      "\n",
      "Total no. of sites with 4 A.molle alleles"
     ]
    },
    {
     "data": {
      "text/html": [
       "2776"
      ],
      "text/latex": [
       "2776"
      ],
      "text/markdown": [
       "2776"
      ],
      "text/plain": [
       "[1] 2776"
      ]
     },
     "metadata": {},
     "output_type": "display_data"
    },
    {
     "data": {
      "text/html": [
       "0"
      ],
      "text/latex": [
       "0"
      ],
      "text/markdown": [
       "0"
      ],
      "text/plain": [
       "[1] 0"
      ]
     },
     "metadata": {},
     "output_type": "display_data"
    },
    {
     "data": {
      "text/html": [
       "84"
      ],
      "text/latex": [
       "84"
      ],
      "text/markdown": [
       "84"
      ],
      "text/plain": [
       "[1] 84"
      ]
     },
     "metadata": {},
     "output_type": "display_data"
    },
    {
     "data": {
      "text/html": [
       "0"
      ],
      "text/latex": [
       "0"
      ],
      "text/markdown": [
       "0"
      ],
      "text/plain": [
       "[1] 0"
      ]
     },
     "metadata": {},
     "output_type": "display_data"
    },
    {
     "data": {
      "text/html": [
       "1299"
      ],
      "text/latex": [
       "1299"
      ],
      "text/markdown": [
       "1299"
      ],
      "text/plain": [
       "[1] 1299"
      ]
     },
     "metadata": {},
     "output_type": "display_data"
    },
    {
     "data": {
      "text/html": [
       "1393"
      ],
      "text/latex": [
       "1393"
      ],
      "text/markdown": [
       "1393"
      ],
      "text/plain": [
       "[1] 1393"
      ]
     },
     "metadata": {},
     "output_type": "display_data"
    },
    {
     "name": "stdout",
     "output_type": "stream",
     "text": [
      "\n",
      "Total no. of sites with >4 A.molle alleles"
     ]
    },
    {
     "data": {
      "text/html": [
       "97"
      ],
      "text/latex": [
       "97"
      ],
      "text/markdown": [
       "97"
      ],
      "text/plain": [
       "[1] 97"
      ]
     },
     "metadata": {},
     "output_type": "display_data"
    },
    {
     "data": {
      "text/html": [
       "0"
      ],
      "text/latex": [
       "0"
      ],
      "text/markdown": [
       "0"
      ],
      "text/plain": [
       "[1] 0"
      ]
     },
     "metadata": {},
     "output_type": "display_data"
    },
    {
     "data": {
      "text/html": [
       "0"
      ],
      "text/latex": [
       "0"
      ],
      "text/markdown": [
       "0"
      ],
      "text/plain": [
       "[1] 0"
      ]
     },
     "metadata": {},
     "output_type": "display_data"
    },
    {
     "data": {
      "text/html": [
       "0"
      ],
      "text/latex": [
       "0"
      ],
      "text/markdown": [
       "0"
      ],
      "text/plain": [
       "[1] 0"
      ]
     },
     "metadata": {},
     "output_type": "display_data"
    },
    {
     "data": {
      "text/html": [
       "50"
      ],
      "text/latex": [
       "50"
      ],
      "text/markdown": [
       "50"
      ],
      "text/plain": [
       "[1] 50"
      ]
     },
     "metadata": {},
     "output_type": "display_data"
    },
    {
     "data": {
      "text/html": [
       "47"
      ],
      "text/latex": [
       "47"
      ],
      "text/markdown": [
       "47"
      ],
      "text/plain": [
       "[1] 47"
      ]
     },
     "metadata": {},
     "output_type": "display_data"
    }
   ],
   "source": [
    "cat('\\nTotal no. of sites')\n",
    "nrow(alleleDat)\n",
    "\n",
    "#\n",
    "cat('\\nTotal no. of sites with no A.molle information')\n",
    "nrow(alleleDat[pool_numAlleles == 0])\n",
    "# nrow(alleleDat[pool_numAlleles != 0])\n",
    "\n",
    "#\n",
    "cat('\\nTotal no. of sites with 1 A.molle allele')\n",
    "nrow(alleleDat[pool_numAlleles == 1])\n",
    "nrow(alleleDat[pool_numAlleles == 1][pool_check == 1])\n",
    "nrow(alleleDat[pool_numAlleles == 1][pool_check == 0])\n",
    "nrow(alleleDat[pool_numAlleles == 1][pool_check == 0][check_minAllele == 0])\n",
    "nrow(alleleDat[pool_numAlleles == 1][pool_check == 0][check_minAllele == 1])\n",
    "\n",
    "#\n",
    "cat('\\nTotal no. of sites with 2 A.molle alleles')\n",
    "# nrow(alleleDat[pool_numAlleles == 2])\n",
    "nrow(alleleDat[pool_numAlleles == 2][pool_check == 1][pool_alleleShared == 'none'])\n",
    "nrow(alleleDat[pool_numAlleles == 2][pool_check == 1][pool_alleleShared != 'none'])\n",
    "nrow(alleleDat[pool_numAlleles == 2][pool_check == 0][pool_minFreq == 0.5])\n",
    "nrow(alleleDat[pool_numAlleles == 2][pool_check == 0][pool_minFreq != 0.5][check_minAllele == 0])\n",
    "nrow(alleleDat[pool_numAlleles == 2][pool_check == 0][pool_minFreq != 0.5][check_minAllele == 1])\n",
    "\n",
    "#\n",
    "cat('\\nTotal no. of sites with 3 A.molle alleles')\n",
    "# nrow(alleleDat[pool_numAlleles == 3])\n",
    "# nrow(alleleDat[pool_numAlleles == 3][pool_check == 0])\n",
    "nrow(alleleDat[pool_numAlleles == 3][pool_check == 1][pool_alleleShared == 'none'])\n",
    "nrow(alleleDat[pool_numAlleles == 3][pool_check == 1][pool_alleleShared %in% c('A','T','C','G')])\n",
    "nrow(alleleDat[pool_numAlleles == 3][pool_check == 1][!pool_alleleShared %in% c('A','T','C','G','none',NA)][pool_minFreq == 0.5])\n",
    "nrow(alleleDat[pool_numAlleles == 3][pool_check == 1][!pool_alleleShared %in% c('A','T','C','G','none',NA)][pool_minFreq != 0.5][check_minAllele == 0])\n",
    "nrow(alleleDat[pool_numAlleles == 3][pool_check == 1][!pool_alleleShared %in% c('A','T','C','G','none',NA)][pool_minFreq != 0.5][check_minAllele == 1])\n",
    "\n",
    "#\n",
    "cat('\\nTotal no. of sites with 4 A.molle alleles')\n",
    "nrow(alleleDat[pool_numAlleles == 4])\n",
    "# nrow(alleleDat[pool_numAlleles == 4][pool_check == 0])\n",
    "nrow(alleleDat[pool_numAlleles == 4][pool_check == 1][pool_alleleShared == 'none'])\n",
    "nrow(alleleDat[pool_numAlleles == 4][pool_check == 1][pool_alleleShared %in% c('A','T','C','G')])\n",
    "nrow(alleleDat[pool_numAlleles == 4][pool_check == 1][!pool_alleleShared %in% c('A','T','C','G','none',NA)][pool_minFreq == 0.5])\n",
    "nrow(alleleDat[pool_numAlleles == 4][pool_check == 1][!pool_alleleShared %in% c('A','T','C','G','none',NA)][pool_minFreq != 0.5][check_minAllele == 0])\n",
    "nrow(alleleDat[pool_numAlleles == 4][pool_check == 1][!pool_alleleShared %in% c('A','T','C','G','none',NA)][pool_minFreq != 0.5][check_minAllele == 1])\n",
    "\n",
    "#\n",
    "cat('\\nTotal no. of sites with >4 A.molle alleles')\n",
    "nrow(alleleDat[pool_numAlleles > 4])\n",
    "nrow(alleleDat[pool_numAlleles > 4][pool_check == 1][pool_alleleShared == 'none'])\n",
    "nrow(alleleDat[pool_numAlleles > 4][pool_check == 1][pool_alleleShared %in% c('A','T','C','G')])\n",
    "nrow(alleleDat[pool_numAlleles > 4][pool_check == 1][!pool_alleleShared %in% c('A','T','C','G','none',NA)][pool_minFreq == 0.5])\n",
    "nrow(alleleDat[pool_numAlleles > 4][pool_check == 1][!pool_alleleShared %in% c('A','T','C','G','none',NA)][pool_minFreq != 0.5][check_minAllele == 0])\n",
    "nrow(alleleDat[pool_numAlleles > 4][pool_check == 1][!pool_alleleShared %in% c('A','T','C','G','none',NA)][pool_minFreq != 0.5][check_minAllele == 1])"
   ]
  },
  {
   "cell_type": "markdown",
   "id": "ff9b6c8d-3313-4d07-96c7-bf41a7b0bdcc",
   "metadata": {
    "jp-MarkdownHeadingCollapsed": true
   },
   "source": [
    "### Chr2"
   ]
  },
  {
   "cell_type": "code",
   "execution_count": 7,
   "id": "3437d40d-fdd6-4364-a4ed-f683f4f1b066",
   "metadata": {},
   "outputs": [],
   "source": [
    "## Chr2\n",
    "alleleDat = fread('~/snap_hap/Amajus_alleles-ancestral/alleleDat_chrom/alleleDat_Chr2.csv', header=T)\n",
    "# str(alleleDat)"
   ]
  },
  {
   "cell_type": "code",
   "execution_count": 8,
   "id": "9bea6e2f-a63d-474b-9965-043d7b426410",
   "metadata": {
    "scrolled": true
   },
   "outputs": [
    {
     "name": "stdout",
     "output_type": "stream",
     "text": [
      "\n",
      "Total no. of sites"
     ]
    },
    {
     "data": {
      "text/html": [
       "3301920"
      ],
      "text/latex": [
       "3301920"
      ],
      "text/markdown": [
       "3301920"
      ],
      "text/plain": [
       "[1] 3301920"
      ]
     },
     "metadata": {},
     "output_type": "display_data"
    },
    {
     "name": "stdout",
     "output_type": "stream",
     "text": [
      "\n",
      "Total no. of sites with no A.molle information"
     ]
    },
    {
     "data": {
      "text/html": [
       "233086"
      ],
      "text/latex": [
       "233086"
      ],
      "text/markdown": [
       "233086"
      ],
      "text/plain": [
       "[1] 233086"
      ]
     },
     "metadata": {},
     "output_type": "display_data"
    },
    {
     "name": "stdout",
     "output_type": "stream",
     "text": [
      "\n",
      "Total no. of sites with 1 A.molle allele"
     ]
    },
    {
     "data": {
      "text/html": [
       "2160371"
      ],
      "text/latex": [
       "2160371"
      ],
      "text/markdown": [
       "2160371"
      ],
      "text/plain": [
       "[1] 2160371"
      ]
     },
     "metadata": {},
     "output_type": "display_data"
    },
    {
     "data": {
      "text/html": [
       "9682"
      ],
      "text/latex": [
       "9682"
      ],
      "text/markdown": [
       "9682"
      ],
      "text/plain": [
       "[1] 9682"
      ]
     },
     "metadata": {},
     "output_type": "display_data"
    },
    {
     "data": {
      "text/html": [
       "1915987"
      ],
      "text/latex": [
       "1915987"
      ],
      "text/markdown": [
       "1915987"
      ],
      "text/plain": [
       "[1] 1915987"
      ]
     },
     "metadata": {},
     "output_type": "display_data"
    },
    {
     "data": {
      "text/html": [
       "234702"
      ],
      "text/latex": [
       "234702"
      ],
      "text/markdown": [
       "234702"
      ],
      "text/plain": [
       "[1] 234702"
      ]
     },
     "metadata": {},
     "output_type": "display_data"
    },
    {
     "name": "stdout",
     "output_type": "stream",
     "text": [
      "\n",
      "Total no. of sites with 2 A.molle alleles"
     ]
    },
    {
     "data": {
      "text/html": [
       "838219"
      ],
      "text/latex": [
       "838219"
      ],
      "text/markdown": [
       "838219"
      ],
      "text/plain": [
       "[1] 838219"
      ]
     },
     "metadata": {},
     "output_type": "display_data"
    },
    {
     "data": {
      "text/html": [
       "436"
      ],
      "text/latex": [
       "436"
      ],
      "text/markdown": [
       "436"
      ],
      "text/plain": [
       "[1] 436"
      ]
     },
     "metadata": {},
     "output_type": "display_data"
    },
    {
     "data": {
      "text/html": [
       "134779"
      ],
      "text/latex": [
       "134779"
      ],
      "text/markdown": [
       "134779"
      ],
      "text/plain": [
       "[1] 134779"
      ]
     },
     "metadata": {},
     "output_type": "display_data"
    },
    {
     "data": {
      "text/html": [
       "7586"
      ],
      "text/latex": [
       "7586"
      ],
      "text/markdown": [
       "7586"
      ],
      "text/plain": [
       "[1] 7586"
      ]
     },
     "metadata": {},
     "output_type": "display_data"
    },
    {
     "data": {
      "text/html": [
       "526242"
      ],
      "text/latex": [
       "526242"
      ],
      "text/markdown": [
       "526242"
      ],
      "text/plain": [
       "[1] 526242"
      ]
     },
     "metadata": {},
     "output_type": "display_data"
    },
    {
     "data": {
      "text/html": [
       "169176"
      ],
      "text/latex": [
       "169176"
      ],
      "text/markdown": [
       "169176"
      ],
      "text/plain": [
       "[1] 169176"
      ]
     },
     "metadata": {},
     "output_type": "display_data"
    },
    {
     "name": "stdout",
     "output_type": "stream",
     "text": [
      "\n",
      "Total no. of sites with 3 A.molle alleles"
     ]
    },
    {
     "data": {
      "text/html": [
       "66824"
      ],
      "text/latex": [
       "66824"
      ],
      "text/markdown": [
       "66824"
      ],
      "text/plain": [
       "[1] 66824"
      ]
     },
     "metadata": {},
     "output_type": "display_data"
    },
    {
     "data": {
      "text/html": [
       "9"
      ],
      "text/latex": [
       "9"
      ],
      "text/markdown": [
       "9"
      ],
      "text/plain": [
       "[1] 9"
      ]
     },
     "metadata": {},
     "output_type": "display_data"
    },
    {
     "data": {
      "text/html": [
       "5111"
      ],
      "text/latex": [
       "5111"
      ],
      "text/markdown": [
       "5111"
      ],
      "text/plain": [
       "[1] 5111"
      ]
     },
     "metadata": {},
     "output_type": "display_data"
    },
    {
     "data": {
      "text/html": [
       "0"
      ],
      "text/latex": [
       "0"
      ],
      "text/markdown": [
       "0"
      ],
      "text/plain": [
       "[1] 0"
      ]
     },
     "metadata": {},
     "output_type": "display_data"
    },
    {
     "data": {
      "text/html": [
       "21156"
      ],
      "text/latex": [
       "21156"
      ],
      "text/markdown": [
       "21156"
      ],
      "text/plain": [
       "[1] 21156"
      ]
     },
     "metadata": {},
     "output_type": "display_data"
    },
    {
     "data": {
      "text/html": [
       "40548"
      ],
      "text/latex": [
       "40548"
      ],
      "text/markdown": [
       "40548"
      ],
      "text/plain": [
       "[1] 40548"
      ]
     },
     "metadata": {},
     "output_type": "display_data"
    },
    {
     "name": "stdout",
     "output_type": "stream",
     "text": [
      "\n",
      "Total no. of sites with 4 A.molle alleles"
     ]
    },
    {
     "data": {
      "text/html": [
       "3322"
      ],
      "text/latex": [
       "3322"
      ],
      "text/markdown": [
       "3322"
      ],
      "text/plain": [
       "[1] 3322"
      ]
     },
     "metadata": {},
     "output_type": "display_data"
    },
    {
     "data": {
      "text/html": [
       "0"
      ],
      "text/latex": [
       "0"
      ],
      "text/markdown": [
       "0"
      ],
      "text/plain": [
       "[1] 0"
      ]
     },
     "metadata": {},
     "output_type": "display_data"
    },
    {
     "data": {
      "text/html": [
       "90"
      ],
      "text/latex": [
       "90"
      ],
      "text/markdown": [
       "90"
      ],
      "text/plain": [
       "[1] 90"
      ]
     },
     "metadata": {},
     "output_type": "display_data"
    },
    {
     "data": {
      "text/html": [
       "0"
      ],
      "text/latex": [
       "0"
      ],
      "text/markdown": [
       "0"
      ],
      "text/plain": [
       "[1] 0"
      ]
     },
     "metadata": {},
     "output_type": "display_data"
    },
    {
     "data": {
      "text/html": [
       "1582"
      ],
      "text/latex": [
       "1582"
      ],
      "text/markdown": [
       "1582"
      ],
      "text/plain": [
       "[1] 1582"
      ]
     },
     "metadata": {},
     "output_type": "display_data"
    },
    {
     "data": {
      "text/html": [
       "1650"
      ],
      "text/latex": [
       "1650"
      ],
      "text/markdown": [
       "1650"
      ],
      "text/plain": [
       "[1] 1650"
      ]
     },
     "metadata": {},
     "output_type": "display_data"
    },
    {
     "name": "stdout",
     "output_type": "stream",
     "text": [
      "\n",
      "Total no. of sites with >4 A.molle alleles"
     ]
    },
    {
     "data": {
      "text/html": [
       "98"
      ],
      "text/latex": [
       "98"
      ],
      "text/markdown": [
       "98"
      ],
      "text/plain": [
       "[1] 98"
      ]
     },
     "metadata": {},
     "output_type": "display_data"
    },
    {
     "data": {
      "text/html": [
       "0"
      ],
      "text/latex": [
       "0"
      ],
      "text/markdown": [
       "0"
      ],
      "text/plain": [
       "[1] 0"
      ]
     },
     "metadata": {},
     "output_type": "display_data"
    },
    {
     "data": {
      "text/html": [
       "0"
      ],
      "text/latex": [
       "0"
      ],
      "text/markdown": [
       "0"
      ],
      "text/plain": [
       "[1] 0"
      ]
     },
     "metadata": {},
     "output_type": "display_data"
    },
    {
     "data": {
      "text/html": [
       "0"
      ],
      "text/latex": [
       "0"
      ],
      "text/markdown": [
       "0"
      ],
      "text/plain": [
       "[1] 0"
      ]
     },
     "metadata": {},
     "output_type": "display_data"
    },
    {
     "data": {
      "text/html": [
       "52"
      ],
      "text/latex": [
       "52"
      ],
      "text/markdown": [
       "52"
      ],
      "text/plain": [
       "[1] 52"
      ]
     },
     "metadata": {},
     "output_type": "display_data"
    },
    {
     "data": {
      "text/html": [
       "46"
      ],
      "text/latex": [
       "46"
      ],
      "text/markdown": [
       "46"
      ],
      "text/plain": [
       "[1] 46"
      ]
     },
     "metadata": {},
     "output_type": "display_data"
    }
   ],
   "source": [
    "cat('\\nTotal no. of sites')\n",
    "nrow(alleleDat)\n",
    "\n",
    "#\n",
    "cat('\\nTotal no. of sites with no A.molle information')\n",
    "nrow(alleleDat[pool_numAlleles == 0])\n",
    "# nrow(alleleDat[pool_numAlleles != 0])\n",
    "\n",
    "#\n",
    "cat('\\nTotal no. of sites with 1 A.molle allele')\n",
    "nrow(alleleDat[pool_numAlleles == 1])\n",
    "nrow(alleleDat[pool_numAlleles == 1][pool_check == 1])\n",
    "# nrow(alleleDat[pool_numAlleles == 1][pool_check == 0])\n",
    "nrow(alleleDat[pool_numAlleles == 1][pool_check == 0][check_minAllele == 0])\n",
    "nrow(alleleDat[pool_numAlleles == 1][pool_check == 0][check_minAllele == 1])\n",
    "\n",
    "#\n",
    "cat('\\nTotal no. of sites with 2 A.molle alleles')\n",
    "nrow(alleleDat[pool_numAlleles == 2])\n",
    "nrow(alleleDat[pool_numAlleles == 2][pool_check == 1][pool_alleleShared == 'none'])\n",
    "nrow(alleleDat[pool_numAlleles == 2][pool_check == 1][pool_alleleShared != 'none'])\n",
    "nrow(alleleDat[pool_numAlleles == 2][pool_check == 0][pool_minFreq == 0.5])\n",
    "nrow(alleleDat[pool_numAlleles == 2][pool_check == 0][pool_minFreq != 0.5][check_minAllele == 0])\n",
    "nrow(alleleDat[pool_numAlleles == 2][pool_check == 0][pool_minFreq != 0.5][check_minAllele == 1])\n",
    "\n",
    "#\n",
    "cat('\\nTotal no. of sites with 3 A.molle alleles')\n",
    "nrow(alleleDat[pool_numAlleles == 3])\n",
    "# nrow(alleleDat[pool_numAlleles == 3][pool_check == 0])\n",
    "nrow(alleleDat[pool_numAlleles == 3][pool_check == 1][pool_alleleShared == 'none'])\n",
    "nrow(alleleDat[pool_numAlleles == 3][pool_check == 1][pool_alleleShared %in% c('A','T','C','G')])\n",
    "nrow(alleleDat[pool_numAlleles == 3][pool_check == 1][!pool_alleleShared %in% c('A','T','C','G','none',NA)][pool_minFreq == 0.5])\n",
    "nrow(alleleDat[pool_numAlleles == 3][pool_check == 1][!pool_alleleShared %in% c('A','T','C','G','none',NA)][pool_minFreq != 0.5][check_minAllele == 0])\n",
    "nrow(alleleDat[pool_numAlleles == 3][pool_check == 1][!pool_alleleShared %in% c('A','T','C','G','none',NA)][pool_minFreq != 0.5][check_minAllele == 1])\n",
    "\n",
    "#\n",
    "cat('\\nTotal no. of sites with 4 A.molle alleles')\n",
    "nrow(alleleDat[pool_numAlleles == 4])\n",
    "# nrow(alleleDat[pool_numAlleles == 4][pool_check == 0])\n",
    "nrow(alleleDat[pool_numAlleles == 4][pool_check == 1][pool_alleleShared == 'none'])\n",
    "nrow(alleleDat[pool_numAlleles == 4][pool_check == 1][pool_alleleShared %in% c('A','T','C','G')])\n",
    "nrow(alleleDat[pool_numAlleles == 4][pool_check == 1][!pool_alleleShared %in% c('A','T','C','G','none',NA)][pool_minFreq == 0.5])\n",
    "nrow(alleleDat[pool_numAlleles == 4][pool_check == 1][!pool_alleleShared %in% c('A','T','C','G','none',NA)][pool_minFreq != 0.5][check_minAllele == 0])\n",
    "nrow(alleleDat[pool_numAlleles == 4][pool_check == 1][!pool_alleleShared %in% c('A','T','C','G','none',NA)][pool_minFreq != 0.5][check_minAllele == 1])\n",
    "\n",
    "#\n",
    "cat('\\nTotal no. of sites with >4 A.molle alleles')\n",
    "nrow(alleleDat[pool_numAlleles > 4])\n",
    "nrow(alleleDat[pool_numAlleles > 4][pool_check == 1][pool_alleleShared == 'none'])\n",
    "nrow(alleleDat[pool_numAlleles > 4][pool_check == 1][pool_alleleShared %in% c('A','T','C','G')])\n",
    "nrow(alleleDat[pool_numAlleles > 4][pool_check == 1][!pool_alleleShared %in% c('A','T','C','G','none',NA)][pool_minFreq == 0.5])\n",
    "nrow(alleleDat[pool_numAlleles > 4][pool_check == 1][!pool_alleleShared %in% c('A','T','C','G','none',NA)][pool_minFreq != 0.5][check_minAllele == 0])\n",
    "nrow(alleleDat[pool_numAlleles > 4][pool_check == 1][!pool_alleleShared %in% c('A','T','C','G','none',NA)][pool_minFreq != 0.5][check_minAllele == 1])\n"
   ]
  },
  {
   "cell_type": "markdown",
   "id": "31961396-205b-4e11-b43d-f4497a8f7efc",
   "metadata": {
    "jp-MarkdownHeadingCollapsed": true
   },
   "source": [
    "### Chr3"
   ]
  },
  {
   "cell_type": "code",
   "execution_count": 9,
   "id": "52c2650b-5216-4cce-ae12-6cd80d10c0b9",
   "metadata": {},
   "outputs": [],
   "source": [
    "## Chr3\n",
    "alleleDat = fread('~/snap_hap/Amajus_alleles-ancestral/alleleDat_chrom/alleleDat_Chr3.csv', header=T)\n",
    "# str(alleleDat)"
   ]
  },
  {
   "cell_type": "code",
   "execution_count": 10,
   "id": "59389978-c259-4a33-a9d7-cb501d8900a3",
   "metadata": {
    "scrolled": true
   },
   "outputs": [
    {
     "name": "stdout",
     "output_type": "stream",
     "text": [
      "\n",
      "Total no. of sites"
     ]
    },
    {
     "data": {
      "text/html": [
       "2600018"
      ],
      "text/latex": [
       "2600018"
      ],
      "text/markdown": [
       "2600018"
      ],
      "text/plain": [
       "[1] 2600018"
      ]
     },
     "metadata": {},
     "output_type": "display_data"
    },
    {
     "name": "stdout",
     "output_type": "stream",
     "text": [
      "\n",
      "Total no. of sites with no A.molle information"
     ]
    },
    {
     "data": {
      "text/html": [
       "118071"
      ],
      "text/latex": [
       "118071"
      ],
      "text/markdown": [
       "118071"
      ],
      "text/plain": [
       "[1] 118071"
      ]
     },
     "metadata": {},
     "output_type": "display_data"
    },
    {
     "name": "stdout",
     "output_type": "stream",
     "text": [
      "\n",
      "Total no. of sites with 1 A.molle allele"
     ]
    },
    {
     "data": {
      "text/html": [
       "1640546"
      ],
      "text/latex": [
       "1640546"
      ],
      "text/markdown": [
       "1640546"
      ],
      "text/plain": [
       "[1] 1640546"
      ]
     },
     "metadata": {},
     "output_type": "display_data"
    },
    {
     "data": {
      "text/html": [
       "4753"
      ],
      "text/latex": [
       "4753"
      ],
      "text/markdown": [
       "4753"
      ],
      "text/plain": [
       "[1] 4753"
      ]
     },
     "metadata": {},
     "output_type": "display_data"
    },
    {
     "data": {
      "text/html": [
       "1502857"
      ],
      "text/latex": [
       "1502857"
      ],
      "text/markdown": [
       "1502857"
      ],
      "text/plain": [
       "[1] 1502857"
      ]
     },
     "metadata": {},
     "output_type": "display_data"
    },
    {
     "data": {
      "text/html": [
       "132936"
      ],
      "text/latex": [
       "132936"
      ],
      "text/markdown": [
       "132936"
      ],
      "text/plain": [
       "[1] 132936"
      ]
     },
     "metadata": {},
     "output_type": "display_data"
    },
    {
     "name": "stdout",
     "output_type": "stream",
     "text": [
      "\n",
      "Total no. of sites with 2 A.molle alleles"
     ]
    },
    {
     "data": {
      "text/html": [
       "775669"
      ],
      "text/latex": [
       "775669"
      ],
      "text/markdown": [
       "775669"
      ],
      "text/plain": [
       "[1] 775669"
      ]
     },
     "metadata": {},
     "output_type": "display_data"
    },
    {
     "data": {
      "text/html": [
       "178"
      ],
      "text/latex": [
       "178"
      ],
      "text/markdown": [
       "178"
      ],
      "text/plain": [
       "[1] 178"
      ]
     },
     "metadata": {},
     "output_type": "display_data"
    },
    {
     "data": {
      "text/html": [
       "104746"
      ],
      "text/latex": [
       "104746"
      ],
      "text/markdown": [
       "104746"
      ],
      "text/plain": [
       "[1] 104746"
      ]
     },
     "metadata": {},
     "output_type": "display_data"
    },
    {
     "data": {
      "text/html": [
       "8284"
      ],
      "text/latex": [
       "8284"
      ],
      "text/markdown": [
       "8284"
      ],
      "text/plain": [
       "[1] 8284"
      ]
     },
     "metadata": {},
     "output_type": "display_data"
    },
    {
     "data": {
      "text/html": [
       "478647"
      ],
      "text/latex": [
       "478647"
      ],
      "text/markdown": [
       "478647"
      ],
      "text/plain": [
       "[1] 478647"
      ]
     },
     "metadata": {},
     "output_type": "display_data"
    },
    {
     "data": {
      "text/html": [
       "183814"
      ],
      "text/latex": [
       "183814"
      ],
      "text/markdown": [
       "183814"
      ],
      "text/plain": [
       "[1] 183814"
      ]
     },
     "metadata": {},
     "output_type": "display_data"
    },
    {
     "name": "stdout",
     "output_type": "stream",
     "text": [
      "\n",
      "Total no. of sites with 3 A.molle alleles"
     ]
    },
    {
     "data": {
      "text/html": [
       "62475"
      ],
      "text/latex": [
       "62475"
      ],
      "text/markdown": [
       "62475"
      ],
      "text/plain": [
       "[1] 62475"
      ]
     },
     "metadata": {},
     "output_type": "display_data"
    },
    {
     "data": {
      "text/html": [
       "9"
      ],
      "text/latex": [
       "9"
      ],
      "text/markdown": [
       "9"
      ],
      "text/plain": [
       "[1] 9"
      ]
     },
     "metadata": {},
     "output_type": "display_data"
    },
    {
     "data": {
      "text/html": [
       "4029"
      ],
      "text/latex": [
       "4029"
      ],
      "text/markdown": [
       "4029"
      ],
      "text/plain": [
       "[1] 4029"
      ]
     },
     "metadata": {},
     "output_type": "display_data"
    },
    {
     "data": {
      "text/html": [
       "0"
      ],
      "text/latex": [
       "0"
      ],
      "text/markdown": [
       "0"
      ],
      "text/plain": [
       "[1] 0"
      ]
     },
     "metadata": {},
     "output_type": "display_data"
    },
    {
     "data": {
      "text/html": [
       "20150"
      ],
      "text/latex": [
       "20150"
      ],
      "text/markdown": [
       "20150"
      ],
      "text/plain": [
       "[1] 20150"
      ]
     },
     "metadata": {},
     "output_type": "display_data"
    },
    {
     "data": {
      "text/html": [
       "38287"
      ],
      "text/latex": [
       "38287"
      ],
      "text/markdown": [
       "38287"
      ],
      "text/plain": [
       "[1] 38287"
      ]
     },
     "metadata": {},
     "output_type": "display_data"
    },
    {
     "name": "stdout",
     "output_type": "stream",
     "text": [
      "\n",
      "Total no. of sites with 4 A.molle alleles"
     ]
    },
    {
     "data": {
      "text/html": [
       "3159"
      ],
      "text/latex": [
       "3159"
      ],
      "text/markdown": [
       "3159"
      ],
      "text/plain": [
       "[1] 3159"
      ]
     },
     "metadata": {},
     "output_type": "display_data"
    },
    {
     "data": {
      "text/html": [
       "0"
      ],
      "text/latex": [
       "0"
      ],
      "text/markdown": [
       "0"
      ],
      "text/plain": [
       "[1] 0"
      ]
     },
     "metadata": {},
     "output_type": "display_data"
    },
    {
     "data": {
      "text/html": [
       "100"
      ],
      "text/latex": [
       "100"
      ],
      "text/markdown": [
       "100"
      ],
      "text/plain": [
       "[1] 100"
      ]
     },
     "metadata": {},
     "output_type": "display_data"
    },
    {
     "data": {
      "text/html": [
       "0"
      ],
      "text/latex": [
       "0"
      ],
      "text/markdown": [
       "0"
      ],
      "text/plain": [
       "[1] 0"
      ]
     },
     "metadata": {},
     "output_type": "display_data"
    },
    {
     "data": {
      "text/html": [
       "1530"
      ],
      "text/latex": [
       "1530"
      ],
      "text/markdown": [
       "1530"
      ],
      "text/plain": [
       "[1] 1530"
      ]
     },
     "metadata": {},
     "output_type": "display_data"
    },
    {
     "data": {
      "text/html": [
       "1529"
      ],
      "text/latex": [
       "1529"
      ],
      "text/markdown": [
       "1529"
      ],
      "text/plain": [
       "[1] 1529"
      ]
     },
     "metadata": {},
     "output_type": "display_data"
    },
    {
     "name": "stdout",
     "output_type": "stream",
     "text": [
      "\n",
      "Total no. of sites with >4 A.molle alleles"
     ]
    },
    {
     "data": {
      "text/html": [
       "98"
      ],
      "text/latex": [
       "98"
      ],
      "text/markdown": [
       "98"
      ],
      "text/plain": [
       "[1] 98"
      ]
     },
     "metadata": {},
     "output_type": "display_data"
    },
    {
     "data": {
      "text/html": [
       "0"
      ],
      "text/latex": [
       "0"
      ],
      "text/markdown": [
       "0"
      ],
      "text/plain": [
       "[1] 0"
      ]
     },
     "metadata": {},
     "output_type": "display_data"
    },
    {
     "data": {
      "text/html": [
       "0"
      ],
      "text/latex": [
       "0"
      ],
      "text/markdown": [
       "0"
      ],
      "text/plain": [
       "[1] 0"
      ]
     },
     "metadata": {},
     "output_type": "display_data"
    },
    {
     "data": {
      "text/html": [
       "0"
      ],
      "text/latex": [
       "0"
      ],
      "text/markdown": [
       "0"
      ],
      "text/plain": [
       "[1] 0"
      ]
     },
     "metadata": {},
     "output_type": "display_data"
    },
    {
     "data": {
      "text/html": [
       "55"
      ],
      "text/latex": [
       "55"
      ],
      "text/markdown": [
       "55"
      ],
      "text/plain": [
       "[1] 55"
      ]
     },
     "metadata": {},
     "output_type": "display_data"
    },
    {
     "data": {
      "text/html": [
       "43"
      ],
      "text/latex": [
       "43"
      ],
      "text/markdown": [
       "43"
      ],
      "text/plain": [
       "[1] 43"
      ]
     },
     "metadata": {},
     "output_type": "display_data"
    }
   ],
   "source": [
    "cat('\\nTotal no. of sites')\n",
    "nrow(alleleDat)\n",
    "\n",
    "#\n",
    "cat('\\nTotal no. of sites with no A.molle information')\n",
    "nrow(alleleDat[pool_numAlleles == 0])\n",
    "# nrow(alleleDat[pool_numAlleles != 0])\n",
    "\n",
    "#\n",
    "cat('\\nTotal no. of sites with 1 A.molle allele')\n",
    "nrow(alleleDat[pool_numAlleles == 1])\n",
    "nrow(alleleDat[pool_numAlleles == 1][pool_check == 1])\n",
    "# nrow(alleleDat[pool_numAlleles == 1][pool_check == 0])\n",
    "nrow(alleleDat[pool_numAlleles == 1][pool_check == 0][check_minAllele == 0])\n",
    "nrow(alleleDat[pool_numAlleles == 1][pool_check == 0][check_minAllele == 1])\n",
    "\n",
    "#\n",
    "cat('\\nTotal no. of sites with 2 A.molle alleles')\n",
    "nrow(alleleDat[pool_numAlleles == 2])\n",
    "nrow(alleleDat[pool_numAlleles == 2][pool_check == 1][pool_alleleShared == 'none'])\n",
    "nrow(alleleDat[pool_numAlleles == 2][pool_check == 1][pool_alleleShared != 'none'])\n",
    "nrow(alleleDat[pool_numAlleles == 2][pool_check == 0][pool_minFreq == 0.5])\n",
    "nrow(alleleDat[pool_numAlleles == 2][pool_check == 0][pool_minFreq != 0.5][check_minAllele == 0])\n",
    "nrow(alleleDat[pool_numAlleles == 2][pool_check == 0][pool_minFreq != 0.5][check_minAllele == 1])\n",
    "\n",
    "#\n",
    "cat('\\nTotal no. of sites with 3 A.molle alleles')\n",
    "nrow(alleleDat[pool_numAlleles == 3])\n",
    "# nrow(alleleDat[pool_numAlleles == 3][pool_check == 0])\n",
    "nrow(alleleDat[pool_numAlleles == 3][pool_check == 1][pool_alleleShared == 'none'])\n",
    "nrow(alleleDat[pool_numAlleles == 3][pool_check == 1][pool_alleleShared %in% c('A','T','C','G')])\n",
    "nrow(alleleDat[pool_numAlleles == 3][pool_check == 1][!pool_alleleShared %in% c('A','T','C','G','none',NA)][pool_minFreq == 0.5])\n",
    "nrow(alleleDat[pool_numAlleles == 3][pool_check == 1][!pool_alleleShared %in% c('A','T','C','G','none',NA)][pool_minFreq != 0.5][check_minAllele == 0])\n",
    "nrow(alleleDat[pool_numAlleles == 3][pool_check == 1][!pool_alleleShared %in% c('A','T','C','G','none',NA)][pool_minFreq != 0.5][check_minAllele == 1])\n",
    "\n",
    "#\n",
    "cat('\\nTotal no. of sites with 4 A.molle alleles')\n",
    "nrow(alleleDat[pool_numAlleles == 4])\n",
    "# nrow(alleleDat[pool_numAlleles == 4][pool_check == 0])\n",
    "nrow(alleleDat[pool_numAlleles == 4][pool_check == 1][pool_alleleShared == 'none'])\n",
    "nrow(alleleDat[pool_numAlleles == 4][pool_check == 1][pool_alleleShared %in% c('A','T','C','G')])\n",
    "nrow(alleleDat[pool_numAlleles == 4][pool_check == 1][!pool_alleleShared %in% c('A','T','C','G','none',NA)][pool_minFreq == 0.5])\n",
    "nrow(alleleDat[pool_numAlleles == 4][pool_check == 1][!pool_alleleShared %in% c('A','T','C','G','none',NA)][pool_minFreq != 0.5][check_minAllele == 0])\n",
    "nrow(alleleDat[pool_numAlleles == 4][pool_check == 1][!pool_alleleShared %in% c('A','T','C','G','none',NA)][pool_minFreq != 0.5][check_minAllele == 1])\n",
    "\n",
    "#\n",
    "cat('\\nTotal no. of sites with >4 A.molle alleles')\n",
    "nrow(alleleDat[pool_numAlleles > 4])\n",
    "nrow(alleleDat[pool_numAlleles > 4][pool_check == 1][pool_alleleShared == 'none'])\n",
    "nrow(alleleDat[pool_numAlleles > 4][pool_check == 1][pool_alleleShared %in% c('A','T','C','G')])\n",
    "nrow(alleleDat[pool_numAlleles > 4][pool_check == 1][!pool_alleleShared %in% c('A','T','C','G','none',NA)][pool_minFreq == 0.5])\n",
    "nrow(alleleDat[pool_numAlleles > 4][pool_check == 1][!pool_alleleShared %in% c('A','T','C','G','none',NA)][pool_minFreq != 0.5][check_minAllele == 0])\n",
    "nrow(alleleDat[pool_numAlleles > 4][pool_check == 1][!pool_alleleShared %in% c('A','T','C','G','none',NA)][pool_minFreq != 0.5][check_minAllele == 1])\n"
   ]
  },
  {
   "cell_type": "markdown",
   "id": "1ff41ac3-cbef-468f-941b-22d85d19eba3",
   "metadata": {
    "jp-MarkdownHeadingCollapsed": true
   },
   "source": [
    "### Chr4"
   ]
  },
  {
   "cell_type": "code",
   "execution_count": 11,
   "id": "02f4f682-fad9-409c-a77d-41e853cfefef",
   "metadata": {},
   "outputs": [],
   "source": [
    "## Chr4\n",
    "alleleDat = fread('~/snap_hap/Amajus_alleles-ancestral/alleleDat_chrom/alleleDat_Chr4.csv', header=T)\n",
    "# str(alleleDat)"
   ]
  },
  {
   "cell_type": "code",
   "execution_count": 12,
   "id": "2bb9a8da-a14f-4ce9-8031-2d73213fd5ee",
   "metadata": {
    "scrolled": true
   },
   "outputs": [
    {
     "name": "stdout",
     "output_type": "stream",
     "text": [
      "\n",
      "Total no. of sites"
     ]
    },
    {
     "data": {
      "text/html": [
       "2317799"
      ],
      "text/latex": [
       "2317799"
      ],
      "text/markdown": [
       "2317799"
      ],
      "text/plain": [
       "[1] 2317799"
      ]
     },
     "metadata": {},
     "output_type": "display_data"
    },
    {
     "name": "stdout",
     "output_type": "stream",
     "text": [
      "\n",
      "Total no. of sites with no A.molle information"
     ]
    },
    {
     "data": {
      "text/html": [
       "188953"
      ],
      "text/latex": [
       "188953"
      ],
      "text/markdown": [
       "188953"
      ],
      "text/plain": [
       "[1] 188953"
      ]
     },
     "metadata": {},
     "output_type": "display_data"
    },
    {
     "name": "stdout",
     "output_type": "stream",
     "text": [
      "\n",
      "Total no. of sites with 1 A.molle allele"
     ]
    },
    {
     "data": {
      "text/html": [
       "1505355"
      ],
      "text/latex": [
       "1505355"
      ],
      "text/markdown": [
       "1505355"
      ],
      "text/plain": [
       "[1] 1505355"
      ]
     },
     "metadata": {},
     "output_type": "display_data"
    },
    {
     "data": {
      "text/html": [
       "6717"
      ],
      "text/latex": [
       "6717"
      ],
      "text/markdown": [
       "6717"
      ],
      "text/plain": [
       "[1] 6717"
      ]
     },
     "metadata": {},
     "output_type": "display_data"
    },
    {
     "data": {
      "text/html": [
       "1366538"
      ],
      "text/latex": [
       "1366538"
      ],
      "text/markdown": [
       "1366538"
      ],
      "text/plain": [
       "[1] 1366538"
      ]
     },
     "metadata": {},
     "output_type": "display_data"
    },
    {
     "data": {
      "text/html": [
       "132100"
      ],
      "text/latex": [
       "132100"
      ],
      "text/markdown": [
       "132100"
      ],
      "text/plain": [
       "[1] 132100"
      ]
     },
     "metadata": {},
     "output_type": "display_data"
    },
    {
     "name": "stdout",
     "output_type": "stream",
     "text": [
      "\n",
      "Total no. of sites with 2 A.molle alleles"
     ]
    },
    {
     "data": {
      "text/html": [
       "575569"
      ],
      "text/latex": [
       "575569"
      ],
      "text/markdown": [
       "575569"
      ],
      "text/plain": [
       "[1] 575569"
      ]
     },
     "metadata": {},
     "output_type": "display_data"
    },
    {
     "data": {
      "text/html": [
       "279"
      ],
      "text/latex": [
       "279"
      ],
      "text/markdown": [
       "279"
      ],
      "text/plain": [
       "[1] 279"
      ]
     },
     "metadata": {},
     "output_type": "display_data"
    },
    {
     "data": {
      "text/html": [
       "90411"
      ],
      "text/latex": [
       "90411"
      ],
      "text/markdown": [
       "90411"
      ],
      "text/plain": [
       "[1] 90411"
      ]
     },
     "metadata": {},
     "output_type": "display_data"
    },
    {
     "data": {
      "text/html": [
       "5568"
      ],
      "text/latex": [
       "5568"
      ],
      "text/markdown": [
       "5568"
      ],
      "text/plain": [
       "[1] 5568"
      ]
     },
     "metadata": {},
     "output_type": "display_data"
    },
    {
     "data": {
      "text/html": [
       "352384"
      ],
      "text/latex": [
       "352384"
      ],
      "text/markdown": [
       "352384"
      ],
      "text/plain": [
       "[1] 352384"
      ]
     },
     "metadata": {},
     "output_type": "display_data"
    },
    {
     "data": {
      "text/html": [
       "126927"
      ],
      "text/latex": [
       "126927"
      ],
      "text/markdown": [
       "126927"
      ],
      "text/plain": [
       "[1] 126927"
      ]
     },
     "metadata": {},
     "output_type": "display_data"
    },
    {
     "name": "stdout",
     "output_type": "stream",
     "text": [
      "\n",
      "Total no. of sites with 3 A.molle alleles"
     ]
    },
    {
     "data": {
      "text/html": [
       "45533"
      ],
      "text/latex": [
       "45533"
      ],
      "text/markdown": [
       "45533"
      ],
      "text/plain": [
       "[1] 45533"
      ]
     },
     "metadata": {},
     "output_type": "display_data"
    },
    {
     "data": {
      "text/html": [
       "2"
      ],
      "text/latex": [
       "2"
      ],
      "text/markdown": [
       "2"
      ],
      "text/plain": [
       "[1] 2"
      ]
     },
     "metadata": {},
     "output_type": "display_data"
    },
    {
     "data": {
      "text/html": [
       "3430"
      ],
      "text/latex": [
       "3430"
      ],
      "text/markdown": [
       "3430"
      ],
      "text/plain": [
       "[1] 3430"
      ]
     },
     "metadata": {},
     "output_type": "display_data"
    },
    {
     "data": {
      "text/html": [
       "0"
      ],
      "text/latex": [
       "0"
      ],
      "text/markdown": [
       "0"
      ],
      "text/plain": [
       "[1] 0"
      ]
     },
     "metadata": {},
     "output_type": "display_data"
    },
    {
     "data": {
      "text/html": [
       "13903"
      ],
      "text/latex": [
       "13903"
      ],
      "text/markdown": [
       "13903"
      ],
      "text/plain": [
       "[1] 13903"
      ]
     },
     "metadata": {},
     "output_type": "display_data"
    },
    {
     "data": {
      "text/html": [
       "28198"
      ],
      "text/latex": [
       "28198"
      ],
      "text/markdown": [
       "28198"
      ],
      "text/plain": [
       "[1] 28198"
      ]
     },
     "metadata": {},
     "output_type": "display_data"
    },
    {
     "name": "stdout",
     "output_type": "stream",
     "text": [
      "\n",
      "Total no. of sites with 4 A.molle alleles"
     ]
    },
    {
     "data": {
      "text/html": [
       "2305"
      ],
      "text/latex": [
       "2305"
      ],
      "text/markdown": [
       "2305"
      ],
      "text/plain": [
       "[1] 2305"
      ]
     },
     "metadata": {},
     "output_type": "display_data"
    },
    {
     "data": {
      "text/html": [
       "0"
      ],
      "text/latex": [
       "0"
      ],
      "text/markdown": [
       "0"
      ],
      "text/plain": [
       "[1] 0"
      ]
     },
     "metadata": {},
     "output_type": "display_data"
    },
    {
     "data": {
      "text/html": [
       "76"
      ],
      "text/latex": [
       "76"
      ],
      "text/markdown": [
       "76"
      ],
      "text/plain": [
       "[1] 76"
      ]
     },
     "metadata": {},
     "output_type": "display_data"
    },
    {
     "data": {
      "text/html": [
       "0"
      ],
      "text/latex": [
       "0"
      ],
      "text/markdown": [
       "0"
      ],
      "text/plain": [
       "[1] 0"
      ]
     },
     "metadata": {},
     "output_type": "display_data"
    },
    {
     "data": {
      "text/html": [
       "1071"
      ],
      "text/latex": [
       "1071"
      ],
      "text/markdown": [
       "1071"
      ],
      "text/plain": [
       "[1] 1071"
      ]
     },
     "metadata": {},
     "output_type": "display_data"
    },
    {
     "data": {
      "text/html": [
       "1158"
      ],
      "text/latex": [
       "1158"
      ],
      "text/markdown": [
       "1158"
      ],
      "text/plain": [
       "[1] 1158"
      ]
     },
     "metadata": {},
     "output_type": "display_data"
    },
    {
     "name": "stdout",
     "output_type": "stream",
     "text": [
      "\n",
      "Total no. of sites with >4 A.molle alleles"
     ]
    },
    {
     "data": {
      "text/html": [
       "84"
      ],
      "text/latex": [
       "84"
      ],
      "text/markdown": [
       "84"
      ],
      "text/plain": [
       "[1] 84"
      ]
     },
     "metadata": {},
     "output_type": "display_data"
    },
    {
     "data": {
      "text/html": [
       "0"
      ],
      "text/latex": [
       "0"
      ],
      "text/markdown": [
       "0"
      ],
      "text/plain": [
       "[1] 0"
      ]
     },
     "metadata": {},
     "output_type": "display_data"
    },
    {
     "data": {
      "text/html": [
       "0"
      ],
      "text/latex": [
       "0"
      ],
      "text/markdown": [
       "0"
      ],
      "text/plain": [
       "[1] 0"
      ]
     },
     "metadata": {},
     "output_type": "display_data"
    },
    {
     "data": {
      "text/html": [
       "0"
      ],
      "text/latex": [
       "0"
      ],
      "text/markdown": [
       "0"
      ],
      "text/plain": [
       "[1] 0"
      ]
     },
     "metadata": {},
     "output_type": "display_data"
    },
    {
     "data": {
      "text/html": [
       "48"
      ],
      "text/latex": [
       "48"
      ],
      "text/markdown": [
       "48"
      ],
      "text/plain": [
       "[1] 48"
      ]
     },
     "metadata": {},
     "output_type": "display_data"
    },
    {
     "data": {
      "text/html": [
       "36"
      ],
      "text/latex": [
       "36"
      ],
      "text/markdown": [
       "36"
      ],
      "text/plain": [
       "[1] 36"
      ]
     },
     "metadata": {},
     "output_type": "display_data"
    }
   ],
   "source": [
    "cat('\\nTotal no. of sites')\n",
    "nrow(alleleDat)\n",
    "\n",
    "#\n",
    "cat('\\nTotal no. of sites with no A.molle information')\n",
    "nrow(alleleDat[pool_numAlleles == 0])\n",
    "# nrow(alleleDat[pool_numAlleles != 0])\n",
    "\n",
    "#\n",
    "cat('\\nTotal no. of sites with 1 A.molle allele')\n",
    "nrow(alleleDat[pool_numAlleles == 1])\n",
    "nrow(alleleDat[pool_numAlleles == 1][pool_check == 1])\n",
    "# nrow(alleleDat[pool_numAlleles == 1][pool_check == 0])\n",
    "nrow(alleleDat[pool_numAlleles == 1][pool_check == 0][check_minAllele == 0])\n",
    "nrow(alleleDat[pool_numAlleles == 1][pool_check == 0][check_minAllele == 1])\n",
    "\n",
    "#\n",
    "cat('\\nTotal no. of sites with 2 A.molle alleles')\n",
    "nrow(alleleDat[pool_numAlleles == 2])\n",
    "nrow(alleleDat[pool_numAlleles == 2][pool_check == 1][pool_alleleShared == 'none'])\n",
    "nrow(alleleDat[pool_numAlleles == 2][pool_check == 1][pool_alleleShared != 'none'])\n",
    "nrow(alleleDat[pool_numAlleles == 2][pool_check == 0][pool_minFreq == 0.5])\n",
    "nrow(alleleDat[pool_numAlleles == 2][pool_check == 0][pool_minFreq != 0.5][check_minAllele == 0])\n",
    "nrow(alleleDat[pool_numAlleles == 2][pool_check == 0][pool_minFreq != 0.5][check_minAllele == 1])\n",
    "\n",
    "#\n",
    "cat('\\nTotal no. of sites with 3 A.molle alleles')\n",
    "nrow(alleleDat[pool_numAlleles == 3])\n",
    "# nrow(alleleDat[pool_numAlleles == 3][pool_check == 0])\n",
    "nrow(alleleDat[pool_numAlleles == 3][pool_check == 1][pool_alleleShared == 'none'])\n",
    "nrow(alleleDat[pool_numAlleles == 3][pool_check == 1][pool_alleleShared %in% c('A','T','C','G')])\n",
    "nrow(alleleDat[pool_numAlleles == 3][pool_check == 1][!pool_alleleShared %in% c('A','T','C','G','none',NA)][pool_minFreq == 0.5])\n",
    "nrow(alleleDat[pool_numAlleles == 3][pool_check == 1][!pool_alleleShared %in% c('A','T','C','G','none',NA)][pool_minFreq != 0.5][check_minAllele == 0])\n",
    "nrow(alleleDat[pool_numAlleles == 3][pool_check == 1][!pool_alleleShared %in% c('A','T','C','G','none',NA)][pool_minFreq != 0.5][check_minAllele == 1])\n",
    "\n",
    "#\n",
    "cat('\\nTotal no. of sites with 4 A.molle alleles')\n",
    "nrow(alleleDat[pool_numAlleles == 4])\n",
    "# nrow(alleleDat[pool_numAlleles == 4][pool_check == 0])\n",
    "nrow(alleleDat[pool_numAlleles == 4][pool_check == 1][pool_alleleShared == 'none'])\n",
    "nrow(alleleDat[pool_numAlleles == 4][pool_check == 1][pool_alleleShared %in% c('A','T','C','G')])\n",
    "nrow(alleleDat[pool_numAlleles == 4][pool_check == 1][!pool_alleleShared %in% c('A','T','C','G','none',NA)][pool_minFreq == 0.5])\n",
    "nrow(alleleDat[pool_numAlleles == 4][pool_check == 1][!pool_alleleShared %in% c('A','T','C','G','none',NA)][pool_minFreq != 0.5][check_minAllele == 0])\n",
    "nrow(alleleDat[pool_numAlleles == 4][pool_check == 1][!pool_alleleShared %in% c('A','T','C','G','none',NA)][pool_minFreq != 0.5][check_minAllele == 1])\n",
    "\n",
    "#\n",
    "cat('\\nTotal no. of sites with >4 A.molle alleles')\n",
    "nrow(alleleDat[pool_numAlleles > 4])\n",
    "nrow(alleleDat[pool_numAlleles > 4][pool_check == 1][pool_alleleShared == 'none'])\n",
    "nrow(alleleDat[pool_numAlleles > 4][pool_check == 1][pool_alleleShared %in% c('A','T','C','G')])\n",
    "nrow(alleleDat[pool_numAlleles > 4][pool_check == 1][!pool_alleleShared %in% c('A','T','C','G','none',NA)][pool_minFreq == 0.5])\n",
    "nrow(alleleDat[pool_numAlleles > 4][pool_check == 1][!pool_alleleShared %in% c('A','T','C','G','none',NA)][pool_minFreq != 0.5][check_minAllele == 0])\n",
    "nrow(alleleDat[pool_numAlleles > 4][pool_check == 1][!pool_alleleShared %in% c('A','T','C','G','none',NA)][pool_minFreq != 0.5][check_minAllele == 1])\n"
   ]
  },
  {
   "cell_type": "markdown",
   "id": "43393af7-5999-4eaa-824d-e2820a73c061",
   "metadata": {
    "jp-MarkdownHeadingCollapsed": true
   },
   "source": [
    "### Chr5"
   ]
  },
  {
   "cell_type": "code",
   "execution_count": 13,
   "id": "75092df4-a3ce-4d4c-970d-c6117fc98f95",
   "metadata": {},
   "outputs": [],
   "source": [
    "## Chr5\n",
    "alleleDat = fread('~/snap_hap/Amajus_alleles-ancestral/alleleDat_chrom/alleleDat_Chr5.csv', header=T)\n",
    "# str(alleleDat)"
   ]
  },
  {
   "cell_type": "code",
   "execution_count": 14,
   "id": "34179d65-11bf-4582-89d2-f1eaeb50f6b2",
   "metadata": {
    "scrolled": true
   },
   "outputs": [
    {
     "name": "stdout",
     "output_type": "stream",
     "text": [
      "\n",
      "Total no. of sites"
     ]
    },
    {
     "data": {
      "text/html": [
       "3277515"
      ],
      "text/latex": [
       "3277515"
      ],
      "text/markdown": [
       "3277515"
      ],
      "text/plain": [
       "[1] 3277515"
      ]
     },
     "metadata": {},
     "output_type": "display_data"
    },
    {
     "name": "stdout",
     "output_type": "stream",
     "text": [
      "\n",
      "Total no. of sites with no A.molle information"
     ]
    },
    {
     "data": {
      "text/html": [
       "180041"
      ],
      "text/latex": [
       "180041"
      ],
      "text/markdown": [
       "180041"
      ],
      "text/plain": [
       "[1] 180041"
      ]
     },
     "metadata": {},
     "output_type": "display_data"
    },
    {
     "name": "stdout",
     "output_type": "stream",
     "text": [
      "\n",
      "Total no. of sites with 1 A.molle allele"
     ]
    },
    {
     "data": {
      "text/html": [
       "2070153"
      ],
      "text/latex": [
       "2070153"
      ],
      "text/markdown": [
       "2070153"
      ],
      "text/plain": [
       "[1] 2070153"
      ]
     },
     "metadata": {},
     "output_type": "display_data"
    },
    {
     "data": {
      "text/html": [
       "5433"
      ],
      "text/latex": [
       "5433"
      ],
      "text/markdown": [
       "5433"
      ],
      "text/plain": [
       "[1] 5433"
      ]
     },
     "metadata": {},
     "output_type": "display_data"
    },
    {
     "data": {
      "text/html": [
       "1910641"
      ],
      "text/latex": [
       "1910641"
      ],
      "text/markdown": [
       "1910641"
      ],
      "text/plain": [
       "[1] 1910641"
      ]
     },
     "metadata": {},
     "output_type": "display_data"
    },
    {
     "data": {
      "text/html": [
       "154079"
      ],
      "text/latex": [
       "154079"
      ],
      "text/markdown": [
       "154079"
      ],
      "text/plain": [
       "[1] 154079"
      ]
     },
     "metadata": {},
     "output_type": "display_data"
    },
    {
     "name": "stdout",
     "output_type": "stream",
     "text": [
      "\n",
      "Total no. of sites with 2 A.molle alleles"
     ]
    },
    {
     "data": {
      "text/html": [
       "946244"
      ],
      "text/latex": [
       "946244"
      ],
      "text/markdown": [
       "946244"
      ],
      "text/plain": [
       "[1] 946244"
      ]
     },
     "metadata": {},
     "output_type": "display_data"
    },
    {
     "data": {
      "text/html": [
       "225"
      ],
      "text/latex": [
       "225"
      ],
      "text/markdown": [
       "225"
      ],
      "text/plain": [
       "[1] 225"
      ]
     },
     "metadata": {},
     "output_type": "display_data"
    },
    {
     "data": {
      "text/html": [
       "133141"
      ],
      "text/latex": [
       "133141"
      ],
      "text/markdown": [
       "133141"
      ],
      "text/plain": [
       "[1] 133141"
      ]
     },
     "metadata": {},
     "output_type": "display_data"
    },
    {
     "data": {
      "text/html": [
       "11008"
      ],
      "text/latex": [
       "11008"
      ],
      "text/markdown": [
       "11008"
      ],
      "text/plain": [
       "[1] 11008"
      ]
     },
     "metadata": {},
     "output_type": "display_data"
    },
    {
     "data": {
      "text/html": [
       "581084"
      ],
      "text/latex": [
       "581084"
      ],
      "text/markdown": [
       "581084"
      ],
      "text/plain": [
       "[1] 581084"
      ]
     },
     "metadata": {},
     "output_type": "display_data"
    },
    {
     "data": {
      "text/html": [
       "220786"
      ],
      "text/latex": [
       "220786"
      ],
      "text/markdown": [
       "220786"
      ],
      "text/plain": [
       "[1] 220786"
      ]
     },
     "metadata": {},
     "output_type": "display_data"
    },
    {
     "name": "stdout",
     "output_type": "stream",
     "text": [
      "\n",
      "Total no. of sites with 3 A.molle alleles"
     ]
    },
    {
     "data": {
      "text/html": [
       "77099"
      ],
      "text/latex": [
       "77099"
      ],
      "text/markdown": [
       "77099"
      ],
      "text/plain": [
       "[1] 77099"
      ]
     },
     "metadata": {},
     "output_type": "display_data"
    },
    {
     "data": {
      "text/html": [
       "5"
      ],
      "text/latex": [
       "5"
      ],
      "text/markdown": [
       "5"
      ],
      "text/plain": [
       "[1] 5"
      ]
     },
     "metadata": {},
     "output_type": "display_data"
    },
    {
     "data": {
      "text/html": [
       "5204"
      ],
      "text/latex": [
       "5204"
      ],
      "text/markdown": [
       "5204"
      ],
      "text/plain": [
       "[1] 5204"
      ]
     },
     "metadata": {},
     "output_type": "display_data"
    },
    {
     "data": {
      "text/html": [
       "0"
      ],
      "text/latex": [
       "0"
      ],
      "text/markdown": [
       "0"
      ],
      "text/plain": [
       "[1] 0"
      ]
     },
     "metadata": {},
     "output_type": "display_data"
    },
    {
     "data": {
      "text/html": [
       "25146"
      ],
      "text/latex": [
       "25146"
      ],
      "text/markdown": [
       "25146"
      ],
      "text/plain": [
       "[1] 25146"
      ]
     },
     "metadata": {},
     "output_type": "display_data"
    },
    {
     "data": {
      "text/html": [
       "46744"
      ],
      "text/latex": [
       "46744"
      ],
      "text/markdown": [
       "46744"
      ],
      "text/plain": [
       "[1] 46744"
      ]
     },
     "metadata": {},
     "output_type": "display_data"
    },
    {
     "name": "stdout",
     "output_type": "stream",
     "text": [
      "\n",
      "Total no. of sites with 4 A.molle alleles"
     ]
    },
    {
     "data": {
      "text/html": [
       "3827"
      ],
      "text/latex": [
       "3827"
      ],
      "text/markdown": [
       "3827"
      ],
      "text/plain": [
       "[1] 3827"
      ]
     },
     "metadata": {},
     "output_type": "display_data"
    },
    {
     "data": {
      "text/html": [
       "0"
      ],
      "text/latex": [
       "0"
      ],
      "text/markdown": [
       "0"
      ],
      "text/plain": [
       "[1] 0"
      ]
     },
     "metadata": {},
     "output_type": "display_data"
    },
    {
     "data": {
      "text/html": [
       "108"
      ],
      "text/latex": [
       "108"
      ],
      "text/markdown": [
       "108"
      ],
      "text/plain": [
       "[1] 108"
      ]
     },
     "metadata": {},
     "output_type": "display_data"
    },
    {
     "data": {
      "text/html": [
       "0"
      ],
      "text/latex": [
       "0"
      ],
      "text/markdown": [
       "0"
      ],
      "text/plain": [
       "[1] 0"
      ]
     },
     "metadata": {},
     "output_type": "display_data"
    },
    {
     "data": {
      "text/html": [
       "1820"
      ],
      "text/latex": [
       "1820"
      ],
      "text/markdown": [
       "1820"
      ],
      "text/plain": [
       "[1] 1820"
      ]
     },
     "metadata": {},
     "output_type": "display_data"
    },
    {
     "data": {
      "text/html": [
       "1899"
      ],
      "text/latex": [
       "1899"
      ],
      "text/markdown": [
       "1899"
      ],
      "text/plain": [
       "[1] 1899"
      ]
     },
     "metadata": {},
     "output_type": "display_data"
    },
    {
     "name": "stdout",
     "output_type": "stream",
     "text": [
      "\n",
      "Total no. of sites with >4 A.molle alleles"
     ]
    },
    {
     "data": {
      "text/html": [
       "151"
      ],
      "text/latex": [
       "151"
      ],
      "text/markdown": [
       "151"
      ],
      "text/plain": [
       "[1] 151"
      ]
     },
     "metadata": {},
     "output_type": "display_data"
    },
    {
     "data": {
      "text/html": [
       "0"
      ],
      "text/latex": [
       "0"
      ],
      "text/markdown": [
       "0"
      ],
      "text/plain": [
       "[1] 0"
      ]
     },
     "metadata": {},
     "output_type": "display_data"
    },
    {
     "data": {
      "text/html": [
       "0"
      ],
      "text/latex": [
       "0"
      ],
      "text/markdown": [
       "0"
      ],
      "text/plain": [
       "[1] 0"
      ]
     },
     "metadata": {},
     "output_type": "display_data"
    },
    {
     "data": {
      "text/html": [
       "0"
      ],
      "text/latex": [
       "0"
      ],
      "text/markdown": [
       "0"
      ],
      "text/plain": [
       "[1] 0"
      ]
     },
     "metadata": {},
     "output_type": "display_data"
    },
    {
     "data": {
      "text/html": [
       "94"
      ],
      "text/latex": [
       "94"
      ],
      "text/markdown": [
       "94"
      ],
      "text/plain": [
       "[1] 94"
      ]
     },
     "metadata": {},
     "output_type": "display_data"
    },
    {
     "data": {
      "text/html": [
       "57"
      ],
      "text/latex": [
       "57"
      ],
      "text/markdown": [
       "57"
      ],
      "text/plain": [
       "[1] 57"
      ]
     },
     "metadata": {},
     "output_type": "display_data"
    }
   ],
   "source": [
    "cat('\\nTotal no. of sites')\n",
    "nrow(alleleDat)\n",
    "\n",
    "#\n",
    "cat('\\nTotal no. of sites with no A.molle information')\n",
    "nrow(alleleDat[pool_numAlleles == 0])\n",
    "# nrow(alleleDat[pool_numAlleles != 0])\n",
    "\n",
    "#\n",
    "cat('\\nTotal no. of sites with 1 A.molle allele')\n",
    "nrow(alleleDat[pool_numAlleles == 1])\n",
    "nrow(alleleDat[pool_numAlleles == 1][pool_check == 1])\n",
    "# nrow(alleleDat[pool_numAlleles == 1][pool_check == 0])\n",
    "nrow(alleleDat[pool_numAlleles == 1][pool_check == 0][check_minAllele == 0])\n",
    "nrow(alleleDat[pool_numAlleles == 1][pool_check == 0][check_minAllele == 1])\n",
    "\n",
    "#\n",
    "cat('\\nTotal no. of sites with 2 A.molle alleles')\n",
    "nrow(alleleDat[pool_numAlleles == 2])\n",
    "nrow(alleleDat[pool_numAlleles == 2][pool_check == 1][pool_alleleShared == 'none'])\n",
    "nrow(alleleDat[pool_numAlleles == 2][pool_check == 1][pool_alleleShared != 'none'])\n",
    "nrow(alleleDat[pool_numAlleles == 2][pool_check == 0][pool_minFreq == 0.5])\n",
    "nrow(alleleDat[pool_numAlleles == 2][pool_check == 0][pool_minFreq != 0.5][check_minAllele == 0])\n",
    "nrow(alleleDat[pool_numAlleles == 2][pool_check == 0][pool_minFreq != 0.5][check_minAllele == 1])\n",
    "\n",
    "#\n",
    "cat('\\nTotal no. of sites with 3 A.molle alleles')\n",
    "nrow(alleleDat[pool_numAlleles == 3])\n",
    "# nrow(alleleDat[pool_numAlleles == 3][pool_check == 0])\n",
    "nrow(alleleDat[pool_numAlleles == 3][pool_check == 1][pool_alleleShared == 'none'])\n",
    "nrow(alleleDat[pool_numAlleles == 3][pool_check == 1][pool_alleleShared %in% c('A','T','C','G')])\n",
    "nrow(alleleDat[pool_numAlleles == 3][pool_check == 1][!pool_alleleShared %in% c('A','T','C','G','none',NA)][pool_minFreq == 0.5])\n",
    "nrow(alleleDat[pool_numAlleles == 3][pool_check == 1][!pool_alleleShared %in% c('A','T','C','G','none',NA)][pool_minFreq != 0.5][check_minAllele == 0])\n",
    "nrow(alleleDat[pool_numAlleles == 3][pool_check == 1][!pool_alleleShared %in% c('A','T','C','G','none',NA)][pool_minFreq != 0.5][check_minAllele == 1])\n",
    "\n",
    "#\n",
    "cat('\\nTotal no. of sites with 4 A.molle alleles')\n",
    "nrow(alleleDat[pool_numAlleles == 4])\n",
    "# nrow(alleleDat[pool_numAlleles == 4][pool_check == 0])\n",
    "nrow(alleleDat[pool_numAlleles == 4][pool_check == 1][pool_alleleShared == 'none'])\n",
    "nrow(alleleDat[pool_numAlleles == 4][pool_check == 1][pool_alleleShared %in% c('A','T','C','G')])\n",
    "nrow(alleleDat[pool_numAlleles == 4][pool_check == 1][!pool_alleleShared %in% c('A','T','C','G','none',NA)][pool_minFreq == 0.5])\n",
    "nrow(alleleDat[pool_numAlleles == 4][pool_check == 1][!pool_alleleShared %in% c('A','T','C','G','none',NA)][pool_minFreq != 0.5][check_minAllele == 0])\n",
    "nrow(alleleDat[pool_numAlleles == 4][pool_check == 1][!pool_alleleShared %in% c('A','T','C','G','none',NA)][pool_minFreq != 0.5][check_minAllele == 1])\n",
    "\n",
    "#\n",
    "cat('\\nTotal no. of sites with >4 A.molle alleles')\n",
    "nrow(alleleDat[pool_numAlleles > 4])\n",
    "nrow(alleleDat[pool_numAlleles > 4][pool_check == 1][pool_alleleShared == 'none'])\n",
    "nrow(alleleDat[pool_numAlleles > 4][pool_check == 1][pool_alleleShared %in% c('A','T','C','G')])\n",
    "nrow(alleleDat[pool_numAlleles > 4][pool_check == 1][!pool_alleleShared %in% c('A','T','C','G','none',NA)][pool_minFreq == 0.5])\n",
    "nrow(alleleDat[pool_numAlleles > 4][pool_check == 1][!pool_alleleShared %in% c('A','T','C','G','none',NA)][pool_minFreq != 0.5][check_minAllele == 0])\n",
    "nrow(alleleDat[pool_numAlleles > 4][pool_check == 1][!pool_alleleShared %in% c('A','T','C','G','none',NA)][pool_minFreq != 0.5][check_minAllele == 1])\n"
   ]
  },
  {
   "cell_type": "markdown",
   "id": "e435cb38-fb13-4216-838f-12a0d7ea279c",
   "metadata": {
    "jp-MarkdownHeadingCollapsed": true
   },
   "source": [
    "### Chr6"
   ]
  },
  {
   "cell_type": "code",
   "execution_count": 15,
   "id": "cc31bffb-eea2-46f1-933d-7447f764e345",
   "metadata": {},
   "outputs": [],
   "source": [
    "## Chr6\n",
    "alleleDat = fread('~/snap_hap/Amajus_alleles-ancestral/alleleDat_chrom/alleleDat_Chr6.csv', header=T)\n",
    "# str(alleleDat)"
   ]
  },
  {
   "cell_type": "code",
   "execution_count": 16,
   "id": "fd9b8939-717f-46ee-9c20-c5f33e89e407",
   "metadata": {
    "scrolled": true
   },
   "outputs": [
    {
     "name": "stdout",
     "output_type": "stream",
     "text": [
      "\n",
      "Total no. of sites"
     ]
    },
    {
     "data": {
      "text/html": [
       "2533823"
      ],
      "text/latex": [
       "2533823"
      ],
      "text/markdown": [
       "2533823"
      ],
      "text/plain": [
       "[1] 2533823"
      ]
     },
     "metadata": {},
     "output_type": "display_data"
    },
    {
     "name": "stdout",
     "output_type": "stream",
     "text": [
      "\n",
      "Total no. of sites with no A.molle information"
     ]
    },
    {
     "data": {
      "text/html": [
       "193696"
      ],
      "text/latex": [
       "193696"
      ],
      "text/markdown": [
       "193696"
      ],
      "text/plain": [
       "[1] 193696"
      ]
     },
     "metadata": {},
     "output_type": "display_data"
    },
    {
     "name": "stdout",
     "output_type": "stream",
     "text": [
      "\n",
      "Total no. of sites with 1 A.molle allele"
     ]
    },
    {
     "data": {
      "text/html": [
       "1657077"
      ],
      "text/latex": [
       "1657077"
      ],
      "text/markdown": [
       "1657077"
      ],
      "text/plain": [
       "[1] 1657077"
      ]
     },
     "metadata": {},
     "output_type": "display_data"
    },
    {
     "data": {
      "text/html": [
       "6952"
      ],
      "text/latex": [
       "6952"
      ],
      "text/markdown": [
       "6952"
      ],
      "text/plain": [
       "[1] 6952"
      ]
     },
     "metadata": {},
     "output_type": "display_data"
    },
    {
     "data": {
      "text/html": [
       "1496429"
      ],
      "text/latex": [
       "1496429"
      ],
      "text/markdown": [
       "1496429"
      ],
      "text/plain": [
       "[1] 1496429"
      ]
     },
     "metadata": {},
     "output_type": "display_data"
    },
    {
     "data": {
      "text/html": [
       "153696"
      ],
      "text/latex": [
       "153696"
      ],
      "text/markdown": [
       "153696"
      ],
      "text/plain": [
       "[1] 153696"
      ]
     },
     "metadata": {},
     "output_type": "display_data"
    },
    {
     "name": "stdout",
     "output_type": "stream",
     "text": [
      "\n",
      "Total no. of sites with 2 A.molle alleles"
     ]
    },
    {
     "data": {
      "text/html": [
       "629525"
      ],
      "text/latex": [
       "629525"
      ],
      "text/markdown": [
       "629525"
      ],
      "text/plain": [
       "[1] 629525"
      ]
     },
     "metadata": {},
     "output_type": "display_data"
    },
    {
     "data": {
      "text/html": [
       "318"
      ],
      "text/latex": [
       "318"
      ],
      "text/markdown": [
       "318"
      ],
      "text/plain": [
       "[1] 318"
      ]
     },
     "metadata": {},
     "output_type": "display_data"
    },
    {
     "data": {
      "text/html": [
       "101161"
      ],
      "text/latex": [
       "101161"
      ],
      "text/markdown": [
       "101161"
      ],
      "text/plain": [
       "[1] 101161"
      ]
     },
     "metadata": {},
     "output_type": "display_data"
    },
    {
     "data": {
      "text/html": [
       "6564"
      ],
      "text/latex": [
       "6564"
      ],
      "text/markdown": [
       "6564"
      ],
      "text/plain": [
       "[1] 6564"
      ]
     },
     "metadata": {},
     "output_type": "display_data"
    },
    {
     "data": {
      "text/html": [
       "387388"
      ],
      "text/latex": [
       "387388"
      ],
      "text/markdown": [
       "387388"
      ],
      "text/plain": [
       "[1] 387388"
      ]
     },
     "metadata": {},
     "output_type": "display_data"
    },
    {
     "data": {
      "text/html": [
       "134094"
      ],
      "text/latex": [
       "134094"
      ],
      "text/markdown": [
       "134094"
      ],
      "text/plain": [
       "[1] 134094"
      ]
     },
     "metadata": {},
     "output_type": "display_data"
    },
    {
     "name": "stdout",
     "output_type": "stream",
     "text": [
      "\n",
      "Total no. of sites with 3 A.molle alleles"
     ]
    },
    {
     "data": {
      "text/html": [
       "50771"
      ],
      "text/latex": [
       "50771"
      ],
      "text/markdown": [
       "50771"
      ],
      "text/plain": [
       "[1] 50771"
      ]
     },
     "metadata": {},
     "output_type": "display_data"
    },
    {
     "data": {
      "text/html": [
       "4"
      ],
      "text/latex": [
       "4"
      ],
      "text/markdown": [
       "4"
      ],
      "text/plain": [
       "[1] 4"
      ]
     },
     "metadata": {},
     "output_type": "display_data"
    },
    {
     "data": {
      "text/html": [
       "3747"
      ],
      "text/latex": [
       "3747"
      ],
      "text/markdown": [
       "3747"
      ],
      "text/plain": [
       "[1] 3747"
      ]
     },
     "metadata": {},
     "output_type": "display_data"
    },
    {
     "data": {
      "text/html": [
       "0"
      ],
      "text/latex": [
       "0"
      ],
      "text/markdown": [
       "0"
      ],
      "text/plain": [
       "[1] 0"
      ]
     },
     "metadata": {},
     "output_type": "display_data"
    },
    {
     "data": {
      "text/html": [
       "16670"
      ],
      "text/latex": [
       "16670"
      ],
      "text/markdown": [
       "16670"
      ],
      "text/plain": [
       "[1] 16670"
      ]
     },
     "metadata": {},
     "output_type": "display_data"
    },
    {
     "data": {
      "text/html": [
       "30350"
      ],
      "text/latex": [
       "30350"
      ],
      "text/markdown": [
       "30350"
      ],
      "text/plain": [
       "[1] 30350"
      ]
     },
     "metadata": {},
     "output_type": "display_data"
    },
    {
     "name": "stdout",
     "output_type": "stream",
     "text": [
      "\n",
      "Total no. of sites with 4 A.molle alleles"
     ]
    },
    {
     "data": {
      "text/html": [
       "2666"
      ],
      "text/latex": [
       "2666"
      ],
      "text/markdown": [
       "2666"
      ],
      "text/plain": [
       "[1] 2666"
      ]
     },
     "metadata": {},
     "output_type": "display_data"
    },
    {
     "data": {
      "text/html": [
       "0"
      ],
      "text/latex": [
       "0"
      ],
      "text/markdown": [
       "0"
      ],
      "text/plain": [
       "[1] 0"
      ]
     },
     "metadata": {},
     "output_type": "display_data"
    },
    {
     "data": {
      "text/html": [
       "96"
      ],
      "text/latex": [
       "96"
      ],
      "text/markdown": [
       "96"
      ],
      "text/plain": [
       "[1] 96"
      ]
     },
     "metadata": {},
     "output_type": "display_data"
    },
    {
     "data": {
      "text/html": [
       "0"
      ],
      "text/latex": [
       "0"
      ],
      "text/markdown": [
       "0"
      ],
      "text/plain": [
       "[1] 0"
      ]
     },
     "metadata": {},
     "output_type": "display_data"
    },
    {
     "data": {
      "text/html": [
       "1285"
      ],
      "text/latex": [
       "1285"
      ],
      "text/markdown": [
       "1285"
      ],
      "text/plain": [
       "[1] 1285"
      ]
     },
     "metadata": {},
     "output_type": "display_data"
    },
    {
     "data": {
      "text/html": [
       "1285"
      ],
      "text/latex": [
       "1285"
      ],
      "text/markdown": [
       "1285"
      ],
      "text/plain": [
       "[1] 1285"
      ]
     },
     "metadata": {},
     "output_type": "display_data"
    },
    {
     "name": "stdout",
     "output_type": "stream",
     "text": [
      "\n",
      "Total no. of sites with >4 A.molle alleles"
     ]
    },
    {
     "data": {
      "text/html": [
       "88"
      ],
      "text/latex": [
       "88"
      ],
      "text/markdown": [
       "88"
      ],
      "text/plain": [
       "[1] 88"
      ]
     },
     "metadata": {},
     "output_type": "display_data"
    },
    {
     "data": {
      "text/html": [
       "0"
      ],
      "text/latex": [
       "0"
      ],
      "text/markdown": [
       "0"
      ],
      "text/plain": [
       "[1] 0"
      ]
     },
     "metadata": {},
     "output_type": "display_data"
    },
    {
     "data": {
      "text/html": [
       "0"
      ],
      "text/latex": [
       "0"
      ],
      "text/markdown": [
       "0"
      ],
      "text/plain": [
       "[1] 0"
      ]
     },
     "metadata": {},
     "output_type": "display_data"
    },
    {
     "data": {
      "text/html": [
       "0"
      ],
      "text/latex": [
       "0"
      ],
      "text/markdown": [
       "0"
      ],
      "text/plain": [
       "[1] 0"
      ]
     },
     "metadata": {},
     "output_type": "display_data"
    },
    {
     "data": {
      "text/html": [
       "47"
      ],
      "text/latex": [
       "47"
      ],
      "text/markdown": [
       "47"
      ],
      "text/plain": [
       "[1] 47"
      ]
     },
     "metadata": {},
     "output_type": "display_data"
    },
    {
     "data": {
      "text/html": [
       "41"
      ],
      "text/latex": [
       "41"
      ],
      "text/markdown": [
       "41"
      ],
      "text/plain": [
       "[1] 41"
      ]
     },
     "metadata": {},
     "output_type": "display_data"
    }
   ],
   "source": [
    "cat('\\nTotal no. of sites')\n",
    "nrow(alleleDat)\n",
    "\n",
    "#\n",
    "cat('\\nTotal no. of sites with no A.molle information')\n",
    "nrow(alleleDat[pool_numAlleles == 0])\n",
    "# nrow(alleleDat[pool_numAlleles != 0])\n",
    "\n",
    "#\n",
    "cat('\\nTotal no. of sites with 1 A.molle allele')\n",
    "nrow(alleleDat[pool_numAlleles == 1])\n",
    "nrow(alleleDat[pool_numAlleles == 1][pool_check == 1])\n",
    "# nrow(alleleDat[pool_numAlleles == 1][pool_check == 0])\n",
    "nrow(alleleDat[pool_numAlleles == 1][pool_check == 0][check_minAllele == 0])\n",
    "nrow(alleleDat[pool_numAlleles == 1][pool_check == 0][check_minAllele == 1])\n",
    "\n",
    "#\n",
    "cat('\\nTotal no. of sites with 2 A.molle alleles')\n",
    "nrow(alleleDat[pool_numAlleles == 2])\n",
    "nrow(alleleDat[pool_numAlleles == 2][pool_check == 1][pool_alleleShared == 'none'])\n",
    "nrow(alleleDat[pool_numAlleles == 2][pool_check == 1][pool_alleleShared != 'none'])\n",
    "nrow(alleleDat[pool_numAlleles == 2][pool_check == 0][pool_minFreq == 0.5])\n",
    "nrow(alleleDat[pool_numAlleles == 2][pool_check == 0][pool_minFreq != 0.5][check_minAllele == 0])\n",
    "nrow(alleleDat[pool_numAlleles == 2][pool_check == 0][pool_minFreq != 0.5][check_minAllele == 1])\n",
    "\n",
    "#\n",
    "cat('\\nTotal no. of sites with 3 A.molle alleles')\n",
    "nrow(alleleDat[pool_numAlleles == 3])\n",
    "# nrow(alleleDat[pool_numAlleles == 3][pool_check == 0])\n",
    "nrow(alleleDat[pool_numAlleles == 3][pool_check == 1][pool_alleleShared == 'none'])\n",
    "nrow(alleleDat[pool_numAlleles == 3][pool_check == 1][pool_alleleShared %in% c('A','T','C','G')])\n",
    "nrow(alleleDat[pool_numAlleles == 3][pool_check == 1][!pool_alleleShared %in% c('A','T','C','G','none',NA)][pool_minFreq == 0.5])\n",
    "nrow(alleleDat[pool_numAlleles == 3][pool_check == 1][!pool_alleleShared %in% c('A','T','C','G','none',NA)][pool_minFreq != 0.5][check_minAllele == 0])\n",
    "nrow(alleleDat[pool_numAlleles == 3][pool_check == 1][!pool_alleleShared %in% c('A','T','C','G','none',NA)][pool_minFreq != 0.5][check_minAllele == 1])\n",
    "\n",
    "#\n",
    "cat('\\nTotal no. of sites with 4 A.molle alleles')\n",
    "nrow(alleleDat[pool_numAlleles == 4])\n",
    "# nrow(alleleDat[pool_numAlleles == 4][pool_check == 0])\n",
    "nrow(alleleDat[pool_numAlleles == 4][pool_check == 1][pool_alleleShared == 'none'])\n",
    "nrow(alleleDat[pool_numAlleles == 4][pool_check == 1][pool_alleleShared %in% c('A','T','C','G')])\n",
    "nrow(alleleDat[pool_numAlleles == 4][pool_check == 1][!pool_alleleShared %in% c('A','T','C','G','none',NA)][pool_minFreq == 0.5])\n",
    "nrow(alleleDat[pool_numAlleles == 4][pool_check == 1][!pool_alleleShared %in% c('A','T','C','G','none',NA)][pool_minFreq != 0.5][check_minAllele == 0])\n",
    "nrow(alleleDat[pool_numAlleles == 4][pool_check == 1][!pool_alleleShared %in% c('A','T','C','G','none',NA)][pool_minFreq != 0.5][check_minAllele == 1])\n",
    "\n",
    "#\n",
    "cat('\\nTotal no. of sites with >4 A.molle alleles')\n",
    "nrow(alleleDat[pool_numAlleles > 4])\n",
    "nrow(alleleDat[pool_numAlleles > 4][pool_check == 1][pool_alleleShared == 'none'])\n",
    "nrow(alleleDat[pool_numAlleles > 4][pool_check == 1][pool_alleleShared %in% c('A','T','C','G')])\n",
    "nrow(alleleDat[pool_numAlleles > 4][pool_check == 1][!pool_alleleShared %in% c('A','T','C','G','none',NA)][pool_minFreq == 0.5])\n",
    "nrow(alleleDat[pool_numAlleles > 4][pool_check == 1][!pool_alleleShared %in% c('A','T','C','G','none',NA)][pool_minFreq != 0.5][check_minAllele == 0])\n",
    "nrow(alleleDat[pool_numAlleles > 4][pool_check == 1][!pool_alleleShared %in% c('A','T','C','G','none',NA)][pool_minFreq != 0.5][check_minAllele == 1])\n"
   ]
  },
  {
   "cell_type": "markdown",
   "id": "2645b3f2-8d20-430f-8e74-f6c5abfaa455",
   "metadata": {
    "jp-MarkdownHeadingCollapsed": true
   },
   "source": [
    "### Chr7"
   ]
  },
  {
   "cell_type": "code",
   "execution_count": 17,
   "id": "a08e8d61-4bee-49b7-a107-69f5b74e46ed",
   "metadata": {},
   "outputs": [],
   "source": [
    "## Chr7\n",
    "alleleDat = fread('~/snap_hap/Amajus_alleles-ancestral/alleleDat_chrom/alleleDat_Chr7.csv', header=T)\n",
    "# str(alleleDat)"
   ]
  },
  {
   "cell_type": "code",
   "execution_count": 18,
   "id": "a3fbddb1-9e29-45f3-bfbc-7c8803d8fc28",
   "metadata": {
    "scrolled": true
   },
   "outputs": [
    {
     "name": "stdout",
     "output_type": "stream",
     "text": [
      "\n",
      "Total no. of sites"
     ]
    },
    {
     "data": {
      "text/html": [
       "2358818"
      ],
      "text/latex": [
       "2358818"
      ],
      "text/markdown": [
       "2358818"
      ],
      "text/plain": [
       "[1] 2358818"
      ]
     },
     "metadata": {},
     "output_type": "display_data"
    },
    {
     "name": "stdout",
     "output_type": "stream",
     "text": [
      "\n",
      "Total no. of sites with no A.molle information"
     ]
    },
    {
     "data": {
      "text/html": [
       "150312"
      ],
      "text/latex": [
       "150312"
      ],
      "text/markdown": [
       "150312"
      ],
      "text/plain": [
       "[1] 150312"
      ]
     },
     "metadata": {},
     "output_type": "display_data"
    },
    {
     "name": "stdout",
     "output_type": "stream",
     "text": [
      "\n",
      "Total no. of sites with 1 A.molle allele"
     ]
    },
    {
     "data": {
      "text/html": [
       "1484051"
      ],
      "text/latex": [
       "1484051"
      ],
      "text/markdown": [
       "1484051"
      ],
      "text/plain": [
       "[1] 1484051"
      ]
     },
     "metadata": {},
     "output_type": "display_data"
    },
    {
     "data": {
      "text/html": [
       "4204"
      ],
      "text/latex": [
       "4204"
      ],
      "text/markdown": [
       "4204"
      ],
      "text/plain": [
       "[1] 4204"
      ]
     },
     "metadata": {},
     "output_type": "display_data"
    },
    {
     "data": {
      "text/html": [
       "1376737"
      ],
      "text/latex": [
       "1376737"
      ],
      "text/markdown": [
       "1376737"
      ],
      "text/plain": [
       "[1] 1376737"
      ]
     },
     "metadata": {},
     "output_type": "display_data"
    },
    {
     "data": {
      "text/html": [
       "103110"
      ],
      "text/latex": [
       "103110"
      ],
      "text/markdown": [
       "103110"
      ],
      "text/plain": [
       "[1] 103110"
      ]
     },
     "metadata": {},
     "output_type": "display_data"
    },
    {
     "name": "stdout",
     "output_type": "stream",
     "text": [
      "\n",
      "Total no. of sites with 2 A.molle alleles"
     ]
    },
    {
     "data": {
      "text/html": [
       "667769"
      ],
      "text/latex": [
       "667769"
      ],
      "text/markdown": [
       "667769"
      ],
      "text/plain": [
       "[1] 667769"
      ]
     },
     "metadata": {},
     "output_type": "display_data"
    },
    {
     "data": {
      "text/html": [
       "169"
      ],
      "text/latex": [
       "169"
      ],
      "text/markdown": [
       "169"
      ],
      "text/plain": [
       "[1] 169"
      ]
     },
     "metadata": {},
     "output_type": "display_data"
    },
    {
     "data": {
      "text/html": [
       "90810"
      ],
      "text/latex": [
       "90810"
      ],
      "text/markdown": [
       "90810"
      ],
      "text/plain": [
       "[1] 90810"
      ]
     },
     "metadata": {},
     "output_type": "display_data"
    },
    {
     "data": {
      "text/html": [
       "8153"
      ],
      "text/latex": [
       "8153"
      ],
      "text/markdown": [
       "8153"
      ],
      "text/plain": [
       "[1] 8153"
      ]
     },
     "metadata": {},
     "output_type": "display_data"
    },
    {
     "data": {
      "text/html": [
       "414640"
      ],
      "text/latex": [
       "414640"
      ],
      "text/markdown": [
       "414640"
      ],
      "text/plain": [
       "[1] 414640"
      ]
     },
     "metadata": {},
     "output_type": "display_data"
    },
    {
     "data": {
      "text/html": [
       "153997"
      ],
      "text/latex": [
       "153997"
      ],
      "text/markdown": [
       "153997"
      ],
      "text/plain": [
       "[1] 153997"
      ]
     },
     "metadata": {},
     "output_type": "display_data"
    },
    {
     "name": "stdout",
     "output_type": "stream",
     "text": [
      "\n",
      "Total no. of sites with 3 A.molle alleles"
     ]
    },
    {
     "data": {
      "text/html": [
       "53832"
      ],
      "text/latex": [
       "53832"
      ],
      "text/markdown": [
       "53832"
      ],
      "text/plain": [
       "[1] 53832"
      ]
     },
     "metadata": {},
     "output_type": "display_data"
    },
    {
     "data": {
      "text/html": [
       "5"
      ],
      "text/latex": [
       "5"
      ],
      "text/markdown": [
       "5"
      ],
      "text/plain": [
       "[1] 5"
      ]
     },
     "metadata": {},
     "output_type": "display_data"
    },
    {
     "data": {
      "text/html": [
       "3537"
      ],
      "text/latex": [
       "3537"
      ],
      "text/markdown": [
       "3537"
      ],
      "text/plain": [
       "[1] 3537"
      ]
     },
     "metadata": {},
     "output_type": "display_data"
    },
    {
     "data": {
      "text/html": [
       "0"
      ],
      "text/latex": [
       "0"
      ],
      "text/markdown": [
       "0"
      ],
      "text/plain": [
       "[1] 0"
      ]
     },
     "metadata": {},
     "output_type": "display_data"
    },
    {
     "data": {
      "text/html": [
       "17408"
      ],
      "text/latex": [
       "17408"
      ],
      "text/markdown": [
       "17408"
      ],
      "text/plain": [
       "[1] 17408"
      ]
     },
     "metadata": {},
     "output_type": "display_data"
    },
    {
     "data": {
      "text/html": [
       "32882"
      ],
      "text/latex": [
       "32882"
      ],
      "text/markdown": [
       "32882"
      ],
      "text/plain": [
       "[1] 32882"
      ]
     },
     "metadata": {},
     "output_type": "display_data"
    },
    {
     "name": "stdout",
     "output_type": "stream",
     "text": [
      "\n",
      "Total no. of sites with 4 A.molle alleles"
     ]
    },
    {
     "data": {
      "text/html": [
       "2775"
      ],
      "text/latex": [
       "2775"
      ],
      "text/markdown": [
       "2775"
      ],
      "text/plain": [
       "[1] 2775"
      ]
     },
     "metadata": {},
     "output_type": "display_data"
    },
    {
     "data": {
      "text/html": [
       "0"
      ],
      "text/latex": [
       "0"
      ],
      "text/markdown": [
       "0"
      ],
      "text/plain": [
       "[1] 0"
      ]
     },
     "metadata": {},
     "output_type": "display_data"
    },
    {
     "data": {
      "text/html": [
       "76"
      ],
      "text/latex": [
       "76"
      ],
      "text/markdown": [
       "76"
      ],
      "text/plain": [
       "[1] 76"
      ]
     },
     "metadata": {},
     "output_type": "display_data"
    },
    {
     "data": {
      "text/html": [
       "0"
      ],
      "text/latex": [
       "0"
      ],
      "text/markdown": [
       "0"
      ],
      "text/plain": [
       "[1] 0"
      ]
     },
     "metadata": {},
     "output_type": "display_data"
    },
    {
     "data": {
      "text/html": [
       "1279"
      ],
      "text/latex": [
       "1279"
      ],
      "text/markdown": [
       "1279"
      ],
      "text/plain": [
       "[1] 1279"
      ]
     },
     "metadata": {},
     "output_type": "display_data"
    },
    {
     "data": {
      "text/html": [
       "1420"
      ],
      "text/latex": [
       "1420"
      ],
      "text/markdown": [
       "1420"
      ],
      "text/plain": [
       "[1] 1420"
      ]
     },
     "metadata": {},
     "output_type": "display_data"
    },
    {
     "name": "stdout",
     "output_type": "stream",
     "text": [
      "\n",
      "Total no. of sites with >4 A.molle alleles"
     ]
    },
    {
     "data": {
      "text/html": [
       "79"
      ],
      "text/latex": [
       "79"
      ],
      "text/markdown": [
       "79"
      ],
      "text/plain": [
       "[1] 79"
      ]
     },
     "metadata": {},
     "output_type": "display_data"
    },
    {
     "data": {
      "text/html": [
       "0"
      ],
      "text/latex": [
       "0"
      ],
      "text/markdown": [
       "0"
      ],
      "text/plain": [
       "[1] 0"
      ]
     },
     "metadata": {},
     "output_type": "display_data"
    },
    {
     "data": {
      "text/html": [
       "0"
      ],
      "text/latex": [
       "0"
      ],
      "text/markdown": [
       "0"
      ],
      "text/plain": [
       "[1] 0"
      ]
     },
     "metadata": {},
     "output_type": "display_data"
    },
    {
     "data": {
      "text/html": [
       "0"
      ],
      "text/latex": [
       "0"
      ],
      "text/markdown": [
       "0"
      ],
      "text/plain": [
       "[1] 0"
      ]
     },
     "metadata": {},
     "output_type": "display_data"
    },
    {
     "data": {
      "text/html": [
       "44"
      ],
      "text/latex": [
       "44"
      ],
      "text/markdown": [
       "44"
      ],
      "text/plain": [
       "[1] 44"
      ]
     },
     "metadata": {},
     "output_type": "display_data"
    },
    {
     "data": {
      "text/html": [
       "35"
      ],
      "text/latex": [
       "35"
      ],
      "text/markdown": [
       "35"
      ],
      "text/plain": [
       "[1] 35"
      ]
     },
     "metadata": {},
     "output_type": "display_data"
    }
   ],
   "source": [
    "cat('\\nTotal no. of sites')\n",
    "nrow(alleleDat)\n",
    "\n",
    "#\n",
    "cat('\\nTotal no. of sites with no A.molle information')\n",
    "nrow(alleleDat[pool_numAlleles == 0])\n",
    "# nrow(alleleDat[pool_numAlleles != 0])\n",
    "\n",
    "#\n",
    "cat('\\nTotal no. of sites with 1 A.molle allele')\n",
    "nrow(alleleDat[pool_numAlleles == 1])\n",
    "nrow(alleleDat[pool_numAlleles == 1][pool_check == 1])\n",
    "# nrow(alleleDat[pool_numAlleles == 1][pool_check == 0])\n",
    "nrow(alleleDat[pool_numAlleles == 1][pool_check == 0][check_minAllele == 0])\n",
    "nrow(alleleDat[pool_numAlleles == 1][pool_check == 0][check_minAllele == 1])\n",
    "\n",
    "#\n",
    "cat('\\nTotal no. of sites with 2 A.molle alleles')\n",
    "nrow(alleleDat[pool_numAlleles == 2])\n",
    "nrow(alleleDat[pool_numAlleles == 2][pool_check == 1][pool_alleleShared == 'none'])\n",
    "nrow(alleleDat[pool_numAlleles == 2][pool_check == 1][pool_alleleShared != 'none'])\n",
    "nrow(alleleDat[pool_numAlleles == 2][pool_check == 0][pool_minFreq == 0.5])\n",
    "nrow(alleleDat[pool_numAlleles == 2][pool_check == 0][pool_minFreq != 0.5][check_minAllele == 0])\n",
    "nrow(alleleDat[pool_numAlleles == 2][pool_check == 0][pool_minFreq != 0.5][check_minAllele == 1])\n",
    "\n",
    "#\n",
    "cat('\\nTotal no. of sites with 3 A.molle alleles')\n",
    "nrow(alleleDat[pool_numAlleles == 3])\n",
    "# nrow(alleleDat[pool_numAlleles == 3][pool_check == 0])\n",
    "nrow(alleleDat[pool_numAlleles == 3][pool_check == 1][pool_alleleShared == 'none'])\n",
    "nrow(alleleDat[pool_numAlleles == 3][pool_check == 1][pool_alleleShared %in% c('A','T','C','G')])\n",
    "nrow(alleleDat[pool_numAlleles == 3][pool_check == 1][!pool_alleleShared %in% c('A','T','C','G','none',NA)][pool_minFreq == 0.5])\n",
    "nrow(alleleDat[pool_numAlleles == 3][pool_check == 1][!pool_alleleShared %in% c('A','T','C','G','none',NA)][pool_minFreq != 0.5][check_minAllele == 0])\n",
    "nrow(alleleDat[pool_numAlleles == 3][pool_check == 1][!pool_alleleShared %in% c('A','T','C','G','none',NA)][pool_minFreq != 0.5][check_minAllele == 1])\n",
    "\n",
    "#\n",
    "cat('\\nTotal no. of sites with 4 A.molle alleles')\n",
    "nrow(alleleDat[pool_numAlleles == 4])\n",
    "# nrow(alleleDat[pool_numAlleles == 4][pool_check == 0])\n",
    "nrow(alleleDat[pool_numAlleles == 4][pool_check == 1][pool_alleleShared == 'none'])\n",
    "nrow(alleleDat[pool_numAlleles == 4][pool_check == 1][pool_alleleShared %in% c('A','T','C','G')])\n",
    "nrow(alleleDat[pool_numAlleles == 4][pool_check == 1][!pool_alleleShared %in% c('A','T','C','G','none',NA)][pool_minFreq == 0.5])\n",
    "nrow(alleleDat[pool_numAlleles == 4][pool_check == 1][!pool_alleleShared %in% c('A','T','C','G','none',NA)][pool_minFreq != 0.5][check_minAllele == 0])\n",
    "nrow(alleleDat[pool_numAlleles == 4][pool_check == 1][!pool_alleleShared %in% c('A','T','C','G','none',NA)][pool_minFreq != 0.5][check_minAllele == 1])\n",
    "\n",
    "#\n",
    "cat('\\nTotal no. of sites with >4 A.molle alleles')\n",
    "nrow(alleleDat[pool_numAlleles > 4])\n",
    "nrow(alleleDat[pool_numAlleles > 4][pool_check == 1][pool_alleleShared == 'none'])\n",
    "nrow(alleleDat[pool_numAlleles > 4][pool_check == 1][pool_alleleShared %in% c('A','T','C','G')])\n",
    "nrow(alleleDat[pool_numAlleles > 4][pool_check == 1][!pool_alleleShared %in% c('A','T','C','G','none',NA)][pool_minFreq == 0.5])\n",
    "nrow(alleleDat[pool_numAlleles > 4][pool_check == 1][!pool_alleleShared %in% c('A','T','C','G','none',NA)][pool_minFreq != 0.5][check_minAllele == 0])\n",
    "nrow(alleleDat[pool_numAlleles > 4][pool_check == 1][!pool_alleleShared %in% c('A','T','C','G','none',NA)][pool_minFreq != 0.5][check_minAllele == 1])\n"
   ]
  },
  {
   "cell_type": "markdown",
   "id": "aded7570-e911-4e94-acab-3cc6a8728a1c",
   "metadata": {},
   "source": [
    "### Chr8"
   ]
  },
  {
   "cell_type": "code",
   "execution_count": 19,
   "id": "6383f890-59f6-4f6d-a1dd-b40658fefd47",
   "metadata": {},
   "outputs": [],
   "source": [
    "## Chr8\n",
    "alleleDat = fread('~/snap_hap/Amajus_alleles-ancestral/alleleDat_chrom/alleleDat_Chr8.csv', header=T)\n",
    "# str(alleleDat)"
   ]
  },
  {
   "cell_type": "code",
   "execution_count": 20,
   "id": "39e8efd2-e78c-4a66-a3ad-917cf2de95a2",
   "metadata": {},
   "outputs": [
    {
     "name": "stdout",
     "output_type": "stream",
     "text": [
      "\n",
      "Total no. of sites"
     ]
    },
    {
     "data": {
      "text/html": [
       "2765149"
      ],
      "text/latex": [
       "2765149"
      ],
      "text/markdown": [
       "2765149"
      ],
      "text/plain": [
       "[1] 2765149"
      ]
     },
     "metadata": {},
     "output_type": "display_data"
    },
    {
     "name": "stdout",
     "output_type": "stream",
     "text": [
      "\n",
      "Total no. of sites with no A.molle information"
     ]
    },
    {
     "data": {
      "text/html": [
       "178211"
      ],
      "text/latex": [
       "178211"
      ],
      "text/markdown": [
       "178211"
      ],
      "text/plain": [
       "[1] 178211"
      ]
     },
     "metadata": {},
     "output_type": "display_data"
    },
    {
     "name": "stdout",
     "output_type": "stream",
     "text": [
      "\n",
      "Total no. of sites with 1 A.molle allele"
     ]
    },
    {
     "data": {
      "text/html": [
       "1792188"
      ],
      "text/latex": [
       "1792188"
      ],
      "text/markdown": [
       "1792188"
      ],
      "text/plain": [
       "[1] 1792188"
      ]
     },
     "metadata": {},
     "output_type": "display_data"
    },
    {
     "data": {
      "text/html": [
       "5218"
      ],
      "text/latex": [
       "5218"
      ],
      "text/markdown": [
       "5218"
      ],
      "text/plain": [
       "[1] 5218"
      ]
     },
     "metadata": {},
     "output_type": "display_data"
    },
    {
     "data": {
      "text/html": [
       "1646688"
      ],
      "text/latex": [
       "1646688"
      ],
      "text/markdown": [
       "1646688"
      ],
      "text/plain": [
       "[1] 1646688"
      ]
     },
     "metadata": {},
     "output_type": "display_data"
    },
    {
     "data": {
      "text/html": [
       "140282"
      ],
      "text/latex": [
       "140282"
      ],
      "text/markdown": [
       "140282"
      ],
      "text/plain": [
       "[1] 140282"
      ]
     },
     "metadata": {},
     "output_type": "display_data"
    },
    {
     "name": "stdout",
     "output_type": "stream",
     "text": [
      "\n",
      "Total no. of sites with 2 A.molle alleles"
     ]
    },
    {
     "data": {
      "text/html": [
       "730961"
      ],
      "text/latex": [
       "730961"
      ],
      "text/markdown": [
       "730961"
      ],
      "text/plain": [
       "[1] 730961"
      ]
     },
     "metadata": {},
     "output_type": "display_data"
    },
    {
     "data": {
      "text/html": [
       "218"
      ],
      "text/latex": [
       "218"
      ],
      "text/markdown": [
       "218"
      ],
      "text/plain": [
       "[1] 218"
      ]
     },
     "metadata": {},
     "output_type": "display_data"
    },
    {
     "data": {
      "text/html": [
       "116302"
      ],
      "text/latex": [
       "116302"
      ],
      "text/markdown": [
       "116302"
      ],
      "text/plain": [
       "[1] 116302"
      ]
     },
     "metadata": {},
     "output_type": "display_data"
    },
    {
     "data": {
      "text/html": [
       "9567"
      ],
      "text/latex": [
       "9567"
      ],
      "text/markdown": [
       "9567"
      ],
      "text/plain": [
       "[1] 9567"
      ]
     },
     "metadata": {},
     "output_type": "display_data"
    },
    {
     "data": {
      "text/html": [
       "442500"
      ],
      "text/latex": [
       "442500"
      ],
      "text/markdown": [
       "442500"
      ],
      "text/plain": [
       "[1] 442500"
      ]
     },
     "metadata": {},
     "output_type": "display_data"
    },
    {
     "data": {
      "text/html": [
       "162374"
      ],
      "text/latex": [
       "162374"
      ],
      "text/markdown": [
       "162374"
      ],
      "text/plain": [
       "[1] 162374"
      ]
     },
     "metadata": {},
     "output_type": "display_data"
    },
    {
     "name": "stdout",
     "output_type": "stream",
     "text": [
      "\n",
      "Total no. of sites with 3 A.molle alleles"
     ]
    },
    {
     "data": {
      "text/html": [
       "60620"
      ],
      "text/latex": [
       "60620"
      ],
      "text/markdown": [
       "60620"
      ],
      "text/plain": [
       "[1] 60620"
      ]
     },
     "metadata": {},
     "output_type": "display_data"
    },
    {
     "data": {
      "text/html": [
       "2"
      ],
      "text/latex": [
       "2"
      ],
      "text/markdown": [
       "2"
      ],
      "text/plain": [
       "[1] 2"
      ]
     },
     "metadata": {},
     "output_type": "display_data"
    },
    {
     "data": {
      "text/html": [
       "4484"
      ],
      "text/latex": [
       "4484"
      ],
      "text/markdown": [
       "4484"
      ],
      "text/plain": [
       "[1] 4484"
      ]
     },
     "metadata": {},
     "output_type": "display_data"
    },
    {
     "data": {
      "text/html": [
       "0"
      ],
      "text/latex": [
       "0"
      ],
      "text/markdown": [
       "0"
      ],
      "text/plain": [
       "[1] 0"
      ]
     },
     "metadata": {},
     "output_type": "display_data"
    },
    {
     "data": {
      "text/html": [
       "20135"
      ],
      "text/latex": [
       "20135"
      ],
      "text/markdown": [
       "20135"
      ],
      "text/plain": [
       "[1] 20135"
      ]
     },
     "metadata": {},
     "output_type": "display_data"
    },
    {
     "data": {
      "text/html": [
       "35999"
      ],
      "text/latex": [
       "35999"
      ],
      "text/markdown": [
       "35999"
      ],
      "text/plain": [
       "[1] 35999"
      ]
     },
     "metadata": {},
     "output_type": "display_data"
    },
    {
     "name": "stdout",
     "output_type": "stream",
     "text": [
      "\n",
      "Total no. of sites with 4 A.molle alleles"
     ]
    },
    {
     "data": {
      "text/html": [
       "3075"
      ],
      "text/latex": [
       "3075"
      ],
      "text/markdown": [
       "3075"
      ],
      "text/plain": [
       "[1] 3075"
      ]
     },
     "metadata": {},
     "output_type": "display_data"
    },
    {
     "data": {
      "text/html": [
       "0"
      ],
      "text/latex": [
       "0"
      ],
      "text/markdown": [
       "0"
      ],
      "text/plain": [
       "[1] 0"
      ]
     },
     "metadata": {},
     "output_type": "display_data"
    },
    {
     "data": {
      "text/html": [
       "84"
      ],
      "text/latex": [
       "84"
      ],
      "text/markdown": [
       "84"
      ],
      "text/plain": [
       "[1] 84"
      ]
     },
     "metadata": {},
     "output_type": "display_data"
    },
    {
     "data": {
      "text/html": [
       "0"
      ],
      "text/latex": [
       "0"
      ],
      "text/markdown": [
       "0"
      ],
      "text/plain": [
       "[1] 0"
      ]
     },
     "metadata": {},
     "output_type": "display_data"
    },
    {
     "data": {
      "text/html": [
       "1510"
      ],
      "text/latex": [
       "1510"
      ],
      "text/markdown": [
       "1510"
      ],
      "text/plain": [
       "[1] 1510"
      ]
     },
     "metadata": {},
     "output_type": "display_data"
    },
    {
     "data": {
      "text/html": [
       "1481"
      ],
      "text/latex": [
       "1481"
      ],
      "text/markdown": [
       "1481"
      ],
      "text/plain": [
       "[1] 1481"
      ]
     },
     "metadata": {},
     "output_type": "display_data"
    },
    {
     "name": "stdout",
     "output_type": "stream",
     "text": [
      "\n",
      "Total no. of sites with >4 A.molle alleles"
     ]
    },
    {
     "data": {
      "text/html": [
       "94"
      ],
      "text/latex": [
       "94"
      ],
      "text/markdown": [
       "94"
      ],
      "text/plain": [
       "[1] 94"
      ]
     },
     "metadata": {},
     "output_type": "display_data"
    },
    {
     "data": {
      "text/html": [
       "0"
      ],
      "text/latex": [
       "0"
      ],
      "text/markdown": [
       "0"
      ],
      "text/plain": [
       "[1] 0"
      ]
     },
     "metadata": {},
     "output_type": "display_data"
    },
    {
     "data": {
      "text/html": [
       "0"
      ],
      "text/latex": [
       "0"
      ],
      "text/markdown": [
       "0"
      ],
      "text/plain": [
       "[1] 0"
      ]
     },
     "metadata": {},
     "output_type": "display_data"
    },
    {
     "data": {
      "text/html": [
       "0"
      ],
      "text/latex": [
       "0"
      ],
      "text/markdown": [
       "0"
      ],
      "text/plain": [
       "[1] 0"
      ]
     },
     "metadata": {},
     "output_type": "display_data"
    },
    {
     "data": {
      "text/html": [
       "55"
      ],
      "text/latex": [
       "55"
      ],
      "text/markdown": [
       "55"
      ],
      "text/plain": [
       "[1] 55"
      ]
     },
     "metadata": {},
     "output_type": "display_data"
    },
    {
     "data": {
      "text/html": [
       "39"
      ],
      "text/latex": [
       "39"
      ],
      "text/markdown": [
       "39"
      ],
      "text/plain": [
       "[1] 39"
      ]
     },
     "metadata": {},
     "output_type": "display_data"
    }
   ],
   "source": [
    "cat('\\nTotal no. of sites')\n",
    "nrow(alleleDat)\n",
    "\n",
    "#\n",
    "cat('\\nTotal no. of sites with no A.molle information')\n",
    "nrow(alleleDat[pool_numAlleles == 0])\n",
    "# nrow(alleleDat[pool_numAlleles != 0])\n",
    "\n",
    "#\n",
    "cat('\\nTotal no. of sites with 1 A.molle allele')\n",
    "nrow(alleleDat[pool_numAlleles == 1])\n",
    "nrow(alleleDat[pool_numAlleles == 1][pool_check == 1])\n",
    "# nrow(alleleDat[pool_numAlleles == 1][pool_check == 0])\n",
    "nrow(alleleDat[pool_numAlleles == 1][pool_check == 0][check_minAllele == 0])\n",
    "nrow(alleleDat[pool_numAlleles == 1][pool_check == 0][check_minAllele == 1])\n",
    "\n",
    "#\n",
    "cat('\\nTotal no. of sites with 2 A.molle alleles')\n",
    "nrow(alleleDat[pool_numAlleles == 2])\n",
    "nrow(alleleDat[pool_numAlleles == 2][pool_check == 1][pool_alleleShared == 'none'])\n",
    "nrow(alleleDat[pool_numAlleles == 2][pool_check == 1][pool_alleleShared != 'none'])\n",
    "nrow(alleleDat[pool_numAlleles == 2][pool_check == 0][pool_minFreq == 0.5])\n",
    "nrow(alleleDat[pool_numAlleles == 2][pool_check == 0][pool_minFreq != 0.5][check_minAllele == 0])\n",
    "nrow(alleleDat[pool_numAlleles == 2][pool_check == 0][pool_minFreq != 0.5][check_minAllele == 1])\n",
    "\n",
    "#\n",
    "cat('\\nTotal no. of sites with 3 A.molle alleles')\n",
    "nrow(alleleDat[pool_numAlleles == 3])\n",
    "# nrow(alleleDat[pool_numAlleles == 3][pool_check == 0])\n",
    "nrow(alleleDat[pool_numAlleles == 3][pool_check == 1][pool_alleleShared == 'none'])\n",
    "nrow(alleleDat[pool_numAlleles == 3][pool_check == 1][pool_alleleShared %in% c('A','T','C','G')])\n",
    "nrow(alleleDat[pool_numAlleles == 3][pool_check == 1][!pool_alleleShared %in% c('A','T','C','G','none',NA)][pool_minFreq == 0.5])\n",
    "nrow(alleleDat[pool_numAlleles == 3][pool_check == 1][!pool_alleleShared %in% c('A','T','C','G','none',NA)][pool_minFreq != 0.5][check_minAllele == 0])\n",
    "nrow(alleleDat[pool_numAlleles == 3][pool_check == 1][!pool_alleleShared %in% c('A','T','C','G','none',NA)][pool_minFreq != 0.5][check_minAllele == 1])\n",
    "\n",
    "#\n",
    "cat('\\nTotal no. of sites with 4 A.molle alleles')\n",
    "nrow(alleleDat[pool_numAlleles == 4])\n",
    "# nrow(alleleDat[pool_numAlleles == 4][pool_check == 0])\n",
    "nrow(alleleDat[pool_numAlleles == 4][pool_check == 1][pool_alleleShared == 'none'])\n",
    "nrow(alleleDat[pool_numAlleles == 4][pool_check == 1][pool_alleleShared %in% c('A','T','C','G')])\n",
    "nrow(alleleDat[pool_numAlleles == 4][pool_check == 1][!pool_alleleShared %in% c('A','T','C','G','none',NA)][pool_minFreq == 0.5])\n",
    "nrow(alleleDat[pool_numAlleles == 4][pool_check == 1][!pool_alleleShared %in% c('A','T','C','G','none',NA)][pool_minFreq != 0.5][check_minAllele == 0])\n",
    "nrow(alleleDat[pool_numAlleles == 4][pool_check == 1][!pool_alleleShared %in% c('A','T','C','G','none',NA)][pool_minFreq != 0.5][check_minAllele == 1])\n",
    "\n",
    "#\n",
    "cat('\\nTotal no. of sites with >4 A.molle alleles')\n",
    "nrow(alleleDat[pool_numAlleles > 4])\n",
    "nrow(alleleDat[pool_numAlleles > 4][pool_check == 1][pool_alleleShared == 'none'])\n",
    "nrow(alleleDat[pool_numAlleles > 4][pool_check == 1][pool_alleleShared %in% c('A','T','C','G')])\n",
    "nrow(alleleDat[pool_numAlleles > 4][pool_check == 1][!pool_alleleShared %in% c('A','T','C','G','none',NA)][pool_minFreq == 0.5])\n",
    "nrow(alleleDat[pool_numAlleles > 4][pool_check == 1][!pool_alleleShared %in% c('A','T','C','G','none',NA)][pool_minFreq != 0.5][check_minAllele == 0])\n",
    "nrow(alleleDat[pool_numAlleles > 4][pool_check == 1][!pool_alleleShared %in% c('A','T','C','G','none',NA)][pool_minFreq != 0.5][check_minAllele == 1])"
   ]
  },
  {
   "cell_type": "code",
   "execution_count": 40,
   "id": "9066e81a-25b2-4dbf-8cef-20d9f922c2cd",
   "metadata": {},
   "outputs": [
    {
     "name": "stdout",
     "output_type": "stream",
     "text": [
      "Classes ‘data.table’ and 'data.frame':\t2765149 obs. of  31 variables:\n",
      " $ pos               : int  6127 6144 6147 6150 6154 6159 6192 6205 6224 6227 ...\n",
      " $ chrom             : chr  \"Chr8\" \"Chr8\" \"Chr8\" \"Chr8\" ...\n",
      " $ ref               : chr  \"A\" \"G\" \"G\" \"A\" ...\n",
      " $ alt               : chr  \"C\" \"T\" \"A\" \"T\" ...\n",
      " $ AN                : int  2148 2148 2148 2148 2148 2148 2148 2148 2148 2148 ...\n",
      " $ AC                : int  2023 1 48 1 16 16 49 46 17 1 ...\n",
      " $ pop1              : chr  \"0:0:20:0:0:0\" \"0:0:0:30:0:0\" \"0:0:0:30:0:0\" \"30:0:0:0:0:0\" ...\n",
      " $ pop2              : chr  \"0:0:11:0:0:0\" \"0:0:0:13:0:0\" \"0:0:0:14:0:0\" \"13:0:0:0:0:0\" ...\n",
      " $ pop3              : chr  \"0:0:11:0:0:0\" \"0:0:0:13:0:0\" \"0:0:0:15:0:0\" \"17:0:0:0:0:0\" ...\n",
      " $ Amajus_refFreq    : num  0.0582 0.9995 0.9777 0.9995 0.9926 ...\n",
      " $ Amajus_altFreq    : num  0.941806 0.000466 0.022346 0.000466 0.007449 ...\n",
      " $ Amajus_majFreq    : num  0.942 1 0.978 1 0.993 ...\n",
      " $ Amajus_majAllele  : chr  \"C\" \"G\" \"G\" \"A\" ...\n",
      " $ Amajus_minFreq    : num  0.058194 0.000466 0.022346 0.000466 0.007449 ...\n",
      " $ Amajus_minAllele  : chr  \"A\" \"T\" \"A\" \"T\" ...\n",
      " $ pool              : chr  \"0:0:42:0:0:0\" \"0:0:0:56:0:0\" \"0:0:0:59:0:0\" \"60:0:0:0:0:0\" ...\n",
      " $ pool_numAlleles   : int  1 1 1 1 1 1 2 1 1 1 ...\n",
      " $ pool_totalCounts  : int  42 56 59 60 63 68 83 86 88 89 ...\n",
      " $ pool_refCounts    : int  0 56 59 60 63 68 3 86 88 89 ...\n",
      " $ pool_altCounts    : int  42 0 0 0 0 0 0 0 0 0 ...\n",
      " $ pool_allele3Counts: int  0 0 0 0 0 0 80 0 0 0 ...\n",
      " $ pool_check        : int  0 0 0 0 0 0 1 0 0 0 ...\n",
      " $ pool_allele3      : chr  NA NA NA NA ...\n",
      " $ pool_alleleShared : chr  NA NA NA NA ...\n",
      " $ pool_missing      : int  0 0 0 0 0 0 0 0 0 0 ...\n",
      " $ pool_refFreq      : num  0 1 1 1 1 ...\n",
      " $ pool_altFreq      : num  1 0 0 0 0 0 0 0 0 0 ...\n",
      " $ pool_allele3Freq  : num  0 0 0 0 0 ...\n",
      " $ pool_minFreq      : num  0 0 0 0 0 0 0 0 0 0 ...\n",
      " $ pool_minAllele    : chr  \"A\" \"T\" \"A\" \"T\" ...\n",
      " $ check_minAllele   : int  0 0 0 0 0 0 0 0 0 0 ...\n",
      " - attr(*, \".internal.selfref\")=<externalptr> \n"
     ]
    }
   ],
   "source": [
    "alleleDat = fread('~/snap_hap/Amajus_alleles-ancestral/alleleDat_chrom/alleleDat_Chr8.csv', header=T)\n",
    "str(alleleDat)"
   ]
  },
  {
   "cell_type": "code",
   "execution_count": 41,
   "id": "99b30f13-c936-485f-a5d5-8f709694e54c",
   "metadata": {},
   "outputs": [
    {
     "name": "stdout",
     "output_type": "stream",
     "text": [
      "       A     B     C     D     E     F      G\n",
      "   <int> <int> <int> <int> <int> <int> <char>\n",
      "1:     1     0     0     1     1     1      E\n",
      "2:     0     1     1     0     0     0      D\n",
      "3:     1     1     1     0     0     0      E\n",
      "4:     0     1     0     0     0     0      E\n",
      "5:     0     0     1     0     1     0      D\n",
      "6:     1     0     1     0     0     0      E\n"
     ]
    }
   ],
   "source": [
    "set.seed(0) # For reproducibility\n",
    "dt <- data.table(\n",
    "  A = sample(0:1, 100, replace = TRUE),\n",
    "  B = sample(0:1, 100, replace = TRUE),\n",
    "  C = sample(0:1, 100, replace = TRUE),\n",
    "  D = sample(0:1, 100, replace = TRUE),\n",
    "  E = sample(0:1, 100, replace = TRUE)\n",
    ")\n",
    "\n",
    "# Create columns F and G based on conditions\n",
    "dt[, `:=`(\n",
    "  F = fifelse(\n",
    "    (A == 0 & B == 0 & C == 0) | \n",
    "    (A == 0 & B == 0 & C == 1) | \n",
    "    (A == 0 & B == 1 & C == 1), \n",
    "    D, \n",
    "    E\n",
    "  ),\n",
    "  G = fifelse(\n",
    "    (A == 0 & B == 0 & C == 0) | \n",
    "    (A == 0 & B == 0 & C == 1) | \n",
    "    (A == 0 & B == 1 & C == 1), \n",
    "    'D', \n",
    "    'E'\n",
    "  )\n",
    ")]\n",
    "\n",
    "# Check the resulting data.table\n",
    "print(head(dt))"
   ]
  }
 ],
 "metadata": {
  "kernelspec": {
   "display_name": "R",
   "language": "R",
   "name": "ir"
  },
  "language_info": {
   "codemirror_mode": "r",
   "file_extension": ".r",
   "mimetype": "text/x-r-source",
   "name": "R",
   "pygments_lexer": "r",
   "version": "4.3.1"
  }
 },
 "nbformat": 4,
 "nbformat_minor": 5
}
