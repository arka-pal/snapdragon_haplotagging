{
 "cells": [
  {
   "cell_type": "markdown",
   "id": "f1fc2918-6d1a-4834-9e3c-b75d1d7bc4e9",
   "metadata": {},
   "source": [
    "# Polarising alleles in all Amajus chromosomes"
   ]
  },
  {
   "cell_type": "code",
   "execution_count": 2,
   "id": "f83dba37-2015-48f9-b588-e8de468b240d",
   "metadata": {
    "collapsed": true,
    "jupyter": {
     "outputs_hidden": true
    },
    "scrolled": true
   },
   "outputs": [
    {
     "name": "stderr",
     "output_type": "stream",
     "text": [
      "\n",
      "Attaching package: ‘dplyr’\n",
      "\n",
      "\n",
      "The following objects are masked from ‘package:data.table’:\n",
      "\n",
      "    between, first, last\n",
      "\n",
      "\n",
      "The following objects are masked from ‘package:stats’:\n",
      "\n",
      "    filter, lag\n",
      "\n",
      "\n",
      "The following objects are masked from ‘package:base’:\n",
      "\n",
      "    intersect, setdiff, setequal, union\n",
      "\n",
      "\n",
      "Loading required package: iterators\n",
      "\n",
      "Loading required package: parallel\n",
      "\n",
      "\n",
      "Attaching package: ‘tictoc’\n",
      "\n",
      "\n",
      "The following object is masked from ‘package:data.table’:\n",
      "\n",
      "    shift\n",
      "\n",
      "\n"
     ]
    }
   ],
   "source": [
    "library(data.table)\n",
    "library(dplyr)\n",
    "library(foreach)\n",
    "library(doParallel)\n",
    "library(tictoc)\n",
    "\n",
    "source(\"~/snap_hap/Amajus_alleles-ancestral/_scripts/functions_polarisation.R\")"
   ]
  },
  {
   "cell_type": "markdown",
   "id": "d3229324-f186-4306-aa28-bc62d2f6352b",
   "metadata": {
    "jp-MarkdownHeadingCollapsed": true
   },
   "source": [
    "## misc: trial parallel computing chromSegments"
   ]
  },
  {
   "cell_type": "code",
   "execution_count": 2,
   "id": "c81a19e6-b647-4d40-b960-2724b04a5714",
   "metadata": {},
   "outputs": [
    {
     "data": {
      "text/html": [
       "24"
      ],
      "text/latex": [
       "24"
      ],
      "text/markdown": [
       "24"
      ],
      "text/plain": [
       "[1] 24"
      ]
     },
     "metadata": {},
     "output_type": "display_data"
    }
   ],
   "source": [
    "numCores = parallel::detectCores()\n",
    "numCores\n",
    "myCluster = parallel::makeCluster(8)\n",
    "doParallel::registerDoParallel(myCluster)"
   ]
  },
  {
   "cell_type": "code",
   "execution_count": 3,
   "id": "b354fc89-e14b-4469-a12e-59cd066399ff",
   "metadata": {},
   "outputs": [
    {
     "data": {
      "text/html": [
       "TRUE"
      ],
      "text/latex": [
       "TRUE"
      ],
      "text/markdown": [
       "TRUE"
      ],
      "text/plain": [
       "[1] TRUE"
      ]
     },
     "metadata": {},
     "output_type": "display_data"
    },
    {
     "data": {
      "text/html": [
       "8"
      ],
      "text/latex": [
       "8"
      ],
      "text/markdown": [
       "8"
      ],
      "text/plain": [
       "[1] 8"
      ]
     },
     "metadata": {},
     "output_type": "display_data"
    }
   ],
   "source": [
    "foreach::getDoParRegistered()\n",
    "foreach::getDoParWorkers()"
   ]
  },
  {
   "cell_type": "code",
   "execution_count": 7,
   "id": "d41be802-bddc-4e6d-9c06-505cde11b6cb",
   "metadata": {},
   "outputs": [
    {
     "name": "stdout",
     "output_type": "stream",
     "text": [
      "0.076 sec elapsed\n",
      "     result.1 result.2 result.3 result.4 result.5\n",
      "[1,]    11001    12001    13001    14001    15001\n",
      "[2,]    12000    13000    14000    15000    16000\n"
     ]
    }
   ],
   "source": [
    "tic()\n",
    "alleleSequence =  c('A','T','C','G','N','del')\n",
    "baseDIR = '~/snap_hap/Amajus_alleles-ancestral'\n",
    "chrom='Chr6'\n",
    "\n",
    "filepath_chromSegment = file.path('~/snap_hap/ref_genome/chromSegments', paste0(chrom,'_segments.txt'))\n",
    "filepath_syncFile = file.path('~/snap_hap/Amolle_syncFiles', paste0(chrom,'.sync'))\n",
    "filepath_posFile = file.path(baseDIR,'pos', paste0('stitchRun1_', chrom, '.final.pos'))\n",
    "\n",
    "x = foreach(segment = 1:nrow(chromSegments),\n",
    "       .combine = cbind\n",
    "       ) %dopar% {\n",
    "    start = chromSegments[segment, 1]\n",
    "    end = chromSegments[segment, 2]\n",
    "    c(start,end)\n",
    "    # alleleDat_raw = merge_seqData(syncFile, posFile, start, end)\n",
    "    # alleleDat_processed = compile_AlleleDat(alleleSequence, alleleDat_raw)\n",
    "    # as.data.table(alleleDat_processed)\n",
    "}\n",
    "toc()\n",
    "print(x)"
   ]
  },
  {
   "cell_type": "markdown",
   "id": "09a46f20-2b8d-45c4-9e17-96820dd7feed",
   "metadata": {
    "jp-MarkdownHeadingCollapsed": true
   },
   "source": [
    "## Trial: chromSegments"
   ]
  },
  {
   "cell_type": "code",
   "execution_count": null,
   "id": "af0898c2-46a7-4ba8-9fe0-0389b2e4cee4",
   "metadata": {},
   "outputs": [],
   "source": [
    "alleleSequence =  c('A','T','C','G','N','del')\n",
    "baseDIR = '~/snap_hap'"
   ]
  },
  {
   "cell_type": "code",
   "execution_count": null,
   "id": "2f7a2aa3-914e-4b2a-90f6-f659b39fea10",
   "metadata": {},
   "outputs": [],
   "source": [
    "chromSegments = fread('~/snap_hap/ref_genome/chromSegments/Chr6_segments.txt')\n",
    "syncFile = fread('~/snap_hap/Amolle_syncFiles/Chr6.sync')\n",
    "posFile = fread('~/snap_hap/Amajus_alleles-ancestral/pos/stitchRun1_Chr6.final.pos')"
   ]
  },
  {
   "cell_type": "code",
   "execution_count": null,
   "id": "a839700d-9932-40c0-b67c-a020690d557e",
   "metadata": {},
   "outputs": [],
   "source": [
    "chrom='Chr6'\n",
    "alleleDat_chr6 = compile_AlleleDat_chromSegments(alleleSequence, baseDIR, chrom, 'stitchRun1')"
   ]
  },
  {
   "cell_type": "code",
   "execution_count": null,
   "id": "ed43cfc5-227c-4f5f-942c-6eee0cd228c8",
   "metadata": {},
   "outputs": [],
   "source": [
    "alleleSequence =  c('A','T','C','G','N','del')\n",
    "baseDIR = '~/snap_hap/Amajus_alleles-ancestral'\n",
    "chrom='Chr6'\n",
    "filepath_syncFile = file.path('~/snap_hap/Amolle_syncFiles', paste0(chrom,'.sync'))\n",
    "filepath_posFile = file.path(baseDIR,'pos', paste0('stitchRun1_', chrom, '.final.pos'))\n",
    "\n",
    "chromSegments = data.frame(V1 = c(11001,12001), V2 = c(12000,13000))\n",
    "# chromSegments = fread(filepath_chromSegment)\n",
    "syncFile = fread(filepath_syncFile)\n",
    "posFile = fread(filepath_posFile)"
   ]
  },
  {
   "cell_type": "markdown",
   "id": "b4110a33-09d3-489e-8aaf-297b1508a934",
   "metadata": {},
   "source": [
    "## Run in bash: Process all segments"
   ]
  },
  {
   "cell_type": "raw",
   "id": "92a892c7-9fab-470a-8aa2-30e77e494cb1",
   "metadata": {},
   "source": [
    "module load R\n",
    "baseDIR=/nfs/scistore18/bartogrp/apal/snap_hap\n",
    "stitchRun=stitchRun1\n",
    "cd $baseDIR/Amajus_alleles-ancestral/\n",
    "\n",
    "chrom=Chr6\n",
    "time Rscript ./_scripts/compareAlleles_bash.R $baseDIR $chrom $stitchRun ./alleleDat_chrom/alleleDat_${chrom}.csv"
   ]
  },
  {
   "cell_type": "markdown",
   "id": "d8a99178-6ccd-4586-94f7-04301f16b2f2",
   "metadata": {},
   "source": [
    "## Count the no of sites with allele polarisation class"
   ]
  },
  {
   "cell_type": "markdown",
   "id": "7a2440eb-9808-4b39-9d21-4bde2468a4de",
   "metadata": {},
   "source": [
    "### Chr1"
   ]
  },
  {
   "cell_type": "code",
   "execution_count": 2,
   "id": "053385e6-c831-4cb7-a19b-72fec86837ca",
   "metadata": {},
   "outputs": [],
   "source": [
    "## Chr1\n",
    "alleleDat = fread('~/snap_hap/Amajus_alleles-ancestral/alleleDat_chrom/alleleDat_Chr1.csv', header=T)\n",
    "# str(alleleDat)"
   ]
  },
  {
   "cell_type": "code",
   "execution_count": 3,
   "id": "4d9a8ec8-9467-4899-ab6e-25a83156ced4",
   "metadata": {},
   "outputs": [
    {
     "name": "stdout",
     "output_type": "stream",
     "text": [
      "\n",
      "Total no. of sites"
     ]
    },
    {
     "data": {
      "text/html": [
       "2940701"
      ],
      "text/latex": [
       "2940701"
      ],
      "text/markdown": [
       "2940701"
      ],
      "text/plain": [
       "[1] 2940701"
      ]
     },
     "metadata": {},
     "output_type": "display_data"
    },
    {
     "name": "stdout",
     "output_type": "stream",
     "text": [
      "\n",
      "Total no. of sites with no A.molle information"
     ]
    },
    {
     "data": {
      "text/html": [
       "148669"
      ],
      "text/latex": [
       "148669"
      ],
      "text/markdown": [
       "148669"
      ],
      "text/plain": [
       "[1] 148669"
      ]
     },
     "metadata": {},
     "output_type": "display_data"
    },
    {
     "name": "stdout",
     "output_type": "stream",
     "text": [
      "\n",
      "Total no. of sites with 1 A.molle allele"
     ]
    },
    {
     "data": {
      "text/html": [
       "1917602"
      ],
      "text/latex": [
       "1917602"
      ],
      "text/markdown": [
       "1917602"
      ],
      "text/plain": [
       "[1] 1917602"
      ]
     },
     "metadata": {},
     "output_type": "display_data"
    },
    {
     "data": {
      "text/html": [
       "7202"
      ],
      "text/latex": [
       "7202"
      ],
      "text/markdown": [
       "7202"
      ],
      "text/plain": [
       "[1] 7202"
      ]
     },
     "metadata": {},
     "output_type": "display_data"
    },
    {
     "data": {
      "text/html": [
       "1910400"
      ],
      "text/latex": [
       "1910400"
      ],
      "text/markdown": [
       "1910400"
      ],
      "text/plain": [
       "[1] 1910400"
      ]
     },
     "metadata": {},
     "output_type": "display_data"
    },
    {
     "data": {
      "text/html": [
       "1728987"
      ],
      "text/latex": [
       "1728987"
      ],
      "text/markdown": [
       "1728987"
      ],
      "text/plain": [
       "[1] 1728987"
      ]
     },
     "metadata": {},
     "output_type": "display_data"
    },
    {
     "data": {
      "text/html": [
       "181413"
      ],
      "text/latex": [
       "181413"
      ],
      "text/markdown": [
       "181413"
      ],
      "text/plain": [
       "[1] 181413"
      ]
     },
     "metadata": {},
     "output_type": "display_data"
    },
    {
     "name": "stdout",
     "output_type": "stream",
     "text": [
      "\n",
      "Total no. of sites with 2 A.molle alleles"
     ]
    },
    {
     "data": {
      "text/html": [
       "311"
      ],
      "text/latex": [
       "311"
      ],
      "text/markdown": [
       "311"
      ],
      "text/plain": [
       "[1] 311"
      ]
     },
     "metadata": {},
     "output_type": "display_data"
    },
    {
     "data": {
      "text/html": [
       "115508"
      ],
      "text/latex": [
       "115508"
      ],
      "text/markdown": [
       "115508"
      ],
      "text/plain": [
       "[1] 115508"
      ]
     },
     "metadata": {},
     "output_type": "display_data"
    },
    {
     "data": {
      "text/html": [
       "6140"
      ],
      "text/latex": [
       "6140"
      ],
      "text/markdown": [
       "6140"
      ],
      "text/plain": [
       "[1] 6140"
      ]
     },
     "metadata": {},
     "output_type": "display_data"
    },
    {
     "data": {
      "text/html": [
       "510521"
      ],
      "text/latex": [
       "510521"
      ],
      "text/markdown": [
       "510521"
      ],
      "text/plain": [
       "[1] 510521"
      ]
     },
     "metadata": {},
     "output_type": "display_data"
    },
    {
     "data": {
      "text/html": [
       "177937"
      ],
      "text/latex": [
       "177937"
      ],
      "text/markdown": [
       "177937"
      ],
      "text/plain": [
       "[1] 177937"
      ]
     },
     "metadata": {},
     "output_type": "display_data"
    },
    {
     "name": "stdout",
     "output_type": "stream",
     "text": [
      "\n",
      "Total no. of sites with 3 A.molle alleles"
     ]
    },
    {
     "data": {
      "text/html": [
       "7"
      ],
      "text/latex": [
       "7"
      ],
      "text/markdown": [
       "7"
      ],
      "text/plain": [
       "[1] 7"
      ]
     },
     "metadata": {},
     "output_type": "display_data"
    },
    {
     "data": {
      "text/html": [
       "4072"
      ],
      "text/latex": [
       "4072"
      ],
      "text/markdown": [
       "4072"
      ],
      "text/plain": [
       "[1] 4072"
      ]
     },
     "metadata": {},
     "output_type": "display_data"
    },
    {
     "data": {
      "text/html": [
       "0"
      ],
      "text/latex": [
       "0"
      ],
      "text/markdown": [
       "0"
      ],
      "text/plain": [
       "[1] 0"
      ]
     },
     "metadata": {},
     "output_type": "display_data"
    },
    {
     "data": {
      "text/html": [
       "18996"
      ],
      "text/latex": [
       "18996"
      ],
      "text/markdown": [
       "18996"
      ],
      "text/plain": [
       "[1] 18996"
      ]
     },
     "metadata": {},
     "output_type": "display_data"
    },
    {
     "data": {
      "text/html": [
       "38065"
      ],
      "text/latex": [
       "38065"
      ],
      "text/markdown": [
       "38065"
      ],
      "text/plain": [
       "[1] 38065"
      ]
     },
     "metadata": {},
     "output_type": "display_data"
    },
    {
     "name": "stdout",
     "output_type": "stream",
     "text": [
      "\n",
      "Total no. of sites with 4 A.molle alleles"
     ]
    },
    {
     "data": {
      "text/html": [
       "2776"
      ],
      "text/latex": [
       "2776"
      ],
      "text/markdown": [
       "2776"
      ],
      "text/plain": [
       "[1] 2776"
      ]
     },
     "metadata": {},
     "output_type": "display_data"
    },
    {
     "data": {
      "text/html": [
       "0"
      ],
      "text/latex": [
       "0"
      ],
      "text/markdown": [
       "0"
      ],
      "text/plain": [
       "[1] 0"
      ]
     },
     "metadata": {},
     "output_type": "display_data"
    },
    {
     "data": {
      "text/html": [
       "84"
      ],
      "text/latex": [
       "84"
      ],
      "text/markdown": [
       "84"
      ],
      "text/plain": [
       "[1] 84"
      ]
     },
     "metadata": {},
     "output_type": "display_data"
    },
    {
     "data": {
      "text/html": [
       "0"
      ],
      "text/latex": [
       "0"
      ],
      "text/markdown": [
       "0"
      ],
      "text/plain": [
       "[1] 0"
      ]
     },
     "metadata": {},
     "output_type": "display_data"
    },
    {
     "data": {
      "text/html": [
       "1299"
      ],
      "text/latex": [
       "1299"
      ],
      "text/markdown": [
       "1299"
      ],
      "text/plain": [
       "[1] 1299"
      ]
     },
     "metadata": {},
     "output_type": "display_data"
    },
    {
     "data": {
      "text/html": [
       "1393"
      ],
      "text/latex": [
       "1393"
      ],
      "text/markdown": [
       "1393"
      ],
      "text/plain": [
       "[1] 1393"
      ]
     },
     "metadata": {},
     "output_type": "display_data"
    },
    {
     "name": "stdout",
     "output_type": "stream",
     "text": [
      "\n",
      "Total no. of sites with >4 A.molle alleles"
     ]
    },
    {
     "data": {
      "text/html": [
       "97"
      ],
      "text/latex": [
       "97"
      ],
      "text/markdown": [
       "97"
      ],
      "text/plain": [
       "[1] 97"
      ]
     },
     "metadata": {},
     "output_type": "display_data"
    },
    {
     "data": {
      "text/html": [
       "0"
      ],
      "text/latex": [
       "0"
      ],
      "text/markdown": [
       "0"
      ],
      "text/plain": [
       "[1] 0"
      ]
     },
     "metadata": {},
     "output_type": "display_data"
    },
    {
     "data": {
      "text/html": [
       "0"
      ],
      "text/latex": [
       "0"
      ],
      "text/markdown": [
       "0"
      ],
      "text/plain": [
       "[1] 0"
      ]
     },
     "metadata": {},
     "output_type": "display_data"
    },
    {
     "data": {
      "text/html": [
       "0"
      ],
      "text/latex": [
       "0"
      ],
      "text/markdown": [
       "0"
      ],
      "text/plain": [
       "[1] 0"
      ]
     },
     "metadata": {},
     "output_type": "display_data"
    },
    {
     "data": {
      "text/html": [
       "50"
      ],
      "text/latex": [
       "50"
      ],
      "text/markdown": [
       "50"
      ],
      "text/plain": [
       "[1] 50"
      ]
     },
     "metadata": {},
     "output_type": "display_data"
    },
    {
     "data": {
      "text/html": [
       "47"
      ],
      "text/latex": [
       "47"
      ],
      "text/markdown": [
       "47"
      ],
      "text/plain": [
       "[1] 47"
      ]
     },
     "metadata": {},
     "output_type": "display_data"
    }
   ],
   "source": [
    "cat('\\nTotal no. of sites')\n",
    "nrow(alleleDat)\n",
    "\n",
    "#\n",
    "cat('\\nTotal no. of sites with no A.molle information')\n",
    "nrow(alleleDat[pool_numAlleles == 0])\n",
    "# nrow(alleleDat[pool_numAlleles != 0])\n",
    "\n",
    "#\n",
    "cat('\\nTotal no. of sites with 1 A.molle allele')\n",
    "nrow(alleleDat[pool_numAlleles == 1])\n",
    "nrow(alleleDat[pool_numAlleles == 1][pool_check == 1])\n",
    "nrow(alleleDat[pool_numAlleles == 1][pool_check == 0])\n",
    "nrow(alleleDat[pool_numAlleles == 1][pool_check == 0][check_minAllele == 0])\n",
    "nrow(alleleDat[pool_numAlleles == 1][pool_check == 0][check_minAllele == 1])\n",
    "\n",
    "#\n",
    "cat('\\nTotal no. of sites with 2 A.molle alleles')\n",
    "# nrow(alleleDat[pool_numAlleles == 2])\n",
    "nrow(alleleDat[pool_numAlleles == 2][pool_check == 1][pool_alleleShared == 'none'])\n",
    "nrow(alleleDat[pool_numAlleles == 2][pool_check == 1][pool_alleleShared != 'none'])\n",
    "nrow(alleleDat[pool_numAlleles == 2][pool_check == 0][pool_minFreq == 0.5])\n",
    "nrow(alleleDat[pool_numAlleles == 2][pool_check == 0][pool_minFreq != 0.5][check_minAllele == 0])\n",
    "nrow(alleleDat[pool_numAlleles == 2][pool_check == 0][pool_minFreq != 0.5][check_minAllele == 1])\n",
    "\n",
    "#\n",
    "cat('\\nTotal no. of sites with 3 A.molle alleles')\n",
    "# nrow(alleleDat[pool_numAlleles == 3])\n",
    "# nrow(alleleDat[pool_numAlleles == 3][pool_check == 0])\n",
    "nrow(alleleDat[pool_numAlleles == 3][pool_check == 1][pool_alleleShared == 'none'])\n",
    "nrow(alleleDat[pool_numAlleles == 3][pool_check == 1][pool_alleleShared %in% c('A','T','C','G')])\n",
    "nrow(alleleDat[pool_numAlleles == 3][pool_check == 1][!pool_alleleShared %in% c('A','T','C','G','none',NA)][pool_minFreq == 0.5])\n",
    "nrow(alleleDat[pool_numAlleles == 3][pool_check == 1][!pool_alleleShared %in% c('A','T','C','G','none',NA)][pool_minFreq != 0.5][check_minAllele == 0])\n",
    "nrow(alleleDat[pool_numAlleles == 3][pool_check == 1][!pool_alleleShared %in% c('A','T','C','G','none',NA)][pool_minFreq != 0.5][check_minAllele == 1])\n",
    "\n",
    "#\n",
    "cat('\\nTotal no. of sites with 4 A.molle alleles')\n",
    "nrow(alleleDat[pool_numAlleles == 4])\n",
    "# nrow(alleleDat[pool_numAlleles == 4][pool_check == 0])\n",
    "nrow(alleleDat[pool_numAlleles == 4][pool_check == 1][pool_alleleShared == 'none'])\n",
    "nrow(alleleDat[pool_numAlleles == 4][pool_check == 1][pool_alleleShared %in% c('A','T','C','G')])\n",
    "nrow(alleleDat[pool_numAlleles == 4][pool_check == 1][!pool_alleleShared %in% c('A','T','C','G','none',NA)][pool_minFreq == 0.5])\n",
    "nrow(alleleDat[pool_numAlleles == 4][pool_check == 1][!pool_alleleShared %in% c('A','T','C','G','none',NA)][pool_minFreq != 0.5][check_minAllele == 0])\n",
    "nrow(alleleDat[pool_numAlleles == 4][pool_check == 1][!pool_alleleShared %in% c('A','T','C','G','none',NA)][pool_minFreq != 0.5][check_minAllele == 1])\n",
    "\n",
    "#\n",
    "cat('\\nTotal no. of sites with >4 A.molle alleles')\n",
    "nrow(alleleDat[pool_numAlleles > 4])\n",
    "nrow(alleleDat[pool_numAlleles > 4][pool_check == 1][pool_alleleShared == 'none'])\n",
    "nrow(alleleDat[pool_numAlleles > 4][pool_check == 1][pool_alleleShared %in% c('A','T','C','G')])\n",
    "nrow(alleleDat[pool_numAlleles > 4][pool_check == 1][!pool_alleleShared %in% c('A','T','C','G','none',NA)][pool_minFreq == 0.5])\n",
    "nrow(alleleDat[pool_numAlleles > 4][pool_check == 1][!pool_alleleShared %in% c('A','T','C','G','none',NA)][pool_minFreq != 0.5][check_minAllele == 0])\n",
    "nrow(alleleDat[pool_numAlleles > 4][pool_check == 1][!pool_alleleShared %in% c('A','T','C','G','none',NA)][pool_minFreq != 0.5][check_minAllele == 1])\n"
   ]
  },
  {
   "cell_type": "markdown",
   "id": "cab473bb-37ff-4e9e-9580-4859f2d77021",
   "metadata": {},
   "source": [
    "### Chr2"
   ]
  },
  {
   "cell_type": "code",
   "execution_count": 4,
   "id": "15c1e7f8-f3f4-4127-8c10-1fd69bc8fbbf",
   "metadata": {},
   "outputs": [],
   "source": [
    "## Chr2\n",
    "alleleDat = fread('~/snap_hap/Amajus_alleles-ancestral/alleleDat_chrom/alleleDat_Chr2.csv', header=T)\n",
    "# str(alleleDat)"
   ]
  },
  {
   "cell_type": "code",
   "execution_count": 5,
   "id": "6740442d-0bc6-4330-9b7e-45b78f7d1f56",
   "metadata": {
    "scrolled": true
   },
   "outputs": [
    {
     "name": "stdout",
     "output_type": "stream",
     "text": [
      "\n",
      "Total no. of sites"
     ]
    },
    {
     "data": {
      "text/html": [
       "3301920"
      ],
      "text/latex": [
       "3301920"
      ],
      "text/markdown": [
       "3301920"
      ],
      "text/plain": [
       "[1] 3301920"
      ]
     },
     "metadata": {},
     "output_type": "display_data"
    },
    {
     "name": "stdout",
     "output_type": "stream",
     "text": [
      "\n",
      "Total no. of sites with no A.molle information"
     ]
    },
    {
     "data": {
      "text/html": [
       "233086"
      ],
      "text/latex": [
       "233086"
      ],
      "text/markdown": [
       "233086"
      ],
      "text/plain": [
       "[1] 233086"
      ]
     },
     "metadata": {},
     "output_type": "display_data"
    },
    {
     "name": "stdout",
     "output_type": "stream",
     "text": [
      "\n",
      "Total no. of sites with 1 A.molle allele"
     ]
    },
    {
     "data": {
      "text/html": [
       "2160371"
      ],
      "text/latex": [
       "2160371"
      ],
      "text/markdown": [
       "2160371"
      ],
      "text/plain": [
       "[1] 2160371"
      ]
     },
     "metadata": {},
     "output_type": "display_data"
    },
    {
     "data": {
      "text/html": [
       "9682"
      ],
      "text/latex": [
       "9682"
      ],
      "text/markdown": [
       "9682"
      ],
      "text/plain": [
       "[1] 9682"
      ]
     },
     "metadata": {},
     "output_type": "display_data"
    },
    {
     "data": {
      "text/html": [
       "1915987"
      ],
      "text/latex": [
       "1915987"
      ],
      "text/markdown": [
       "1915987"
      ],
      "text/plain": [
       "[1] 1915987"
      ]
     },
     "metadata": {},
     "output_type": "display_data"
    },
    {
     "data": {
      "text/html": [
       "234702"
      ],
      "text/latex": [
       "234702"
      ],
      "text/markdown": [
       "234702"
      ],
      "text/plain": [
       "[1] 234702"
      ]
     },
     "metadata": {},
     "output_type": "display_data"
    },
    {
     "name": "stdout",
     "output_type": "stream",
     "text": [
      "\n",
      "Total no. of sites with 2 A.molle alleles"
     ]
    },
    {
     "data": {
      "text/html": [
       "838219"
      ],
      "text/latex": [
       "838219"
      ],
      "text/markdown": [
       "838219"
      ],
      "text/plain": [
       "[1] 838219"
      ]
     },
     "metadata": {},
     "output_type": "display_data"
    },
    {
     "data": {
      "text/html": [
       "436"
      ],
      "text/latex": [
       "436"
      ],
      "text/markdown": [
       "436"
      ],
      "text/plain": [
       "[1] 436"
      ]
     },
     "metadata": {},
     "output_type": "display_data"
    },
    {
     "data": {
      "text/html": [
       "134779"
      ],
      "text/latex": [
       "134779"
      ],
      "text/markdown": [
       "134779"
      ],
      "text/plain": [
       "[1] 134779"
      ]
     },
     "metadata": {},
     "output_type": "display_data"
    },
    {
     "data": {
      "text/html": [
       "7586"
      ],
      "text/latex": [
       "7586"
      ],
      "text/markdown": [
       "7586"
      ],
      "text/plain": [
       "[1] 7586"
      ]
     },
     "metadata": {},
     "output_type": "display_data"
    },
    {
     "data": {
      "text/html": [
       "526242"
      ],
      "text/latex": [
       "526242"
      ],
      "text/markdown": [
       "526242"
      ],
      "text/plain": [
       "[1] 526242"
      ]
     },
     "metadata": {},
     "output_type": "display_data"
    },
    {
     "data": {
      "text/html": [
       "169176"
      ],
      "text/latex": [
       "169176"
      ],
      "text/markdown": [
       "169176"
      ],
      "text/plain": [
       "[1] 169176"
      ]
     },
     "metadata": {},
     "output_type": "display_data"
    },
    {
     "name": "stdout",
     "output_type": "stream",
     "text": [
      "\n",
      "Total no. of sites with 3 A.molle alleles"
     ]
    },
    {
     "data": {
      "text/html": [
       "66824"
      ],
      "text/latex": [
       "66824"
      ],
      "text/markdown": [
       "66824"
      ],
      "text/plain": [
       "[1] 66824"
      ]
     },
     "metadata": {},
     "output_type": "display_data"
    },
    {
     "data": {
      "text/html": [
       "9"
      ],
      "text/latex": [
       "9"
      ],
      "text/markdown": [
       "9"
      ],
      "text/plain": [
       "[1] 9"
      ]
     },
     "metadata": {},
     "output_type": "display_data"
    },
    {
     "data": {
      "text/html": [
       "5111"
      ],
      "text/latex": [
       "5111"
      ],
      "text/markdown": [
       "5111"
      ],
      "text/plain": [
       "[1] 5111"
      ]
     },
     "metadata": {},
     "output_type": "display_data"
    },
    {
     "data": {
      "text/html": [
       "0"
      ],
      "text/latex": [
       "0"
      ],
      "text/markdown": [
       "0"
      ],
      "text/plain": [
       "[1] 0"
      ]
     },
     "metadata": {},
     "output_type": "display_data"
    },
    {
     "data": {
      "text/html": [
       "21156"
      ],
      "text/latex": [
       "21156"
      ],
      "text/markdown": [
       "21156"
      ],
      "text/plain": [
       "[1] 21156"
      ]
     },
     "metadata": {},
     "output_type": "display_data"
    },
    {
     "data": {
      "text/html": [
       "40548"
      ],
      "text/latex": [
       "40548"
      ],
      "text/markdown": [
       "40548"
      ],
      "text/plain": [
       "[1] 40548"
      ]
     },
     "metadata": {},
     "output_type": "display_data"
    },
    {
     "name": "stdout",
     "output_type": "stream",
     "text": [
      "\n",
      "Total no. of sites with 4 A.molle alleles"
     ]
    },
    {
     "data": {
      "text/html": [
       "3322"
      ],
      "text/latex": [
       "3322"
      ],
      "text/markdown": [
       "3322"
      ],
      "text/plain": [
       "[1] 3322"
      ]
     },
     "metadata": {},
     "output_type": "display_data"
    },
    {
     "data": {
      "text/html": [
       "0"
      ],
      "text/latex": [
       "0"
      ],
      "text/markdown": [
       "0"
      ],
      "text/plain": [
       "[1] 0"
      ]
     },
     "metadata": {},
     "output_type": "display_data"
    },
    {
     "data": {
      "text/html": [
       "90"
      ],
      "text/latex": [
       "90"
      ],
      "text/markdown": [
       "90"
      ],
      "text/plain": [
       "[1] 90"
      ]
     },
     "metadata": {},
     "output_type": "display_data"
    },
    {
     "data": {
      "text/html": [
       "0"
      ],
      "text/latex": [
       "0"
      ],
      "text/markdown": [
       "0"
      ],
      "text/plain": [
       "[1] 0"
      ]
     },
     "metadata": {},
     "output_type": "display_data"
    },
    {
     "data": {
      "text/html": [
       "1582"
      ],
      "text/latex": [
       "1582"
      ],
      "text/markdown": [
       "1582"
      ],
      "text/plain": [
       "[1] 1582"
      ]
     },
     "metadata": {},
     "output_type": "display_data"
    },
    {
     "data": {
      "text/html": [
       "1650"
      ],
      "text/latex": [
       "1650"
      ],
      "text/markdown": [
       "1650"
      ],
      "text/plain": [
       "[1] 1650"
      ]
     },
     "metadata": {},
     "output_type": "display_data"
    },
    {
     "name": "stdout",
     "output_type": "stream",
     "text": [
      "\n",
      "Total no. of sites with >4 A.molle alleles"
     ]
    },
    {
     "data": {
      "text/html": [
       "98"
      ],
      "text/latex": [
       "98"
      ],
      "text/markdown": [
       "98"
      ],
      "text/plain": [
       "[1] 98"
      ]
     },
     "metadata": {},
     "output_type": "display_data"
    },
    {
     "data": {
      "text/html": [
       "0"
      ],
      "text/latex": [
       "0"
      ],
      "text/markdown": [
       "0"
      ],
      "text/plain": [
       "[1] 0"
      ]
     },
     "metadata": {},
     "output_type": "display_data"
    },
    {
     "data": {
      "text/html": [
       "0"
      ],
      "text/latex": [
       "0"
      ],
      "text/markdown": [
       "0"
      ],
      "text/plain": [
       "[1] 0"
      ]
     },
     "metadata": {},
     "output_type": "display_data"
    },
    {
     "data": {
      "text/html": [
       "0"
      ],
      "text/latex": [
       "0"
      ],
      "text/markdown": [
       "0"
      ],
      "text/plain": [
       "[1] 0"
      ]
     },
     "metadata": {},
     "output_type": "display_data"
    },
    {
     "data": {
      "text/html": [
       "52"
      ],
      "text/latex": [
       "52"
      ],
      "text/markdown": [
       "52"
      ],
      "text/plain": [
       "[1] 52"
      ]
     },
     "metadata": {},
     "output_type": "display_data"
    },
    {
     "data": {
      "text/html": [
       "46"
      ],
      "text/latex": [
       "46"
      ],
      "text/markdown": [
       "46"
      ],
      "text/plain": [
       "[1] 46"
      ]
     },
     "metadata": {},
     "output_type": "display_data"
    }
   ],
   "source": [
    "cat('\\nTotal no. of sites')\n",
    "nrow(alleleDat)\n",
    "\n",
    "#\n",
    "cat('\\nTotal no. of sites with no A.molle information')\n",
    "nrow(alleleDat[pool_numAlleles == 0])\n",
    "# nrow(alleleDat[pool_numAlleles != 0])\n",
    "\n",
    "#\n",
    "cat('\\nTotal no. of sites with 1 A.molle allele')\n",
    "nrow(alleleDat[pool_numAlleles == 1])\n",
    "nrow(alleleDat[pool_numAlleles == 1][pool_check == 1])\n",
    "# nrow(alleleDat[pool_numAlleles == 1][pool_check == 0])\n",
    "nrow(alleleDat[pool_numAlleles == 1][pool_check == 0][check_minAllele == 0])\n",
    "nrow(alleleDat[pool_numAlleles == 1][pool_check == 0][check_minAllele == 1])\n",
    "\n",
    "#\n",
    "cat('\\nTotal no. of sites with 2 A.molle alleles')\n",
    "nrow(alleleDat[pool_numAlleles == 2])\n",
    "nrow(alleleDat[pool_numAlleles == 2][pool_check == 1][pool_alleleShared == 'none'])\n",
    "nrow(alleleDat[pool_numAlleles == 2][pool_check == 1][pool_alleleShared != 'none'])\n",
    "nrow(alleleDat[pool_numAlleles == 2][pool_check == 0][pool_minFreq == 0.5])\n",
    "nrow(alleleDat[pool_numAlleles == 2][pool_check == 0][pool_minFreq != 0.5][check_minAllele == 0])\n",
    "nrow(alleleDat[pool_numAlleles == 2][pool_check == 0][pool_minFreq != 0.5][check_minAllele == 1])\n",
    "\n",
    "#\n",
    "cat('\\nTotal no. of sites with 3 A.molle alleles')\n",
    "nrow(alleleDat[pool_numAlleles == 3])\n",
    "# nrow(alleleDat[pool_numAlleles == 3][pool_check == 0])\n",
    "nrow(alleleDat[pool_numAlleles == 3][pool_check == 1][pool_alleleShared == 'none'])\n",
    "nrow(alleleDat[pool_numAlleles == 3][pool_check == 1][pool_alleleShared %in% c('A','T','C','G')])\n",
    "nrow(alleleDat[pool_numAlleles == 3][pool_check == 1][!pool_alleleShared %in% c('A','T','C','G','none',NA)][pool_minFreq == 0.5])\n",
    "nrow(alleleDat[pool_numAlleles == 3][pool_check == 1][!pool_alleleShared %in% c('A','T','C','G','none',NA)][pool_minFreq != 0.5][check_minAllele == 0])\n",
    "nrow(alleleDat[pool_numAlleles == 3][pool_check == 1][!pool_alleleShared %in% c('A','T','C','G','none',NA)][pool_minFreq != 0.5][check_minAllele == 1])\n",
    "\n",
    "#\n",
    "cat('\\nTotal no. of sites with 4 A.molle alleles')\n",
    "nrow(alleleDat[pool_numAlleles == 4])\n",
    "# nrow(alleleDat[pool_numAlleles == 4][pool_check == 0])\n",
    "nrow(alleleDat[pool_numAlleles == 4][pool_check == 1][pool_alleleShared == 'none'])\n",
    "nrow(alleleDat[pool_numAlleles == 4][pool_check == 1][pool_alleleShared %in% c('A','T','C','G')])\n",
    "nrow(alleleDat[pool_numAlleles == 4][pool_check == 1][!pool_alleleShared %in% c('A','T','C','G','none',NA)][pool_minFreq == 0.5])\n",
    "nrow(alleleDat[pool_numAlleles == 4][pool_check == 1][!pool_alleleShared %in% c('A','T','C','G','none',NA)][pool_minFreq != 0.5][check_minAllele == 0])\n",
    "nrow(alleleDat[pool_numAlleles == 4][pool_check == 1][!pool_alleleShared %in% c('A','T','C','G','none',NA)][pool_minFreq != 0.5][check_minAllele == 1])\n",
    "\n",
    "#\n",
    "cat('\\nTotal no. of sites with >4 A.molle alleles')\n",
    "nrow(alleleDat[pool_numAlleles > 4])\n",
    "nrow(alleleDat[pool_numAlleles > 4][pool_check == 1][pool_alleleShared == 'none'])\n",
    "nrow(alleleDat[pool_numAlleles > 4][pool_check == 1][pool_alleleShared %in% c('A','T','C','G')])\n",
    "nrow(alleleDat[pool_numAlleles > 4][pool_check == 1][!pool_alleleShared %in% c('A','T','C','G','none',NA)][pool_minFreq == 0.5])\n",
    "nrow(alleleDat[pool_numAlleles > 4][pool_check == 1][!pool_alleleShared %in% c('A','T','C','G','none',NA)][pool_minFreq != 0.5][check_minAllele == 0])\n",
    "nrow(alleleDat[pool_numAlleles > 4][pool_check == 1][!pool_alleleShared %in% c('A','T','C','G','none',NA)][pool_minFreq != 0.5][check_minAllele == 1])\n"
   ]
  },
  {
   "cell_type": "markdown",
   "id": "a98604e8-e8d9-45e3-93c5-feaa92cbb4ca",
   "metadata": {
    "jp-MarkdownHeadingCollapsed": true
   },
   "source": [
    "### Chr3"
   ]
  },
  {
   "cell_type": "code",
   "execution_count": 6,
   "id": "f7f2b217-7695-4dbd-b17b-7455e26a37ee",
   "metadata": {},
   "outputs": [],
   "source": [
    "## Chr3\n",
    "alleleDat = fread('~/snap_hap/Amajus_alleles-ancestral/alleleDat_chrom/alleleDat_Chr3.csv', header=T)\n",
    "# str(alleleDat)"
   ]
  },
  {
   "cell_type": "code",
   "execution_count": 7,
   "id": "4348a6ea-b932-4801-9be3-4126cb189333",
   "metadata": {
    "scrolled": true
   },
   "outputs": [
    {
     "name": "stdout",
     "output_type": "stream",
     "text": [
      "\n",
      "Total no. of sites"
     ]
    },
    {
     "data": {
      "text/html": [
       "2600018"
      ],
      "text/latex": [
       "2600018"
      ],
      "text/markdown": [
       "2600018"
      ],
      "text/plain": [
       "[1] 2600018"
      ]
     },
     "metadata": {},
     "output_type": "display_data"
    },
    {
     "name": "stdout",
     "output_type": "stream",
     "text": [
      "\n",
      "Total no. of sites with no A.molle information"
     ]
    },
    {
     "data": {
      "text/html": [
       "118071"
      ],
      "text/latex": [
       "118071"
      ],
      "text/markdown": [
       "118071"
      ],
      "text/plain": [
       "[1] 118071"
      ]
     },
     "metadata": {},
     "output_type": "display_data"
    },
    {
     "name": "stdout",
     "output_type": "stream",
     "text": [
      "\n",
      "Total no. of sites with 1 A.molle allele"
     ]
    },
    {
     "data": {
      "text/html": [
       "1640546"
      ],
      "text/latex": [
       "1640546"
      ],
      "text/markdown": [
       "1640546"
      ],
      "text/plain": [
       "[1] 1640546"
      ]
     },
     "metadata": {},
     "output_type": "display_data"
    },
    {
     "data": {
      "text/html": [
       "4753"
      ],
      "text/latex": [
       "4753"
      ],
      "text/markdown": [
       "4753"
      ],
      "text/plain": [
       "[1] 4753"
      ]
     },
     "metadata": {},
     "output_type": "display_data"
    },
    {
     "data": {
      "text/html": [
       "1502857"
      ],
      "text/latex": [
       "1502857"
      ],
      "text/markdown": [
       "1502857"
      ],
      "text/plain": [
       "[1] 1502857"
      ]
     },
     "metadata": {},
     "output_type": "display_data"
    },
    {
     "data": {
      "text/html": [
       "132936"
      ],
      "text/latex": [
       "132936"
      ],
      "text/markdown": [
       "132936"
      ],
      "text/plain": [
       "[1] 132936"
      ]
     },
     "metadata": {},
     "output_type": "display_data"
    },
    {
     "name": "stdout",
     "output_type": "stream",
     "text": [
      "\n",
      "Total no. of sites with 2 A.molle alleles"
     ]
    },
    {
     "data": {
      "text/html": [
       "775669"
      ],
      "text/latex": [
       "775669"
      ],
      "text/markdown": [
       "775669"
      ],
      "text/plain": [
       "[1] 775669"
      ]
     },
     "metadata": {},
     "output_type": "display_data"
    },
    {
     "data": {
      "text/html": [
       "178"
      ],
      "text/latex": [
       "178"
      ],
      "text/markdown": [
       "178"
      ],
      "text/plain": [
       "[1] 178"
      ]
     },
     "metadata": {},
     "output_type": "display_data"
    },
    {
     "data": {
      "text/html": [
       "104746"
      ],
      "text/latex": [
       "104746"
      ],
      "text/markdown": [
       "104746"
      ],
      "text/plain": [
       "[1] 104746"
      ]
     },
     "metadata": {},
     "output_type": "display_data"
    },
    {
     "data": {
      "text/html": [
       "8284"
      ],
      "text/latex": [
       "8284"
      ],
      "text/markdown": [
       "8284"
      ],
      "text/plain": [
       "[1] 8284"
      ]
     },
     "metadata": {},
     "output_type": "display_data"
    },
    {
     "data": {
      "text/html": [
       "478647"
      ],
      "text/latex": [
       "478647"
      ],
      "text/markdown": [
       "478647"
      ],
      "text/plain": [
       "[1] 478647"
      ]
     },
     "metadata": {},
     "output_type": "display_data"
    },
    {
     "data": {
      "text/html": [
       "183814"
      ],
      "text/latex": [
       "183814"
      ],
      "text/markdown": [
       "183814"
      ],
      "text/plain": [
       "[1] 183814"
      ]
     },
     "metadata": {},
     "output_type": "display_data"
    },
    {
     "name": "stdout",
     "output_type": "stream",
     "text": [
      "\n",
      "Total no. of sites with 3 A.molle alleles"
     ]
    },
    {
     "data": {
      "text/html": [
       "62475"
      ],
      "text/latex": [
       "62475"
      ],
      "text/markdown": [
       "62475"
      ],
      "text/plain": [
       "[1] 62475"
      ]
     },
     "metadata": {},
     "output_type": "display_data"
    },
    {
     "data": {
      "text/html": [
       "9"
      ],
      "text/latex": [
       "9"
      ],
      "text/markdown": [
       "9"
      ],
      "text/plain": [
       "[1] 9"
      ]
     },
     "metadata": {},
     "output_type": "display_data"
    },
    {
     "data": {
      "text/html": [
       "4029"
      ],
      "text/latex": [
       "4029"
      ],
      "text/markdown": [
       "4029"
      ],
      "text/plain": [
       "[1] 4029"
      ]
     },
     "metadata": {},
     "output_type": "display_data"
    },
    {
     "data": {
      "text/html": [
       "0"
      ],
      "text/latex": [
       "0"
      ],
      "text/markdown": [
       "0"
      ],
      "text/plain": [
       "[1] 0"
      ]
     },
     "metadata": {},
     "output_type": "display_data"
    },
    {
     "data": {
      "text/html": [
       "20150"
      ],
      "text/latex": [
       "20150"
      ],
      "text/markdown": [
       "20150"
      ],
      "text/plain": [
       "[1] 20150"
      ]
     },
     "metadata": {},
     "output_type": "display_data"
    },
    {
     "data": {
      "text/html": [
       "38287"
      ],
      "text/latex": [
       "38287"
      ],
      "text/markdown": [
       "38287"
      ],
      "text/plain": [
       "[1] 38287"
      ]
     },
     "metadata": {},
     "output_type": "display_data"
    },
    {
     "name": "stdout",
     "output_type": "stream",
     "text": [
      "\n",
      "Total no. of sites with 4 A.molle alleles"
     ]
    },
    {
     "data": {
      "text/html": [
       "3159"
      ],
      "text/latex": [
       "3159"
      ],
      "text/markdown": [
       "3159"
      ],
      "text/plain": [
       "[1] 3159"
      ]
     },
     "metadata": {},
     "output_type": "display_data"
    },
    {
     "data": {
      "text/html": [
       "0"
      ],
      "text/latex": [
       "0"
      ],
      "text/markdown": [
       "0"
      ],
      "text/plain": [
       "[1] 0"
      ]
     },
     "metadata": {},
     "output_type": "display_data"
    },
    {
     "data": {
      "text/html": [
       "100"
      ],
      "text/latex": [
       "100"
      ],
      "text/markdown": [
       "100"
      ],
      "text/plain": [
       "[1] 100"
      ]
     },
     "metadata": {},
     "output_type": "display_data"
    },
    {
     "data": {
      "text/html": [
       "0"
      ],
      "text/latex": [
       "0"
      ],
      "text/markdown": [
       "0"
      ],
      "text/plain": [
       "[1] 0"
      ]
     },
     "metadata": {},
     "output_type": "display_data"
    },
    {
     "data": {
      "text/html": [
       "1530"
      ],
      "text/latex": [
       "1530"
      ],
      "text/markdown": [
       "1530"
      ],
      "text/plain": [
       "[1] 1530"
      ]
     },
     "metadata": {},
     "output_type": "display_data"
    },
    {
     "data": {
      "text/html": [
       "1529"
      ],
      "text/latex": [
       "1529"
      ],
      "text/markdown": [
       "1529"
      ],
      "text/plain": [
       "[1] 1529"
      ]
     },
     "metadata": {},
     "output_type": "display_data"
    },
    {
     "name": "stdout",
     "output_type": "stream",
     "text": [
      "\n",
      "Total no. of sites with >4 A.molle alleles"
     ]
    },
    {
     "data": {
      "text/html": [
       "98"
      ],
      "text/latex": [
       "98"
      ],
      "text/markdown": [
       "98"
      ],
      "text/plain": [
       "[1] 98"
      ]
     },
     "metadata": {},
     "output_type": "display_data"
    },
    {
     "data": {
      "text/html": [
       "0"
      ],
      "text/latex": [
       "0"
      ],
      "text/markdown": [
       "0"
      ],
      "text/plain": [
       "[1] 0"
      ]
     },
     "metadata": {},
     "output_type": "display_data"
    },
    {
     "data": {
      "text/html": [
       "0"
      ],
      "text/latex": [
       "0"
      ],
      "text/markdown": [
       "0"
      ],
      "text/plain": [
       "[1] 0"
      ]
     },
     "metadata": {},
     "output_type": "display_data"
    },
    {
     "data": {
      "text/html": [
       "0"
      ],
      "text/latex": [
       "0"
      ],
      "text/markdown": [
       "0"
      ],
      "text/plain": [
       "[1] 0"
      ]
     },
     "metadata": {},
     "output_type": "display_data"
    },
    {
     "data": {
      "text/html": [
       "55"
      ],
      "text/latex": [
       "55"
      ],
      "text/markdown": [
       "55"
      ],
      "text/plain": [
       "[1] 55"
      ]
     },
     "metadata": {},
     "output_type": "display_data"
    },
    {
     "data": {
      "text/html": [
       "43"
      ],
      "text/latex": [
       "43"
      ],
      "text/markdown": [
       "43"
      ],
      "text/plain": [
       "[1] 43"
      ]
     },
     "metadata": {},
     "output_type": "display_data"
    }
   ],
   "source": [
    "cat('\\nTotal no. of sites')\n",
    "nrow(alleleDat)\n",
    "\n",
    "#\n",
    "cat('\\nTotal no. of sites with no A.molle information')\n",
    "nrow(alleleDat[pool_numAlleles == 0])\n",
    "# nrow(alleleDat[pool_numAlleles != 0])\n",
    "\n",
    "#\n",
    "cat('\\nTotal no. of sites with 1 A.molle allele')\n",
    "nrow(alleleDat[pool_numAlleles == 1])\n",
    "nrow(alleleDat[pool_numAlleles == 1][pool_check == 1])\n",
    "# nrow(alleleDat[pool_numAlleles == 1][pool_check == 0])\n",
    "nrow(alleleDat[pool_numAlleles == 1][pool_check == 0][check_minAllele == 0])\n",
    "nrow(alleleDat[pool_numAlleles == 1][pool_check == 0][check_minAllele == 1])\n",
    "\n",
    "#\n",
    "cat('\\nTotal no. of sites with 2 A.molle alleles')\n",
    "nrow(alleleDat[pool_numAlleles == 2])\n",
    "nrow(alleleDat[pool_numAlleles == 2][pool_check == 1][pool_alleleShared == 'none'])\n",
    "nrow(alleleDat[pool_numAlleles == 2][pool_check == 1][pool_alleleShared != 'none'])\n",
    "nrow(alleleDat[pool_numAlleles == 2][pool_check == 0][pool_minFreq == 0.5])\n",
    "nrow(alleleDat[pool_numAlleles == 2][pool_check == 0][pool_minFreq != 0.5][check_minAllele == 0])\n",
    "nrow(alleleDat[pool_numAlleles == 2][pool_check == 0][pool_minFreq != 0.5][check_minAllele == 1])\n",
    "\n",
    "#\n",
    "cat('\\nTotal no. of sites with 3 A.molle alleles')\n",
    "nrow(alleleDat[pool_numAlleles == 3])\n",
    "# nrow(alleleDat[pool_numAlleles == 3][pool_check == 0])\n",
    "nrow(alleleDat[pool_numAlleles == 3][pool_check == 1][pool_alleleShared == 'none'])\n",
    "nrow(alleleDat[pool_numAlleles == 3][pool_check == 1][pool_alleleShared %in% c('A','T','C','G')])\n",
    "nrow(alleleDat[pool_numAlleles == 3][pool_check == 1][!pool_alleleShared %in% c('A','T','C','G','none',NA)][pool_minFreq == 0.5])\n",
    "nrow(alleleDat[pool_numAlleles == 3][pool_check == 1][!pool_alleleShared %in% c('A','T','C','G','none',NA)][pool_minFreq != 0.5][check_minAllele == 0])\n",
    "nrow(alleleDat[pool_numAlleles == 3][pool_check == 1][!pool_alleleShared %in% c('A','T','C','G','none',NA)][pool_minFreq != 0.5][check_minAllele == 1])\n",
    "\n",
    "#\n",
    "cat('\\nTotal no. of sites with 4 A.molle alleles')\n",
    "nrow(alleleDat[pool_numAlleles == 4])\n",
    "# nrow(alleleDat[pool_numAlleles == 4][pool_check == 0])\n",
    "nrow(alleleDat[pool_numAlleles == 4][pool_check == 1][pool_alleleShared == 'none'])\n",
    "nrow(alleleDat[pool_numAlleles == 4][pool_check == 1][pool_alleleShared %in% c('A','T','C','G')])\n",
    "nrow(alleleDat[pool_numAlleles == 4][pool_check == 1][!pool_alleleShared %in% c('A','T','C','G','none',NA)][pool_minFreq == 0.5])\n",
    "nrow(alleleDat[pool_numAlleles == 4][pool_check == 1][!pool_alleleShared %in% c('A','T','C','G','none',NA)][pool_minFreq != 0.5][check_minAllele == 0])\n",
    "nrow(alleleDat[pool_numAlleles == 4][pool_check == 1][!pool_alleleShared %in% c('A','T','C','G','none',NA)][pool_minFreq != 0.5][check_minAllele == 1])\n",
    "\n",
    "#\n",
    "cat('\\nTotal no. of sites with >4 A.molle alleles')\n",
    "nrow(alleleDat[pool_numAlleles > 4])\n",
    "nrow(alleleDat[pool_numAlleles > 4][pool_check == 1][pool_alleleShared == 'none'])\n",
    "nrow(alleleDat[pool_numAlleles > 4][pool_check == 1][pool_alleleShared %in% c('A','T','C','G')])\n",
    "nrow(alleleDat[pool_numAlleles > 4][pool_check == 1][!pool_alleleShared %in% c('A','T','C','G','none',NA)][pool_minFreq == 0.5])\n",
    "nrow(alleleDat[pool_numAlleles > 4][pool_check == 1][!pool_alleleShared %in% c('A','T','C','G','none',NA)][pool_minFreq != 0.5][check_minAllele == 0])\n",
    "nrow(alleleDat[pool_numAlleles > 4][pool_check == 1][!pool_alleleShared %in% c('A','T','C','G','none',NA)][pool_minFreq != 0.5][check_minAllele == 1])\n"
   ]
  },
  {
   "cell_type": "markdown",
   "id": "070fcde8-afb7-4e56-8cd1-595625115bef",
   "metadata": {},
   "source": [
    "### Chr4"
   ]
  },
  {
   "cell_type": "code",
   "execution_count": 8,
   "id": "993193cf-d79e-49f5-8697-522acfc563c9",
   "metadata": {},
   "outputs": [],
   "source": [
    "## Chr4\n",
    "alleleDat = fread('~/snap_hap/Amajus_alleles-ancestral/alleleDat_chrom/alleleDat_Chr4.csv', header=T)\n",
    "# str(alleleDat)"
   ]
  },
  {
   "cell_type": "code",
   "execution_count": 9,
   "id": "e6fae59e-df2a-4455-998e-c03bd6565343",
   "metadata": {
    "scrolled": true
   },
   "outputs": [
    {
     "name": "stdout",
     "output_type": "stream",
     "text": [
      "\n",
      "Total no. of sites"
     ]
    },
    {
     "data": {
      "text/html": [
       "2317799"
      ],
      "text/latex": [
       "2317799"
      ],
      "text/markdown": [
       "2317799"
      ],
      "text/plain": [
       "[1] 2317799"
      ]
     },
     "metadata": {},
     "output_type": "display_data"
    },
    {
     "name": "stdout",
     "output_type": "stream",
     "text": [
      "\n",
      "Total no. of sites with no A.molle information"
     ]
    },
    {
     "data": {
      "text/html": [
       "188953"
      ],
      "text/latex": [
       "188953"
      ],
      "text/markdown": [
       "188953"
      ],
      "text/plain": [
       "[1] 188953"
      ]
     },
     "metadata": {},
     "output_type": "display_data"
    },
    {
     "name": "stdout",
     "output_type": "stream",
     "text": [
      "\n",
      "Total no. of sites with 1 A.molle allele"
     ]
    },
    {
     "data": {
      "text/html": [
       "1505355"
      ],
      "text/latex": [
       "1505355"
      ],
      "text/markdown": [
       "1505355"
      ],
      "text/plain": [
       "[1] 1505355"
      ]
     },
     "metadata": {},
     "output_type": "display_data"
    },
    {
     "data": {
      "text/html": [
       "6717"
      ],
      "text/latex": [
       "6717"
      ],
      "text/markdown": [
       "6717"
      ],
      "text/plain": [
       "[1] 6717"
      ]
     },
     "metadata": {},
     "output_type": "display_data"
    },
    {
     "data": {
      "text/html": [
       "1366538"
      ],
      "text/latex": [
       "1366538"
      ],
      "text/markdown": [
       "1366538"
      ],
      "text/plain": [
       "[1] 1366538"
      ]
     },
     "metadata": {},
     "output_type": "display_data"
    },
    {
     "data": {
      "text/html": [
       "132100"
      ],
      "text/latex": [
       "132100"
      ],
      "text/markdown": [
       "132100"
      ],
      "text/plain": [
       "[1] 132100"
      ]
     },
     "metadata": {},
     "output_type": "display_data"
    },
    {
     "name": "stdout",
     "output_type": "stream",
     "text": [
      "\n",
      "Total no. of sites with 2 A.molle alleles"
     ]
    },
    {
     "data": {
      "text/html": [
       "575569"
      ],
      "text/latex": [
       "575569"
      ],
      "text/markdown": [
       "575569"
      ],
      "text/plain": [
       "[1] 575569"
      ]
     },
     "metadata": {},
     "output_type": "display_data"
    },
    {
     "data": {
      "text/html": [
       "279"
      ],
      "text/latex": [
       "279"
      ],
      "text/markdown": [
       "279"
      ],
      "text/plain": [
       "[1] 279"
      ]
     },
     "metadata": {},
     "output_type": "display_data"
    },
    {
     "data": {
      "text/html": [
       "90411"
      ],
      "text/latex": [
       "90411"
      ],
      "text/markdown": [
       "90411"
      ],
      "text/plain": [
       "[1] 90411"
      ]
     },
     "metadata": {},
     "output_type": "display_data"
    },
    {
     "data": {
      "text/html": [
       "5568"
      ],
      "text/latex": [
       "5568"
      ],
      "text/markdown": [
       "5568"
      ],
      "text/plain": [
       "[1] 5568"
      ]
     },
     "metadata": {},
     "output_type": "display_data"
    },
    {
     "data": {
      "text/html": [
       "352384"
      ],
      "text/latex": [
       "352384"
      ],
      "text/markdown": [
       "352384"
      ],
      "text/plain": [
       "[1] 352384"
      ]
     },
     "metadata": {},
     "output_type": "display_data"
    },
    {
     "data": {
      "text/html": [
       "126927"
      ],
      "text/latex": [
       "126927"
      ],
      "text/markdown": [
       "126927"
      ],
      "text/plain": [
       "[1] 126927"
      ]
     },
     "metadata": {},
     "output_type": "display_data"
    },
    {
     "name": "stdout",
     "output_type": "stream",
     "text": [
      "\n",
      "Total no. of sites with 3 A.molle alleles"
     ]
    },
    {
     "data": {
      "text/html": [
       "45533"
      ],
      "text/latex": [
       "45533"
      ],
      "text/markdown": [
       "45533"
      ],
      "text/plain": [
       "[1] 45533"
      ]
     },
     "metadata": {},
     "output_type": "display_data"
    },
    {
     "data": {
      "text/html": [
       "2"
      ],
      "text/latex": [
       "2"
      ],
      "text/markdown": [
       "2"
      ],
      "text/plain": [
       "[1] 2"
      ]
     },
     "metadata": {},
     "output_type": "display_data"
    },
    {
     "data": {
      "text/html": [
       "3430"
      ],
      "text/latex": [
       "3430"
      ],
      "text/markdown": [
       "3430"
      ],
      "text/plain": [
       "[1] 3430"
      ]
     },
     "metadata": {},
     "output_type": "display_data"
    },
    {
     "data": {
      "text/html": [
       "0"
      ],
      "text/latex": [
       "0"
      ],
      "text/markdown": [
       "0"
      ],
      "text/plain": [
       "[1] 0"
      ]
     },
     "metadata": {},
     "output_type": "display_data"
    },
    {
     "data": {
      "text/html": [
       "13903"
      ],
      "text/latex": [
       "13903"
      ],
      "text/markdown": [
       "13903"
      ],
      "text/plain": [
       "[1] 13903"
      ]
     },
     "metadata": {},
     "output_type": "display_data"
    },
    {
     "data": {
      "text/html": [
       "28198"
      ],
      "text/latex": [
       "28198"
      ],
      "text/markdown": [
       "28198"
      ],
      "text/plain": [
       "[1] 28198"
      ]
     },
     "metadata": {},
     "output_type": "display_data"
    },
    {
     "name": "stdout",
     "output_type": "stream",
     "text": [
      "\n",
      "Total no. of sites with 4 A.molle alleles"
     ]
    },
    {
     "data": {
      "text/html": [
       "2305"
      ],
      "text/latex": [
       "2305"
      ],
      "text/markdown": [
       "2305"
      ],
      "text/plain": [
       "[1] 2305"
      ]
     },
     "metadata": {},
     "output_type": "display_data"
    },
    {
     "data": {
      "text/html": [
       "0"
      ],
      "text/latex": [
       "0"
      ],
      "text/markdown": [
       "0"
      ],
      "text/plain": [
       "[1] 0"
      ]
     },
     "metadata": {},
     "output_type": "display_data"
    },
    {
     "data": {
      "text/html": [
       "76"
      ],
      "text/latex": [
       "76"
      ],
      "text/markdown": [
       "76"
      ],
      "text/plain": [
       "[1] 76"
      ]
     },
     "metadata": {},
     "output_type": "display_data"
    },
    {
     "data": {
      "text/html": [
       "0"
      ],
      "text/latex": [
       "0"
      ],
      "text/markdown": [
       "0"
      ],
      "text/plain": [
       "[1] 0"
      ]
     },
     "metadata": {},
     "output_type": "display_data"
    },
    {
     "data": {
      "text/html": [
       "1071"
      ],
      "text/latex": [
       "1071"
      ],
      "text/markdown": [
       "1071"
      ],
      "text/plain": [
       "[1] 1071"
      ]
     },
     "metadata": {},
     "output_type": "display_data"
    },
    {
     "data": {
      "text/html": [
       "1158"
      ],
      "text/latex": [
       "1158"
      ],
      "text/markdown": [
       "1158"
      ],
      "text/plain": [
       "[1] 1158"
      ]
     },
     "metadata": {},
     "output_type": "display_data"
    },
    {
     "name": "stdout",
     "output_type": "stream",
     "text": [
      "\n",
      "Total no. of sites with >4 A.molle alleles"
     ]
    },
    {
     "data": {
      "text/html": [
       "84"
      ],
      "text/latex": [
       "84"
      ],
      "text/markdown": [
       "84"
      ],
      "text/plain": [
       "[1] 84"
      ]
     },
     "metadata": {},
     "output_type": "display_data"
    },
    {
     "data": {
      "text/html": [
       "0"
      ],
      "text/latex": [
       "0"
      ],
      "text/markdown": [
       "0"
      ],
      "text/plain": [
       "[1] 0"
      ]
     },
     "metadata": {},
     "output_type": "display_data"
    },
    {
     "data": {
      "text/html": [
       "0"
      ],
      "text/latex": [
       "0"
      ],
      "text/markdown": [
       "0"
      ],
      "text/plain": [
       "[1] 0"
      ]
     },
     "metadata": {},
     "output_type": "display_data"
    },
    {
     "data": {
      "text/html": [
       "0"
      ],
      "text/latex": [
       "0"
      ],
      "text/markdown": [
       "0"
      ],
      "text/plain": [
       "[1] 0"
      ]
     },
     "metadata": {},
     "output_type": "display_data"
    },
    {
     "data": {
      "text/html": [
       "48"
      ],
      "text/latex": [
       "48"
      ],
      "text/markdown": [
       "48"
      ],
      "text/plain": [
       "[1] 48"
      ]
     },
     "metadata": {},
     "output_type": "display_data"
    },
    {
     "data": {
      "text/html": [
       "36"
      ],
      "text/latex": [
       "36"
      ],
      "text/markdown": [
       "36"
      ],
      "text/plain": [
       "[1] 36"
      ]
     },
     "metadata": {},
     "output_type": "display_data"
    }
   ],
   "source": [
    "cat('\\nTotal no. of sites')\n",
    "nrow(alleleDat)\n",
    "\n",
    "#\n",
    "cat('\\nTotal no. of sites with no A.molle information')\n",
    "nrow(alleleDat[pool_numAlleles == 0])\n",
    "# nrow(alleleDat[pool_numAlleles != 0])\n",
    "\n",
    "#\n",
    "cat('\\nTotal no. of sites with 1 A.molle allele')\n",
    "nrow(alleleDat[pool_numAlleles == 1])\n",
    "nrow(alleleDat[pool_numAlleles == 1][pool_check == 1])\n",
    "# nrow(alleleDat[pool_numAlleles == 1][pool_check == 0])\n",
    "nrow(alleleDat[pool_numAlleles == 1][pool_check == 0][check_minAllele == 0])\n",
    "nrow(alleleDat[pool_numAlleles == 1][pool_check == 0][check_minAllele == 1])\n",
    "\n",
    "#\n",
    "cat('\\nTotal no. of sites with 2 A.molle alleles')\n",
    "nrow(alleleDat[pool_numAlleles == 2])\n",
    "nrow(alleleDat[pool_numAlleles == 2][pool_check == 1][pool_alleleShared == 'none'])\n",
    "nrow(alleleDat[pool_numAlleles == 2][pool_check == 1][pool_alleleShared != 'none'])\n",
    "nrow(alleleDat[pool_numAlleles == 2][pool_check == 0][pool_minFreq == 0.5])\n",
    "nrow(alleleDat[pool_numAlleles == 2][pool_check == 0][pool_minFreq != 0.5][check_minAllele == 0])\n",
    "nrow(alleleDat[pool_numAlleles == 2][pool_check == 0][pool_minFreq != 0.5][check_minAllele == 1])\n",
    "\n",
    "#\n",
    "cat('\\nTotal no. of sites with 3 A.molle alleles')\n",
    "nrow(alleleDat[pool_numAlleles == 3])\n",
    "# nrow(alleleDat[pool_numAlleles == 3][pool_check == 0])\n",
    "nrow(alleleDat[pool_numAlleles == 3][pool_check == 1][pool_alleleShared == 'none'])\n",
    "nrow(alleleDat[pool_numAlleles == 3][pool_check == 1][pool_alleleShared %in% c('A','T','C','G')])\n",
    "nrow(alleleDat[pool_numAlleles == 3][pool_check == 1][!pool_alleleShared %in% c('A','T','C','G','none',NA)][pool_minFreq == 0.5])\n",
    "nrow(alleleDat[pool_numAlleles == 3][pool_check == 1][!pool_alleleShared %in% c('A','T','C','G','none',NA)][pool_minFreq != 0.5][check_minAllele == 0])\n",
    "nrow(alleleDat[pool_numAlleles == 3][pool_check == 1][!pool_alleleShared %in% c('A','T','C','G','none',NA)][pool_minFreq != 0.5][check_minAllele == 1])\n",
    "\n",
    "#\n",
    "cat('\\nTotal no. of sites with 4 A.molle alleles')\n",
    "nrow(alleleDat[pool_numAlleles == 4])\n",
    "# nrow(alleleDat[pool_numAlleles == 4][pool_check == 0])\n",
    "nrow(alleleDat[pool_numAlleles == 4][pool_check == 1][pool_alleleShared == 'none'])\n",
    "nrow(alleleDat[pool_numAlleles == 4][pool_check == 1][pool_alleleShared %in% c('A','T','C','G')])\n",
    "nrow(alleleDat[pool_numAlleles == 4][pool_check == 1][!pool_alleleShared %in% c('A','T','C','G','none',NA)][pool_minFreq == 0.5])\n",
    "nrow(alleleDat[pool_numAlleles == 4][pool_check == 1][!pool_alleleShared %in% c('A','T','C','G','none',NA)][pool_minFreq != 0.5][check_minAllele == 0])\n",
    "nrow(alleleDat[pool_numAlleles == 4][pool_check == 1][!pool_alleleShared %in% c('A','T','C','G','none',NA)][pool_minFreq != 0.5][check_minAllele == 1])\n",
    "\n",
    "#\n",
    "cat('\\nTotal no. of sites with >4 A.molle alleles')\n",
    "nrow(alleleDat[pool_numAlleles > 4])\n",
    "nrow(alleleDat[pool_numAlleles > 4][pool_check == 1][pool_alleleShared == 'none'])\n",
    "nrow(alleleDat[pool_numAlleles > 4][pool_check == 1][pool_alleleShared %in% c('A','T','C','G')])\n",
    "nrow(alleleDat[pool_numAlleles > 4][pool_check == 1][!pool_alleleShared %in% c('A','T','C','G','none',NA)][pool_minFreq == 0.5])\n",
    "nrow(alleleDat[pool_numAlleles > 4][pool_check == 1][!pool_alleleShared %in% c('A','T','C','G','none',NA)][pool_minFreq != 0.5][check_minAllele == 0])\n",
    "nrow(alleleDat[pool_numAlleles > 4][pool_check == 1][!pool_alleleShared %in% c('A','T','C','G','none',NA)][pool_minFreq != 0.5][check_minAllele == 1])\n"
   ]
  },
  {
   "cell_type": "markdown",
   "id": "9828a860-2690-4e20-8002-d502751fe558",
   "metadata": {},
   "source": [
    "### Chr5"
   ]
  },
  {
   "cell_type": "code",
   "execution_count": 29,
   "id": "3ca67b8e-c23e-4b89-9b04-6d55a1806027",
   "metadata": {},
   "outputs": [],
   "source": [
    "## Chr5\n",
    "alleleDat = fread('~/snap_hap/Amajus_alleles-ancestral/alleleDat_chrom/alleleDat_Chr5.csv', header=T)\n",
    "# str(alleleDat)"
   ]
  },
  {
   "cell_type": "code",
   "execution_count": 30,
   "id": "e190037c-4bfd-4781-ba22-35f77c4c89af",
   "metadata": {
    "scrolled": true
   },
   "outputs": [
    {
     "name": "stdout",
     "output_type": "stream",
     "text": [
      "\n",
      "Total no. of sites"
     ]
    },
    {
     "data": {
      "text/html": [
       "3277515"
      ],
      "text/latex": [
       "3277515"
      ],
      "text/markdown": [
       "3277515"
      ],
      "text/plain": [
       "[1] 3277515"
      ]
     },
     "metadata": {},
     "output_type": "display_data"
    },
    {
     "name": "stdout",
     "output_type": "stream",
     "text": [
      "\n",
      "Total no. of sites with no A.molle information"
     ]
    },
    {
     "data": {
      "text/html": [
       "180041"
      ],
      "text/latex": [
       "180041"
      ],
      "text/markdown": [
       "180041"
      ],
      "text/plain": [
       "[1] 180041"
      ]
     },
     "metadata": {},
     "output_type": "display_data"
    },
    {
     "name": "stdout",
     "output_type": "stream",
     "text": [
      "\n",
      "Total no. of sites with 1 A.molle allele"
     ]
    },
    {
     "data": {
      "text/html": [
       "2070153"
      ],
      "text/latex": [
       "2070153"
      ],
      "text/markdown": [
       "2070153"
      ],
      "text/plain": [
       "[1] 2070153"
      ]
     },
     "metadata": {},
     "output_type": "display_data"
    },
    {
     "data": {
      "text/html": [
       "5433"
      ],
      "text/latex": [
       "5433"
      ],
      "text/markdown": [
       "5433"
      ],
      "text/plain": [
       "[1] 5433"
      ]
     },
     "metadata": {},
     "output_type": "display_data"
    },
    {
     "data": {
      "text/html": [
       "1910641"
      ],
      "text/latex": [
       "1910641"
      ],
      "text/markdown": [
       "1910641"
      ],
      "text/plain": [
       "[1] 1910641"
      ]
     },
     "metadata": {},
     "output_type": "display_data"
    },
    {
     "data": {
      "text/html": [
       "154079"
      ],
      "text/latex": [
       "154079"
      ],
      "text/markdown": [
       "154079"
      ],
      "text/plain": [
       "[1] 154079"
      ]
     },
     "metadata": {},
     "output_type": "display_data"
    },
    {
     "name": "stdout",
     "output_type": "stream",
     "text": [
      "\n",
      "Total no. of sites with 2 A.molle alleles"
     ]
    },
    {
     "data": {
      "text/html": [
       "946244"
      ],
      "text/latex": [
       "946244"
      ],
      "text/markdown": [
       "946244"
      ],
      "text/plain": [
       "[1] 946244"
      ]
     },
     "metadata": {},
     "output_type": "display_data"
    },
    {
     "data": {
      "text/html": [
       "225"
      ],
      "text/latex": [
       "225"
      ],
      "text/markdown": [
       "225"
      ],
      "text/plain": [
       "[1] 225"
      ]
     },
     "metadata": {},
     "output_type": "display_data"
    },
    {
     "data": {
      "text/html": [
       "133141"
      ],
      "text/latex": [
       "133141"
      ],
      "text/markdown": [
       "133141"
      ],
      "text/plain": [
       "[1] 133141"
      ]
     },
     "metadata": {},
     "output_type": "display_data"
    },
    {
     "data": {
      "text/html": [
       "11008"
      ],
      "text/latex": [
       "11008"
      ],
      "text/markdown": [
       "11008"
      ],
      "text/plain": [
       "[1] 11008"
      ]
     },
     "metadata": {},
     "output_type": "display_data"
    },
    {
     "data": {
      "text/html": [
       "581084"
      ],
      "text/latex": [
       "581084"
      ],
      "text/markdown": [
       "581084"
      ],
      "text/plain": [
       "[1] 581084"
      ]
     },
     "metadata": {},
     "output_type": "display_data"
    },
    {
     "data": {
      "text/html": [
       "220786"
      ],
      "text/latex": [
       "220786"
      ],
      "text/markdown": [
       "220786"
      ],
      "text/plain": [
       "[1] 220786"
      ]
     },
     "metadata": {},
     "output_type": "display_data"
    },
    {
     "name": "stdout",
     "output_type": "stream",
     "text": [
      "\n",
      "Total no. of sites with 3 A.molle alleles"
     ]
    },
    {
     "data": {
      "text/html": [
       "77099"
      ],
      "text/latex": [
       "77099"
      ],
      "text/markdown": [
       "77099"
      ],
      "text/plain": [
       "[1] 77099"
      ]
     },
     "metadata": {},
     "output_type": "display_data"
    },
    {
     "data": {
      "text/html": [
       "5"
      ],
      "text/latex": [
       "5"
      ],
      "text/markdown": [
       "5"
      ],
      "text/plain": [
       "[1] 5"
      ]
     },
     "metadata": {},
     "output_type": "display_data"
    },
    {
     "data": {
      "text/html": [
       "5204"
      ],
      "text/latex": [
       "5204"
      ],
      "text/markdown": [
       "5204"
      ],
      "text/plain": [
       "[1] 5204"
      ]
     },
     "metadata": {},
     "output_type": "display_data"
    },
    {
     "data": {
      "text/html": [
       "0"
      ],
      "text/latex": [
       "0"
      ],
      "text/markdown": [
       "0"
      ],
      "text/plain": [
       "[1] 0"
      ]
     },
     "metadata": {},
     "output_type": "display_data"
    },
    {
     "data": {
      "text/html": [
       "25146"
      ],
      "text/latex": [
       "25146"
      ],
      "text/markdown": [
       "25146"
      ],
      "text/plain": [
       "[1] 25146"
      ]
     },
     "metadata": {},
     "output_type": "display_data"
    },
    {
     "data": {
      "text/html": [
       "46744"
      ],
      "text/latex": [
       "46744"
      ],
      "text/markdown": [
       "46744"
      ],
      "text/plain": [
       "[1] 46744"
      ]
     },
     "metadata": {},
     "output_type": "display_data"
    },
    {
     "name": "stdout",
     "output_type": "stream",
     "text": [
      "\n",
      "Total no. of sites with 4 A.molle alleles"
     ]
    },
    {
     "data": {
      "text/html": [
       "3827"
      ],
      "text/latex": [
       "3827"
      ],
      "text/markdown": [
       "3827"
      ],
      "text/plain": [
       "[1] 3827"
      ]
     },
     "metadata": {},
     "output_type": "display_data"
    },
    {
     "data": {
      "text/html": [
       "0"
      ],
      "text/latex": [
       "0"
      ],
      "text/markdown": [
       "0"
      ],
      "text/plain": [
       "[1] 0"
      ]
     },
     "metadata": {},
     "output_type": "display_data"
    },
    {
     "data": {
      "text/html": [
       "108"
      ],
      "text/latex": [
       "108"
      ],
      "text/markdown": [
       "108"
      ],
      "text/plain": [
       "[1] 108"
      ]
     },
     "metadata": {},
     "output_type": "display_data"
    },
    {
     "data": {
      "text/html": [
       "0"
      ],
      "text/latex": [
       "0"
      ],
      "text/markdown": [
       "0"
      ],
      "text/plain": [
       "[1] 0"
      ]
     },
     "metadata": {},
     "output_type": "display_data"
    },
    {
     "data": {
      "text/html": [
       "1820"
      ],
      "text/latex": [
       "1820"
      ],
      "text/markdown": [
       "1820"
      ],
      "text/plain": [
       "[1] 1820"
      ]
     },
     "metadata": {},
     "output_type": "display_data"
    },
    {
     "data": {
      "text/html": [
       "1899"
      ],
      "text/latex": [
       "1899"
      ],
      "text/markdown": [
       "1899"
      ],
      "text/plain": [
       "[1] 1899"
      ]
     },
     "metadata": {},
     "output_type": "display_data"
    },
    {
     "name": "stdout",
     "output_type": "stream",
     "text": [
      "\n",
      "Total no. of sites with >4 A.molle alleles"
     ]
    },
    {
     "data": {
      "text/html": [
       "151"
      ],
      "text/latex": [
       "151"
      ],
      "text/markdown": [
       "151"
      ],
      "text/plain": [
       "[1] 151"
      ]
     },
     "metadata": {},
     "output_type": "display_data"
    },
    {
     "data": {
      "text/html": [
       "0"
      ],
      "text/latex": [
       "0"
      ],
      "text/markdown": [
       "0"
      ],
      "text/plain": [
       "[1] 0"
      ]
     },
     "metadata": {},
     "output_type": "display_data"
    },
    {
     "data": {
      "text/html": [
       "0"
      ],
      "text/latex": [
       "0"
      ],
      "text/markdown": [
       "0"
      ],
      "text/plain": [
       "[1] 0"
      ]
     },
     "metadata": {},
     "output_type": "display_data"
    },
    {
     "data": {
      "text/html": [
       "0"
      ],
      "text/latex": [
       "0"
      ],
      "text/markdown": [
       "0"
      ],
      "text/plain": [
       "[1] 0"
      ]
     },
     "metadata": {},
     "output_type": "display_data"
    },
    {
     "data": {
      "text/html": [
       "94"
      ],
      "text/latex": [
       "94"
      ],
      "text/markdown": [
       "94"
      ],
      "text/plain": [
       "[1] 94"
      ]
     },
     "metadata": {},
     "output_type": "display_data"
    },
    {
     "data": {
      "text/html": [
       "57"
      ],
      "text/latex": [
       "57"
      ],
      "text/markdown": [
       "57"
      ],
      "text/plain": [
       "[1] 57"
      ]
     },
     "metadata": {},
     "output_type": "display_data"
    }
   ],
   "source": [
    "cat('\\nTotal no. of sites')\n",
    "nrow(alleleDat)\n",
    "\n",
    "#\n",
    "cat('\\nTotal no. of sites with no A.molle information')\n",
    "nrow(alleleDat[pool_numAlleles == 0])\n",
    "# nrow(alleleDat[pool_numAlleles != 0])\n",
    "\n",
    "#\n",
    "cat('\\nTotal no. of sites with 1 A.molle allele')\n",
    "nrow(alleleDat[pool_numAlleles == 1])\n",
    "nrow(alleleDat[pool_numAlleles == 1][pool_check == 1])\n",
    "# nrow(alleleDat[pool_numAlleles == 1][pool_check == 0])\n",
    "nrow(alleleDat[pool_numAlleles == 1][pool_check == 0][check_minAllele == 0])\n",
    "nrow(alleleDat[pool_numAlleles == 1][pool_check == 0][check_minAllele == 1])\n",
    "\n",
    "#\n",
    "cat('\\nTotal no. of sites with 2 A.molle alleles')\n",
    "nrow(alleleDat[pool_numAlleles == 2])\n",
    "nrow(alleleDat[pool_numAlleles == 2][pool_check == 1][pool_alleleShared == 'none'])\n",
    "nrow(alleleDat[pool_numAlleles == 2][pool_check == 1][pool_alleleShared != 'none'])\n",
    "nrow(alleleDat[pool_numAlleles == 2][pool_check == 0][pool_minFreq == 0.5])\n",
    "nrow(alleleDat[pool_numAlleles == 2][pool_check == 0][pool_minFreq != 0.5][check_minAllele == 0])\n",
    "nrow(alleleDat[pool_numAlleles == 2][pool_check == 0][pool_minFreq != 0.5][check_minAllele == 1])\n",
    "\n",
    "#\n",
    "cat('\\nTotal no. of sites with 3 A.molle alleles')\n",
    "nrow(alleleDat[pool_numAlleles == 3])\n",
    "# nrow(alleleDat[pool_numAlleles == 3][pool_check == 0])\n",
    "nrow(alleleDat[pool_numAlleles == 3][pool_check == 1][pool_alleleShared == 'none'])\n",
    "nrow(alleleDat[pool_numAlleles == 3][pool_check == 1][pool_alleleShared %in% c('A','T','C','G')])\n",
    "nrow(alleleDat[pool_numAlleles == 3][pool_check == 1][!pool_alleleShared %in% c('A','T','C','G','none',NA)][pool_minFreq == 0.5])\n",
    "nrow(alleleDat[pool_numAlleles == 3][pool_check == 1][!pool_alleleShared %in% c('A','T','C','G','none',NA)][pool_minFreq != 0.5][check_minAllele == 0])\n",
    "nrow(alleleDat[pool_numAlleles == 3][pool_check == 1][!pool_alleleShared %in% c('A','T','C','G','none',NA)][pool_minFreq != 0.5][check_minAllele == 1])\n",
    "\n",
    "#\n",
    "cat('\\nTotal no. of sites with 4 A.molle alleles')\n",
    "nrow(alleleDat[pool_numAlleles == 4])\n",
    "# nrow(alleleDat[pool_numAlleles == 4][pool_check == 0])\n",
    "nrow(alleleDat[pool_numAlleles == 4][pool_check == 1][pool_alleleShared == 'none'])\n",
    "nrow(alleleDat[pool_numAlleles == 4][pool_check == 1][pool_alleleShared %in% c('A','T','C','G')])\n",
    "nrow(alleleDat[pool_numAlleles == 4][pool_check == 1][!pool_alleleShared %in% c('A','T','C','G','none',NA)][pool_minFreq == 0.5])\n",
    "nrow(alleleDat[pool_numAlleles == 4][pool_check == 1][!pool_alleleShared %in% c('A','T','C','G','none',NA)][pool_minFreq != 0.5][check_minAllele == 0])\n",
    "nrow(alleleDat[pool_numAlleles == 4][pool_check == 1][!pool_alleleShared %in% c('A','T','C','G','none',NA)][pool_minFreq != 0.5][check_minAllele == 1])\n",
    "\n",
    "#\n",
    "cat('\\nTotal no. of sites with >4 A.molle alleles')\n",
    "nrow(alleleDat[pool_numAlleles > 4])\n",
    "nrow(alleleDat[pool_numAlleles > 4][pool_check == 1][pool_alleleShared == 'none'])\n",
    "nrow(alleleDat[pool_numAlleles > 4][pool_check == 1][pool_alleleShared %in% c('A','T','C','G')])\n",
    "nrow(alleleDat[pool_numAlleles > 4][pool_check == 1][!pool_alleleShared %in% c('A','T','C','G','none',NA)][pool_minFreq == 0.5])\n",
    "nrow(alleleDat[pool_numAlleles > 4][pool_check == 1][!pool_alleleShared %in% c('A','T','C','G','none',NA)][pool_minFreq != 0.5][check_minAllele == 0])\n",
    "nrow(alleleDat[pool_numAlleles > 4][pool_check == 1][!pool_alleleShared %in% c('A','T','C','G','none',NA)][pool_minFreq != 0.5][check_minAllele == 1])\n"
   ]
  },
  {
   "cell_type": "markdown",
   "id": "09927b04-f4c2-4edc-b2c8-1988f6dd9e11",
   "metadata": {
    "jp-MarkdownHeadingCollapsed": true
   },
   "source": [
    "### Chr6"
   ]
  },
  {
   "cell_type": "code",
   "execution_count": 16,
   "id": "f84adfd4-63fb-4a7b-a85b-da3627748b05",
   "metadata": {},
   "outputs": [],
   "source": [
    "## Chr6\n",
    "alleleDat = fread('~/snap_hap/Amajus_alleles-ancestral/alleleDat_chrom/alleleDat_Chr6.csv', header=T)\n",
    "# str(alleleDat)"
   ]
  },
  {
   "cell_type": "code",
   "execution_count": 17,
   "id": "8fd481b3-bc24-447d-b1dc-d02ce2aaf3ac",
   "metadata": {
    "scrolled": true
   },
   "outputs": [
    {
     "name": "stdout",
     "output_type": "stream",
     "text": [
      "\n",
      "Total no. of sites"
     ]
    },
    {
     "data": {
      "text/html": [
       "2533823"
      ],
      "text/latex": [
       "2533823"
      ],
      "text/markdown": [
       "2533823"
      ],
      "text/plain": [
       "[1] 2533823"
      ]
     },
     "metadata": {},
     "output_type": "display_data"
    },
    {
     "name": "stdout",
     "output_type": "stream",
     "text": [
      "\n",
      "Total no. of sites with no A.molle information"
     ]
    },
    {
     "data": {
      "text/html": [
       "193696"
      ],
      "text/latex": [
       "193696"
      ],
      "text/markdown": [
       "193696"
      ],
      "text/plain": [
       "[1] 193696"
      ]
     },
     "metadata": {},
     "output_type": "display_data"
    },
    {
     "name": "stdout",
     "output_type": "stream",
     "text": [
      "\n",
      "Total no. of sites with 1 A.molle allele"
     ]
    },
    {
     "data": {
      "text/html": [
       "1657077"
      ],
      "text/latex": [
       "1657077"
      ],
      "text/markdown": [
       "1657077"
      ],
      "text/plain": [
       "[1] 1657077"
      ]
     },
     "metadata": {},
     "output_type": "display_data"
    },
    {
     "data": {
      "text/html": [
       "6952"
      ],
      "text/latex": [
       "6952"
      ],
      "text/markdown": [
       "6952"
      ],
      "text/plain": [
       "[1] 6952"
      ]
     },
     "metadata": {},
     "output_type": "display_data"
    },
    {
     "data": {
      "text/html": [
       "1496429"
      ],
      "text/latex": [
       "1496429"
      ],
      "text/markdown": [
       "1496429"
      ],
      "text/plain": [
       "[1] 1496429"
      ]
     },
     "metadata": {},
     "output_type": "display_data"
    },
    {
     "data": {
      "text/html": [
       "153696"
      ],
      "text/latex": [
       "153696"
      ],
      "text/markdown": [
       "153696"
      ],
      "text/plain": [
       "[1] 153696"
      ]
     },
     "metadata": {},
     "output_type": "display_data"
    },
    {
     "name": "stdout",
     "output_type": "stream",
     "text": [
      "\n",
      "Total no. of sites with 2 A.molle alleles"
     ]
    },
    {
     "data": {
      "text/html": [
       "629525"
      ],
      "text/latex": [
       "629525"
      ],
      "text/markdown": [
       "629525"
      ],
      "text/plain": [
       "[1] 629525"
      ]
     },
     "metadata": {},
     "output_type": "display_data"
    },
    {
     "data": {
      "text/html": [
       "318"
      ],
      "text/latex": [
       "318"
      ],
      "text/markdown": [
       "318"
      ],
      "text/plain": [
       "[1] 318"
      ]
     },
     "metadata": {},
     "output_type": "display_data"
    },
    {
     "data": {
      "text/html": [
       "101161"
      ],
      "text/latex": [
       "101161"
      ],
      "text/markdown": [
       "101161"
      ],
      "text/plain": [
       "[1] 101161"
      ]
     },
     "metadata": {},
     "output_type": "display_data"
    },
    {
     "data": {
      "text/html": [
       "6564"
      ],
      "text/latex": [
       "6564"
      ],
      "text/markdown": [
       "6564"
      ],
      "text/plain": [
       "[1] 6564"
      ]
     },
     "metadata": {},
     "output_type": "display_data"
    },
    {
     "data": {
      "text/html": [
       "387388"
      ],
      "text/latex": [
       "387388"
      ],
      "text/markdown": [
       "387388"
      ],
      "text/plain": [
       "[1] 387388"
      ]
     },
     "metadata": {},
     "output_type": "display_data"
    },
    {
     "data": {
      "text/html": [
       "134094"
      ],
      "text/latex": [
       "134094"
      ],
      "text/markdown": [
       "134094"
      ],
      "text/plain": [
       "[1] 134094"
      ]
     },
     "metadata": {},
     "output_type": "display_data"
    },
    {
     "name": "stdout",
     "output_type": "stream",
     "text": [
      "\n",
      "Total no. of sites with 3 A.molle alleles"
     ]
    },
    {
     "data": {
      "text/html": [
       "50771"
      ],
      "text/latex": [
       "50771"
      ],
      "text/markdown": [
       "50771"
      ],
      "text/plain": [
       "[1] 50771"
      ]
     },
     "metadata": {},
     "output_type": "display_data"
    },
    {
     "data": {
      "text/html": [
       "4"
      ],
      "text/latex": [
       "4"
      ],
      "text/markdown": [
       "4"
      ],
      "text/plain": [
       "[1] 4"
      ]
     },
     "metadata": {},
     "output_type": "display_data"
    },
    {
     "data": {
      "text/html": [
       "3747"
      ],
      "text/latex": [
       "3747"
      ],
      "text/markdown": [
       "3747"
      ],
      "text/plain": [
       "[1] 3747"
      ]
     },
     "metadata": {},
     "output_type": "display_data"
    },
    {
     "data": {
      "text/html": [
       "0"
      ],
      "text/latex": [
       "0"
      ],
      "text/markdown": [
       "0"
      ],
      "text/plain": [
       "[1] 0"
      ]
     },
     "metadata": {},
     "output_type": "display_data"
    },
    {
     "data": {
      "text/html": [
       "16670"
      ],
      "text/latex": [
       "16670"
      ],
      "text/markdown": [
       "16670"
      ],
      "text/plain": [
       "[1] 16670"
      ]
     },
     "metadata": {},
     "output_type": "display_data"
    },
    {
     "data": {
      "text/html": [
       "30350"
      ],
      "text/latex": [
       "30350"
      ],
      "text/markdown": [
       "30350"
      ],
      "text/plain": [
       "[1] 30350"
      ]
     },
     "metadata": {},
     "output_type": "display_data"
    },
    {
     "name": "stdout",
     "output_type": "stream",
     "text": [
      "\n",
      "Total no. of sites with 4 A.molle alleles"
     ]
    },
    {
     "data": {
      "text/html": [
       "2666"
      ],
      "text/latex": [
       "2666"
      ],
      "text/markdown": [
       "2666"
      ],
      "text/plain": [
       "[1] 2666"
      ]
     },
     "metadata": {},
     "output_type": "display_data"
    },
    {
     "data": {
      "text/html": [
       "0"
      ],
      "text/latex": [
       "0"
      ],
      "text/markdown": [
       "0"
      ],
      "text/plain": [
       "[1] 0"
      ]
     },
     "metadata": {},
     "output_type": "display_data"
    },
    {
     "data": {
      "text/html": [
       "96"
      ],
      "text/latex": [
       "96"
      ],
      "text/markdown": [
       "96"
      ],
      "text/plain": [
       "[1] 96"
      ]
     },
     "metadata": {},
     "output_type": "display_data"
    },
    {
     "data": {
      "text/html": [
       "0"
      ],
      "text/latex": [
       "0"
      ],
      "text/markdown": [
       "0"
      ],
      "text/plain": [
       "[1] 0"
      ]
     },
     "metadata": {},
     "output_type": "display_data"
    },
    {
     "data": {
      "text/html": [
       "1285"
      ],
      "text/latex": [
       "1285"
      ],
      "text/markdown": [
       "1285"
      ],
      "text/plain": [
       "[1] 1285"
      ]
     },
     "metadata": {},
     "output_type": "display_data"
    },
    {
     "data": {
      "text/html": [
       "1285"
      ],
      "text/latex": [
       "1285"
      ],
      "text/markdown": [
       "1285"
      ],
      "text/plain": [
       "[1] 1285"
      ]
     },
     "metadata": {},
     "output_type": "display_data"
    },
    {
     "name": "stdout",
     "output_type": "stream",
     "text": [
      "\n",
      "Total no. of sites with >4 A.molle alleles"
     ]
    },
    {
     "data": {
      "text/html": [
       "88"
      ],
      "text/latex": [
       "88"
      ],
      "text/markdown": [
       "88"
      ],
      "text/plain": [
       "[1] 88"
      ]
     },
     "metadata": {},
     "output_type": "display_data"
    },
    {
     "data": {
      "text/html": [
       "0"
      ],
      "text/latex": [
       "0"
      ],
      "text/markdown": [
       "0"
      ],
      "text/plain": [
       "[1] 0"
      ]
     },
     "metadata": {},
     "output_type": "display_data"
    },
    {
     "data": {
      "text/html": [
       "0"
      ],
      "text/latex": [
       "0"
      ],
      "text/markdown": [
       "0"
      ],
      "text/plain": [
       "[1] 0"
      ]
     },
     "metadata": {},
     "output_type": "display_data"
    },
    {
     "data": {
      "text/html": [
       "0"
      ],
      "text/latex": [
       "0"
      ],
      "text/markdown": [
       "0"
      ],
      "text/plain": [
       "[1] 0"
      ]
     },
     "metadata": {},
     "output_type": "display_data"
    },
    {
     "data": {
      "text/html": [
       "47"
      ],
      "text/latex": [
       "47"
      ],
      "text/markdown": [
       "47"
      ],
      "text/plain": [
       "[1] 47"
      ]
     },
     "metadata": {},
     "output_type": "display_data"
    },
    {
     "data": {
      "text/html": [
       "41"
      ],
      "text/latex": [
       "41"
      ],
      "text/markdown": [
       "41"
      ],
      "text/plain": [
       "[1] 41"
      ]
     },
     "metadata": {},
     "output_type": "display_data"
    }
   ],
   "source": [
    "cat('\\nTotal no. of sites')\n",
    "nrow(alleleDat)\n",
    "\n",
    "#\n",
    "cat('\\nTotal no. of sites with no A.molle information')\n",
    "nrow(alleleDat[pool_numAlleles == 0])\n",
    "# nrow(alleleDat[pool_numAlleles != 0])\n",
    "\n",
    "#\n",
    "cat('\\nTotal no. of sites with 1 A.molle allele')\n",
    "nrow(alleleDat[pool_numAlleles == 1])\n",
    "nrow(alleleDat[pool_numAlleles == 1][pool_check == 1])\n",
    "# nrow(alleleDat[pool_numAlleles == 1][pool_check == 0])\n",
    "nrow(alleleDat[pool_numAlleles == 1][pool_check == 0][check_minAllele == 0])\n",
    "nrow(alleleDat[pool_numAlleles == 1][pool_check == 0][check_minAllele == 1])\n",
    "\n",
    "#\n",
    "cat('\\nTotal no. of sites with 2 A.molle alleles')\n",
    "nrow(alleleDat[pool_numAlleles == 2])\n",
    "nrow(alleleDat[pool_numAlleles == 2][pool_check == 1][pool_alleleShared == 'none'])\n",
    "nrow(alleleDat[pool_numAlleles == 2][pool_check == 1][pool_alleleShared != 'none'])\n",
    "nrow(alleleDat[pool_numAlleles == 2][pool_check == 0][pool_minFreq == 0.5])\n",
    "nrow(alleleDat[pool_numAlleles == 2][pool_check == 0][pool_minFreq != 0.5][check_minAllele == 0])\n",
    "nrow(alleleDat[pool_numAlleles == 2][pool_check == 0][pool_minFreq != 0.5][check_minAllele == 1])\n",
    "\n",
    "#\n",
    "cat('\\nTotal no. of sites with 3 A.molle alleles')\n",
    "nrow(alleleDat[pool_numAlleles == 3])\n",
    "# nrow(alleleDat[pool_numAlleles == 3][pool_check == 0])\n",
    "nrow(alleleDat[pool_numAlleles == 3][pool_check == 1][pool_alleleShared == 'none'])\n",
    "nrow(alleleDat[pool_numAlleles == 3][pool_check == 1][pool_alleleShared %in% c('A','T','C','G')])\n",
    "nrow(alleleDat[pool_numAlleles == 3][pool_check == 1][!pool_alleleShared %in% c('A','T','C','G','none',NA)][pool_minFreq == 0.5])\n",
    "nrow(alleleDat[pool_numAlleles == 3][pool_check == 1][!pool_alleleShared %in% c('A','T','C','G','none',NA)][pool_minFreq != 0.5][check_minAllele == 0])\n",
    "nrow(alleleDat[pool_numAlleles == 3][pool_check == 1][!pool_alleleShared %in% c('A','T','C','G','none',NA)][pool_minFreq != 0.5][check_minAllele == 1])\n",
    "\n",
    "#\n",
    "cat('\\nTotal no. of sites with 4 A.molle alleles')\n",
    "nrow(alleleDat[pool_numAlleles == 4])\n",
    "# nrow(alleleDat[pool_numAlleles == 4][pool_check == 0])\n",
    "nrow(alleleDat[pool_numAlleles == 4][pool_check == 1][pool_alleleShared == 'none'])\n",
    "nrow(alleleDat[pool_numAlleles == 4][pool_check == 1][pool_alleleShared %in% c('A','T','C','G')])\n",
    "nrow(alleleDat[pool_numAlleles == 4][pool_check == 1][!pool_alleleShared %in% c('A','T','C','G','none',NA)][pool_minFreq == 0.5])\n",
    "nrow(alleleDat[pool_numAlleles == 4][pool_check == 1][!pool_alleleShared %in% c('A','T','C','G','none',NA)][pool_minFreq != 0.5][check_minAllele == 0])\n",
    "nrow(alleleDat[pool_numAlleles == 4][pool_check == 1][!pool_alleleShared %in% c('A','T','C','G','none',NA)][pool_minFreq != 0.5][check_minAllele == 1])\n",
    "\n",
    "#\n",
    "cat('\\nTotal no. of sites with >4 A.molle alleles')\n",
    "nrow(alleleDat[pool_numAlleles > 4])\n",
    "nrow(alleleDat[pool_numAlleles > 4][pool_check == 1][pool_alleleShared == 'none'])\n",
    "nrow(alleleDat[pool_numAlleles > 4][pool_check == 1][pool_alleleShared %in% c('A','T','C','G')])\n",
    "nrow(alleleDat[pool_numAlleles > 4][pool_check == 1][!pool_alleleShared %in% c('A','T','C','G','none',NA)][pool_minFreq == 0.5])\n",
    "nrow(alleleDat[pool_numAlleles > 4][pool_check == 1][!pool_alleleShared %in% c('A','T','C','G','none',NA)][pool_minFreq != 0.5][check_minAllele == 0])\n",
    "nrow(alleleDat[pool_numAlleles > 4][pool_check == 1][!pool_alleleShared %in% c('A','T','C','G','none',NA)][pool_minFreq != 0.5][check_minAllele == 1])\n"
   ]
  },
  {
   "cell_type": "markdown",
   "id": "c1ba137a-a6ba-4126-a61b-44f2e3aa0086",
   "metadata": {
    "jp-MarkdownHeadingCollapsed": true
   },
   "source": [
    "### Chr7"
   ]
  },
  {
   "cell_type": "code",
   "execution_count": 22,
   "id": "31feaec5-c661-4200-8626-bde77c07af7b",
   "metadata": {},
   "outputs": [],
   "source": [
    "## Chr7\n",
    "alleleDat = fread('~/snap_hap/Amajus_alleles-ancestral/alleleDat_chrom/alleleDat_Chr7.csv', header=T)\n",
    "# str(alleleDat)"
   ]
  },
  {
   "cell_type": "code",
   "execution_count": 23,
   "id": "ffa38935-f4df-4cd3-a769-8481de347ae4",
   "metadata": {
    "scrolled": true
   },
   "outputs": [
    {
     "name": "stdout",
     "output_type": "stream",
     "text": [
      "\n",
      "Total no. of sites"
     ]
    },
    {
     "data": {
      "text/html": [
       "2358818"
      ],
      "text/latex": [
       "2358818"
      ],
      "text/markdown": [
       "2358818"
      ],
      "text/plain": [
       "[1] 2358818"
      ]
     },
     "metadata": {},
     "output_type": "display_data"
    },
    {
     "name": "stdout",
     "output_type": "stream",
     "text": [
      "\n",
      "Total no. of sites with no A.molle information"
     ]
    },
    {
     "data": {
      "text/html": [
       "150312"
      ],
      "text/latex": [
       "150312"
      ],
      "text/markdown": [
       "150312"
      ],
      "text/plain": [
       "[1] 150312"
      ]
     },
     "metadata": {},
     "output_type": "display_data"
    },
    {
     "name": "stdout",
     "output_type": "stream",
     "text": [
      "\n",
      "Total no. of sites with 1 A.molle allele"
     ]
    },
    {
     "data": {
      "text/html": [
       "1484051"
      ],
      "text/latex": [
       "1484051"
      ],
      "text/markdown": [
       "1484051"
      ],
      "text/plain": [
       "[1] 1484051"
      ]
     },
     "metadata": {},
     "output_type": "display_data"
    },
    {
     "data": {
      "text/html": [
       "4204"
      ],
      "text/latex": [
       "4204"
      ],
      "text/markdown": [
       "4204"
      ],
      "text/plain": [
       "[1] 4204"
      ]
     },
     "metadata": {},
     "output_type": "display_data"
    },
    {
     "data": {
      "text/html": [
       "1376737"
      ],
      "text/latex": [
       "1376737"
      ],
      "text/markdown": [
       "1376737"
      ],
      "text/plain": [
       "[1] 1376737"
      ]
     },
     "metadata": {},
     "output_type": "display_data"
    },
    {
     "data": {
      "text/html": [
       "103110"
      ],
      "text/latex": [
       "103110"
      ],
      "text/markdown": [
       "103110"
      ],
      "text/plain": [
       "[1] 103110"
      ]
     },
     "metadata": {},
     "output_type": "display_data"
    },
    {
     "name": "stdout",
     "output_type": "stream",
     "text": [
      "\n",
      "Total no. of sites with 2 A.molle alleles"
     ]
    },
    {
     "data": {
      "text/html": [
       "667769"
      ],
      "text/latex": [
       "667769"
      ],
      "text/markdown": [
       "667769"
      ],
      "text/plain": [
       "[1] 667769"
      ]
     },
     "metadata": {},
     "output_type": "display_data"
    },
    {
     "data": {
      "text/html": [
       "169"
      ],
      "text/latex": [
       "169"
      ],
      "text/markdown": [
       "169"
      ],
      "text/plain": [
       "[1] 169"
      ]
     },
     "metadata": {},
     "output_type": "display_data"
    },
    {
     "data": {
      "text/html": [
       "90810"
      ],
      "text/latex": [
       "90810"
      ],
      "text/markdown": [
       "90810"
      ],
      "text/plain": [
       "[1] 90810"
      ]
     },
     "metadata": {},
     "output_type": "display_data"
    },
    {
     "data": {
      "text/html": [
       "8153"
      ],
      "text/latex": [
       "8153"
      ],
      "text/markdown": [
       "8153"
      ],
      "text/plain": [
       "[1] 8153"
      ]
     },
     "metadata": {},
     "output_type": "display_data"
    },
    {
     "data": {
      "text/html": [
       "414640"
      ],
      "text/latex": [
       "414640"
      ],
      "text/markdown": [
       "414640"
      ],
      "text/plain": [
       "[1] 414640"
      ]
     },
     "metadata": {},
     "output_type": "display_data"
    },
    {
     "data": {
      "text/html": [
       "153997"
      ],
      "text/latex": [
       "153997"
      ],
      "text/markdown": [
       "153997"
      ],
      "text/plain": [
       "[1] 153997"
      ]
     },
     "metadata": {},
     "output_type": "display_data"
    },
    {
     "name": "stdout",
     "output_type": "stream",
     "text": [
      "\n",
      "Total no. of sites with 3 A.molle alleles"
     ]
    },
    {
     "data": {
      "text/html": [
       "53832"
      ],
      "text/latex": [
       "53832"
      ],
      "text/markdown": [
       "53832"
      ],
      "text/plain": [
       "[1] 53832"
      ]
     },
     "metadata": {},
     "output_type": "display_data"
    },
    {
     "data": {
      "text/html": [
       "5"
      ],
      "text/latex": [
       "5"
      ],
      "text/markdown": [
       "5"
      ],
      "text/plain": [
       "[1] 5"
      ]
     },
     "metadata": {},
     "output_type": "display_data"
    },
    {
     "data": {
      "text/html": [
       "3537"
      ],
      "text/latex": [
       "3537"
      ],
      "text/markdown": [
       "3537"
      ],
      "text/plain": [
       "[1] 3537"
      ]
     },
     "metadata": {},
     "output_type": "display_data"
    },
    {
     "data": {
      "text/html": [
       "0"
      ],
      "text/latex": [
       "0"
      ],
      "text/markdown": [
       "0"
      ],
      "text/plain": [
       "[1] 0"
      ]
     },
     "metadata": {},
     "output_type": "display_data"
    },
    {
     "data": {
      "text/html": [
       "17408"
      ],
      "text/latex": [
       "17408"
      ],
      "text/markdown": [
       "17408"
      ],
      "text/plain": [
       "[1] 17408"
      ]
     },
     "metadata": {},
     "output_type": "display_data"
    },
    {
     "data": {
      "text/html": [
       "32882"
      ],
      "text/latex": [
       "32882"
      ],
      "text/markdown": [
       "32882"
      ],
      "text/plain": [
       "[1] 32882"
      ]
     },
     "metadata": {},
     "output_type": "display_data"
    },
    {
     "name": "stdout",
     "output_type": "stream",
     "text": [
      "\n",
      "Total no. of sites with 4 A.molle alleles"
     ]
    },
    {
     "data": {
      "text/html": [
       "2775"
      ],
      "text/latex": [
       "2775"
      ],
      "text/markdown": [
       "2775"
      ],
      "text/plain": [
       "[1] 2775"
      ]
     },
     "metadata": {},
     "output_type": "display_data"
    },
    {
     "data": {
      "text/html": [
       "0"
      ],
      "text/latex": [
       "0"
      ],
      "text/markdown": [
       "0"
      ],
      "text/plain": [
       "[1] 0"
      ]
     },
     "metadata": {},
     "output_type": "display_data"
    },
    {
     "data": {
      "text/html": [
       "76"
      ],
      "text/latex": [
       "76"
      ],
      "text/markdown": [
       "76"
      ],
      "text/plain": [
       "[1] 76"
      ]
     },
     "metadata": {},
     "output_type": "display_data"
    },
    {
     "data": {
      "text/html": [
       "0"
      ],
      "text/latex": [
       "0"
      ],
      "text/markdown": [
       "0"
      ],
      "text/plain": [
       "[1] 0"
      ]
     },
     "metadata": {},
     "output_type": "display_data"
    },
    {
     "data": {
      "text/html": [
       "1279"
      ],
      "text/latex": [
       "1279"
      ],
      "text/markdown": [
       "1279"
      ],
      "text/plain": [
       "[1] 1279"
      ]
     },
     "metadata": {},
     "output_type": "display_data"
    },
    {
     "data": {
      "text/html": [
       "1420"
      ],
      "text/latex": [
       "1420"
      ],
      "text/markdown": [
       "1420"
      ],
      "text/plain": [
       "[1] 1420"
      ]
     },
     "metadata": {},
     "output_type": "display_data"
    },
    {
     "name": "stdout",
     "output_type": "stream",
     "text": [
      "\n",
      "Total no. of sites with >4 A.molle alleles"
     ]
    },
    {
     "data": {
      "text/html": [
       "79"
      ],
      "text/latex": [
       "79"
      ],
      "text/markdown": [
       "79"
      ],
      "text/plain": [
       "[1] 79"
      ]
     },
     "metadata": {},
     "output_type": "display_data"
    },
    {
     "data": {
      "text/html": [
       "0"
      ],
      "text/latex": [
       "0"
      ],
      "text/markdown": [
       "0"
      ],
      "text/plain": [
       "[1] 0"
      ]
     },
     "metadata": {},
     "output_type": "display_data"
    },
    {
     "data": {
      "text/html": [
       "0"
      ],
      "text/latex": [
       "0"
      ],
      "text/markdown": [
       "0"
      ],
      "text/plain": [
       "[1] 0"
      ]
     },
     "metadata": {},
     "output_type": "display_data"
    },
    {
     "data": {
      "text/html": [
       "0"
      ],
      "text/latex": [
       "0"
      ],
      "text/markdown": [
       "0"
      ],
      "text/plain": [
       "[1] 0"
      ]
     },
     "metadata": {},
     "output_type": "display_data"
    },
    {
     "data": {
      "text/html": [
       "44"
      ],
      "text/latex": [
       "44"
      ],
      "text/markdown": [
       "44"
      ],
      "text/plain": [
       "[1] 44"
      ]
     },
     "metadata": {},
     "output_type": "display_data"
    },
    {
     "data": {
      "text/html": [
       "35"
      ],
      "text/latex": [
       "35"
      ],
      "text/markdown": [
       "35"
      ],
      "text/plain": [
       "[1] 35"
      ]
     },
     "metadata": {},
     "output_type": "display_data"
    }
   ],
   "source": [
    "cat('\\nTotal no. of sites')\n",
    "nrow(alleleDat)\n",
    "\n",
    "#\n",
    "cat('\\nTotal no. of sites with no A.molle information')\n",
    "nrow(alleleDat[pool_numAlleles == 0])\n",
    "# nrow(alleleDat[pool_numAlleles != 0])\n",
    "\n",
    "#\n",
    "cat('\\nTotal no. of sites with 1 A.molle allele')\n",
    "nrow(alleleDat[pool_numAlleles == 1])\n",
    "nrow(alleleDat[pool_numAlleles == 1][pool_check == 1])\n",
    "# nrow(alleleDat[pool_numAlleles == 1][pool_check == 0])\n",
    "nrow(alleleDat[pool_numAlleles == 1][pool_check == 0][check_minAllele == 0])\n",
    "nrow(alleleDat[pool_numAlleles == 1][pool_check == 0][check_minAllele == 1])\n",
    "\n",
    "#\n",
    "cat('\\nTotal no. of sites with 2 A.molle alleles')\n",
    "nrow(alleleDat[pool_numAlleles == 2])\n",
    "nrow(alleleDat[pool_numAlleles == 2][pool_check == 1][pool_alleleShared == 'none'])\n",
    "nrow(alleleDat[pool_numAlleles == 2][pool_check == 1][pool_alleleShared != 'none'])\n",
    "nrow(alleleDat[pool_numAlleles == 2][pool_check == 0][pool_minFreq == 0.5])\n",
    "nrow(alleleDat[pool_numAlleles == 2][pool_check == 0][pool_minFreq != 0.5][check_minAllele == 0])\n",
    "nrow(alleleDat[pool_numAlleles == 2][pool_check == 0][pool_minFreq != 0.5][check_minAllele == 1])\n",
    "\n",
    "#\n",
    "cat('\\nTotal no. of sites with 3 A.molle alleles')\n",
    "nrow(alleleDat[pool_numAlleles == 3])\n",
    "# nrow(alleleDat[pool_numAlleles == 3][pool_check == 0])\n",
    "nrow(alleleDat[pool_numAlleles == 3][pool_check == 1][pool_alleleShared == 'none'])\n",
    "nrow(alleleDat[pool_numAlleles == 3][pool_check == 1][pool_alleleShared %in% c('A','T','C','G')])\n",
    "nrow(alleleDat[pool_numAlleles == 3][pool_check == 1][!pool_alleleShared %in% c('A','T','C','G','none',NA)][pool_minFreq == 0.5])\n",
    "nrow(alleleDat[pool_numAlleles == 3][pool_check == 1][!pool_alleleShared %in% c('A','T','C','G','none',NA)][pool_minFreq != 0.5][check_minAllele == 0])\n",
    "nrow(alleleDat[pool_numAlleles == 3][pool_check == 1][!pool_alleleShared %in% c('A','T','C','G','none',NA)][pool_minFreq != 0.5][check_minAllele == 1])\n",
    "\n",
    "#\n",
    "cat('\\nTotal no. of sites with 4 A.molle alleles')\n",
    "nrow(alleleDat[pool_numAlleles == 4])\n",
    "# nrow(alleleDat[pool_numAlleles == 4][pool_check == 0])\n",
    "nrow(alleleDat[pool_numAlleles == 4][pool_check == 1][pool_alleleShared == 'none'])\n",
    "nrow(alleleDat[pool_numAlleles == 4][pool_check == 1][pool_alleleShared %in% c('A','T','C','G')])\n",
    "nrow(alleleDat[pool_numAlleles == 4][pool_check == 1][!pool_alleleShared %in% c('A','T','C','G','none',NA)][pool_minFreq == 0.5])\n",
    "nrow(alleleDat[pool_numAlleles == 4][pool_check == 1][!pool_alleleShared %in% c('A','T','C','G','none',NA)][pool_minFreq != 0.5][check_minAllele == 0])\n",
    "nrow(alleleDat[pool_numAlleles == 4][pool_check == 1][!pool_alleleShared %in% c('A','T','C','G','none',NA)][pool_minFreq != 0.5][check_minAllele == 1])\n",
    "\n",
    "#\n",
    "cat('\\nTotal no. of sites with >4 A.molle alleles')\n",
    "nrow(alleleDat[pool_numAlleles > 4])\n",
    "nrow(alleleDat[pool_numAlleles > 4][pool_check == 1][pool_alleleShared == 'none'])\n",
    "nrow(alleleDat[pool_numAlleles > 4][pool_check == 1][pool_alleleShared %in% c('A','T','C','G')])\n",
    "nrow(alleleDat[pool_numAlleles > 4][pool_check == 1][!pool_alleleShared %in% c('A','T','C','G','none',NA)][pool_minFreq == 0.5])\n",
    "nrow(alleleDat[pool_numAlleles > 4][pool_check == 1][!pool_alleleShared %in% c('A','T','C','G','none',NA)][pool_minFreq != 0.5][check_minAllele == 0])\n",
    "nrow(alleleDat[pool_numAlleles > 4][pool_check == 1][!pool_alleleShared %in% c('A','T','C','G','none',NA)][pool_minFreq != 0.5][check_minAllele == 1])\n"
   ]
  },
  {
   "cell_type": "markdown",
   "id": "edacbdca-71ff-467f-b5a5-fb4a8bd011a2",
   "metadata": {},
   "source": [
    "### Chr8"
   ]
  },
  {
   "cell_type": "code",
   "execution_count": 27,
   "id": "90e7b87d-7ce6-4a4b-8cb4-b6b7d8ae11ae",
   "metadata": {},
   "outputs": [],
   "source": [
    "## Chr8\n",
    "alleleDat = fread('~/snap_hap/Amajus_alleles-ancestral/alleleDat_chrom/alleleDat_Chr8.csv', header=T)\n",
    "# str(alleleDat)"
   ]
  },
  {
   "cell_type": "code",
   "execution_count": 28,
   "id": "90424f2a-02c2-4b00-94ad-49cbfdd0ec2e",
   "metadata": {
    "scrolled": true
   },
   "outputs": [
    {
     "name": "stdout",
     "output_type": "stream",
     "text": [
      "\n",
      "Total no. of sites"
     ]
    },
    {
     "data": {
      "text/html": [
       "2765149"
      ],
      "text/latex": [
       "2765149"
      ],
      "text/markdown": [
       "2765149"
      ],
      "text/plain": [
       "[1] 2765149"
      ]
     },
     "metadata": {},
     "output_type": "display_data"
    },
    {
     "name": "stdout",
     "output_type": "stream",
     "text": [
      "\n",
      "Total no. of sites with no A.molle information"
     ]
    },
    {
     "data": {
      "text/html": [
       "178211"
      ],
      "text/latex": [
       "178211"
      ],
      "text/markdown": [
       "178211"
      ],
      "text/plain": [
       "[1] 178211"
      ]
     },
     "metadata": {},
     "output_type": "display_data"
    },
    {
     "name": "stdout",
     "output_type": "stream",
     "text": [
      "\n",
      "Total no. of sites with 1 A.molle allele"
     ]
    },
    {
     "data": {
      "text/html": [
       "1792188"
      ],
      "text/latex": [
       "1792188"
      ],
      "text/markdown": [
       "1792188"
      ],
      "text/plain": [
       "[1] 1792188"
      ]
     },
     "metadata": {},
     "output_type": "display_data"
    },
    {
     "data": {
      "text/html": [
       "5218"
      ],
      "text/latex": [
       "5218"
      ],
      "text/markdown": [
       "5218"
      ],
      "text/plain": [
       "[1] 5218"
      ]
     },
     "metadata": {},
     "output_type": "display_data"
    },
    {
     "data": {
      "text/html": [
       "1646688"
      ],
      "text/latex": [
       "1646688"
      ],
      "text/markdown": [
       "1646688"
      ],
      "text/plain": [
       "[1] 1646688"
      ]
     },
     "metadata": {},
     "output_type": "display_data"
    },
    {
     "data": {
      "text/html": [
       "140282"
      ],
      "text/latex": [
       "140282"
      ],
      "text/markdown": [
       "140282"
      ],
      "text/plain": [
       "[1] 140282"
      ]
     },
     "metadata": {},
     "output_type": "display_data"
    },
    {
     "name": "stdout",
     "output_type": "stream",
     "text": [
      "\n",
      "Total no. of sites with 2 A.molle alleles"
     ]
    },
    {
     "data": {
      "text/html": [
       "730961"
      ],
      "text/latex": [
       "730961"
      ],
      "text/markdown": [
       "730961"
      ],
      "text/plain": [
       "[1] 730961"
      ]
     },
     "metadata": {},
     "output_type": "display_data"
    },
    {
     "data": {
      "text/html": [
       "218"
      ],
      "text/latex": [
       "218"
      ],
      "text/markdown": [
       "218"
      ],
      "text/plain": [
       "[1] 218"
      ]
     },
     "metadata": {},
     "output_type": "display_data"
    },
    {
     "data": {
      "text/html": [
       "116302"
      ],
      "text/latex": [
       "116302"
      ],
      "text/markdown": [
       "116302"
      ],
      "text/plain": [
       "[1] 116302"
      ]
     },
     "metadata": {},
     "output_type": "display_data"
    },
    {
     "data": {
      "text/html": [
       "9567"
      ],
      "text/latex": [
       "9567"
      ],
      "text/markdown": [
       "9567"
      ],
      "text/plain": [
       "[1] 9567"
      ]
     },
     "metadata": {},
     "output_type": "display_data"
    },
    {
     "data": {
      "text/html": [
       "442500"
      ],
      "text/latex": [
       "442500"
      ],
      "text/markdown": [
       "442500"
      ],
      "text/plain": [
       "[1] 442500"
      ]
     },
     "metadata": {},
     "output_type": "display_data"
    },
    {
     "data": {
      "text/html": [
       "162374"
      ],
      "text/latex": [
       "162374"
      ],
      "text/markdown": [
       "162374"
      ],
      "text/plain": [
       "[1] 162374"
      ]
     },
     "metadata": {},
     "output_type": "display_data"
    },
    {
     "name": "stdout",
     "output_type": "stream",
     "text": [
      "\n",
      "Total no. of sites with 3 A.molle alleles"
     ]
    },
    {
     "data": {
      "text/html": [
       "60620"
      ],
      "text/latex": [
       "60620"
      ],
      "text/markdown": [
       "60620"
      ],
      "text/plain": [
       "[1] 60620"
      ]
     },
     "metadata": {},
     "output_type": "display_data"
    },
    {
     "data": {
      "text/html": [
       "2"
      ],
      "text/latex": [
       "2"
      ],
      "text/markdown": [
       "2"
      ],
      "text/plain": [
       "[1] 2"
      ]
     },
     "metadata": {},
     "output_type": "display_data"
    },
    {
     "data": {
      "text/html": [
       "4484"
      ],
      "text/latex": [
       "4484"
      ],
      "text/markdown": [
       "4484"
      ],
      "text/plain": [
       "[1] 4484"
      ]
     },
     "metadata": {},
     "output_type": "display_data"
    },
    {
     "data": {
      "text/html": [
       "0"
      ],
      "text/latex": [
       "0"
      ],
      "text/markdown": [
       "0"
      ],
      "text/plain": [
       "[1] 0"
      ]
     },
     "metadata": {},
     "output_type": "display_data"
    },
    {
     "data": {
      "text/html": [
       "20135"
      ],
      "text/latex": [
       "20135"
      ],
      "text/markdown": [
       "20135"
      ],
      "text/plain": [
       "[1] 20135"
      ]
     },
     "metadata": {},
     "output_type": "display_data"
    },
    {
     "data": {
      "text/html": [
       "35999"
      ],
      "text/latex": [
       "35999"
      ],
      "text/markdown": [
       "35999"
      ],
      "text/plain": [
       "[1] 35999"
      ]
     },
     "metadata": {},
     "output_type": "display_data"
    },
    {
     "name": "stdout",
     "output_type": "stream",
     "text": [
      "\n",
      "Total no. of sites with 4 A.molle alleles"
     ]
    },
    {
     "data": {
      "text/html": [
       "3075"
      ],
      "text/latex": [
       "3075"
      ],
      "text/markdown": [
       "3075"
      ],
      "text/plain": [
       "[1] 3075"
      ]
     },
     "metadata": {},
     "output_type": "display_data"
    },
    {
     "data": {
      "text/html": [
       "0"
      ],
      "text/latex": [
       "0"
      ],
      "text/markdown": [
       "0"
      ],
      "text/plain": [
       "[1] 0"
      ]
     },
     "metadata": {},
     "output_type": "display_data"
    },
    {
     "data": {
      "text/html": [
       "84"
      ],
      "text/latex": [
       "84"
      ],
      "text/markdown": [
       "84"
      ],
      "text/plain": [
       "[1] 84"
      ]
     },
     "metadata": {},
     "output_type": "display_data"
    },
    {
     "data": {
      "text/html": [
       "0"
      ],
      "text/latex": [
       "0"
      ],
      "text/markdown": [
       "0"
      ],
      "text/plain": [
       "[1] 0"
      ]
     },
     "metadata": {},
     "output_type": "display_data"
    },
    {
     "data": {
      "text/html": [
       "1510"
      ],
      "text/latex": [
       "1510"
      ],
      "text/markdown": [
       "1510"
      ],
      "text/plain": [
       "[1] 1510"
      ]
     },
     "metadata": {},
     "output_type": "display_data"
    },
    {
     "data": {
      "text/html": [
       "1481"
      ],
      "text/latex": [
       "1481"
      ],
      "text/markdown": [
       "1481"
      ],
      "text/plain": [
       "[1] 1481"
      ]
     },
     "metadata": {},
     "output_type": "display_data"
    },
    {
     "name": "stdout",
     "output_type": "stream",
     "text": [
      "\n",
      "Total no. of sites with >4 A.molle alleles"
     ]
    },
    {
     "data": {
      "text/html": [
       "94"
      ],
      "text/latex": [
       "94"
      ],
      "text/markdown": [
       "94"
      ],
      "text/plain": [
       "[1] 94"
      ]
     },
     "metadata": {},
     "output_type": "display_data"
    },
    {
     "data": {
      "text/html": [
       "0"
      ],
      "text/latex": [
       "0"
      ],
      "text/markdown": [
       "0"
      ],
      "text/plain": [
       "[1] 0"
      ]
     },
     "metadata": {},
     "output_type": "display_data"
    },
    {
     "data": {
      "text/html": [
       "0"
      ],
      "text/latex": [
       "0"
      ],
      "text/markdown": [
       "0"
      ],
      "text/plain": [
       "[1] 0"
      ]
     },
     "metadata": {},
     "output_type": "display_data"
    },
    {
     "data": {
      "text/html": [
       "0"
      ],
      "text/latex": [
       "0"
      ],
      "text/markdown": [
       "0"
      ],
      "text/plain": [
       "[1] 0"
      ]
     },
     "metadata": {},
     "output_type": "display_data"
    },
    {
     "data": {
      "text/html": [
       "55"
      ],
      "text/latex": [
       "55"
      ],
      "text/markdown": [
       "55"
      ],
      "text/plain": [
       "[1] 55"
      ]
     },
     "metadata": {},
     "output_type": "display_data"
    },
    {
     "data": {
      "text/html": [
       "39"
      ],
      "text/latex": [
       "39"
      ],
      "text/markdown": [
       "39"
      ],
      "text/plain": [
       "[1] 39"
      ]
     },
     "metadata": {},
     "output_type": "display_data"
    }
   ],
   "source": [
    "cat('\\nTotal no. of sites')\n",
    "nrow(alleleDat)\n",
    "\n",
    "#\n",
    "cat('\\nTotal no. of sites with no A.molle information')\n",
    "nrow(alleleDat[pool_numAlleles == 0])\n",
    "# nrow(alleleDat[pool_numAlleles != 0])\n",
    "\n",
    "#\n",
    "cat('\\nTotal no. of sites with 1 A.molle allele')\n",
    "nrow(alleleDat[pool_numAlleles == 1])\n",
    "nrow(alleleDat[pool_numAlleles == 1][pool_check == 1])\n",
    "# nrow(alleleDat[pool_numAlleles == 1][pool_check == 0])\n",
    "nrow(alleleDat[pool_numAlleles == 1][pool_check == 0][check_minAllele == 0])\n",
    "nrow(alleleDat[pool_numAlleles == 1][pool_check == 0][check_minAllele == 1])\n",
    "\n",
    "#\n",
    "cat('\\nTotal no. of sites with 2 A.molle alleles')\n",
    "nrow(alleleDat[pool_numAlleles == 2])\n",
    "nrow(alleleDat[pool_numAlleles == 2][pool_check == 1][pool_alleleShared == 'none'])\n",
    "nrow(alleleDat[pool_numAlleles == 2][pool_check == 1][pool_alleleShared != 'none'])\n",
    "nrow(alleleDat[pool_numAlleles == 2][pool_check == 0][pool_minFreq == 0.5])\n",
    "nrow(alleleDat[pool_numAlleles == 2][pool_check == 0][pool_minFreq != 0.5][check_minAllele == 0])\n",
    "nrow(alleleDat[pool_numAlleles == 2][pool_check == 0][pool_minFreq != 0.5][check_minAllele == 1])\n",
    "\n",
    "#\n",
    "cat('\\nTotal no. of sites with 3 A.molle alleles')\n",
    "nrow(alleleDat[pool_numAlleles == 3])\n",
    "# nrow(alleleDat[pool_numAlleles == 3][pool_check == 0])\n",
    "nrow(alleleDat[pool_numAlleles == 3][pool_check == 1][pool_alleleShared == 'none'])\n",
    "nrow(alleleDat[pool_numAlleles == 3][pool_check == 1][pool_alleleShared %in% c('A','T','C','G')])\n",
    "nrow(alleleDat[pool_numAlleles == 3][pool_check == 1][!pool_alleleShared %in% c('A','T','C','G','none',NA)][pool_minFreq == 0.5])\n",
    "nrow(alleleDat[pool_numAlleles == 3][pool_check == 1][!pool_alleleShared %in% c('A','T','C','G','none',NA)][pool_minFreq != 0.5][check_minAllele == 0])\n",
    "nrow(alleleDat[pool_numAlleles == 3][pool_check == 1][!pool_alleleShared %in% c('A','T','C','G','none',NA)][pool_minFreq != 0.5][check_minAllele == 1])\n",
    "\n",
    "#\n",
    "cat('\\nTotal no. of sites with 4 A.molle alleles')\n",
    "nrow(alleleDat[pool_numAlleles == 4])\n",
    "# nrow(alleleDat[pool_numAlleles == 4][pool_check == 0])\n",
    "nrow(alleleDat[pool_numAlleles == 4][pool_check == 1][pool_alleleShared == 'none'])\n",
    "nrow(alleleDat[pool_numAlleles == 4][pool_check == 1][pool_alleleShared %in% c('A','T','C','G')])\n",
    "nrow(alleleDat[pool_numAlleles == 4][pool_check == 1][!pool_alleleShared %in% c('A','T','C','G','none',NA)][pool_minFreq == 0.5])\n",
    "nrow(alleleDat[pool_numAlleles == 4][pool_check == 1][!pool_alleleShared %in% c('A','T','C','G','none',NA)][pool_minFreq != 0.5][check_minAllele == 0])\n",
    "nrow(alleleDat[pool_numAlleles == 4][pool_check == 1][!pool_alleleShared %in% c('A','T','C','G','none',NA)][pool_minFreq != 0.5][check_minAllele == 1])\n",
    "\n",
    "#\n",
    "cat('\\nTotal no. of sites with >4 A.molle alleles')\n",
    "nrow(alleleDat[pool_numAlleles > 4])\n",
    "nrow(alleleDat[pool_numAlleles > 4][pool_check == 1][pool_alleleShared == 'none'])\n",
    "nrow(alleleDat[pool_numAlleles > 4][pool_check == 1][pool_alleleShared %in% c('A','T','C','G')])\n",
    "nrow(alleleDat[pool_numAlleles > 4][pool_check == 1][!pool_alleleShared %in% c('A','T','C','G','none',NA)][pool_minFreq == 0.5])\n",
    "nrow(alleleDat[pool_numAlleles > 4][pool_check == 1][!pool_alleleShared %in% c('A','T','C','G','none',NA)][pool_minFreq != 0.5][check_minAllele == 0])\n",
    "nrow(alleleDat[pool_numAlleles > 4][pool_check == 1][!pool_alleleShared %in% c('A','T','C','G','none',NA)][pool_minFreq != 0.5][check_minAllele == 1])\n"
   ]
  },
  {
   "cell_type": "markdown",
   "id": "f47c358f-994c-4e9d-8ae3-cd387571e169",
   "metadata": {},
   "source": [
    "## Summarising read depth for poolseq"
   ]
  },
  {
   "cell_type": "code",
   "execution_count": 7,
   "id": "9e8d382a-d0b6-4d2f-8202-0d47a2aec7b3",
   "metadata": {},
   "outputs": [],
   "source": [
    "alleleDat = foreach(chrom = c(1:8), .combine = rbind) %do% {\n",
    "    file = file.path('~/snap_hap/Amajus_alleles-ancestral/alleleDat_chrom', paste0('alleleDat_Chr', chrom, '.csv'))\n",
    "    dat = fread('~/snap_hap/Amajus_alleles-ancestral/alleleDat_chrom/alleleDat_Chr1.csv', header=T)\n",
    "    dat\n",
    "}"
   ]
  },
  {
   "cell_type": "code",
   "execution_count": 5,
   "id": "4a56e07e-36b3-47d6-a37d-804a9f3dda67",
   "metadata": {
    "scrolled": true
   },
   "outputs": [
    {
     "data": {
      "text/html": [
       "<table class=\"dataframe\">\n",
       "<caption>A data.frame: 20 × 2</caption>\n",
       "<thead>\n",
       "\t<tr><th scope=col>V1</th><th scope=col>V2</th></tr>\n",
       "\t<tr><th scope=col>&lt;int&gt;</th><th scope=col>&lt;int&gt;</th></tr>\n",
       "</thead>\n",
       "<tbody>\n",
       "\t<tr><td> 1</td><td> 1</td></tr>\n",
       "\t<tr><td> 2</td><td> 2</td></tr>\n",
       "\t<tr><td> 3</td><td> 3</td></tr>\n",
       "\t<tr><td> 4</td><td> 4</td></tr>\n",
       "\t<tr><td> 5</td><td> 5</td></tr>\n",
       "\t<tr><td> 6</td><td> 6</td></tr>\n",
       "\t<tr><td> 7</td><td> 7</td></tr>\n",
       "\t<tr><td> 8</td><td> 8</td></tr>\n",
       "\t<tr><td> 9</td><td> 9</td></tr>\n",
       "\t<tr><td>10</td><td>10</td></tr>\n",
       "\t<tr><td> 1</td><td> 1</td></tr>\n",
       "\t<tr><td> 2</td><td> 2</td></tr>\n",
       "\t<tr><td> 3</td><td> 3</td></tr>\n",
       "\t<tr><td> 4</td><td> 4</td></tr>\n",
       "\t<tr><td> 5</td><td> 5</td></tr>\n",
       "\t<tr><td> 6</td><td> 6</td></tr>\n",
       "\t<tr><td> 7</td><td> 7</td></tr>\n",
       "\t<tr><td> 8</td><td> 8</td></tr>\n",
       "\t<tr><td> 9</td><td> 9</td></tr>\n",
       "\t<tr><td>10</td><td>10</td></tr>\n",
       "</tbody>\n",
       "</table>\n"
      ],
      "text/latex": [
       "A data.frame: 20 × 2\n",
       "\\begin{tabular}{ll}\n",
       " V1 & V2\\\\\n",
       " <int> & <int>\\\\\n",
       "\\hline\n",
       "\t  1 &  1\\\\\n",
       "\t  2 &  2\\\\\n",
       "\t  3 &  3\\\\\n",
       "\t  4 &  4\\\\\n",
       "\t  5 &  5\\\\\n",
       "\t  6 &  6\\\\\n",
       "\t  7 &  7\\\\\n",
       "\t  8 &  8\\\\\n",
       "\t  9 &  9\\\\\n",
       "\t 10 & 10\\\\\n",
       "\t  1 &  1\\\\\n",
       "\t  2 &  2\\\\\n",
       "\t  3 &  3\\\\\n",
       "\t  4 &  4\\\\\n",
       "\t  5 &  5\\\\\n",
       "\t  6 &  6\\\\\n",
       "\t  7 &  7\\\\\n",
       "\t  8 &  8\\\\\n",
       "\t  9 &  9\\\\\n",
       "\t 10 & 10\\\\\n",
       "\\end{tabular}\n"
      ],
      "text/markdown": [
       "\n",
       "A data.frame: 20 × 2\n",
       "\n",
       "| V1 &lt;int&gt; | V2 &lt;int&gt; |\n",
       "|---|---|\n",
       "|  1 |  1 |\n",
       "|  2 |  2 |\n",
       "|  3 |  3 |\n",
       "|  4 |  4 |\n",
       "|  5 |  5 |\n",
       "|  6 |  6 |\n",
       "|  7 |  7 |\n",
       "|  8 |  8 |\n",
       "|  9 |  9 |\n",
       "| 10 | 10 |\n",
       "|  1 |  1 |\n",
       "|  2 |  2 |\n",
       "|  3 |  3 |\n",
       "|  4 |  4 |\n",
       "|  5 |  5 |\n",
       "|  6 |  6 |\n",
       "|  7 |  7 |\n",
       "|  8 |  8 |\n",
       "|  9 |  9 |\n",
       "| 10 | 10 |\n",
       "\n"
      ],
      "text/plain": [
       "   V1 V2\n",
       "1   1  1\n",
       "2   2  2\n",
       "3   3  3\n",
       "4   4  4\n",
       "5   5  5\n",
       "6   6  6\n",
       "7   7  7\n",
       "8   8  8\n",
       "9   9  9\n",
       "10 10 10\n",
       "11  1  1\n",
       "12  2  2\n",
       "13  3  3\n",
       "14  4  4\n",
       "15  5  5\n",
       "16  6  6\n",
       "17  7  7\n",
       "18  8  8\n",
       "19  9  9\n",
       "20 10 10"
      ]
     },
     "metadata": {},
     "output_type": "display_data"
    }
   ],
   "source": [
    "a = data.frame(V1=1:10, V2=1:10)\n",
    "b = data.frame(V1=1:10, V2=1:10)\n",
    "rbind(a,b)"
   ]
  },
  {
   "cell_type": "code",
   "execution_count": 8,
   "id": "46067bc5-b6cc-4ee6-88a9-983659479357",
   "metadata": {},
   "outputs": [
    {
     "name": "stdout",
     "output_type": "stream",
     "text": [
      "Classes ‘data.table’ and 'data.frame':\t23525608 obs. of  31 variables:\n",
      " $ pos               : int  3817 3850 3873 3881 3917 3922 3946 3981 3992 3994 ...\n",
      " $ chrom             : chr  \"Chr1\" \"Chr1\" \"Chr1\" \"Chr1\" ...\n",
      " $ ref               : chr  \"C\" \"T\" \"T\" \"T\" ...\n",
      " $ alt               : chr  \"G\" \"C\" \"C\" \"C\" ...\n",
      " $ AN                : int  2146 2146 2148 2148 2148 2148 2148 2148 2148 2146 ...\n",
      " $ AC                : int  1651 1781 9 1 1174 1181 63 63 1331 711 ...\n",
      " $ pop1              : chr  \"0:0:0:0:0:0\" \"\" \"\" \"\" ...\n",
      " $ pop2              : chr  \"0:0:1:0:0:0\" \"\" \"\" \"\" ...\n",
      " $ pop3              : chr  \"0:0:0:0:0:0\" \"\" \"\" \"\" ...\n",
      " $ Amajus_refFreq    : num  0.231 0.17 0.996 1 0.453 ...\n",
      " $ Amajus_altFreq    : num  0.769338 0.829916 0.00419 0.000466 0.546555 ...\n",
      " $ Amajus_majFreq    : num  0.769 0.83 0.996 1 0.547 ...\n",
      " $ Amajus_majAllele  : chr  \"G\" \"C\" \"T\" \"T\" ...\n",
      " $ Amajus_minFreq    : num  0.230662 0.170084 0.00419 0.000466 0.453445 ...\n",
      " $ Amajus_minAllele  : chr  \"C\" \"T\" \"C\" \"C\" ...\n",
      " $ pool              : chr  \"0:0:1:0:0:0\" \"0:0:0:0:0:0\" \"0:0:0:0:0:0\" \"0:0:0:0:0:0\" ...\n",
      " $ pool_numAlleles   : int  1 0 0 0 0 0 0 0 0 0 ...\n",
      " $ pool_totalCounts  : int  1 0 0 0 0 0 0 0 0 0 ...\n",
      " $ pool_refCounts    : int  1 0 0 0 0 0 0 0 0 0 ...\n",
      " $ pool_altCounts    : int  0 0 0 0 0 0 0 0 0 0 ...\n",
      " $ pool_allele3Counts: int  0 0 0 0 0 0 0 0 0 0 ...\n",
      " $ pool_check        : int  0 0 0 0 0 0 0 0 0 0 ...\n",
      " $ pool_allele3      : chr  NA NA NA NA ...\n",
      " $ pool_alleleShared : chr  NA NA NA NA ...\n",
      " $ pool_missing      : int  0 1 1 1 1 1 1 1 1 1 ...\n",
      " $ pool_refFreq      : num  1 NA NA NA NA NA NA NA NA NA ...\n",
      " $ pool_altFreq      : num  0 NA NA NA NA NA NA NA NA NA ...\n",
      " $ pool_allele3Freq  : num  0 NA NA NA NA NA NA NA NA NA ...\n",
      " $ pool_minFreq      : num  0 NA NA NA NA NA NA NA NA NA ...\n",
      " $ pool_minAllele    : chr  \"G\" \"\" \"\" \"\" ...\n",
      " $ check_minAllele   : int  1 NA NA NA NA NA NA NA NA NA ...\n",
      " - attr(*, \".internal.selfref\")=<externalptr> \n"
     ]
    }
   ],
   "source": [
    "str(alleleDat)"
   ]
  },
  {
   "cell_type": "code",
   "execution_count": 10,
   "id": "bc4c2aa5-bf2d-428f-bd74-a95c0daf4664",
   "metadata": {},
   "outputs": [
    {
     "name": "stdout",
     "output_type": "stream",
     "text": [
      "Mean read depth for poolseq data"
     ]
    },
    {
     "data": {
      "text/html": [
       "83.9668704842825"
      ],
      "text/latex": [
       "83.9668704842825"
      ],
      "text/markdown": [
       "83.9668704842825"
      ],
      "text/plain": [
       "[1] 83.96687"
      ]
     },
     "metadata": {},
     "output_type": "display_data"
    },
    {
     "data": {
      "text/html": [
       "93"
      ],
      "text/latex": [
       "93"
      ],
      "text/markdown": [
       "93"
      ],
      "text/plain": [
       "[1] 93"
      ]
     },
     "metadata": {},
     "output_type": "display_data"
    }
   ],
   "source": [
    "cat(\"Mean read depth for poolseq data\")\n",
    "mean(alleleDat$pool_totalCounts)\n",
    "median(alleleDat$pool_totalCounts)"
   ]
  },
  {
   "cell_type": "code",
   "execution_count": 12,
   "id": "ef4dc94b-fa22-474e-896c-268112b57347",
   "metadata": {},
   "outputs": [
    {
     "data": {
      "text/plain": [
       "   Min. 1st Qu.  Median    Mean 3rd Qu.    Max. \n",
       "   0.00   46.00   93.00   83.97  113.00 6822.00 "
      ]
     },
     "metadata": {},
     "output_type": "display_data"
    }
   ],
   "source": [
    "summary(alleleDat$pool_totalCounts)"
   ]
  },
  {
   "cell_type": "code",
   "execution_count": 14,
   "id": "befc9748-6d4a-4848-9d60-dc315a4a16b3",
   "metadata": {},
   "outputs": [
    {
     "data": {
      "image/png": "[encoded data removed]",
      "text/plain": [
       "Plot with title “Histogram of alleleDat$pool_totalCounts”"
      ]
     },
     "metadata": {
      "image/png": {
       "height": 420,
       "width": 420
      }
     },
     "output_type": "display_data"
    }
   ],
   "source": [
    "hist(alleleDat$pool_totalCounts, xlim=c(0,120), breaks = 1000)"
   ]
  }
 ],
 "metadata": {
  "kernelspec": {
   "display_name": "R",
   "language": "R",
   "name": "ir"
  },
  "language_info": {
   "codemirror_mode": "r",
   "file_extension": ".r",
   "mimetype": "text/x-r-source",
   "name": "R",
   "pygments_lexer": "r",
   "version": "4.3.1"
  }
 },
 "nbformat": 4,
 "nbformat_minor": 5
}
