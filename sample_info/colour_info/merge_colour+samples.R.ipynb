{
 "cells": [
  {
   "cell_type": "markdown",
   "id": "2a88609e-3dff-41d4-8ce7-c5cd149d93c1",
   "metadata": {},
   "source": [
    "# Integrating samples and colour datasets"
   ]
  },
  {
   "cell_type": "code",
   "execution_count": 16,
   "id": "ad0acbca-bf48-43c4-888d-5062010e980e",
   "metadata": {},
   "outputs": [],
   "source": [
    "library(data.table)\n",
    "library(tidyverse)"
   ]
  },
  {
   "cell_type": "code",
   "execution_count": 17,
   "id": "58c09037-87c0-46bf-9463-284f6564ab0b",
   "metadata": {
    "scrolled": true
   },
   "outputs": [
    {
     "name": "stdout",
     "output_type": "stream",
     "text": [
      "Classes ‘data.table’ and 'data.frame':\t1074 obs. of  22 variables:\n",
      " $ PlantID_UPPER                : chr  \"Z0147\" \"X4867\" \"Z2293\" \"Z0156\" ...\n",
      " $ PlantID                      : chr  \"z0147\" \"x4867\" \"z2293\" \"z0156\" ...\n",
      " $ PlantID_LongFormat           : chr  \"n96_Am_Pla_z0147\" \"n96_Am_Ave_x4867\" \"n96_Am_Pla_z2293\" \"n96_Am_Pla_z0156\" ...\n",
      " $ PlantID_longFormat_refVersion: chr  \"n96_Am_Pla_z0147_v3.5\" \"n96_Am_Ave_x4867_v3.5\" \"n96_Am_Pla_z2293_v3.5\" \"n96_Am_Pla_z0156_v3.5\" ...\n",
      " $ Batch                        : chr  \"n96-Pla\" \"n96-Ave\" \"n96-Pla\" \"n96-Pla\" ...\n",
      " $ Batch_PlantID                : chr  \"n96-Pla_Z0147\" \"n96-Ave_X4867\" \"n96-Pla_Z2293\" \"n96-Pla_Z0156\" ...\n",
      " $ PlantID_Batch                : chr  \"Z0147_n96-Pla\" \"X4867_n96-Ave\" \"Z2293_n96-Pla\" \"Z0156_n96-Pla\" ...\n",
      " $ Species                      : chr  \"Am\" \"Am\" \"Am\" \"Am\" ...\n",
      " $ Location                     : chr  \"Pla\" \"Ave\" \"Pla\" \"Pla\" ...\n",
      " $ Coverage_mean                : num  0.472 0.514 0.52 0.537 0.545 ...\n",
      " $ Coverage_stdev               : num  2.74 2.38 3.51 3.69 5.05 ...\n",
      " $ GT_percentage                : num  36.3 36.4 36.3 36.8 36 ...\n",
      " $ MappingQuality               : num  44.5 42.6 44.7 44.1 40 ...\n",
      " $ InsertSize_median            : int  261 269 258 249 210 249 257 246 252 255 ...\n",
      " $ Coverage_rank                : int  1 2 3 4 5 6 7 8 9 10 ...\n",
      " $ Coverage_rank_MEGA           : int  NA NA NA NA 1 NA NA NA NA NA ...\n",
      " $ Coverage_bin                 : chr  \"Low\" \"Low\" \"Low\" \"Low\" ...\n",
      " $ Latitude                     : num  42.3 NA 42.3 42.3 42.3 ...\n",
      " $ Longitude                    : num  2.07 NA 2.08 2.07 2.08 ...\n",
      " $ Altitude                     : num  1224 NA 1182 1207 1185 ...\n",
      " $ Pool                         : chr  NA NA NA NA ...\n",
      " $ Comments                     : chr  NA NA NA NA ...\n",
      " - attr(*, \".internal.selfref\")=<externalptr> \n"
     ]
    }
   ],
   "source": [
    "## Read sample information\n",
    "samples = fread('~/Phd/Projects/2021-snap_hap/sample_info/samples_Amajus_SnapHap_LastUpdate-2023-10.txt', header=TRUE)\n",
    "str(samples)"
   ]
  },
  {
   "cell_type": "code",
   "execution_count": 18,
   "id": "a0fcd44b-6777-461d-93ac-a5196e8e730d",
   "metadata": {
    "scrolled": true
   },
   "outputs": [
    {
     "name": "stdout",
     "output_type": "stream",
     "text": [
      "Classes ‘data.table’ and 'data.frame':\t1068 obs. of  33 variables:\n",
      " $ PlantID_UPPER: chr  \"PA0212\" \"PA0212\" \"PA0283\" \"PA0291\" ...\n",
      " $ 2022_red     : num  NA NA NA NA NA NA NA NA 0.5 NA ...\n",
      " $ 2022_yellow  : num  NA NA NA NA NA NA NA NA 2.5 NA ...\n",
      " $ 2022_venation: num  NA NA NA NA NA NA NA NA 1 NA ...\n",
      " $ 2022_colour  : chr  \"\" \"\" \"\" \"\" ...\n",
      " $ 2021_red     : num  0.5 0.5 NA 3 4 4 1.5 0.5 NA 3.5 ...\n",
      " $ 2021_yellow  : num  2.5 2.5 NA 2.5 1 1.5 2 2 NA 1 ...\n",
      " $ 2021_venation: num  2.5 2.5 NA 3 3 3.5 2.5 1 NA 3 ...\n",
      " $ 2021_colour  : chr  \"Ye\" \"Ye\" \"\" \"FO\" ...\n",
      " $ 2020_red     : num  0.5 0.5 3.5 3 3.5 NA NA NA 0.5 NA ...\n",
      " $ 2020_yellow  : num  2.5 2.5 2 1.5 1 NA NA NA 2.5 NA ...\n",
      " $ 2020_venation: num  3.5 3.5 1 3 3 NA NA NA 2.5 NA ...\n",
      " $ 2020_colour  : chr  \"Ye\" \"Ye\" \"FO\" \"FR\" ...\n",
      " $ 2019_red     : num  NA NA NA NA NA NA NA NA NA NA ...\n",
      " $ 2019_yellow  : num  NA NA NA NA NA NA NA NA NA NA ...\n",
      " $ 2019_venation: num  NA NA NA NA NA NA NA NA NA NA ...\n",
      " $ 2019_colour  : chr  \"\" \"\" \"\" \"\" ...\n",
      " $ 2018_red     : num  NA NA NA NA NA NA NA NA NA NA ...\n",
      " $ 2018_yellow  : num  NA NA NA NA NA NA NA NA NA NA ...\n",
      " $ 2018_venation: num  NA NA NA NA NA NA NA NA NA NA ...\n",
      " $ 2018_colour  : chr  \"\" \"\" \"\" \"\" ...\n",
      " $ 2017_red     : logi  NA NA NA NA NA NA ...\n",
      " $ 2017_yellow  : logi  NA NA NA NA NA NA ...\n",
      " $ 2017_venation: logi  NA NA NA NA NA NA ...\n",
      " $ 2017_colour  : logi  NA NA NA NA NA NA ...\n",
      " $ 2016_red     : int  NA NA NA NA NA NA NA NA NA NA ...\n",
      " $ 2016_yellow  : int  NA NA NA NA NA NA NA NA NA NA ...\n",
      " $ 2016_venation: int  NA NA NA NA NA NA NA NA NA NA ...\n",
      " $ 2016_colour  : chr  \"\" \"\" \"\" \"\" ...\n",
      " $ 2015_red     : num  NA NA NA NA NA NA NA NA NA NA ...\n",
      " $ 2015_yellow  : num  NA NA NA NA NA NA NA NA NA NA ...\n",
      " $ 2015_venation: num  NA NA NA NA NA NA NA NA NA NA ...\n",
      " $ 2015_colour  : chr  \"\" \"\" \"\" \"\" ...\n",
      " - attr(*, \".internal.selfref\")=<externalptr> \n"
     ]
    }
   ],
   "source": [
    "## Read colour information\n",
    "colour = fread('~/Phd/Projects/2021-snap_hap/sample_info/colour_info//IDs_colours_complete_20240314.csv', header=TRUE)\n",
    "colour$Plant_ID = str_to_upper(colour$Plant_ID)\n",
    "colnames(colour)[1] = 'PlantID_UPPER'\n",
    "str(colour)"
   ]
  },
  {
   "cell_type": "code",
   "execution_count": 19,
   "id": "325ca47e-6e92-4328-bdb6-ce69b88791b8",
   "metadata": {
    "scrolled": true
   },
   "outputs": [
    {
     "name": "stdout",
     "output_type": "stream",
     "text": [
      "Classes ‘data.table’ and 'data.frame':\t1068 obs. of  54 variables:\n",
      " $ PlantID_UPPER                : chr  \"PA0212\" \"PA0212\" \"PA0283\" \"PA0291\" ...\n",
      " $ PlantID                      : chr  \"pa0212\" \"pa0212\" \"pa0283\" \"pa0291\" ...\n",
      " $ PlantID_LongFormat           : chr  \"2x-N708-1_Am_Pla_pa0212\" \"2x-N708-1_Am_Pla_pa0212\" \"2x-N708-2_Am_Pla_pa0283\" \"2x-N708-3_Am_Pla_pa0291\" ...\n",
      " $ PlantID_longFormat_refVersion: chr  \"2x-N708-1_Am_Pla_pa0212_v3.5\" \"2x-N708-1_Am_Pla_pa0212_v3.5\" \"2x-N708-2_Am_Pla_pa0283_v3.5\" \"2x-N708-3_Am_Pla_pa0291_v3.5\" ...\n",
      " $ Batch                        : chr  \"2x\" \"2x\" \"2x\" \"2x\" ...\n",
      " $ Batch_PlantID                : chr  \"2x_PA0212\" \"2x_PA0212\" \"2x_PA0283\" \"2x_PA0291\" ...\n",
      " $ PlantID_Batch                : chr  \"PA0212_2x\" \"PA0212_2x\" \"PA0283_2x\" \"PA0291_2x\" ...\n",
      " $ Species                      : chr  \"Am\" \"Am\" \"Am\" \"Am\" ...\n",
      " $ Location                     : chr  \"Pla\" \"Pla\" \"Pla\" \"Pla\" ...\n",
      " $ Coverage_mean                : num  2.02 2.02 2.38 1.77 1.94 ...\n",
      " $ Coverage_stdev               : num  10.8 10.8 15.8 11.9 11.9 ...\n",
      " $ GT_percentage                : num  36.2 36.2 36.2 36.2 36.2 ...\n",
      " $ MappingQuality               : num  41.5 41.5 41.9 41 41.5 ...\n",
      " $ InsertSize_median            : int  187 187 188 187 189 185 186 185 190 191 ...\n",
      " $ Coverage_rank                : int  498 498 708 329 428 667 585 341 287 229 ...\n",
      " $ Coverage_rank_MEGA           : int  412 412 621 243 342 580 499 255 201 143 ...\n",
      " $ Coverage_bin                 : chr  \"Low\" \"Low\" \"Low\" \"Low\" ...\n",
      " $ Latitude                     : num  42.3 42.3 42.3 42.3 42.3 ...\n",
      " $ Longitude                    : num  2.07 2.07 2.08 2.08 2.08 ...\n",
      " $ Altitude                     : num  1203 1203 1200 1192 1197 ...\n",
      " $ Pool                         : chr  \"core\" \"core\" \"core\" \"core\" ...\n",
      " $ Comments                     : chr  NA NA NA NA ...\n",
      " $ 2022_red                     : num  NA NA NA NA NA NA NA NA 0.5 NA ...\n",
      " $ 2022_yellow                  : num  NA NA NA NA NA NA NA NA 2.5 NA ...\n",
      " $ 2022_venation                : num  NA NA NA NA NA NA NA NA 1 NA ...\n",
      " $ 2022_colour                  : chr  \"\" \"\" \"\" \"\" ...\n",
      " $ 2021_red                     : num  0.5 0.5 NA 3 4 4 1.5 0.5 NA 3.5 ...\n",
      " $ 2021_yellow                  : num  2.5 2.5 NA 2.5 1 1.5 2 2 NA 1 ...\n",
      " $ 2021_venation                : num  2.5 2.5 NA 3 3 3.5 2.5 1 NA 3 ...\n",
      " $ 2021_colour                  : chr  \"Ye\" \"Ye\" \"\" \"FO\" ...\n",
      " $ 2020_red                     : num  0.5 0.5 3.5 3 3.5 NA NA NA 0.5 NA ...\n",
      " $ 2020_yellow                  : num  2.5 2.5 2 1.5 1 NA NA NA 2.5 NA ...\n",
      " $ 2020_venation                : num  3.5 3.5 1 3 3 NA NA NA 2.5 NA ...\n",
      " $ 2020_colour                  : chr  \"Ye\" \"Ye\" \"FO\" \"FR\" ...\n",
      " $ 2019_red                     : num  NA NA NA NA NA NA NA NA NA NA ...\n",
      " $ 2019_yellow                  : num  NA NA NA NA NA NA NA NA NA NA ...\n",
      " $ 2019_venation                : num  NA NA NA NA NA NA NA NA NA NA ...\n",
      " $ 2019_colour                  : chr  \"\" \"\" \"\" \"\" ...\n",
      " $ 2018_red                     : num  NA NA NA NA NA NA NA NA NA NA ...\n",
      " $ 2018_yellow                  : num  NA NA NA NA NA NA NA NA NA NA ...\n",
      " $ 2018_venation                : num  NA NA NA NA NA NA NA NA NA NA ...\n",
      " $ 2018_colour                  : chr  \"\" \"\" \"\" \"\" ...\n",
      " $ 2017_red                     : logi  NA NA NA NA NA NA ...\n",
      " $ 2017_yellow                  : logi  NA NA NA NA NA NA ...\n",
      " $ 2017_venation                : logi  NA NA NA NA NA NA ...\n",
      " $ 2017_colour                  : logi  NA NA NA NA NA NA ...\n",
      " $ 2016_red                     : int  NA NA NA NA NA NA NA NA NA NA ...\n",
      " $ 2016_yellow                  : int  NA NA NA NA NA NA NA NA NA NA ...\n",
      " $ 2016_venation                : int  NA NA NA NA NA NA NA NA NA NA ...\n",
      " $ 2016_colour                  : chr  \"\" \"\" \"\" \"\" ...\n",
      " $ 2015_red                     : num  NA NA NA NA NA NA NA NA NA NA ...\n",
      " $ 2015_yellow                  : num  NA NA NA NA NA NA NA NA NA NA ...\n",
      " $ 2015_venation                : num  NA NA NA NA NA NA NA NA NA NA ...\n",
      " $ 2015_colour                  : chr  \"\" \"\" \"\" \"\" ...\n",
      " - attr(*, \".internal.selfref\")=<externalptr> \n",
      " - attr(*, \"sorted\")= chr \"PlantID_UPPER\"\n"
     ]
    }
   ],
   "source": [
    "## Merge sample+colour information\n",
    "merged = merge(samples, colour, by='PlantID_UPPER')\n",
    "str(merged)"
   ]
  },
  {
   "cell_type": "code",
   "execution_count": 20,
   "id": "27102745-0f3b-4edb-befc-54e8f584ff8d",
   "metadata": {},
   "outputs": [],
   "source": [
    "## Write merged sample+colour information\n",
    "fwrite(merged, file='./samples+colour_merged.raw.csv', sep=',', row.names = F, col.names = T, quote = F)"
   ]
  }
 ],
 "metadata": {
  "kernelspec": {
   "display_name": "R",
   "language": "R",
   "name": "ir"
  },
  "language_info": {
   "codemirror_mode": "r",
   "file_extension": ".r",
   "mimetype": "text/x-r-source",
   "name": "R",
   "pygments_lexer": "r",
   "version": "4.4.0"
  }
 },
 "nbformat": 4,
 "nbformat_minor": 5
}
