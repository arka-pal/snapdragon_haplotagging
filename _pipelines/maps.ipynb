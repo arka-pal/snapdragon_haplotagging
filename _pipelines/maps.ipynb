{
 "cells": [
  {
   "cell_type": "code",
   "execution_count": null,
   "id": "6135e0d3-af3b-4d27-8859-b08d4125dc3b",
   "metadata": {},
   "outputs": [],
   "source": [
    "world <- gisco_get_countries()\n",
    "ggplot(world) + geom_sf(fill = 'grey') + xlim(-10,10) + ylim(35,50) + \n",
    "  theme_bw()\n",
    "\n",
    "\n",
    "spain <- giscoR::gisco_get_countries(\n",
    "  year = \"2016\", epsg = \"4326\", resolution = \"20\", country = c('Spain'))\n",
    "\n",
    "crsLONGLAT <- \"+proj=longlat +datum=WGS84 +no_defs\"\n",
    "spain_transformed <- st_transform(spain, crs = crsLONGLAT)\n",
    "\n",
    "spain_elevation <- get_elev_raster(locations = spain_transformed, z = 9, clip = \"locations\") \n",
    "spain_elevation_df <- as.data.frame(spain_elevation, xy = T) %>%  na.omit()\n",
    "colnames(spain_elevation_df)[3] <- \"elevation\"\n",
    "\n",
    "\n",
    "ggplot() +\n",
    "  geom_tile(data = country_elevation_df, \n",
    "            aes(x = x, y = y, fill = elevation)) +\n",
    "  scale_fill_etopo()\n",
    "\n",
    "\n",
    "myTheme <- theme_bw() + theme(panel.grid = element_blank())\n",
    "mainPlot <- ggplot() + \n",
    "  geom_sf(data = world, fill = 'grey') + xlim(0,10) + ylim(40,45) +\n",
    "  geom_point(aes(Longitude, Latitude), haplo_samples[batch == \"n96\"], col = \"green\", pch = 5, cex = 1) +\n",
    "  geom_point(aes(Longitude, Latitude), haplo_samples[batch == \"TRIO\"], col = \"darkgreen\", pch = 5, cex = 1) +\n",
    "  geom_point(aes(Longitude, Latitude), haplo_samples[batch == \"2x\"], col = \"grey\", pch = 1, cex = 2) +\n",
    "  geom_point(aes(Longitude, Latitude), haplo_samples[batch == \"60x\"], col = \"red\", pch = 19, cex = 2) +\n",
    "  geom_point(aes(Longitude, Latitude), haplo_samples[batch == \"10x\"], col = \"blue\", pch = 2, cex = 2) +\n",
    "#  geom_vline(xintercept = c(2.051, 2.056, 2.061, 2.066), col = \"gold2\") +\n",
    "#  geom_vline(xintercept = c(2.083, 2.087, 2.093, 2.098), col = \"magenta\") +\n",
    "  myTheme\n",
    "\n",
    "mainPlot"
   ]
  }
 ],
 "metadata": {
  "kernelspec": {
   "display_name": "R",
   "language": "R",
   "name": "ir"
  },
  "language_info": {
   "codemirror_mode": "r",
   "file_extension": ".r",
   "mimetype": "text/x-r-source",
   "name": "R",
   "pygments_lexer": "r",
   "version": "4.3.0"
  }
 },
 "nbformat": 4,
 "nbformat_minor": 5
}
