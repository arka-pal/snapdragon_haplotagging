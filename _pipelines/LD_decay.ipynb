{
 "cells": [
  {
   "cell_type": "markdown",
   "id": "b5427063-7022-4479-b263-b837d0f319b2",
   "metadata": {},
   "source": [
    "# LD decay"
   ]
  },
  {
   "cell_type": "code",
   "execution_count": 1,
   "id": "fed5e336-48de-480a-9dfb-c1e7c6ea8bb8",
   "metadata": {},
   "outputs": [],
   "source": [
    "# module load plink/2.00-alpha bcftools/1.18\n",
    "module load plink/1.90"
   ]
  },
  {
   "cell_type": "code",
   "execution_count": 2,
   "id": "5fc393dd-069d-41eb-b7c1-27e654cc3e8b",
   "metadata": {},
   "outputs": [],
   "source": [
    "cd /nfs/scistore18/bartogrp/apal/snap_hap/genome_scans/ld_decay\n",
    "#vcf=~/snap_hap/variants/stitch/Chr6/Am_all_stitch_Chr6_SnpGap5_biSNPs_filtered-DP_500-7732_QUAL20_MQ30.PL.vcf.gz\n",
    "vcf=/nfs/scistore18/bartogrp/apal/snap_hap/variants/molphase/Chr6/Am_all_molphased_Chr6_SnpGap5_biSNPs_filtered-DP_500-7732_QUAL20_MQ30.PL.vcf.gz\n",
    "allSamples=/nfs/scistore18/bartogrp/apal/snap_hap/sample_info/samples_Amajus_SnapHap_LastUpdate-2023-10.txt"
   ]
  },
  {
   "cell_type": "code",
   "execution_count": null,
   "id": "11427c29-df26-42da-a04e-80aa7f4d70bb",
   "metadata": {},
   "outputs": [],
   "source": [
    "\n",
    "\n",
    "plink2 --vcf test.vcf.gz --double-id --allow-extra-chr \\\n",
    "--maf 0.01 --geno 0.1 --mind 0.5 --chr Chr6 \\\n",
    "--thin 0.1 -r2 gz \\\n",
    "--ld-window-r2 0 \\\n",
    "--make-bed --out test"
   ]
  }
 ],
 "metadata": {
  "kernelspec": {
   "display_name": "Bash",
   "language": "bash",
   "name": "bash"
  },
  "language_info": {
   "codemirror_mode": "shell",
   "file_extension": ".sh",
   "mimetype": "text/x-sh",
   "name": "bash"
  }
 },
 "nbformat": 4,
 "nbformat_minor": 5
}
