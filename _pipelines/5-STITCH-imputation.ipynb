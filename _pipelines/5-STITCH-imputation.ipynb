{
 "cells": [
  {
   "cell_type": "markdown",
   "id": "8133c442-8f51-4ea9-8ad2-a5c064cb69c8",
   "metadata": {},
   "source": [
    "# Imputation with STITCH\n",
    "  \n",
    "**Date:** 2023-Sep-26  \n",
    "**last update:** 2023-Sep-26"
   ]
  },
  {
   "cell_type": "code",
   "execution_count": null,
   "id": "40427103-1381-43cd-9adf-a631215ef454",
   "metadata": {},
   "outputs": [],
   "source": [
    "module load stitch/1.6.7 bcftools/1.16\n",
    "module list"
   ]
  },
  {
   "cell_type": "markdown",
   "id": "2fea2cd9-e435-4068-9f85-d4f48a07937f",
   "metadata": {},
   "source": [
    "<br>\n",
    "\n",
    "## Split chromosome cooridnates into smaller 1MB chunks "
   ]
  },
  {
   "cell_type": "code",
   "execution_count": 2,
   "id": "b0f2b7c7-f065-4e6c-95f2-9723769f118a",
   "metadata": {},
   "outputs": [],
   "source": [
    "WORKDIR=/nfs/scistore18/bartogrp/apal/snap_hap\n",
    "# cat $WORKDIR/ref_genome/chromSize.txt"
   ]
  },
  {
   "cell_type": "code",
   "execution_count": 3,
   "id": "9e311898-7e7b-4f4a-b176-a4d4e0801b43",
   "metadata": {},
   "outputs": [
    {
     "name": "stdout",
     "output_type": "stream",
     "text": [
      "Chr1 71919034: 72 segments\n",
      "Chr2 77118269: 78 segments\n",
      "Chr3 65231163: 66 segments\n",
      "Chr4 54887108: 55 segments\n",
      "Chr5 71106538: 72 segments\n",
      "Chr6 55699338: 56 segments\n",
      "Chr7 55564713: 56 segments\n",
      "Chr8 57431585: 58 segments\n"
     ]
    }
   ],
   "source": [
    "## Make chrom_segments files for each chromosome\n",
    "for chr in Chr{1..8}\n",
    "do\n",
    "    chromLength=$(grep $chr ~/snap_hap/ref_genome/chromSize.txt | cut -f2)\n",
    "    paste <(seq 1 1000000 $chromLength) <(printf \"$(seq 1000000 1000000 $chromLength)\\n$chromLength\") > ~/snap_hap/ref_genome/chromSegments/${chr}_segments.txt\n",
    "    echo $chr $chromLength: $(cat ~/snap_hap/ref_genome/chromSegments/${chr}_segments.txt | wc -l) segments \n",
    "done"
   ]
  },
  {
   "cell_type": "code",
   "execution_count": 4,
   "id": "1212c549-288c-4681-9b46-0b51b282853d",
   "metadata": {
    "collapsed": true,
    "jupyter": {
     "outputs_hidden": true
    },
    "scrolled": true
   },
   "outputs": [
    {
     "name": "stdout",
     "output_type": "stream",
     "text": [
      "1\t1000000\n",
      "1000001\t2000000\n",
      "2000001\t3000000\n",
      "3000001\t4000000\n",
      "4000001\t5000000\n",
      "5000001\t6000000\n",
      "6000001\t7000000\n",
      "7000001\t8000000\n",
      "8000001\t9000000\n",
      "9000001\t10000000\n"
     ]
    }
   ],
   "source": [
    "head ~/snap_hap/ref_genome/chromSegments/Chr4_segments.txt"
   ]
  },
  {
   "cell_type": "markdown",
   "id": "bcebfd60-addc-46b6-ba97-412385374445",
   "metadata": {},
   "source": [
    "## Run STITCH on each chromosome segment (step-by-step)"
   ]
  },
  {
   "cell_type": "markdown",
   "id": "2b54800f-ad6a-4b9b-8c41-7c3f14360973",
   "metadata": {},
   "source": [
    "### Initiate variables"
   ]
  },
  {
   "cell_type": "code",
   "execution_count": 5,
   "id": "90a30b0a-fb63-47cc-84a1-c73b277c3e9e",
   "metadata": {},
   "outputs": [],
   "source": [
    "## Initiate variables\n",
    "\n",
    "# General\n",
    "vcfDIR=~/snap_hap/variants/vcf_bcftools_Am_all\n",
    "stitchDIR=~/snap_hap/variants/stitch\n",
    "chrom=Chr1\n",
    "chromSegments=~/snap_hap/ref_genome/chromSegments/${chrom}_segments.txt\n",
    "SLURM_ARRAY_TASK_ID=1\n",
    "\n",
    "# posfile variables\n",
    "chromStart=$(sed -n \"${SLURM_ARRAY_TASK_ID}p\" $chromSegments | cut -f1)\n",
    "chromEnd=$(sed -n \"${SLURM_ARRAY_TASK_ID}p\" $chromSegments | cut -f2)\n",
    "buffer=100000\n",
    "inVCF=$vcfDIR/$chrom/Am_all_bcftools_${chrom}_SnpGap5_biSNPs_filtered-DP_500-7732_QUAL20_MQ30.vcf.gz\n",
    "posfile=$stitchDIR/${chrom}/posfile_chromSegments/${chrom}_${chromStart}-${chromEnd}_buffer$buffer.pos\n",
    "\n",
    "\n",
    "# STITCH variables\n",
    "K=75\n",
    "downsampleToCov=20\n",
    "bx_tag=TRUE\n",
    "ngen=100\n",
    "niter=40\n",
    "expRate=0.5\n",
    "plot=FALSE\n",
    "bamlist=~/snap_hap/sample_info/bam_info/bams_Am_all.txt\n",
    "outputDIR=$stitchDIR/$chrom/stitch_chromSegments/$(basename ${posfile/.pos})_K${K}_cov${downsampleToCov}_bxTRUE_niter${niter}_ngen${ngen}_r${expRate}_plotFALSE"
   ]
  },
  {
   "cell_type": "markdown",
   "id": "c46a77ed-1ee7-4eb9-a288-e2e0e0fd5d8d",
   "metadata": {},
   "source": [
    "### Create _posfile_"
   ]
  },
  {
   "cell_type": "code",
   "execution_count": 6,
   "id": "a532943a-4263-40d4-91d7-2db6d704538f",
   "metadata": {},
   "outputs": [
    {
     "name": "stdout",
     "output_type": "stream",
     "text": [
      "\n",
      "Chr1 1 1000000\n",
      "inVCF: /nfs/scistore18/bartogrp/apal/snap_hap/variants/vcf_bcftools_Am_all/Chr1/Am_all_bcftools_Chr1_SnpGap5_biSNPs_filtered-DP_500-7732_QUAL20_MQ30.vcf.gz\n",
      "posfile: /nfs/scistore18/bartogrp/apal/snap_hap/variants/stitch/Chr1/posfile_chromSegments/Chr1_1-1000000_buffer50000.pos\n"
     ]
    }
   ],
   "source": [
    "echo -e \"\\n$chrom $chromStart $chromEnd\"\n",
    "echo inVCF: $inVCF\n",
    "echo posfile: $posfile\n",
    "\n",
    "## Create posfile\n",
    "# time bash ~/snap_hap/_scripts/bash/stitch/extract_posfile.sh $chrom $chromStart $chromEnd $inVCF $posfile\n",
    "\n",
    "# echo -e '\\n'"
   ]
  },
  {
   "cell_type": "markdown",
   "id": "6d2ab9ac-e6da-4770-bf99-e374abd35a2a",
   "metadata": {},
   "source": [
    "### Run STITCH"
   ]
  },
  {
   "cell_type": "raw",
   "id": "d4e879eb-af11-4983-8579-4553c0d8de21",
   "metadata": {},
   "source": [
    "echo bamlist: $bamlist\n",
    "echo posfile: $posfile\n",
    "echo OUTPUT directory: $outputDIR\n",
    "echo Region: $chrom $chromStart $chromEnd $buffer\n",
    "\n",
    "STITCH.R --chr=$chrom \\\n",
    "    --K=$K \\\n",
    "    --downsampleToCov=$downsampleToCov \\\n",
    "    --use_bx_tag=TRUE \\\n",
    "    --niterations=$niter \\\n",
    "    --expRate=0.5  \\\n",
    "    --nGen=$ngen \\\n",
    "    --plotAfterImputation=FALSE \\\n",
    "    --plotHapSumDuringIterations=FALSE \\\n",
    "    --plot_shuffle_haplotype_attempts=FALSE \\\n",
    "    --regionStart=$chromStart \\\n",
    "    --regionEnd=$chromEnd \\\n",
    "    --buffer=$buffer \\\n",
    "    --bamlist=$bamlist \\\n",
    "    --posfile=$posfile \\\n",
    "    --outputdir=$outputDIR \\\n",
    "    --nCores=10"
   ]
  },
  {
   "cell_type": "markdown",
   "id": "67ebfa1e-b4b1-418e-b48e-710742d87e2a",
   "metadata": {},
   "source": [
    "## Cluster implementation: STITCH on each chromosome segment"
   ]
  },
  {
   "cell_type": "markdown",
   "id": "65cb05b8-41b2-494b-a4c2-c286db0cf421",
   "metadata": {},
   "source": [
    "### Run1"
   ]
  },
  {
   "cell_type": "code",
   "execution_count": null,
   "id": "0d5c9724-4daf-4911-b0d0-96909d4d3d2c",
   "metadata": {},
   "outputs": [],
   "source": [
    "cd /nfs/scistore18/bartogrp/apal/snap_hap/variants/jobs/stitch_chromSegments\n",
    "\n",
    "## Define Variables\n",
    "buffer=100000\n",
    "K=75\n",
    "downsampleToCov=20\n",
    "use_bx_tag=TRUE\n",
    "ngen=100\n",
    "niter=40\n",
    "expRate=0.5\n",
    "plot=FALSE"
   ]
  },
  {
   "cell_type": "code",
   "execution_count": null,
   "id": "cff2733d-bf39-4b65-8b68-a22cc7255319",
   "metadata": {
    "jupyter": {
     "source_hidden": true
    }
   },
   "outputs": [],
   "source": [
    "## Chr1\n",
    "#chrom=Chr1\n",
    "#segments=$(cat ~/snap_hap/ref_genome/chromSegments/${chrom}_segments.txt | wc -l)\n",
    "#echo $chrom $segments segments"
   ]
  },
  {
   "cell_type": "markdown",
   "id": "a13823c7-c571-4905-8c4b-35aaef33e643",
   "metadata": {},
   "source": [
    "No. of segments for each chromosome:\n",
    "```\n",
    "Chr1 71919034: 72 segments\n",
    "Chr2 77118269: 78 segments\n",
    "Chr3 65231163: 66 segments\n",
    "Chr4 54887108: 55 segments\n",
    "Chr5 71106538: 72 segments\n",
    "Chr6 55699338: 56 segments\n",
    "Chr7 55564713: 56 segments\n",
    "Chr8 57431585: 58 segments\n",
    "```"
   ]
  },
  {
   "cell_type": "code",
   "execution_count": null,
   "id": "2fe8386c-ec96-484a-b590-4a564cf20d99",
   "metadata": {},
   "outputs": [],
   "source": [
    "sbatch --array=1-72 -J Chr1 ~/snap_hap/_scripts/sbatch/impute/job-impute_stitch.sbatch Chr1 $buffer $K $downsampleToCov ${use_bx_tag} $ngen $niter $expRate $plot\n",
    "sbatch --array=1-78 -J Chr2 ~/snap_hap/_scripts/sbatch/impute/job-impute_stitch.sbatch Chr2 $buffer $K $downsampleToCov ${use_bx_tag} $ngen $niter $expRate $plot\n",
    "sbatch --array=1-66 -J Chr3 ~/snap_hap/_scripts/sbatch/impute/job-impute_stitch.sbatch Chr3 $buffer $K $downsampleToCov ${use_bx_tag} $ngen $niter $expRate $plot\n",
    "sbatch --array=1-55 -J Chr4 ~/snap_hap/_scripts/sbatch/impute/job-impute_stitch.sbatch Chr4 $buffer $K $downsampleToCov ${use_bx_tag} $ngen $niter $expRate $plot\n",
    "sbatch --array=1-72 -J Chr5 ~/snap_hap/_scripts/sbatch/impute/job-impute_stitch.sbatch Chr5 $buffer $K $downsampleToCov ${use_bx_tag} $ngen $niter $expRate $plot\n",
    "sbatch --array=1-56 -J Chr6 ~/snap_hap/_scripts/sbatch/impute/job-impute_stitch.sbatch Chr6 $buffer $K $downsampleToCov ${use_bx_tag} $ngen $niter $expRate $plot\n",
    "sbatch --array=1-56 -J Chr7 ~/snap_hap/_scripts/sbatch/impute/job-impute_stitch.sbatch Chr7 $buffer $K $downsampleToCov ${use_bx_tag} $ngen $niter $expRate $plot\n",
    "sbatch --array=1-58 -J Chr8 ~/snap_hap/_scripts/sbatch/impute/job-impute_stitch.sbatch Chr8 $buffer $K $downsampleToCov ${use_bx_tag} $ngen $niter $expRate $plot"
   ]
  },
  {
   "cell_type": "markdown",
   "id": "b05484db-d9f2-43c1-8847-3f1e80b1fd36",
   "metadata": {},
   "source": [
    "```\n",
    "#SBATCH --output=%x_%a-stitch-%A.out\n",
    "#SBATCH --error=%x_%a-stitch-%A.out\n",
    "#SBATCH --open-mode=append\n",
    "\n",
    "#SBATCH --partition=defaultp\n",
    "#SBATCH --exclude=zeta[243-262]\n",
    "#SBATCH --time=120:00:00\n",
    "#SBATCH --ntasks=1\n",
    "#SBATCH --ntasks-per-node=1\n",
    "#SBATCH --cpus-per-task=10\n",
    "#SBATCH --mem-per-cpu=20G\n",
    "\n",
    "#SBATCH --mail-user=arka.pal@ist.ac.at\n",
    "#SBATCH --mail-type=FAIL,END\n",
    "\n",
    "#SBATCH --no-requeue\n",
    "#SBATCH --export=NONE\n",
    "unset SLURM_EXPORT_ENV\n",
    "\n",
    "## Set the number of threads to the SLURM internal variable\n",
    "export OMP_NUM_THREADS=$SLURM_CPUS_PER_TASK\n",
    "```"
   ]
  },
  {
   "cell_type": "markdown",
   "id": "75190c4d-c04f-48b1-90fe-d1979f6da29c",
   "metadata": {},
   "source": [
    "NB: It doesn't work with `-c 5 -m 8G`. For some runs, i used `--mem-per-cpu=16G`"
   ]
  },
  {
   "cell_type": "markdown",
   "id": "7377b675-8497-47d3-a033-cf34861fde68",
   "metadata": {},
   "source": [
    "Generally it takes somewhere between 1 and 2 days to run each 1MB chunk. It heavily depends on the number of SNPs. "
   ]
  },
  {
   "cell_type": "markdown",
   "id": "ec856656-c75a-4597-a15a-dd0cc863e412",
   "metadata": {},
   "source": [
    "### Run2"
   ]
  },
  {
   "cell_type": "code",
   "execution_count": null,
   "id": "21673b52-ca2d-40b7-84a5-51651a1513c2",
   "metadata": {},
   "outputs": [],
   "source": [
    "cd /nfs/scistore18/bartogrp/apal/snap_hap/variants/jobs/stitch-run2_chromSegments\n",
    "\n",
    "## Define Variables\n",
    "buffer=100000\n",
    "K=75\n",
    "downsampleToCov=20\n",
    "use_bx_tag=TRUE\n",
    "ngen=100\n",
    "niter=40\n",
    "expRate=0.5\n",
    "plot=FALSE"
   ]
  },
  {
   "cell_type": "code",
   "execution_count": null,
   "id": "e6c59645-a9ec-4dec-b806-b75a8d9d905c",
   "metadata": {},
   "outputs": [],
   "source": [
    "sbatch --array=1-72 -J Chr1 ~/snap_hap/_scripts/sbatch/impute/job-impute_stitch_run2.sbatch.sh Chr1 $buffer $K $downsampleToCov ${use_bx_tag} $ngen $niter $expRate $plot\n",
    "sbatch --array=1-78 -J Chr2 ~/snap_hap/_scripts/sbatch/impute/job-impute_stitch_run2.sbatch.sh Chr2 $buffer $K $downsampleToCov ${use_bx_tag} $ngen $niter $expRate $plot\n",
    "sbatch --array=1-66 -J Chr3 ~/snap_hap/_scripts/sbatch/impute/job-impute_stitch_run2.sbatch.sh Chr3 $buffer $K $downsampleToCov ${use_bx_tag} $ngen $niter $expRate $plot\n",
    "sbatch --array=1-55 -J Chr4 ~/snap_hap/_scripts/sbatch/impute/job-impute_stitch_run2.sbatch.sh Chr4 $buffer $K $downsampleToCov ${use_bx_tag} $ngen $niter $expRate $plot\n",
    "sbatch --array=1-72 -J Chr5 ~/snap_hap/_scripts/sbatch/impute/job-impute_stitch_run2.sbatch.sh Chr5 $buffer $K $downsampleToCov ${use_bx_tag} $ngen $niter $expRate $plot\n",
    "sbatch --array=1-56 -J Chr6 ~/snap_hap/_scripts/sbatch/impute/job-impute_stitch_run2.sbatch.sh Chr6 $buffer $K $downsampleToCov ${use_bx_tag} $ngen $niter $expRate $plot\n",
    "sbatch --array=1-56 -J Chr7 ~/snap_hap/_scripts/sbatch/impute/job-impute_stitch_run2.sbatch.sh Chr7 $buffer $K $downsampleToCov ${use_bx_tag} $ngen $niter $expRate $plot\n",
    "sbatch --array=1-58 -J Chr8 ~/snap_hap/_scripts/sbatch/impute/job-impute_stitch_run2.sbatch.sh Chr8 $buffer $K $downsampleToCov ${use_bx_tag} $ngen $niter $expRate $plot"
   ]
  },
  {
   "cell_type": "raw",
   "id": "7e8aee24-516c-41c2-9b84-8e7b913d09de",
   "metadata": {},
   "source": [
    "Chr1: all executed; all done\n",
    "Chr2: all executed; all done\n",
    "Chr3: all executed; all done\n",
    "Chr4: all executed; all done\n",
    "Chr5: all executed; all done\n",
    "Chr6: all executed; all done\n",
    "Chr7: all executed; all done\n",
    "Chr8: all executed; all done"
   ]
  },
  {
   "cell_type": "markdown",
   "id": "bdece6c8-f469-4d81-82a4-2d15079ab243",
   "metadata": {},
   "source": [
    "### Run3"
   ]
  },
  {
   "cell_type": "code",
   "execution_count": null,
   "id": "e0c98af6-5923-46cc-bb59-d152d3d6db01",
   "metadata": {},
   "outputs": [],
   "source": [
    "cd /nfs/scistore18/bartogrp/apal/snap_hap/variants/jobs/stitch-run3_chromSegments\n",
    "\n",
    "## Define Variables\n",
    "buffer=100000\n",
    "K=75\n",
    "downsampleToCov=20\n",
    "use_bx_tag=TRUE\n",
    "ngen=100\n",
    "niter=40\n",
    "expRate=0.5\n",
    "plot=FALSE"
   ]
  },
  {
   "cell_type": "code",
   "execution_count": null,
   "id": "3ae54c2a-8771-45eb-b027-d2058df4fd2e",
   "metadata": {},
   "outputs": [],
   "source": [
    "sbatch --array=1-72 -J Chr1 ~/snap_hap/_scripts/sbatch/impute/job-impute_stitch_run3.sbatch.sh Chr1 $buffer $K $downsampleToCov ${use_bx_tag} $ngen $niter $expRate $plot\n",
    "sbatch --array=1-78 -J Chr2 ~/snap_hap/_scripts/sbatch/impute/job-impute_stitch_run3.sbatch.sh Chr2 $buffer $K $downsampleToCov ${use_bx_tag} $ngen $niter $expRate $plot\n",
    "sbatch --array=1-66 -J Chr3 ~/snap_hap/_scripts/sbatch/impute/job-impute_stitch_run3.sbatch.sh Chr3 $buffer $K $downsampleToCov ${use_bx_tag} $ngen $niter $expRate $plot\n",
    "sbatch --array=1-55 -J Chr4 ~/snap_hap/_scripts/sbatch/impute/job-impute_stitch_run3.sbatch.sh Chr4 $buffer $K $downsampleToCov ${use_bx_tag} $ngen $niter $expRate $plot\n",
    "sbatch --array=1-72 -J Chr5 ~/snap_hap/_scripts/sbatch/impute/job-impute_stitch_run3.sbatch.sh Chr5 $buffer $K $downsampleToCov ${use_bx_tag} $ngen $niter $expRate $plot\n",
    "sbatch --array=1-56 -J Chr6 ~/snap_hap/_scripts/sbatch/impute/job-impute_stitch_run3.sbatch.sh Chr6 $buffer $K $downsampleToCov ${use_bx_tag} $ngen $niter $expRate $plot\n",
    "sbatch --array=1-56 -J Chr7 ~/snap_hap/_scripts/sbatch/impute/job-impute_stitch_run3.sbatch.sh Chr7 $buffer $K $downsampleToCov ${use_bx_tag} $ngen $niter $expRate $plot\n",
    "sbatch --array=1-58 -J Chr8 ~/snap_hap/_scripts/sbatch/impute/job-impute_stitch_run3.sbatch.sh Chr8 $buffer $K $downsampleToCov ${use_bx_tag} $ngen $niter $expRate $plot"
   ]
  },
  {
   "cell_type": "raw",
   "id": "73bb2671-855f-4e15-99dc-dd6433562011",
   "metadata": {},
   "source": [
    "Chr1: all Done.\n",
    "Chr2: all Done; outMem: 2,73,74,75\n",
    "Chr3: all Done; outMem: 2,62,63,64,65\n",
    "Chr4: all Done.\n",
    "Chr5: all Done; outMem: 2,66,68,70,71\n",
    "Chr6: all Done.\n",
    "Chr7: all Done; outMem: 52,53,55\n",
    "Chr8: all Done; outMem: 6,7,8,9,10,54,55,57"
   ]
  },
  {
   "cell_type": "markdown",
   "id": "7ddfdce5-264f-434e-a4c7-e63306355009",
   "metadata": {},
   "source": [
    "### Last update"
   ]
  },
  {
   "cell_type": "markdown",
   "id": "12352782-8ef7-40a4-b5da-3d717503fdda",
   "metadata": {},
   "source": [
    "_STITCH_run2_ & _STITCH_run3_ have been run on chromosome segments of 1MB. "
   ]
  }
 ],
 "metadata": {
  "kernelspec": {
   "display_name": "Bash",
   "language": "bash",
   "name": "bash"
  },
  "language_info": {
   "codemirror_mode": "shell",
   "file_extension": ".sh",
   "mimetype": "text/x-sh",
   "name": "bash"
  }
 },
 "nbformat": 4,
 "nbformat_minor": 5
}
