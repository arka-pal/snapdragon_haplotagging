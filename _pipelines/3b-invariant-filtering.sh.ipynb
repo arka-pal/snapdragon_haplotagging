{
 "cells": [
  {
   "cell_type": "markdown",
   "id": "d9707876-5bd9-4193-8c59-9bf617d35e62",
   "metadata": {},
   "source": [
    "# Invariant Filtering"
   ]
  },
  {
   "cell_type": "markdown",
   "id": "f99b8f16-f509-41d2-b040-baf8d64c2a35",
   "metadata": {},
   "source": [
    "The same filter as for variants is applied to the invariant sites. "
   ]
  },
  {
   "cell_type": "code",
   "execution_count": 1,
   "id": "3bd608b8-eee1-4853-866a-bbccb7706078",
   "metadata": {},
   "outputs": [],
   "source": [
    "# Load modules\n",
    "module load bcftools vcftools"
   ]
  },
  {
   "cell_type": "code",
   "execution_count": 2,
   "id": "85c8929e-2c37-41c8-8494-dcf37e057921",
   "metadata": {},
   "outputs": [],
   "source": [
    "## Chr6\n",
    "workDIR=/nfs/scistore18/bartogrp/apal/snap_hap/variants/vcf_bcftools_Am_all/Chr6\n",
    "cd $workDIR"
   ]
  },
  {
   "cell_type": "code",
   "execution_count": 4,
   "id": "22c5c3e6-e64d-4c28-ae87-b400983d2be4",
   "metadata": {
    "collapsed": true,
    "jupyter": {
     "outputs_hidden": true
    }
   },
   "outputs": [
    {
     "name": "stdout",
     "output_type": "stream",
     "text": [
      "Am_all_bcftools_Chr6_allSNPs+allINDELs_stats.vchk\n",
      "Am_all_bcftools_Chr6_allSNPs+allINDELs.vcf.gz\n",
      "Am_all_bcftools_Chr6_allSNPs+allINDELs.vcf.gz.tbi\n",
      "Am_all_bcftools_Chr6_biSNPs_stats.vchk\n",
      "Am_all_bcftools_Chr6_biSNPs.vcf.gz\n",
      "Am_all_bcftools_Chr6_biSNPs.vcf.gz.tbi\n",
      "Am_all_bcftools_Chr6_SnpGap0_allSNPs_stats.vchk\n",
      "Am_all_bcftools_Chr6_SnpGap0_allSNPs.vcf.gz\n",
      "Am_all_bcftools_Chr6_SnpGap0_allSNPs.vcf.gz.tbi\n",
      "Am_all_bcftools_Chr6_SnpGap0_biSNPs_params.txt\n",
      "Am_all_bcftools_Chr6_SnpGap0_biSNPs_stats.vchk\n",
      "Am_all_bcftools_Chr6_SnpGap0_biSNPs.vcf.gz\n",
      "Am_all_bcftools_Chr6_SnpGap0_biSNPs.vcf.gz.tbi\n",
      "Am_all_bcftools_Chr6_SnpGap0_polySNPs_stats.vchk\n",
      "Am_all_bcftools_Chr6_SnpGap0_polySNPs.vcf.gz\n",
      "Am_all_bcftools_Chr6_SnpGap0_polySNPs.vcf.gz.tbi\n",
      "Am_all_bcftools_Chr6_SnpGap10_allSNPs_stats.vchk\n",
      "Am_all_bcftools_Chr6_SnpGap10_allSNPs.vcf.gz\n",
      "Am_all_bcftools_Chr6_SnpGap10_allSNPs.vcf.gz.tbi\n",
      "Am_all_bcftools_Chr6_SnpGap10_biSNPs_params.txt\n",
      "Am_all_bcftools_Chr6_SnpGap10_biSNPs_stats.vchk\n",
      "Am_all_bcftools_Chr6_SnpGap10_biSNPs.vcf.gz\n",
      "Am_all_bcftools_Chr6_SnpGap10_biSNPs.vcf.gz.tbi\n",
      "Am_all_bcftools_Chr6_SnpGap10_polySNPs_stats.vchk\n",
      "Am_all_bcftools_Chr6_SnpGap10_polySNPs.vcf.gz\n",
      "Am_all_bcftools_Chr6_SnpGap10_polySNPs.vcf.gz.tbi\n",
      "Am_all_bcftools_Chr6_SnpGap5_allSNPs_stats.vchk\n",
      "Am_all_bcftools_Chr6_SnpGap5_allSNPs.vcf.gz\n",
      "Am_all_bcftools_Chr6_SnpGap5_allSNPs.vcf.gz.tbi\n",
      "Am_all_bcftools_Chr6_SnpGap5_biSNPs_filtered-DP_500-7732_QUAL20_MQ30_stats.vchk\n",
      "Am_all_bcftools_Chr6_SnpGap5_biSNPs_filtered-DP_500-7732_QUAL20_MQ30.vcf.gz\n",
      "Am_all_bcftools_Chr6_SnpGap5_biSNPs_filtered-DP_500-7732_QUAL20_MQ30.vcf.gz.tbi\n",
      "Am_all_bcftools_Chr6_SnpGap5_biSNPs_params.txt\n",
      "Am_all_bcftools_Chr6_SnpGap5_biSNPs_stats.vchk\n",
      "Am_all_bcftools_Chr6_SnpGap5_biSNPs.vcf.gz\n",
      "Am_all_bcftools_Chr6_SnpGap5_biSNPs.vcf.gz.tbi\n",
      "Am_all_bcftools_Chr6_SnpGap5_polySNPs_stats.vchk\n",
      "Am_all_bcftools_Chr6_SnpGap5_polySNPs.vcf.gz\n",
      "Am_all_bcftools_Chr6_SnpGap5_polySNPs.vcf.gz.tbi\n",
      "Am_all_bcftools_Chr6_stats\n",
      "Am_all_bcftools_Chr6_stats.vchk\n",
      "Am_all_bcftools_Chr6.vcf.gz\n",
      "Am_all_bcftools_Chr6.vcf.gz.tbi\n",
      "test.vcf.gz\n"
     ]
    }
   ],
   "source": [
    "ls"
   ]
  },
  {
   "cell_type": "code",
   "execution_count": 5,
   "id": "da3a0080-a2bc-49a1-affa-55b813dd9fc2",
   "metadata": {},
   "outputs": [
    {
     "name": "stdout",
     "output_type": "stream",
     "text": [
      "\n"
     ]
    }
   ],
   "source": [
    "bcftools view -H Am_all_bcftools_Chr6.vcf.gz | wc -l"
   ]
  },
  {
   "cell_type": "code",
   "execution_count": null,
   "id": "5852c929-0b32-4b6d-9fe9-3dd97d96ac95",
   "metadata": {},
   "outputs": [],
   "source": [
    "bcftools filter --SnpGap 5 -e 'INFO/DP<500 | INFO/DP>7732 | QUAL<20 | MQ<30' test.vcf.gz | bcftools view -H -V indels,mnps,other -M2 - | wc -l"
   ]
  },
  {
   "cell_type": "code",
   "execution_count": null,
   "id": "0d45acd1-ad54-459c-9e24-3313a5d5ac3a",
   "metadata": {},
   "outputs": [],
   "source": [
    "bcftools filter --SnpGap 5 -e 'INFO/DP<500 | INFO/DP>7732 | QUAL<20 | MQ<30' test.vcf.gz | bcftools view -H -V indels,mnps,other -M1"
   ]
  },
  {
   "cell_type": "code",
   "execution_count": null,
   "id": "607407fd-d55c-4123-90d7-87b2a980ce7a",
   "metadata": {},
   "outputs": [],
   "source": [
    "\n",
    "chrom=Chr6\n",
    "inVCF=Am_all_bcftools_${chrom}.vcf.gz\n",
    "sbatch -J invar ~/snap_hap/_scripts/sbatch/vcf-utils/job-bcftools_filter-keep-invariant-sites.sbatch.sh $inVCF"
   ]
  }
 ],
 "metadata": {
  "kernelspec": {
   "display_name": "Bash",
   "language": "bash",
   "name": "bash"
  },
  "language_info": {
   "codemirror_mode": "shell",
   "file_extension": ".sh",
   "mimetype": "text/x-sh",
   "name": "bash"
  }
 },
 "nbformat": 4,
 "nbformat_minor": 5
}
