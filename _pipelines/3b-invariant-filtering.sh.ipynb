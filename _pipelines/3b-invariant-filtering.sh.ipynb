{
 "cells": [
  {
   "cell_type": "markdown",
   "id": "d9707876-5bd9-4193-8c59-9bf617d35e62",
   "metadata": {},
   "source": [
    "# Invariant Filtering"
   ]
  },
  {
   "cell_type": "markdown",
   "id": "f99b8f16-f509-41d2-b040-baf8d64c2a35",
   "metadata": {},
   "source": [
    "The same filter as for variants is applied to the invariant sites. "
   ]
  },
  {
   "cell_type": "code",
   "execution_count": null,
   "id": "3bd608b8-eee1-4853-866a-bbccb7706078",
   "metadata": {},
   "outputs": [],
   "source": [
    "# Load modules\n",
    "module load bcftools vcftools"
   ]
  }
 ],
 "metadata": {
  "kernelspec": {
   "display_name": "Bash",
   "language": "bash",
   "name": "bash"
  },
  "language_info": {
   "codemirror_mode": "shell",
   "file_extension": ".sh",
   "mimetype": "text/x-sh",
   "name": "bash"
  }
 },
 "nbformat": 4,
 "nbformat_minor": 5
}
