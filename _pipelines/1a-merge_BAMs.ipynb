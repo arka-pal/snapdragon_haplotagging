{
 "cells": [
  {
   "cell_type": "markdown",
   "id": "787e6c83-73b9-470d-b59e-6c70dba71cbe",
   "metadata": {},
   "source": [
    "# Merging BAMs from different batches"
   ]
  },
  {
   "cell_type": "code",
   "execution_count": 2,
   "id": "19c788e9-ef42-47ca-9563-cbbee3477e81",
   "metadata": {
    "tags": []
   },
   "outputs": [],
   "source": [
    "#%%bash\n",
    "module load samtools sambamba\n",
    "\n",
    "WORKDIR=~/snap_hap\n",
    "bamDIR=$WORKDIR/bams\n",
    "\n",
    "# ## Make sample lists\n",
    "# ls -hl $bamDIR/v3.5/ema_align/10xNEW-Plate10/*bam | cut -d_ -f6 | sort > $bamDIR/samples/samples_10xNEW-Plate10.txt\n",
    "# ls -hl $bamDIR/v3.5/ema_align/10xNEW-Plate9/*bam | cut -d_ -f6 | sort > $bamDIR/samples/samples_10xNEW-Plate9.txt"
   ]
  },
  {
   "cell_type": "code",
   "execution_count": 3,
   "id": "b587cb7d-5d3a-4643-bf55-386546715ac8",
   "metadata": {
    "tags": []
   },
   "outputs": [
    {
     "name": "stdout",
     "output_type": "stream",
     "text": [
      "64 /nfs/scistore18/bartogrp/apal/snap_hap/bams/samples/samples_10xNEW-Plate9.txt\n"
     ]
    }
   ],
   "source": [
    "## 10xNEW-Plate9\n",
    "plate9=$bamDIR/samples/samples_10xNEW-Plate9.txt\n",
    "wc -l $plate9\n",
    "#head $plate9"
   ]
  },
  {
   "cell_type": "code",
   "execution_count": 4,
   "id": "23808e29-ecbf-495a-9f1a-0f97261cc23d",
   "metadata": {
    "tags": []
   },
   "outputs": [
    {
     "name": "stdout",
     "output_type": "stream",
     "text": [
      "96 /nfs/scistore18/bartogrp/apal/snap_hap/bams/samples/samples_10xNEW-Plate10.txt\n"
     ]
    }
   ],
   "source": [
    "## 10xNEW-Plate10\n",
    "plate10=$bamDIR/samples/samples_10xNEW-Plate10.txt\n",
    "wc -l $plate10\n",
    "#head $plate10"
   ]
  },
  {
   "cell_type": "code",
   "execution_count": 5,
   "id": "c5d2f0b6-5e8d-4223-a6af-b4c4efb380b8",
   "metadata": {
    "tags": []
   },
   "outputs": [
    {
     "name": "stdout",
     "output_type": "stream",
     "text": [
      "960 /nfs/scistore18/bartogrp/apal/snap_hap/sample_info/sample_MEGA_n960_2022/samples_ALL_n960.txt\n"
     ]
    }
   ],
   "source": [
    "## Make combined sample list for all 960 plants\n",
    "# cat ~/snap_hap/sample_info/sample_MEGA_n960_2022/samples_{2x,10x,60x}_* > ~/snap_hap/sample_info/sample_MEGA_n960_2022/samples_ALL_n960.txt\n",
    "wc -l ~/snap_hap/sample_info/sample_MEGA_n960_2022/samples_ALL_n960.txt\n",
    "samples=~/snap_hap/sample_info/sample_MEGA_n960_2022/samples_ALL_n960.txt"
   ]
  },
  {
   "cell_type": "code",
   "execution_count": 6,
   "id": "07c55b1e-fb40-461c-92a9-0b04d036bd8d",
   "metadata": {
    "tags": []
   },
   "outputs": [],
   "source": [
    "## Make bamlist to merge\n",
    "\n",
    "# while read plantID\n",
    "# do\n",
    "#     #echo $plantID\n",
    "#     paste <(echo $plantID) \\\n",
    "#             <(grep $plantID <(ls ~/snap_hap/bams/v3.5/ema_align/{2x*-*,10x,10xE,10xNEW*,60x,60xE}/*bam)) |\\\n",
    "#             paste - - - - >> ~/snap_hap/bams/v3.5/sample_list/bams_to_merge.txt\n",
    "# done < $samples"
   ]
  },
  {
   "cell_type": "code",
   "execution_count": 7,
   "id": "f94e16e0-90b3-4187-82b7-51e2c823f59f",
   "metadata": {
    "tags": []
   },
   "outputs": [
    {
     "name": "stdout",
     "output_type": "stream",
     "text": [
      "960 /nfs/scistore18/bartogrp/apal/snap_hap/bams/v3.5/sample_list/bams_to_merge.txt\n"
     ]
    }
   ],
   "source": [
    "wc -l ~/snap_hap/bams/v3.5/sample_list/bams_to_merge.txt"
   ]
  },
  {
   "cell_type": "markdown",
   "id": "b9ffc52a-afe2-42c5-b509-04bf7c86dbde",
   "metadata": {},
   "source": [
    "## Merge 1: ID - pb2320  (10xNEW-Plate10 + 2xE-N710e + 2x-N710)"
   ]
  },
  {
   "cell_type": "code",
   "execution_count": 10,
   "id": "9cdee6b0-0ecd-4c2e-ae7e-35004664976d",
   "metadata": {
    "tags": []
   },
   "outputs": [
    {
     "name": "stdout",
     "output_type": "stream",
     "text": [
      "pb2320\t/nfs/scistore18/bartogrp/apal/snap_hap/bams/v3.5/ema_align/10xNEW-Plate10/10xNEW-Plate10-57_Am_Pla_pb2320_v3.5.sorted.BXnum.bam\t\t/nfs/scistore18/bartogrp/apal/snap_hap/bams/v3.5/ema_align/2xE-N710e/2xE-N710e-53_Am_Pla_pb2320_v3.5.sorted.BXnum.bam\t\t/nfs/scistore18/bartogrp/apal/snap_hap/bams/v3.5/ema_align/2x-N710/2x-N710-53_Am_Pla_pb2320_v3.5.sorted.BXnum.bam\t\n"
     ]
    }
   ],
   "source": [
    "## Set variables\n",
    "merged_bamDIR=/nfs/scistore18/bartogrp/apal/snap_hap/bams/v3.5/bams_merged_2023\n",
    "bams_to_merge=/nfs/scistore18/bartogrp/apal/snap_hap/bams/v3.5/sample_list/bams_to_merge.txt\n",
    "\n",
    "sed -n \"900p\" $bams_to_merge"
   ]
  },
  {
   "cell_type": "code",
   "execution_count": 11,
   "id": "530caad1-98d5-491a-95be-108e55063b8a",
   "metadata": {},
   "outputs": [
    {
     "name": "stdout",
     "output_type": "stream",
     "text": [
      "PlantID: pb2320\n",
      "BAMlist: /nfs/scistore18/bartogrp/apal/snap_hap/bams/v3.5/ema_align/10xNEW-Plate10/10xNEW-Plate10-57_Am_Pla_pb2320_v3.5.sorted.BXnum.bam /nfs/scistore18/bartogrp/apal/snap_hap/bams/v3.5/ema_align/2xE-N710e/2xE-N710e-53_Am_Pla_pb2320_v3.5.sorted.BXnum.bam /nfs/scistore18/bartogrp/apal/snap_hap/bams/v3.5/ema_align/2x-N710/2x-N710-53_Am_Pla_pb2320_v3.5.sorted.BXnum.bam\n",
      "outBAM: 10xNEW-Plate10-57_Am_Pla_pb2320_v3.5.sorted.BXnum.merged.bam\n"
     ]
    }
   ],
   "source": [
    "## Read plantID and bamlist\n",
    "read plantID bamlist < <(sed -n \"900p\" $bams_to_merge)\n",
    "\n",
    "if [ $(echo $bamlist | tr \" \" \"\\n\" | wc -l ) = 3 ];\n",
    "then\n",
    "    tmp=$(basename $(echo $bamlist | tr \" \" \"\\n\" | head -1))\n",
    "    outBAM=${tmp/.bam/.merged.bam}\n",
    "else\n",
    "    tmp=$(basename $(echo $bamlist | tr \" \" \"\\n\" | tail -1))\n",
    "    outBAM=${tmp/.bam/.merged.bam}\n",
    "fi\n",
    "\n",
    "echo PlantID: $plantID\n",
    "echo BAMlist: $bamlist\n",
    "echo outBAM: $outBAM"
   ]
  },
  {
   "cell_type": "code",
   "execution_count": 80,
   "id": "67ad4a39-5cfa-47ff-9411-d9379711835a",
   "metadata": {},
   "outputs": [
    {
     "name": "stdout",
     "output_type": "stream",
     "text": [
      "\n",
      "real\t0m38.956s\n",
      "user\t4m22.046s\n",
      "sys\t0m3.086s\n"
     ]
    }
   ],
   "source": [
    "## Merge BAMs with samtools\n",
    "time samtools merge -@20 --no-PG -fcp -o ${merged_bamDIR}/$outBAM $bamlist"
   ]
  },
  {
   "cell_type": "code",
   "execution_count": 76,
   "id": "ab7af22c-a1d0-4881-95ad-0db3b542a120",
   "metadata": {
    "tags": []
   },
   "outputs": [
    {
     "name": "stdout",
     "output_type": "stream",
     "text": [
      "\n",
      "sambamba 0.8.2\n",
      " by Artem Tarasov and Pjotr Prins (C) 2012-2021\n",
      "    LDC 1.27.1 / DMD v2.097.2 / LLVM11.0.0 / bootstrap LDC - the LLVM D compiler (1.27.1)\n",
      "\n",
      "[==============================================================================]\n",
      "\n",
      "real\t0m36.058s\n",
      "user\t8m30.959s\n",
      "sys\t0m17.471s\n"
     ]
    }
   ],
   "source": [
    "## Merge BAMs with sambamba\n",
    "time sambamba merge -t20 -p ${merged_bamDIR}/$outBAM $bamlist"
   ]
  },
  {
   "cell_type": "code",
   "execution_count": 88,
   "id": "f9042842-39f1-44cf-b95f-cf11c64d4ad7",
   "metadata": {
    "tags": []
   },
   "outputs": [
    {
     "name": "stdout",
     "output_type": "stream",
     "text": [
      "@HD\tVN:1.3\tSO:coordinate\n",
      "@SQ\tSN:Chr1\tLN:71919034\n",
      "@SQ\tSN:Chr2\tLN:77118269\n",
      "@SQ\tSN:Chr3\tLN:65231163\n",
      "@SQ\tSN:Chr4\tLN:54887108\n",
      "@SQ\tSN:Chr5\tLN:71106538\n",
      "@SQ\tSN:Chr6\tLN:55699338\n",
      "@SQ\tSN:Chr7\tLN:55564713\n",
      "@SQ\tSN:Chr8\tLN:57431585\n",
      "@RG\tID:pb2320_10xNEW-Plate10_2xE-N710e_2x-N710\tSM:10xNEW-Plate10-57_Am_Pla_pb2320_v3.5\tLB:Snapdragon-Haplo_10xNEW-Plate10-57\n"
     ]
    }
   ],
   "source": [
    "# Extract relevant header from BAM\n",
    "samtools view -H ${merged_bamDIR}/$outBAM | grep -Ev '@PG|@RG'  > ${merged_bamDIR}/RG_$plantID.txt\n",
    "\n",
    "# Add read group (@RG)\n",
    "read_group_ID=${plantID}_$(echo $bamlist | cut -d/ -f10,20,30 | tr \"/\" \"_\")\n",
    "read_group_SM=${tmp/.sorted.BXnum.bam}\n",
    "read_group_LB=Snapdragon-Haplo_${tmp/_*}\n",
    "read_group=@RG\\\\tID:${read_group_ID}\\\\tSM:${read_group_SM}\\\\tLB:${read_group_LB}\n",
    "echo -e $read_group >> ${merged_bamDIR}/RG_${plantID}.txt\n",
    "\n",
    "cat ${merged_bamDIR}/RG_${plantID}.txt"
   ]
  },
  {
   "cell_type": "code",
   "execution_count": 90,
   "id": "23a13f6c-b833-4f7c-8e53-a527b2068764",
   "metadata": {
    "tags": []
   },
   "outputs": [
    {
     "name": "stdout",
     "output_type": "stream",
     "text": [
      "\n",
      "real\t0m2.046s\n",
      "user\t0m0.120s\n",
      "sys\t0m1.777s\n"
     ]
    }
   ],
   "source": [
    "# Fix BAM header\n",
    "time samtools reheader ${merged_bamDIR}/RG_${plantID}.txt ${merged_bamDIR}/$outBAM > ${merged_bamDIR}/tmp_$plantID.bam"
   ]
  },
  {
   "cell_type": "code",
   "execution_count": 91,
   "id": "e2648ef8-8c82-4f15-a76c-afaeba65f304",
   "metadata": {
    "tags": []
   },
   "outputs": [
    {
     "name": "stdout",
     "output_type": "stream",
     "text": [
      "\n",
      "real\t0m4.809s\n",
      "user\t0m22.903s\n",
      "sys\t0m2.657s\n"
     ]
    }
   ],
   "source": [
    "# Rename the re-headered file with outBAM file\n",
    "mv ${merged_bamDIR}/tmp_$plantID.bam ${merged_bamDIR}/$outBAM\n",
    "\n",
    "# Remove header file\n",
    "rm ${merged_bamDIR}/RG_${plantID}.txt\n",
    "\n",
    "# Index merged BAM file\n",
    "samtools index -@20 ${merged_bamDIR}/$outBAM"
   ]
  },
  {
   "cell_type": "code",
   "execution_count": 92,
   "id": "7f482f4e-e3d6-4f62-bf58-65d002ae4cb1",
   "metadata": {
    "tags": []
   },
   "outputs": [
    {
     "name": "stdout",
     "output_type": "stream",
     "text": [
      "@HD\tVN:1.3\tSO:coordinate\n",
      "@SQ\tSN:Chr1\tLN:71919034\n",
      "@SQ\tSN:Chr2\tLN:77118269\n",
      "@SQ\tSN:Chr3\tLN:65231163\n",
      "@SQ\tSN:Chr4\tLN:54887108\n",
      "@SQ\tSN:Chr5\tLN:71106538\n",
      "@SQ\tSN:Chr6\tLN:55699338\n",
      "@SQ\tSN:Chr7\tLN:55564713\n",
      "@SQ\tSN:Chr8\tLN:57431585\n",
      "@RG\tID:pb2320_10xNEW-Plate10_2xE-N710e_2x-N710\tSM:10xNEW-Plate10-57_Am_Pla_pb2320_v3.5\tLB:Snapdragon-Haplo_10xNEW-Plate10-57\n",
      "@PG\tID:samtools\tPN:samtools\tVN:1.16\tCL:samtools reheader /nfs/scistore18/bartogrp/apal/snap_hap/bams/v3.5/bams_merged_2023/RG_pb2320.txt /nfs/scistore18/bartogrp/apal/snap_hap/bams/v3.5/bams_merged_2023/10xNEW-Plate10-57_Am_Pla_pb2320_v3.5.sorted.BXnum.merged.bam\n",
      "@PG\tID:samtools.1\tPN:samtools\tPP:samtools\tVN:1.16\tCL:samtools view -H /nfs/scistore18/bartogrp/apal/snap_hap/bams/v3.5/bams_merged_2023/10xNEW-Plate10-57_Am_Pla_pb2320_v3.5.sorted.BXnum.merged.bam\n"
     ]
    }
   ],
   "source": [
    "# Check the new BAM file\n",
    "samtools view -H ${merged_bamDIR}/$outBAM"
   ]
  },
  {
   "cell_type": "code",
   "execution_count": 93,
   "id": "c5d9662b-ff81-4d0d-aa42-7549fc0299e7",
   "metadata": {
    "tags": []
   },
   "outputs": [
    {
     "name": "stdout",
     "output_type": "stream",
     "text": [
      "total 1.5G\n",
      "-rw-r--r-- 1 apal bartogrp 1.7G Jul  6 00:14 10xNEW-Plate10-57_Am_Pla_pb2320_v3.5.sorted.BXnum.merged.bam\n",
      "-rw-r--r-- 1 apal bartogrp 476K Jul  6 00:14 10xNEW-Plate10-57_Am_Pla_pb2320_v3.5.sorted.BXnum.merged.bam.bai\n"
     ]
    }
   ],
   "source": [
    "ls -hl ${merged_bamDIR}"
   ]
  },
  {
   "cell_type": "markdown",
   "id": "b0f2cc4b-8022-4017-b461-c71801b91868",
   "metadata": {},
   "source": [
    "## Merge 2: ID - pb2320  (10xNEW-Plate10 + 2xE-N710e + 2x-N710)"
   ]
  },
  {
   "cell_type": "code",
   "execution_count": 12,
   "id": "4ad9931f-ec18-429d-aa2d-bc7df954b2ce",
   "metadata": {
    "tags": []
   },
   "outputs": [
    {
     "name": "stdout",
     "output_type": "stream",
     "text": [
      "pb0005\t/nfs/scistore18/bartogrp/apal/snap_hap/bams/v3.5/ema_align/2xE-N702e/2xE-N702e-5_Am_Pla_pb0005_v3.5.sorted.BXnum.bam\t\t/nfs/scistore18/bartogrp/apal/snap_hap/bams/v3.5/ema_align/2x-N702/2x-N702-5_Am_Pla_pb0005_v3.5.sorted.BXnum.bam\t\t\n"
     ]
    }
   ],
   "source": [
    "## Set variables\n",
    "merged_bamDIR=/nfs/scistore18/bartogrp/apal/snap_hap/bams/v3.5/bams_merged_2023\n",
    "bams_to_merge=/nfs/scistore18/bartogrp/apal/snap_hap/bams/v3.5/sample_list/bams_to_merge.txt\n",
    "\n",
    "sed -n \"100p\" $bams_to_merge"
   ]
  },
  {
   "cell_type": "code",
   "execution_count": 14,
   "id": "a0c176e2-6bb2-4fee-8d46-df263837fae4",
   "metadata": {},
   "outputs": [
    {
     "name": "stdout",
     "output_type": "stream",
     "text": [
      "PlantID: pb0005\n",
      "BAMlist: /nfs/scistore18/bartogrp/apal/snap_hap/bams/v3.5/ema_align/2xE-N702e/2xE-N702e-5_Am_Pla_pb0005_v3.5.sorted.BXnum.bam /nfs/scistore18/bartogrp/apal/snap_hap/bams/v3.5/ema_align/2x-N702/2x-N702-5_Am_Pla_pb0005_v3.5.sorted.BXnum.bam\n",
      "outBAM: 2x-N702-5_Am_Pla_pb0005_v3.5.sorted.BXnum.merged.bam\n"
     ]
    }
   ],
   "source": [
    "## Read plantID and bamlist\n",
    "read plantID bamlist < <(sed -n \"100p\" $bams_to_merge)\n",
    "\n",
    "if [ $(echo $bamlist | tr \" \" \"\\n\" | wc -l ) = 3 ];\n",
    "then\n",
    "    tmp=$(basename $(echo $bamlist | tr \" \" \"\\n\" | head -1))\n",
    "    outBAM=${tmp/.bam/.merged.bam}\n",
    "else\n",
    "    tmp=$(basename $(echo $bamlist | tr \" \" \"\\n\" | tail -1))\n",
    "    outBAM=${tmp/.bam/.merged.bam}\n",
    "fi\n",
    "\n",
    "echo PlantID: $plantID\n",
    "echo BAMlist: $bamlist\n",
    "echo outBAM: $outBAM"
   ]
  },
  {
   "cell_type": "code",
   "execution_count": 15,
   "id": "e2028b9f-1e2f-40a2-b071-afa5cf956398",
   "metadata": {},
   "outputs": [
    {
     "name": "stdout",
     "output_type": "stream",
     "text": [
      "\n",
      "real\t0m14.601s\n",
      "user\t1m31.088s\n",
      "sys\t0m1.351s\n"
     ]
    }
   ],
   "source": [
    "## Merge BAMs with samtools\n",
    "time samtools merge -@20 --no-PG -fcp -o ${merged_bamDIR}/$outBAM $bamlist"
   ]
  },
  {
   "cell_type": "code",
   "execution_count": 16,
   "id": "fe1eb890-4ce9-44bd-aaf6-74817fac37d1",
   "metadata": {
    "tags": []
   },
   "outputs": [
    {
     "name": "stdout",
     "output_type": "stream",
     "text": [
      "\n",
      "sambamba 0.8.2\n",
      " by Artem Tarasov and Pjotr Prins (C) 2012-2021\n",
      "    LDC 1.27.1 / DMD v2.097.2 / LLVM11.0.0 / bootstrap LDC - the LLVM D compiler (1.27.1)\n",
      "\n",
      "[==============================================================================]\n",
      "\n",
      "real\t0m13.775s\n",
      "user\t3m1.992s\n",
      "sys\t0m6.056s\n"
     ]
    }
   ],
   "source": [
    "## Merge BAMs with sambamba\n",
    "time sambamba merge -t20 -p ${merged_bamDIR}/$outBAM $bamlist"
   ]
  },
  {
   "cell_type": "code",
   "execution_count": 17,
   "id": "0e096c47-3812-48ba-86fb-12686f2daa55",
   "metadata": {
    "tags": []
   },
   "outputs": [
    {
     "name": "stdout",
     "output_type": "stream",
     "text": [
      "@HD\tVN:1.3\tSO:coordinate\n",
      "@SQ\tSN:Chr1\tLN:71919034\n",
      "@SQ\tSN:Chr2\tLN:77118269\n",
      "@SQ\tSN:Chr3\tLN:65231163\n",
      "@SQ\tSN:Chr4\tLN:54887108\n",
      "@SQ\tSN:Chr5\tLN:71106538\n",
      "@SQ\tSN:Chr6\tLN:55699338\n",
      "@SQ\tSN:Chr7\tLN:55564713\n",
      "@SQ\tSN:Chr8\tLN:57431585\n",
      "@RG\tID:pb0005_2xE-N702e_2x-N702\tSM:2x-N702-5_Am_Pla_pb0005_v3.5\tLB:Snapdragon-Haplo_2x-N702-5\n"
     ]
    }
   ],
   "source": [
    "# Extract relevant header from BAM\n",
    "samtools view -H ${merged_bamDIR}/$outBAM | grep -Ev '@PG|@RG'  > ${merged_bamDIR}/RG_$plantID.txt\n",
    "\n",
    "# Add read group (@RG)\n",
    "read_group_ID=${plantID}_$(echo $bamlist | cut -d/ -f10,20,30 | tr \"/\" \"_\")\n",
    "read_group_SM=${tmp/.sorted.BXnum.bam}\n",
    "read_group_LB=Snapdragon-Haplo_${tmp/_*}\n",
    "read_group=@RG\\\\tID:${read_group_ID}\\\\tSM:${read_group_SM}\\\\tLB:${read_group_LB}\n",
    "echo -e $read_group >> ${merged_bamDIR}/RG_${plantID}.txt\n",
    "\n",
    "cat ${merged_bamDIR}/RG_${plantID}.txt"
   ]
  },
  {
   "cell_type": "code",
   "execution_count": 18,
   "id": "ea8ed6b0-a3c2-45e8-9cae-2b56262d11a9",
   "metadata": {
    "tags": []
   },
   "outputs": [],
   "source": [
    "# Fix BAM header\n",
    "samtools reheader ${merged_bamDIR}/RG_${plantID}.txt ${merged_bamDIR}/$outBAM > ${merged_bamDIR}/tmp_$plantID.bam"
   ]
  },
  {
   "cell_type": "code",
   "execution_count": 19,
   "id": "0aa328e3-543d-4152-91a6-deebaefa54f3",
   "metadata": {
    "tags": []
   },
   "outputs": [],
   "source": [
    "# Rename the re-headered file with outBAM file\n",
    "mv ${merged_bamDIR}/tmp_$plantID.bam ${merged_bamDIR}/$outBAM\n",
    "\n",
    "# Remove header file\n",
    "rm ${merged_bamDIR}/RG_${plantID}.txt\n",
    "\n",
    "# Index merged BAM file\n",
    "samtools index -@20 ${merged_bamDIR}/$outBAM"
   ]
  },
  {
   "cell_type": "code",
   "execution_count": 20,
   "id": "f2347fd0-a4a3-4dba-b61b-d0d000c35b6d",
   "metadata": {
    "tags": []
   },
   "outputs": [
    {
     "name": "stdout",
     "output_type": "stream",
     "text": [
      "@HD\tVN:1.3\tSO:coordinate\n",
      "@SQ\tSN:Chr1\tLN:71919034\n",
      "@SQ\tSN:Chr2\tLN:77118269\n",
      "@SQ\tSN:Chr3\tLN:65231163\n",
      "@SQ\tSN:Chr4\tLN:54887108\n",
      "@SQ\tSN:Chr5\tLN:71106538\n",
      "@SQ\tSN:Chr6\tLN:55699338\n",
      "@SQ\tSN:Chr7\tLN:55564713\n",
      "@SQ\tSN:Chr8\tLN:57431585\n",
      "@RG\tID:pb0005_2xE-N702e_2x-N702\tSM:2x-N702-5_Am_Pla_pb0005_v3.5\tLB:Snapdragon-Haplo_2x-N702-5\n",
      "@PG\tID:samtools\tPN:samtools\tVN:1.16\tCL:samtools reheader /nfs/scistore18/bartogrp/apal/snap_hap/bams/v3.5/bams_merged_2023/RG_pb0005.txt /nfs/scistore18/bartogrp/apal/snap_hap/bams/v3.5/bams_merged_2023/2x-N702-5_Am_Pla_pb0005_v3.5.sorted.BXnum.merged.bam\n",
      "@PG\tID:samtools.1\tPN:samtools\tPP:samtools\tVN:1.16\tCL:samtools view -H /nfs/scistore18/bartogrp/apal/snap_hap/bams/v3.5/bams_merged_2023/2x-N702-5_Am_Pla_pb0005_v3.5.sorted.BXnum.merged.bam\n"
     ]
    }
   ],
   "source": [
    "# Check the new BAM file\n",
    "samtools view -H ${merged_bamDIR}/$outBAM"
   ]
  },
  {
   "cell_type": "code",
   "execution_count": 21,
   "id": "f570f038-32fb-467a-ba60-6aff8f78c9c5",
   "metadata": {
    "tags": []
   },
   "outputs": [
    {
     "name": "stdout",
     "output_type": "stream",
     "text": [
      "total 645M\n",
      "-rw-r--r-- 1 apal bartogrp 701M Jul  6 11:16 2x-N702-5_Am_Pla_pb0005_v3.5.sorted.BXnum.merged.bam\n",
      "-rw-r--r-- 1 apal bartogrp 395K Jul  6 11:16 2x-N702-5_Am_Pla_pb0005_v3.5.sorted.BXnum.merged.bam.bai\n"
     ]
    }
   ],
   "source": [
    "ls -hl ${merged_bamDIR}"
   ]
  },
  {
   "cell_type": "markdown",
   "id": "88dbde26-1684-42d0-85ed-6cebb6565e46",
   "metadata": {},
   "source": [
    "## Running SLURM job to merge BAMs"
   ]
  },
  {
   "cell_type": "code",
   "execution_count": null,
   "id": "0a465218-90d1-47fc-9d80-6ecc243fd031",
   "metadata": {},
   "outputs": [],
   "source": [
    "cd /nfs/scistore18/bartogrp/apal/snap_hap/bams/v3.5/jobs/merge_bams_2023\n",
    "\n",
    "sbatch --array=1-960 ~/snap_hap/_scripts/sbatch/bam-utils/job-merge_bams.sbatch"
   ]
  },
  {
   "cell_type": "markdown",
   "id": "695d5ed3-da2f-4b09-9205-c3b1ff364828",
   "metadata": {
    "tags": []
   },
   "source": [
    "## Manually fixing problematic sample names\n",
    "\n",
    "* 2 samples with 60x coverage are included in 10xNEW - named, 60x2\n",
    "* 6 samples with 10x coverage are included in 10xNEW - named, 10x2\n",
    "* mislabelled as 10xE instead of 10x\n",
    "* 1 samlple: mislabelled as 60xE instead of 60x\n",
    "\n",
    "### 1. 60x2 samples (*n = 2*)"
   ]
  },
  {
   "cell_type": "code",
   "execution_count": 1,
   "id": "1cd33551-735b-4735-af9e-faf46471c3eb",
   "metadata": {
    "tags": []
   },
   "outputs": [
    {
     "name": "stdout",
     "output_type": "stream",
     "text": [
      "pb1042\t60xE\t60x\t10xNEW-Plate9\t60x2\n",
      "pb0898\t60xE\t60x\t10xNEW-Plate10\t60x2\n"
     ]
    }
   ],
   "source": [
    "bamINFO=~/snap_hap/sample_info/bam_info/samples_mergedBAMs_2023.txt\n",
    "cat $bamINFO | grep 60x2"
   ]
  },
  {
   "cell_type": "code",
   "execution_count": 2,
   "id": "8dcc99cc-e2f1-49fd-bdc0-2b78716a735c",
   "metadata": {
    "collapsed": true,
    "jupyter": {
     "outputs_hidden": true
    },
    "tags": []
   },
   "outputs": [
    {
     "name": "stdout",
     "output_type": "stream",
     "text": [
      "Fixing PlantID pb1042\n",
      "\n",
      "PlantID: pb1042\n",
      "BAMfile: /nfs/scistore18/bartogrp/apal/snap_hap/bams/v3.5/bams_merged_2023/10xNEW-Plate9-17_Am_Pla_pb1042_v3.5.sorted.BXnum.merged.bam\n",
      "\n",
      "\n",
      " New Header\n",
      "@HD\tVN:1.3\tSO:coordinate\n",
      "@SQ\tSN:Chr1\tLN:71919034\n",
      "@SQ\tSN:Chr2\tLN:77118269\n",
      "@SQ\tSN:Chr3\tLN:65231163\n",
      "@SQ\tSN:Chr4\tLN:54887108\n",
      "@SQ\tSN:Chr5\tLN:71106538\n",
      "@SQ\tSN:Chr6\tLN:55699338\n",
      "@SQ\tSN:Chr7\tLN:55564713\n",
      "@SQ\tSN:Chr8\tLN:57431585\n",
      "@RG\tID:pb1042_10xNEW-Plate9_60x_60xE\tSM:60x2-Plate9-17_Am_Pla_pb1042_v3.5\tLB:Snapdragon-Haplo_60x2-Plate9-17\n",
      "\n",
      "\n",
      " Fixing BAM Header\n",
      "\n",
      "real\t0m49.511s\n",
      "user\t0m1.806s\n",
      "sys\t0m28.682s\n",
      "\n",
      "\n",
      " Indexing BAM\n",
      "[E::hts_open_format] Failed to open file \"/nfs/scistore18/bartogrp/apal/snap_hap/bams/v3.5/bams_merged_2023/10xNEW-Plate9-17_Am_Pla_pb1042_v3.5.sorted.BXnum.merged.bam\" : No such file or directory\n",
      "samtools index: failed to open \"/nfs/scistore18/bartogrp/apal/snap_hap/bams/v3.5/bams_merged_2023/10xNEW-Plate9-17_Am_Pla_pb1042_v3.5.sorted.BXnum.merged.bam\": No such file or directory\n",
      "\n",
      "real\t0m0.022s\n",
      "user\t0m0.006s\n",
      "sys\t0m0.003s\n",
      "\n",
      "Done!\n",
      "\n",
      "\n",
      "Fixing PlantID pb0898\n",
      "\n",
      "PlantID: pb0898\n",
      "BAMfile: /nfs/scistore18/bartogrp/apal/snap_hap/bams/v3.5/bams_merged_2023/10xNEW-Plate10-7_Am_Pla_pb0898_v3.5.sorted.BXnum.merged.bam\n",
      "\n",
      "\n",
      " New Header\n",
      "@HD\tVN:1.3\tSO:coordinate\n",
      "@SQ\tSN:Chr1\tLN:71919034\n",
      "@SQ\tSN:Chr2\tLN:77118269\n",
      "@SQ\tSN:Chr3\tLN:65231163\n",
      "@SQ\tSN:Chr4\tLN:54887108\n",
      "@SQ\tSN:Chr5\tLN:71106538\n",
      "@SQ\tSN:Chr6\tLN:55699338\n",
      "@SQ\tSN:Chr7\tLN:55564713\n",
      "@SQ\tSN:Chr8\tLN:57431585\n",
      "@RG\tID:pb0898_10xNEW-Plate10_60x_60xE\tSM:60x2-Plate10-7_Am_Pla_pb0898_v3.5\tLB:Snapdragon-Haplo_60x2-Plate10-7\n",
      "\n",
      "\n",
      " Fixing BAM Header\n",
      "\n",
      "real\t0m54.875s\n",
      "user\t0m1.789s\n",
      "sys\t0m30.827s\n",
      "\n",
      "\n",
      " Indexing BAM\n",
      "[E::hts_open_format] Failed to open file \"/nfs/scistore18/bartogrp/apal/snap_hap/bams/v3.5/bams_merged_2023/10xNEW-Plate10-7_Am_Pla_pb0898_v3.5.sorted.BXnum.merged.bam\" : No such file or directory\n",
      "samtools index: failed to open \"/nfs/scistore18/bartogrp/apal/snap_hap/bams/v3.5/bams_merged_2023/10xNEW-Plate10-7_Am_Pla_pb0898_v3.5.sorted.BXnum.merged.bam\": No such file or directory\n",
      "\n",
      "real\t0m0.011s\n",
      "user\t0m0.000s\n",
      "sys\t0m0.007s\n",
      "\n",
      "Done!\n",
      "\n",
      "\n"
     ]
    }
   ],
   "source": [
    "## Fix header\n",
    "for plantID in pb1042 pb0898\n",
    "do\n",
    "    echo -e \"Fixing PlantID $plantID\\n\"\n",
    "    # bash ~/snap_hap/_scripts/bash/reheader_bams.sh $plantID 10xNEW 60x2\n",
    "    echo -e \"\\n\"\n",
    "done"
   ]
  },
  {
   "cell_type": "markdown",
   "id": "41ff13bb-962f-481f-985f-8093750eca85",
   "metadata": {
    "tags": []
   },
   "source": [
    "### 2. 10x2 samples (*n = 6*)"
   ]
  },
  {
   "cell_type": "code",
   "execution_count": 4,
   "id": "e1bfafb4-238f-441e-b4ae-afa1f9ea1755",
   "metadata": {
    "tags": []
   },
   "outputs": [
    {
     "name": "stdout",
     "output_type": "stream",
     "text": [
      "pb1196\t10xE\t10x\t10xNEW-Plate9\t10x2\n",
      "pb1008\t10xE\t10x\t10xNEW-Plate9\t10x2\n",
      "pb1253\t10xE\t10x\t10xNEW-Plate9\t10x2\n",
      "pb1682\t10xE\t10x\t10xNEW-Plate10\t10x2\n",
      "pb2190\t10xE\t10x\t10xNEW-Plate10\t10x2\n",
      "pb1687\t10xE\t10x\t10xNEW-Plate10\t10x2\n"
     ]
    }
   ],
   "source": [
    "bamINFO=~/snap_hap/sample_info/bam_info/samples_mergedBAMs_2023.txt\n",
    "cat $bamINFO | grep 10x2"
   ]
  },
  {
   "cell_type": "code",
   "execution_count": 20,
   "id": "30794ebd-214d-4995-8dce-5e48158bf5e1",
   "metadata": {
    "tags": []
   },
   "outputs": [
    {
     "name": "stdout",
     "output_type": "stream",
     "text": [
      "pb1196 pb1008 pb1253 pb1682 pb2190 pb1687\n"
     ]
    }
   ],
   "source": [
    "IDs=$(cat $bamINFO | grep 10x2 | cut -f1)\n",
    "echo $IDs"
   ]
  },
  {
   "cell_type": "code",
   "execution_count": 21,
   "id": "093cbdfd-0251-4a35-8e56-c70a3bceea9b",
   "metadata": {
    "collapsed": true,
    "jupyter": {
     "outputs_hidden": true
    },
    "tags": []
   },
   "outputs": [
    {
     "name": "stdout",
     "output_type": "stream",
     "text": [
      "Fixing PlantID pb1196\n",
      "\n",
      "PlantID: pb1196\n",
      "BAMfile: /nfs/scistore18/bartogrp/apal/snap_hap/bams/v3.5/bams_merged_2023/10x-13_Am_Pla_pb1196_v3.5.sorted.BXnum.merged.bam\n",
      "\n",
      "\n",
      " New Header\n",
      "@HD\tVN:1.3\tSO:coordinate\n",
      "@SQ\tSN:Chr1\tLN:71919034\n",
      "@SQ\tSN:Chr2\tLN:77118269\n",
      "@SQ\tSN:Chr3\tLN:65231163\n",
      "@SQ\tSN:Chr4\tLN:54887108\n",
      "@SQ\tSN:Chr5\tLN:71106538\n",
      "@SQ\tSN:Chr6\tLN:55699338\n",
      "@SQ\tSN:Chr7\tLN:55564713\n",
      "@SQ\tSN:Chr8\tLN:57431585\n",
      "@RG\tID:pb1196_10x_10xE_10xNEW-Plate9\tSM:10x2-13_Am_Pla_pb1196_v3.5\tLB:Snapdragon-Haplo_10x2-13\n",
      "\n",
      "\n",
      " Fixing BAM Header\n",
      "\n",
      "real\t0m11.716s\n",
      "user\t0m0.485s\n",
      "sys\t0m7.730s\n",
      "\n",
      "\n",
      " Indexing BAM\n",
      "\n",
      "real\t0m44.636s\n",
      "user\t0m41.416s\n",
      "sys\t0m2.699s\n",
      "\n",
      "Done!\n",
      "\n",
      "\n",
      "Fixing PlantID pb1008\n",
      "\n",
      "PlantID: pb1008\n",
      "BAMfile: /nfs/scistore18/bartogrp/apal/snap_hap/bams/v3.5/bams_merged_2023/10x-14_Am_Pla_pb1008_v3.5.sorted.BXnum.merged.bam\n",
      "\n",
      "\n",
      " New Header\n",
      "@HD\tVN:1.3\tSO:coordinate\n",
      "@SQ\tSN:Chr1\tLN:71919034\n",
      "@SQ\tSN:Chr2\tLN:77118269\n",
      "@SQ\tSN:Chr3\tLN:65231163\n",
      "@SQ\tSN:Chr4\tLN:54887108\n",
      "@SQ\tSN:Chr5\tLN:71106538\n",
      "@SQ\tSN:Chr6\tLN:55699338\n",
      "@SQ\tSN:Chr7\tLN:55564713\n",
      "@SQ\tSN:Chr8\tLN:57431585\n",
      "@RG\tID:pb1008_10x_10xE_10xNEW-Plate9\tSM:10x2-14_Am_Pla_pb1008_v3.5\tLB:Snapdragon-Haplo_10x2-14\n",
      "\n",
      "\n",
      " Fixing BAM Header\n",
      "\n",
      "real\t0m12.614s\n",
      "user\t0m0.704s\n",
      "sys\t0m7.397s\n",
      "\n",
      "\n",
      " Indexing BAM\n",
      "\n",
      "real\t0m58.120s\n",
      "user\t0m53.925s\n",
      "sys\t0m3.368s\n",
      "\n",
      "Done!\n",
      "\n",
      "\n",
      "Fixing PlantID pb1253\n",
      "\n",
      "PlantID: pb1253\n",
      "BAMfile: /nfs/scistore18/bartogrp/apal/snap_hap/bams/v3.5/bams_merged_2023/10x-15_Am_Pla_pb1253_v3.5.sorted.BXnum.merged.bam\n",
      "\n",
      "\n",
      " New Header\n",
      "@HD\tVN:1.3\tSO:coordinate\n",
      "@SQ\tSN:Chr1\tLN:71919034\n",
      "@SQ\tSN:Chr2\tLN:77118269\n",
      "@SQ\tSN:Chr3\tLN:65231163\n",
      "@SQ\tSN:Chr4\tLN:54887108\n",
      "@SQ\tSN:Chr5\tLN:71106538\n",
      "@SQ\tSN:Chr6\tLN:55699338\n",
      "@SQ\tSN:Chr7\tLN:55564713\n",
      "@SQ\tSN:Chr8\tLN:57431585\n",
      "@RG\tID:pb1253_10x_10xE_10xNEW-Plate9\tSM:10x2-15_Am_Pla_pb1253_v3.5\tLB:Snapdragon-Haplo_10x2-15\n",
      "\n",
      "\n",
      " Fixing BAM Header\n",
      "\n",
      "real\t0m15.501s\n",
      "user\t0m0.573s\n",
      "sys\t0m6.437s\n",
      "\n",
      "\n",
      " Indexing BAM\n",
      "\n",
      "real\t0m47.612s\n",
      "user\t0m44.181s\n",
      "sys\t0m2.812s\n",
      "\n",
      "Done!\n",
      "\n",
      "\n",
      "Fixing PlantID pb1682\n",
      "\n",
      "PlantID: pb1682\n",
      "BAMfile: /nfs/scistore18/bartogrp/apal/snap_hap/bams/v3.5/bams_merged_2023/10x-16_Am_Pla_pb1682_v3.5.sorted.BXnum.merged.bam\n",
      "\n",
      "\n",
      " New Header\n",
      "@HD\tVN:1.3\tSO:coordinate\n",
      "@SQ\tSN:Chr1\tLN:71919034\n",
      "@SQ\tSN:Chr2\tLN:77118269\n",
      "@SQ\tSN:Chr3\tLN:65231163\n",
      "@SQ\tSN:Chr4\tLN:54887108\n",
      "@SQ\tSN:Chr5\tLN:71106538\n",
      "@SQ\tSN:Chr6\tLN:55699338\n",
      "@SQ\tSN:Chr7\tLN:55564713\n",
      "@SQ\tSN:Chr8\tLN:57431585\n",
      "@RG\tID:pb1682_10x_10xE_10xNEW-Plate10\tSM:10x2-16_Am_Pla_pb1682_v3.5\tLB:Snapdragon-Haplo_10x2-16\n",
      "\n",
      "\n",
      " Fixing BAM Header\n",
      "\n",
      "real\t0m13.477s\n",
      "user\t0m0.512s\n",
      "sys\t0m5.762s\n",
      "\n",
      "\n",
      " Indexing BAM\n",
      "\n",
      "real\t0m42.260s\n",
      "user\t0m38.640s\n",
      "sys\t0m2.895s\n",
      "\n",
      "Done!\n",
      "\n",
      "\n",
      "Fixing PlantID pb2190\n",
      "\n",
      "PlantID: pb2190\n",
      "BAMfile: /nfs/scistore18/bartogrp/apal/snap_hap/bams/v3.5/bams_merged_2023/10x-17_Am_Pla_pb2190_v3.5.sorted.BXnum.merged.bam\n",
      "\n",
      "\n",
      " New Header\n",
      "@HD\tVN:1.3\tSO:coordinate\n",
      "@SQ\tSN:Chr1\tLN:71919034\n",
      "@SQ\tSN:Chr2\tLN:77118269\n",
      "@SQ\tSN:Chr3\tLN:65231163\n",
      "@SQ\tSN:Chr4\tLN:54887108\n",
      "@SQ\tSN:Chr5\tLN:71106538\n",
      "@SQ\tSN:Chr6\tLN:55699338\n",
      "@SQ\tSN:Chr7\tLN:55564713\n",
      "@SQ\tSN:Chr8\tLN:57431585\n",
      "@RG\tID:pb2190_10x_10xE_10xNEW-Plate10\tSM:10x2-17_Am_Pla_pb2190_v3.5\tLB:Snapdragon-Haplo_10x2-17\n",
      "\n",
      "\n",
      " Fixing BAM Header\n",
      "\n",
      "real\t0m13.337s\n",
      "user\t0m0.520s\n",
      "sys\t0m6.605s\n",
      "\n",
      "\n",
      " Indexing BAM\n",
      "\n",
      "real\t0m48.138s\n",
      "user\t0m44.611s\n",
      "sys\t0m2.937s\n",
      "\n",
      "Done!\n",
      "\n",
      "\n",
      "Fixing PlantID pb1687\n",
      "\n",
      "PlantID: pb1687\n",
      "BAMfile: /nfs/scistore18/bartogrp/apal/snap_hap/bams/v3.5/bams_merged_2023/10x-18_Am_Pla_pb1687_v3.5.sorted.BXnum.merged.bam\n",
      "\n",
      "\n",
      " New Header\n",
      "@HD\tVN:1.3\tSO:coordinate\n",
      "@SQ\tSN:Chr1\tLN:71919034\n",
      "@SQ\tSN:Chr2\tLN:77118269\n",
      "@SQ\tSN:Chr3\tLN:65231163\n",
      "@SQ\tSN:Chr4\tLN:54887108\n",
      "@SQ\tSN:Chr5\tLN:71106538\n",
      "@SQ\tSN:Chr6\tLN:55699338\n",
      "@SQ\tSN:Chr7\tLN:55564713\n",
      "@SQ\tSN:Chr8\tLN:57431585\n",
      "@RG\tID:pb1687_10x_10xE_10xNEW-Plate10\tSM:10x2-18_Am_Pla_pb1687_v3.5\tLB:Snapdragon-Haplo_10x2-18\n",
      "\n",
      "\n",
      " Fixing BAM Header\n",
      "\n",
      "real\t0m14.349s\n",
      "user\t0m0.645s\n",
      "sys\t0m7.467s\n",
      "\n",
      "\n",
      " Indexing BAM\n",
      "\n",
      "real\t0m50.610s\n",
      "user\t0m46.736s\n",
      "sys\t0m3.140s\n",
      "\n",
      "Done!\n",
      "\n",
      "\n"
     ]
    }
   ],
   "source": [
    "IDs=$(cat $bamINFO | grep 10x2 | cut -f1)\n",
    "for plantID in $IDs\n",
    "do\n",
    "    echo -e \"Fixing PlantID $plantID\\n\"\n",
    "    bash ~/snap_hap/_scripts/bash/reheader_bams.sh $plantID 10x 10x2\n",
    "    echo -e \"\\n\"\n",
    "done"
   ]
  },
  {
   "cell_type": "markdown",
   "id": "ec529585-1354-4ea2-8096-ef6860d45e16",
   "metadata": {},
   "source": [
    "### 3. 10x samples mislabelled as 10xE (n=)"
   ]
  },
  {
   "cell_type": "code",
   "execution_count": 25,
   "id": "baa5d1e9-ea64-414a-95fb-89fd72b7333c",
   "metadata": {
    "tags": []
   },
   "outputs": [
    {
     "name": "stdout",
     "output_type": "stream",
     "text": [
      "pb0174\t10xE\t10x\tNaN\t10x\n",
      "pb0216\t10xE\t10x\tNaN\t10x\n",
      "pb0294\t10xE\t10x\tNaN\t10x\n",
      "pb0349\t10xE\t10x\tNaN\t10x\n",
      "pb0403\t10xE\t10x\tNaN\t10x\n",
      "pb0458\t10xE\t10x\tNaN\t10x\n",
      "pb0407\t10xE\t10x\tNaN\t10x\n",
      "pb0768\t10xE\t10x\tNaN\t10x\n",
      "pb2333\t10xE\t10x\tNaN\t10x\n",
      "pb3403\t10xE\t10x\tNaN\t10x\n",
      "pb4318\t10xE\t10x\tNaN\t10x\n",
      "pb4563\t10xE\t10x\tNaN\t10x\n",
      "pb1196\t10xE\t10x\t10xNEW-Plate9\t10x2\n",
      "pb1008\t10xE\t10x\t10xNEW-Plate9\t10x2\n",
      "pb1253\t10xE\t10x\t10xNEW-Plate9\t10x2\n",
      "pb1682\t10xE\t10x\t10xNEW-Plate10\t10x2\n",
      "pb2190\t10xE\t10x\t10xNEW-Plate10\t10x2\n",
      "pb1687\t10xE\t10x\t10xNEW-Plate10\t10x2\n"
     ]
    }
   ],
   "source": [
    "bamINFO=~/snap_hap/sample_info/bam_info/samples_mergedBAMs_2023.txt\n",
    "cat $bamINFO | grep 10xE"
   ]
  },
  {
   "cell_type": "code",
   "execution_count": 28,
   "id": "5bc56b56-7bf5-4a36-ba2d-a081cbbc57f2",
   "metadata": {
    "tags": []
   },
   "outputs": [
    {
     "name": "stdout",
     "output_type": "stream",
     "text": [
      "12\n",
      "/nfs/scistore18/bartogrp/apal/snap_hap/bams/v3.5/bams_merged_2023/10xE-10_Am_Pla_pb3403_v3.5.sorted.BXnum.merged.bam\n",
      "/nfs/scistore18/bartogrp/apal/snap_hap/bams/v3.5/bams_merged_2023/10xE-11_Am_Pla_pb4318_v3.5.sorted.BXnum.merged.bam\n",
      "/nfs/scistore18/bartogrp/apal/snap_hap/bams/v3.5/bams_merged_2023/10xE-12_Am_Pla_pb4563_v3.5.sorted.BXnum.merged.bam\n",
      "/nfs/scistore18/bartogrp/apal/snap_hap/bams/v3.5/bams_merged_2023/10xE-1_Am_Pla_pb0174_v3.5.sorted.BXnum.merged.bam\n",
      "/nfs/scistore18/bartogrp/apal/snap_hap/bams/v3.5/bams_merged_2023/10xE-2_Am_Pla_pb0216_v3.5.sorted.BXnum.merged.bam\n",
      "/nfs/scistore18/bartogrp/apal/snap_hap/bams/v3.5/bams_merged_2023/10xE-3_Am_Pla_pb0294_v3.5.sorted.BXnum.merged.bam\n",
      "/nfs/scistore18/bartogrp/apal/snap_hap/bams/v3.5/bams_merged_2023/10xE-4_Am_Pla_pb0349_v3.5.sorted.BXnum.merged.bam\n",
      "/nfs/scistore18/bartogrp/apal/snap_hap/bams/v3.5/bams_merged_2023/10xE-5_Am_Pla_pb0403_v3.5.sorted.BXnum.merged.bam\n",
      "/nfs/scistore18/bartogrp/apal/snap_hap/bams/v3.5/bams_merged_2023/10xE-6_Am_Pla_pb0458_v3.5.sorted.BXnum.merged.bam\n",
      "/nfs/scistore18/bartogrp/apal/snap_hap/bams/v3.5/bams_merged_2023/10xE-7_Am_Pla_pb0407_v3.5.sorted.BXnum.merged.bam\n",
      "/nfs/scistore18/bartogrp/apal/snap_hap/bams/v3.5/bams_merged_2023/10xE-8_Am_Pla_pb0768_v3.5.sorted.BXnum.merged.bam\n",
      "/nfs/scistore18/bartogrp/apal/snap_hap/bams/v3.5/bams_merged_2023/10xE-9_Am_Pla_pb2333_v3.5.sorted.BXnum.merged.bam\n"
     ]
    }
   ],
   "source": [
    "ls ~/snap_hap/bams/v3.5/bams_merged_2023/*10xE*bam | wc -l\n",
    "ls ~/snap_hap/bams/v3.5/bams_merged_2023/*10xE*bam"
   ]
  },
  {
   "cell_type": "code",
   "execution_count": 26,
   "id": "c9ef5c06-4d41-4d29-a3bc-6d2cb0e3a2ea",
   "metadata": {
    "tags": []
   },
   "outputs": [
    {
     "name": "stdout",
     "output_type": "stream",
     "text": [
      "pb0174 pb0216 pb0294 pb0349 pb0403 pb0458 pb0407 pb0768 pb2333 pb3403 pb4318 pb4563\n"
     ]
    }
   ],
   "source": [
    "IDs=$(cat $bamINFO | grep 10xE | head -12 | cut -f1)\n",
    "echo $IDs"
   ]
  },
  {
   "cell_type": "code",
   "execution_count": 29,
   "id": "d1d52c9b-1d18-4b8e-b85f-0159a71abd05",
   "metadata": {
    "collapsed": true,
    "jupyter": {
     "outputs_hidden": true
    },
    "tags": []
   },
   "outputs": [
    {
     "name": "stdout",
     "output_type": "stream",
     "text": [
      "Fixing PlantID pb0174\n",
      "\n",
      "PlantID: pb0174\n",
      "BAMfile: /nfs/scistore18/bartogrp/apal/snap_hap/bams/v3.5/bams_merged_2023/10xE-1_Am_Pla_pb0174_v3.5.sorted.BXnum.merged.bam\n",
      "\n",
      "\n",
      " New Header\n",
      "@HD\tVN:1.3\tSO:coordinate\n",
      "@SQ\tSN:Chr1\tLN:71919034\n",
      "@SQ\tSN:Chr2\tLN:77118269\n",
      "@SQ\tSN:Chr3\tLN:65231163\n",
      "@SQ\tSN:Chr4\tLN:54887108\n",
      "@SQ\tSN:Chr5\tLN:71106538\n",
      "@SQ\tSN:Chr6\tLN:55699338\n",
      "@SQ\tSN:Chr7\tLN:55564713\n",
      "@SQ\tSN:Chr8\tLN:57431585\n",
      "@RG\tID:pb0174_10x_10xE\tSM:10x-1_Am_Pla_pb0174_v3.5\tLB:Snapdragon-Haplo_10x-1\n",
      "\n",
      "\n",
      " Fixing BAM Header\n",
      "\n",
      "real\t0m13.910s\n",
      "user\t0m0.528s\n",
      "sys\t0m7.858s\n",
      "\n",
      "\n",
      " Indexing BAM\n",
      "\n",
      "real\t0m49.800s\n",
      "user\t0m44.233s\n",
      "sys\t0m2.931s\n",
      "\n",
      "Done!\n",
      "\n",
      "\n",
      "Fixing PlantID pb0216\n",
      "\n",
      "PlantID: pb0216\n",
      "BAMfile: /nfs/scistore18/bartogrp/apal/snap_hap/bams/v3.5/bams_merged_2023/10xE-2_Am_Pla_pb0216_v3.5.sorted.BXnum.merged.bam\n",
      "\n",
      "\n",
      " New Header\n",
      "@HD\tVN:1.3\tSO:coordinate\n",
      "@SQ\tSN:Chr1\tLN:71919034\n",
      "@SQ\tSN:Chr2\tLN:77118269\n",
      "@SQ\tSN:Chr3\tLN:65231163\n",
      "@SQ\tSN:Chr4\tLN:54887108\n",
      "@SQ\tSN:Chr5\tLN:71106538\n",
      "@SQ\tSN:Chr6\tLN:55699338\n",
      "@SQ\tSN:Chr7\tLN:55564713\n",
      "@SQ\tSN:Chr8\tLN:57431585\n",
      "@RG\tID:pb0216_10x_10xE\tSM:10x-2_Am_Pla_pb0216_v3.5\tLB:Snapdragon-Haplo_10x-2\n",
      "\n",
      "\n",
      " Fixing BAM Header\n",
      "\n",
      "real\t0m9.958s\n",
      "user\t0m0.331s\n",
      "sys\t0m5.260s\n",
      "\n",
      "\n",
      " Indexing BAM\n",
      "\n",
      "real\t0m34.822s\n",
      "user\t0m32.243s\n",
      "sys\t0m2.055s\n",
      "\n",
      "Done!\n",
      "\n",
      "\n",
      "Fixing PlantID pb0294\n",
      "\n",
      "PlantID: pb0294\n",
      "BAMfile: /nfs/scistore18/bartogrp/apal/snap_hap/bams/v3.5/bams_merged_2023/10xE-3_Am_Pla_pb0294_v3.5.sorted.BXnum.merged.bam\n",
      "\n",
      "\n",
      " New Header\n",
      "@HD\tVN:1.3\tSO:coordinate\n",
      "@SQ\tSN:Chr1\tLN:71919034\n",
      "@SQ\tSN:Chr2\tLN:77118269\n",
      "@SQ\tSN:Chr3\tLN:65231163\n",
      "@SQ\tSN:Chr4\tLN:54887108\n",
      "@SQ\tSN:Chr5\tLN:71106538\n",
      "@SQ\tSN:Chr6\tLN:55699338\n",
      "@SQ\tSN:Chr7\tLN:55564713\n",
      "@SQ\tSN:Chr8\tLN:57431585\n",
      "@RG\tID:pb0294_10x_10xE\tSM:10x-3_Am_Pla_pb0294_v3.5\tLB:Snapdragon-Haplo_10x-3\n",
      "\n",
      "\n",
      " Fixing BAM Header\n",
      "\n",
      "real\t0m6.548s\n",
      "user\t0m0.226s\n",
      "sys\t0m3.600s\n",
      "\n",
      "\n",
      " Indexing BAM\n",
      "\n",
      "real\t0m24.847s\n",
      "user\t0m22.628s\n",
      "sys\t0m1.569s\n",
      "\n",
      "Done!\n",
      "\n",
      "\n",
      "Fixing PlantID pb0349\n",
      "\n",
      "PlantID: pb0349\n",
      "BAMfile: /nfs/scistore18/bartogrp/apal/snap_hap/bams/v3.5/bams_merged_2023/10xE-4_Am_Pla_pb0349_v3.5.sorted.BXnum.merged.bam\n",
      "\n",
      "\n",
      " New Header\n",
      "@HD\tVN:1.3\tSO:coordinate\n",
      "@SQ\tSN:Chr1\tLN:71919034\n",
      "@SQ\tSN:Chr2\tLN:77118269\n",
      "@SQ\tSN:Chr3\tLN:65231163\n",
      "@SQ\tSN:Chr4\tLN:54887108\n",
      "@SQ\tSN:Chr5\tLN:71106538\n",
      "@SQ\tSN:Chr6\tLN:55699338\n",
      "@SQ\tSN:Chr7\tLN:55564713\n",
      "@SQ\tSN:Chr8\tLN:57431585\n",
      "@RG\tID:pb0349_10x_10xE\tSM:10x-4_Am_Pla_pb0349_v3.5\tLB:Snapdragon-Haplo_10x-4\n",
      "\n",
      "\n",
      " Fixing BAM Header\n",
      "\n",
      "real\t0m7.466s\n",
      "user\t0m0.213s\n",
      "sys\t0m3.734s\n",
      "\n",
      "\n",
      " Indexing BAM\n",
      "\n",
      "real\t0m23.390s\n",
      "user\t0m21.777s\n",
      "sys\t0m1.276s\n",
      "\n",
      "Done!\n",
      "\n",
      "\n",
      "Fixing PlantID pb0403\n",
      "\n",
      "PlantID: pb0403\n",
      "BAMfile: /nfs/scistore18/bartogrp/apal/snap_hap/bams/v3.5/bams_merged_2023/10xE-5_Am_Pla_pb0403_v3.5.sorted.BXnum.merged.bam\n",
      "\n",
      "\n",
      " New Header\n",
      "@HD\tVN:1.3\tSO:coordinate\n",
      "@SQ\tSN:Chr1\tLN:71919034\n",
      "@SQ\tSN:Chr2\tLN:77118269\n",
      "@SQ\tSN:Chr3\tLN:65231163\n",
      "@SQ\tSN:Chr4\tLN:54887108\n",
      "@SQ\tSN:Chr5\tLN:71106538\n",
      "@SQ\tSN:Chr6\tLN:55699338\n",
      "@SQ\tSN:Chr7\tLN:55564713\n",
      "@SQ\tSN:Chr8\tLN:57431585\n",
      "@RG\tID:pb0403_10x_10xE\tSM:10x-5_Am_Pla_pb0403_v3.5\tLB:Snapdragon-Haplo_10x-5\n",
      "\n",
      "\n",
      " Fixing BAM Header\n",
      "\n",
      "real\t0m12.159s\n",
      "user\t0m0.357s\n",
      "sys\t0m4.873s\n",
      "\n",
      "\n",
      " Indexing BAM\n",
      "\n",
      "real\t0m33.302s\n",
      "user\t0m30.345s\n",
      "sys\t0m1.987s\n",
      "\n",
      "Done!\n",
      "\n",
      "\n",
      "Fixing PlantID pb0458\n",
      "\n",
      "PlantID: pb0458\n",
      "BAMfile: /nfs/scistore18/bartogrp/apal/snap_hap/bams/v3.5/bams_merged_2023/10xE-6_Am_Pla_pb0458_v3.5.sorted.BXnum.merged.bam\n",
      "\n",
      "\n",
      " New Header\n",
      "@HD\tVN:1.3\tSO:coordinate\n",
      "@SQ\tSN:Chr1\tLN:71919034\n",
      "@SQ\tSN:Chr2\tLN:77118269\n",
      "@SQ\tSN:Chr3\tLN:65231163\n",
      "@SQ\tSN:Chr4\tLN:54887108\n",
      "@SQ\tSN:Chr5\tLN:71106538\n",
      "@SQ\tSN:Chr6\tLN:55699338\n",
      "@SQ\tSN:Chr7\tLN:55564713\n",
      "@SQ\tSN:Chr8\tLN:57431585\n",
      "@RG\tID:pb0458_10x_10xE\tSM:10x-6_Am_Pla_pb0458_v3.5\tLB:Snapdragon-Haplo_10x-6\n",
      "\n",
      "\n",
      " Fixing BAM Header\n",
      "\n",
      "real\t0m8.829s\n",
      "user\t0m0.348s\n",
      "sys\t0m3.774s\n",
      "\n",
      "\n",
      " Indexing BAM\n",
      "\n",
      "real\t0m27.844s\n",
      "user\t0m25.567s\n",
      "sys\t0m1.622s\n",
      "\n",
      "Done!\n",
      "\n",
      "\n",
      "Fixing PlantID pb0407\n",
      "\n",
      "PlantID: pb0407\n",
      "BAMfile: /nfs/scistore18/bartogrp/apal/snap_hap/bams/v3.5/bams_merged_2023/10xE-7_Am_Pla_pb0407_v3.5.sorted.BXnum.merged.bam\n",
      "\n",
      "\n",
      " New Header\n",
      "@HD\tVN:1.3\tSO:coordinate\n",
      "@SQ\tSN:Chr1\tLN:71919034\n",
      "@SQ\tSN:Chr2\tLN:77118269\n",
      "@SQ\tSN:Chr3\tLN:65231163\n",
      "@SQ\tSN:Chr4\tLN:54887108\n",
      "@SQ\tSN:Chr5\tLN:71106538\n",
      "@SQ\tSN:Chr6\tLN:55699338\n",
      "@SQ\tSN:Chr7\tLN:55564713\n",
      "@SQ\tSN:Chr8\tLN:57431585\n",
      "@RG\tID:pb0407_10x_10xE\tSM:10x-7_Am_Pla_pb0407_v3.5\tLB:Snapdragon-Haplo_10x-7\n",
      "\n",
      "\n",
      " Fixing BAM Header\n",
      "\n",
      "real\t0m9.729s\n",
      "user\t0m0.328s\n",
      "sys\t0m5.422s\n",
      "\n",
      "\n",
      " Indexing BAM\n",
      "\n",
      "real\t0m32.790s\n",
      "user\t0m29.674s\n",
      "sys\t0m2.109s\n",
      "\n",
      "Done!\n",
      "\n",
      "\n",
      "Fixing PlantID pb0768\n",
      "\n",
      "PlantID: pb0768\n",
      "BAMfile: /nfs/scistore18/bartogrp/apal/snap_hap/bams/v3.5/bams_merged_2023/10xE-8_Am_Pla_pb0768_v3.5.sorted.BXnum.merged.bam\n",
      "\n",
      "\n",
      " New Header\n",
      "@HD\tVN:1.3\tSO:coordinate\n",
      "@SQ\tSN:Chr1\tLN:71919034\n",
      "@SQ\tSN:Chr2\tLN:77118269\n",
      "@SQ\tSN:Chr3\tLN:65231163\n",
      "@SQ\tSN:Chr4\tLN:54887108\n",
      "@SQ\tSN:Chr5\tLN:71106538\n",
      "@SQ\tSN:Chr6\tLN:55699338\n",
      "@SQ\tSN:Chr7\tLN:55564713\n",
      "@SQ\tSN:Chr8\tLN:57431585\n",
      "@RG\tID:pb0768_10x_10xE\tSM:10x-8_Am_Pla_pb0768_v3.5\tLB:Snapdragon-Haplo_10x-8\n",
      "\n",
      "\n",
      " Fixing BAM Header\n",
      "\n",
      "real\t0m10.890s\n",
      "user\t0m0.499s\n",
      "sys\t0m6.279s\n",
      "\n",
      "\n",
      " Indexing BAM\n",
      "\n",
      "real\t0m37.741s\n",
      "user\t0m34.691s\n",
      "sys\t0m2.229s\n",
      "\n",
      "Done!\n",
      "\n",
      "\n",
      "Fixing PlantID pb2333\n",
      "\n",
      "PlantID: pb2333\n",
      "BAMfile: /nfs/scistore18/bartogrp/apal/snap_hap/bams/v3.5/bams_merged_2023/10xE-9_Am_Pla_pb2333_v3.5.sorted.BXnum.merged.bam\n",
      "\n",
      "\n",
      " New Header\n",
      "@HD\tVN:1.3\tSO:coordinate\n",
      "@SQ\tSN:Chr1\tLN:71919034\n",
      "@SQ\tSN:Chr2\tLN:77118269\n",
      "@SQ\tSN:Chr3\tLN:65231163\n",
      "@SQ\tSN:Chr4\tLN:54887108\n",
      "@SQ\tSN:Chr5\tLN:71106538\n",
      "@SQ\tSN:Chr6\tLN:55699338\n",
      "@SQ\tSN:Chr7\tLN:55564713\n",
      "@SQ\tSN:Chr8\tLN:57431585\n",
      "@RG\tID:pb2333_10x_10xE\tSM:10x-9_Am_Pla_pb2333_v3.5\tLB:Snapdragon-Haplo_10x-9\n",
      "\n",
      "\n",
      " Fixing BAM Header\n",
      "\n",
      "real\t0m9.755s\n",
      "user\t0m0.393s\n",
      "sys\t0m5.207s\n",
      "\n",
      "\n",
      " Indexing BAM\n",
      "\n",
      "real\t0m37.732s\n",
      "user\t0m35.303s\n",
      "sys\t0m2.120s\n",
      "\n",
      "Done!\n",
      "\n",
      "\n",
      "Fixing PlantID pb3403\n",
      "\n",
      "PlantID: pb3403\n",
      "BAMfile: /nfs/scistore18/bartogrp/apal/snap_hap/bams/v3.5/bams_merged_2023/10xE-10_Am_Pla_pb3403_v3.5.sorted.BXnum.merged.bam\n",
      "\n",
      "\n",
      " New Header\n",
      "@HD\tVN:1.3\tSO:coordinate\n",
      "@SQ\tSN:Chr1\tLN:71919034\n",
      "@SQ\tSN:Chr2\tLN:77118269\n",
      "@SQ\tSN:Chr3\tLN:65231163\n",
      "@SQ\tSN:Chr4\tLN:54887108\n",
      "@SQ\tSN:Chr5\tLN:71106538\n",
      "@SQ\tSN:Chr6\tLN:55699338\n",
      "@SQ\tSN:Chr7\tLN:55564713\n",
      "@SQ\tSN:Chr8\tLN:57431585\n",
      "@RG\tID:pb3403_10x_10xE\tSM:10x-10_Am_Pla_pb3403_v3.5\tLB:Snapdragon-Haplo_10x-10\n",
      "\n",
      "\n",
      " Fixing BAM Header\n",
      "\n",
      "real\t0m14.151s\n",
      "user\t0m0.525s\n",
      "sys\t0m6.622s\n",
      "\n",
      "\n",
      " Indexing BAM\n",
      "\n",
      "real\t0m49.233s\n",
      "user\t0m45.748s\n",
      "sys\t0m2.769s\n",
      "\n",
      "Done!\n",
      "\n",
      "\n",
      "Fixing PlantID pb4318\n",
      "\n",
      "PlantID: pb4318\n",
      "BAMfile: /nfs/scistore18/bartogrp/apal/snap_hap/bams/v3.5/bams_merged_2023/10xE-11_Am_Pla_pb4318_v3.5.sorted.BXnum.merged.bam\n",
      "\n",
      "\n",
      " New Header\n",
      "@HD\tVN:1.3\tSO:coordinate\n",
      "@SQ\tSN:Chr1\tLN:71919034\n",
      "@SQ\tSN:Chr2\tLN:77118269\n",
      "@SQ\tSN:Chr3\tLN:65231163\n",
      "@SQ\tSN:Chr4\tLN:54887108\n",
      "@SQ\tSN:Chr5\tLN:71106538\n",
      "@SQ\tSN:Chr6\tLN:55699338\n",
      "@SQ\tSN:Chr7\tLN:55564713\n",
      "@SQ\tSN:Chr8\tLN:57431585\n",
      "@RG\tID:pb4318_10x_10xE\tSM:10x-11_Am_Pla_pb4318_v3.5\tLB:Snapdragon-Haplo_10x-11\n",
      "\n",
      "\n",
      " Fixing BAM Header\n",
      "\n",
      "real\t0m10.499s\n",
      "user\t0m0.409s\n",
      "sys\t0m6.591s\n",
      "\n",
      "\n",
      " Indexing BAM\n",
      "\n",
      "real\t0m48.371s\n",
      "user\t0m44.841s\n",
      "sys\t0m2.553s\n",
      "\n",
      "Done!\n",
      "\n",
      "\n",
      "Fixing PlantID pb4563\n",
      "\n",
      "PlantID: pb4563\n",
      "BAMfile: /nfs/scistore18/bartogrp/apal/snap_hap/bams/v3.5/bams_merged_2023/10xE-12_Am_Pla_pb4563_v3.5.sorted.BXnum.merged.bam\n",
      "\n",
      "\n",
      " New Header\n",
      "@HD\tVN:1.3\tSO:coordinate\n",
      "@SQ\tSN:Chr1\tLN:71919034\n",
      "@SQ\tSN:Chr2\tLN:77118269\n",
      "@SQ\tSN:Chr3\tLN:65231163\n",
      "@SQ\tSN:Chr4\tLN:54887108\n",
      "@SQ\tSN:Chr5\tLN:71106538\n",
      "@SQ\tSN:Chr6\tLN:55699338\n",
      "@SQ\tSN:Chr7\tLN:55564713\n",
      "@SQ\tSN:Chr8\tLN:57431585\n",
      "@RG\tID:pb4563_10x_10xE\tSM:10x-12_Am_Pla_pb4563_v3.5\tLB:Snapdragon-Haplo_10x-12\n",
      "\n",
      "\n",
      " Fixing BAM Header\n",
      "\n",
      "real\t0m9.925s\n",
      "user\t0m0.398s\n",
      "sys\t0m5.109s\n",
      "\n",
      "\n",
      " Indexing BAM\n",
      "\n",
      "real\t0m38.488s\n",
      "user\t0m35.450s\n",
      "sys\t0m2.349s\n",
      "\n",
      "Done!\n",
      "\n",
      "\n"
     ]
    }
   ],
   "source": [
    "IDs=$(cat $bamINFO | grep 10xE | head -12 | cut -f1)\n",
    "for plantID in $IDs\n",
    "do\n",
    "    echo -e \"Fixing PlantID $plantID\\n\"\n",
    "    bash ~/snap_hap/_scripts/bash/reheader_bams.sh $plantID 10xE 10x\n",
    "    echo -e \"\\n\"\n",
    "done"
   ]
  },
  {
   "cell_type": "markdown",
   "id": "05c8f741-5af9-4f61-8f10-e5f60547b5a6",
   "metadata": {},
   "source": [
    "### 4. 60x samples mislabelled as 60xE (*n = 1*)"
   ]
  },
  {
   "cell_type": "code",
   "execution_count": 22,
   "id": "7a6f736b-85d0-4c96-865c-f5a859b78b4f",
   "metadata": {
    "tags": []
   },
   "outputs": [
    {
     "name": "stdout",
     "output_type": "stream",
     "text": [
      "pb0464\t60xE\t60x\tNaN\t60x\n",
      "pb1042\t60xE\t60x\t10xNEW-Plate9\t60x2\n",
      "pb0898\t60xE\t60x\t10xNEW-Plate10\t60x2\n"
     ]
    }
   ],
   "source": [
    "bamINFO=~/snap_hap/sample_info/bam_info/samples_mergedBAMs_2023.txt\n",
    "cat $bamINFO | grep 60xE"
   ]
  },
  {
   "cell_type": "markdown",
   "id": "2ae0a563-e8b0-48bb-8053-cfac9626539e",
   "metadata": {},
   "source": [
    "Only **pb0464** is the relevant plantID to be changed. "
   ]
  },
  {
   "cell_type": "code",
   "execution_count": 23,
   "id": "88ce5166-b681-428f-a756-9dc63ddb6077",
   "metadata": {
    "tags": []
   },
   "outputs": [
    {
     "name": "stdout",
     "output_type": "stream",
     "text": [
      "/nfs/scistore18/bartogrp/apal/snap_hap/bams/v3.5/bams_merged_2023/60xE-1_Am_Pla_pb0464_v3.5.sorted.BXnum.merged.bam\n",
      "/nfs/scistore18/bartogrp/apal/snap_hap/bams/v3.5/bams_merged_2023/60xE-1_Am_Pla_pb0464_v3.5.sorted.BXnum.merged.bam.bai\n"
     ]
    }
   ],
   "source": [
    "ls ~/snap_hap/bams/v3.5/bams_merged_2023/*pb0464*"
   ]
  },
  {
   "cell_type": "code",
   "execution_count": 24,
   "id": "0c7aaeef-ab17-4e31-b984-b0f5ad5bf669",
   "metadata": {
    "collapsed": true,
    "jupyter": {
     "outputs_hidden": true
    },
    "tags": []
   },
   "outputs": [
    {
     "name": "stdout",
     "output_type": "stream",
     "text": [
      "Fixing PlantID pb0464\n",
      "\n",
      "PlantID: pb0464\n",
      "BAMfile: /nfs/scistore18/bartogrp/apal/snap_hap/bams/v3.5/bams_merged_2023/60xE-1_Am_Pla_pb0464_v3.5.sorted.BXnum.merged.bam\n",
      "\n",
      "\n",
      " New Header\n",
      "@HD\tVN:1.3\tSO:coordinate\n",
      "@SQ\tSN:Chr1\tLN:71919034\n",
      "@SQ\tSN:Chr2\tLN:77118269\n",
      "@SQ\tSN:Chr3\tLN:65231163\n",
      "@SQ\tSN:Chr4\tLN:54887108\n",
      "@SQ\tSN:Chr5\tLN:71106538\n",
      "@SQ\tSN:Chr6\tLN:55699338\n",
      "@SQ\tSN:Chr7\tLN:55564713\n",
      "@SQ\tSN:Chr8\tLN:57431585\n",
      "@RG\tID:pb0464_60x_60xE\tSM:60x-1_Am_Pla_pb0464_v3.5\tLB:Snapdragon-Haplo_60x-1\n",
      "\n",
      "\n",
      " Fixing BAM Header\n",
      "\n",
      "real\t1m18.572s\n",
      "user\t0m2.525s\n",
      "sys\t0m37.499s\n",
      "\n",
      "\n",
      " Indexing BAM\n",
      "\n",
      "real\t4m15.485s\n",
      "user\t3m55.995s\n",
      "sys\t0m13.277s\n",
      "\n",
      "Done!\n",
      "\n",
      "\n"
     ]
    }
   ],
   "source": [
    "for plantID in pb0464\n",
    "do\n",
    "    echo -e \"Fixing PlantID $plantID\\n\"\n",
    "    bash ~/snap_hap/_scripts/bash/reheader_bams.sh $plantID 60xE 60x\n",
    "    echo -e \"\\n\"\n",
    "done"
   ]
  }
 ],
 "metadata": {
  "kernelspec": {
   "display_name": "Bash",
   "language": "bash",
   "name": "bash"
  },
  "language_info": {
   "codemirror_mode": "shell",
   "file_extension": ".sh",
   "mimetype": "text/x-sh",
   "name": "bash"
  }
 },
 "nbformat": 4,
 "nbformat_minor": 5
}
