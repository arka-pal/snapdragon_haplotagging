{
 "cells": [
  {
   "cell_type": "markdown",
   "id": "72d2bd06-3b78-4820-82e9-6f084019e32b",
   "metadata": {},
   "source": [
    "# Postprocessing after STITCH test-run against KASP marker"
   ]
  },
  {
   "cell_type": "code",
   "execution_count": 2,
   "id": "0fca8ac8-846c-447b-88f4-ae72e4cd1fb7",
   "metadata": {},
   "outputs": [
    {
     "name": "stdout",
     "output_type": "stream",
     "text": [
      "\n",
      "Currently Loaded Modules:\n",
      "  1) git/2.35.1         6) rstudio/2023.06.1-524      11) GSL/2.7\n",
      "  2) java/17            7) nodejs/18.16.1        (T)  12) bcftools/1.16\n",
      "  3) texlive/20211108   8) julia/1.9.0                13) htslib/1.13\n",
      "  4) hdf5/1.13.1        9) proj/8.1.1                 14) perl/5.34.0\n",
      "  5) R/4.3.0           10) JupyterPython/2.0     (T)  15) vcftools/20210912\n",
      "\n",
      "  Where:\n",
      "   T:  Testing\n",
      "\n",
      " \n",
      "\n"
     ]
    }
   ],
   "source": [
    "module load bcftools/1.16 vcftools/20210912\n",
    "module list"
   ]
  },
  {
   "cell_type": "markdown",
   "id": "d4a01c0f-a3c9-47f3-9e61-39c50f59c4e5",
   "metadata": {},
   "source": [
    "## STITCH Run:"
   ]
  },
  {
   "cell_type": "markdown",
   "id": "dab9f4bc-9fa1-4430-9e14-c0a55e4b2294",
   "metadata": {
    "jp-MarkdownHeadingCollapsed": true
   },
   "source": [
    "### 1. chr1_905184_1005184, s1187_290152, K40, cov10, bxTRUE, niter40, ngen100, r0.5\n",
    "`run3_1-chr1_905184_1005184-s1187_290152.pos_K40_cov10_bxTRUE_niter40_ngen100_r0.5_plotTRUE`"
   ]
  },
  {
   "cell_type": "code",
   "execution_count": 2,
   "id": "cad766eb-a949-4b81-ad0e-4d827d9e0c48",
   "metadata": {},
   "outputs": [],
   "source": [
    "cd /nfs/scistore18/bartogrp/apal/snap_hap/impute/stitch_tests/Chr1/run3_filteredVCFs_2023-08/run3_1-chr1_905184_1005184-s1187_290152.pos_K40_cov10_bxTRUE_niter40_ngen100_r0.5_plotTRUE\n",
    "# ls -hl"
   ]
  },
  {
   "cell_type": "code",
   "execution_count": 3,
   "id": "7c025974-a438-4461-ba10-09e96d0106ae",
   "metadata": {},
   "outputs": [
    {
     "name": "stdout",
     "output_type": "stream",
     "text": [
      "Chr1\t905188\t.\tC\tT\t.\tPASS\tEAF=0.01028;INFO_SCORE=0.26467;HWE=1;ERC=20.2059;EAC=1305.36;PAF=0.01524\n",
      "Chr1\t905222\t.\tC\tA\t.\tPASS\tEAF=0.34182;INFO_SCORE=0.54922;HWE=0.125;ERC=389.012;EAC=970.595;PAF=0.28612\n",
      "Chr1\t905250\t.\tT\tC\t.\tPASS\tEAF=0.0033;INFO_SCORE=1;HWE=1;ERC=9.14807;EAC=1266.54;PAF=0.00717\n",
      "Chr1\t905251\t.\tA\tG\t.\tPASS\tEAF=0.1457;INFO_SCORE=0.3107;HWE=0.000877;ERC=187.049;EAC=1105.61;PAF=0.1447\n",
      "Chr1\t905255\t.\tA\tT\t.\tPASS\tEAF=0.00576;INFO_SCORE=0.25077;HWE=1;ERC=8.18439;EAC=1311.44;PAF=0.0062\n",
      "cut: write error: Broken pipe\n"
     ]
    }
   ],
   "source": [
    "# bcftools tabix ./stitch.Chr1.905188.1005184.vcf.gz\n",
    "bcftools view -H ./stitch.Chr1.905188.1005184.vcf.gz | cut -f1-8 | head -5"
   ]
  },
  {
   "cell_type": "code",
   "execution_count": 4,
   "id": "4e51c054-82ce-4f85-9333-6f834de72631",
   "metadata": {},
   "outputs": [
    {
     "name": "stdout",
     "output_type": "stream",
     "text": [
      "Samples:\n",
      "10x2-13_Am_Pla_pb1196_v3.5\n",
      "10x2-14_Am_Pla_pb1008_v3.5\n",
      "10x2-15_Am_Pla_pb1253_v3.5\n",
      "10x2-16_Am_Pla_pb1682_v3.5\n",
      "10x2-17_Am_Pla_pb2190_v3.5\n",
      "10x2-18_Am_Pla_pb1687_v3.5\n",
      "10xNEW-Plate10-10_Am_Pla_pb0952_v3.5\n",
      "10xNEW-Plate10-11_Am_Pla_pb0960_v3.5\n",
      "10xNEW-Plate10-12_Am_Pla_pb1085_v3.5\n",
      "10xNEW-Plate10-13_Am_Pla_pb1088_v3.5\n"
     ]
    }
   ],
   "source": [
    "echo Samples:\n",
    "bcftools query -l ./stitch.Chr1.905188.1005184.vcf.gz | head -10"
   ]
  },
  {
   "cell_type": "markdown",
   "id": "19b0d7e0-d040-407c-be8d-14d3777f7378",
   "metadata": {},
   "source": [
    "### Get 012 values from stitch VCF"
   ]
  },
  {
   "cell_type": "code",
   "execution_count": 5,
   "id": "ddd0377a-bb84-4f35-9ce3-3582ce1fcf35",
   "metadata": {},
   "outputs": [
    {
     "name": "stdout",
     "output_type": "stream",
     "text": [
      "\n",
      "VCFtools - 0.1.17\n",
      "(C) Adam Auton and Anthony Marcketta 2009\n",
      "\n",
      "Parameters as interpreted:\n",
      "\t--gzvcf ./stitch.Chr1.905188.1005184.vcf.gz\n",
      "\t--chr Chr1\n",
      "\t--to-bp 955187\n",
      "\t--012\n",
      "\t--out 1-chr1-955185_highConf\n",
      "\t--from-bp 955183\n",
      "\n",
      "Using zlib version: 1.2.11\n",
      "Warning: Expected at least 2 parts in FORMAT entry: ID=GP,Number=3,Type=Float,Description=\"Posterior genotype probability of 0/0, 0/1, and 1/1\">\n",
      "Warning: Expected at least 2 parts in FORMAT entry: ID=GP,Number=3,Type=Float,Description=\"Posterior genotype probability of 0/0, 0/1, and 1/1\">\n",
      "After filtering, kept 1074 out of 1074 Individuals\n",
      "Writing 012 matrix files ... Done.\n",
      "After filtering, kept 1 out of a possible 6729 Sites\n",
      "Run Time = 1.00 seconds\n"
     ]
    }
   ],
   "source": [
    "vcftools --gzvcf ./stitch.Chr1.905188.1005184.vcf.gz --chr Chr1 --from-bp 955183 --to-bp 955187 --012 --out 1-chr1-955185_highConf"
   ]
  },
  {
   "cell_type": "code",
   "execution_count": 6,
   "id": "97241f8b-4a75-41bb-a3fe-d3dbbb30f5b0",
   "metadata": {},
   "outputs": [
    {
     "name": "stdout",
     "output_type": "stream",
     "text": [
      "Position:\n",
      "Chr1\t955185\n",
      "\n",
      "Samples:\n",
      "10x2-13_Am_Pla_pb1196_v3.5\n",
      "10x2-14_Am_Pla_pb1008_v3.5\n",
      "10x2-15_Am_Pla_pb1253_v3.5\n",
      "10x2-16_Am_Pla_pb1682_v3.5\n",
      "10x2-17_Am_Pla_pb2190_v3.5\n",
      "10x2-18_Am_Pla_pb1687_v3.5\n",
      "10xNEW-Plate10-10_Am_Pla_pb0952_v3.5\n",
      "10xNEW-Plate10-11_Am_Pla_pb0960_v3.5\n",
      "10xNEW-Plate10-12_Am_Pla_pb1085_v3.5\n",
      "10xNEW-Plate10-13_Am_Pla_pb1088_v3.5\n",
      "\n",
      "Genotypes:\n",
      "0\t-1\n",
      "1\t0\n",
      "2\t0\n",
      "3\t2\n",
      "4\t2\n",
      "5\t2\n",
      "6\t-1\n",
      "7\t2\n",
      "8\t2\n",
      "9\t1\n"
     ]
    }
   ],
   "source": [
    "echo -e 'Position:'\n",
    "head 1-chr1-955185_highConf.012.pos\n",
    "\n",
    "echo -e '\\nSamples:'\n",
    "head 1-chr1-955185_highConf.012.indv | cut -f1-6\n",
    "\n",
    "echo -e '\\nGenotypes:'\n",
    "head 1-chr1-955185_highConf.012 | cut -f1-6"
   ]
  },
  {
   "cell_type": "markdown",
   "id": "57e3a1c8-3cad-43a9-9074-d9834d16def2",
   "metadata": {
    "jp-MarkdownHeadingCollapsed": true
   },
   "source": [
    "### Get 0/1 GT values from stitch VCF"
   ]
  },
  {
   "cell_type": "code",
   "execution_count": 7,
   "id": "1878c6e7-ab2e-4d04-a7da-8fddf942fa73",
   "metadata": {},
   "outputs": [
    {
     "name": "stdout",
     "output_type": "stream",
     "text": [
      "\n",
      "VCFtools - 0.1.17\n",
      "(C) Adam Auton and Anthony Marcketta 2009\n",
      "\n",
      "Parameters as interpreted:\n",
      "\t--gzvcf ./stitch.Chr1.905188.1005184.PL.vcf.gz\n",
      "\t--chr Chr1\n",
      "\t--to-bp 955187\n",
      "\t--extract-FORMAT-info GT\n",
      "\t--out 1-chr1-955185_highConf\n",
      "\t--from-bp 955183\n",
      "\n",
      "Using zlib version: 1.2.11\n",
      "Warning: Expected at least 2 parts in FORMAT entry: ID=GP,Number=3,Type=Float,Description=\"Posterior genotype probability of 0/0, 0/1, and 1/1\">\n",
      "Warning: Expected at least 2 parts in FORMAT entry: ID=GP,Number=3,Type=Float,Description=\"Posterior genotype probability of 0/0, 0/1, and 1/1\">\n",
      "Warning: Expected at least 2 parts in FORMAT entry: ID=PL,Number=G,Type=Integer,Description=\"Normalized, Phred-scaled likelihoods for genotypes as defined in the VCF specification\">\n",
      "After filtering, kept 1074 out of 1074 Individuals\n",
      "Outputting FORMAT information for GT\n",
      "After filtering, kept 1 out of a possible 6729 Sites\n",
      "Run Time = 1.00 seconds\n"
     ]
    }
   ],
   "source": [
    "vcftools --gzvcf ./stitch.Chr1.905188.1005184.PL.vcf.gz --chr Chr1 --from-bp 955183 --to-bp 955187 --extract-FORMAT-info GT --out 1-chr1-955185_highConf"
   ]
  },
  {
   "cell_type": "code",
   "execution_count": 8,
   "id": "0baa41f4-3e21-4396-b08a-3a83ddd486cf",
   "metadata": {},
   "outputs": [
    {
     "name": "stdout",
     "output_type": "stream",
     "text": [
      "CHROM\tPOS\t10x2-13_Am_Pla_pb1196_v3.5\t10x2-14_Am_Pla_pb1008_v3.5\t10x2-15_Am_Pla_pb1253_v3.5\t10x2-16_Am_Pla_pb1682_v3.5\n",
      "Chr1\t955185\t0/0\t0/0\t0/0\t1/1\n"
     ]
    }
   ],
   "source": [
    "head 1-chr1-955185_highConf.GT.FORMAT | cut -f1-6"
   ]
  },
  {
   "cell_type": "markdown",
   "id": "e4ef8014-9262-44b7-a247-4610203da5c1",
   "metadata": {
    "jp-MarkdownHeadingCollapsed": true
   },
   "source": [
    "### Get all genotypes from STITCH vcf based on posterior genotype probablities"
   ]
  },
  {
   "cell_type": "markdown",
   "id": "42d2256c-375b-4ec3-8cd1-6bd944fb1ccf",
   "metadata": {},
   "source": [
    "Extraction done with BASH script: `~/snap_hap/_scripts/bash/add_PG_PL.sh`"
   ]
  },
  {
   "cell_type": "code",
   "execution_count": 9,
   "id": "89811b74-d5b0-45f6-907d-651f16066940",
   "metadata": {
    "collapsed": true,
    "jupyter": {
     "outputs_hidden": true
    }
   },
   "outputs": [
    {
     "name": "stdout",
     "output_type": "stream",
     "text": [
      "[tabix] the index file exists. Please use '-f' to overwrite.\n",
      "\n",
      "real\t0m47.148s\n",
      "user\t0m48.471s\n",
      "sys\t0m1.329s\n"
     ]
    }
   ],
   "source": [
    "time bash ~/snap_hap/_scripts/bash/add_PG_PL.sh ./stitch.Chr1.905188.1005184.vcf.gz"
   ]
  },
  {
   "cell_type": "code",
   "execution_count": 10,
   "id": "cf04e7fb-fa5a-4e2c-86dc-32ae78075714",
   "metadata": {
    "collapsed": true,
    "jupyter": {
     "outputs_hidden": true
    }
   },
   "outputs": [
    {
     "name": "stdout",
     "output_type": "stream",
     "text": [
      "\n",
      "VCFtools - 0.1.17\n",
      "(C) Adam Auton and Anthony Marcketta 2009\n",
      "\n",
      "Parameters as interpreted:\n",
      "\t--gzvcf ./stitch.Chr1.905188.1005184.PL.vcf.gz\n",
      "\t--chr Chr1\n",
      "\t--to-bp 955187\n",
      "\t--012\n",
      "\t--out 1-chr1-955185_ALL\n",
      "\t--from-bp 955183\n",
      "\n",
      "Using zlib version: 1.2.11\n",
      "Warning: Expected at least 2 parts in FORMAT entry: ID=GP,Number=3,Type=Float,Description=\"Posterior genotype probability of 0/0, 0/1, and 1/1\">\n",
      "Warning: Expected at least 2 parts in FORMAT entry: ID=GP,Number=3,Type=Float,Description=\"Posterior genotype probability of 0/0, 0/1, and 1/1\">\n",
      "Warning: Expected at least 2 parts in FORMAT entry: ID=PL,Number=G,Type=Integer,Description=\"Normalized, Phred-scaled likelihoods for genotypes as defined in the VCF specification\">\n",
      "After filtering, kept 1074 out of 1074 Individuals\n",
      "Writing 012 matrix files ... Done.\n",
      "After filtering, kept 1 out of a possible 6729 Sites\n",
      "Run Time = 1.00 seconds\n",
      "\n",
      "VCFtools - 0.1.17\n",
      "(C) Adam Auton and Anthony Marcketta 2009\n",
      "\n",
      "Parameters as interpreted:\n",
      "\t--gzvcf ./stitch.Chr1.905188.1005184.PL.vcf.gz\n",
      "\t--chr Chr1\n",
      "\t--to-bp 955187\n",
      "\t--extract-FORMAT-info GT\n",
      "\t--out 1-chr1-955185_ALL\n",
      "\t--from-bp 955183\n",
      "\n",
      "Using zlib version: 1.2.11\n",
      "Warning: Expected at least 2 parts in FORMAT entry: ID=GP,Number=3,Type=Float,Description=\"Posterior genotype probability of 0/0, 0/1, and 1/1\">\n",
      "Warning: Expected at least 2 parts in FORMAT entry: ID=GP,Number=3,Type=Float,Description=\"Posterior genotype probability of 0/0, 0/1, and 1/1\">\n",
      "Warning: Expected at least 2 parts in FORMAT entry: ID=PL,Number=G,Type=Integer,Description=\"Normalized, Phred-scaled likelihoods for genotypes as defined in the VCF specification\">\n",
      "After filtering, kept 1074 out of 1074 Individuals\n",
      "Outputting FORMAT information for GT\n",
      "After filtering, kept 1 out of a possible 6729 Sites\n",
      "Run Time = 1.00 seconds\n"
     ]
    }
   ],
   "source": [
    "## Extract 012 values\n",
    "vcftools --gzvcf ./stitch.Chr1.905188.1005184.PL.vcf.gz --chr Chr1 --from-bp 955183 --to-bp 955187 --012 --out 1-chr1-955185_ALL\n",
    "\n",
    "## Extract 0/1 genotype values\n",
    "vcftools --gzvcf ./stitch.Chr1.905188.1005184.PL.vcf.gz --chr Chr1 --from-bp 955183 --to-bp 955187 --extract-FORMAT-info GT --out 1-chr1-955185_ALL"
   ]
  },
  {
   "cell_type": "code",
   "execution_count": 11,
   "id": "ee6399c2-45ac-454f-bfa5-e05b0e041464",
   "metadata": {},
   "outputs": [
    {
     "name": "stdout",
     "output_type": "stream",
     "text": [
      "Position:\n",
      "Chr1\t955185\n",
      "\n",
      "Samples:\n",
      "10x2-13_Am_Pla_pb1196_v3.5\n",
      "10x2-14_Am_Pla_pb1008_v3.5\n",
      "10x2-15_Am_Pla_pb1253_v3.5\n",
      "10x2-16_Am_Pla_pb1682_v3.5\n",
      "10x2-17_Am_Pla_pb2190_v3.5\n",
      "10x2-18_Am_Pla_pb1687_v3.5\n",
      "10xNEW-Plate10-10_Am_Pla_pb0952_v3.5\n",
      "10xNEW-Plate10-11_Am_Pla_pb0960_v3.5\n",
      "10xNEW-Plate10-12_Am_Pla_pb1085_v3.5\n",
      "10xNEW-Plate10-13_Am_Pla_pb1088_v3.5\n",
      "\n",
      "Genotypes:\n",
      "0\t0\n",
      "1\t0\n",
      "2\t0\n",
      "3\t2\n",
      "4\t2\n",
      "5\t2\n",
      "6\t1\n",
      "7\t2\n",
      "8\t2\n",
      "9\t1\n"
     ]
    }
   ],
   "source": [
    "echo -e 'Position:'\n",
    "head 1-chr1-955185_ALL.012.pos\n",
    "\n",
    "echo -e '\\nSamples:'\n",
    "head 1-chr1-955185_ALL.012.indv | cut -f1-6\n",
    "\n",
    "echo -e '\\nGenotypes:'\n",
    "head 1-chr1-955185_ALL.012 | cut -f1-6"
   ]
  },
  {
   "cell_type": "markdown",
   "id": "a45d1ffb-5fd4-4278-847b-beb0b8c7debc",
   "metadata": {
    "jp-MarkdownHeadingCollapsed": true
   },
   "source": [
    "### Change sample names to shortFormat"
   ]
  },
  {
   "cell_type": "code",
   "execution_count": 17,
   "id": "e7406caa-dc04-4738-a7df-58cda2c4528b",
   "metadata": {},
   "outputs": [
    {
     "name": "stdout",
     "output_type": "stream",
     "text": [
      "\n",
      " LongFormat sample names:\n",
      "10x2-13_Am_Pla_pb1196_v3.5\n",
      "10x2-14_Am_Pla_pb1008_v3.5\n",
      "10x2-15_Am_Pla_pb1253_v3.5\n",
      "10x2-16_Am_Pla_pb1682_v3.5\n",
      "10x2-17_Am_Pla_pb2190_v3.5\n",
      "10x2-18_Am_Pla_pb1687_v3.5\n",
      "10xNEW-Plate10-10_Am_Pla_pb0952_v3.5\n",
      "10xNEW-Plate10-11_Am_Pla_pb0960_v3.5\n",
      "10xNEW-Plate10-12_Am_Pla_pb1085_v3.5\n",
      "10xNEW-Plate10-13_Am_Pla_pb1088_v3.5\n",
      "\n",
      " ShortFormat sample names:\n",
      "pb1196\n",
      "pb1008\n",
      "pb1253\n",
      "pb1682\n",
      "pb2190\n",
      "pb1687\n",
      "pb0952\n",
      "pb0960\n",
      "pb1085\n",
      "pb1088\n"
     ]
    }
   ],
   "source": [
    "# cat 1-chr1-955185_ALL.012.indv | sed 's/_v3.5//g' | sed 's/^.*Am.*_.*_//g' > 1-chr1-955185.shortFormat.indv\n",
    "echo -e '\\n LongFormat sample names:'\n",
    "head 1-chr1-955185_ALL.012.indv\n",
    "echo -e '\\n ShortFormat sample names:'\n",
    "head 1-chr1-955185.shortFormat.indv"
   ]
  },
  {
   "cell_type": "markdown",
   "id": "d515f3d9-c00e-44b9-9b65-36ff1ff2b847",
   "metadata": {
    "jp-MarkdownHeadingCollapsed": true
   },
   "source": [
    "### Create combined stitch GT file"
   ]
  },
  {
   "cell_type": "code",
   "execution_count": 22,
   "id": "affc958a-53b5-4726-9c26-85ea61cac3eb",
   "metadata": {},
   "outputs": [
    {
     "name": "stdout",
     "output_type": "stream",
     "text": [
      "plantID\tstitchGT\tstitchGT_highConf\n",
      "pb1196\t0\t-1\n",
      "pb1008\t0\t0\n",
      "pb1253\t0\t0\n",
      "pb1682\t2\t2\n",
      "pb2190\t2\t2\n",
      "pb1687\t2\t2\n",
      "pb0952\t1\t-1\n",
      "pb0960\t2\t2\n",
      "pb1085\t2\t2\n",
      "pb1088\t1\t1\n"
     ]
    }
   ],
   "source": [
    "paste 1-chr1-955185.shortFormat.indv <(cut -f2 1-chr1-955185_ALL.012) <(cut -f2 1-chr1-955185_highConf.012) > stitch_1-chr1-955185.gt\n",
    "\n",
    "echo -e 'plantID\\tstitchGT\\tstitchGT_highConf'\n",
    "head ./stitch_1-chr1-955185.gt"
   ]
  },
  {
   "cell_type": "markdown",
   "id": "6b225edf-7d49-4464-9463-a7768f80c5ab",
   "metadata": {},
   "source": [
    "<br/>\n",
    "<hr style=\"border: 1px double; color: black\">\n",
    "\n",
    "## Postprocess all stitch runs"
   ]
  },
  {
   "cell_type": "code",
   "execution_count": 3,
   "id": "84a5adc1-f6a5-4c28-b2e4-3b455669343b",
   "metadata": {},
   "outputs": [],
   "source": [
    "## Read KASP coords positions\n",
    "KASPcoords=~/snap_hap/impute/stitch_tests/coords/coords_for_stitch_longVersion_corrected_200kb.txt\n",
    "# grep -w '1_1' $KASPcoords\n",
    "# cat $KASPcoords"
   ]
  },
  {
   "cell_type": "raw",
   "id": "6860bea1-057c-43d2-a3e2-8c74949b31c1",
   "metadata": {
    "collapsed": true,
    "jupyter": {
     "outputs_hidden": true
    }
   },
   "source": [
    "## Read KASP coords positions\n",
    "KASPcoords=~/snap_hap/impute/stitch_tests/coords/coords_for_stitch_longVersion_corrected_200kb.txt\n",
    "# grep -w '1_1' $KASPcoords\n",
    "# cat $KASPcoords\n",
    "\n",
    "## Set WORKDIR\n",
    "WORKDIR='/nfs/scistore18/bartogrp/apal/snap_hap/impute/stitch_tests'\n",
    "# STITCHrun=run2_2023-04 #old\n",
    "# STITCHrun=run3_filteredVCFs_2023-08 #new iter1\n",
    "STITCHrun='run3.1_filteredVCFs_2023-08' #new iter2\n",
    "\n",
    "## Run post-processing\n",
    "cd ~/snap_hap/impute/stitch_tests\n",
    "for chrom in Chr{1..8}\n",
    "do  \n",
    "    for stitchFolder in `ls $WORKDIR/$chrom/$STITCHrun`\n",
    "    do\n",
    "        ## Initiate variables\n",
    "#       snpID=`echo $stitchFolder | cut -f1 -d- | cut -f2 -d_` \n",
    "#       snpID=`basename $stitchFolder | cut -f1 -d-` \n",
    "        snpID=`basename $stitchFolder | cut -f1 -d- | cut -f2 -d_` \n",
    "        \n",
    "        coord=`cat $KASPcoords | grep -w ${chrom/Chr}_${snpID} | cut -f8`\n",
    "        echo -e '\\n'$chrom $snpID $coord \n",
    "        echo $stitchFolder\n",
    "\n",
    "        ## Run postprocessing\n",
    "#        cd $WORKDIR/$chrom/$STITCHrun/$stitchFolder\n",
    "        cd $stitchFolder\n",
    "        pwd\n",
    "        bash ~/snap_hap/_scripts/bash/stitch/extract_stitchGT.sh $chrom $snpID $coord ./stitch.$chrom.*.*[^PL].vcf.gz\n",
    "    done\n",
    "done"
   ]
  },
  {
   "cell_type": "markdown",
   "id": "20c751d2-c8d4-4138-ac2e-eb6a20f2ba85",
   "metadata": {},
   "source": [
    "### Run the postprocessing on SLURM"
   ]
  },
  {
   "cell_type": "code",
   "execution_count": null,
   "id": "a491c6d9-0cb6-4e14-a351-feae00482eeb",
   "metadata": {},
   "outputs": [],
   "source": [
    "WORKDIR='/nfs/scistore18/bartogrp/apal/snap_hap/impute/stitch_tests'\n",
    "STITCHrun='run3.1_filteredVCFs_2023-08' #new iter2\n",
    "\n",
    "## Make list of STITCH output folders\n",
    "realpath $WORKDIR/Chr?/$STITCHrun/* > $WORKDIR/outputFolders/run3.1_stitchFolders.txt"
   ]
  },
  {
   "cell_type": "code",
   "execution_count": null,
   "id": "f08625ad-e967-46c8-8193-15338658df33",
   "metadata": {},
   "outputs": [],
   "source": [
    "wc -l $WORKDIR/outputFolders/run3.1_stitchFolders.txt"
   ]
  },
  {
   "cell_type": "raw",
   "id": "37104cf5-9c64-4359-ad26-e254f7ff1c95",
   "metadata": {},
   "source": [
    "## Run on SLURM\n",
    "stitchFolderList=/nfs/scistore18/bartogrp/apal/snap_hap/impute/stitch_tests/outputFolders/run3.1_stitchFolders.txt\n",
    "KASPcoords=/nfs/scistore18/bartogrp/apal/snap_hap/impute/stitch_tests/coords/coords_for_stitch_longVersion_corrected_200kb.txt\n",
    "\n",
    "cd /nfs/scistore18/bartogrp/apal/snap_hap/impute/stitch_tests/jobs/run3.1_postprocessSTITCH\n",
    "sbatch --array=1-1278 ~/snap_hap/_scripts/sbatch/impute/job-postprocess_STITCH-tests.sbatch $stitchFolderList $KASPcoords"
   ]
  }
 ],
 "metadata": {
  "kernelspec": {
   "display_name": "Bash",
   "language": "bash",
   "name": "bash"
  },
  "language_info": {
   "codemirror_mode": "shell",
   "file_extension": ".sh",
   "mimetype": "text/x-sh",
   "name": "bash"
  }
 },
 "nbformat": 4,
 "nbformat_minor": 5
}
