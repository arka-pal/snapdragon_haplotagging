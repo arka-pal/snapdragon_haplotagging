{
 "cells": [
  {
   "cell_type": "markdown",
   "id": "bc393a1c-fdb1-491c-9c1c-d3e71d567c17",
   "metadata": {},
   "source": [
    "# Variant Calling\n",
    "\n",
    "</br>"
   ]
  },
  {
   "cell_type": "code",
   "execution_count": 1,
   "id": "7f305c30-9fb6-4431-8f0f-713b87c375d4",
   "metadata": {
    "tags": []
   },
   "outputs": [],
   "source": [
    "cd /nfs/scistore18/bartogrp/apal/snap_hap/variants/vcf_bcftools_Am_all\n",
    "#mkdir Chr{1..8}\n",
    "#ls"
   ]
  },
  {
   "cell_type": "code",
   "execution_count": 4,
   "id": "d88e4917-16d4-4c69-899b-c57bca2f27ad",
   "metadata": {},
   "outputs": [
    {
     "name": "stdout",
     "output_type": "stream",
     "text": [
      "\n",
      "Lmod is automatically replacing \"JupyterPython/2.0\" with \"python/3.9.7\".\n",
      "\n"
     ]
    }
   ],
   "source": [
    "## Load modules\n",
    "module load bcftools python3"
   ]
  },
  {
   "cell_type": "markdown",
   "id": "7202ed60-9f7f-44b7-8132-16c1c3d5e8ee",
   "metadata": {},
   "source": [
    "```\n",
    "##### NB: bcftools --exclude=zeta[243-262],beta[231-235]\n",
    "##### NB: bcftools --include=delta,gamma\n",
    "```"
   ]
  },
  {
   "cell_type": "markdown",
   "id": "5441e8e7-5738-49b8-b423-11078311405d",
   "metadata": {},
   "source": [
    "<br>\n",
    "\n",
    "## _bcftools_ mpileup and call variants"
   ]
  },
  {
   "cell_type": "code",
   "execution_count": 3,
   "id": "3468a28e-9c2b-4b53-902a-871fd3607756",
   "metadata": {},
   "outputs": [
    {
     "name": "stdout",
     "output_type": "stream",
     "text": [
      "chr: Chr1\n",
      "Ref Genome: /nfs/scistore18/bartogrp/apal/snap_hap/ref_genome/v3.5/Amajus_v3.5.fa\n",
      "sample file: /nfs/scistore18/bartogrp/apal/snap_hap/sample_info/samples_SnapHap_LastUpdate-2023-07.txt\n",
      "BAMs: /nfs/scistore18/bartogrp/apal/snap_hap/sample_info/bam_info/bams_Am_all.txt\n",
      "output: /nfs/scistore18/bartogrp/apal/snap_hap/variants/vcf_bcftools_Am_all/Chr1/Am_all_bcftools_Chr1.vcf.gz\n"
     ]
    }
   ],
   "source": [
    "## Read and set variables\n",
    "WORKDIR=/nfs/scistore18/bartogrp/apal/snap_hap\n",
    "\n",
    "chr=Chr1\n",
    "#region=1-100\n",
    "ref_genome=$WORKDIR/ref_genome/v3.5/Amajus_v3.5.fa\n",
    "sample_names=$WORKDIR/sample_info/samples_SnapHap_LastUpdate-2023-07.txt\n",
    "bamlist=$WORKDIR/sample_info/bam_info/bams_Am_all.txt\n",
    "outDIR=$WORKDIR/variants/vcf_bcftools_Am_all/Chr1\n",
    "outVCF=Am_all_bcftools_Chr1.vcf.gz\n",
    "\n",
    "## Print variables\n",
    "echo chr: $chr\n",
    "#echo region: $region\n",
    "echo Ref Genome: $ref_genome\n",
    "echo sample file: $sample_names\n",
    "echo BAMs: $bamlist\n",
    "echo output: $outDIR/$outVCF"
   ]
  },
  {
   "cell_type": "raw",
   "id": "75d5cabc-3bf6-44b7-8608-b8ea0dd7a68c",
   "metadata": {},
   "source": [
    "## bcftools mpileup and call\n",
    "\n",
    "time bcftools mpileup --annotate AD,ADF,ADR,DP,QS,SP \\\n",
    "        -r $chr \\\n",
    "        -f $ref_genome \\\n",
    "        -Ou -d 500 \\\n",
    "        -S <(cut -f3,4 $sample_names) \\\n",
    "        -b $bamlist | \\\n",
    "    bcftools call --annotate GQ,GP \\\n",
    "        -m -Oz \\\n",
    "        -o $outDIR/$outVCF"
   ]
  },
  {
   "cell_type": "markdown",
   "id": "d4efcc91-b36d-4a47-9131-d68737a22035",
   "metadata": {
    "tags": []
   },
   "source": [
    "### Running `bcftools mpileup <...> | call <...>` on the cluster"
   ]
  },
  {
   "cell_type": "code",
   "execution_count": null,
   "id": "002016cd-46d9-4dfb-91ba-298eacf10e31",
   "metadata": {},
   "outputs": [],
   "source": [
    "cd /nfs/scistore18/bartogrp/apal/snap_hap/variants/jobs/bcftools\n",
    "WORKDIR=/nfs/scistore18/bartogrp/apal/snap_hap\n",
    "\n",
    "#chr=Chr1\n",
    "sbatch -J $chr-bcftools ~/snap_hap/_scripts/sbatch/vcf-utils/job-bcftools_mpileup.sbatch $chr \\\n",
    "        $WORKDIR/ref_genome/v3.5/Amajus_v3.5.fa \\\n",
    "        $WORKDIR/sample_info/samples_SnapHap_LastUpdate-2023-07.txt \\\n",
    "        $WORKDIR/sample_info/bam_info/bams_Am_all.txt \\\n",
    "        $WORKDIR/variants/vcf_bcftools_Am_all/$chr \\\n",
    "        Am_all_bcftools_$chr.vcf.gz"
   ]
  },
  {
   "cell_type": "markdown",
   "id": "99e7ebd5-2436-4142-af21-6ccf5f72ea81",
   "metadata": {},
   "source": [
    "`#SBATCH --exclude=zeta[243-262]` specified in SLURM variables.\n",
    "\n",
    "```\n",
    "#SBATCH --partition=defaultp\n",
    "#SBATCH --exclude=zeta[243-262],beta[231-235]\n",
    "#SBATCH --time=120:00:00\n",
    "#SBATCH --cpus-per-task=1\n",
    "#SBATCH --mem-per-cpu=128G\n",
    "#SBATCH --ntasks-per-node=1\n",
    "#SBATCH --ntasks=1\n",
    "```"
   ]
  },
  {
   "cell_type": "markdown",
   "id": "7f82efc3-8dbb-495b-8494-c056eeaef5c2",
   "metadata": {
    "tags": []
   },
   "source": [
    "<br>\n",
    "\n",
    "## Renaming samples in the VCF file"
   ]
  },
  {
   "cell_type": "code",
   "execution_count": 22,
   "id": "c2f534ef-77c0-41f3-b1ca-70dc229dc700",
   "metadata": {},
   "outputs": [],
   "source": [
    "## Test VCF reheader samples with Chr1\n",
    "\n",
    "WORKDIR=/nfs/scistore18/bartogrp/apal/snap_hap\n",
    "sample_names=$WORKDIR/sample_info/samples_SnapHap_LastUpdate-2023-07.txt\n",
    "vcfDIR=$WORKDIR/variants/vcf_bcftools_Am_all\n",
    "chr=Chr1\n",
    "\n",
    "#time bcftools reheader -s <(cut -f3,4 ${sample_names}) -o tmp_newSamples.vcf.gz  $vcfDIR/$chr/Am_all_bcftools_$chr.vcf.gz"
   ]
  },
  {
   "cell_type": "code",
   "execution_count": 23,
   "id": "15850de2-835e-46cc-9c58-08310e4b2dae",
   "metadata": {},
   "outputs": [],
   "source": [
    "## Replace original VCF with changed name tmp VCF.\n",
    "chr=Chr1\n",
    "#mv tmp_newSamples.vcf.gz $vcfDIR/$chr/Am_all_bcftools_$chr.vcf.gz\n",
    "\n",
    "## Index VCF\n",
    "#time bcftools tabix -f $vcfDIR/$chr/Am_all_bcftools_$chr.vcf.gz"
   ]
  },
  {
   "cell_type": "code",
   "execution_count": 15,
   "id": "784eab28-10da-44b9-ad2d-b1232b90393f",
   "metadata": {
    "collapsed": true,
    "jupyter": {
     "outputs_hidden": true
    }
   },
   "outputs": [
    {
     "name": "stdout",
     "output_type": "stream",
     "text": [
      "Chr1\t2\t.\tA\t.\t.\t.\tDP=2;MQ0F=0;AN=0;DP4=0,0,0,0;MQ=.\tGT:DP:SP:ADF:ADR:AD:QS\t./.:0:0:0:0:0:0\n",
      "Chr1\t3\t.\tC\t.\t.\t.\tDP=2;MQ0F=0;AN=0;DP4=0,0,0,0;MQ=.\tGT:DP:SP:ADF:ADR:AD:QS\t./.:0:0:0:0:0:0\n",
      "Chr1\t4\t.\tC\t.\t24.4379\t.\tDP=2;MQ0F=0.5;AN=2;DP4=0,1,0,0;MQ=0\tGT:DP:SP:ADF:ADR:AD:QS\t./.:0:0:0:0:0:0\n",
      "Chr1\t5\t.\tC\t.\t24.4379\t.\tDP=2;MQ0F=0.5;AN=2;DP4=0,1,0,0;MQ=0\tGT:DP:SP:ADF:ADR:AD:QS\t./.:0:0:0:0:0:0\n",
      "Chr1\t6\t.\tT\t.\t24.4379\t.\tDP=2;MQ0F=0.5;AN=2;DP4=0,1,0,0;MQ=0\tGT:DP:SP:ADF:ADR:AD:QS\t./.:0:0:0:0:0:0\n",
      "Chr1\t7\t.\tA\t.\t24.4379\t.\tDP=2;MQ0F=0.5;AN=2;DP4=0,1,0,0;MQ=0\tGT:DP:SP:ADF:ADR:AD:QS\t./.:0:0:0:0:0:0\n",
      "Chr1\t8\t.\tA\t.\t24.4379\t.\tDP=2;MQ0F=0.5;AN=2;DP4=0,1,0,0;MQ=0\tGT:DP:SP:ADF:ADR:AD:QS\t./.:0:0:0:0:0:0\n",
      "Chr1\t9\t.\tA\t.\t24.4379\t.\tDP=2;MQ0F=0.5;AN=2;DP4=0,1,0,0;MQ=0\tGT:DP:SP:ADF:ADR:AD:QS\t./.:0:0:0:0:0:0\n",
      "Chr1\t10\t.\tC\t.\t24.4379\t.\tDP=4;MQ0F=0.25;AN=2;DP4=0,1,0,0;MQ=0\tGT:DP:SP:ADF:ADR:AD:QS\t./.:0:0:0:0:0:0\n",
      "Chr1\t11\t.\tC\t.\t70.4228\t.\tDP=6;MQ0F=0.333333;AN=8;DP4=2,2,0,0;MQ=18\tGT:DP:SP:ADF:ADR:AD:QS\t./.:0:0:0:0:0:0\n",
      "[main_vcfview] Error: cannot write to (null)\n"
     ]
    }
   ],
   "source": [
    "bcftools view -H $vcfDIR/$chr/Am_all_bcftools_$chr.vcf.gz | head | cut -f1-10"
   ]
  },
  {
   "cell_type": "code",
   "execution_count": 24,
   "id": "adb06287-ecd6-484c-873d-d5b756836351",
   "metadata": {},
   "outputs": [
    {
     "name": "stdout",
     "output_type": "stream",
     "text": [
      "10x2_PB1196\n",
      "10x2_PB1008\n",
      "10x2_PB1253\n",
      "10x2_PB1682\n",
      "10x2_PB2190\n",
      "10x2_PB1687\n",
      "10xNEW_PB0952\n",
      "10xNEW_PB0960\n",
      "10xNEW_PB1085\n",
      "10xNEW_PB1088\n"
     ]
    }
   ],
   "source": [
    "bcftools query -l $vcfDIR/$chr/Am_all_bcftools_$chr.vcf.gz | head"
   ]
  },
  {
   "cell_type": "markdown",
   "id": "64a1b59b-2454-4555-b719-33edf1e2f2d6",
   "metadata": {},
   "source": [
    "__NB:__ The VCF file contains all sites. </br>\n",
    "\n",
    "### Running `bcftools reheader` on cluster"
   ]
  },
  {
   "cell_type": "code",
   "execution_count": null,
   "id": "ec2fe698-ca97-4930-97db-8bf738fbf81e",
   "metadata": {},
   "outputs": [],
   "source": [
    "WORKDIR=/nfs/scistore18/bartogrp/apal/snap_hap\n",
    "\n",
    "#chr=Chr3\n",
    "#sample_names=$WORKDIR/sample_info/samples_SnapHap_LastUpdate-2023-07.txt\n",
    "#vcfDIR=$WORKDIR/variants/vcf_bcftools_Am_all/$chr\n",
    "#vcf=Am_all_bcftools_$chr.vcf.gz\n",
    "\n",
    "cd /nfs/scistore18/bartogrp/apal/snap_hap/variants/jobs/bcftools/reheader_samples\n",
    "\n",
    "sbatch -J $chr-reheaderVCF ~/snap_hap/_scripts/sbatch/vcf-utils/job-bcftools_reheaderVCF.sbatch \\\n",
    "    $chr \\\n",
    "    ~/snap_hap/sample_info/samples_SnapHap_LastUpdate-2023-07.txt \\\n",
    "    ~/snap_hap/variants/vcf_bcftools_Am_all/$chr \\\n",
    "    Am_all_bcftools_$chr.vcf.gz\n"
   ]
  },
  {
   "cell_type": "markdown",
   "id": "4e64b1c7-5588-4478-9337-eeaf806ffe0f",
   "metadata": {},
   "source": [
    "```\n",
    "#SBATCH --partition=defaultp\n",
    "#SBATCH --exclude=zeta[243-262],beta[231-235]\n",
    "#SBATCH --time=120:00:00\n",
    "#SBATCH --cpus-per-task=1\n",
    "#SBATCH --mem-per-cpu=128G\n",
    "#SBATCH --ntasks-per-node=1\n",
    "#SBATCH --ntasks=1\n",
    "```"
   ]
  },
  {
   "cell_type": "markdown",
   "id": "42e2ac31-3409-4758-85b0-1e8bfd40d320",
   "metadata": {
    "jp-MarkdownHeadingCollapsed": true,
    "tags": []
   },
   "source": [
    "<br>\n",
    "\n",
    "## *bcftools* stats"
   ]
  },
  {
   "cell_type": "markdown",
   "id": "e42af7d4-c68d-4940-a012-081f2866a2fa",
   "metadata": {},
   "source": [
    "</br>\n",
    "\n",
    "The average read depth for all samples (n=1074) is 3.6. So, maximum depth allowed = 3.6x1074x5 = 19332. (~20,000) </br>\n",
    "This agrees with -  `(130x2)+(120x1)+(30x6)+(20x12)+(12x152)+(2x787)+(1x48)+(1x38)+(4x15)+(4x13) = 4396`"
   ]
  },
  {
   "cell_type": "raw",
   "id": "4aef2c37-3815-4039-9445-2fd620192733",
   "metadata": {},
   "source": [
    "## Read inputs\n",
    "inVCF=$1\n",
    "\n",
    "## Print variables\n",
    "echo inVCF: $inVCF\n",
    "\n",
    "## Run bcftools stats\n",
    "echo -e \"Run bcftools stats\\n\"\n",
    "time bcftools stats --threads 10 -s- --af-bins <(seq 0 0.1 1) --depth 0,25000,25 $inVCF > ${inVCF/.vcf.gz/_stats.vchk}\n",
    "\n",
    "#echo -e \"Make plots\\n\"\n",
    "plot-vcfstats -p ${inVCF/.vcf.gz/_stats} ${inVCF/.vcf.gz/_stats.vchk}"
   ]
  },
  {
   "cell_type": "markdown",
   "id": "5d3cb1c1-94b4-4006-86ee-2c1b8f4b0dbd",
   "metadata": {},
   "source": [
    "### Running `bcftools stats` on cluster"
   ]
  },
  {
   "cell_type": "raw",
   "id": "f5f26446-0aeb-42a5-90f6-7ff66193d4d7",
   "metadata": {},
   "source": [
    "cd /nfs/scistore18/bartogrp/apal/snap_hap/variants/jobs/bcftools/3-stats\n",
    "\n",
    "WORKDIR=/nfs/scistore18/bartogrp/apal/snap_hap\n",
    "chr=Chr1\n",
    "threads=10\n",
    "VCFtype=fullVCF\n",
    "\n",
    "sbatch -J ${chr}-stats-${VCFtype} ~/snap_hap/_scripts/sbatch/vcf-utils/job-bcftools_stats.sbatch \\\n",
    "        ~/snap_hap/variants/vcf_bcftools_Am_all/${chr}/Am_all_bcftools_${chr}.vcf.gz \\\n",
    "        $threads"
   ]
  },
  {
   "cell_type": "markdown",
   "id": "443962d2-d9ab-4b72-b523-d086af6ebccd",
   "metadata": {},
   "source": [
    "__NB:__ `plot-vcfstats -p ${inVCF/.vcf.gz/_stats} ${inVCF/.vcf.gz/_stats.vchk}` doesn't work."
   ]
  },
  {
   "cell_type": "markdown",
   "id": "f804d609-83a2-454d-9084-a776432d72a2",
   "metadata": {},
   "source": [
    "```\n",
    "#SBATCH --partition=defaultp\n",
    "#SBATCH --exclude=zeta[243-262],beta[231-235]\n",
    "#SBATCH --time=120:00:00\n",
    "#SBATCH --cpus-per-task=<INT>\n",
    "#SBATCH --mem-per-cpu=<INT>\n",
    "#SBATCH --ntasks-per-node=1\n",
    "#SBATCH --ntasks=1\n",
    "```"
   ]
  },
  {
   "cell_type": "markdown",
   "id": "7ecbf1e0-76ae-4e9d-8a3b-ab0ff9fe1eec",
   "metadata": {},
   "source": [
    "<br>\n",
    "\n",
    "## Split VCFs into smaller chunks <font color=\"red\">(NOT performed!!)</font>"
   ]
  },
  {
   "cell_type": "code",
   "execution_count": 8,
   "id": "35a9825b-3884-433b-b811-ea0bb4fb8701",
   "metadata": {},
   "outputs": [
    {
     "name": "stdout",
     "output_type": "stream",
     "text": [
      "Chr1\t71919034\n",
      "Chr2\t77118269\n",
      "Chr3\t65231163\n",
      "Chr4\t54887108\n",
      "Chr5\t71106538\n",
      "Chr6\t55699338\n",
      "Chr7\t55564713\n",
      "Chr8\t57431585"
     ]
    }
   ],
   "source": [
    "WORKDIR=/nfs/scistore18/bartogrp/apal/snap_hap\n",
    "cat $WORKDIR/ref_genome/chromSize.txt"
   ]
  },
  {
   "cell_type": "raw",
   "id": "9e11ea52-b7c5-4133-b948-7f59b27bac2c",
   "metadata": {},
   "source": [
    "## Make chrom_segments files for each chromosome\n",
    "for chr in Chr{1..8}\n",
    "do\n",
    "    chromLength=$(grep $chr ~/snap_hap/ref_genome/chromSize.txt | cut -f2)\n",
    "    echo $chr $chromLength\n",
    "    paste <(seq 1 10000000 $chromLength) <(printf \"$(seq 10000000 10000000 $chromLength)\\n$chromLength\") > ~/snap_hap/ref_genome/chrom_segments/${chr}_segments.txt\n",
    "done"
   ]
  },
  {
   "cell_type": "code",
   "execution_count": 18,
   "id": "a1e12101-c822-45e6-b08a-b64613beac19",
   "metadata": {},
   "outputs": [
    {
     "name": "stdout",
     "output_type": "stream",
     "text": [
      "Region: Chr1:1-10000000\n",
      "VCF input: /nfs/scistore18/bartogrp/apal/snap_hap/variants/vcf_bcftools_Am_all/Chr1/Am_all_bcftools_Chr1.vcf.gz\n",
      "VCF output: /nfs/scistore18/bartogrp/apal/snap_hap/variants/vcf_bcftools_Am_all/Chr1/vcf_segments/Am_all_bcftools_Chr1_1-10000000.vcf.gz\n",
      "biSNPs-VCF output: /nfs/scistore18/bartogrp/apal/snap_hap/variants/vcf_bcftools_Am_all/Chr1/vcf-biSNPs_segments/Am_all_bcftools_Chr1_1-10000000_biSNPs.vcf.gz\n"
     ]
    }
   ],
   "source": [
    "WORKDIR=/nfs/scistore18/bartogrp/apal/snap_hap\n",
    "\n",
    "\n",
    "## Read inputs\n",
    "chr=Chr1\n",
    "chrom_segments=$WORKDIR/ref_genome/chrom_segments/${chr}_segments.txt\n",
    "vcfDIR=$WORKDIR/variants/vcf_bcftools_Am_all/$chr\n",
    "vcf=Am_all_bcftools_$chr.vcf.gz\n",
    "\n",
    "\n",
    "## Define variables\n",
    "region=$(awk '{print $1\"-\"$2}' <(sed -n \"1p\" $chrom_segments))\n",
    "\n",
    "outVCF=${vcf/$chr/${chr}_${region}}\n",
    "outDIR=$vcfDIR/vcf_segments\n",
    "if [ ! -d $outDIR ]; then mkdir -p $outDIR; fi\n",
    "\n",
    "outVCF_biSNPs=${vcf/$chr/${chr}_${region}_biSNPs}\n",
    "outDIR_biSNPs=$vcfDIR/vcf-biSNPs_segments\n",
    "if [ ! -d ${outDIR_biSNPs} ]; then mkdir -p ${outDIR_biSNPs}; fi\n",
    "\n",
    "\n",
    "## Print variables\n",
    "echo Region: $chr:$region\n",
    "echo VCF input: $vcfDIR/$vcf\n",
    "echo VCF output: $outDIR/$outVCF \n",
    "echo biSNPs-VCF output: ${outDIR_biSNPs}/${outVCF_biSNPs}"
   ]
  },
  {
   "cell_type": "raw",
   "id": "ec9145f2-d4d6-4877-8831-e786f30838a7",
   "metadata": {},
   "source": [
    "## Split VCF into 10MB chunks\n",
    "echo -e \"Splitting VCF: $vcfDIR/$vcf\\n\"\n",
    "time bcftools view --threads 4 -r $chr:$region -Oz -o $outDIR/$outVCF $vcfDIR/$vcf\n",
    "#time bcftools tabix $outDIR/$outVCF\n",
    "#time bcftools stats --threads 20 --af-bins <(seq 0 0.1 1) --depth 0,25000,25 $outDIR/$outVCF > $outDIR/${outVCF/.vcf.gz/_stats.vchk}\n",
    "#plot-vcfstats -p $outDIR/${outVCF/.vcf.gz/_stats} $outDIR/${outVCF/.vcf.gz/_stats.vchk}"
   ]
  },
  {
   "cell_type": "raw",
   "id": "8602b6c0-4dac-4c3e-b764-dca1b9e081c2",
   "metadata": {},
   "source": [
    "## Extract bi-SNPs VCF for each of the small chunks\n",
    "echo -e \"Extract bi-allelic SNPs from full VCF\\n\"\n",
    "#time bcftools view --threads 4 -r $chr:$region -m2 -M2 -v snps -Oz -o ${outDIR_biSNPs}/${outVCF_biSNPs} $vcfDIR/$vcf\n",
    "#time bcftools tabix ${outDIR_biSNPs}/${outVCF_biSNPs}"
   ]
  },
  {
   "cell_type": "raw",
   "id": "18d9c383-2b58-4d44-96bd-1fda5c88e8c4",
   "metadata": {},
   "source": [
    "CHROM LENGTH SEGMENTS\n",
    "------\n",
    "Chr1\t71919034    8 \n",
    "Chr2\t77118269    8\n",
    "Chr3\t65231163    7\n",
    "Chr4\t54887108    6\n",
    "Chr5\t71106538    8\n",
    "Chr6\t55699338    6\n",
    "Chr7\t55564713    6\n",
    "Chr8\t57431585    6"
   ]
  },
  {
   "cell_type": "markdown",
   "id": "bae173c1-31bc-4e00-ae18-6c5904767b55",
   "metadata": {},
   "source": [
    "### Running _split_VCF_ on cluster"
   ]
  },
  {
   "cell_type": "raw",
   "id": "61e4629e-b870-454b-ac2f-b026db76059e",
   "metadata": {},
   "source": [
    "# cd /nfs/scistore18/bartogrp/apal/snap_hap/variants/jobs/bcftools/split_VCF\n",
    "\n",
    "# WORKDIR=/nfs/scistore18/bartogrp/apal/snap_hap\n",
    "# chr=Chr1\n",
    "# sbatch --array=1-8 -J ${chr}-splitVCF $chr-splitVCF ~/snap_hap/_scripts/sbatch/vcf-utils/job-bcftools_splitVCF.sbatch \\\n",
    "#     $chr \\\n",
    "#     $WORKDIR/ref_genome/chrom_segments/${chr}_segments.txt \\\n",
    "#     $WORKDIR/variants/vcf_bcftools_Am_all/$chr \\\n",
    "#     Am_all_bcftools_$chr.vcf.gz"
   ]
  },
  {
   "cell_type": "markdown",
   "id": "479fef23-a2b8-4d2b-bb4f-a0968998bd85",
   "metadata": {},
   "source": [
    "### Running _split_VCF_ & _extract-biSNPs_ on cluster <font color=\"red\">(NOT PERFORMED!)</font>"
   ]
  },
  {
   "cell_type": "code",
   "execution_count": null,
   "id": "4b39b06f-9fbc-481d-bd73-b48492b45cc2",
   "metadata": {},
   "outputs": [],
   "source": [
    "cd /nfs/scistore18/bartogrp/apal/snap_hap/variants/jobs/bcftools/extract-biSNPs\n",
    "\n",
    "WORKDIR=/nfs/scistore18/bartogrp/apal/snap_hap\n",
    "#chr=Chr1\n",
    "\n",
    "sbatch --array=1-8 -J ${chr}-extract-biSNPs ~/snap_hap/_scripts/sbatch/vcf-utils/job-bcftools_extract-biSNPs.sbatch \\\n",
    "    $chr \\\n",
    "    $WORKDIR/ref_genome/chrom_segments/${chr}_segments.txt \\\n",
    "    $WORKDIR/variants/vcf_bcftools_Am_all/$chr \\\n",
    "    Am_all_bcftools_$chr.vcf.gz"
   ]
  },
  {
   "cell_type": "markdown",
   "id": "8b5666dc-257b-4e6e-9056-fe855e0fa141",
   "metadata": {},
   "source": [
    "<br/>"
   ]
  },
  {
   "cell_type": "raw",
   "id": "0d550963-553e-48e8-815d-05ab2577473e",
   "metadata": {},
   "source": [
    "sacct -j 5997204 --format=User,Account,State,JobID,JobName,AllocCPUS,AllocNodes,CPUTime,ReqMem,MaxRSS,Elapsed,AllocTRES\n",
    "     User    Account      State        JobID    JobName  AllocCPUS AllocNodes    CPUTime     ReqMem     MaxRSS    Elapsed  AllocTRES \n",
    "--------- ---------- ---------- ------------ ---------- ---------- ---------- ---------- ---------- ---------- ---------- ---------- \n",
    "     apal   bartogrp  COMPLETED 5997204      Chr8-extr+         10          1 2-03:02:00        8Gc              05:06:12 billing=1+ \n",
    "            bartogrp  COMPLETED 5997204.bat+      batch         10          1 2-03:02:00        8Gc     12672K   05:06:12 cpu=10,me+ \n",
    "            bartogrp  COMPLETED 5997204.ext+     extern         10          1 2-03:02:00        8Gc          0   05:06:12 billing=1+ "
   ]
  },
  {
   "cell_type": "markdown",
   "id": "30b373a2-9a1c-4035-af3e-cafe8ef15918",
   "metadata": {},
   "source": [
    "<br/>\n",
    "\n",
    "## Extract biallelic SNPs directly from VCFs <font color=\"red\">(NOT USED!!)</font>"
   ]
  },
  {
   "cell_type": "markdown",
   "id": "083f08b2-373d-4c3e-99e3-535cde8e6985",
   "metadata": {},
   "source": [
    "### Running _extract-biSNPs_ on cluster"
   ]
  },
  {
   "cell_type": "raw",
   "id": "07dc02f6-d40d-470a-b582-dcc7839d8d1d",
   "metadata": {},
   "source": [
    "## Read inputs\n",
    "inVCF=$1\n",
    "\n",
    "## Initialize variables\n",
    "outVCF=${inVCF/.vcf.gz/_biSNPs.vcf.gz}\n",
    "\n",
    "## Extract biallelic-SNPs VCF\n",
    "time bcftools view --threads 10 -m2 -M2 -v snps -e \"AC==0 || AC==AN\" -Oz -o $outVCF $inVCF\n",
    "time bcftools tabix $outVCF"
   ]
  }
 ],
 "metadata": {
  "kernelspec": {
   "display_name": "Bash",
   "language": "bash",
   "name": "bash"
  },
  "language_info": {
   "codemirror_mode": "shell",
   "file_extension": ".sh",
   "mimetype": "text/x-sh",
   "name": "bash"
  }
 },
 "nbformat": 4,
 "nbformat_minor": 5
}
