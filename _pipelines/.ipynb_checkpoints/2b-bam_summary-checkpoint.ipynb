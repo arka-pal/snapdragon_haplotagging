{
 "cells": [
  {
   "cell_type": "markdown",
   "id": "dbc233ae-3632-4c08-a34e-064787f414aa",
   "metadata": {},
   "source": [
    "# BAM Summary for all samples\n",
    "\n",
    "#### Sample INFO\n",
    "* 60x2 _(n=2, 130x)_\n",
    "* 60x _(n=1, 120x)_\n",
    "* 10x2 _(n=6, 30x)_\n",
    "* 10x _(n=12, 20x)_\n",
    "* 10xNEW _(n=152, 12x)_\n",
    "* 2x _(n=787, 2x)_\n",
    "* n96-Pla _(n=48, 1x)_\n",
    "* n96-Ave _(n=38, 1x)_\n",
    "* <font color=\"red\">n96-misc _(n=10, 1x)_</font>\n",
    "* TRIO-Pla _(n=15, 4x)_\n",
    "* TRIO-GH _(n=13, 4x)_"
   ]
  },
  {
   "cell_type": "code",
   "execution_count": null,
   "id": "3b3263ee-e008-4c58-8679-2bb7c0190acd",
   "metadata": {
    "tags": []
   },
   "outputs": [],
   "source": [
    "#%%bash\n",
    "module load samtools datamash"
   ]
  },
  {
   "cell_type": "code",
   "execution_count": null,
   "id": "8111758f-093f-429c-be18-a29f79eefe94",
   "metadata": {},
   "outputs": [],
   "source": [
    "module load samtools datamash\n",
    "# summaryFile=\n",
    "\n",
    "for batch in /archive3/group/bartogrp/snapdragon_genomics_AP/bams/v3.5/ema_dir/*\n",
    "do\n",
    "\t# echo $batch\n",
    "\tfor sample in $batch/*\n",
    "\tdo\n",
    "\t\t# echo $sample\n",
    "\t\tbamfile=($sample/*.sorted.bam)\n",
    "\t\tnobc_bam=($sample/ema-bin/ema-nobc-*sorted.bam)\n",
    "\t\techo $bamfile\n",
    "\t\t# echo $nobc_bam\n",
    "\n",
    "\t\ttotalReads=`samtools view -c $bamfile`\n",
    "\t\tmappedReads=`samtools idxstats $bamfile | datamash sum 3`\n",
    "\t\tnobcReads=`samtools view -c $nobc_bam`\n",
    "\n",
    "\t\t# echo -e $batch\"\\t\"$sample\"\\t\"$totalReads\"\\t\"$mappedReads\"\\t\"$nobcReads >> $summaryFile\n",
    "\t\techo -e $batch\"\\t\"$sample\"\\t\"$totalReads\"\\t\"$mappedReads\"\\t\"$nobcReads >> summary.txt\n",
    "\tdone\n",
    "done"
   ]
  },
  {
   "cell_type": "code",
   "execution_count": null,
   "id": "ea09599e-aff1-4660-9c96-2c07b742d1e9",
   "metadata": {},
   "outputs": [],
   "source": [
    "## For n96 samples\n",
    "module load samtools\n",
    "# summaryFile=\n",
    "\n",
    "for fastq1 in /archive3/group/bartogrp/snapdragon_genomics_AP/fastq/haplotag_n96_2021/fastq_split_cutadapt/*R1*\n",
    "do \n",
    "    fastq2=${fastq1/_R1_001.fastq.gz/_R2_001.fastq.gz}\n",
    "    echo $fastq1\n",
    "\n",
    "    nobcReads=`zcat $fastq1 $fastq2 | grep @ | cut -f1 | cut -f2 -d\" \" | grep -E -c \"A00|B00|C00|D00\"` \n",
    "    echo -e $fastq1\"\\t\"$fastq2\"\\t\"$nobcReads >> summary_n96-new.txt\n",
    "\t\n",
    "done"
   ]
  }
 ],
 "metadata": {
  "kernelspec": {
   "display_name": "Bash",
   "language": "bash",
   "name": "bash"
  },
  "language_info": {
   "codemirror_mode": "shell",
   "file_extension": ".sh",
   "mimetype": "text/x-sh",
   "name": "bash"
  }
 },
 "nbformat": 4,
 "nbformat_minor": 5
}
