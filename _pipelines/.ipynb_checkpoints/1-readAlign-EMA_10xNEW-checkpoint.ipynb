{
 "cells": [
  {
   "cell_type": "markdown",
   "id": "c6b131be-d7c8-4342-affa-572fe5ecda37",
   "metadata": {},
   "source": [
    "# EMA Mapping 10xNEW samples *(n = 160)*"
   ]
  },
  {
   "cell_type": "code",
   "execution_count": 1,
   "id": "2df9c1e6-0eab-4d5d-858b-6ca653138e03",
   "metadata": {
    "tags": []
   },
   "outputs": [
    {
     "name": "stdout",
     "output_type": "stream",
     "text": [
      "\n",
      "Lmod is automatically replacing \"JupyterPython/2.0\" with \"bioconda/20220708\".\n",
      "\n"
     ]
    }
   ],
   "source": [
    "#%%bash\n",
    "module load bioconda samtools sambamba bwa parallel compression-tools/20220329\n",
    "cd ~/snap_hap/fastq/haplotag_10xNEW_2023/"
   ]
  },
  {
   "cell_type": "code",
   "execution_count": 2,
   "id": "379b6956-2c29-4fce-8b1c-1e0c24382c3c",
   "metadata": {},
   "outputs": [
    {
     "name": "stdout",
     "output_type": "stream",
     "text": [
      "\n",
      "Currently Loaded Modules:\n",
      "  1) git/2.35.1          4) samtools/1.18    7) parallel/20220222\n",
      "  2) bioconda/20220708   5) sambamba/0.8.2   8) compression-tools/20220329\n",
      "  3) htslib/1.18         6) bwa/20220112\n",
      "\n",
      " \n",
      "\n"
     ]
    }
   ],
   "source": [
    "module list"
   ]
  },
  {
   "cell_type": "markdown",
   "id": "e2d66d99-ce59-45c2-bc60-98002802627a",
   "metadata": {},
   "source": [
    "### Make list of samples"
   ]
  },
  {
   "cell_type": "code",
   "execution_count": 21,
   "id": "7a64590d-1983-43f0-8447-87c16f6d30e3",
   "metadata": {},
   "outputs": [
    {
     "name": "stdout",
     "output_type": "stream",
     "text": [
      "129\n",
      "65 samples_10xNEW_Plate9.txt\n"
     ]
    }
   ],
   "source": [
    "#%%bash\n",
    "\n",
    "cd ~/snap_hap/fastq/haplotag_10xNEW_2023/Plate9\n",
    "ls | wc -l\n",
    "#ls | cut -f1 -d_ | uniq > samples_10xNEW_Plate9.txt\n",
    "wc -l samples_10xNEW_Plate9.txt\n",
    "\n",
    "#NB: Manually remove \"samples\" from the .txt file. "
   ]
  },
  {
   "cell_type": "code",
   "execution_count": 22,
   "id": "6dd0914b-7059-455a-9ece-56c50cf5201d",
   "metadata": {
    "tags": []
   },
   "outputs": [
    {
     "name": "stdout",
     "output_type": "stream",
     "text": [
      "192\n",
      "97 samples_10xNEW_Plate10.txt\n"
     ]
    }
   ],
   "source": [
    "cd ~/snap_hap/fastq/haplotag_10xNEW_2023/Plate10\n",
    "ls | wc -l\n",
    "#ls | cut -f1 -d_ | uniq > samples_10xNEW_Plate10.txt\n",
    "wc -l samples_10xNEW_Plate10.txt\n",
    "\n",
    "#NB: Manually remove \"samples\" from the .txt file. "
   ]
  },
  {
   "cell_type": "markdown",
   "id": "30fefdb3-dbbc-4644-9d7e-9b6b3c744b38",
   "metadata": {
    "tags": []
   },
   "source": [
    "# EMA test"
   ]
  },
  {
   "cell_type": "markdown",
   "id": "f2b71aea-d65d-4469-a887-cd9b9deedd9b",
   "metadata": {
    "tags": []
   },
   "source": [
    "### Set variables"
   ]
  },
  {
   "cell_type": "code",
   "execution_count": 24,
   "id": "c0cd8c66-6a06-4de6-881e-4b720f904549",
   "metadata": {
    "tags": []
   },
   "outputs": [],
   "source": [
    "WORKDIR='/nfs/scistore18/bartogrp/apal/snap_hap'\n",
    "\n",
    "## User Inputs\n",
    "samp_no=1\n",
    "samp_list=${WORKDIR}/fastq/haplotag_10xNEW_2023/Plate10/samples_10xNEW_Plate10.txt\n",
    "fastq_dir=${WORKDIR}/fastq/haplotag_10xNEW_2023/Plate10 #absolute directory path to fastq files\n",
    "batch=10xNEW-Plate10 #sequencing batch, e.g., TRIO/n96/2x/10x/60x/2xE/10xE/60xE\n",
    "loc=Pla #sampling location\n",
    "species=Am #sample species\n",
    "ref_genome=${WORKDIR}/ref_genome/$ref_gen_ver/Amajus_v3.5.fa\n",
    "ref_gen_ver=v3.5\n",
    "\n",
    "## Set sequence info\n",
    "library=Snapdragon-Haplo_${batch} #used in BAM header"
   ]
  },
  {
   "cell_type": "code",
   "execution_count": 25,
   "id": "2505fdd6-1cb8-4f91-a032-8ef6ad42388f",
   "metadata": {
    "tags": []
   },
   "outputs": [
    {
     "name": "stdout",
     "output_type": "stream",
     "text": [
      "10x\t\t2xE-N703e  2xE-N708e  2x-N703  2x-N708\tn96_Ave\n",
      "10xE\t\t2xE-N704e  2xE-N709e  2x-N704  2x-N709\tn96_misc\n",
      "10xNEW-Plate10\t2xE-N705e  2xE-N710e  2x-N705  2x-N710\tn96_Pla\n",
      "2xE-N701e\t2xE-N706e  2x-N701    2x-N706  60x\tTRIO\n",
      "2xE-N702e\t2xE-N707e  2x-N702    2x-N707  60xE\n"
     ]
    }
   ],
   "source": [
    "## Set EMA base directories (create if necessary)\n",
    "ema_dir=${WORKDIR}/bams/$ref_gen_ver/ema_dir/$batch\n",
    "if [ ! -e $ema_dir ]; then mkdir -p $ema_dir; fi\n",
    "ema_align=${WORKDIR}/bams/$ref_gen_ver/ema_align/$batch\n",
    "if [ ! -e $ema_align ]; then mkdir -p $ema_align; fi\n",
    "\n",
    "ls ${WORKDIR}/bams/$ref_gen_ver/ema_dir/"
   ]
  },
  {
   "cell_type": "code",
   "execution_count": 26,
   "id": "6d391621-aed7-4193-911a-542024971b45",
   "metadata": {},
   "outputs": [
    {
     "name": "stdout",
     "output_type": "stream",
     "text": [
      "pa1499\n"
     ]
    }
   ],
   "source": [
    "## read Sample ID from $samp_list\n",
    "samp_id=$(sed -n \"${samp_no}p\" ${samp_list})\n",
    "echo $samp_id"
   ]
  },
  {
   "cell_type": "code",
   "execution_count": 27,
   "id": "6587d5e3-d0dd-4fc2-b0c9-17d34a7974d1",
   "metadata": {
    "tags": []
   },
   "outputs": [],
   "source": [
    "## set input variables\n",
    "read1=$(ls $fastq_dir | grep $samp_id | cut -f1 | head -1) #fastq_R1 read\n",
    "read2=${read1/_R1/_R2} ##fastq_R2 read\n",
    "prefix=${batch}-${samp_no}_${species}_${loc}_${samp_id}_${ref_gen_ver} #BAM file prefix\n",
    "read_group=@RG\\\\tID:$samp_id\\\\tSM:${prefix}\\\\tLB:$library #BAM @RG tag\n",
    "\n",
    "## Set mapping directory\n",
    "if [ ! -e \"$ema_dir/$prefix\" ]; then mkdir -p $ema_dir/$prefix && cd \"$_\"; else cd $ema_dir/$prefix; fi"
   ]
  },
  {
   "cell_type": "code",
   "execution_count": 28,
   "id": "8cf0897a-272c-4e0e-8c36-cef951548e59",
   "metadata": {
    "tags": []
   },
   "outputs": [],
   "source": [
    "## Create symbolic links to fastq reads\n",
    "ln -s -f ${fastq_dir}${read1} $read1\n",
    "ln -s -f ${fastq_dir}${read2} $read2"
   ]
  },
  {
   "cell_type": "code",
   "execution_count": 34,
   "id": "fd0af4b1-365c-48bb-b61f-3541ad36b2ca",
   "metadata": {
    "tags": []
   },
   "outputs": [
    {
     "name": "stdout",
     "output_type": "stream",
     "text": [
      "Sample list: /nfs/scistore18/bartogrp/apal/snap_hap/fastq/haplotag_10xNEW_2023/Plate10/samples_10xNEW_Plate10.txt\n",
      "Sample ID: pa1499\n",
      "Read1: pa1499_R1_001.cutadapt.fastq.gz\n",
      "Read2: pa1499_R2_001.cutadapt.fastq.gz\n",
      "Prefix: 10xNEW-Plate10-1_Am_Pla_pa1499_v3.5\n",
      "EMA working directory: /nfs/scistore18/bartogrp/apal/snap_hap/bams/v3.5/ema_dir/10xNEW-Plate10/10xNEW-Plate10-1_Am_Pla_pa1499_v3.5\n",
      "final BAM directory: /nfs/scistore18/bartogrp/apal/snap_hap/bams/v3.5/ema_align/10xNEW-Plate10\n"
     ]
    }
   ],
   "source": [
    "## Check variables\n",
    "echo Sample list: $samp_list\n",
    "echo Sample ID: $samp_id\n",
    "echo Read1: $read1\n",
    "echo Read2: $read2\n",
    "echo Prefix: $prefix\n",
    "echo EMA working directory: $(pwd)\n",
    "echo final BAM directory: $ema_align"
   ]
  },
  {
   "cell_type": "markdown",
   "id": "f4bbefaf-6d49-4565-8fa9-eae7e044d51d",
   "metadata": {},
   "source": [
    "### EMA Preprocessing"
   ]
  },
  {
   "cell_type": "code",
   "execution_count": 36,
   "id": "87eee1ce-e7fe-49df-8655-524dae3d9a4b",
   "metadata": {
    "collapsed": true,
    "jupyter": {
     "outputs_hidden": true
    },
    "tags": []
   },
   "outputs": [
    {
     "name": "stdout",
     "output_type": "stream",
     "text": [
      "Translating haplotag barcodes to 16 base barcodes\n",
      "[16BaseBCGen Status] :: 16.4 k / 16.4 k reads processed / barcodes added\n",
      "[16BaseBCGen Status] :: 32.8 k / 32.8 k reads processed / barcodes added\n",
      "[16BaseBCGen Status] :: 49.2 k / 49.2 k reads processed / barcodes added\n",
      "[16BaseBCGen Status] :: 65.5 k / 65.5 k reads processed / barcodes added\n",
      "[16BaseBCGen Status] :: 81.9 k / 81.9 k reads processed / barcodes added\n",
      "[16BaseBCGen Status] :: 98.3 k / 98.3 k reads processed / barcodes added\n",
      "[16BaseBCGen Status] :: 114.7 k / 114.7 k reads processed / barcodes added\n",
      "[16BaseBCGen Status] :: 131.1 k / 131.1 k reads processed / barcodes added\n",
      "[16BaseBCGen Status] :: 147.5 k / 147.5 k reads processed / barcodes added\n",
      "[16BaseBCGen Status] :: 163.8 k / 163.8 k reads processed / barcodes added\n",
      "[16BaseBCGen Status] :: 180.2 k / 180.2 k reads processed / barcodes added\n",
      "[16BaseBCGen Status] :: 196.6 k / 196.6 k reads processed / barcodes added\n",
      "[16BaseBCGen Status] :: 213.0 k / 213.0 k reads processed / barcodes added\n",
      "[16BaseBCGen Status] :: 229.4 k / 229.4 k reads processed / barcodes added\n",
      "[16BaseBCGen Status] :: 245.8 k / 245.8 k reads processed / barcodes added\n",
      "[16BaseBCGen Status] :: 262.1 k / 262.1 k reads processed / barcodes added\n",
      "[16BaseBCGen Status] :: 278.5 k / 278.5 k reads processed / barcodes added\n",
      "[16BaseBCGen Status] :: 294.9 k / 294.9 k reads processed / barcodes added\n",
      "[16BaseBCGen Status] :: 311.3 k / 311.3 k reads processed / barcodes added\n",
      "[16BaseBCGen Status] :: 327.7 k / 327.7 k reads processed / barcodes added\n",
      "[16BaseBCGen Status] :: 344.1 k / 344.1 k reads processed / barcodes added\n",
      "[16BaseBCGen Status] :: 360.4 k / 360.4 k reads processed / barcodes added\n",
      "[16BaseBCGen Status] :: 376.8 k / 376.8 k reads processed / barcodes added\n",
      "[16BaseBCGen Status] :: 393.2 k / 393.2 k reads processed / barcodes added\n",
      "[16BaseBCGen Status] :: 409.6 k / 409.6 k reads processed / barcodes added\n",
      "[16BaseBCGen Status] :: 426.0 k / 426.0 k reads processed / barcodes added\n",
      "[16BaseBCGen Status] :: 442.4 k / 442.4 k reads processed / barcodes added\n",
      "[16BaseBCGen Status] :: 458.8 k / 458.8 k reads processed / barcodes added\n",
      "[16BaseBCGen Status] :: 475.1 k / 475.1 k reads processed / barcodes added\n",
      "[16BaseBCGen Status] :: 491.5 k / 491.5 k reads processed / barcodes added\n",
      "[16BaseBCGen Status] :: 507.9 k / 507.9 k reads processed / barcodes added\n",
      "[16BaseBCGen Status] :: 524.3 k / 524.3 k reads processed / barcodes added\n",
      "[16BaseBCGen Status] :: 540.7 k / 540.7 k reads processed / barcodes added\n",
      "[16BaseBCGen Status] :: 557.1 k / 557.1 k reads processed / barcodes added\n",
      "[16BaseBCGen Status] :: 573.4 k / 573.4 k reads processed / barcodes added\n",
      "[16BaseBCGen Status] :: 589.8 k / 589.8 k reads processed / barcodes added\n",
      "[16BaseBCGen Status] :: 606.2 k / 606.2 k reads processed / barcodes added\n",
      "[16BaseBCGen Status] :: 622.6 k / 622.6 k reads processed / barcodes added\n",
      "[16BaseBCGen Status] :: 639.0 k / 639.0 k reads processed / barcodes added\n",
      "[16BaseBCGen Status] :: 655.4 k / 655.4 k reads processed / barcodes added\n",
      "[16BaseBCGen Status] :: 671.7 k / 671.7 k reads processed / barcodes added\n",
      "[16BaseBCGen Status] :: 688.1 k / 688.1 k reads processed / barcodes added\n",
      "[16BaseBCGen Status] :: 704.5 k / 704.5 k reads processed / barcodes added\n",
      "[16BaseBCGen Status] :: 720.9 k / 720.9 k reads processed / barcodes added\n",
      "[16BaseBCGen Status] :: 737.3 k / 737.3 k reads processed / barcodes added\n",
      "[16BaseBCGen Status] :: 753.7 k / 753.7 k reads processed / barcodes added\n",
      "[16BaseBCGen Status] :: 770.0 k / 770.0 k reads processed / barcodes added\n",
      "[16BaseBCGen Status] :: 786.4 k / 786.4 k reads processed / barcodes added\n",
      "[16BaseBCGen Status] :: 802.8 k / 802.8 k reads processed / barcodes added\n",
      "[16BaseBCGen Status] :: 819.2 k / 819.2 k reads processed / barcodes added\n",
      "[16BaseBCGen Status] :: 835.6 k / 835.6 k reads processed / barcodes added\n",
      "[16BaseBCGen Status] :: 852.0 k / 852.0 k reads processed / barcodes added\n",
      "[16BaseBCGen Status] :: 868.4 k / 868.4 k reads processed / barcodes added\n",
      "[16BaseBCGen Status] :: 884.7 k / 884.7 k reads processed / barcodes added\n",
      "[16BaseBCGen Status] :: 901.1 k / 901.1 k reads processed / barcodes added\n",
      "[16BaseBCGen Status] :: 917.5 k / 917.5 k reads processed / barcodes added\n",
      "[16BaseBCGen Status] :: 933.9 k / 933.9 k reads processed / barcodes added\n",
      "[16BaseBCGen Status] :: 950.3 k / 950.3 k reads processed / barcodes added\n",
      "[16BaseBCGen Status] :: 966.7 k / 966.7 k reads processed / barcodes added\n",
      "[16BaseBCGen Status] :: 983.0 k / 983.0 k reads processed / barcodes added\n",
      "[16BaseBCGen Status] :: 999.4 k / 999.4 k reads processed / barcodes added\n",
      "[16BaseBCGen Status] :: 1.0 M / 1.0 M reads processed / barcodes added\n",
      "[16BaseBCGen Status] :: 1.1 M / 1.1 M reads processed / barcodes added\n",
      "[16BaseBCGen Status] :: 1.2 M / 1.2 M reads processed / barcodes added\n",
      "[16BaseBCGen Status] :: 1.3 M / 1.3 M reads processed / barcodes added\n",
      "[16BaseBCGen Status] :: 1.4 M / 1.4 M reads processed / barcodes added\n",
      "[16BaseBCGen Status] :: 1.5 M / 1.5 M reads processed / barcodes added\n",
      "[16BaseBCGen Status] :: 1.6 M / 1.6 M reads processed / barcodes added\n",
      "[16BaseBCGen Status] :: 1.7 M / 1.7 M reads processed / barcodes added\n",
      "[16BaseBCGen Status] :: 1.8 M / 1.8 M reads processed / barcodes added\n",
      "[16BaseBCGen Status] :: 1.9 M / 1.9 M reads processed / barcodes added\n",
      "[16BaseBCGen Status] :: 2.0 M / 2.0 M reads processed / barcodes added\n",
      "[16BaseBCGen Status] :: 2.1 M / 2.1 M reads processed / barcodes added\n",
      "[16BaseBCGen Status] :: 2.2 M / 2.2 M reads processed / barcodes added\n",
      "[16BaseBCGen Status] :: 2.3 M / 2.3 M reads processed / barcodes added\n",
      "[16BaseBCGen Status] :: 2.4 M / 2.4 M reads processed / barcodes added\n",
      "[16BaseBCGen Status] :: 2.5 M / 2.5 M reads processed / barcodes added\n",
      "[16BaseBCGen Status] :: 2.6 M / 2.6 M reads processed / barcodes added\n",
      "[16BaseBCGen Status] :: 2.7 M / 2.7 M reads processed / barcodes added\n",
      "[16BaseBCGen Status] :: 2.8 M / 2.8 M reads processed / barcodes added\n",
      "[16BaseBCGen Status] :: 2.9 M / 2.9 M reads processed / barcodes added\n",
      "[16BaseBCGen Status] :: 3.0 M / 3.0 M reads processed / barcodes added\n",
      "[16BaseBCGen Status] :: 3.1 M / 3.1 M reads processed / barcodes added\n",
      "[16BaseBCGen Status] :: 3.2 M / 3.2 M reads processed / barcodes added\n",
      "[16BaseBCGen Status] :: 3.3 M / 3.3 M reads processed / barcodes added\n",
      "[16BaseBCGen Status] :: 3.4 M / 3.4 M reads processed / barcodes added\n",
      "[16BaseBCGen Status] :: 3.5 M / 3.5 M reads processed / barcodes added\n",
      "[16BaseBCGen Status] :: 3.6 M / 3.6 M reads processed / barcodes added\n",
      "[16BaseBCGen Status] :: 3.7 M / 3.7 M reads processed / barcodes added\n",
      "[16BaseBCGen Status] :: 3.8 M / 3.8 M reads processed / barcodes added\n",
      "[16BaseBCGen Status] :: 3.9 M / 3.9 M reads processed / barcodes added\n",
      "[16BaseBCGen Status] :: 4.0 M / 4.0 M reads processed / barcodes added\n",
      "[16BaseBCGen Status] :: 4.1 M / 4.1 M reads processed / barcodes added\n",
      "[16BaseBCGen Status] :: 4.2 M / 4.2 M reads processed / barcodes added\n",
      "[16BaseBCGen Status] :: 4.3 M / 4.3 M reads processed / barcodes added\n",
      "[16BaseBCGen Status] :: 4.4 M / 4.4 M reads processed / barcodes added\n",
      "[16BaseBCGen Status] :: 4.5 M / 4.5 M reads processed / barcodes added\n",
      "[16BaseBCGen Status] :: 4.6 M / 4.6 M reads processed / barcodes added\n",
      "[16BaseBCGen Status] :: 4.7 M / 4.7 M reads processed / barcodes added\n",
      "[16BaseBCGen Status] :: 4.8 M / 4.8 M reads processed / barcodes added\n",
      "[16BaseBCGen Status] :: 4.9 M / 4.9 M reads processed / barcodes added\n",
      "[16BaseBCGen Status] :: 5.0 M / 5.0 M reads processed / barcodes added\n",
      "[16BaseBCGen Status] :: 5.1 M / 5.1 M reads processed / barcodes added\n",
      "[16BaseBCGen Status] :: 5.2 M / 5.2 M reads processed / barcodes added\n",
      "[16BaseBCGen Status] :: 5.3 M / 5.3 M reads processed / barcodes added\n",
      "[16BaseBCGen Status] :: 5.4 M / 5.4 M reads processed / barcodes added\n",
      "[16BaseBCGen Status] :: 5.5 M / 5.5 M reads processed / barcodes added\n",
      "[16BaseBCGen Status] :: 5.6 M / 5.6 M reads processed / barcodes added\n",
      "[16BaseBCGen Status] :: 5.7 M / 5.7 M reads processed / barcodes added\n",
      "[16BaseBCGen Status] :: 5.8 M / 5.8 M reads processed / barcodes added\n",
      "[16BaseBCGen Status] :: 5.9 M / 5.9 M reads processed / barcodes added\n",
      "[16BaseBCGen Status] :: 6.0 M / 6.0 M reads processed / barcodes added\n",
      "[16BaseBCGen Status] :: 6.1 M / 6.1 M reads processed / barcodes added\n",
      "[16BaseBCGen Status] :: 6.2 M / 6.2 M reads processed / barcodes added\n",
      "[16BaseBCGen Status] :: 6.3 M / 6.3 M reads processed / barcodes added\n",
      "[16BaseBCGen Status] :: 6.4 M / 6.4 M reads processed / barcodes added\n",
      "[16BaseBCGen Status] :: 6.5 M / 6.5 M reads processed / barcodes added\n",
      "[16BaseBCGen Status] :: 6.6 M / 6.6 M reads processed / barcodes added\n",
      "[16BaseBCGen Status] :: 6.7 M / 6.7 M reads processed / barcodes added\n",
      "[16BaseBCGen Status] :: 6.8 M / 6.8 M reads processed / barcodes added\n",
      "[16BaseBCGen Status] :: 6.9 M / 6.9 M reads processed / barcodes added\n",
      "[16BaseBCGen Status] :: 7.0 M / 7.0 M reads processed / barcodes added\n",
      "[16BaseBCGen Status] :: 7.1 M / 7.1 M reads processed / barcodes added\n",
      "[16BaseBCGen Status] :: 7.2 M / 7.2 M reads processed / barcodes added\n",
      "[16BaseBCGen Status] :: 7.3 M / 7.3 M reads processed / barcodes added\n",
      "[16BaseBCGen Status] :: 7.4 M / 7.4 M reads processed / barcodes added\n",
      "[16BaseBCGen Status] :: 7.5 M / 7.5 M reads processed / barcodes added\n",
      "[16BaseBCGen Status] :: 7.6 M / 7.6 M reads processed / barcodes added\n",
      "[16BaseBCGen Status] :: 7.7 M / 7.7 M reads processed / barcodes added\n",
      "[16BaseBCGen Status] :: 7.8 M / 7.8 M reads processed / barcodes added\n",
      "[16BaseBCGen Status] :: 7.9 M / 7.9 M reads processed / barcodes added\n",
      "[16BaseBCGen Status] :: 8.0 M / 8.0 M reads processed / barcodes added\n",
      "[16BaseBCGen Status] :: 8.1 M / 8.1 M reads processed / barcodes added\n",
      "[16BaseBCGen Status] :: 8.2 M / 8.2 M reads processed / barcodes added\n",
      "[16BaseBCGen Status] :: 8.3 M / 8.3 M reads processed / barcodes added\n",
      "[16BaseBCGen Status] :: 8.4 M / 8.4 M reads processed / barcodes added\n",
      "[16BaseBCGen Status] :: 8.5 M / 8.5 M reads processed / barcodes added\n",
      "[16BaseBCGen Status] :: 8.6 M / 8.6 M reads processed / barcodes added\n",
      "[16BaseBCGen Status] :: 8.7 M / 8.7 M reads processed / barcodes added\n",
      "[16BaseBCGen Status] :: 8.8 M / 8.8 M reads processed / barcodes added\n",
      "[16BaseBCGen Status] :: 8.9 M / 8.9 M reads processed / barcodes added\n",
      "[16BaseBCGen Status] :: 9.0 M / 9.0 M reads processed / barcodes added\n",
      "[16BaseBCGen Status] :: 9.1 M / 9.1 M reads processed / barcodes added\n",
      "[16BaseBCGen Status] :: 9.2 M / 9.2 M reads processed / barcodes added\n",
      "[16BaseBCGen Status] :: 9.3 M / 9.3 M reads processed / barcodes added\n",
      "[16BaseBCGen Status] :: 9.4 M / 9.4 M reads processed / barcodes added\n",
      "[16BaseBCGen Status] :: 9.5 M / 9.5 M reads processed / barcodes added\n",
      "[16BaseBCGen Status] :: 9.6 M / 9.6 M reads processed / barcodes added\n",
      "[16BaseBCGen Status] :: 9.7 M / 9.7 M reads processed / barcodes added\n",
      "[16BaseBCGen Status] :: 9.8 M / 9.8 M reads processed / barcodes added\n",
      "[16BaseBCGen Status] :: 9.9 M / 9.9 M reads processed / barcodes added\n",
      "[16BaseBCGen Status] :: 10.0 M / 10.0 M reads processed / barcodes added\n",
      "[16BaseBCGen Status] :: 10.1 M / 10.1 M reads processed / barcodes added\n",
      "[16BaseBCGen Status] :: 10.2 M / 10.2 M reads processed / barcodes added\n",
      "[16BaseBCGen Status] :: 10.3 M / 10.3 M reads processed / barcodes added\n",
      "[16BaseBCGen Status] :: 10.4 M / 10.4 M reads processed / barcodes added\n",
      "[16BaseBCGen Status] :: 10.5 M / 10.5 M reads processed / barcodes added\n",
      "[16BaseBCGen Status] :: 10.6 M / 10.6 M reads processed / barcodes added\n",
      "[16BaseBCGen Status] :: 10.7 M / 10.7 M reads processed / barcodes added\n",
      "[16BaseBCGen Status] :: 10.8 M / 10.8 M reads processed / barcodes added\n",
      "[16BaseBCGen Status] :: 10.9 M / 10.9 M reads processed / barcodes added\n",
      "[16BaseBCGen Status] :: 11.0 M / 11.0 M reads processed / barcodes added\n",
      "[16BaseBCGen Status] :: 11.1 M / 11.1 M reads processed / barcodes added\n",
      "[16BaseBCGen Status] :: 11.2 M / 11.2 M reads processed / barcodes added\n",
      "[16BaseBCGen Status] :: 11.3 M / 11.3 M reads processed / barcodes added\n",
      "[16BaseBCGen Status] :: 11.4 M / 11.4 M reads processed / barcodes added\n",
      "[16BaseBCGen Status] :: 11.5 M / 11.5 M reads processed / barcodes added\n",
      "[16BaseBCGen Status] :: 11.6 M / 11.6 M reads processed / barcodes added\n",
      "[16BaseBCGen Status] :: 11.7 M / 11.7 M reads processed / barcodes added\n",
      "[16BaseBCGen Status] :: 11.8 M / 11.8 M reads processed / barcodes added\n",
      "[16BaseBCGen Status] :: 11.9 M / 11.9 M reads processed / barcodes added\n",
      "[16BaseBCGen Status] :: 12.0 M / 12.0 M reads processed / barcodes added\n",
      "[16BaseBCGen Status] :: 12.1 M / 12.1 M reads processed / barcodes added\n",
      "[16BaseBCGen Status] :: 12.2 M / 12.2 M reads processed / barcodes added\n",
      "[16BaseBCGen Status] :: 12.3 M / 12.3 M reads processed / barcodes added\n",
      "[16BaseBCGen Status] :: 12.4 M / 12.4 M reads processed / barcodes added\n",
      "[16BaseBCGen Status] :: 12.5 M / 12.5 M reads processed / barcodes added\n",
      "[16BaseBCGen Status] :: 12.6 M / 12.6 M reads processed / barcodes added\n",
      "[16BaseBCGen Status] :: 12.7 M / 12.7 M reads processed / barcodes added\n",
      "[16BaseBCGen Status] :: 12.8 M / 12.8 M reads processed / barcodes added\n",
      "[16BaseBCGen Status] :: 12.9 M / 12.9 M reads processed / barcodes added\n",
      "[16BaseBCGen Status] :: 13.0 M / 13.0 M reads processed / barcodes added\n",
      "[16BaseBCGen Status] :: 13.1 M / 13.1 M reads processed / barcodes added\n"
     ]
    }
   ],
   "source": [
    "## Translate haplotag barcodes to 16base barcodes\n",
    "echo \"Translating haplotag barcodes to 16 base barcodes\"\n",
    "zcat $read1 | sed 's/-N...\\tRX:/\\tRX:/' | 16BaseBCGen ${samp_id} | bgzip -@ 16 > ${read1/.fastq/.16BCgen.fastq}\n",
    "ln -s -f $fastq_dir/$read2 ${read2/.fastq/.16BCgen.fastq}\n",
    "cut -f 2 ${samp_id}_HaploTag_to_16BaseBCs | tail -n+2 > ${samp_id}_HaploTag_to_16BaseBCs.ema"
   ]
  },
  {
   "cell_type": "code",
   "execution_count": 37,
   "id": "f579df36-f132-4797-8936-a9ff1a5479b7",
   "metadata": {
    "tags": []
   },
   "outputs": [
    {
     "name": "stdout",
     "output_type": "stream",
     "text": [
      "380870 pa1499_HaploTag_to_16BaseBCs.ema\n"
     ]
    }
   ],
   "source": [
    "## No. of barcodes\n",
    "wc -l pa1499_HaploTag_to_16BaseBCs.ema"
   ]
  },
  {
   "cell_type": "code",
   "execution_count": 38,
   "id": "715f38c6-8413-475b-84d0-f86ee970de2a",
   "metadata": {},
   "outputs": [
    {
     "name": "stdout",
     "output_type": "stream",
     "text": [
      "Running EMA count\n",
      ":: Loading 10X took 0.1 s\n",
      ":: Counting took 38.6 s\n",
      ":: Reads with OK barcode: 12,800,423 out of 13,131,750\n",
      ":: Ignored 0 reads\n",
      ":: Dumped block 1\n",
      ":: Printing took 0.1 s\n",
      ":: Processed 13,131,750 reads (8,091 MB uncompressed) in 38 s\n"
     ]
    }
   ],
   "source": [
    "## EMA Count\n",
    "echo \"Running EMA count\"\n",
    "paste <(pigz -c -d ${read1/.fastq/.16BCgen.fastq} | paste - - - - | awk '{print $1\"\\t\"$5\"\\t\"$6\"\\t\"$7}') <(pigz -c -d ${read2/.fastq/.16BCgen.fastq} | paste - - - - | awk '{print $1\"\\t\"$5\"\\t\"$6\"\\t\"$7}' ) |\\\n",
    "tr \"\\t\" \"\\n\" |\\\n",
    "ema count -w ${samp_id}_HaploTag_to_16BaseBCs.ema -o $samp_id.16BCgen 2>$samp_id.16BCgen.log\n",
    "cat $samp_id.16BCgen.log"
   ]
  },
  {
   "cell_type": "code",
   "execution_count": 39,
   "id": "ed75330e-0fd9-42c9-ba01-316ee3bf69f7",
   "metadata": {
    "collapsed": true,
    "jupyter": {
     "outputs_hidden": true
    },
    "tags": []
   },
   "outputs": [
    {
     "name": "stdout",
     "output_type": "stream",
     "text": [
      "Running EMA preproc\n",
      ":: Bucketing 1 inputs into 500 files with 40 threads\n",
      ":: Loading known counts file pa1499.16BCgen.ema-ncnt ... \n",
      ":: Loading known counts ... done in 0.1 s\n",
      ":: Loading full counts file pa1499.16BCgen.ema-fcnt ... \n",
      "::: Loading dump 1 of size 380,871 (23 MB) done in 0.027 s\n",
      "  :: Thread 0 from 0 to 9,522 took 0.002 s\n",
      "  :: Thread 1 from 9,522 to 19,044 took 0.002 s\n",
      "  :: Thread 12 from 114,264 to 123,786 took 0.003 s\n",
      "  :: Thread 2 from 19,044 to 28,566 took 0.004 s\n",
      "  :: Thread 8 from 76,176 to 85,698 took 0.004 s\n",
      "  :: Thread 7 from 66,654 to 76,176 took 0.005 s\n",
      "  :: Thread 24 from 228,528 to 238,050 took 0.001 s\n",
      "  :: Thread 14 from 133,308 to 142,830 took 0.001 s\n",
      "  :: Thread 26 from 247,572 to 257,094 took 0.001 s\n",
      "  :: Thread 32 from 304,704 to 314,226 took 0.008 s\n",
      "  :: Thread 13 from 123,786 to 133,308 took 0.003 s\n",
      "  :: Thread 11 from 104,742 to 114,264 took 0.002 s\n",
      "  :: Thread 28 from 266,616 to 276,138 took 0.003 s\n",
      "  :: Thread 10 from 95,220 to 104,742 took 0.003 s\n",
      "  :: Thread 29 from 276,138 to 285,660 took 0.004 s\n",
      "  :: Thread 9 from 85,698 to 95,220 took 0.004 s\n",
      "  :: Thread 6 from 57,132 to 66,654 took 0.014 s\n",
      "  :: Thread 30 from 285,660 to 295,182 took 0.005 s\n",
      "  :: Thread 5 from 47,610 to 57,132 took 0.004 s\n",
      "  :: Thread 31 from 295,182 to 304,704 took 0.005 s\n",
      "  :: Thread 33 from 314,226 to 323,748 took 0.004 s\n",
      "  :: Thread 4 from 38,088 to 47,610 took 0.005 s\n",
      "  :: Thread 35 from 333,270 to 342,792 took 0.005 s\n",
      "  :: Thread 36 from 342,792 to 352,314 took 0.005 s\n",
      "  :: Thread 34 from 323,748 to 333,270 took 0.007 s\n",
      "  :: Thread 3 from 28,566 to 38,088 took 0.008 s\n",
      "  :: Thread 37 from 352,314 to 361,836 took 0.008 s\n",
      "  :: Thread 22 from 209,484 to 219,006 took 0.008 s\n",
      "  :: Thread 38 from 361,836 to 371,358 took 0.009 s\n",
      "  :: Thread 21 from 199,962 to 209,484 took 0.009 s\n",
      "  :: Thread 39 from 371,358 to 380,871 took 0.01 s\n",
      "  :: Thread 20 from 190,440 to 199,962 took 0.01 s\n",
      "  :: Thread 25 from 238,050 to 247,572 took 0.011 s\n",
      "  :: Thread 19 from 180,918 to 190,440 took 0.011 s\n",
      "  :: Thread 27 from 257,094 to 266,616 took 0.011 s\n",
      "  :: Thread 18 from 171,396 to 180,918 took 0.011 s\n",
      "  :: Thread 23 from 219,006 to 228,528 took 0.012 s\n",
      "  :: Thread 17 from 161,874 to 171,396 took 0.012 s\n",
      "  :: Thread 16 from 152,352 to 161,874 took 0.013 s\n",
      "  :: Thread 15 from 142,830 to 152,352 took 0.012 s\n",
      "::: Correcting done in 0.038 s\n",
      ":: Stats: no change: 12,800,423 \n",
      "         no barcode: 331,327 \n",
      "       H1-corrected: 0 \n",
      "       H2-corrected: 0 \n",
      ":: Corrected map size: 0 (~ 0 MB)\n",
      ":: Correcting barcodes ... done in 0.1 s\n",
      ":: File assignment ... done in 0.1 s\n",
      ":: [==================================================] 13,131,750 out of 13,131,750 (100.00%)\n",
      "Writing barcodes ... done in 52.9 s\n"
     ]
    }
   ],
   "source": [
    "## EMA Preprocessing\n",
    "echo \"Running EMA preproc\"\n",
    "paste <(pigz -c -d ${read1/.fastq/.16BCgen.fastq} | paste - - - - | awk '{print $1\"\\t\"$5\"\\t\"$6\"\\t\"$7}') <(pigz -c -d ${read2/.fastq/.16BCgen.fastq} | paste - - - - | awk '{print $1\"\\t\"$5\"\\t\"$6\"\\t\"$7}' ) |\\\n",
    "tr \"\\t\" \"\\n\" |\\\n",
    "ema preproc -w ${samp_id}_HaploTag_to_16BaseBCs.ema -n 500 -t 40 -o ${samp_id}_ema-bin ${samp_id}.16BCgen.ema-ncnt 2>&1 |\\\n",
    "tee ${samp_id}_preproc.log"
   ]
  },
  {
   "cell_type": "markdown",
   "id": "ce6c11de-ab84-43bf-9ddb-2b94d7ab3679",
   "metadata": {},
   "source": [
    "### EMA Alignment"
   ]
  },
  {
   "cell_type": "markdown",
   "id": "4ed93ebc-72dc-4611-bded-cddf34501366",
   "metadata": {},
   "source": [
    "*EMA alignnment checked only on 10 bins and BWA alignment on reads with bad barcodes*"
   ]
  },
  {
   "cell_type": "code",
   "execution_count": 40,
   "id": "ce4d3775-64f4-4f9e-9bcf-fbb1905c6447",
   "metadata": {
    "collapsed": true,
    "jupyter": {
     "outputs_hidden": true
    },
    "tags": []
   },
   "outputs": [
    {
     "name": "stdout",
     "output_type": "stream",
     "text": [
      "Running EMA on all ema-bin files\n",
      "\u001b[7m\u001b[0m0% 0:10=0s pa1499_ema-bin/ema-bin-009                                           \u001b[0mBWA initialization...\n",
      "[M::bwa_idx_load_from_disk] read 0 ALT contigs\n",
      "Processing reads...\n",
      "[bam_sort_core] merging from 0 files and 4 in-memory blocks...\n",
      "\u001b[7m10% 1:9=\u001b[0m12s pa1499_ema-bin/ema-bin-009                                          \u001b[0mBWA initialization...\n",
      "[M::bwa_idx_load_from_disk] read 0 ALT contigs\n",
      "Processing reads...\n",
      "[bam_sort_core] merging from 0 files and 4 in-memory blocks...\n",
      "\u001b[7m20% 2:8=11s pa14\u001b[0m99_ema-bin/ema-bin-009                                          \u001b[0mBWA initialization...\n",
      "[M::bwa_idx_load_from_disk] read 0 ALT contigs\n",
      "Processing reads...\n",
      "[bam_sort_core] merging from 0 files and 4 in-memory blocks...\n",
      "\u001b[7m30% 3:7=9s pa1499_ema-bi\u001b[0mn/ema-bin-009                                           \u001b[0mBWA initialization...\n",
      "[M::bwa_idx_load_from_disk] read 0 ALT contigs\n",
      "Processing reads...\n",
      "[bam_sort_core] merging from 0 files and 4 in-memory blocks...\n",
      "\u001b[7m40% 4:6=14s pa1499_ema-bin/ema-b\u001b[0min-009                                          \u001b[0mBWA initialization...\n",
      "[M::bwa_idx_load_from_disk] read 0 ALT contigs\n",
      "Processing reads...\n",
      "[bam_sort_core] merging from 0 files and 4 in-memory blocks...\n",
      "\u001b[7m50% 5:5=11s pa1499_ema-bin/ema-bin-009  \u001b[0m                                        \u001b[0mBWA initialization...\n",
      "[M::bwa_idx_load_from_disk] read 0 ALT contigs\n",
      "Processing reads...\n",
      "[bam_sort_core] merging from 0 files and 4 in-memory blocks...\n",
      "\u001b[7m60% 6:4=9s pa1499_ema-bin/ema-bin-009           \u001b[0m                                \u001b[0mBWA initialization...\n",
      "[M::bwa_idx_load_from_disk] read 0 ALT contigs\n",
      "Processing reads...\n",
      "[bam_sort_core] merging from 0 files and 4 in-memory blocks...\n",
      "\u001b[7m70% 7:3=6s pa1499_ema-bin/ema-bin-009                   \u001b[0m                        \u001b[0mBWA initialization...\n",
      "[M::bwa_idx_load_from_disk] read 0 ALT contigs\n",
      "Processing reads...\n",
      "[bam_sort_core] merging from 0 files and 4 in-memory blocks...\n",
      "\u001b[7m80% 8:2=3s pa1499_ema-bin/ema-bin-009                           \u001b[0m                \u001b[0mBWA initialization...\n",
      "[M::bwa_idx_load_from_disk] read 0 ALT contigs\n",
      "Processing reads...\n",
      "[bam_sort_core] merging from 0 files and 4 in-memory blocks...\n",
      "\u001b[7m90% 9:1=1s pa1499_ema-bin/ema-bin-009                                   \u001b[0m        \u001b[0mBWA initialization...\n",
      "[M::bwa_idx_load_from_disk] read 0 ALT contigs\n",
      "Processing reads...\n",
      "[bam_sort_core] merging from 0 files and 4 in-memory blocks...\n",
      "\u001b[7m100% 10:0=0s pa1499_ema-bin/ema-bin-009                                         \u001b[0m\u001b[0m\n",
      "Running BWA for non-BC file and sort them\n",
      "[M::bwa_idx_load_from_disk] read 0 ALT contigs\n",
      "[M::process] read 662654 sequences (82218382 bp)...\n",
      "[M::process] 0 single-end sequences; 662654 paired-end sequences\n",
      "[M::mem_pestat] # candidate unique pairs for (FF, FR, RF, RR): (13, 119348, 40, 3)\n",
      "[M::mem_pestat] analyzing insert size distribution for orientation FF...\n",
      "[M::mem_pestat] (25, 50, 75) percentile: (104, 112, 983)\n",
      "[M::mem_pestat] low and high boundaries for computing mean and std.dev: (1, 2741)\n",
      "[M::mem_pestat] mean and std.dev: (372.00, 358.16)\n",
      "[M::mem_pestat] low and high boundaries for proper pairs: (1, 3620)\n",
      "[M::mem_pestat] analyzing insert size distribution for orientation FR...\n",
      "[M::mem_pestat] (25, 50, 75) percentile: (120, 177, 265)\n",
      "[M::mem_pestat] low and high boundaries for computing mean and std.dev: (1, 555)\n",
      "[M::mem_pestat] mean and std.dev: (197.82, 107.67)\n",
      "[M::mem_pestat] low and high boundaries for proper pairs: (1, 700)\n",
      "[M::mem_pestat] analyzing insert size distribution for orientation RF...\n",
      "[M::mem_pestat] (25, 50, 75) percentile: (423, 1312, 4689)\n",
      "[M::mem_pestat] low and high boundaries for computing mean and std.dev: (1, 13221)\n",
      "[M::mem_pestat] mean and std.dev: (2551.25, 2595.22)\n",
      "[M::mem_pestat] low and high boundaries for proper pairs: (1, 17487)\n",
      "[M::mem_pestat] skip orientation RR as there are not enough pairs\n",
      "[M::mem_pestat] skip orientation FF\n",
      "[M::mem_pestat] skip orientation RF\n",
      "[M::mem_process_seqs] Processed 662654 reads in 553.699 CPU sec, 36.218 real sec\n",
      "[main] Version: 0.7.17-r1198-dirty\n",
      "[main] CMD: bwa mem -p -t 40 -M -R @RG\\tID:pa1499\\tSM:10xNEW-Plate10-1_Am_Pla_pa1499_v3.5\\tLB:Snapdragon-Haplo_10xNEW-Plate10 /nfs/scistore18/bartogrp/apal/snap_hap/ref_genome/v3.5/Amajus_v3.5.fa pa1499_ema-bin/ema-nobc\n",
      "[main] Real time: 37.857 sec; CPU: 554.689 sec\n",
      "[bam_sort_core] merging from 0 files and 4 in-memory blocks...\n",
      "Marking duplicates in BWA alignment\n",
      "\n",
      "sambamba 0.8.2\n",
      " by Artem Tarasov and Pjotr Prins (C) 2012-2021\n",
      "    LDC 1.27.1 / DMD v2.097.2 / LLVM11.0.0 / bootstrap LDC - the LLVM D compiler (1.27.1)\n",
      "\n",
      "finding positions of the duplicate reads in the file...\n",
      "[==============================================================================]\n",
      "  sorted 268068 end pairs\n",
      "     and 25131 single ends (among them 0 unmatched pairs)\n",
      "  collecting indices of duplicate reads...   done in 36 ms\n",
      "  found 79083 duplicates\n",
      "collected list of positions in 0 min 0 sec\n",
      "marking duplicates...\n",
      "[==============================================================================]\n",
      "collected list of positions in 0 min 1 sec\n"
     ]
    }
   ],
   "source": [
    "## EMA Align (sequentially or parallel)\n",
    "echo \"Running EMA on all ema-bin files\"\n",
    "# for file in ${samp_id}_ema-bin/ema-bin-???; \n",
    "# do echo \"Processing $file\"; ema align -t 4 -d -r $ref_genome -R $read_group -p 10x -s $file | samtools sort -@ 4 -O bam -l 0 -m 4G -o ${file}.sorted.bam;\n",
    "# done\n",
    "parallel --bar -j10 \\\n",
    "   \"ema align -t 4 -d -r $ref_genome -p 10x -s {} | \\\n",
    "   samtools sort -@ 4 -O bam -l 0 -m 4G -o {}.sorted.bam - \" ::: ${samp_id}_ema-bin/ema-bin-00?\n",
    "\n",
    "## BWA align for non-BC reads\n",
    "echo \"Running BWA for non-BC file and sort them\"\n",
    "bwa mem -p -t 40 -M -R $read_group $ref_genome ${samp_id}_ema-bin/ema-nobc | samtools sort -@ 4 -O bam -l 0 -m 4G -o ${samp_id}_ema-bin/ema-nobc.sorted.bam\n",
    "\n",
    "## Mark duplicates in BWA alignment \n",
    "echo \"Marking duplicates in BWA alignment\"\n",
    "sambamba markdup -t 40 -p -l 0 ${samp_id}_ema-bin/ema-nobc.sorted.bam ${samp_id}_ema-bin/ema-nobc-pMarkedup.sorted.bam\n",
    "rm ${samp_id}_ema-bin/ema-nobc.sorted.bam"
   ]
  },
  {
   "cell_type": "markdown",
   "id": "6dedc2a0-f6f6-4236-87f4-01ee29975bf2",
   "metadata": {},
   "source": [
    "### EMA Postprocessing"
   ]
  },
  {
   "cell_type": "code",
   "execution_count": 41,
   "id": "d822348f-7425-47f7-800e-dc3c011f008f",
   "metadata": {
    "tags": []
   },
   "outputs": [
    {
     "name": "stdout",
     "output_type": "stream",
     "text": [
      "Merging all BAM files\n",
      "\n",
      "sambamba 0.8.2\n",
      " by Artem Tarasov and Pjotr Prins (C) 2012-2021\n",
      "    LDC 1.27.1 / DMD v2.097.2 / LLVM11.0.0 / bootstrap LDC - the LLVM D compiler (1.27.1)\n",
      "\n",
      "[==============================================================================]\n",
      "Reconverting 16 base barcodes to haplotag barcodes\n",
      "Indexing BAM file\n",
      "Moving BAM file (sorted, indexed) to final directory: /nfs/scistore18/bartogrp/apal/snap_hap/bams/v3.5/ema_align/10xNEW-Plate10\n"
     ]
    }
   ],
   "source": [
    "## Merging all bam files\n",
    "echo \"Merging all BAM files\"\n",
    "sambamba merge -t 40 -p $prefix.sorted.bam ${samp_id}_ema-bin/*.bam\n",
    "\n",
    "## Change barcodes from base-pairs to AxxBxxCxxDxx\n",
    "echo \"Reconverting 16 base barcodes to haplotag barcodes\"\n",
    "samtools view -h $prefix.sorted.bam |\\\n",
    "awk 'BEGIN {split(\"AAAT,AAAG,AAAC,AATA,AATT,AATG,AATC,AAGA,AAGT,AAGG,AAGC,AACA,AACT,AACG,AACC,ATAA,ATAT,ATAG,ATAC,ATTA,ATTT,ATTG,ATTC,ATGA,ATGT,ATGG,ATGC,ATCA,ATCT,ATCG,ATCC,AGAA,AGAT,AGAG,AGAC,AGTA,AGTT,AGTG,AGTC,AGGA,AGGT,AGGG,AGGC,AGCA,AGCT,AGCG,AGCC,ACAA,ACAT,ACAG,ACAC,ACTA,ACTT,ACTG,ACTC,ACGA,ACGT,ACGG,ACGC,ACCA,ACCT,ACCG,ACCC,TAAA,TAAT,TAAG,TAAC,TATA,TATT,TATG,TATC,TAGA,TAGT,TAGG,TAGC,TACA,TACT,TACG,TACC,TTAA,TTAT,TTAG,TTAC,TTTA,TTTT,TTTG,TTTC,TTGA,TTGT,TTGG,TTGC,TTCA,TTCT,TTCG,TTCC,TGAA\",val,\",\"); \\\n",
    "for(i=1;i<=96;i++){lookup[val[i]]=sprintf(\"%02d\",i)}};/BX:Z:/ {match($0,\"BX:Z\");bx=substr($0,RSTART,23);out=\"BX:Z:A\"lookup[substr(bx,6,4)]\"C\"lookup[substr(bx,10,4)]\"B\"lookup[substr(bx,14,4)]\"D\"lookup[substr(bx,18,4)]substr(bx,22,2);gsub(bx,out,$0);print $0}; !/BX:Z/' |\\\n",
    "samtools view -@ 4 - -O BAM -o $prefix.sorted.BXnum.bam\n",
    "\n",
    "## Index BAM file\n",
    "echo \"Indexing BAM file\"\n",
    "samtools index -@ 4 $prefix.sorted.BXnum.bam\n",
    "\n",
    "## Move final BAM and BAI file to output dir\n",
    "echo \"Moving BAM file (sorted, indexed) to final directory: $ema_align\"\n",
    "mv $prefix.sorted.BXnum.bam* $ema_align/"
   ]
  },
  {
   "cell_type": "code",
   "execution_count": 44,
   "id": "f193d747-ae3e-4185-bd8a-7e2babe2868f",
   "metadata": {
    "tags": []
   },
   "outputs": [
    {
     "name": "stdout",
     "output_type": "stream",
     "text": [
      "total 1.2G\n",
      "-rw-r--r-- 1 apal bartogrp   96M Jul  3 12:57 10xNEW-Plate10-1_Am_Pla_pa1499_v3.5.sorted.bam\n",
      "-rw-r--r-- 1 apal bartogrp 1023K Jul  3 12:57 10xNEW-Plate10-1_Am_Pla_pa1499_v3.5.sorted.bam.bai\n",
      "-rw-r--r-- 1 apal bartogrp  8.8M Jul  3 12:53 pa1499.16BCgen.ema-fcnt\n",
      "-rw-r--r-- 1 apal bartogrp  4.4M Jul  3 12:53 pa1499.16BCgen.ema-ncnt\n",
      "-rw-r--r-- 1 apal bartogrp   227 Jul  3 12:53 pa1499.16BCgen.log\n",
      "drwxr-xr-x 2 apal bartogrp   515 Jul  3 12:56 pa1499_ema-bin\n",
      "-rw------- 1 apal bartogrp   11M Jul  3 12:51 pa1499_HaploTag_to_16BaseBCs\n",
      "-rw-r--r-- 1 apal bartogrp  6.2M Jul  3 12:51 pa1499_HaploTag_to_16BaseBCs.ema\n",
      "-rw-r--r-- 1 apal bartogrp  3.6K Jul  3 12:54 pa1499_preproc.log\n",
      "-rw-r--r-- 1 apal bartogrp  1.2G Jul  3 12:51 pa1499_R1_001.cutadapt.16BCgen.fastq.gz\n",
      "lrwxrwxrwx 1 apal bartogrp   105 Jul  3 12:45 pa1499_R1_001.cutadapt.fastq.gz -> /nfs/scistore18/bartogrp/apal/snap_hap/fastq/haplotag_10xNEW_2023/Plate10/pa1499_R1_001.cutadapt.fastq.gz\n",
      "lrwxrwxrwx 1 apal bartogrp   105 Jul  3 12:51 pa1499_R2_001.cutadapt.16BCgen.fastq.gz -> /nfs/scistore18/bartogrp/apal/snap_hap/fastq/haplotag_10xNEW_2023/Plate10/pa1499_R2_001.cutadapt.fastq.gz\n",
      "lrwxrwxrwx 1 apal bartogrp   105 Jul  3 12:45 pa1499_R2_001.cutadapt.fastq.gz -> /nfs/scistore18/bartogrp/apal/snap_hap/fastq/haplotag_10xNEW_2023/Plate10/pa1499_R2_001.cutadapt.fastq.gz\n"
     ]
    }
   ],
   "source": [
    "ls -hl $ema_dir/*"
   ]
  },
  {
   "cell_type": "code",
   "execution_count": 45,
   "id": "9fb1e4b2-c5b9-4e39-b61e-2f131f3a12ef",
   "metadata": {
    "tags": []
   },
   "outputs": [
    {
     "name": "stdout",
     "output_type": "stream",
     "text": [
      "total 88M\n",
      "-rw-r--r-- 1 apal bartogrp  96M Jul  3 12:57 10xNEW-Plate10-1_Am_Pla_pa1499_v3.5.sorted.BXnum.bam\n",
      "-rw-r--r-- 1 apal bartogrp 624K Jul  3 12:57 10xNEW-Plate10-1_Am_Pla_pa1499_v3.5.sorted.BXnum.bam.bai\n"
     ]
    }
   ],
   "source": [
    "ls -hl $ema_align"
   ]
  },
  {
   "cell_type": "markdown",
   "id": "4551abe6-749d-4ab6-bf29-02b0a10a9de6",
   "metadata": {},
   "source": [
    "# Running EMA on the cluster"
   ]
  },
  {
   "cell_type": "code",
   "execution_count": 56,
   "id": "fa3a0bda-9af4-44e5-bcbd-a9ec069e42ee",
   "metadata": {
    "tags": []
   },
   "outputs": [
    {
     "name": "stdout",
     "output_type": "stream",
     "text": [
      "10x\t\t2xE-N702e  2xE-N708e  2x-N703  2x-N709\t   n96_misc\n",
      "10xE\t\t2xE-N703e  2xE-N709e  2x-N704  2x-N710\t   n96_Pla\n",
      "10x_merged\t2xE-N704e  2xE-N710e  2x-N705  60x\t   n96_reheader\n",
      "10xNEW-Plate10\t2xE-N705e  2x_merged  2x-N706  60xE\t   TRIO\n",
      "10xNEW-Plate9\t2xE-N706e  2x-N701    2x-N707  60x_merged  TRIO_reheader\n",
      "2xE-N701e\t2xE-N707e  2x-N702    2x-N708  n96_Ave\n"
     ]
    }
   ],
   "source": [
    "cd /nfs/scistore18/bartogrp/apal/snap_hap/bams/v3.5/jobs\n",
    "ls"
   ]
  },
  {
   "cell_type": "code",
   "execution_count": 55,
   "id": "3b0128f3-9315-4a9d-b424-211e18d66413",
   "metadata": {
    "tags": []
   },
   "outputs": [],
   "source": [
    "## Plate9\n",
    "\n",
    "# if [ ! -d 10xNEW-Plate9 ]; then mkdir -p 10xNEW-Plate9 && cd $_; else cd 10xNEW-Plate9; fi\n",
    "\n",
    "# sbatch --array=1-64 ~/snap_hap/_scripts/sbatch/readAlign/job-EMA.sbatch \\\n",
    "#     ~/snap_hap/fastq/haplotag_10xNEW_2023/Plate9/samples_10xNEW_Plate9.txt \\\n",
    "#     ~/snap_hap/fastq/haplotag_10xNEW_2023/Plate9 \\\n",
    "#     10xNEW-Plate9 \\\n",
    "#     Pla \\\n",
    "#     Am \\\n",
    "#     ~/snap_hap/ref_genome/v3.5/Amajus_v3.5.fa \\\n",
    "#     v3.5"
   ]
  },
  {
   "cell_type": "code",
   "execution_count": 1,
   "id": "cdf3085c-43c8-4cd8-a688-745894c32378",
   "metadata": {
    "tags": []
   },
   "outputs": [],
   "source": [
    "## Plate10\n",
    "\n",
    "# if [ ! -d 10xNEW-Plate10 ]; then mkdir -p 10xNEW-Plate10 && cd $_; else cd 10xNEW-Plate10; fi\n",
    "\n",
    "# sbatch --array=1-96 ~/snap_hap/_scripts/sbatch/readAlign/job-EMA.sbatch \\\n",
    "#     ~/snap_hap/fastq/haplotag_10xNEW_2023/Plate10/samples_10xNEW_Plate10.txt \\\n",
    "#     ~/snap_hap/fastq/haplotag_10xNEW_2023/Plate10 \\\n",
    "#     10xNEW-Plate10 \\\n",
    "#     Pla \\\n",
    "#     Am \\\n",
    "#     ~/snap_hap/ref_genome/v3.5/Amajus_v3.5.fa \\\n",
    "#     v3.5"
   ]
  },
  {
   "cell_type": "markdown",
   "id": "ae0b1128-9af7-41ee-bc65-5768267d5eda",
   "metadata": {},
   "source": [
    "**NB:** In the *.sbatch* file, make sure to match the no. of requested CPUs `--cpus-per-task` and `parallel -j`.\n",
    "\n",
    "Sometimes, the SLURM job crashes due to lack of memory space, `#SBATCH --cpus-per-task=10 --mem-per-cpu=4G` is definitely too low. And, `#SBATCH --cpus-per-task=2 --mem-per-cpu=32G` is inefficient. For the current code, it is probably best to use: `#SBATCH --cpus-per-task=5 --mem-per-cpu=32G`\n",
    "In case of just changing the haplotag barcodes, use `#SBATCH --cpus-per-task=1 --mem-per-cpu=64G`.\n",
    "\n",
    "**In future, compartmentalise the tasks into separate jobs, e.g., preprocessing, EMA-mapping, postprocessing  for better execution with different computing needs!**"
   ]
  }
 ],
 "metadata": {
  "kernelspec": {
   "display_name": "Bash",
   "language": "bash",
   "name": "bash"
  },
  "language_info": {
   "codemirror_mode": "shell",
   "file_extension": ".sh",
   "mimetype": "text/x-sh",
   "name": "bash"
  }
 },
 "nbformat": 4,
 "nbformat_minor": 5
}
