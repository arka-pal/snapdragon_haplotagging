{
 "cells": [
  {
   "cell_type": "markdown",
   "id": "2910f1db-b968-4052-9a0f-1f9b907a9c2c",
   "metadata": {},
   "source": [
    "# Marker positions for STITCH validation against KASP genotypes"
   ]
  },
  {
   "cell_type": "markdown",
   "id": "83a33c28-2398-4b30-94da-7a2fb8156a80",
   "metadata": {},
   "source": [
    "The REF/ALT coords match with each other, and have been manually checked!"
   ]
  },
  {
   "cell_type": "code",
   "execution_count": 1,
   "id": "12c47c61-a5fe-4271-bd14-d7ad35f7d352",
   "metadata": {},
   "outputs": [],
   "source": [
    "## Load modules\n",
    "module load bcftools"
   ]
  },
  {
   "cell_type": "code",
   "execution_count": 2,
   "id": "705aa9b0-5413-431e-be5f-0ba87f922578",
   "metadata": {},
   "outputs": [
    {
     "name": "stdout",
     "output_type": "stream",
     "text": [
      "LocusName\tCHROM\tPOS\tREF\tALT\n",
      "s1187_290152\tChr1\t955185\tC\tA\n",
      "s1135_562200\tChr1\t45535107\tC\tA\n",
      "s816_1076784\tChr1\t47381180\tC\tA\n",
      "s1367_16317\tChr1\t51252783\tA\tC\n",
      "s36_910340\tChr1\t60537705\tT\tC\n",
      "s1668_18672\tChr1\t71126303\tT\tG\n",
      "s720_870524\tChr2\t55473945\tA\tG\n",
      "s148_425797\tChr2\t58751341\tA\tG\n",
      "s1056_246800\tChr3\t1055959\tT\tA\n",
      "s930_115738\tChr3\t3488331\tC\tT\n",
      "s235_82833\tChr3\t44197469\tG\tC\n",
      "s85_398904\tChr4\t7115521\tT\tG\n",
      "s91_122561\tChr4\t38397179\tT\tA\n",
      "s481_103209\tChr4\t44460308\tA\tG\n",
      "s2786_119740\tChr4\t50972302\tG\tA\n",
      "s112_351672\tChr6\t15125731\tA\tT\n",
      "s248_368997\tChr6\t32503688\tA\tG\n",
      "ros_assembly_575837\tChr6\t52921613\tC\tG\n",
      "ros_assembly_576271\tChr6\t52922047\tG\tT\n",
      "ros_assembly_620992\tChr6\t52966811\tT\tA\n",
      "ros_assembly_653015\tChr6\t52999112\tC\tT\n",
      "ros_assembly_670530\tChr6\t53016551\tC\tG\n",
      "ros_assembly_715001\tChr6\t53061080\tA\tG\n",
      "ros_assembly_737420\tChr6\t53083229\tG\tA\n",
      "ros_assembly_744403\tChr6\t53090212\tT\tC\n",
      "ros_assembly_748981\tChr6\t53094790\tC\tA\n",
      "ros_assembly_758578\tChr6\t53104387\tA\tC\n",
      "ros_assembly_849332\tChr6\t53195127\tC\tT\n",
      "s1195_856423\tChr6\t53944185\tG\tA\n",
      "s121_351821\tChr7\t49828363\tT\tA\n",
      "s338_787544\tChr8\t27807304\tT\tG\n",
      "s55_222383\tChr8\t31864104\tC\tG\n",
      "s445_464618\tChr8\t38142268\tC\tG\n",
      "s320_60828\tChr8\t44933278\tC\tT\n",
      "s866_450394\tChr8\t53715058\tC\tT\n"
     ]
    }
   ],
   "source": [
    "## KASP markers\n",
    "coords=~/snap_hap/impute/stitch_tests/coords/coords_for_stitch_longVersion_corrected_200kb.txt \n",
    "cat <(cut -f2,4,8-10 $coords)"
   ]
  },
  {
   "cell_type": "code",
   "execution_count": 3,
   "id": "a5bbe2a8-a07f-40a1-a8b0-3689b9db742a",
   "metadata": {},
   "outputs": [
    {
     "name": "stdout",
     "output_type": "stream",
     "text": [
      "Chr1\t955185\tC\tA\n",
      "Chr1\t45535107\tC\tA\n",
      "Chr1\t47381180\tC\tA\n",
      "Chr1\t51252783\tA\tC\n",
      "Chr1\t60537705\tT\tC\n",
      "Chr1\t71126303\tT\tG\n",
      "Chr2\t55473945\tA\tG\n",
      "Chr2\t58751341\tA\tG\n",
      "Chr3\t1055959\tT\tA\n",
      "Chr3\t3488331\tC\tT\n",
      "Chr3\t44197469\tG\tC\n",
      "Chr4\t7115521\tT\tG\n",
      "Chr4\t38397179\tT\tA\n",
      "Chr4\t44460308\tA\tG\n",
      "Chr4\t50972302\tG\tA\n",
      "Chr6\t15125731\tA\tT\n",
      "Chr6\t32503688\tA\tG\n",
      "Chr6\t52921613\tC\tG\n",
      "Chr6\t52922047\tG\tT\n",
      "Chr6\t52966811\tT\tA\n",
      "Chr6\t52999112\tC\tT\n",
      "Chr6\t53016551\tC\tG\n",
      "Chr6\t53061080\tA\tG\n",
      "Chr6\t53083229\tG\tA\n",
      "Chr6\t53090212\tT\tC\n",
      "Chr6\t53094790\tC\tA\n",
      "Chr6\t53104387\tA\tC\n",
      "Chr6\t53195127\tC\tT\n",
      "Chr6\t53944185\tG\tA\n",
      "Chr7\t49828363\tT\tA\n",
      "Chr8\t27807304\tT\tG\n",
      "Chr8\t31864104\tC\tG\n",
      "Chr8\t38142268\tC\tG\n",
      "Chr8\t44933278\tC\tT\n",
      "Chr8\t53715058\tC\tT\n"
     ]
    }
   ],
   "source": [
    "for chrom in Chr{1..8}\n",
    "do\n",
    "    bcftools view -H -R <(cut -f4,8 $coords | tail +2) ~/snap_hap/variants/vcf_bcftools_Am_all/$chrom/*DP_500*.vcf.gz | cut -f1-2,4-5\n",
    "done"
   ]
  }
 ],
 "metadata": {
  "kernelspec": {
   "display_name": "Bash",
   "language": "bash",
   "name": "bash"
  },
  "language_info": {
   "codemirror_mode": "shell",
   "file_extension": ".sh",
   "mimetype": "text/x-sh",
   "name": "bash"
  }
 },
 "nbformat": 4,
 "nbformat_minor": 5
}
