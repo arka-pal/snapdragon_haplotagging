{
 "cells": [
  {
   "cell_type": "markdown",
   "id": "8133c442-8f51-4ea9-8ad2-a5c064cb69c8",
   "metadata": {},
   "source": [
    "# HapCUT2 phasing validation\n",
    "  \n",
    "**Date:** 2023-Sep-26  \n",
    "**last update:** 2023-Oct-03"
   ]
  },
  {
   "cell_type": "code",
   "execution_count": 1,
   "id": "40427103-1381-43cd-9adf-a631215ef454",
   "metadata": {},
   "outputs": [
    {
     "name": "stdout",
     "output_type": "stream",
     "text": [
      "\n",
      "Currently Loaded Modules:\n",
      "  1) git/2.35.1         6) rstudio/2023.06.1-524      11) GSL/2.7\n",
      "  2) java/17            7) nodejs/18.16.1        (T)  12) perl/5.36.0\n",
      "  3) texlive/20211108   8) julia/1.9.0                13) bcftools/1.18\n",
      "  4) hdf5/1.13.1        9) proj/8.1.1                 14) htslib/1.18\n",
      "  5) R/4.3.0           10) JupyterPython/2.0     (T)  15) samtools/1.18\n",
      "\n",
      "  Where:\n",
      "   T:  Testing\n",
      "\n",
      " \n",
      "\n"
     ]
    }
   ],
   "source": [
    "module load htslib/1.18 bcftools/1.18 samtools/1.18\n",
    "unset $PYTHONPATH\n",
    "export PYTHONPATH=$PYTHONPATH:~/.local/lib/python3.9/site-packages\n",
    "export PATH=$PATH:~/_softwares/HapCUT2/build\n",
    "export PATH=$PATH:~/_softwares/HapCUT2/utilities\n",
    "\n",
    "module list"
   ]
  },
  {
   "cell_type": "markdown",
   "id": "343390e0-9328-4ab4-bb9a-71a0ddcb9bb1",
   "metadata": {},
   "source": [
    "[HapCUT2](https://github.com/vibansal/HapCUT2/tree/master#readme) is for diploid organisms only and can assemble haplotypes for one individual at a time. VCF input should contain variants and genotypes for a single diploid individual."
   ]
  },
  {
   "cell_type": "markdown",
   "id": "7b9acb58-e2ce-4ce5-91ce-d6fe00dd1799",
   "metadata": {
    "jp-MarkdownHeadingCollapsed": true
   },
   "source": [
    "## Molphase Test: 1 sample – 2x-N703-94_Am_Pla_pb0295_v3.5"
   ]
  },
  {
   "cell_type": "markdown",
   "id": "5ac55c3a-e01a-4cc2-92a3-2fd254cae07a",
   "metadata": {
    "jp-MarkdownHeadingCollapsed": true
   },
   "source": [
    "### Initiate variables"
   ]
  },
  {
   "cell_type": "code",
   "execution_count": 2,
   "id": "6f54a628-f12c-4326-bfd5-7b774d924136",
   "metadata": {},
   "outputs": [
    {
     "name": "stdout",
     "output_type": "stream",
     "text": [
      "sampleDIR: /nfs/scistore18/bartogrp/apal/snap_hap/variants/molphase/validation/cov-Low5x_Chr6_2x-N703-94_Am_Pla_pb0295_v3.5\n",
      "chrom: Chr6\n",
      "sample: 2x-N703-94_Am_Pla_pb0295_v3.5\n",
      "coverage: Low5x\n",
      "BAM: /nfs/scistore18/bartogrp/apal/snap_hap/bams/v3.5/bams_merged_2023/2x-N703-94_Am_Pla_pb0295_v3.5.sorted.BXnum.merged.bam\n",
      "VCF: /nfs/scistore18/bartogrp/apal/snap_hap/variants/stitch/Chr6/Am_all_stitch_Chr6_SnpGap5_biSNPs_filtered-DP_500-7732_QUAL20_MQ30.PL.vcf.gz\n",
      "sample HET VCF: cov_Low5x_Chr6_2x-N703-94_Am_Pla_pb0295_v3.5\n",
      "hapcut2 output: cov_Low5x-Chr6_2x-N703-94_Am_Pla_pb0295_v3.5_thres30.hapcut2.output\n"
     ]
    }
   ],
   "source": [
    "baseDIR=/nfs/scistore18/bartogrp/apal/snap_hap/variants/molphase/validation\n",
    "chrom=Chr6\n",
    "sampleList=~/snap_hap/variants/molphase/validation/phaseVal_samples.list\n",
    "bamList=~/snap_hap/sample_info/bam_info/bams_Am_all.txt\n",
    "vcf=~/snap_hap/variants/stitch/Chr6/Am_all_stitch_Chr6_SnpGap5_biSNPs_filtered-DP_500-7732_QUAL20_MQ30.PL.vcf.gz\n",
    "threshold=30\n",
    "SLURM_ARRAY_TASK_ID=1\n",
    "\n",
    "# sample=2x-N703-94_Am_Pla_pb0295_v3.5\n",
    "# bam=~/snap_hap/bams/v3.5/bams_merged_2023/2x-N703-94_Am_Pla_pb0295_v3.5.sorted.BXnum.merged.bam\n",
    "\n",
    "sample=$(tail +2 $sampleList | cut -f1 | sed -n \"${SLURM_ARRAY_TASK_ID}p\")\n",
    "bam=$(cat $bamList | grep $sample)\n",
    "coverage=$(tail +2 $sampleList | cut -f2 | sed -n \"${SLURM_ARRAY_TASK_ID}p\")\n",
    "if [ ! -d $baseDIR/cov-${coverage}_${chrom}_${sample} ]; then mkdir -p $baseDIR/cov-${coverage}_${chrom}_${sample}; fi\n",
    "sampleDIR=$baseDIR/cov-${coverage}_${chrom}_${sample}\n",
    "\n",
    "sampleHetVCF=cov_${coverage}_${chrom}_${sample}\n",
    "sampleHomVCF=cov_${coverage}_${chrom}_${sample}\n",
    "\n",
    "unLinkedFragments=cov-${coverage}_${chrom}_${sample}\n",
    "LinkedFragments=cov-${coverage}_${chrom}_${sample}\n",
    "outPhased=cov_${coverage}-${chrom}_${sample}_thres$threshold.hapcut2.output\n",
    "\n",
    "echo sampleDIR: $sampleDIR\n",
    "echo chrom: $chrom\n",
    "echo sample: $sample\n",
    "echo coverage: $coverage\n",
    "echo BAM: $bam\n",
    "echo VCF: $vcf\n",
    "echo sample HET VCF: $sampleHetVCF\n",
    "echo hapcut2 output: $outPhased"
   ]
  },
  {
   "cell_type": "markdown",
   "id": "881b88fb-3b18-47e8-bcd2-289538debdfc",
   "metadata": {},
   "source": [
    "### Preprocessing "
   ]
  },
  {
   "cell_type": "code",
   "execution_count": 33,
   "id": "3286f152-8d97-441c-9b64-544f74a7b907",
   "metadata": {
    "collapsed": true,
    "jupyter": {
     "outputs_hidden": true,
     "source_hidden": true
    }
   },
   "outputs": [
    {
     "name": "stdout",
     "output_type": "stream",
     "text": [
      "\n",
      "real\t3m59.703s\n",
      "user\t3m54.586s\n",
      "sys\t0m6.633s\n",
      "\n",
      "real\t3m47.957s\n",
      "user\t3m48.545s\n",
      "sys\t0m1.471s\n"
     ]
    }
   ],
   "source": [
    "# Extract sample VCF in truncated region – Chr6:1-10000000\n",
    "cd $sampleDIR\n",
    "#time bcftools view -s $sample -r Chr6:1-10000000 $vcf | bcftools view -i \"AC=1\" -Ov -o ${sampleHetVCF}_method1.het.vcf\n",
    "#time bcftools view -s $sample -r Chr6:1-10000000 $vcf | awk '/^#/;/Chr/ {OFS=\"\\t\"}; !/^#/ && $10~/^0\\/1/' > ${sampleHetVCF}_method2.het.vcf} "
   ]
  },
  {
   "cell_type": "code",
   "execution_count": 3,
   "id": "ba3af740-23bf-4257-88ce-c249391b9f20",
   "metadata": {},
   "outputs": [
    {
     "name": "stdout",
     "output_type": "stream",
     "text": [
      "\n",
      "real\t0m0.631s\n",
      "user\t0m0.607s\n",
      "sys\t0m0.044s\n"
     ]
    }
   ],
   "source": [
    "cd $sampleDIR\n",
    "time bcftools view -s $sample -r Chr6:1-100000 $vcf | awk '/^#/;/Chr/ {OFS=\"\\t\"}; !/^#/ && $10~/^0\\/1/' > ${sampleHetVCF}.het.vcf"
   ]
  },
  {
   "cell_type": "code",
   "execution_count": 4,
   "id": "27e87f5f-3d57-4695-8543-74529984f6a2",
   "metadata": {},
   "outputs": [
    {
     "name": "stdout",
     "output_type": "stream",
     "text": [
      "205\n",
      "Chr6\t11703\tG\tC\tEAF=0.39067;INFO_SCORE=0.37028;HWE=1.2e-21;ERC=1931.52;EAC=2933.95;PAF=0.39699;AC=1;AN=2\tGT:PG:GP:DS:PL\t0/1:./.:0.38,0.478,0.142:0.762:1,0,5\n",
      "Chr6\t12087\tT\tG\tEAF=0.5619;INFO_SCORE=0.31373;HWE=1.52e-37;ERC=267.897;EAC=220.888;PAF=0.54809;AC=1;AN=2\tGT:PG:GP:DS:PL\t0/1:./.:0.216,0.574,0.21:0.995:4,0,4\n",
      "Chr6\t12088\tA\tG\tEAF=0.57147;INFO_SCORE=0.32385;HWE=5.13e-34;ERC=271.863;EAC=213.916;PAF=0.55964;AC=1;AN=2\tGT:PG:GP:DS:PL\t0/1:./.:0.207,0.577,0.216:1.009:4,0,4\n",
      "Chr6\t12089\tA\tG\tEAF=0.56638;INFO_SCORE=0.31418;HWE=1.98e-37;ERC=268.895;EAC=214.895;PAF=0.55581;AC=1;AN=2\tGT:PG:GP:DS:PL\t0/1:./.:0.213,0.573,0.214:1:4,0,4\n",
      "Chr6\t12090\tC\tA\tEAF=0.56422;INFO_SCORE=0.31399;HWE=1.4e-36;ERC=261.853;EAC=211.918;PAF=0.5527;AC=1;AN=2\tGT:PG:GP:DS:PL\t0/1:./.:0.215,0.573,0.212:0.998:4,0,4\n",
      "cut: write error: Broken pipe\n"
     ]
    }
   ],
   "source": [
    "bcftools view -H ./cov_Low5x_Chr6_2x-N703-94_Am_Pla_pb0295_v3.5.het.vcf | wc -l\n",
    "bcftools view -H ./cov_Low5x_Chr6_2x-N703-94_Am_Pla_pb0295_v3.5.het.vcf | cut -f1-2,4-5,8-10 | head -5"
   ]
  },
  {
   "cell_type": "markdown",
   "id": "a32ee2bd-10a2-435b-93b1-314ff2838a84",
   "metadata": {
    "jp-MarkdownHeadingCollapsed": true
   },
   "source": [
    "### HapCUT2"
   ]
  },
  {
   "cell_type": "markdown",
   "id": "339cc506-0e87-4ebe-adc2-635ec65569d9",
   "metadata": {},
   "source": [
    "#### Extract unlinked fragments"
   ]
  },
  {
   "cell_type": "code",
   "execution_count": 5,
   "id": "5d55cc1d-1f2f-49d9-bcd5-57c208c66783",
   "metadata": {},
   "outputs": [
    {
     "name": "stdout",
     "output_type": "stream",
     "text": [
      "\n",
      "Extracting haplotype informative reads from bamfiles /nfs/scistore18/bartogrp/apal/snap_hap/bams/v3.5/bams_merged_2023/2x-N703-94_Am_Pla_pb0295_v3.5.sorted.BXnum.merged.bam minQV 13 minMQ 20 maxIS 1000 \n",
      "\n",
      "VCF file cov_Low5x_Chr6_2x-N703-94_Am_Pla_pb0295_v3.5.het.vcf has 205 variants \n",
      "adding chrom Chr6 to index \n",
      "vcffile cov_Low5x_Chr6_2x-N703-94_Am_Pla_pb0295_v3.5.het.vcf chromosomes 1 hetvariants 205 variants 205 \n",
      "detected 0 variants with two non-reference alleles, these variants will not be phased\n",
      "reading sorted bamfile /nfs/scistore18/bartogrp/apal/snap_hap/bams/v3.5/bams_merged_2023/2x-N703-94_Am_Pla_pb0295_v3.5.sorted.BXnum.merged.bam \n",
      "processing reads mapped to chrom \"Chr6\" \n",
      "final cleanup of fragment list: 35 current chrom 0 prev 0 \n",
      "\n",
      "real\t0m0.563s\n",
      "user\t0m0.541s\n",
      "sys\t0m0.018s\n",
      "\n",
      "\n",
      "No. of unlinked fragments: 28 cov-Low5x_Chr6_2x-N703-94_Am_Pla_pb0295_v3.5.unlinked.fragments\n"
     ]
    }
   ],
   "source": [
    "time extractHAIRS --10X 1 --bam $bam --VCF ${sampleHetVCF}.het.vcf --region $chrom --out ${unLinkedFragments}.unlinked.fragments\n",
    "echo -e '\\n'\n",
    "echo -e \"No. of unlinked fragments:\" $(wc -l ${unLinkedFragments}.unlinked.fragments)"
   ]
  },
  {
   "cell_type": "markdown",
   "id": "552e4f5f-7e37-4713-a382-51649d048d60",
   "metadata": {},
   "source": [
    "#### Extract unlinked fragments"
   ]
  },
  {
   "cell_type": "code",
   "execution_count": 7,
   "id": "a4cf10e6-3c43-4263-aa05-ef0d132cca84",
   "metadata": {},
   "outputs": [
    {
     "name": "stdout",
     "output_type": "stream",
     "text": [
      "No. of unlinked no00 fragments 28 cov-Low5x_Chr6_2x-N703-94_Am_Pla_pb0295_v3.5.no00.unlinked.fragments\n"
     ]
    }
   ],
   "source": [
    "cat ${unLinkedFragments}.unlinked.fragments | grep -ax '.*' | awk '!/[ABCD]00/' > ${unLinkedFragments}.no00.unlinked.fragments\n",
    "echo -e \"No. of unlinked no00 fragments\" $(wc -l ${unLinkedFragments}.no00.unlinked.fragments)"
   ]
  },
  {
   "cell_type": "markdown",
   "id": "aba836c6-de8c-48aa-a3eb-6f564b7ba475",
   "metadata": {},
   "source": [
    "#### Convert unlinked to linked fragments"
   ]
  },
  {
   "cell_type": "code",
   "execution_count": 8,
   "id": "d736165f-a887-4cf1-a8a1-574c05a0d273",
   "metadata": {},
   "outputs": [
    {
     "name": "stdout",
     "output_type": "stream",
     "text": [
      "Linking 10X fragments on chromosome: Chr6\n",
      "  reading bedfile...\n",
      "  generating new fragments for HAIRs in boundaries...\n",
      "\n",
      "real\t0m2.245s\n",
      "user\t0m2.151s\n",
      "sys\t0m0.053s\n",
      "\n",
      "No. of linked fragments 16 cov-Low5x_Chr6_2x-N703-94_Am_Pla_pb0295_v3.5.linked.fragments\n"
     ]
    }
   ],
   "source": [
    "time python3 ~/_softwares/HapCUT2/utilities/LinkFragments.py  --bam $bam --VCF ${sampleHetVCF}.het.vcf --fragments ${unLinkedFragments}.no00.unlinked.fragments --out ${LinkedFragments}.linked.fragments -d 50000\n",
    "echo -e \"\\nNo. of linked fragments\" $(wc -l ${LinkedFragments}.linked.fragments)"
   ]
  },
  {
   "cell_type": "markdown",
   "id": "44549aa6-d9d6-4c1f-aedf-e183fa33291d",
   "metadata": {},
   "source": [
    "#### Phase with HapCUT2"
   ]
  },
  {
   "cell_type": "code",
   "execution_count": 9,
   "id": "7de09a16-b0a1-496e-bfca-a2f51338c1de",
   "metadata": {},
   "outputs": [
    {
     "name": "stdout",
     "output_type": "stream",
     "text": [
      "\n",
      "\n",
      "[2023:10:03 15:56:07] input fragment file: cov-Low5x_Chr6_2x-N703-94_Am_Pla_pb0295_v3.5.linked.fragments\n",
      "[2023:10:03 15:56:07] input variantfile (VCF format):cov_Low5x_Chr6_2x-N703-94_Am_Pla_pb0295_v3.5.het.vcf\n",
      "[2023:10:03 15:56:07] haplotypes will be output to file: cov_Low5x-Chr6_2x-N703-94_Am_Pla_pb0295_v3.5_thres30.hapcut2.output\n",
      "[2023:10:03 15:56:07] solution convergence cutoff: 5\n",
      "[2023:10:03 15:56:07] read 205 variants from cov_Low5x_Chr6_2x-N703-94_Am_Pla_pb0295_v3.5.het.vcf file \n",
      "[2023:10:03 15:56:07] read fragment file and variant file: fragments 16 variants 205\n",
      "mean number of variants per read is 5.50 \n",
      "[2023:10:03 15:56:07] building read-variant graph for phasing\n",
      "Number of non-trivial connected components 10 max-Degree 6 connected variants 69 coverage-per-variant 1.275362 \n",
      "[2023:10:03 15:56:07] fragments 16 snps 205 component(blocks) 10\n",
      "[2023:10:03 15:56:07] starting Max-Likelihood-Cut based haplotype assembly algorithm\n",
      "[2023:10:03 15:56:07] starting to post-process phased haplotypes to further improve accuracy\n",
      "[2023:10:03 15:56:07] starting to output phased haplotypes\n",
      "[2023:10:03 15:56:07] OUTPUTTING PRUNED HAPLOTYPE ASSEMBLY TO FILE cov_Low5x-Chr6_2x-N703-94_Am_Pla_pb0295_v3.5_thres30.hapcut2.output\n",
      "[2023:10:03 15:56:07] N50 haplotype length is 1.38 kilobases \n",
      "[2023:10:03 15:56:07] OUTPUTTING PHASED VCF TO FILE cov_Low5x-Chr6_2x-N703-94_Am_Pla_pb0295_v3.5_thres30.hapcut2.output.phased.VCF\n",
      "\n",
      "real\t0m0.021s\n",
      "user\t0m0.000s\n",
      "sys\t0m0.018s\n"
     ]
    }
   ],
   "source": [
    "time HAPCUT2 --fragments ${LinkedFragments}.linked.fragments --VCF ${sampleHetVCF}.het.vcf --out $outPhased --nf 1 --threshold $threshold --error_analysis_mode 1 --call_homozygous 1 --outvcf 1  --v 0"
   ]
  },
  {
   "cell_type": "markdown",
   "id": "2a3be9b0-5752-4751-bb88-0d7bec69ba79",
   "metadata": {
    "jp-MarkdownHeadingCollapsed": true
   },
   "source": [
    "## Run HapCUT2 validation on cluster"
   ]
  },
  {
   "cell_type": "raw",
   "id": "8d4b1de0-1016-47cd-ab3c-f6b5f7e65148",
   "metadata": {},
   "source": [
    "baseDIR=/nfs/scistore18/bartogrp/apal/snap_hap/variants/molphase/validation\n",
    "chrom=Chr6\n",
    "sampleList=~/snap_hap/variants/molphase/validation/phaseVal_samples.list\n",
    "bamList=~/snap_hap/sample_info/bam_info/bams_Am_all.txt\n",
    "vcf=~/snap_hap/variants/stitch/${chrom}/Am_all_stitch_${chrom}_SnpGap5_biSNPs_filtered-DP_500-7732_QUAL20_MQ30.PL.vcf.gz\n",
    "threshold=30\n",
    "\n",
    "cd /nfs/scistore18/bartogrp/apal/snap_hap/variants/jobs/phaseVal"
   ]
  },
  {
   "cell_type": "code",
   "execution_count": null,
   "id": "71cabb70-82a6-4bc5-939e-e1f587acc67d",
   "metadata": {},
   "outputs": [],
   "source": [
    "sbatch --array=1-33 -J phaseVal ~/snap_hap/_scripts/sbatch/phase/job-molphase_validation.sbatch $baseDIR $chrom $sampleList $bamList $vcf $threshold"
   ]
  },
  {
   "cell_type": "markdown",
   "id": "c7603c43-f80d-4491-b393-6387dab950c5",
   "metadata": {},
   "source": [
    "```\n",
    "#SBATCH --partition=defaultp\n",
    "#SBATCH --time=120:00:00\n",
    "#SBATCH --ntasks=1\n",
    "#SBATCH --ntasks-per-node=1\n",
    "#SBATCH --cpus-per-task=1\n",
    "#SBATCH --mem-per-cpu=32G\n",
    "```"
   ]
  },
  {
   "cell_type": "markdown",
   "id": "60b778ee-a453-43e0-9bc7-cda6e0febd3a",
   "metadata": {
    "jp-MarkdownHeadingCollapsed": true
   },
   "source": [
    "#### Rerun with lower threshold\n",
    "Also rerun with `threshold = 7` (default)"
   ]
  },
  {
   "cell_type": "code",
   "execution_count": null,
   "id": "bf16c11f-162a-46ec-b1f8-5cf7afac8cc4",
   "metadata": {},
   "outputs": [],
   "source": [
    "sbatch --array=1-33 -J rerunPhaseVal-thresDEF ~/snap_hap/_scripts/sbatch/phase/job-molphase_validation_rerun.sbatch $baseDIR $chrom $sampleList $bamList $vcf $threshold"
   ]
  },
  {
   "cell_type": "markdown",
   "id": "5d81ae8d-4a91-4608-96e1-dda072df885b",
   "metadata": {
    "jp-MarkdownHeadingCollapsed": true
   },
   "source": [
    "#### Rerun after removing non-BX tags"
   ]
  },
  {
   "cell_type": "code",
   "execution_count": null,
   "id": "fa840109-d3f7-4b61-9438-a97c84725f75",
   "metadata": {},
   "outputs": [],
   "source": [
    "sbatch --array=1-30 -J phaseVal-nonBX ~/snap_hap/_scripts/sbatch/phase/job-molphase_validation_rerun.sbatch $baseDIR $chrom $sampleList $bamList $vcf $threshold"
   ]
  },
  {
   "cell_type": "markdown",
   "id": "a593bb5f-6dcf-4287-917e-9e744420e619",
   "metadata": {},
   "source": [
    "## Postprocess output"
   ]
  },
  {
   "cell_type": "code",
   "execution_count": 5,
   "id": "ff864139-13be-4a6a-9d4b-2b4142724010",
   "metadata": {},
   "outputs": [],
   "source": [
    "cd ~/snap_hap/variants/molphase/validation/cov-Low5x_Chr6_2x-N703-94_Am_Pla_pb0295_v3.5"
   ]
  },
  {
   "cell_type": "code",
   "execution_count": 6,
   "id": "f2de042b-c64f-4f27-b32a-04cbab2017da",
   "metadata": {},
   "outputs": [
    {
     "name": "stdout",
     "output_type": "stream",
     "text": [
      "1 A01641:90:H7F3LDSX3:4:2662:4607:28009 2 A59C09B46D96-1 -1 51 0000 FFFF\n",
      "1 A01641:90:H7F3LDSX3:4:1516:27471:8390 2 A67C75B39D96-1 -1 59 1111 >>>>\n",
      "1 A01641:90:H7F3LDSX3:4:2519:17788:36746 2 A22C23B34D96-1 -1 66 11 ;;\n",
      "1 A01641:90:H7F3LDSX3:4:1360:15510:27727 2 A06C48B74D96-1 -1 159 11 >>\n",
      "1 A01641:90:H7F3LDSX3:4:2256:9001:26788 2 A88C38B83D96-1 -1 191 11 >>\n",
      "1 A01641:90:H7F3LDSX3:4:2124:25880:34914 2 A80C83B02D96-1 -1 198 1 F\n",
      "1 A01641:90:H7F3LDSX3:4:2352:21169:31266 2 A46C69B02D96-1 -1 214 1 >\n",
      "1 A01641:90:H7F3LDSX3:4:1537:8015:31563 2 A70C94B32D96-1 -1 231 1111 ;;;;\n",
      "1 A01641:90:H7F3LDSX3:4:1231:3730:21386 2 A17C69B37D96-1 -1 251 11111111 >>>>>>>>\n",
      "1 A01641:90:H7F3LDSX3:4:2476:15564:33959 2 A06C38B30D96-1 -1 260 0000000 FFFF:FF\n"
     ]
    }
   ],
   "source": [
    "head cov-Low5x_Chr6_2x-N703-94_Am_Pla_pb0295_v3.5.unlinked.fragments"
   ]
  },
  {
   "cell_type": "code",
   "execution_count": 8,
   "id": "57418a3a-f73e-41b8-a857-32874ca53fe6",
   "metadata": {},
   "outputs": [
    {
     "name": "stdout",
     "output_type": "stream",
     "text": [
      "1 Chr6:19486-19707:A23C70B03D96-1 0 -1 -1 16 0000 FFFF\n",
      "2 Chr6:19591-20075:A42C48B24D96-1 0 -1 -1 17 111 21 11 DDDFF\n",
      "1 Chr6:34450-34601:A59C09B46D96-1 0 -1 -1 51 0000 FFFF\n",
      "1 Chr6:34756-34907:A67C75B39D96-1 0 -1 -1 59 1111 >>>>\n",
      "1 Chr6:35380-35499:A22C23B34D96-1 0 -1 -1 66 11 ;;\n",
      "2 A01174:273:H75HTDSX3:3:2575:4182:33974 0 -1 -1 75 0000 80 0 FFFFF\n",
      "1 A01174:273:H75HTDSX3:3:2501:7419:22545 0 -1 -1 77 000 F:F\n",
      "1 Chr6:35560-36128:A83C69B84D96-1 0 -1 -1 77 000 ;;;\n",
      "2 Chr6:36594-37991:A38C80B14D96-1 0 -1 -1 99 00000000000000000000 148 000 FFFFFFFFF:FFFF>>>F:FFFF\n",
      "1 A01174:273:H75HTDSX3:3:1155:32669:16736 0 -1 -1 111 000 FFF\n"
     ]
    }
   ],
   "source": [
    "head cov-Low5x_Chr6_2x-N703-94_Am_Pla_pb0295_v3.5.no00.linked.fragments"
   ]
  },
  {
   "cell_type": "code",
   "execution_count": 11,
   "id": "3cd75f6a-3f7f-4809-920f-d5f2368fbc25",
   "metadata": {},
   "outputs": [
    {
     "name": "stdout",
     "output_type": "stream",
     "text": [
      "BLOCK: offset: 16 len: 7 phased: 6 SPAN: 501 fragments 2\n",
      "16\t0\t1\tChr6\t19573\tC\tG\t0/1:./.:0.21,0.765,0.025:0.814:6,0,15\t0\t100.00\t37.00\t1\n",
      "17\t0\t1\tChr6\t19635\tT\tA\t0/1:./.:0.121,0.848,0.031:0.909:8,0,14\t0\t37.00\t71.64\t2\n",
      "18\t0\t1\tChr6\t19677\tC\tG\t0/1:./.:0.018,0.808,0.174:1.156:17,0,7\t0\t100.00\t71.64\t2\n",
      "19\t0\t1\tChr6\t19701\tT\tG\t0/1:./.:0.196,0.779,0.025:0.83:6,0,15\t0\t100.00\t71.64\t2\n",
      "21\t0\t1\tChr6\t19931\tT\tA\t0/1:./.:0.05,0.857,0.093:1.043:12,0,10\t0\t73.99\t37.00\t1\n",
      "22\t0\t1\tChr6\t20074\tA\tT\t0/1:./.:0.045,0.814,0.142:1.097:13,0,8\t0\t37.00\t37.00\t1\n",
      "******** \n",
      "BLOCK: offset: 51 len: 4 phased: 4 SPAN: 133 fragments 1\n",
      "51\t0\t1\tChr6\t34450\tC\tT\t0/1:./.:0.342,0.652,0.006:0.664:3,0,20\t0\t100.00\t37.00\t1\n",
      "52\t0\t1\tChr6\t34518\tA\tG\t0/1:./.:0.109,0.816,0.075:0.966:9,0,10\t0\t37.00\t37.00\t1\n",
      "53\t0\t1\tChr6\t34559\tG\tA\t0/1:./.:0.09,0.848,0.062:0.972:10,0,11\t0\t70.99\t37.00\t1\n",
      "54\t0\t1\tChr6\t34583\tG\tA\t0/1:./.:0.27,0.714,0.016:0.745:4,0,16\t0\t37.00\t37.00\t1\n",
      "******** \n",
      "BLOCK: offset: 59 len: 4 phased: 4 SPAN: 49 fragments 1\n",
      "59\t0\t1\tChr6\t34800\tG\tA\t0/1:./.:0.26,0.728,0.011:0.751:4,0,18\t0\t100.00\t29.00\t1\n",
      "60\t0\t1\tChr6\t34830\tG\tA\t0/1:./.:0.118,0.833,0.048:0.93:8,0,12\t0\t29.00\t29.00\t1\n",
      "61\t0\t1\tChr6\t34839\tC\tT\t0/1:./.:0.237,0.732,0.031:0.795:5,0,14\t0\t54.98\t29.00\t1\n",
      "62\t0\t1\tChr6\t34849\tG\tA\t0/1:./.:0.273,0.715,0.012:0.738:4,0,18\t0\t29.00\t29.00\t1\n",
      "******** \n",
      "BLOCK: offset: 66 len: 2 phased: 2 SPAN: 24 fragments 1\n",
      "66\t0\t1\tChr6\t35390\tC\tA\t0/1:./.:0.129,0.849,0.022:0.893:8,0,16\t0\t100.00\t23.00\t1\n",
      "67\t0\t1\tChr6\t35414\tT\tG\t0/1:./.:0.104,0.872,0.024:0.921:9,0,16\t0\t23.00\t23.00\t1\n",
      "******** \n",
      "BLOCK: offset: 77 len: 3 phased: 3 SPAN: 20 fragments 1\n",
      "77\t0\t1\tChr6\t36041\tT\tC\t0/1:./.:0.406,0.592,0.003:0.597:2,0,23\t0\t100.00\t25.99\t1\n",
      "78\t0\t1\tChr6\t36051\tT\tC\t0/1:./.:0.307,0.675,0.018:0.711:3,0,16\t0\t25.99\t25.99\t1\n",
      "79\t0\t1\tChr6\t36061\tC\tT\t0/1:./.:0.399,0.597,0.004:0.605:2,0,22\t0\t25.99\t25.99\t1\n",
      "******** \n",
      "BLOCK: offset: 99 len: 52 phased: 23 SPAN: 1378 fragments 2\n",
      "99\t0\t1\tChr6\t36600\tG\tA\t0/1:./.:0.291,0.705,0.004:0.712:4,0,22\t0\t100.00\t37.00\t1\n",
      "100\t0\t1\tChr6\t36604\tC\tT\t0/1:./.:0.328,0.67,0.002:0.674:3,0,25\t0\t37.00\t37.00\t1\n",
      "101\t0\t1\tChr6\t36606\tC\tA\t0/1:./.:0.335,0.664,0.001:0.665:3,0,28\t0\t74.00\t37.00\t1\n",
      "102\t0\t1\tChr6\t36618\tG\tA\t0/1:./.:0.243,0.754,0.002:0.759:5,0,26\t0\t100.00\t37.00\t1\n",
      "103\t0\t1\tChr6\t36622\tG\tA\t0/1:./.:0.248,0.75,0.002:0.754:5,0,26\t0\t100.00\t37.00\t1\n",
      "104\t0\t1\tChr6\t36623\tA\tT\t0/1:./.:0.102,0.877,0.021:0.92:9,0,16\t0\t100.00\t37.00\t1\n",
      "105\t0\t1\tChr6\t36630\tG\tA\t0/1:./.:0.112,0.875,0.014:0.902:9,0,18\t0\t100.00\t37.00\t1\n",
      "106\t0\t1\tChr6\t36637\tC\tA\t0/1:./.:0.159,0.836,0.004:0.845:7,0,23\t0\t100.00\t37.00\t1\n",
      "107\t0\t1\tChr6\t36664\tG\tT\t0/1:./.:0.104,0.885,0.01:0.906:9,0,19\t0\t100.00\t37.00\t1\n",
      "108\t0\t1\tChr6\t36668\tA\tG\t0/1:./.:0.097,0.89,0.012:0.915:10,0,19\t0\t100.00\t25.00\t1\n",
      "109\t0\t1\tChr6\t36680\tC\tA\t0/1:./.:0.017,0.897,0.086:1.069:17,0,10\t0\t100.00\t37.00\t1\n",
      "110\t0\t1\tChr6\t36687\tT\tC\t0/1:./.:0.082,0.846,0.072:0.99:10,0,11\t0\t100.00\t37.00\t1\n",
      "111\t0\t1\tChr6\t36703\tC\tT\t0/1:./.:0.085,0.897,0.019:0.934:10,0,17\t0\t100.00\t37.00\t1\n",
      "112\t0\t1\tChr6\t36792\tG\tA\t0/1:0/1:0.077,0.905,0.018:0.942:11,0,17\t0\t100.00\t37.00\t1\n",
      "113\t0\t1\tChr6\t36846\tG\tA\t0/1:0/1:0.024,0.919,0.057:1.033:16,0,12\t0\t100.00\t29.00\t1\n",
      "114\t0\t1\tChr6\t36912\tC\tT\t0/1:./.:0.19,0.8,0.01:0.821:6,0,19\t0\t100.00\t29.00\t1\n",
      "115\t0\t1\tChr6\t36921\tG\tT\t0/1:./.:0.202,0.789,0.009:0.808:6,0,19\t0\t100.00\t29.00\t1\n",
      "116\t0\t1\tChr6\t37026\tT\tC\t0/1:./.:0.08,0.894,0.026:0.946:10,0,15\t0\t100.00\t100.00\t2\n",
      "117\t0\t1\tChr6\t37029\tT\tG\t0/1:0/1:0.055,0.906,0.039:0.984:12,0,14\t0\t100.00\t64.65\t2\n",
      "118\t0\t1\tChr6\t37056\tG\tA\t0/1:0/1:0.062,0.909,0.029:0.967:12,0,15\t0\t100.00\t100.00\t2\n"
     ]
    }
   ],
   "source": [
    "head -50 cov-Low5x_Chr6_2x-N703-94_Am_Pla_pb0295_v3.5_thres30.BX.hapcut2.output"
   ]
  },
  {
   "cell_type": "code",
   "execution_count": 2,
   "id": "ecf2a765-9131-460f-ab3a-fd165e95899f",
   "metadata": {
    "collapsed": true,
    "jupyter": {
     "outputs_hidden": true
    },
    "scrolled": true
   },
   "outputs": [
    {
     "name": "stdout",
     "output_type": "stream",
     "text": [
      "cov-15to25x_Chr6_10x-10_Am_Pla_pb3403_v3.5 - Done\n",
      "cov-15to25x_Chr6_10x-12_Am_Pla_pb4563_v3.5 - Done\n",
      "cov-15to25x_Chr6_10x-1_Am_Pla_pb0174_v3.5 - Done\n",
      "cov-15to25x_Chr6_10x2-13_Am_Pla_pb1196_v3.5 - Done\n",
      "cov-15to25x_Chr6_10x2-15_Am_Pla_pb1253_v3.5 - Done\n",
      "cov-15to25x_Chr6_10x2-16_Am_Pla_pb1682_v3.5 - Done\n",
      "cov-15to25x_Chr6_10x2-17_Am_Pla_pb2190_v3.5 - Done\n",
      "cov-15to25x_Chr6_10x2-18_Am_Pla_pb1687_v3.5 - Done\n",
      "cov-15to25x_Chr6_10x-8_Am_Pla_pb0768_v3.5 - Done\n",
      "cov-15to25x_Chr6_10x-9_Am_Pla_pb2333_v3.5 - Done\n",
      "cov-5to15x_Chr6_10xNEW-Plate10-18_Am_Pla_pb1172_v3.5 - Done\n",
      "cov-5to15x_Chr6_10xNEW-Plate10-57_Am_Pla_pb2320_v3.5 - Done\n",
      "cov-5to15x_Chr6_10xNEW-Plate10-66_Am_Pla_pb3368_v3.5 - Done\n",
      "cov-5to15x_Chr6_10xNEW-Plate10-80_Am_Pla_pb3432_v3.5 - Done\n",
      "cov-5to15x_Chr6_10xNEW-Plate10-81_Am_Pla_pb3434_v3.5 - Done\n",
      "cov-5to15x_Chr6_10xNEW-Plate9-37_Am_Pla_pb1606_v3.5 - Done\n",
      "cov-5to15x_Chr6_10xNEW-Plate9-41_Am_Pla_pb1843_v3.5 - Done\n",
      "cov-5to15x_Chr6_10xNEW-Plate9-46_Am_Pla_pb1850_v3.5 - Done\n",
      "cov-5to15x_Chr6_10xNEW-Plate9-51_Am_Pla_pb2944_v3.5 - Done\n",
      "cov-5to15x_Chr6_10xNEW-Plate9-8_Am_Pla_pb0869_v3.5 - Done\n",
      "[E::hts_open_format] Failed to open file \"/nfs/scistore18/bartogrp/apal/snap_hap/variants/molphase/validation/cov-High100x_Chr6_60x-1_Am_Pla_pb0464_v3.5/*_thres30.hapcut2.output.phased.VCF\" : No such file or directory\n",
      "Failed to read from /nfs/scistore18/bartogrp/apal/snap_hap/variants/molphase/validation/cov-High100x_Chr6_60x-1_Am_Pla_pb0464_v3.5/*_thres30.hapcut2.output.phased.VCF: No such file or directory\n",
      "[E::hts_open_format] Failed to open file \"/nfs/scistore18/bartogrp/apal/snap_hap/variants/molphase/validation/cov-High100x_Chr6_60x-1_Am_Pla_pb0464_v3.5/*_thres30.hapcut2.output.phased.VCF\" : No such file or directory\n",
      "Failed to read from /nfs/scistore18/bartogrp/apal/snap_hap/variants/molphase/validation/cov-High100x_Chr6_60x-1_Am_Pla_pb0464_v3.5/*_thres30.hapcut2.output.phased.VCF: No such file or directory\n",
      "[E::hts_open_format] Failed to open file \"/nfs/scistore18/bartogrp/apal/snap_hap/variants/molphase/validation/cov-High100x_Chr6_60x-1_Am_Pla_pb0464_v3.5/*_thres30.hapcut2.output.phased.VCF\" : No such file or directory\n",
      "Failed to read from /nfs/scistore18/bartogrp/apal/snap_hap/variants/molphase/validation/cov-High100x_Chr6_60x-1_Am_Pla_pb0464_v3.5/*_thres30.hapcut2.output.phased.VCF: No such file or directory\n",
      "[E::hts_open_format] Failed to open file \"/nfs/scistore18/bartogrp/apal/snap_hap/variants/molphase/validation/cov-High100x_Chr6_60x-1_Am_Pla_pb0464_v3.5/*_thres6.98.hapcut2.output.phased.VCF\" : No such file or directory\n",
      "Failed to read from /nfs/scistore18/bartogrp/apal/snap_hap/variants/molphase/validation/cov-High100x_Chr6_60x-1_Am_Pla_pb0464_v3.5/*_thres6.98.hapcut2.output.phased.VCF: No such file or directory\n",
      "[E::hts_open_format] Failed to open file \"/nfs/scistore18/bartogrp/apal/snap_hap/variants/molphase/validation/cov-High100x_Chr6_60x-1_Am_Pla_pb0464_v3.5/*_thres6.98.hapcut2.output.phased.VCF\" : No such file or directory\n",
      "Failed to read from /nfs/scistore18/bartogrp/apal/snap_hap/variants/molphase/validation/cov-High100x_Chr6_60x-1_Am_Pla_pb0464_v3.5/*_thres6.98.hapcut2.output.phased.VCF: No such file or directory\n",
      "cov-High100x_Chr6_60x-1_Am_Pla_pb0464_v3.5 - Done\n",
      "[E::hts_open_format] Failed to open file \"/nfs/scistore18/bartogrp/apal/snap_hap/variants/molphase/validation/cov-High100x_Chr6_60x2-Plate10-7_Am_Pla_pb0898_v3.5/*_thres30.hapcut2.output.phased.VCF\" : No such file or directory\n",
      "Failed to read from /nfs/scistore18/bartogrp/apal/snap_hap/variants/molphase/validation/cov-High100x_Chr6_60x2-Plate10-7_Am_Pla_pb0898_v3.5/*_thres30.hapcut2.output.phased.VCF: No such file or directory\n",
      "[E::hts_open_format] Failed to open file \"/nfs/scistore18/bartogrp/apal/snap_hap/variants/molphase/validation/cov-High100x_Chr6_60x2-Plate10-7_Am_Pla_pb0898_v3.5/*_thres30.hapcut2.output.phased.VCF\" : No such file or directory\n",
      "Failed to read from /nfs/scistore18/bartogrp/apal/snap_hap/variants/molphase/validation/cov-High100x_Chr6_60x2-Plate10-7_Am_Pla_pb0898_v3.5/*_thres30.hapcut2.output.phased.VCF: No such file or directory\n",
      "[E::hts_open_format] Failed to open file \"/nfs/scistore18/bartogrp/apal/snap_hap/variants/molphase/validation/cov-High100x_Chr6_60x2-Plate10-7_Am_Pla_pb0898_v3.5/*_thres30.hapcut2.output.phased.VCF\" : No such file or directory\n",
      "Failed to read from /nfs/scistore18/bartogrp/apal/snap_hap/variants/molphase/validation/cov-High100x_Chr6_60x2-Plate10-7_Am_Pla_pb0898_v3.5/*_thres30.hapcut2.output.phased.VCF: No such file or directory\n",
      "[E::hts_open_format] Failed to open file \"/nfs/scistore18/bartogrp/apal/snap_hap/variants/molphase/validation/cov-High100x_Chr6_60x2-Plate10-7_Am_Pla_pb0898_v3.5/*_thres6.98.hapcut2.output.phased.VCF\" : No such file or directory\n",
      "Failed to read from /nfs/scistore18/bartogrp/apal/snap_hap/variants/molphase/validation/cov-High100x_Chr6_60x2-Plate10-7_Am_Pla_pb0898_v3.5/*_thres6.98.hapcut2.output.phased.VCF: No such file or directory\n",
      "[E::hts_open_format] Failed to open file \"/nfs/scistore18/bartogrp/apal/snap_hap/variants/molphase/validation/cov-High100x_Chr6_60x2-Plate10-7_Am_Pla_pb0898_v3.5/*_thres6.98.hapcut2.output.phased.VCF\" : No such file or directory\n",
      "Failed to read from /nfs/scistore18/bartogrp/apal/snap_hap/variants/molphase/validation/cov-High100x_Chr6_60x2-Plate10-7_Am_Pla_pb0898_v3.5/*_thres6.98.hapcut2.output.phased.VCF: No such file or directory\n",
      "cov-High100x_Chr6_60x2-Plate10-7_Am_Pla_pb0898_v3.5 - Done\n",
      "[E::hts_open_format] Failed to open file \"/nfs/scistore18/bartogrp/apal/snap_hap/variants/molphase/validation/cov-High100x_Chr6_60x2-Plate9-17_Am_Pla_pb1042_v3.5/*_thres30.hapcut2.output.phased.VCF\" : No such file or directory\n",
      "Failed to read from /nfs/scistore18/bartogrp/apal/snap_hap/variants/molphase/validation/cov-High100x_Chr6_60x2-Plate9-17_Am_Pla_pb1042_v3.5/*_thres30.hapcut2.output.phased.VCF: No such file or directory\n",
      "[E::hts_open_format] Failed to open file \"/nfs/scistore18/bartogrp/apal/snap_hap/variants/molphase/validation/cov-High100x_Chr6_60x2-Plate9-17_Am_Pla_pb1042_v3.5/*_thres30.hapcut2.output.phased.VCF\" : No such file or directory\n",
      "Failed to read from /nfs/scistore18/bartogrp/apal/snap_hap/variants/molphase/validation/cov-High100x_Chr6_60x2-Plate9-17_Am_Pla_pb1042_v3.5/*_thres30.hapcut2.output.phased.VCF: No such file or directory\n",
      "[E::hts_open_format] Failed to open file \"/nfs/scistore18/bartogrp/apal/snap_hap/variants/molphase/validation/cov-High100x_Chr6_60x2-Plate9-17_Am_Pla_pb1042_v3.5/*_thres30.hapcut2.output.phased.VCF\" : No such file or directory\n",
      "Failed to read from /nfs/scistore18/bartogrp/apal/snap_hap/variants/molphase/validation/cov-High100x_Chr6_60x2-Plate9-17_Am_Pla_pb1042_v3.5/*_thres30.hapcut2.output.phased.VCF: No such file or directory\n",
      "[E::hts_open_format] Failed to open file \"/nfs/scistore18/bartogrp/apal/snap_hap/variants/molphase/validation/cov-High100x_Chr6_60x2-Plate9-17_Am_Pla_pb1042_v3.5/*_thres6.98.hapcut2.output.phased.VCF\" : No such file or directory\n",
      "Failed to read from /nfs/scistore18/bartogrp/apal/snap_hap/variants/molphase/validation/cov-High100x_Chr6_60x2-Plate9-17_Am_Pla_pb1042_v3.5/*_thres6.98.hapcut2.output.phased.VCF: No such file or directory\n",
      "[E::hts_open_format] Failed to open file \"/nfs/scistore18/bartogrp/apal/snap_hap/variants/molphase/validation/cov-High100x_Chr6_60x2-Plate9-17_Am_Pla_pb1042_v3.5/*_thres6.98.hapcut2.output.phased.VCF\" : No such file or directory\n",
      "Failed to read from /nfs/scistore18/bartogrp/apal/snap_hap/variants/molphase/validation/cov-High100x_Chr6_60x2-Plate9-17_Am_Pla_pb1042_v3.5/*_thres6.98.hapcut2.output.phased.VCF: No such file or directory\n",
      "cov-High100x_Chr6_60x2-Plate9-17_Am_Pla_pb1042_v3.5 - Done\n",
      "cov-Low5x_Chr6_2x-N701-95_Am_Pla_pb0196_v3.5 - Done\n",
      "cov-Low5x_Chr6_2x-N702-79_Am_Pla_pb0081_v3.5 - Done\n",
      "cov-Low5x_Chr6_2x-N702-96_Am_Pla_pb0098_v3.5 - Done\n",
      "cov-Low5x_Chr6_2x-N703-94_Am_Pla_pb0295_v3.5 - Done\n",
      "cov-Low5x_Chr6_2x-N704-89_Am_Pla_pb0396_v3.5 - Done\n",
      "cov-Low5x_Chr6_2x-N704-95_Am_Pla_pb0402_v3.5 - Done\n",
      "cov-Low5x_Chr6_2x-N706-92_Am_Pla_pb2873_v3.5 - Done\n",
      "cov-Low5x_Chr6_2x-N706-94_Am_Pla_pb2875_v3.5 - Done\n",
      "cov-Low5x_Chr6_2x-N706-9_Am_Pla_pb0785_v3.5 - Done\n",
      "cov-Low5x_Chr6_2x-N708-33_Am_Pla_pa1852_v3.5 - Done\n"
     ]
    }
   ],
   "source": [
    "echo -e \"Sample\\tphaseVal_Cov_bin\\tTotalHetSites\\tunLinkedFragments\\tno00unLinkedFragments\\tno00LinkedFragments\\tBXunLinkedFragments\\tBXLinkedFragments\\tunPhasedSites_thres30_no00\\tPhasedSites_thres30_no00\\tunPhasedSites_thres30_BX\\tPhasedSites_thres30_BX\" > phaseVal.txt\n",
    "\n",
    "for sampleFolder in /nfs/scistore18/bartogrp/apal/snap_hap/variants/molphase/validation/cov-*;\n",
    "do \n",
    "    coverage=`basename $sampleFolder | cut -f1 -d_ | cut -f2 -d-`\n",
    "    unLinkedFragments=`cat $sampleFolder/*[^no00][^BX].unlinked.fragments | wc -l`\n",
    "    no00unLinkedFragments=`cat $sampleFolder/*.no00.unlinked.fragments | wc -l`\n",
    "    BXunLinkedFragments=`cat $sampleFolder/*.BX.unlinked.fragments | wc -l`\n",
    "    \n",
    "    no00LinkedFragments=`cat $sampleFolder/*.no00.linked.fragments | wc -l`\n",
    "    BXLinkedFragments=`cat $sampleFolder/*.BX.linked.fragments | wc -l`\n",
    "    \n",
    "    TotalHetSites=$(bcftools view -H $sampleFolder/*.het.vcf | wc -l)\n",
    "    PhasedSites_thres30_no00=$(bcftools view -H $sampleFolder/*_thres30.no00.hapcut2.output.phased.VCF | grep -vc \"0/1\")\n",
    "    unPhasedSites_thres30_no00=$(bcftools view -H $sampleFolder/*_thres30.no00.hapcut2.output.phased.VCF | grep -c \"0/1\")    \n",
    "\n",
    "    PhasedSites_thres30_BX=$(bcftools view -H $sampleFolder/*_thres30.BX.hapcut2.output.phased.VCF | grep -vc \"0/1\")\n",
    "    unPhasedSites_thres30_BX=$(bcftools view -H $sampleFolder/*_thres30.BX.hapcut2.output.phased.VCF | grep -c \"0/1\")    \n",
    "\n",
    "#    PhasedSites_thres7=$(bcftools view -H $sampleFolder/*_thres6.98.hapcut2.output.phased.VCF | grep -vc \"0/1\")\n",
    "#    unPhasedSites_thres7=$(bcftools view -H $sampleFolder/*_thres6.98.hapcut2.output.phased.VCF | grep -c \"0/1\")\n",
    "\n",
    "    echo -e `basename $sampleFolder`\"\\t\"$coverage\"\\t\"$TotalHetSites\"\\t\"$unLinkedFragments\"\\t\"$no00unLinkedFragments\"\\t\"$no00LinkedFragments\"\\t\"$BXunLinkedFragments\"\\t\"$BXLinkedFragments\"\\t\"${unPhasedSites_thres30_no00}\"\\t\"${PhasedSites_thres30_no00}\"\\t\"${unPhasedSites_thres30_BX}\"\\t\"${PhasedSites_thres30_BX} >> phaseVal.txt\n",
    "    echo `basename $sampleFolder` - Done\n",
    "done"
   ]
  },
  {
   "cell_type": "code",
   "execution_count": 18,
   "id": "b7b1332b-dea9-47cc-a0c9-1dd120487d6c",
   "metadata": {},
   "outputs": [
    {
     "name": "stdout",
     "output_type": "stream",
     "text": [
      "Coverage\t%HET\t% unphased no00\t% phased no00\n",
      "0.5448\t0.097\t0.8238\t0.1762\n",
      "0.7354\t0.1\t0.7788\t0.2212\n",
      "0.7801\t0.098\t0.7825\t0.2175\n",
      "0.7954\t0.104\t0.7188\t0.2812\n",
      "0.7967\t0.104\t0.7531\t0.2469\n",
      "0.853\t0.096\t0.7482\t0.2518\n",
      "0.8822\t0.105\t0.696\t0.304\n",
      "0.8901\t0.097\t0.7408\t0.2592\n",
      "0.9758\t0.101\t0.6855\t0.3145\n",
      "0.9931\t0.095\t0.7424\t0.2576\n",
      "5.1464\t0.115\t0.1828\t0.8172\n",
      "5.2478\t0.109\t0.1931\t0.8069\n",
      "5.3559\t0.117\t0.1626\t0.8374\n",
      "5.704\t0.115\t0.1782\t0.8218\n",
      "5.7733\t0.121\t0.1548\t0.8452\n",
      "5.9796\t0.117\t0.1384\t0.8616\n",
      "5.9956\t0.117\t0.1925\t0.8075\n",
      "6.0562\t0.12\t0.1626\t0.8374\n",
      "6.3294\t0.119\t0.1517\t0.8483\n",
      "6.3483\t0.121\t0.1422\t0.8578\n",
      "16.5056\t0.117\t0.0586\t0.9414\n",
      "16.547\t0.116\t0.0673\t0.9327\n",
      "16.8621\t0.116\t0.0521\t0.9479\n",
      "17.5059\t0.12\t0.0406\t0.9594\n",
      "19.4842\t0.123\t0.0381\t0.9619\n",
      "19.7656\t0.12\t0.0417\t0.9583\n",
      "19.8641\t0.118\t0.0314\t0.9686\n",
      "20.2573\t0.124\t0.032\t0.968\n",
      "21.1414\t0.127\t0.0277\t0.9723\n",
      "21.7329\t0.124\t0.0357\t0.9643\n",
      "107.1166\t0.129\t0.0162\t0.9838\n",
      "109.5559\t0.129\t0.0134\t0.9866\n",
      "111.3961\t0.134\t0.0154\t0.9846\n"
     ]
    }
   ],
   "source": [
    "less ~/snap_hap/variants/molphase/validation/phaseVal.txt | cut -f2,18-20 "
   ]
  }
 ],
 "metadata": {
  "kernelspec": {
   "display_name": "Bash",
   "language": "bash",
   "name": "bash"
  },
  "language_info": {
   "codemirror_mode": "shell",
   "file_extension": ".sh",
   "mimetype": "text/x-sh",
   "name": "bash"
  }
 },
 "nbformat": 4,
 "nbformat_minor": 5
}
