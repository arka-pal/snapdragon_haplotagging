{
 "cells": [
  {
   "cell_type": "markdown",
   "id": "8133c442-8f51-4ea9-8ad2-a5c064cb69c8",
   "metadata": {},
   "source": [
    "# HapCUT2 phasing RosEl\n",
    "  \n",
    "**Date:** 2023-Oct-06  \n",
    "**last update:** 2023-Oct-20"
   ]
  },
  {
   "cell_type": "code",
   "execution_count": 47,
   "id": "40427103-1381-43cd-9adf-a631215ef454",
   "metadata": {},
   "outputs": [
    {
     "name": "stdout",
     "output_type": "stream",
     "text": [
      "\n",
      "Currently Loaded Modules:\n",
      "  1) git/2.35.1         7) rstudio/2023.06.1-524      13) perl/5.36.0\n",
      "  2) java/17            8) nodejs/18.16.1        (T)  14) bcftools/1.18\n",
      "  3) texlive/20211108   9) julia/1.9.0                15) htslib/1.18\n",
      "  4) hdf5/1.14.2       10) proj/8.1.1                 16) samtools/1.18\n",
      "  5) gdal/3.4.2        11) JupyterPython/2.0     (T)  17) vcftools/0.1.16\n",
      "  6) R/4.3.1-b         12) GSL/2.7\n",
      "\n",
      "  Where:\n",
      "   T:  Testing\n",
      "\n",
      " \n",
      "\n"
     ]
    }
   ],
   "source": [
    "module load htslib/1.18 bcftools/1.18 samtools/1.18 vcftools/0.1.16\n",
    "unset $PYTHONPATH\n",
    "export PYTHONPATH=$PYTHONPATH:~/.local/lib/python3.9/site-packages\n",
    "export PATH=$PATH:~/_softwares/HapCUT2/build\n",
    "export PATH=$PATH:~/_softwares/HapCUT2/utilities\n",
    "\n",
    "module list"
   ]
  },
  {
   "cell_type": "markdown",
   "id": "343390e0-9328-4ab4-bb9a-71a0ddcb9bb1",
   "metadata": {},
   "source": [
    "[HapCUT2](https://github.com/vibansal/HapCUT2/tree/master#readme) is for diploid organisms only and can assemble haplotypes for one individual at a time. VCF input should contain variants and genotypes for a single diploid individual."
   ]
  },
  {
   "cell_type": "code",
   "execution_count": 2,
   "id": "20a12b62-dbe5-4909-8b2d-e49255b5e6f4",
   "metadata": {},
   "outputs": [],
   "source": [
    "cd /nfs/scistore18/bartogrp/apal/snap_hap/variants/molphase\n",
    "grep -w 'High' ~/snap_hap/sample_info/samples_Amajus_SnapHap_LastUpdate-2023-10.txt > samples_gt5x.list\n",
    "grep -w 'Low' ~/snap_hap/sample_info/samples_Amajus_SnapHap_LastUpdate-2023-10.txt > samples_lt5x.list"
   ]
  },
  {
   "cell_type": "markdown",
   "id": "5659dab5-2452-4cb0-9895-d691e9f6d94e",
   "metadata": {
    "jp-MarkdownHeadingCollapsed": true
   },
   "source": [
    "## Molecular phasing 1 sample"
   ]
  },
  {
   "cell_type": "code",
   "execution_count": 5,
   "id": "08fc1d4d-16f2-4087-885c-cce2989f7dc7",
   "metadata": {},
   "outputs": [
    {
     "name": "stdout",
     "output_type": "stream",
     "text": [
      "PB3432\tpb3432\t2x-N710-76_Am_Pla_pb3432\t10xNEW-Plate10-80_Am_Pla_pb3432_v3.5\t10xNEW\t10xNEW_PB3432\tPB3432_10xNEW\tAm\tPla\t5.1464\t34.7223\t35.73\t40.9774\t183\t895\t791\tHigh\t42.32448359\t2.064860881\t1216.624\tYF1\tNA\t/nfs/scistore18/bartogrp/apal/snap_hap/bams/v3.5/bams_merged_2023/10xNEW-Plate10-75_Am_Pla_pb3400_v3.5.sorted.BXnum.merged.bam\n"
     ]
    }
   ],
   "source": [
    "grep -w \"10xNEW-Plate10-80_Am_Pla_pb3432_v3.5\" ~/snap_hap/variants/molphase/samples_gt5x.list | head -1"
   ]
  },
  {
   "cell_type": "markdown",
   "id": "85ae471f-abb7-4d36-af91-714c589edd44",
   "metadata": {
    "jp-MarkdownHeadingCollapsed": true
   },
   "source": [
    "### Initiate variables"
   ]
  },
  {
   "cell_type": "code",
   "execution_count": 6,
   "id": "8d894550-fbb3-45a1-9059-39ec3af7a1cc",
   "metadata": {},
   "outputs": [
    {
     "name": "stdout",
     "output_type": "stream",
     "text": [
      "sampleDIR: /nfs/scistore18/bartogrp/apal/snap_hap/variants/molphase/Chr6/indv-molphase/Chr6_10xNEW-Plate10-80_Am_Pla_pb3432_v3.5\n",
      "chrom: Chr6\n",
      "sample: 10xNEW-Plate10-80_Am_Pla_pb3432_v3.5\n",
      "BAM: /nfs/scistore18/bartogrp/apal/snap_hap/bams/v3.5/bams_merged_2023/10xNEW-Plate10-80_Am_Pla_pb3432_v3.5.sorted.BXnum.merged.bam\n",
      "VCF: /nfs/scistore18/bartogrp/apal/snap_hap/variants/stitch/Chr6/Am_all_stitch_Chr6_SnpGap5_biSNPs_filtered-DP_500-7732_QUAL20_MQ30.PL.vcf.gz\n",
      "sample HET VCF: Chr6_10xNEW-Plate10-80_Am_Pla_pb3432_v3.5\n",
      "hapcut2 output: Chr6_10xNEW-Plate10-80_Am_Pla_pb3432_v3.5_thres10.hapcut2.output\n"
     ]
    }
   ],
   "source": [
    "chrom=Chr6\n",
    "baseDIR=/nfs/scistore18/bartogrp/apal/snap_hap/variants/molphase/${chrom}/indv-molphase\n",
    "sampleList=~/snap_hap/variants/molphase/samples_gt5x.list\n",
    "bamList=~/snap_hap/sample_info/bam_info/bams_Am_all.txt\n",
    "vcf=~/snap_hap/variants/stitch/${chrom}/Am_all_stitch_${chrom}_SnpGap5_biSNPs_filtered-DP_500-7732_QUAL20_MQ30.PL.vcf.gz\n",
    "threshold=10\n",
    "\n",
    "# sample=$(tail +2 $sampleList | cut -f4 | sed -n \"${SLURM_ARRAY_TASK_ID}p\")\n",
    "sample=10xNEW-Plate10-80_Am_Pla_pb3432_v3.5\n",
    "bam=$(cat $bamList | grep $sample)\n",
    "\n",
    "# coverage=$(tail +2 $sampleList | cut -f2 | sed -n \"${SLURM_ARRAY_TASK_ID}p\")\n",
    "if [ ! -d $baseDIR/${chrom}_${sample} ]; then mkdir -p $baseDIR/${chrom}_${sample}; fi\n",
    "sampleDIR=$baseDIR/${chrom}_${sample}\n",
    "\n",
    "sampleHetVCF=${chrom}_${sample}\n",
    "sampleHomVCF=${chrom}_${sample}\n",
    "\n",
    "unLinkedFragments=${chrom}_${sample}\n",
    "LinkedFragments=${chrom}_${sample}\n",
    "\n",
    "outPhased=${chrom}_${sample}_thres${threshold}.hapcut2.output\n",
    "\n",
    "cd $sampleDIR\n",
    "echo sampleDIR: $sampleDIR\n",
    "echo chrom: $chrom\n",
    "echo sample: $sample\n",
    "# echo coverage: $coverage\n",
    "echo BAM: $bam\n",
    "echo VCF: $vcf\n",
    "echo sample HET VCF: $sampleHetVCF\n",
    "echo hapcut2 output: $outPhased"
   ]
  },
  {
   "cell_type": "markdown",
   "id": "d2e00980-2734-4472-a97e-d4e3dd784a27",
   "metadata": {
    "jp-MarkdownHeadingCollapsed": true
   },
   "source": [
    "### Preprocessing "
   ]
  },
  {
   "cell_type": "code",
   "execution_count": 10,
   "id": "c184a6bb-5a9e-406f-823e-01f492f2ee1b",
   "metadata": {},
   "outputs": [
    {
     "name": "stdout",
     "output_type": "stream",
     "text": [
      "\n",
      "real\t0m2.929s\n",
      "user\t0m2.880s\n",
      "sys\t0m0.053s\n",
      "No of variants in Chr6:1000000-1100000: 1008\n"
     ]
    }
   ],
   "source": [
    "# time bcftools view -s $sample -r $chrom $vcf | awk '/^#/;/Chr/ {OFS=\"\\t\"}; !/^#/ && $10~/^0\\/1/' > ${sampleHetVCF}.het.vcf\n",
    "time bcftools view -s $sample -r Chr6:1000000-1100000 $vcf | awk '/^#/;/Chr/ {OFS=\"\\t\"}; !/^#/ && $10~/^0\\/1/' > ${sampleHetVCF}.het.vcf\n",
    "echo -e 'No of variants in Chr6:1000000-1100000:' $(bcftools view -H ${sampleHetVCF}.het.vcf | wc -l)"
   ]
  },
  {
   "cell_type": "markdown",
   "id": "252787d8-098c-4361-b5bc-c751a1956042",
   "metadata": {
    "jp-MarkdownHeadingCollapsed": true
   },
   "source": [
    "### HapCUT2"
   ]
  },
  {
   "cell_type": "code",
   "execution_count": 13,
   "id": "71396e10-fe96-49d7-9223-4fc9023441f4",
   "metadata": {},
   "outputs": [
    {
     "name": "stdout",
     "output_type": "stream",
     "text": [
      "\n",
      "Extracting haplotype informative reads from bamfiles /nfs/scistore18/bartogrp/apal/snap_hap/bams/v3.5/bams_merged_2023/10xNEW-Plate10-80_Am_Pla_pb3432_v3.5.sorted.BXnum.merged.bam minQV 13 minMQ 20 maxIS 1000 \n",
      "\n",
      "VCF file Chr6_10xNEW-Plate10-80_Am_Pla_pb3432_v3.5.het.vcf has 1008 variants \n",
      "adding chrom Chr6 to index \n",
      "vcffile Chr6_10xNEW-Plate10-80_Am_Pla_pb3432_v3.5.het.vcf chromosomes 1 hetvariants 1008 variants 1008 \n",
      "detected 0 variants with two non-reference alleles, these variants will not be phased\n",
      "reading sorted bamfile /nfs/scistore18/bartogrp/apal/snap_hap/bams/v3.5/bams_merged_2023/10xNEW-Plate10-80_Am_Pla_pb3432_v3.5.sorted.BXnum.merged.bam \n",
      "processing reads mapped to chrom \"Chr6\" \n",
      "processed 2000000 reads\n",
      "final cleanup of fragment list: 1392 current chrom 0 prev 0 \n",
      "\n",
      "real\t0m4.264s\n",
      "user\t0m4.152s\n",
      "sys\t0m0.081s\n",
      "\n",
      "No. of unlinked fragments: 896 Chr6_10xNEW-Plate10-80_Am_Pla_pb3432_v3.5.unlinked.fragments\n",
      "\n",
      "Linking 10X fragments on chromosome: Chr6\n",
      "  reading bedfile...\n",
      "  generating new fragments for HAIRs in boundaries...\n",
      "\n",
      "real\t0m22.847s\n",
      "user\t0m22.389s\n",
      "sys\t0m0.400s\n",
      "\n",
      "No. of linked fragments 371 Chr6_10xNEW-Plate10-80_Am_Pla_pb3432_v3.5.linked.fragments\n",
      "\n",
      "\n",
      "\n",
      "[2023:10:09 19:36:41] input fragment file: Chr6_10xNEW-Plate10-80_Am_Pla_pb3432_v3.5.linked.fragments\n",
      "[2023:10:09 19:36:41] input variantfile (VCF format):Chr6_10xNEW-Plate10-80_Am_Pla_pb3432_v3.5.het.vcf\n",
      "[2023:10:09 19:36:41] haplotypes will be output to file: Chr6_10xNEW-Plate10-80_Am_Pla_pb3432_v3.5_thres10.hapcut2.output\n",
      "[2023:10:09 19:36:41] solution convergence cutoff: 5\n",
      "[2023:10:09 19:36:41] read 1008 variants from Chr6_10xNEW-Plate10-80_Am_Pla_pb3432_v3.5.het.vcf file \n",
      "[2023:10:09 19:36:41] read fragment file and variant file: fragments 371 variants 1008\n",
      "mean number of variants per read is 8.51 \n",
      "[2023:10:09 19:36:41] building read-variant graph for phasing\n",
      "Number of non-trivial connected components 6 max-Degree 33 connected variants 949 coverage-per-variant 3.325606 \n",
      "[2023:10:09 19:36:41] fragments 371 snps 1008 component(blocks) 6\n",
      "[2023:10:09 19:36:41] starting Max-Likelihood-Cut based haplotype assembly algorithm\n",
      "[2023:10:09 19:36:41] starting to post-process phased haplotypes to further improve accuracy\n",
      "[2023:10:09 19:36:41] starting to output phased haplotypes\n",
      "[2023:10:09 19:36:41] OUTPUTTING PRUNED HAPLOTYPE ASSEMBLY TO FILE Chr6_10xNEW-Plate10-80_Am_Pla_pb3432_v3.5_thres10.hapcut2.output\n",
      "[2023:10:09 19:36:41] N50 haplotype length is 98.03 kilobases \n",
      "[2023:10:09 19:36:41] OUTPUTTING PHASED VCF TO FILE Chr6_10xNEW-Plate10-80_Am_Pla_pb3432_v3.5_thres10.hapcut2.output.phased.VCF\n",
      "\n",
      "real\t0m0.233s\n",
      "user\t0m0.155s\n",
      "sys\t0m0.024s\n",
      "\n",
      "No. of total variants 1008\n",
      "\n",
      "No. of phased variants 949\n",
      "\n",
      "No. of unphased variants 59\n"
     ]
    }
   ],
   "source": [
    "# Extract unlinked fragments\n",
    "time extractHAIRS --10X 1 --bam $bam --VCF ${sampleHetVCF}.het.vcf --region $chrom --out ${unLinkedFragments}.unlinked.fragments\n",
    "echo -e \"\\nNo. of unlinked fragments:\" $(wc -l ${unLinkedFragments}.unlinked.fragments)'\\n'\n",
    "\n",
    "# Convert unlinked to linked fragments\n",
    "time python3 ~/_softwares/HapCUT2/utilities/LinkFragments.py  --bam $bam --VCF ${sampleHetVCF}.het.vcf --fragments ${unLinkedFragments}.unlinked.fragments --out ${LinkedFragments}.linked.fragments -d 50000\n",
    "echo -e \"\\nNo. of linked fragments\" $(wc -l ${LinkedFragments}.linked.fragments)'\\n'\n",
    "\n",
    "# Phase with HapCUT2\n",
    "time HAPCUT2 --fragments ${LinkedFragments}.linked.fragments --VCF ${sampleHetVCF}.het.vcf --out ${outPhased} --nf 1 --threshold $threshold --error_analysis_mode 1 --call_homozygous 1 --outvcf 1  --v 0\n",
    "echo -e \"\\nNo. of total variants\" $(bcftools view -H $outPhased.phased.VCF | wc -l)\n",
    "echo -e \"\\nNo. of phased variants\" $(bcftools view -H $outPhased.phased.VCF | grep -vc \"0/1\")\n",
    "echo -e \"\\nNo. of unphased variants\" $(bcftools view -H $outPhased.phased.VCF | grep -c \"0/1\")"
   ]
  },
  {
   "cell_type": "code",
   "execution_count": 18,
   "id": "c41e330d-0a18-4396-bcc6-83371a7f2c45",
   "metadata": {},
   "outputs": [
    {
     "name": "stdout",
     "output_type": "stream",
     "text": [
      "BLOCK: offset: 1 len: 2 phased: 2 SPAN: 9 fragments 1\n",
      "1\t0\t1\tChr6\t1000020\tG\tA\t0/1:./.:0.441,0.547,0.012:0.571:1,0,17\t0\t100.00\t29.99\t1\n",
      "2\t1\t0\tChr6\t1000029\tG\tT\t0/1:./.:0.127,0.847,0.026:0.899:8,0,15\t0\t29.99\t29.99\t1\n",
      "******** \n",
      "BLOCK: offset: 4 len: 1005 phased: 933 SPAN: 98032 fragments 364\n",
      "4\t0\t1\tChr6\t1000090\tT\tC\t0/1:./.:0.269,0.724,0.006:0.737:4,0,21\t0\t100.00\t36.99\t1\n",
      "5\t0\t1\tChr6\t1000092\tC\tT\t0/1:./.:0.253,0.72,0.027:0.775:5,0,14\t0\t37.00\t36.99\t1\n",
      "6\t0\t1\tChr6\t1000107\tC\tT\t0/1:./.:0.214,0.775,0.011:0.797:6,0,18\t0\t74.00\t36.99\t1\n",
      "7\t0\t1\tChr6\t1000116\tC\tT\t0/1:./.:0.244,0.741,0.015:0.771:5,0,17\t0\t100.00\t36.99\t1\n",
      "8\t1\t0\tChr6\t1000176\tC\tT\t0/1:./.:0.184,0.56,0.256:1.072:5,0,3\t0\t100.00\t36.99\t1\n",
      "9\t0\t1\tChr6\t1000205\tA\tG\t0/1:./.:0.388,0.501,0.11:0.722:1,0,7\t0\t100.00\t100.00\t2\n",
      "10\t0\t1\tChr6\t1000259\tG\tA\t0/1:./.:0.223,0.522,0.254:1.031:4,0,3\t0\t100.00\t100.00\t2\n",
      "11\t0\t1\tChr6\t1000262\tG\tA\t0/1:./.:0.458,0.541,0.001:0.543:1,0,27\t0\t100.00\t3.01\t2\n",
      "12\t1\t0\tChr6\t1000266\tG\tA\t0/1:./.:0.37,0.625,0.004:0.634:2,0,22\t0\t37.00\t25.00\t3\n",
      "13\t1\t0\tChr6\t1000278\tT\tC\t0/1:./.:0.056,0.548,0.396:1.34:10,0,1\t0\t100.00\t100.00\t3\n",
      "14\t0\t1\tChr6\t1000310\tA\tT\t0/1:./.:0.437,0.558,0.005:0.568:1,0,20\t0\t100.00\t36.99\t3\n",
      "15\t0\t1\tChr6\t1000311\tG\tT\t0/1:./.:0.434,0.564,0.002:0.569:1,0,25\t0\t100.00\t36.99\t3\n",
      "16\t1\t0\tChr6\t1000367\tC\tT\t0/1:./.:0.206,0.778,0.017:0.811:6,0,17\t0\t100.00\t100.00\t3\n",
      "17\t1\t0\tChr6\t1000381\tC\tT\t0/1:./.:0.21,0.774,0.016:0.806:6,0,17\t0\t100.00\t100.00\t3\n",
      "18\t1\t0\tChr6\t1000424\tA\tG\t0/1:./.:0.2,0.74,0.06:0.86:6,0,11\t0\t100.00\t100.00\t2\n",
      "26\t0\t1\tChr6\t1000579\tG\tA\t0/1:./.:0.358,0.624,0.018:0.66:2,0,15\t0\t100.00\t36.95\t1\n",
      "27\t0\t1\tChr6\t1000596\tA\tG\t0/1:./.:0.102,0.819,0.079:0.976:9,0,10\t0\t100.00\t100.00\t2\n",
      "28\t0\t1\tChr6\t1000600\tC\tT\t0/1:./.:0.446,0.545,0.009:0.564:1,0,18\t0\t100.00\t100.00\t2\n",
      "29\t0\t1\tChr6\t1000681\tA\tG\t0/1:./.:0.242,0.728,0.03:0.788:5,0,14\t0\t100.00\t100.00\t2\n",
      "30\t0\t1\tChr6\t1000704\tT\tG\t0/1:./.:0.124,0.839,0.037:0.913:8,0,14\t0\t100.00\t37.00\t1\n",
      "31\t0\t1\tChr6\t1000735\tT\tC\t0/1:./.:0.428,0.559,0.014:0.586:1,0,16\t0\t100.00\t37.00\t1\n",
      "32\t0\t1\tChr6\t1000738\tT\tC\t0/1:./.:0.244,0.723,0.033:0.788:5,0,13\t0\t100.00\t37.00\t1\n",
      "33\t0\t1\tChr6\t1000777\tA\tG\t0/1:./.:0.438,0.549,0.013:0.575:1,0,16\t0\t100.00\t33.99\t1\n",
      "34\t0\t1\tChr6\t1000821\tA\tG\t0/1:./.:0.07,0.774,0.156:1.085:10,0,7\t0\t100.00\t100.00\t4\n",
      "35\t0\t1\tChr6\t1000936\tA\tT\t0/1:./.:0.422,0.538,0.04:0.618:1,0,11\t0\t100.00\t100.00\t4\n",
      "36\t1\t0\tChr6\t1000981\tA\tG\t0/1:./.:0.393,0.546,0.061:0.668:1,0,10\t0\t100.00\t100.00\t2\n",
      "37\t1\t0\tChr6\t1001255\tA\tT\t0/1:./.:0.333,0.658,0.01:0.677:3,0,18\t0\t100.00\t59.59\t2\n",
      "38\t1\t0\tChr6\t1001260\tG\tA\t0/1:./.:0.049,0.841,0.11:1.061:12,0,9\t0\t100.00\t100.00\t2\n",
      "39\t1\t0\tChr6\t1001331\tT\tA\t0/1:./.:0.181,0.781,0.038:0.856:6,0,13\t0\t100.00\t100.00\t6\n",
      "40\t1\t0\tChr6\t1001354\tA\tC\t0/1:./.:0.174,0.776,0.05:0.877:6,0,12\t0\t100.00\t100.00\t5\n",
      "41\t1\t0\tChr6\t1001488\tG\tA\t0/1:./.:0.143,0.838,0.018:0.875:8,0,17\t0\t100.00\t100.00\t5\n",
      "42\t1\t0\tChr6\t1001491\tT\tC\t0/1:./.:0.035,0.881,0.084:1.05:14,0,10\t0\t100.00\t100.00\t5\n",
      "43\t1\t0\tChr6\t1001496\tT\tC\t0/1:./.:0.125,0.856,0.019:0.894:8,0,17\t0\t100.00\t100.00\t5\n",
      "44\t1\t0\tChr6\t1001531\tT\tC\t0/1:./.:0.068,0.85,0.082:1.013:11,0,10\t0\t100.00\t100.00\t4\n",
      "45\t1\t0\tChr6\t1001532\tG\tA\t0/1:./.:0.114,0.841,0.045:0.932:9,0,13\t0\t100.00\t100.00\t4\n",
      "46\t1\t0\tChr6\t1001543\tT\tC\t0/1:./.:0.208,0.751,0.041:0.833:6,0,13\t0\t100.00\t100.00\t4\n",
      "47\t1\t0\tChr6\t1001580\tG\tT\t0/1:./.:0.321,0.66,0.019:0.698:3,0,15\t0\t100.00\t38.00\t3\n",
      "48\t1\t0\tChr6\t1001644\tG\tA\t0/1:./.:0.197,0.718,0.085:0.888:6,0,9\t0\t100.00\t100.00\t3\n",
      "49\t1\t0\tChr6\t1001657\tA\tG\t0/1:./.:0.317,0.657,0.026:0.709:3,0,14\t0\t100.00\t100.00\t3\n",
      "50\t1\t0\tChr6\t1001661\tA\tG\t0/1:./.:0.167,0.726,0.107:0.94:6,0,8\t0\t100.00\t100.00\t4\n",
      "51\t1\t0\tChr6\t1001673\tA\tG\t0/1:./.:0.208,0.725,0.067:0.858:5,0,10\t0\t100.00\t100.00\t3\n",
      "54\t1\t0\tChr6\t1001877\tC\tT\t0/1:./.:0.329,0.661,0.01:0.681:3,0,18\t0\t100.00\t62.09\t2\n",
      "55\t1\t0\tChr6\t1001945\tA\tG\t0/1:./.:0.191,0.774,0.035:0.845:6,0,13\t0\t100.00\t100.00\t3\n",
      "56\t1\t0\tChr6\t1001977\tA\tG\t0/1:./.:0.41,0.58,0.01:0.601:2,0,18\t0\t100.00\t100.00\t3\n",
      "57\t1\t0\tChr6\t1002013\tG\tA\t0/1:./.:0.347,0.633,0.02:0.673:3,0,15\t0\t100.00\t37.00\t1\n"
     ]
    }
   ],
   "source": [
    "head -50 $outPhased"
   ]
  },
  {
   "cell_type": "code",
   "execution_count": 22,
   "id": "7f2a6f0f-5a23-45f9-a8b2-6ccb0666f3ed",
   "metadata": {},
   "outputs": [
    {
     "name": "stdout",
     "output_type": "stream",
     "text": [
      "#CHROM\tPOS\tREF\tALT\tINFO\tFORMAT\t10xNEW-Plate10-80_Am_Pla_pb3432_v3.5\n",
      "[main_vcfview] Error: cannot write to (null)\n",
      "Chr6\t1000020\tG\tA\tEAF=0.45818;INFO_SCORE=0.49317;HWE=5.37e-23;ERC=985.466;EAC=1082.5;PAF=0.47654;AC=1;AN=2\tGT:PQ:PD:PS\t1|0:30:1:1000020\n",
      "Chr6\t1000029\tG\tT\tEAF=0.04558;INFO_SCORE=0.3758;HWE=1;ERC=83.7223;EAC=1920.45;PAF=0.04177;AC=1;AN=2\tGT:PQ:PD:PS\t0|1:30:1:1000020\n",
      "Chr6\t1000077\tC\tT\tEAF=0.04814;INFO_SCORE=0.28625;HWE=1;ERC=39.2469;EAC=1506.91;PAF=0.02538;AC=1;AN=2\tGT:PG:GP:DS:PL:PS\t0/1:./.:0.238,0.754,0.008:0.77:5,0,20:.\n",
      "Chr6\t1000090\tT\tC\tEAF=0.04413;INFO_SCORE=0.28503;HWE=1;ERC=40.2703;EAC=1515.87;PAF=0.02588;AC=1;AN=2\tGT:PQ:PD:PS\t1|0:37:1:1000090\n",
      "Chr6\t1000092\tC\tT\tEAF=0.13937;INFO_SCORE=0.28352;HWE=0.00298;ERC=123.963;EAC=1396.21;PAF=0.08155;AC=1;AN=2\tGT:PQ:PD:PS\t1|0:37:1:1000090\n",
      "Chr6\t1000107\tC\tT\tEAF=0.0991;INFO_SCORE=0.35638;HWE=0.0827;ERC=85.0538;EAC=1438.16;PAF=0.05584;AC=1;AN=2\tGT:PQ:PD:PS\t1|0:37:1:1000090\n",
      "Chr6\t1000116\tC\tT\tEAF=0.14335;INFO_SCORE=0.37598;HWE=0.00171;ERC=114.943;EAC=1447.27;PAF=0.07358;AC=1;AN=2\tGT:PQ:PD:PS\t1|0:37:1:1000090\n",
      "Chr6\t1000176\tC\tT\tEAF=0.52038;INFO_SCORE=0.52496;HWE=9.13e-17;ERC=956.504;EAC=789.512;PAF=0.54782;AC=1;AN=2\tGT:PQ:PD:PS\t0|1:37:1:1000090\n",
      "Chr6\t1000205\tA\tG\tEAF=0.27489;INFO_SCORE=0.44698;HWE=1.66e-20;ERC=297.552;EAC=1409.56;PAF=0.1743;AC=1;AN=2\tGT:PQ:PD:PS\t1|0:100:2:1000090\n",
      "Chr6\t1000259\tG\tA\tEAF=0.25139;INFO_SCORE=0.49889;HWE=1.51e-12;ERC=288.92;EAC=1715.29;PAF=0.14416;AC=1;AN=2\tGT:PQ:PD:PS\t1|0:100:2:1000090\n",
      "Chr6\t1000262\tG\tA\tEAF=0.02455;INFO_SCORE=0.27058;HWE=1;ERC=23.3414;EAC=1999.86;PAF=0.01154;AC=1;AN=2\tGT:PQ:PD:PS\t1|0:3:2:1000090\n",
      "Chr6\t1000266\tG\tA\tEAF=0.07373;INFO_SCORE=0.54908;HWE=0.0281;ERC=153.16;EAC=1926.83;PAF=0.07363;AC=1;AN=2\tGT:PQ:PD:PS\t0|1:25:3:1000090\n",
      "Chr6\t1000278\tT\tC\tEAF=0.72945;INFO_SCORE=0.63124;HWE=4.95e-07;ERC=1519.05;EAC=681.042;PAF=0.69045;AC=1;AN=2\tGT:PQ:PD:PS\t0|1:100:3:1000090\n",
      "Chr6\t1000310\tA\tT\tEAF=0.05084;INFO_SCORE=0.62293;HWE=0.718;ERC=113.507;EAC=2232.35;PAF=0.04839;AC=1;AN=2\tGT:PQ:PD:PS\t1|0:37:3:1000090\n",
      "Chr6\t1000311\tG\tT\tEAF=0.05046;INFO_SCORE=0.62073;HWE=0.718;ERC=112.451;EAC=2256.52;PAF=0.04747;AC=1;AN=2\tGT:PQ:PD:PS\t1|0:37:3:1000090\n"
     ]
    }
   ],
   "source": [
    "bcftools view -h $outPhased.phased.VCF | cut -f1-2,4-5,8-10 |  tail -1\n",
    "bcftools view -H $outPhased.phased.VCF | head -15 | cut -f1-2,4-5,8-10"
   ]
  },
  {
   "cell_type": "code",
   "execution_count": 15,
   "id": "c125fddc-2928-4281-9d83-03a2beedac5e",
   "metadata": {},
   "outputs": [
    {
     "name": "stdout",
     "output_type": "stream",
     "text": [
      "ERROR: Missing required arguments.\n",
      "--vcf1 and --vcf2 options are required\n"
     ]
    },
    {
     "ename": "",
     "evalue": "1",
     "output_type": "error",
     "traceback": []
    }
   ],
   "source": [
    "python3 ~/_softwares/HapCUT2/utilities/calculate_haplotype_statistics.py -v1 $outPhased.phased.VCF"
   ]
  },
  {
   "cell_type": "markdown",
   "id": "ac50909b-879c-4a45-86ba-dc20a66e77cf",
   "metadata": {},
   "source": [
    "## Cluster implementation"
   ]
  },
  {
   "cell_type": "markdown",
   "id": "3e9f1965-7d92-4c78-b185-d8aec2163c56",
   "metadata": {},
   "source": [
    "### Chr6"
   ]
  },
  {
   "cell_type": "code",
   "execution_count": 2,
   "id": "f3ba95f5-d9dc-46df-910d-3260111d8251",
   "metadata": {},
   "outputs": [],
   "source": [
    "cd /nfs/scistore18/bartogrp/apal/snap_hap/variants/jobs/molphase_allSamples\n",
    "chrom=Chr6\n",
    "baseDIR=/nfs/scistore18/bartogrp/apal/snap_hap/variants/molphase/${chrom}/indv-molphase\n",
    "bamList=~/snap_hap/sample_info/bam_info/bams_Am_all.txt\n",
    "vcf=~/snap_hap/variants/stitch/${chrom}/Am_all_stitch_${chrom}_SnpGap5_biSNPs_filtered-DP_500-7732_QUAL20_MQ30.PL.vcf.gz\n",
    "threshold=10\n",
    "headerFile=~/snap_hap/variants/molphase/molphase.header"
   ]
  },
  {
   "cell_type": "code",
   "execution_count": 3,
   "id": "ded3ecfd-4de6-4c87-b167-b6f8c6806811",
   "metadata": {},
   "outputs": [
    {
     "name": "stdout",
     "output_type": "stream",
     "text": [
      "##INFO=<ID=HAPCUT,Number=1,Type=String,Description=\"HapCUT2 Phase\">\n",
      "##FORMAT=<ID=GX,Number=1,Type=String,Description=\"HapCUT2 Phased Genotype\">\n",
      "##FORMAT=<ID=PS,Number=1,Type=Integer,Description=\"ID of Phase Set for Variant\">\n",
      "##FORMAT=<ID=PQ,Number=1,Type=Integer,Description=\"Phred QV indicating probability that this variant is incorrectly phased relative to the haplotype\">\n",
      "##FORMAT=<ID=PD,Number=1,Type=Integer,Description=\"phased Read Depth\">\n"
     ]
    }
   ],
   "source": [
    "cat $headerFile"
   ]
  },
  {
   "cell_type": "code",
   "execution_count": null,
   "id": "3675aecd-8c7a-4370-9963-63d89198a6fe",
   "metadata": {},
   "outputs": [],
   "source": [
    "sampleList=~/snap_hap/variants/molphase/samples_gt5x.list\n",
    "# sbatch --array=1-180 -J molphase_Chr6_gt5x ~/snap_hap/_scripts/sbatch/phase/job-molphase_allSamples.sbatch $chrom $baseDIR $sampleList $bamList $vcf $threshold\n",
    "#Postprocessing \n",
    "#NB: Ideally, both molphase and postprocesing would be run altogether.\n",
    "sbatch --array=1-180 -J postPhase_Chr6_gt5x ~/snap_hap/_scripts/sbatch/phase/job-molphase_allSamples.sbatch $chrom $baseDIR $sampleList $bamList $vcf $threshold"
   ]
  },
  {
   "cell_type": "markdown",
   "id": "05df42e6-263a-4fae-ba1f-584b16f6b82d",
   "metadata": {},
   "source": [
    "```\n",
    "#SBATCH --partition=defaultp\n",
    "#SBATCH --time=48:00:00\n",
    "#SBATCH --ntasks=1\n",
    "#SBATCH --ntasks-per-node=1\n",
    "#SBATCH --cpus-per-task=1\n",
    "#SBATCH --mem-per-cpu=16G\n",
    "```"
   ]
  },
  {
   "cell_type": "code",
   "execution_count": null,
   "id": "128e001b-5cb8-4781-81fa-68daef7f113f",
   "metadata": {},
   "outputs": [],
   "source": [
    "sampleList=~/snap_hap/variants/molphase/samples_lt5x.list\n",
    "# sbatch --array=1-894 -J molphase_Chr6_lt5x ~/snap_hap/_scripts/sbatch/phase/job-molphase_allSamples.sbatch $chrom $baseDIR $sampleList $bamList $vcf $threshold\n",
    "#Postprocessing\n",
    "sbatch --array=1-894 -J postPhase_Chr6_lt5x ~/snap_hap/_scripts/sbatch/phase/job-molphase_allSamples.sbatch $chrom $baseDIR $sampleList $bamList $vcf $threshold"
   ]
  },
  {
   "cell_type": "markdown",
   "id": "804721fa-7408-47bf-8d5a-d924af22b74e",
   "metadata": {},
   "source": [
    "```\n",
    "#SBATCH --partition=defaultp\n",
    "#SBATCH --time=03:00:00\n",
    "#SBATCH --ntasks=1\n",
    "#SBATCH --ntasks-per-node=1\n",
    "#SBATCH --cpus-per-task=1\n",
    "#SBATCH --mem-per-cpu=8G\n",
    "```"
   ]
  },
  {
   "cell_type": "markdown",
   "id": "82dd7978-b62b-480f-b2df-e6e23822e969",
   "metadata": {},
   "source": [
    "----"
   ]
  },
  {
   "cell_type": "code",
   "execution_count": null,
   "id": "32c5e6ca-9465-4248-b19c-ea3a63214ec0",
   "metadata": {},
   "outputs": [],
   "source": [
    "## Merge VCFs\n",
    "echo -e '\\nMerging sample VCFs'\n",
    "srun time bcftools merge --threads ${SLURM_CPUS_PER_TASK} -Oz -o $outVCF -l $sampleVcfList \n",
    "tabix -f $outVCF\n",
    "## Create GT file\n",
    "srun time bcftools query -f '%CHROM\\t%POS[\\t%GT]\\n' $vcf > Am_all_molphased_Chr6.gt"
   ]
  },
  {
   "cell_type": "code",
   "execution_count": null,
   "id": "70df82d3-7c15-47f5-925c-7d24c5ce7614",
   "metadata": {},
   "outputs": [],
   "source": [
    "## Merge all combined sample VCF (cluster implementation)\n",
    "cd /nfs/scistore18/bartogrp/apal/snap_hap/variants/jobs/molphase_allSamples/mergeVcfs_Chr6\n",
    "chrom=Chr6\n",
    "baseDIR=/nfs/scistore18/bartogrp/apal/snap_hap/variants/molphase/${chrom}\n",
    "realpath ${baseDIR}/indv-molphase/*/*combined.vcf.gz > ${baseDIR}/molphaseVcfs.list\n",
    "sampleVcfList=${baseDIR}/molphaseVcfs.list\n",
    "\n",
    "sbatch -J postPhase-mergeVcfs_${chrom} ~/snap_hap/_scripts/sbatch/phase/job-molphase_mergeVcfs.sbatch $chrom $baseDIR $sampleVcfList"
   ]
  },
  {
   "cell_type": "markdown",
   "id": "e80300f3-5b7d-4553-b885-64b2de25947d",
   "metadata": {},
   "source": [
    "----"
   ]
  },
  {
   "cell_type": "code",
   "execution_count": 24,
   "id": "0a4496bb-f445-4fa9-9a4f-141b6644d9ad",
   "metadata": {},
   "outputs": [
    {
     "name": "stdout",
     "output_type": "stream",
     "text": [
      "Total no. of variant sites in Chr6: 3361343\n"
     ]
    }
   ],
   "source": [
    "TotalSites=$(bcftools view -H $vcf | wc -l)\n",
    "echo -e \"Total no. of variant sites in Chr6:\" $TotalSites"
   ]
  },
  {
   "cell_type": "code",
   "execution_count": 23,
   "id": "97f6588f-7ec9-4449-b760-644a3902d67d",
   "metadata": {},
   "outputs": [],
   "source": [
    "cd ~/snap_hap/variants/molphase/Chr6\n",
    "paste <(head -1 ~/snap_hap/sample_info/samples_Amajus_SnapHap_LastUpdate-2023-10.txt) <(echo -e \"sampleFolder\\tunLinkedFragments\\tLinkedFragments\\tTotalHetSites\\tPhasedSites\\tunPhasedSites\") > phaseVal_Chr6.txt\n",
    "\n",
    "for sampleFolder in /nfs/scistore18/bartogrp/apal/snap_hap/variants/molphase/Chr6/indv-molphase/*;\n",
    "do \n",
    "    sample=`basename $sampleFolder | cut -f3- -d_`\n",
    "    grep -w $sample ~/snap_hap/sample_info/samples_Amajus_SnapHap_LastUpdate-2023-10.txt > tmpSample.txt\n",
    "    \n",
    "    unLinkedFragments=`cat $sampleFolder/*.unlinked.fragments | wc -l`\n",
    "    LinkedFragments=`cat $sampleFolder/*.linked.fragments | wc -l`\n",
    "\n",
    "    TotalHetSites=$(bcftools view -H $sampleFolder/*.het.vcf | wc -l)\n",
    "    PhasedSites=$(bcftools view -H $sampleFolder/*.phased.VCF | grep -vc \"0/1\")\n",
    "    unPhasedSites=$(bcftools view -H $sampleFolder/**.phased.VCF | grep -c \"0/1\")\n",
    "\n",
    "    paste tmpSample.txt <(echo -e \"$(basename $sampleFolder)\\t$unLinkedFragments\\t$LinkedFragments\\t$TotalHetSites\\t$PhasedSites\\t$unPhasedSites\") >> phaseVal_Chr6.txt\n",
    "    echo `basename $sampleFolder` -> Done\n",
    "    rm tmpSample.txt\n",
    "done"
   ]
  },
  {
   "cell_type": "markdown",
   "id": "9ac5385f-1610-4b8b-967b-1ae02eca12b0",
   "metadata": {},
   "source": [
    "## RosEl"
   ]
  },
  {
   "cell_type": "code",
   "execution_count": 5,
   "id": "51a418a4-033e-42a4-b2ab-c3810cac0821",
   "metadata": {},
   "outputs": [],
   "source": [
    "chrom=Chr6\n",
    "chromStart_buffer=52500000\n",
    "chromEnd_buffer=53500000\n",
    "chromStart_RosEl=52775000\n",
    "chromEnd_RosEl=53150000"
   ]
  },
  {
   "cell_type": "code",
   "execution_count": 2,
   "id": "e6d36245-6b11-4542-a636-5be689dbf56f",
   "metadata": {},
   "outputs": [],
   "source": [
    "cd /nfs/scistore18/bartogrp/apal/snap_hap/variants/molphase/Chr6/indv-molphase/Chr6_covHigh_60x-1_Am_Pla_pb0464_v3.5"
   ]
  },
  {
   "cell_type": "code",
   "execution_count": 3,
   "id": "654ddeb4-bf2a-4606-9010-8f24f23c70ca",
   "metadata": {},
   "outputs": [
    {
     "name": "stdout",
     "output_type": "stream",
     "text": [
      "Chr6_covHigh_60x-1_Am_Pla_pb0464_v3.5.het.vcf.gz\n"
     ]
    }
   ],
   "source": [
    "if [ ! -e *.het.vcf.gz ]; then bgzip *.het.vcf; fi \n",
    "hetVCF=(*.het.vcf.gz)\n",
    "bcftools tabix -f $hetVCF\n",
    "\n",
    "echo $hetVCF"
   ]
  },
  {
   "cell_type": "code",
   "execution_count": 7,
   "id": "0d07f999-063b-4da2-b16a-f2b923ea0fd7",
   "metadata": {},
   "outputs": [
    {
     "name": "stdout",
     "output_type": "stream",
     "text": [
      "Variants in RosEl+buffer: 10897\n",
      "Variants in RosEl: 3888\n"
     ]
    }
   ],
   "source": [
    "echo \"Variants in RosEl+buffer:\" `bcftools view -H -r $chrom:${chromStart_buffer}-${chromEnd_buffer} $hetVCF | wc -l`\n",
    "echo \"Variants in RosEl:\" `bcftools view -H -r $chrom:${chromStart_RosEl}-${chromEnd_RosEl} $hetVCF | wc -l`"
   ]
  },
  {
   "cell_type": "code",
   "execution_count": 12,
   "id": "663cf7f3-2782-4daa-8b6a-39d15b63ca27",
   "metadata": {},
   "outputs": [
    {
     "name": "stdout",
     "output_type": "stream",
     "text": [
      "Chr6_covHigh_60x-1_Am_Pla_pb0464_v3.5_thres10.hapcut2.output\n",
      "Phased Variants in RosEl+buffer: 10700\n",
      "Phased Variants in RosEl: 3827\n"
     ]
    }
   ],
   "source": [
    "phaseBlockFile=(*.hapcut2.output)\n",
    "echo $phaseBlockFile\n",
    "\n",
    "echo \"Phased Variants in RosEl+buffer:\" \\\n",
    "    `awk -v chromStart_buffer=${chromStart_buffer} \\\n",
    "        -v chromEnd_buffer=${chromEnd_buffer} \\\n",
    "        '$5 > chromStart_buffer && $5 < chromEnd_buffer {count++} END {print count}' $phaseBlockFile`\n",
    "\n",
    "echo \"Phased Variants in RosEl:\" \\\n",
    "    `awk -v chromStart_RosEl=${chromStart_RosEl} \\\n",
    "        -v chromEnd_RosEl=${chromEnd_RosEl} \\\n",
    "        '$5 > chromStart_RosEl && $5 < chromEnd_RosEl {count++} END {print count}' $phaseBlockFile`"
   ]
  },
  {
   "cell_type": "code",
   "execution_count": 57,
   "id": "46728bed-918b-4edb-a01f-64001ef4b442",
   "metadata": {},
   "outputs": [
    {
     "name": "stdout",
     "output_type": "stream",
     "text": [
      "Chr6\t45167013\t55662924\tChr6:45167013-55662924:95857:10495911:618514\t350632\t101218\t95857\t10495911\t618514\n",
      "Chr6\t53128522\t53132181\tChr6:53128522-53132181:4:3659:77\t427813\t4\t4\t3659\t77\n",
      "Chr6\t52938340\t52939012\tChr6:52938340-52939012:13:672:170\t425877\t13\t13\t672\t170\n",
      "Chr6\t52788415\t52788834\tChr6:52788415-52788834:10:419:16\t424359\t10\t10\t419\t16\n",
      "Chr6\t53043020\t53043318\tChr6:53043020-53043318:3:298:4\t426919\t3\t3\t298\t4\n",
      "Chr6\t52787198\t52787472\tChr6:52787198-52787472:7:274:29\t424352\t7\t7\t274\t29\n",
      "Chr6\t53058632\t53058842\tChr6:53058632-53058842:2:210:2\t427014\t2\t2\t210\t2\n",
      "Chr6\t53115916\t53116076\tChr6:53115916-53116076:2:160:10\t427684\t2\t2\t160\t10\n",
      "Chr6\t52876790\t52876948\tChr6:52876790-52876948:3:158:77\t425378\t3\t3\t158\t77\n",
      "Chr6\t53146728\t53146853\tChr6:53146728-53146853:6:125:11\t427982\t6\t6\t125\t11\n",
      "Chr6\t53147591\t53147715\tChr6:53147591-53147715:3:124:18\t427989\t3\t3\t124\t18\n",
      "Chr6\t52792422\t52792513\tChr6:52792422-52792513:3:91:6\t424392\t3\t3\t91\t6\n",
      "Chr6\t53056194\t53056282\tChr6:53056194-53056282:4:88:1\t427009\t4\t4\t88\t1\n",
      "Chr6\t52788978\t52789061\tChr6:52788978-52789061:7:83:3\t424370\t7\t7\t83\t3\n",
      "Chr6\t53055722\t53055801\tChr6:53055722-53055801:2:79:2\t427002\t2\t2\t79\t2\n",
      "Chr6\t52931044\t52931105\tChr6:52931044-52931105:6:61:4\t425783\t6\t6\t61\t4\n",
      "Chr6\t52789169\t52789217\tChr6:52789169-52789217:2:48:2\t424377\t2\t2\t48\t2\n",
      "Chr6\t52834170\t52834206\tChr6:52834170-52834206:3:36:1\t425047\t3\t3\t36\t1\n",
      "Chr6\t52791886\t52791915\tChr6:52791886-52791915:2:29:4\t424388\t2\t2\t29\t4\n",
      "Chr6\t52928733\t52928761\tChr6:52928733-52928761:2:28:1\t425760\t2\t2\t28\t1\n",
      "Chr6\t52963488\t52963513\tChr6:52963488-52963513:2:25:16\t425956\t2\t2\t25\t16\n",
      "Chr6\t53041279\t53041297\tChr6:53041279-53041297:2:18:64\t426915\t2\t2\t18\t64\n",
      "Chr6\t52834830\t52834841\tChr6:52834830-52834841:3:11:2\t425055\t3\t3\t11\t2\n",
      "Chr6\t53127341\t53127350\tChr6:53127341-53127350:2:9:30\t427810\t2\t2\t9\t30\n",
      "Chr6\t53132606\t53132612\tChr6:53132606-53132612:2:6:8\t427817\t2\t2\t6\t8\n"
     ]
    }
   ],
   "source": [
    "phaseBlockBED=(*.hapcut2.bed)\n",
    "\n",
    "cat $phaseBlockBED | \\\n",
    "    awk -v start=${chromStart_RosEl} -v end=${chromEnd_RosEl} \\\n",
    "        '!($3 < start) && !($2 > end)' | \\\n",
    "    sort -k 8nr"
   ]
  },
  {
   "cell_type": "code",
   "execution_count": 58,
   "id": "ead00f00-cd71-42ff-aa9a-8081544c991f",
   "metadata": {},
   "outputs": [
    {
     "name": "stdout",
     "output_type": "stream",
     "text": [
      "SPAN: 3659\n",
      "4\n",
      "4\n"
     ]
    }
   ],
   "source": [
    "# BLOCK: offset: 60 len: 160 phased: 151 SPAN: 5362 fragments 490\n",
    "len=4\n",
    "span=3659\n",
    "block=\"SPAN: $span\"\n",
    "echo $block\n",
    "\n",
    "grep -A $((len+1)) \"$block\" *output | awk -v start=${chromStart_RosEl} -v end=${chromEnd_RosEl} '!($5 < start) && !($5 > end) {count++} END {print count}'\n",
    "grep -A $((len+1)) \"$block\" *output | awk -v start=${chromStart_buffer} -v end=${chromEnd_buffer} '!($5 < start) && !($5 > end) {count++} END {print count}'"
   ]
  },
  {
   "cell_type": "code",
   "execution_count": 60,
   "id": "d3d4526b-4a9b-40b1-b34f-33f6d77cd055",
   "metadata": {},
   "outputs": [
    {
     "name": "stdout",
     "output_type": "stream",
     "text": [
      "SPAN: 10495911\n",
      "424163\t1\t0\tChr6\t52775025\tT\tC\t0/1:0/1:0.053,0.935,0.012:0.958:12,0,19\t0\t100.00\t100.00\t27\n",
      "424164\t1\t0\tChr6\t52775101\tT\tC\t0/1:0/1:0.014,0.944,0.042:1.028:18,0,14\t0\t100.00\t100.00\t25\n",
      "424165\t0\t1\tChr6\t52775126\tC\tT\t0/1:0/1:0.071,0.929,0:0.929:11,0,255\t0\t100.00\t100.00\t16\n",
      "424166\t1\t0\tChr6\t52775140\tT\tA\t0/1:0/1:0.019,0.922,0.059:1.041:17,0,12\t0\t100.00\t100.00\t18\n",
      "424167\t1\t0\tChr6\t52775150\tA\tC\t0/1:0/1:0.014,0.906,0.081:1.067:18,0,10\t0\t100.00\t100.00\t22\n",
      "424168\t1\t0\tChr6\t52775162\tT\tC\t0/1:0/1:0.023,0.925,0.052:1.03:16,0,13\t0\t100.00\t100.00\t23\n",
      "424169\t1\t0\tChr6\t52775172\tA\tT\t0/1:./.:0.02,0.886,0.094:1.074:16,0,10\t0\t100.00\t100.00\t21\n",
      "424170\t1\t0\tChr6\t52775175\tG\tA\t0/1:./.:0.074,0.867,0.059:0.984:11,0,12\t0\t100.00\t100.00\t21\n",
      "424171\t1\t0\tChr6\t52775289\tC\tT\t0/1:0/1:0.003,0.996,0.001:0.998:25,0,30\t0\t100.00\t100.00\t16\n",
      "424172\t1\t0\tChr6\t52775392\tG\tA\t0/1:./.:0.214,0.786,0:0.786:6,0,254\t0\t100.00\t100.00\t21\n",
      "grep: write error: Broken pipe\n"
     ]
    }
   ],
   "source": [
    "# Chr6\t45167013\t55662924\tChr6:45167013-55662924:95857:10495911:618514\t350632\t101218\t95857\t10495911\t618514\n",
    "len=101218\n",
    "span=10495911\n",
    "block=\"SPAN: $span\"\n",
    "echo $block\n",
    "\n",
    "# grep -A $((len+1)) \"$block\" *output | awk -v start=${chromStart_RosEl} -v end=${chromEnd_RosEl} '!($5 < start) && !($5 > end) {count++} END {print count}'\n",
    "grep -A $((len+1)) \"$block\" *output | awk -v start=${chromStart_RosEl} -v end=${chromEnd_RosEl} '!($5 < start) && !($5 > end)' | head\n",
    "\n",
    "# grep -A $((len+1)) \"$block\" *output | awk -v start=${chromStart_buffer} -v end=${chromEnd_buffer} '!($5 < start) && !($5 > end) {count++} END {print count}'"
   ]
  },
  {
   "cell_type": "markdown",
   "id": "91fe1680-9fc4-4a57-8c76-4abc3c3a10d8",
   "metadata": {},
   "source": [
    "## Extract genotypes from largest phase blocks"
   ]
  },
  {
   "cell_type": "markdown",
   "id": "9b32db4b-f35c-4e0a-a414-135074f0d4ee",
   "metadata": {
    "jp-MarkdownHeadingCollapsed": true
   },
   "source": [
    "### WRONG IMPLEMENTATION: Largest 3/5 blocks"
   ]
  },
  {
   "cell_type": "markdown",
   "id": "fa0bd233-5555-4415-9189-cc1af4ff48f4",
   "metadata": {},
   "source": [
    "If just given the start and end coords of the largest phaseblock, positions that do not necessarily belong to the phaseblock will also be retained."
   ]
  },
  {
   "cell_type": "code",
   "execution_count": null,
   "id": "e51870ac-f330-45ee-ac7b-a654e15be50a",
   "metadata": {},
   "outputs": [],
   "source": [
    "baseDIR=~/snap_hap/variants/molphase/Chr6/indv-molphase\n",
    "cd $baseDIR\n",
    "\n",
    "for sample in *covHigh*\n",
    "do\n",
    "    echo -e $sample\"\\t\"\n",
    "\n",
    "\tcd ${baseDIR}/${sample}     \n",
    "\tif [ ! -d phaseBlocks_RosEl+buffer ]; then mkdir phaseBlocks_RosEl+buffer; fi\n",
    "\n",
    "\tvcf=${sample}_thres10.hapcut2.output.combined.vcf.gz\n",
    "\t\n",
    "\t## Make BED files\n",
    "\tsort -k 10nr ${sample}_RosEl+buffer.bed | head -5 | cut -f1-3 > phaseBlocks_RosEl+buffer/phaseBlocks_Top5.bed\n",
    "\tsort -k 10nr ${sample}_RosEl+buffer.bed | head -3 | cut -f1-3 > phaseBlocks_RosEl+buffer/phaseBlocks_Top3.bed\n",
    "\n",
    "\t## Make VCF files\n",
    "\tbcftools view -R phaseBlocks_RosEl+buffer/phaseBlocks_Top5.bed $vcf -Oz -o phaseBlocks_RosEl+buffer/Top5.vcf.gz\n",
    "    bcftools tabix phaseBlocks_RosEl+buffer/Top5.vcf.gz\n",
    "\n",
    "    bcftools view -R phaseBlocks_RosEl+buffer/phaseBlocks_Top3.bed $vcf -Oz -o phaseBlocks_RosEl+buffer/Top3.vcf.gz\n",
    "    bcftools tabix phaseBlocks_RosEl+buffer/Top3.vcf.gz\n",
    "done"
   ]
  },
  {
   "cell_type": "code",
   "execution_count": null,
   "id": "b7cbf162-e26d-4faf-be16-76efb7cb2194",
   "metadata": {},
   "outputs": [],
   "source": [
    "## Make VCF filename list to merge VCFs\n",
    "cd ~/snap_hap/variants/molphase/Chr6/fst_test\n",
    "realpath ~/snap_hap/variants/molphase/Chr6/indv-molphase/*/phaseBlocks_RosEl+buffer/Top5.vcf.gz > RosEl+buffer_Top5_vcfs.list\n",
    "realpath ~/snap_hap/variants/molphase/Chr6/indv-molphase/*/phaseBlocks_RosEl+buffer/Top3.vcf.gz > RosEl+buffer_Top3_vcfs.list\n",
    "\n",
    "## Merge VCFs\n",
    "time bcftools merge -l RosEl+buffer_Top5_vcfs.list --threads 8 -Oz -o RosEl+buffer_Top5.vcf.gz\n",
    "bcftools tabix -f RosEl+buffer_Top5.vcf.gz\n",
    "\n",
    "## Subset RosEl\n",
    "time bcftools view -r Chr6:52500000-53500000 RosEl+buffer_Top5.vcf.gz -Oz -o tmp.vcf.gz\n",
    "mv tmp.vcf.gz RosEl+buffer_Top5.vcf.gz\n",
    "bcftools tabix -f RosEl+buffer_Top5.vcf.gz\n",
    "\n",
    "## Repeat same as above for RosEl+bufer_Top3 phaseblocks\n",
    "time bcftools merge -l RosEl+buffer_Top3_vcfs.list --threads 8 -Oz -o RosEl+buffer_Top3.vcf.gz\n",
    "bcftools tabix -f RosEl+buffer_Top3.vcf.gz\n",
    "time bcftools view -r Chr6:52500000-53500000 RosEl+buffer_Top3.vcf.gz -Oz -o tmp.vcf.gz\n",
    "mv tmp.vcf.gz RosEl+buffer_Top3.vcf.gz\n",
    "bcftools tabix -f RosEl+buffer_Top3.vcf.gz"
   ]
  },
  {
   "cell_type": "markdown",
   "id": "6e822547-83eb-4cee-b563-d90a535866d3",
   "metadata": {},
   "source": [
    "### CORRECT IMPLEMENTATION: Largest 1 block"
   ]
  },
  {
   "cell_type": "code",
   "execution_count": null,
   "id": "3f0bbfde-7131-43f9-b5f1-4657eee05566",
   "metadata": {},
   "outputs": [],
   "source": [
    "chrom=Chr6\n",
    "counter=1\n",
    "run=test-2024Apr_phaseBlockTop1\n",
    "\n",
    "start=52500000 ##RosEl+buffer\n",
    "end=53500000 ##RosEl+buffer\n",
    "\n",
    "# start=52775000 ##RosEl\n",
    "# end=53150000 ##RosEl\n",
    "\n",
    "baseDIR=/nfs/scistore18/bartogrp/apal/snap_hap/variants/molphase/$chrom\n",
    "\n",
    "## Write header for file to store phaseblock information about each sample\n",
    "echo -e PlantID\"\\t\"chrom\"\\t\"start\"\\t\"end > $baseDIR/$run/RosEl+buffer_Top1_blockSpan.txt\n",
    "\n",
    "cd $baseDIR/indv-molphase\n",
    "for sample in *covHigh*\n",
    "do\n",
    "\t## Output sample nanme on terminal\n",
    "\techo -e $counter\"\\t\"$sample\"\\t\" \n",
    "\n",
    "\t## Change sample directory\n",
    "\tcd ${baseDIR}/indv-molphase/${sample}\n",
    "\n",
    "\t## Some housekeeping.\n",
    "\tif [ ! -d phaseBlocks_RosEl+buffer ]; then mkdir phaseBlocks_RosEl+buffer; fi\n",
    "\t# if [ ! -d phaseBlocks_RosEl+buffer/run2_2023Dec ]; then mkdir phaseBlocks_RosEl+buffer/run2_2023Dec; fi\n",
    "\n",
    "\t## Set variables\n",
    "\tvcf=${sample}_thres10.hapcut2.output.combined.vcf.gz\n",
    "\tfullBlockFile=${sample}_thres10.hapcut2.output\n",
    "\tphaseBlockBed=${sample}_RosEl+buffer.bed\n",
    "\n",
    "\t## Extract information on the longest phaseblock\n",
    "\toffset=`sort -k 10nr $phaseBlockBed | head -1 | cut -f5`\n",
    "\tphased=`sort -k 10nr $phaseBlockBed | head -1 | cut -f7`\n",
    "\n",
    "    ## Save information of the longest phaseblock for all samples in a separate file\n",
    "    echo -e $sample\"\\t\"$(sort -k 10nr $phaseBlockBed | head -1 | cut -f1-3) >> $baseDIR/$run/RosEl+buffer_Top1_blockSpan.txt\n",
    "    \n",
    "\t## Full phaseBlock\n",
    "\tgrep -A $phased -w \"offset: $offset\" $fullBlockFile > phaseBlocks_RosEl+buffer/fullBlock_Top1.output\n",
    "\tdiff phaseBlocks_RosEl+buffer/fullBlock_Top1.output $fullBlockFile  | grep \"^> \" | cut -c3- > phaseBlocks_RosEl+buffer/fullBlock_exceptTop1.output\n",
    "\t\n",
    "\t## Extract phased SNP positions on the phaseBlock and make a 3-column BED file\n",
    "\t#Top 1\n",
    "\ttail +2 phaseBlocks_RosEl+buffer/fullBlock_Top1.output | awk '{print $4\"\\t\"$5-1\"\\t\"$5}' > phaseBlocks_RosEl+buffer/phasedSites_Top1.bed\n",
    "\t#All except Top 1 \n",
    "\tgrep -v \"\\*\\*\" phaseBlocks_RosEl+buffer/fullBlock_exceptTop1.output | grep -v \"BLOCK:\" | awk '{print $4\"\\t\"$5-1\"\\t\"$5}' > phaseBlocks_RosEl+buffer/phasedSites_exceptTop1.bed\n",
    "\n",
    "    ##### Wrong implementation #####\n",
    "\t## This only retains the phased SNPs on the largest phaseblock and ignores all HOM sites.\n",
    "    ## Keep only phased SNP positions on longest phaseblock around RosEl\n",
    "\t# bcftools view -R phaseBlocks_RosEl+buffer/phasedSites_Top1.bed $vcf -Oz -o phaseBlocks_RosEl+buffer/Top1.vcf.gz\n",
    "\t# bcftools tabix -f phaseBlocks_RosEl+buffer/Top1.vcf.gz\n",
    "    ##### Wrong implementation #####\n",
    "    \n",
    "    ## Remove phased SNPs that are NOT on the longest phaseblock around RosEl \n",
    "    bcftools view -r ${chrom}:${start}-${end} -T ^phaseBlocks_RosEl+buffer/phasedSites_exceptTop1.bed $vcf -Oz -o phaseBlocks_RosEl+buffer/Top1+unphased.vcf.gz\n",
    "    \n",
    "    ## Remove SNPs that are not phased: This leaves VCF with phased SNPs on longest phaseblock and HOM sites.\n",
    "    bcftools view -e \"INFO/HAPCUT = '0'\" phaseBlocks_RosEl+buffer/Top1+unphased.vcf.gz -Oz -o phaseBlocks_RosEl+buffer/Top1.vcf.gz\n",
    "    bcftools tabix -f phaseBlocks_RosEl+buffer/Top1.vcf.gz\n",
    "\n",
    "\t((counter++))\n",
    "done"
   ]
  },
  {
   "cell_type": "code",
   "execution_count": null,
   "id": "79c19532-8f4c-4d22-95e3-63325ca5e3ad",
   "metadata": {},
   "outputs": [],
   "source": [
    "module load bcftools vcftools\n",
    "\n",
    "## Make file list for merging VCFs\n",
    "chrom=Chr6\n",
    "run=test-2024Apr_phaseBlockTop1\n",
    "baseDIR=/nfs/scistore18/bartogrp/apal/snap_hap/variants/molphase/$chrom\n",
    "\n",
    "cd $baseDIR/$run\n",
    "realpath $baseDIR/indv-molphase/*/phaseBlocks_RosEl+buffer/Top1.vcf.gz > ./RosEl+buffer_Top1_vcfs.list\n",
    "\n",
    "## Merge VCFs & some housekeeping\n",
    "outVCF=RosEl+buffer+phaseBlockLength_Top1.vcf.gz\n",
    "time bcftools merge -l ./RosEl+buffer_Top1_vcfs.list --threads 24 -Oz -o $outVCF\n",
    "time bcftools view $outVCF | sed \"s/\\.\\/\\.\\:/\\.\\|\\.\\:/g\" | bgzip > tmp.vcf.gz\n",
    "mv tmp.vcf.gz $outVCF\n",
    "bcftools tabix -f $outVCF\n",
    "\n",
    "## Subset RosEl\n",
    "finalVCF=RosEl+buffer_Top1.vcf.gz\n",
    "time bcftools view -r $chrom:$start-$end $outVCF -Oz -o $finalVCF\n",
    "bcftools tabix -f $finalVCF\n",
    "\n",
    "## Calculate missingness per-site and per-sample\n",
    "time vcftools --gzvcf $finalVCF --out RosEl+buffer_Top1_missing_byIndv --missing-indv\n",
    "time vcftools --gzvcf $finalVCF --out RosEl+buffer_Top1_missing_bySite --missing-site\n",
    "\n",
    "## Output genotypes as 012\n",
    "time vcftools --gzvcf $finalVCF --out RosEl+buffer_Top1 --012"
   ]
  },
  {
   "cell_type": "markdown",
   "id": "c6d2f04f-9d8e-4633-a751-3dd30f482dc2",
   "metadata": {
    "jp-MarkdownHeadingCollapsed": true
   },
   "source": [
    "## Fst"
   ]
  },
  {
   "cell_type": "code",
   "execution_count": null,
   "id": "afd95a02-7dd5-4dea-ad81-3fb302c8859f",
   "metadata": {},
   "outputs": [],
   "source": [
    "chrom=Chr6\n",
    "RosEl_buffer_start=52500000\n",
    "RosEl_buffer_end=53500000"
   ]
  },
  {
   "cell_type": "code",
   "execution_count": null,
   "id": "0593d498-eecc-43b3-a8c7-648fd1349e75",
   "metadata": {},
   "outputs": [],
   "source": [
    "MF1=~/snap_hap/sample_info/samples_by_pool/covHigh_MF1.list\n",
    "MF2=~/snap_hap/sample_info/samples_by_pool/covHigh_MF2.list\n",
    "MF3=~/snap_hap/sample_info/samples_by_pool/covHigh_MF3.list\n",
    "\n",
    "YF1=~/snap_hap/sample_info/samples_by_pool/covHigh_YF1.list\n",
    "YF2=~/snap_hap/sample_info/samples_by_pool/covHigh_YF2.list\n",
    "YF3=~/snap_hap/sample_info/samples_by_pool/covHigh_YF3.list"
   ]
  },
  {
   "cell_type": "code",
   "execution_count": null,
   "id": "86471140-3cd7-47b6-9b5f-b43889c737d6",
   "metadata": {},
   "outputs": [],
   "source": [
    "window=10000\n",
    "step=0"
   ]
  },
  {
   "cell_type": "code",
   "execution_count": null,
   "id": "6f87a9bb-034e-4a6e-b5f9-25453bea8495",
   "metadata": {},
   "outputs": [],
   "source": [
    "## Top 5\n",
    "\n",
    "## MF1 vs YF1\n",
    "vcftools --gzvcf ./RosEl+buffer_Top5.vcf.gz --fst-window-size $window --fst-window-step $step --chr $chrom --from-bp ${RosEl_buffer_start} --to-bp ${RosEl_buffer_end} \\\n",
    "        --weir-fst-pop $MF1 --weir-fst-pop $YF1 \\\n",
    "        --out Top5_MF1_YF1_w10000\n",
    "\n",
    "## MF2 vs YF2\n",
    "vcftools --gzvcf ./RosEl+buffer_Top5.vcf.gz --fst-window-size $window --fst-window-step $step --chr $chrom --from-bp ${RosEl_buffer_start} --to-bp ${RosEl_buffer_end} \\\n",
    "        --weir-fst-pop $MF2 --weir-fst-pop $YF2 \\\n",
    "        --out Top5_MF2_YF2_w10000\n",
    "\n",
    "## MF3 vs YF3\n",
    "vcftools --gzvcf ./RosEl+buffer_Top5.vcf.gz --fst-window-size $window --fst-window-step $step --chr $chrom --from-bp ${RosEl_buffer_start} --to-bp ${RosEl_buffer_end} \\\n",
    "        --weir-fst-pop $MF3 --weir-fst-pop $YF3 \\\n",
    "        --out Top5_MF3_YF3_w10000"
   ]
  },
  {
   "cell_type": "code",
   "execution_count": null,
   "id": "f6adb53a-cede-4388-b356-0350c8c0e417",
   "metadata": {},
   "outputs": [],
   "source": [
    "## Top 3\n",
    "\n",
    "## MF1 vs YF1\n",
    "vcftools --gzvcf ./RosEl+buffer_Top3.vcf.gz --fst-window-size $window --fst-window-step $step --chr $chrom --from-bp ${RosEl_buffer_start} --to-bp ${RosEl_buffer_end} \\\n",
    "        --weir-fst-pop $MF1 --weir-fst-pop $YF1 \\\n",
    "        --out Top3_MF1_YF1_w10000\n",
    "\n",
    "## MF2 vs YF2\n",
    "vcftools --gzvcf ./RosEl+buffer_Top3.vcf.gz --fst-window-size $window --fst-window-step $step --chr $chrom --from-bp ${RosEl_buffer_start} --to-bp ${RosEl_buffer_end} \\\n",
    "        --weir-fst-pop $MF2 --weir-fst-pop $YF2 \\\n",
    "        --out Top3_MF2_YF2_w10000\n",
    "\n",
    "## MF3 vs YF3\n",
    "vcftools --gzvcf ./RosEl+buffer_Top3.vcf.gz --fst-window-size $window --fst-window-step $step --chr $chrom --from-bp ${RosEl_buffer_start} --to-bp ${RosEl_buffer_end} \\\n",
    "        --weir-fst-pop $MF3 --weir-fst-pop $YF3 \\\n",
    "        --out Top3_MF3_YF3_w10000"
   ]
  },
  {
   "cell_type": "code",
   "execution_count": null,
   "id": "9ca39427-abdd-4125-8243-3706f1706bf6",
   "metadata": {},
   "outputs": [],
   "source": [
    "## all phaseBlocks\n",
    "vcf=~/snap_hap/variants/molphase/Chr6/Am_all_molphased_Chr6_SnpGap5_biSNPs_filtered-DP_500-7732_QUAL20_MQ30.PL.vcf.gz\n",
    "\n",
    "## MF1 vs YF1\n",
    "vcftools --gzvcf $vcf --fst-window-size $window --fst-window-step $step --chr $chrom --from-bp ${RosEl_buffer_start} --to-bp ${RosEl_buffer_end} \\\n",
    "        --weir-fst-pop $MF1 --weir-fst-pop $YF1 \\\n",
    "        --out all_MF1_YF1_w10000\n",
    "\n",
    "## MF2 vs YF2\n",
    "vcftools --gzvcf $vcf --fst-window-size $window --fst-window-step $step --chr $chrom --from-bp ${RosEl_buffer_start} --to-bp ${RosEl_buffer_end} \\\n",
    "        --weir-fst-pop $MF2 --weir-fst-pop $YF2 \\\n",
    "        --out all_MF2_YF2_w10000\n",
    "\n",
    "## MF3 vs YF3\n",
    "vcftools --gzvcf $vcf --fst-window-size $window --fst-window-step $step --chr $chrom --from-bp ${RosEl_buffer_start} --to-bp ${RosEl_buffer_end} \\\n",
    "        --weir-fst-pop $MF3 --weir-fst-pop $YF3 \\\n",
    "        --out all_MF3_YF3_w10000"
   ]
  }
 ],
 "metadata": {
  "kernelspec": {
   "display_name": "Bash",
   "language": "bash",
   "name": "bash"
  },
  "language_info": {
   "codemirror_mode": "shell",
   "file_extension": ".sh",
   "mimetype": "text/x-sh",
   "name": "bash"
  }
 },
 "nbformat": 4,
 "nbformat_minor": 5
}
