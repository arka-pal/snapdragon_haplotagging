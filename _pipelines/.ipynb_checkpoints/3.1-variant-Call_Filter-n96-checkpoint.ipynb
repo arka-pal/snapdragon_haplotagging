{
 "cells": [
  {
   "cell_type": "markdown",
   "id": "770f8d95-417e-4ccb-a377-65b2b09697bb",
   "metadata": {},
   "source": [
    "# Variant calling and filtering with n96 samples"
   ]
  },
  {
   "cell_type": "code",
   "execution_count": 1,
   "id": "965e128b-95db-45e9-af7a-a64f19197d7b",
   "metadata": {},
   "outputs": [
    {
     "name": "stdout",
     "output_type": "stream",
     "text": [
      "\n",
      "Lmod is automatically replacing \"JupyterPython/2.0\" with \"python/3.9.7\".\n",
      "\n",
      "\n",
      "Currently Loaded Modules:\n",
      "  1) git/2.35.1   3) htslib/1.18   5) bcftools/1.18   7) python3\n",
      "  2) GSL/2.7      4) perl/5.36.0   6) python/3.9.7\n",
      "\n",
      " \n",
      "\n"
     ]
    }
   ],
   "source": [
    "## Load modules\n",
    "module load bcftools/1.18 python3\n",
    "unset $PYTHONPATH\n",
    "export PYTHONPATH=$PYTHONPATH:~/.local/lib/python3.9/site-packages\n",
    "module list"
   ]
  },
  {
   "cell_type": "code",
   "execution_count": 2,
   "id": "d2274023-7159-4c1c-9103-6a73ceba3ca1",
   "metadata": {},
   "outputs": [],
   "source": [
    "cd /nfs/scistore18/bartogrp/apal/snap_hap/variants/vcf_bcftools_n96"
   ]
  },
  {
   "cell_type": "markdown",
   "id": "57fb6e2a-a1d9-4567-86da-d4d11c467f1a",
   "metadata": {},
   "source": [
    "## *bcftools* mpileup ... | *bcftools* call ..."
   ]
  },
  {
   "cell_type": "code",
   "execution_count": 3,
   "id": "3541bd33-042b-4159-bd12-19842879b846",
   "metadata": {},
   "outputs": [
    {
     "name": "stdout",
     "output_type": "stream",
     "text": [
      "chrom: Chr1\n",
      "Reference Genome: /nfs/scistore18/bartogrp/apal/snap_hap/ref_genome/v3.5/Amajus_v3.5.fa\n",
      "BAM Files: /nfs/scistore18/bartogrp/apal/snap_hap/variants/vcf_bcftools_n96/bams_n96.txt\n",
      "outVCF: /nfs/scistore18/bartogrp/apal/snap_hap/variants/vcf_bcftools_n96/n96_Chr1.vcf.gz\n",
      "\n",
      "\n"
     ]
    }
   ],
   "source": [
    "## Read and set variables\n",
    "baseDIR=/nfs/scistore18/bartogrp/apal/snap_hap/variants/vcf_bcftools_n96\n",
    "\n",
    "chrom=Chr1\n",
    "ref=/nfs/scistore18/bartogrp/apal/snap_hap/ref_genome/v3.5/Amajus_v3.5.fa\n",
    "bamlist=$baseDIR/bams_n96.txt\n",
    "outVCF=${baseDIR}/n96_Chr1.vcf.gz\n",
    "\n",
    "## Print variables\n",
    "echo chrom: $chrom\n",
    "echo Reference Genome: $ref\n",
    "echo BAM Files: $bamlist\n",
    "echo outVCF: $outVCF\n",
    "echo -e \"\\n\""
   ]
  },
  {
   "cell_type": "code",
   "execution_count": null,
   "id": "4ade4585-d50b-4322-9d1c-4551661bb4b0",
   "metadata": {},
   "outputs": [],
   "source": [
    "## Submit job on cluster\n",
    "cd /nfs/scistore18/bartogrp/apal/snap_hap/variants/jobs/bcftools-n96\n",
    "\n",
    "# chrom=Chr1\n",
    "baseDIR=/nfs/scistore18/bartogrp/apal/snap_hap/variants/vcf_bcftools_n96\n",
    "ref=/nfs/scistore18/bartogrp/apal/snap_hap/ref_genome/v3.5/Amajus_v3.5.fa\n",
    "bamlist=$baseDIR/bams_n96.txt\n",
    "\n",
    "for chrom in Chr{1..8}\n",
    "do\n",
    "    outVCF=${baseDIR}/n96_${chrom}.vcf.gz\n",
    "    sbatch -J n96-${chrom}_bcftools ~/snap_hap/_scripts/sbatch/vcf-utils/job-bcftools_mpileup-n96.sbatch $chrom $ref $bamlist $outVCF\n",
    "done"
   ]
  },
  {
   "cell_type": "markdown",
   "id": "b3b1bce7-eeac-432c-ad86-6912f165e08d",
   "metadata": {},
   "source": [
    "## *bcftools* filter"
   ]
  },
  {
   "cell_type": "markdown",
   "id": "b4127b0f-bbae-4071-b210-ce21d40c1bdd",
   "metadata": {},
   "source": [
    "Average coverage = 0.86x  \n",
    "Total expected coverage = 0.86x96 = 82.5   \n",
    "Total allowed coverage for filtering = 82.5x2 = 165  "
   ]
  },
  {
   "cell_type": "code",
   "execution_count": null,
   "id": "6f691285-cf7b-4545-a704-2e59b4a5cc79",
   "metadata": {},
   "outputs": [],
   "source": [
    "# chrom=Chr1\n",
    "## Remove invariant sites, INDELs & SNPs within 5bp, multi-allelic & monomorphic sites\n",
    "## Filter based on DP, QUAL, MQ, F_MISSING & MAF\n",
    "bcftools filter --threads 5 -e \"INFO/DP>165 | QUAL<20 | MQ<30 | F_MISSING>0.50 | AC==0 | AC==AN\" --SnpGap 5 n96_${chrom}.vcf.gz | \\\n",
    "    bcftools view --threads 5 --write-index -m2 -M2 -v snps -Oz -o n96_${chrom}_biSNPs_filtered.vcf.gz -"
   ]
  },
  {
   "cell_type": "code",
   "execution_count": null,
   "id": "6da07612-974e-4a06-ae13-d25b2d275690",
   "metadata": {},
   "outputs": [],
   "source": [
    "## Submit job in cluster\n",
    "cd /nfs/scistore18/bartogrp/apal/snap_hap/variants/jobs/bcftools-n96\n",
    "\n",
    "baseDIR=/nfs/scistore18/bartogrp/apal/snap_hap/variants/vcf_bcftools_n96\n",
    "ref=/nfs/scistore18/bartogrp/apal/snap_hap/ref_genome/v3.5/Amajus_v3.5.fa\n",
    "bamlist=$baseDIR/bams_n96.txt\n",
    "\n",
    "for chrom in Chr{1..8}\n",
    "do\n",
    "    outVCF=${baseDIR}/n96_${chrom}.vcf.gz\n",
    "    sbatch -J n96-${chrom}_filter ~/snap_hap/_scripts/sbatch/vcf-utils/job-bcftools_mpileup-n96.sbatch $chrom $ref $bamlist $outVCF\n",
    "done"
   ]
  },
  {
   "cell_type": "markdown",
   "id": "58e1b7cd-e45f-467f-919c-c1421f0fe602",
   "metadata": {},
   "source": [
    "## *bcftools* concat"
   ]
  },
  {
   "cell_type": "code",
   "execution_count": 14,
   "id": "95f80984-528e-4d9d-b220-981fd816720c",
   "metadata": {},
   "outputs": [
    {
     "name": "stdout",
     "output_type": "stream",
     "text": [
      "/nfs/scistore18/bartogrp/apal/snap_hap/variants/vcf_bcftools_n96/chromVCFs_filtered/n96_Chr1_biSNPs_filtered.vcf.gz\n",
      "/nfs/scistore18/bartogrp/apal/snap_hap/variants/vcf_bcftools_n96/chromVCFs_filtered/n96_Chr2_biSNPs_filtered.vcf.gz\n",
      "/nfs/scistore18/bartogrp/apal/snap_hap/variants/vcf_bcftools_n96/chromVCFs_filtered/n96_Chr3_biSNPs_filtered.vcf.gz\n",
      "/nfs/scistore18/bartogrp/apal/snap_hap/variants/vcf_bcftools_n96/chromVCFs_filtered/n96_Chr4_biSNPs_filtered.vcf.gz\n",
      "/nfs/scistore18/bartogrp/apal/snap_hap/variants/vcf_bcftools_n96/chromVCFs_filtered/n96_Chr5_biSNPs_filtered.vcf.gz\n",
      "/nfs/scistore18/bartogrp/apal/snap_hap/variants/vcf_bcftools_n96/chromVCFs_filtered/n96_Chr6_biSNPs_filtered.vcf.gz\n",
      "/nfs/scistore18/bartogrp/apal/snap_hap/variants/vcf_bcftools_n96/chromVCFs_filtered/n96_Chr7_biSNPs_filtered.vcf.gz\n",
      "/nfs/scistore18/bartogrp/apal/snap_hap/variants/vcf_bcftools_n96/chromVCFs_filtered/n96_Chr8_biSNPs_filtered.vcf.gz\n"
     ]
    }
   ],
   "source": [
    "realpath /nfs/scistore18/bartogrp/apal/snap_hap/variants/vcf_bcftools_n96/chromVCFs_filtered/*.vcf.gz > ./n96-vcfList.txt\n",
    "cat ./n96-vcfList.txt"
   ]
  },
  {
   "cell_type": "code",
   "execution_count": 23,
   "id": "d1762ce1-da01-458e-b6fd-8454c0e5773b",
   "metadata": {
    "collapsed": true,
    "jupyter": {
     "outputs_hidden": true
    }
   },
   "outputs": [
    {
     "name": "stdout",
     "output_type": "stream",
     "text": [
      "\n",
      "Concatinating chromosome VCF\n",
      "Checking the headers and starting positions of 8 files\n",
      "\n",
      "real\t2m15.494s\n",
      "user\t4m9.415s\n",
      "sys\t0m6.083s\n",
      "Indexing concatenated VCF\n",
      "\n",
      "real\t0m15.604s\n",
      "user\t0m15.444s\n",
      "sys\t0m0.148s\n"
     ]
    }
   ],
   "source": [
    "echo -e '\\nConcatinating chromosome VCF'\n",
    "time bcftools concat -a --threads 10 -Oz -o n96_biSNPs.filtered.vcf.gz -f n96-vcfList.txt\n",
    "\n",
    "echo 'Indexing concatenated VCF'\n",
    "time bcftools index -f n96_biSNPs.filtered.vcf.gz"
   ]
  },
  {
   "cell_type": "code",
   "execution_count": 15,
   "id": "12947271-5fe2-4973-9f83-fe41b711c952",
   "metadata": {
    "collapsed": true,
    "jupyter": {
     "outputs_hidden": true
    },
    "scrolled": true
   },
   "outputs": [
    {
     "name": "stdout",
     "output_type": "stream",
     "text": [
      "n96_Am_Ave_x3318_v3.5\n",
      "n96_Am_Ave_x3327_v3.5\n",
      "n96_Am_Ave_x3333_v3.5\n",
      "n96_Am_Ave_x3394_v3.5\n",
      "n96_Am_Ave_x4101_v3.5\n",
      "n96_Am_Ave_x4102_v3.5\n",
      "n96_Am_Ave_x4116_v3.5\n",
      "n96_Am_Ave_x4128_v3.5\n",
      "n96_Am_Ave_x4129_v3.5\n",
      "n96_Am_Ave_x4134_v3.5\n",
      "n96_Am_Ave_x4137_v3.5\n",
      "n96_Am_Ave_x4140_v3.5\n",
      "n96_Am_Ave_x4148_v3.5\n",
      "n96_Am_Ave_x4149_v3.5\n",
      "n96_Am_Ave_x4150_v3.5\n",
      "n96_Am_Ave_x4153_v3.5\n",
      "n96_Am_Ave_x4155_v3.5\n",
      "n96_Am_Ave_x4158_v3.5\n",
      "n96_Am_Ave_x4159_v3.5\n",
      "n96_Am_Ave_x4161_v3.5\n",
      "n96_Am_Ave_x4178_v3.5\n",
      "n96_Am_Ave_x4359_v3.5\n",
      "n96_Am_Ave_x4392_v3.5\n",
      "n96_Am_Ave_x4429_v3.5\n",
      "n96_Am_Ave_x4459_v3.5\n",
      "n96_Am_Ave_x4463_v3.5\n",
      "n96_Am_Ave_x4477_v3.5\n",
      "n96_Am_Ave_x4491_v3.5\n",
      "n96_Am_Ave_x4570_v3.5\n",
      "n96_Am_Ave_x4579_v3.5\n",
      "n96_Am_Ave_x4580_v3.5\n",
      "n96_Am_Ave_x4585_v3.5\n",
      "n96_Am_Ave_x4593_v3.5\n",
      "n96_Am_Ave_x4608_v3.5\n",
      "n96_Am_Ave_x4624_v3.5\n",
      "n96_Am_Ave_x4786_v3.5\n",
      "n96_Am_Ave_x4837_v3.5\n",
      "n96_Am_Ave_x4867_v3.5\n",
      "n96_Alatifgolium_Des_E373-3_v3.5\n",
      "n96_Amolle_Cadi_x4248_v3.5\n",
      "n96_Amolle_Cadi_x4251_v3.5\n",
      "n96_Amolle_Cadi_x4258_v3.5\n",
      "n96_Amolle_Cadi_x4260_v3.5\n",
      "n96_Amolle_Des_D357-4_v3.5\n",
      "n96_Asempervirens_Des_D368-2_v3.5\n",
      "n96_Asiculum_Des_M109-5_v3.5\n",
      "n96_Lsalzmannii_Des_P171-2_v3.5\n",
      "n96_Morotium_Des_P168-1_v3.5\n",
      "n96_Am_Pla_z0035_v3.5\n",
      "n96_Am_Pla_z0047_v3.5\n",
      "n96_Am_Pla_z0050_v3.5\n",
      "n96_Am_Pla_z0147_v3.5\n",
      "n96_Am_Pla_z0156_v3.5\n",
      "n96_Am_Pla_z0169_v3.5\n",
      "n96_Am_Pla_z0204_v3.5\n",
      "n96_Am_Pla_z0347_v3.5\n",
      "n96_Am_Pla_z0550_v3.5\n",
      "n96_Am_Pla_z0704_v3.5\n",
      "n96_Am_Pla_z0713_v3.5\n",
      "n96_Am_Pla_z0837_v3.5\n",
      "n96_Am_Pla_z0847_v3.5\n",
      "n96_Am_Pla_z0852_v3.5\n",
      "n96_Am_Pla_z0854_v3.5\n",
      "n96_Am_Pla_z1403_v3.5\n",
      "n96_Am_Pla_z1441_v3.5\n",
      "n96_Am_Pla_z1778_v3.5\n",
      "n96_Am_Pla_z1802_v3.5\n",
      "n96_Am_Pla_z2008_v3.5\n",
      "n96_Am_Pla_z2018_v3.5\n",
      "n96_Am_Pla_z2020_v3.5\n",
      "n96_Am_Pla_z2046_v3.5\n",
      "n96_Am_Pla_z2281_v3.5\n",
      "n96_Am_Pla_z2283_v3.5\n",
      "n96_Am_Pla_z2286_v3.5\n",
      "n96_Am_Pla_z2287_v3.5\n",
      "n96_Am_Pla_z2290_v3.5\n",
      "n96_Am_Pla_z2292_v3.5\n",
      "n96_Am_Pla_z2293_v3.5\n",
      "n96_Am_Pla_z2294_v3.5\n",
      "n96_Am_Pla_z2295_v3.5\n",
      "n96_Am_Pla_z2296_v3.5\n",
      "n96_Am_Pla_z2298_v3.5\n",
      "n96_Am_Pla_z2300_v3.5\n",
      "n96_Am_Pla_z2706_v3.5\n",
      "n96_Am_Pla_z2711_v3.5\n",
      "n96_Am_Pla_z3021_v3.5\n",
      "n96_Am_Pla_z3257_v3.5\n",
      "n96_Am_Pla_z3891_v3.5\n",
      "n96_Am_Pla_z4710_v3.5\n",
      "n96_Am_Pla_z4712_v3.5\n",
      "n96_Am_Pla_z4758_v3.5\n",
      "n96_Am_Pla_z4783_v3.5\n",
      "n96_Am_Pla_z4793_v3.5\n",
      "n96_Am_Pla_z4797_v3.5\n",
      "n96_Am_Pla_z5444_v3.5\n",
      "n96_Am_Pla_z5451_v3.5\n"
     ]
    }
   ],
   "source": [
    "bcftools query -l n96_biSNPs.filtered.vcf.gz"
   ]
  },
  {
   "cell_type": "code",
   "execution_count": 29,
   "id": "77bb856b-be75-4a95-93c2-aaf49b7cc29c",
   "metadata": {},
   "outputs": [
    {
     "name": "stdout",
     "output_type": "stream",
     "text": [
      "Total no. of variant sites\n",
      "1521204\n"
     ]
    }
   ],
   "source": [
    "echo 'Total no. of variant sites'\n",
    "bcftools view -H n96_biSNPs.filtered.vcf.gz | wc -l"
   ]
  },
  {
   "cell_type": "markdown",
   "id": "98e1ac30-f1b4-4161-998e-4498f6b094c6",
   "metadata": {},
   "source": [
    "## Convert VCF to phylip"
   ]
  },
  {
   "cell_type": "code",
   "execution_count": 34,
   "id": "9f323d51-90f5-4ecc-9203-4ba5d7d653c7",
   "metadata": {
    "collapsed": true,
    "jupyter": {
     "outputs_hidden": true
    },
    "scrolled": true
   },
   "outputs": [
    {
     "name": "stdout",
     "output_type": "stream",
     "text": [
      "\n",
      "Converting file './n96_biSNPs.filtered.vcf.gz':\n",
      "\n",
      "Number of samples in VCF: 96\n",
      "500000 genotypes processed.\n",
      "1000000 genotypes processed.\n",
      "1500000 genotypes processed.\n",
      "Total of genotypes processed: 1521204\n",
      "Genotypes excluded because they exceeded the amount of missing data allowed: 0\n",
      "Genotypes that passed missing data filter but were excluded for being MNPs: 0\n",
      "SNPs that passed the filters: 1521204\n",
      "\n",
      "Outgroup, 'n96_Morotium_Des_P168-1_v3.5', added to the matrix(ces).\n",
      "Sample 1 of 96, 'n96_Am_Ave_x3318_v3.5', added to the nucleotide matrix(ces).\n",
      "Sample 2 of 96, 'n96_Am_Ave_x3327_v3.5', added to the nucleotide matrix(ces).\n",
      "Sample 3 of 96, 'n96_Am_Ave_x3333_v3.5', added to the nucleotide matrix(ces).\n",
      "Sample 4 of 96, 'n96_Am_Ave_x3394_v3.5', added to the nucleotide matrix(ces).\n",
      "Sample 5 of 96, 'n96_Am_Ave_x4101_v3.5', added to the nucleotide matrix(ces).\n",
      "Sample 6 of 96, 'n96_Am_Ave_x4102_v3.5', added to the nucleotide matrix(ces).\n",
      "Sample 7 of 96, 'n96_Am_Ave_x4116_v3.5', added to the nucleotide matrix(ces).\n",
      "Sample 8 of 96, 'n96_Am_Ave_x4128_v3.5', added to the nucleotide matrix(ces).\n",
      "Sample 9 of 96, 'n96_Am_Ave_x4129_v3.5', added to the nucleotide matrix(ces).\n",
      "Sample 10 of 96, 'n96_Am_Ave_x4134_v3.5', added to the nucleotide matrix(ces).\n",
      "Sample 11 of 96, 'n96_Am_Ave_x4137_v3.5', added to the nucleotide matrix(ces).\n",
      "Sample 12 of 96, 'n96_Am_Ave_x4140_v3.5', added to the nucleotide matrix(ces).\n",
      "Sample 13 of 96, 'n96_Am_Ave_x4148_v3.5', added to the nucleotide matrix(ces).\n",
      "Sample 14 of 96, 'n96_Am_Ave_x4149_v3.5', added to the nucleotide matrix(ces).\n",
      "Sample 15 of 96, 'n96_Am_Ave_x4150_v3.5', added to the nucleotide matrix(ces).\n",
      "Sample 16 of 96, 'n96_Am_Ave_x4153_v3.5', added to the nucleotide matrix(ces).\n",
      "Sample 17 of 96, 'n96_Am_Ave_x4155_v3.5', added to the nucleotide matrix(ces).\n",
      "Sample 18 of 96, 'n96_Am_Ave_x4158_v3.5', added to the nucleotide matrix(ces).\n",
      "Sample 19 of 96, 'n96_Am_Ave_x4159_v3.5', added to the nucleotide matrix(ces).\n",
      "Sample 20 of 96, 'n96_Am_Ave_x4161_v3.5', added to the nucleotide matrix(ces).\n",
      "Sample 21 of 96, 'n96_Am_Ave_x4178_v3.5', added to the nucleotide matrix(ces).\n",
      "Sample 22 of 96, 'n96_Am_Ave_x4359_v3.5', added to the nucleotide matrix(ces).\n",
      "Sample 23 of 96, 'n96_Am_Ave_x4392_v3.5', added to the nucleotide matrix(ces).\n",
      "Sample 24 of 96, 'n96_Am_Ave_x4429_v3.5', added to the nucleotide matrix(ces).\n",
      "Sample 25 of 96, 'n96_Am_Ave_x4459_v3.5', added to the nucleotide matrix(ces).\n",
      "Sample 26 of 96, 'n96_Am_Ave_x4463_v3.5', added to the nucleotide matrix(ces).\n",
      "Sample 27 of 96, 'n96_Am_Ave_x4477_v3.5', added to the nucleotide matrix(ces).\n",
      "Sample 28 of 96, 'n96_Am_Ave_x4491_v3.5', added to the nucleotide matrix(ces).\n",
      "Sample 29 of 96, 'n96_Am_Ave_x4570_v3.5', added to the nucleotide matrix(ces).\n",
      "Sample 30 of 96, 'n96_Am_Ave_x4579_v3.5', added to the nucleotide matrix(ces).\n",
      "Sample 31 of 96, 'n96_Am_Ave_x4580_v3.5', added to the nucleotide matrix(ces).\n",
      "Sample 32 of 96, 'n96_Am_Ave_x4585_v3.5', added to the nucleotide matrix(ces).\n",
      "Sample 33 of 96, 'n96_Am_Ave_x4593_v3.5', added to the nucleotide matrix(ces).\n",
      "Sample 34 of 96, 'n96_Am_Ave_x4608_v3.5', added to the nucleotide matrix(ces).\n",
      "Sample 35 of 96, 'n96_Am_Ave_x4624_v3.5', added to the nucleotide matrix(ces).\n",
      "Sample 36 of 96, 'n96_Am_Ave_x4786_v3.5', added to the nucleotide matrix(ces).\n",
      "Sample 37 of 96, 'n96_Am_Ave_x4837_v3.5', added to the nucleotide matrix(ces).\n",
      "Sample 38 of 96, 'n96_Am_Ave_x4867_v3.5', added to the nucleotide matrix(ces).\n",
      "Sample 39 of 96, 'n96_Alatifgolium_Des_E373-3_v3.5', added to the nucleotide matrix(ces).\n",
      "Sample 40 of 96, 'n96_Amolle_Cadi_x4248_v3.5', added to the nucleotide matrix(ces).\n",
      "Sample 41 of 96, 'n96_Amolle_Cadi_x4251_v3.5', added to the nucleotide matrix(ces).\n",
      "Sample 42 of 96, 'n96_Amolle_Cadi_x4258_v3.5', added to the nucleotide matrix(ces).\n",
      "Sample 43 of 96, 'n96_Amolle_Cadi_x4260_v3.5', added to the nucleotide matrix(ces).\n",
      "Sample 44 of 96, 'n96_Amolle_Des_D357-4_v3.5', added to the nucleotide matrix(ces).\n",
      "Sample 45 of 96, 'n96_Asempervirens_Des_D368-2_v3.5', added to the nucleotide matrix(ces).\n",
      "Sample 46 of 96, 'n96_Asiculum_Des_M109-5_v3.5', added to the nucleotide matrix(ces).\n",
      "Sample 47 of 96, 'n96_Lsalzmannii_Des_P171-2_v3.5', added to the nucleotide matrix(ces).\n",
      "Sample 49 of 96, 'n96_Am_Pla_z0035_v3.5', added to the nucleotide matrix(ces).\n",
      "Sample 50 of 96, 'n96_Am_Pla_z0047_v3.5', added to the nucleotide matrix(ces).\n",
      "Sample 51 of 96, 'n96_Am_Pla_z0050_v3.5', added to the nucleotide matrix(ces).\n",
      "Sample 52 of 96, 'n96_Am_Pla_z0147_v3.5', added to the nucleotide matrix(ces).\n",
      "Sample 53 of 96, 'n96_Am_Pla_z0156_v3.5', added to the nucleotide matrix(ces).\n",
      "Sample 54 of 96, 'n96_Am_Pla_z0169_v3.5', added to the nucleotide matrix(ces).\n",
      "Sample 55 of 96, 'n96_Am_Pla_z0204_v3.5', added to the nucleotide matrix(ces).\n",
      "Sample 56 of 96, 'n96_Am_Pla_z0347_v3.5', added to the nucleotide matrix(ces).\n",
      "Sample 57 of 96, 'n96_Am_Pla_z0550_v3.5', added to the nucleotide matrix(ces).\n",
      "Sample 58 of 96, 'n96_Am_Pla_z0704_v3.5', added to the nucleotide matrix(ces).\n",
      "Sample 59 of 96, 'n96_Am_Pla_z0713_v3.5', added to the nucleotide matrix(ces).\n",
      "Sample 60 of 96, 'n96_Am_Pla_z0837_v3.5', added to the nucleotide matrix(ces).\n",
      "Sample 61 of 96, 'n96_Am_Pla_z0847_v3.5', added to the nucleotide matrix(ces).\n",
      "Sample 62 of 96, 'n96_Am_Pla_z0852_v3.5', added to the nucleotide matrix(ces).\n",
      "Sample 63 of 96, 'n96_Am_Pla_z0854_v3.5', added to the nucleotide matrix(ces).\n",
      "Sample 64 of 96, 'n96_Am_Pla_z1403_v3.5', added to the nucleotide matrix(ces).\n",
      "Sample 65 of 96, 'n96_Am_Pla_z1441_v3.5', added to the nucleotide matrix(ces).\n",
      "Sample 66 of 96, 'n96_Am_Pla_z1778_v3.5', added to the nucleotide matrix(ces).\n",
      "Sample 67 of 96, 'n96_Am_Pla_z1802_v3.5', added to the nucleotide matrix(ces).\n",
      "Sample 68 of 96, 'n96_Am_Pla_z2008_v3.5', added to the nucleotide matrix(ces).\n",
      "Sample 69 of 96, 'n96_Am_Pla_z2018_v3.5', added to the nucleotide matrix(ces).\n",
      "Sample 70 of 96, 'n96_Am_Pla_z2020_v3.5', added to the nucleotide matrix(ces).\n",
      "Sample 71 of 96, 'n96_Am_Pla_z2046_v3.5', added to the nucleotide matrix(ces).\n",
      "Sample 72 of 96, 'n96_Am_Pla_z2281_v3.5', added to the nucleotide matrix(ces).\n",
      "Sample 73 of 96, 'n96_Am_Pla_z2283_v3.5', added to the nucleotide matrix(ces).\n",
      "Sample 74 of 96, 'n96_Am_Pla_z2286_v3.5', added to the nucleotide matrix(ces).\n",
      "Sample 75 of 96, 'n96_Am_Pla_z2287_v3.5', added to the nucleotide matrix(ces).\n",
      "Sample 76 of 96, 'n96_Am_Pla_z2290_v3.5', added to the nucleotide matrix(ces).\n",
      "Sample 77 of 96, 'n96_Am_Pla_z2292_v3.5', added to the nucleotide matrix(ces).\n",
      "Sample 78 of 96, 'n96_Am_Pla_z2293_v3.5', added to the nucleotide matrix(ces).\n",
      "Sample 79 of 96, 'n96_Am_Pla_z2294_v3.5', added to the nucleotide matrix(ces).\n",
      "Sample 80 of 96, 'n96_Am_Pla_z2295_v3.5', added to the nucleotide matrix(ces).\n",
      "Sample 81 of 96, 'n96_Am_Pla_z2296_v3.5', added to the nucleotide matrix(ces).\n",
      "Sample 82 of 96, 'n96_Am_Pla_z2298_v3.5', added to the nucleotide matrix(ces).\n",
      "Sample 83 of 96, 'n96_Am_Pla_z2300_v3.5', added to the nucleotide matrix(ces).\n",
      "Sample 84 of 96, 'n96_Am_Pla_z2706_v3.5', added to the nucleotide matrix(ces).\n",
      "Sample 85 of 96, 'n96_Am_Pla_z2711_v3.5', added to the nucleotide matrix(ces).\n",
      "Sample 86 of 96, 'n96_Am_Pla_z3021_v3.5', added to the nucleotide matrix(ces).\n",
      "Sample 87 of 96, 'n96_Am_Pla_z3257_v3.5', added to the nucleotide matrix(ces).\n",
      "Sample 88 of 96, 'n96_Am_Pla_z3891_v3.5', added to the nucleotide matrix(ces).\n",
      "Sample 89 of 96, 'n96_Am_Pla_z4710_v3.5', added to the nucleotide matrix(ces).\n",
      "Sample 90 of 96, 'n96_Am_Pla_z4712_v3.5', added to the nucleotide matrix(ces).\n",
      "Sample 91 of 96, 'n96_Am_Pla_z4758_v3.5', added to the nucleotide matrix(ces).\n",
      "Sample 92 of 96, 'n96_Am_Pla_z4783_v3.5', added to the nucleotide matrix(ces).\n",
      "Sample 93 of 96, 'n96_Am_Pla_z4793_v3.5', added to the nucleotide matrix(ces).\n",
      "Sample 94 of 96, 'n96_Am_Pla_z4797_v3.5', added to the nucleotide matrix(ces).\n",
      "Sample 95 of 96, 'n96_Am_Pla_z5444_v3.5', added to the nucleotide matrix(ces).\n",
      "Sample 96 of 96, 'n96_Am_Pla_z5451_v3.5', added to the nucleotide matrix(ces).\n",
      "\n",
      "PHYLIP matrix saved to: n96_biSNPs.filtered.min4.phy\n",
      "\n",
      "Done!\n",
      "\n",
      "\n",
      "real\t4m29.473s\n",
      "user\t4m26.028s\n",
      "sys\t0m3.039s\n"
     ]
    }
   ],
   "source": [
    "time python ~/_softwares/vcf2phylip.py -i ./n96_biSNPs.filtered.vcf.gz -o n96_Morotium_Des_P168-1_v3.5"
   ]
  },
  {
   "cell_type": "markdown",
   "id": "6ecc7c6b-2628-4eda-b619-bc15e009ef61",
   "metadata": {},
   "source": [
    "## Subset n96 *Amajus* samples from STITCH vcf"
   ]
  },
  {
   "cell_type": "code",
   "execution_count": 39,
   "id": "ec4e07d1-d79a-4e11-8cb0-a5cf03e24215",
   "metadata": {},
   "outputs": [],
   "source": [
    "## subset n96 individuals from stitch vcfs\n",
    "# for chrom in Chr{1..8}\n",
    "# do\n",
    "#     stitchVcf=~/snap_hap/variants/stitch/${chrom}/Am_all_stitch_${chrom}_SnpGap5_biSNPs_filtered-DP_500-7732_QUAL20_MQ30.PL.vcf.gz\n",
    "#     outVcf=~/snap_hap/variants/vcf_bcftools_n96/chromVCFs_stitch/stitch-n96_${chrom}.vcf.gz\n",
    "#     echo -e $chrom $stitchVcf\n",
    "#     time bcftools view -S ~/snap_hap/variants/vcf_bcftools_n96/n96-samples.txt --force-samples -Oz -o $outVcf $stitchVcf                                                   \n",
    "#     bcftools tabix -f $outVcf\n",
    "# done"
   ]
  },
  {
   "cell_type": "code",
   "execution_count": null,
   "id": "dab91ce2-9a54-42f3-816d-da32f06e8294",
   "metadata": {},
   "outputs": [
    {
     "name": "stdout",
     "output_type": "stream",
     "text": [
      "/nfs/scistore18/bartogrp/apal/snap_hap/variants/vcf_bcftools_n96/chromVCFs_stitch/stitch-n96_Chr1.vcf.gz\n",
      "/nfs/scistore18/bartogrp/apal/snap_hap/variants/vcf_bcftools_n96/chromVCFs_stitch/stitch-n96_Chr2.vcf.gz\n",
      "/nfs/scistore18/bartogrp/apal/snap_hap/variants/vcf_bcftools_n96/chromVCFs_stitch/stitch-n96_Chr3.vcf.gz\n",
      "/nfs/scistore18/bartogrp/apal/snap_hap/variants/vcf_bcftools_n96/chromVCFs_stitch/stitch-n96_Chr4.vcf.gz\n",
      "/nfs/scistore18/bartogrp/apal/snap_hap/variants/vcf_bcftools_n96/chromVCFs_stitch/stitch-n96_Chr5.vcf.gz\n",
      "/nfs/scistore18/bartogrp/apal/snap_hap/variants/vcf_bcftools_n96/chromVCFs_stitch/stitch-n96_Chr6.vcf.gz\n",
      "/nfs/scistore18/bartogrp/apal/snap_hap/variants/vcf_bcftools_n96/chromVCFs_stitch/stitch-n96_Chr7.vcf.gz\n",
      "/nfs/scistore18/bartogrp/apal/snap_hap/variants/vcf_bcftools_n96/chromVCFs_stitch/stitch-n96_Chr8.vcf.gz\n",
      "\n",
      "Concatinating chromosome VCF\n",
      "Checking the headers and starting positions of 8 files\n"
     ]
    }
   ],
   "source": [
    "## Concat the chrom stitch vcfs to produce 1 n96 stitch vcf\n",
    "realpath ./chromVCFs_stitch/*vcf.gz > n96-stitchVcfList.txt\n",
    "cat ./n96-stitchVcfList.txt\n",
    "\n",
    "echo -e '\\nConcatinating chromosome VCF'\n",
    "time bcftools concat -a --threads 10 -Oz -o ./n96_stitch.vcf.gz -f ./n96-stitchVcfList.txt\n",
    "echo 'Indexing concatenated VCF'\n",
    "time bcftools index -f ./n96_stitch.vcf.gz"
   ]
  },
  {
   "cell_type": "code",
   "execution_count": null,
   "id": "395a252b-ea28-4b75-9aab-70e3161ca1f5",
   "metadata": {},
   "outputs": [],
   "source": [
    "## Convert stitch vcf to phylip\n",
    "time python3 ~/_softwares/vcf2phylip.py -i ./n96_stitch.vcf.gz"
   ]
  }
 ],
 "metadata": {
  "kernelspec": {
   "display_name": "Bash",
   "language": "bash",
   "name": "bash"
  },
  "language_info": {
   "codemirror_mode": "shell",
   "file_extension": ".sh",
   "mimetype": "text/x-sh",
   "name": "bash"
  }
 },
 "nbformat": 4,
 "nbformat_minor": 5
}
