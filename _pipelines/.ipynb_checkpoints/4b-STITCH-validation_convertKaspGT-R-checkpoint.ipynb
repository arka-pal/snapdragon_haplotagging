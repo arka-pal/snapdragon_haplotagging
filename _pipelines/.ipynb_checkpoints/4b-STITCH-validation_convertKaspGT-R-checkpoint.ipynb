{
 "cells": [
  {
   "cell_type": "markdown",
   "id": "2a1514fa-8c48-458e-9d83-441de3f1d60b",
   "metadata": {},
   "source": [
    "# Fix KASP genotypes for stitch-tests\n",
    "\n",
    "**Date:** 2023-Aug-10\n",
    "**last update:** 2023-Aug-31"
   ]
  },
  {
   "cell_type": "markdown",
   "id": "e172cfd4-d9b9-4e4c-84b6-b342998f05ed",
   "metadata": {},
   "source": [
    "Fixing of KASP markers\n",
    "- cross-checked REF and ALT alleles against reference genome v3.5 and fixed manually.\n",
    "    ``\n",
    "- Converted KASP genotypes to 012 manually\n",
    "- All missing genotypes marked as -1."
   ]
  },
  {
   "cell_type": "code",
   "execution_count": 86,
   "id": "3761c6c9-19c7-4d89-b0a5-2fff2ad111d8",
   "metadata": {},
   "outputs": [],
   "source": [
    "## Load R packages\n",
    ".libPaths(\"/nfs/scistore18/bartogrp/apal/R/x86_64-pc-linux-gnu-library/4.2/\") ##add library PATH\n",
    "library(data.table)\n",
    "library(tidyverse)"
   ]
  },
  {
   "cell_type": "code",
   "execution_count": 104,
   "id": "ebd19577-e51e-41d7-9215-1da182388223",
   "metadata": {},
   "outputs": [
    {
     "name": "stdout",
     "output_type": "stream",
     "text": [
      "No. of KASP plantIDs: 1072\n",
      "No. of duplicated plantIDs: 0"
     ]
    }
   ],
   "source": [
    "## Read KASP genotypes\n",
    "kaspGT <- fread('~/snap_hap/impute/stitch_tests/coords/samples_GT_stitch_filtered&corrected.txt', header = TRUE)\n",
    "# str(kaspGT)\n",
    "cat('No. of KASP plantIDs:', nrow(kaspGT))\n",
    "cat('\\nNo. of duplicated plantIDs:', sum(duplicated(kaspGT$PlantID)))"
   ]
  },
  {
   "cell_type": "code",
   "execution_count": 105,
   "id": "c3273f99-8ef1-414e-aae2-f11c3954a2af",
   "metadata": {},
   "outputs": [
    {
     "name": "stdout",
     "output_type": "stream",
     "text": [
      "No. of STITCH plantIDs: 1074"
     ]
    }
   ],
   "source": [
    "## Read plantID from stitch-ed genoytpes\n",
    "stitchGT <- fread('~/snap_hap/impute/stitch_tests/Chr1/run3_filteredVCFs_2023-08/run3_1-chr1_905184_1005184-s1187_290152.pos_K40_cov10_bxTRUE_niter40_ngen100_r0.5_plotTRUE/stitch_1-chr1-955185.gt', header=F)\n",
    "colnames(stitchGT) <- c('PlantID','stitch','stitchHC')\n",
    "stitchGT[, PlantID:=str_to_upper(PlantID)]\n",
    "# str(stitchGT)\n",
    "\n",
    "cat('No. of STITCH plantIDs:', nrow(stitchGT))"
   ]
  },
  {
   "cell_type": "code",
   "execution_count": 106,
   "id": "b5c380f5-a633-4917-91a1-47bf3332b281",
   "metadata": {},
   "outputs": [
    {
     "name": "stdout",
     "output_type": "stream",
     "text": [
      "[1] \"PB0292A\" \"PB0296A\" \"PB0292B\" \"PB0296B\"\n",
      "[1] \"PB0292\" \"PB0296\"\n"
     ]
    }
   ],
   "source": [
    "## List of missing plantIDs\n",
    "print(setdiff(stitchGT$PlantID, kaspGT$PlantID))\n",
    "print(setdiff(kaspGT$PlantID, stitchGT$PlantID))"
   ]
  },
  {
   "cell_type": "code",
   "execution_count": 107,
   "id": "7e8dd83a-b513-4ecf-897e-be3f107cff33",
   "metadata": {},
   "outputs": [
    {
     "name": "stdout",
     "output_type": "stream",
     "text": [
      "   PlantID stitch stitchHC\n",
      "1: PB0292A      1       -1\n",
      "2: PB0296A      1       -1\n",
      "3: PB0292B      0       -1\n",
      "4: PB0296B      1       -1\n"
     ]
    }
   ],
   "source": [
    "PlantsToCheck <- c(\"PB0292A\",\"PB0292B\",\"PB0296A\",\"PB0296B\")\n",
    "print(stitchGT[PlantID %in% PlantsToCheck,])"
   ]
  },
  {
   "cell_type": "markdown",
   "id": "17ad4aba-e141-4bb8-a577-0289aa9df2cc",
   "metadata": {},
   "source": [
    "### Convert KASP genotypes to 012."
   ]
  }
 ],
 "metadata": {
  "kernelspec": {
   "display_name": "R",
   "language": "R",
   "name": "ir"
  },
  "language_info": {
   "codemirror_mode": "r",
   "file_extension": ".r",
   "mimetype": "text/x-r-source",
   "name": "R",
   "pygments_lexer": "r",
   "version": "4.3.0"
  }
 },
 "nbformat": 4,
 "nbformat_minor": 5
}
