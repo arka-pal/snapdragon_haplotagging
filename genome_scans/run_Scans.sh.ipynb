{
 "cells": [
  {
   "cell_type": "markdown",
   "id": "316d0297-f590-4ae1-9b3b-864d010b5ff4",
   "metadata": {},
   "source": [
    "# Genomic Scans in *A.majus*"
   ]
  },
  {
   "cell_type": "code",
   "execution_count": null,
   "id": "2fda6432-b2f5-4723-b97e-cce3f394085f",
   "metadata": {},
   "outputs": [],
   "source": [
    "module load bcftools/1.18\n",
    "export PATH=$PATH:$HOME/genomics_general:$HOME/genomics_general/VCF_processing"
   ]
  },
  {
   "cell_type": "code",
   "execution_count": 6,
   "id": "bcd6b133-1742-4667-b766-4e6559a8e62c",
   "metadata": {},
   "outputs": [],
   "source": [
    "baseDIR=/nfs/scistore18/bartogrp/apal/snap_hap/genome_scans\n",
    "cd $baseDIR"
   ]
  },
  {
   "cell_type": "markdown",
   "id": "d4b02241-befb-470b-b9e2-4561159030c9",
   "metadata": {},
   "source": [
    "## Sample Pool Information"
   ]
  },
  {
   "cell_type": "code",
   "execution_count": null,
   "id": "a813294b-df3a-41f1-8b94-f6878b8b0c71",
   "metadata": {},
   "outputs": [],
   "source": [
    "cut -f4,21  ~/snap_hap/sample_info/samples_Amajus_SnapHap_LastUpdate-2023-10.txt > $baseDIR/samples/samplePools.txt"
   ]
  },
  {
   "cell_type": "markdown",
   "id": "e7bdb823-7077-437d-aebe-d94dad6764cb",
   "metadata": {
    "jp-MarkdownHeadingCollapsed": true
   },
   "source": [
    "## Convert .vcf to .geno file"
   ]
  },
  {
   "cell_type": "code",
   "execution_count": null,
   "id": "233218dc-5b5a-45ab-b009-167c9f1299f6",
   "metadata": {},
   "outputs": [],
   "source": [
    "## On the terminal\n",
    "stitchRun=stitchRun1\n",
    "for chrom in Chr{1..8}\n",
    "do\n",
    "    vcf=~/snap_hap/variants/stitch/${chrom}/Am_all_${stitchRun}_${chrom}.final.vcf.gz\n",
    "    parseVCF.py -i $vcf -o ${vcf/.vcf/.geno}\n",
    "done"
   ]
  },
  {
   "cell_type": "code",
   "execution_count": null,
   "id": "6bc31034-5750-48bc-9864-1b533ff96072",
   "metadata": {},
   "outputs": [],
   "source": [
    "## Cluster implementation\n",
    "stitchRun=stitchRun1\n",
    "for chrom in Chr2\n",
    "do\n",
    "    vcf=~/snap_hap/variants/stitch/${chrom}/Am_all_${stitchRun}_${chrom}.final.vcf.gz\n",
    "    sbatch -J ${chrom}_vcf2geno ~/snap_hap/genome_scans/_scripts/job-vcf2geno.sbatch.sh $vcf\n",
    "done"
   ]
  },
  {
   "cell_type": "markdown",
   "id": "5a9a5e0f-30f3-4ef5-acde-f229c96e6fa0",
   "metadata": {},
   "source": [
    "```\n",
    "#SBATCH --output=%x-%A.out\n",
    "#SBATCH --error=%x-%A.out\n",
    "#SBATCH --open-mode=append\n",
    "#SBATCH --partition=defaultp\n",
    "### #SBATCH --constraint=bookworm\n",
    "### #SBATCH --constraint=bullseye\n",
    "#SBATCH --time=240:00:00\n",
    "#SBATCH --ntasks=1\n",
    "#SBATCH --ntasks-per-node=1\n",
    "#SBATCH --cpus-per-task=1\n",
    "#SBATCH --mem-per-cpu=20G\n",
    "```\n",
    "\n",
    "Execution Time: 2-4 hrs."
   ]
  },
  {
   "cell_type": "markdown",
   "id": "7969af7b-c4f5-4c6b-9568-a6f813a174c1",
   "metadata": {},
   "source": [
    "## Fst, dxy, pi"
   ]
  },
  {
   "cell_type": "code",
   "execution_count": null,
   "id": "7a57eb92-ccc0-4d05-8633-28e29889ea3c",
   "metadata": {},
   "outputs": [],
   "source": [
    "## Chr6\n",
    "\n",
    "baseDIR=~/snap_hap/genome_scans\n",
    "chrom=Chr6\n",
    "geno=~/snap_hap/variants/stitch/${chrom}/Am_all_stitchRun1_${chrom}.final.geno.gz\n",
    "window=10000\n",
    "\n",
    "output=$baseDIR/popgenStats/${outPrefix}_${chrom}_w${window}.csv.gz\n",
    "popFile=$baseDIR/samples/samplePools.txt"
   ]
  },
  {
   "cell_type": "code",
   "execution_count": null,
   "id": "843ec673-4cba-4142-a9e6-cd6723580dc3",
   "metadata": {},
   "outputs": [],
   "source": [
    "popgenWindows.py -g $geno \\\n",
    "\t-o $output \\\n",
    "\t-f phased -w $window \\\n",
    "\t-p MF -p YF \\\n",
    "\t--popsFile $popFile \\\n",
    "\t--writeFailedWindow"
   ]
  },
  {
   "cell_type": "markdown",
   "id": "c63efe5f-0ff6-4974-ba0f-a00dd272d6b0",
   "metadata": {},
   "source": [
    "### MF vs YF"
   ]
  },
  {
   "cell_type": "code",
   "execution_count": null,
   "id": "95c9714b-5bc2-46ac-a120-20c1fc74f6d3",
   "metadata": {},
   "outputs": [],
   "source": [
    "## Cluster implementation of Fst in windows w GenomicsGeneral\n",
    "baseDIR=~/snap_hap/genome_scans\n",
    "stitchRun=stitchRun1\n",
    "# window=1\n",
    "window=10000\n",
    "step=1000\n",
    "popFile=$baseDIR/samples/N960_Pools-MF-YF.txt\n",
    "outPrefix=MY\n",
    "\n",
    "cd $baseDIR/jobs\n",
    "# for chrom in Chr{1..8}\n",
    "for chrom in Chr6\n",
    "do    \n",
    "    geno=~/snap_hap/variants/stitch/${chrom}/Am_all_${stitchRun}_${chrom}.final.geno.gz\n",
    "    \n",
    "    #window\n",
    "    windType=coordinates\n",
    "    output=$baseDIR/popgenStats/${outPrefix}_${chrom}_${windType}_w${window}_s${step}.csv.gz\n",
    "    \n",
    "    # #per-site\n",
    "    # windType=sites\n",
    "    # output=$baseDIR/popgenStats/${outPrefix}_${chrom}_${windType}_w${window}.csv.gz\n",
    "\n",
    "    sbatch -J ${chrom}_${outPrefix}_pgWin $baseDIR/_scripts/job-popgenWindows.sbatch.sh \\\n",
    "            $baseDIR $chrom $geno $output $window $popFile MF YF $windType\n",
    "done"
   ]
  },
  {
   "cell_type": "markdown",
   "id": "a3801f2b-a699-450e-8ae8-de08ed98b3c1",
   "metadata": {},
   "source": [
    "NB: `-- windType` controls the window type in Simon's popgenWindows.py script. "
   ]
  },
  {
   "cell_type": "code",
   "execution_count": null,
   "id": "ca0b7980-bf50-4b58-a5a9-108a7f3ac58a",
   "metadata": {},
   "outputs": [],
   "source": [
    "## Fst for RosEl in windows+steps w GenomicsGeneral\n",
    "## RosEL Chr6:52500000-53500000\n",
    "\n",
    "## Initiate variables\n",
    "baseDIR=~/snap_hap/genome_scans\n",
    "stitchRun=stitchRun1\n",
    "\n",
    "chrom=Chr6\n",
    "regionName=RosEl\n",
    "regionStart=52500000\n",
    "regionEnd=53500000\n",
    "geno_full=~/snap_hap/variants/stitch/${chrom}/Am_all_${stitchRun}_${chrom}.final.geno.gz\n",
    "\n",
    "windType=coordinate\n",
    "window=10000\n",
    "step=1000\n",
    "\n",
    "p1=MF\n",
    "p2=YF\n",
    "popFile=$baseDIR/samples/N960_Pools-MF-YF.txt\n",
    "\n",
    "outPrefix=MY\n",
    "output=$baseDIR/popgenStats/${outPrefix}_${regionName}_${windType}_w${window}_s${step}.csv.gz\n",
    "\n",
    "cd $baseDIR\n",
    "\n",
    "## Create RosEl geno\n",
    "zcat $geno_full | awk '$2 > 52500000 && $2 < 53500000' > $baseDIR/geno_regions/tmp.geno # Filter region\n",
    "zcat $geno_full | head -1 > $baseDIR/geno_regions/tmp.header # Paste only header line\n",
    "cat $baseDIR/geno_regions/tmp.header $baseDIR/geno_regions/tmp.geno | \\\n",
    "    bgzip > $baseDIR/geno_regions/${regionName}.geno.gz # Combine header and geno\n",
    "rm $baseDIR/geno_regions/tmp.header # Cleanup\n",
    "rm $baseDIR/geno_regions/tmp.geno # Cleanup\n",
    "geno=$baseDIR/geno_regions/${regionName}.geno.gz\n",
    "\n",
    "popgenWindows.py -g $geno -f phased -o $output \\\n",
    "    --windType $windType -w $window -s $step \\\n",
    "    -p $p1 -p $p2 --popsFile $popFile \\\n",
    "\t--threads 10 --writeFailedWindow"
   ]
  },
  {
   "cell_type": "markdown",
   "id": "61677e78-61ad-4159-80de-e2ed4c70191b",
   "metadata": {},
   "source": [
    "NB: Change varaiables for other regions of interest...\n",
    "<br>"
   ]
  },
  {
   "cell_type": "code",
   "execution_count": null,
   "id": "0c84b5d0-b7b1-4a61-ac66-9b4e154cfdf1",
   "metadata": {},
   "outputs": [],
   "source": [
    "## Cluster implementation of Fst per-site w vcftools\n",
    "\n",
    "baseDIR=~/snap_hap/genome_scans\n",
    "stitchRun=stitchRun1\n",
    "pop1=$baseDIR/samples/sampleNames_MF.txt\n",
    "pop2=$baseDIR/samples/sampleNames_YF.txt\n",
    "outPrefix=MY\n",
    "\n",
    "cd $baseDIR/jobs\n",
    "for chrom in Chr{1..8}\n",
    "do    \n",
    "    inVCF=~/snap_hap/variants/stitch/${chrom}/Am_all_${stitchRun}_${chrom}.final.vcf.gz\n",
    "    output=$baseDIR/popgenStats/${outPrefix}_${chrom}_Fst\n",
    "\n",
    "    sbatch -J ${chrom}_${outPrefix}_Fst $baseDIR/_scripts/job-Fst_vcftools.sbatch.sh \\\n",
    "            $baseDIR $chrom $inVCF $pop1 $pop2 $output\n",
    "done"
   ]
  },
  {
   "cell_type": "code",
   "execution_count": null,
   "id": "a266a820-8f60-4e58-99b4-98eded15a8eb",
   "metadata": {},
   "outputs": [],
   "source": [
    "## Cluster implementation of pi-within per-site w vcftools\n",
    "baseDIR=~/snap_hap/genome_scans\n",
    "stitchRun=stitchRun1\n",
    "\n",
    "cd $baseDIR/jobs\n",
    "for chrom in Chr{1..8}\n",
    "do    \n",
    "    inVCF=~/snap_hap/variants/stitch/${chrom}/Am_all_${stitchRun}_${chrom}.final.vcf.gz\n",
    "    \n",
    "    ## Pop1\n",
    "    pop=$baseDIR/samples/sampleNames_MF.txt\n",
    "    popPrefix=MF\n",
    "    output=$baseDIR/popgenStats/${popPrefix}_${chrom}_pi\n",
    "    sbatch -J ${chrom}_${popPrefix}_pi $baseDIR/_scripts/job-pi_vcftools.sbatch.sh \\\n",
    "        $baseDIR $chrom $inVCF $pop $output\n",
    "\n",
    "    ## Pop2\n",
    "    pop=$baseDIR/samples/sampleNames_YF.txt\n",
    "    popPrefix=YF\n",
    "    output=$baseDIR/popgenStats/${popPrefix}_${chrom}_pi\n",
    "    sbatch -J ${chrom}_${popPrefix}_pi $baseDIR/_scripts/job-pi_vcftools.sbatch.sh \\\n",
    "        $baseDIR $chrom $inVCF $pop $output\n",
    "done"
   ]
  },
  {
   "cell_type": "markdown",
   "id": "131b8915-8f6c-4c5d-8f99-fc7d6f172261",
   "metadata": {},
   "source": [
    "### Ave vs. Pla\n"
   ]
  },
  {
   "cell_type": "code",
   "execution_count": null,
   "id": "8f827d1f-28f6-43cf-8892-6a0a41d48ffb",
   "metadata": {},
   "outputs": [],
   "source": [
    "baseDIR=~/snap_hap/genome_scans\n",
    "stitchRun=stitchRun1\n",
    "window=10000\n",
    "popFile=$baseDIR/samples/N96_Pools-Ave-Pla.txt\n",
    "outPrefix=AvePla\n",
    "\n",
    "cd $baseDIR/jobs\n",
    "for chrom in Chr2\n",
    "# for chrom in Chr{1..8}\n",
    "do\n",
    "    geno=~/snap_hap/variants/stitch/${chrom}/Am_all_${stitchRun}_${chrom}.final.geno.gz\n",
    "    output=$baseDIR/popgenStats/${outPrefix}_${chrom}_w${window}.csv.gz\n",
    "\n",
    "    sbatch -J ${chrom}_${outPrefix}_pgWin $baseDIR/_scripts/job-popgenWindows.sbatch.sh \\\n",
    "            $baseDIR $chrom $geno $output $window $popFile Ave Pla\n",
    "done"
   ]
  },
  {
   "cell_type": "markdown",
   "id": "20453778-b305-40b2-84e2-94c376057a08",
   "metadata": {},
   "source": [
    "## Allele frequencies"
   ]
  },
  {
   "cell_type": "code",
   "execution_count": null,
   "id": "ad35828e-a767-4ed2-9bb5-1f76741a8cbf",
   "metadata": {},
   "outputs": [],
   "source": [
    "baseDIR=~/snap_hap/genome_scans\n",
    "outPrefix=MY\n",
    "popFile=$baseDIR/samples/N960_Pools-MF-YF.txt\n",
    "\n",
    "for chrom in Chr{1..8}\n",
    "do\n",
    "    echo $chrom\n",
    "    geno=~/snap_hap/variants/stitch/${chrom}/Am_all_stitchRun1_${chrom}.final.geno.gz\n",
    "    outputMAF=$baseDIR/AF/${outPrefix}_${chrom}.MAF.csv.gz\n",
    "    outputDerived=$baseDIR/AF/${outPrefix}_${chrom}.derivedFreq.csv.gz\n",
    "    \n",
    "    # freq.py -g $geno -p MF -p YF --popsFile $popFile --target minor --threads 10 -o $outputMAF\n",
    "    freq.py -g $geno -p MF -p YF --popsFile $popFile --target derived --threads 10 -o $outputDerived\n",
    "\n",
    "done"
   ]
  },
  {
   "cell_type": "code",
   "execution_count": null,
   "id": "61196f45-c6b2-437b-95d5-23aa357b014c",
   "metadata": {},
   "outputs": [],
   "source": [
    "## VCFtools (cluster) implementation of estimating allele frequency\n",
    "module load vcftools\n",
    "\n",
    "baseDIR=~/snap_hap/genome_scans\n",
    "stitchRun=stitchRun1\n",
    "\n",
    "cd $baseDIR/jobs/\n",
    "for chrom in Chr{1..8}\n",
    "do\n",
    "    echo $chrom\n",
    "    inVCF=~/snap_hap/variants/stitch/${chrom}/Am_all_${stitchRun}_${chrom}.final.vcf.gz\n",
    "    \n",
    "    ## MF\n",
    "    flank=MF\n",
    "    sampleFile=$baseDIR/samples/sampleNames_MF.txt\n",
    "    outputMF=$baseDIR/AF/MF_${chrom}\n",
    "    sbatch -J ${chrom}-frq2-${flank} ~/snap_hap/genome_scans/_scripts/job-freq2.sbatch.sh $baseDIR \\\n",
    "                $chrom $inVCF $sampleFile $outputMF\n",
    "    ## YF\n",
    "    flank=YF\n",
    "    sampleFile=$baseDIR/samples/sampleNames_YF.txt\n",
    "    outputYF=$baseDIR/AF/YF_${chrom}\n",
    "    sbatch -J ${chrom}-frq2-${flank} ~/snap_hap/genome_scans/_scripts/job-freq2.sbatch.sh $baseDIR \\\n",
    "                $chrom $inVCF $sampleFile $outputYF\n",
    "done"
   ]
  }
 ],
 "metadata": {
  "kernelspec": {
   "display_name": "Bash",
   "language": "bash",
   "name": "bash"
  },
  "language_info": {
   "codemirror_mode": "shell",
   "file_extension": ".sh",
   "mimetype": "text/x-sh",
   "name": "bash"
  }
 },
 "nbformat": 4,
 "nbformat_minor": 5
}
