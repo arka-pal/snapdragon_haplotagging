{
 "cells": [
  {
   "cell_type": "markdown",
   "id": "17fadac4-0df6-4a2e-82f8-ac0a3b28c385",
   "metadata": {},
   "source": [
    "# Run wrath to identify structural variants"
   ]
  },
  {
   "cell_type": "code",
   "execution_count": 15,
   "id": "d0751e20-56ec-4574-afaa-d3e702f9a63d",
   "metadata": {},
   "outputs": [],
   "source": [
    "##### Gene regions\n",
    "#CREMOSA Chr1:500000-1500000\n",
    "#AURINA Chr2:600000-1600000\n",
    "#FLAVIA Chr2:52000000-54500000\n",
    "#SULF Chr4:37500000-39000000\n",
    "#RUBIA Chr5:6000000-7000000\n",
    "#RosEL Chr6:52500000-53500000"
   ]
  },
  {
   "cell_type": "code",
   "execution_count": null,
   "id": "6e1c4116-1ac4-41a7-b4f7-bf079972378d",
   "metadata": {},
   "outputs": [],
   "source": [
    "module load samtools bedtools pysam python3 R "
   ]
  },
  {
   "cell_type": "markdown",
   "id": "401e28f5-8236-4cba-a9cf-005bf80715ef",
   "metadata": {},
   "source": [
    "## WRATH\n",
    "Github repo: https://github.com/annaorteu/wrath"
   ]
  },
  {
   "cell_type": "code",
   "execution_count": 1,
   "id": "b6463078-af66-48a9-ae6c-22e73dcf7ee8",
   "metadata": {},
   "outputs": [],
   "source": [
    "# Make bam files\n",
    "realpath ~/snap_hap/bams/v3.5/bams_merged_2023/*bam > bamfileLists/bamFiles_all.txt"
   ]
  },
  {
   "cell_type": "code",
   "execution_count": null,
   "id": "13855b10-84ad-4edd-a71f-7d401a63f6bb",
   "metadata": {},
   "outputs": [],
   "source": [
    "~/_softwares/wrath/wrath -g $refGenome -c $chrom -s $start -e $end -w $windowSize  -a $bamList -t ${SLURM_CPUS_PER_TASK} -l -v"
   ]
  },
  {
   "cell_type": "code",
   "execution_count": null,
   "id": "e285a6f0-2cf7-452e-bb86-29dd09acd4be",
   "metadata": {},
   "outputs": [],
   "source": [
    "## Initiate variables -----\n",
    "baseDIR=~/snap_hap/wrath\n",
    "windowSize=1000\n",
    "bamList=$baseDIR/bamList/bamFiles_all.txt\n",
    "refGenome=~/snap_hap/ref_genome/v3.5/Amajus_v3.5.fa\n",
    "\n",
    "## \n",
    "while read -r gene chrom start end\n",
    "do\n",
    "    if [ ! -d $baseDIR/$gene ]\n",
    "    then\n",
    "        mkdir -p $baseDIR/$gene\n",
    "    fi\n",
    "\n",
    "    cd $baseDIR/${gene}\n",
    "    pwd\n",
    "    echo $gene $chrom $start $end\n",
    "    \n",
    "    sbatch -J $gene-wrath $baseDIR/_scripts/job-wrath.sbatch.sh \\\n",
    "            $baseDIR $chrom $start $end $windowSize $bamList\n",
    "done < ~/snap_hap/ref_genome/geneRegions.bed"
   ]
  }
 ],
 "metadata": {
  "kernelspec": {
   "display_name": "Bash",
   "language": "bash",
   "name": "bash"
  },
  "language_info": {
   "codemirror_mode": "shell",
   "file_extension": ".sh",
   "mimetype": "text/x-sh",
   "name": "bash"
  }
 },
 "nbformat": 4,
 "nbformat_minor": 5
}
