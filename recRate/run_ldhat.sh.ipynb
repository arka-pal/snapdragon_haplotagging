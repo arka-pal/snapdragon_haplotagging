{
 "cells": [
  {
   "cell_type": "markdown",
   "id": "8507552a-b4da-4c37-bf22-f3da85c99aed",
   "metadata": {},
   "source": [
    "# Implementing LDhat"
   ]
  },
  {
   "cell_type": "markdown",
   "id": "330a3108-4a83-4bb3-bc15-f3e507ad3271",
   "metadata": {},
   "source": [
    "Code modified from: <br>\n",
    "<https://github.com/QuentinRougemont/LDhat_workflow> <br>\n",
    "<https://github.com/ThomasBrazier/ldhat-snakemake-pipeline/tree/main>"
   ]
  },
  {
   "cell_type": "markdown",
   "id": "8c25000e-76f4-4148-81cb-398b627b22c4",
   "metadata": {},
   "source": [
    "$\\theta = 4N_e\\mu$ <br>\n",
    "$N_e = 354349$ <br>\n",
    "$\\mu = 10^{-8}$ <br>\n",
    "$\\theta = 0.01417$"
   ]
  },
  {
   "cell_type": "markdown",
   "id": "f68ee342-cbf4-4a25-9def-2543a25bc5bd",
   "metadata": {},
   "source": [
    "Run LDhat on 2000 SNP windows with 100 SNPs overlap on each side for pure-FR/Ye individuals."
   ]
  },
  {
   "cell_type": "code",
   "execution_count": null,
   "id": "2100edcf-a91c-4bab-a346-04852d30209b",
   "metadata": {},
   "outputs": [],
   "source": [
    "module load bcftools vcftools ldhat\n",
    "LDhat=/mnt/nfs/clustersw/Debian/bookworm/ldhat/20240426/bin"
   ]
  },
  {
   "cell_type": "code",
   "execution_count": null,
   "id": "dae29c18-b380-41a4-a3a5-5ac71989306b",
   "metadata": {},
   "outputs": [],
   "source": [
    "## Chunk the genome for running LDhat"
   ]
  },
  {
   "cell_type": "code",
   "execution_count": null,
   "id": "a811228c-57d1-4016-973f-bc884fc492b6",
   "metadata": {},
   "outputs": [],
   "source": [
    "## Chrom    size    windows\n",
    "Chr1\t71919034    1438\n",
    "Chr2\t77118269    1542\n",
    "Chr3\t65231163    1304\n",
    "Chr4\t54887108    1097\n",
    "Chr5\t71106538    1422\n",
    "Chr6\t55699338    1113\n",
    "Chr7\t55564713    1111\n",
    "Chr8\t57431585    1148"
   ]
  },
  {
   "cell_type": "code",
   "execution_count": null,
   "id": "91936295-d705-47b7-a521-311f5a6007ed",
   "metadata": {},
   "outputs": [],
   "source": [
    "## Run on cluster\n",
    "cd ~/snap_hap/recRate/jobs/\n",
    "sampPrefix=MF3.pFR.hCov\n",
    "sampleFile=~/snap_hap/sample_info/samples_by_colors/highCov_MF3_ColorClass2-pFR.txt\n",
    "bpen=5\n",
    "\n",
    "# Chr6\t55699338 bp    1113 windows\n",
    "chrom=Chr6\n",
    "sbatch -J $chrom.$sampPrefix --array=1 ~/snap_hap/recRate/_scripts/job-LDhat.sbatch.sh $chrom $sampPrefix $sampleFile $bpen"
   ]
  }
 ],
 "metadata": {
  "kernelspec": {
   "display_name": "Bash",
   "language": "bash",
   "name": "bash"
  },
  "language_info": {
   "codemirror_mode": "shell",
   "file_extension": ".sh",
   "mimetype": "text/x-sh",
   "name": "bash"
  }
 },
 "nbformat": 4,
 "nbformat_minor": 5
}
