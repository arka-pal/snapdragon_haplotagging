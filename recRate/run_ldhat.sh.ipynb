{
 "cells": [
  {
   "cell_type": "markdown",
   "id": "8507552a-b4da-4c37-bf22-f3da85c99aed",
   "metadata": {},
   "source": [
    "# Implementing LDhat"
   ]
  },
  {
   "cell_type": "markdown",
   "id": "330a3108-4a83-4bb3-bc15-f3e507ad3271",
   "metadata": {},
   "source": [
    "Code modified from: <br>\n",
    "<https://github.com/QuentinRougemont/LDhat_workflow> <br>\n",
    "<https://github.com/ThomasBrazier/ldhat-snakemake-pipeline/tree/main>"
   ]
  },
  {
   "cell_type": "markdown",
   "id": "8c25000e-76f4-4148-81cb-398b627b22c4",
   "metadata": {},
   "source": [
    "$\\theta = 4N_e\\mu$ <br>\n",
    "$N_e = 354349$ <br>\n",
    "$\\mu = 10^{-8}$ <br>\n",
    "$\\theta = 0.01417$"
   ]
  },
  {
   "cell_type": "markdown",
   "id": "f68ee342-cbf4-4a25-9def-2543a25bc5bd",
   "metadata": {},
   "source": [
    "Run LDhat on 2000 SNP windows with 100 SNPs overlap on each side for pure-FR/Ye individuals."
   ]
  },
  {
   "cell_type": "code",
   "execution_count": null,
   "id": "2100edcf-a91c-4bab-a346-04852d30209b",
   "metadata": {},
   "outputs": [],
   "source": [
    "module load bcftools vcftools ldhat\n",
    "LDhat=/mnt/nfs/clustersw/Debian/bookworm/ldhat/20240426/bin"
   ]
  },
  {
   "cell_type": "code",
   "execution_count": null,
   "id": "dae29c18-b380-41a4-a3a5-5ac71989306b",
   "metadata": {},
   "outputs": [],
   "source": [
    "## Chunk the genome for running LDhat"
   ]
  },
  {
   "cell_type": "code",
   "execution_count": null,
   "id": "91936295-d705-47b7-a521-311f5a6007ed",
   "metadata": {},
   "outputs": [],
   "source": []
  }
 ],
 "metadata": {
  "kernelspec": {
   "display_name": "Bash",
   "language": "bash",
   "name": "bash"
  },
  "language_info": {
   "codemirror_mode": "shell",
   "file_extension": ".sh",
   "mimetype": "text/x-sh",
   "name": "bash"
  }
 },
 "nbformat": 4,
 "nbformat_minor": 5
}
