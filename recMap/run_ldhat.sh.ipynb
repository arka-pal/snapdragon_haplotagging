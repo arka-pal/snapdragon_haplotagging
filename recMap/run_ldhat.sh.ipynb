{
 "cells": [
  {
   "cell_type": "markdown",
   "id": "8507552a-b4da-4c37-bf22-f3da85c99aed",
   "metadata": {},
   "source": [
    "# Implementing LDhat"
   ]
  },
  {
   "cell_type": "markdown",
   "id": "330a3108-4a83-4bb3-bc15-f3e507ad3271",
   "metadata": {},
   "source": [
    "Code modified from: <br>\n",
    "<https://github.com/QuentinRougemont/LDhat_workflow> <br>\n",
    "<https://github.com/ThomasBrazier/ldhat-snakemake-pipeline/tree/main>"
   ]
  },
  {
   "cell_type": "markdown",
   "id": "8c25000e-76f4-4148-81cb-398b627b22c4",
   "metadata": {},
   "source": [
    "$\\theta = 4N_e\\mu$ <br>\n",
    "$N_e = 354349$ <br>\n",
    "$\\mu = 10^{-8}$ <br>\n",
    "$\\theta = 0.01417$"
   ]
  },
  {
   "cell_type": "code",
   "execution_count": null,
   "id": "2100edcf-a91c-4bab-a346-04852d30209b",
   "metadata": {},
   "outputs": [],
   "source": [
    "module load bcftools vcftools ldhat"
   ]
  }
 ],
 "metadata": {
  "kernelspec": {
   "display_name": "Bash",
   "language": "bash",
   "name": "bash"
  },
  "language_info": {
   "codemirror_mode": "shell",
   "file_extension": ".sh",
   "mimetype": "text/x-sh",
   "name": "bash"
  }
 },
 "nbformat": 4,
 "nbformat_minor": 5
}
