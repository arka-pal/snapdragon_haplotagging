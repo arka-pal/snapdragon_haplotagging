{
 "cells": [
  {
   "cell_type": "markdown",
   "id": "fac3194a-8d62-48fa-8e40-6450f76d4d5b",
   "metadata": {},
   "source": [
    "# Infer genealogies with ts with FR&Ye samples from Flank3"
   ]
  },
  {
   "cell_type": "code",
   "execution_count": null,
   "id": "61acb081-5b81-481a-93a5-7527982bab9d",
   "metadata": {},
   "outputs": [],
   "source": [
    "import tsinfer\n",
    "import tsdate\n",
    "import tskit"
   ]
  },
  {
   "cell_type": "code",
   "execution_count": null,
   "id": "2edb8a74-b6e0-4a12-a581-16e465f5a9e4",
   "metadata": {},
   "outputs": [],
   "source": []
  }
 ],
 "metadata": {
  "kernelspec": {
   "display_name": "Python 3 (ipykernel)",
   "language": "python",
   "name": "python3"
  },
  "language_info": {
   "codemirror_mode": {
    "name": "ipython",
    "version": 3
   },
   "file_extension": ".py",
   "mimetype": "text/x-python",
   "name": "python",
   "nbconvert_exporter": "python",
   "pygments_lexer": "ipython3",
   "version": "3.11.8"
  }
 },
 "nbformat": 4,
 "nbformat_minor": 5
}
