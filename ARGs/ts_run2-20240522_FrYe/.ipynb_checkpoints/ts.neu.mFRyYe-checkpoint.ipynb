{
 "cells": [
  {
   "cell_type": "markdown",
   "id": "fac3194a-8d62-48fa-8e40-6450f76d4d5b",
   "metadata": {},
   "source": [
    "# Infer genealogies with ts with FR&Ye samples from Flank3"
   ]
  },
  {
   "cell_type": "code",
   "execution_count": 1,
   "id": "61acb081-5b81-481a-93a5-7527982bab9d",
   "metadata": {},
   "outputs": [],
   "source": [
    "import tsinfer\n",
    "import tsdate\n",
    "import tskit\n",
    "import cyvcf2\n",
    "import numpy as np\n",
    "import os"
   ]
  },
  {
   "cell_type": "code",
   "execution_count": 2,
   "id": "232d7d80-f9cb-4d19-a217-cfc908786479",
   "metadata": {},
   "outputs": [
    {
     "data": {
      "text/plain": [
       "'/nfs/scistore18/bartogrp/apal/snap_hap/ARGs'"
      ]
     },
     "execution_count": 2,
     "metadata": {},
     "output_type": "execute_result"
    }
   ],
   "source": [
    "# os.chdir('/Users/apal/Phd/Projects/2021-snap_hap/ARGs')\n",
    "os.chdir('/nfs/scistore18/bartogrp/apal/snap_hap/ARGs')\n",
    "os.getcwd()"
   ]
  },
  {
   "cell_type": "code",
   "execution_count": 3,
   "id": "2edb8a74-b6e0-4a12-a581-16e465f5a9e4",
   "metadata": {
    "jupyter": {
     "source_hidden": true
    }
   },
   "outputs": [],
   "source": [
    "## Define function to add sites into samples for tsinfer\n",
    "def add_diploid_sites(vcf, samples):\n",
    "    \n",
    "    \"\"\"\n",
    "    Read the sites in the vcf and add them to the samples object.\n",
    "    \"\"\"\n",
    "    \n",
    "    # You may want to change the following line, e.g. here we allow\n",
    "    # \"*\" (a spanning deletion) to be a valid allele state\n",
    "    allele_chars = set(\"ATGCatgc*\")\n",
    "    pos = 0\n",
    "    siteID = 0\n",
    "    \n",
    "    for variant in vcf:  # Loop over variants, each assumed at a unique site    \n",
    "        # progressbar.update(variant.POS - pos)\n",
    "        allele_chars = set(\"ATGCatgc*\")\n",
    "        \n",
    "        pos = variant.POS\n",
    "        \n",
    "        alleles = [variant.REF.upper()] + [v.upper() for v in variant.ALT]\n",
    "        ancestral_allele = 0\n",
    "        \n",
    "        # ancestral = variant.INFO.get(\"AA\", \".\")  # \".\" means unknown\n",
    "        \n",
    "        # # some VCFs (e.g. from 1000G) have many values in the AA field: take the 1st\n",
    "        # ancestral = ancestral.split(\"|\")[0].upper()\n",
    "        # if ancestral == \".\" or ancestral == \"\":\n",
    "        #     ancestral_allele = MISSING_DATA\n",
    "        #     # alternatively, you could specify `ancestral = variant.REF.upper()`\n",
    "        # else:\n",
    "        #     ancestral_allele = alleles.index(ancestral)\n",
    "    \n",
    "        # Check we have ATCG alleles\n",
    "        for a in alleles:\n",
    "            if len(set(a) - allele_chars) > 0:\n",
    "                print(f\"Ignoring site at pos {pos}: allele {a} not in {allele_chars}\")\n",
    "                continue\n",
    "        # Map original allele indexes to their indexes in the new alleles list.\n",
    "        genotypes = [g for row in variant.genotypes for g in row[0:2]]\n",
    "\n",
    "        samples.add_site(pos, genotypes, alleles, ancestral_allele=ancestral_allele)\n",
    "        siteID += 1"
   ]
  },
  {
   "cell_type": "code",
   "execution_count": 4,
   "id": "83e3da9d-55d2-4ca6-bb86-af8a58805539",
   "metadata": {},
   "outputs": [],
   "source": [
    "##  Load samples to tsinfer\n",
    "demes=['mFR','yYe']\n",
    "demeSize = [22, 20]\n",
    "popList = np.repeat(demes, demeSize)\n",
    "vcf_path=\"./VCFs/Am_mFRyYe_stitchRun1_Chr6-30000000-30400000.refScaf.statphased.vcf.gz\"\n",
    "vcf = cyvcf2.VCF(vcf_path)"
   ]
  },
  {
   "cell_type": "code",
   "execution_count": 5,
   "id": "8181a650-1fe0-49d4-a884-54fca8520366",
   "metadata": {},
   "outputs": [],
   "source": [
    "with tsinfer.SampleData(path = './ts_run2-20240522_FrYe/ts.neu.mFRyYe.samples') as sample_data:\n",
    "    \n",
    "    ## Define populations\n",
    "    sample_data.add_population(metadata={\"name\": \"mFR\"})\n",
    "    sample_data.add_population(metadata={\"name\": \"yYe\"})\n",
    "\n",
    "    ## Define inidividuals\n",
    "    for sampleName, pop in zip(vcf.samples, popList):\n",
    "        popIndex = demes.index(pop)\n",
    "        sample_data.add_individual(ploidy=2, population=popIndex, metadata={\"names\":sampleName})\n",
    "\n",
    "    ## Add sites and genotypes\n",
    "    add_diploid_sites(vcf, sample_data)"
   ]
  },
  {
   "cell_type": "code",
   "execution_count": 6,
   "id": "4722e90a-f1cb-454e-bdba-9606a0f044e0",
   "metadata": {},
   "outputs": [],
   "source": [
    "## Load sample data if run before\n",
    "sample_data = tsinfer.load('./ts_run2-20240522_FrYe/ts.neu.mFRyYe.samples')"
   ]
  },
  {
   "cell_type": "code",
   "execution_count": 7,
   "id": "7979aa9a-b38f-4c39-963b-6551e2a735ad",
   "metadata": {},
   "outputs": [
    {
     "data": {
      "text/plain": [
       "84"
      ]
     },
     "execution_count": 7,
     "metadata": {},
     "output_type": "execute_result"
    }
   ],
   "source": [
    "# sample_data.\n",
    "sample_data.num_samples"
   ]
  },
  {
   "cell_type": "code",
   "execution_count": 8,
   "id": "17c8218e-b3ce-465d-ae48-f8bb7ba95560",
   "metadata": {},
   "outputs": [
    {
     "name": "stdout",
     "output_type": "stream",
     "text": [
      "Sample file created for 84 samples (42 individuals) with 13359 variable sites.\n"
     ]
    }
   ],
   "source": [
    "print(\n",
    "    \"Sample file created for {} samples \".format(sample_data.num_samples)\n",
    "    + \"({} individuals) \".format(sample_data.num_individuals)\n",
    "    + \"with {} variable sites.\".format(sample_data.num_sites),\n",
    "    flush=True,\n",
    ")"
   ]
  },
  {
   "cell_type": "code",
   "execution_count": 11,
   "id": "6e4afdb0-47bc-409c-83de-cbb8d8158c63",
   "metadata": {},
   "outputs": [],
   "source": [
    "ts_neu_mFRyYe = tsinfer.infer(sample_data)"
   ]
  },
  {
   "cell_type": "code",
   "execution_count": 12,
   "id": "6277887f-ac40-4917-a161-a980b26dea65",
   "metadata": {},
   "outputs": [],
   "source": [
    "# type(ts_rosel_mFRyYe)"
   ]
  },
  {
   "cell_type": "code",
   "execution_count": 13,
   "id": "896430e2-1bed-4ff5-bfb2-0cab01ae13b1",
   "metadata": {},
   "outputs": [],
   "source": [
    "tsSimp_neu_mFRyYe = ts_neu_mFRyYe.simplify(keep_unary=False)\n",
    "tsD_neu_mFRyYe = tsdate.date(tsSimp_neu_mFRyYe, Ne = 354349, mutation_rate = 7e-9)"
   ]
  },
  {
   "cell_type": "code",
   "execution_count": null,
   "id": "7d3a8be1-0797-4311-9e4b-c231df410992",
   "metadata": {},
   "outputs": [],
   "source": [
    "tsD_neu_mFRyYe"
   ]
  },
  {
   "cell_type": "code",
   "execution_count": null,
   "id": "566df577-90c9-46b5-b4f6-c91d986e4eba",
   "metadata": {},
   "outputs": [],
   "source": [
    "## Save the tree sequence\n",
    "tsD_neu_mFRyYe.dump('./ts_run2-20240522_FrYe/ts.neu.mFRyYe.ts')\n",
    "\n",
    "## Load tree sequence\n",
    "# tsD_rosel_mFRyYe.dump('./ts_run2-20240522_FrYe/ts_mFRyYe.ts')"
   ]
  },
  {
   "cell_type": "code",
   "execution_count": null,
   "id": "4d5df2c6-7f14-4d3f-971d-eb15c9da0566",
   "metadata": {},
   "outputs": [],
   "source": []
  }
 ],
 "metadata": {
  "kernelspec": {
   "display_name": "Python 3 (ipykernel)",
   "language": "python",
   "name": "python3"
  },
  "language_info": {
   "codemirror_mode": {
    "name": "ipython",
    "version": 3
   },
   "file_extension": ".py",
   "mimetype": "text/x-python",
   "name": "python",
   "nbconvert_exporter": "python",
   "pygments_lexer": "ipython3",
   "version": "3.11.8"
  }
 },
 "nbformat": 4,
 "nbformat_minor": 5
}
