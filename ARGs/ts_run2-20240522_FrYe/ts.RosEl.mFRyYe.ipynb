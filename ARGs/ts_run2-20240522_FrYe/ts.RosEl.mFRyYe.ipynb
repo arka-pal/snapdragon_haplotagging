{
 "cells": [
  {
   "cell_type": "markdown",
   "id": "fac3194a-8d62-48fa-8e40-6450f76d4d5b",
   "metadata": {},
   "source": [
    "# Infer genealogies with ts with FR&Ye samples from Flank3"
   ]
  },
  {
   "cell_type": "code",
   "execution_count": 44,
   "id": "61acb081-5b81-481a-93a5-7527982bab9d",
   "metadata": {},
   "outputs": [],
   "source": [
    "import tsinfer\n",
    "import tsdate\n",
    "import tskit\n",
    "import cyvcf2\n",
    "import numpy as np\n",
    "import os\n",
    "import pandas as pd"
   ]
  },
  {
   "cell_type": "code",
   "execution_count": 2,
   "id": "232d7d80-f9cb-4d19-a217-cfc908786479",
   "metadata": {},
   "outputs": [
    {
     "data": {
      "text/plain": [
       "'/Users/apal/Phd/Projects/2021-snap_hap/ARGs'"
      ]
     },
     "execution_count": 2,
     "metadata": {},
     "output_type": "execute_result"
    }
   ],
   "source": [
    "os.chdir('/Users/apal/Phd/Projects/2021-snap_hap/ARGs')\n",
    "# os.chdir('/nfs/scistore18/bartogrp/apal/snap_hap/ARGs')\n",
    "os.getcwd()"
   ]
  },
  {
   "cell_type": "code",
   "execution_count": 3,
   "id": "2edb8a74-b6e0-4a12-a581-16e465f5a9e4",
   "metadata": {
    "jupyter": {
     "source_hidden": true
    }
   },
   "outputs": [],
   "source": [
    "## Define function to add sites into samples for tsinfer\n",
    "def add_diploid_sites(vcf, samples):\n",
    "    \n",
    "    \"\"\"\n",
    "    Read the sites in the vcf and add them to the samples object.\n",
    "    \"\"\"\n",
    "    \n",
    "    # You may want to change the following line, e.g. here we allow\n",
    "    # \"*\" (a spanning deletion) to be a valid allele state\n",
    "    allele_chars = set(\"ATGCatgc*\")\n",
    "    pos = 0\n",
    "    siteID = 0\n",
    "    \n",
    "    for variant in vcf:  # Loop over variants, each assumed at a unique site    \n",
    "        # progressbar.update(variant.POS - pos)\n",
    "        allele_chars = set(\"ATGCatgc*\")\n",
    "        \n",
    "        pos = variant.POS\n",
    "        \n",
    "        alleles = [variant.REF.upper()] + [v.upper() for v in variant.ALT]\n",
    "        ancestral_allele = 0\n",
    "        \n",
    "        # ancestral = variant.INFO.get(\"AA\", \".\")  # \".\" means unknown\n",
    "        \n",
    "        # # some VCFs (e.g. from 1000G) have many values in the AA field: take the 1st\n",
    "        # ancestral = ancestral.split(\"|\")[0].upper()\n",
    "        # if ancestral == \".\" or ancestral == \"\":\n",
    "        #     ancestral_allele = MISSING_DATA\n",
    "        #     # alternatively, you could specify `ancestral = variant.REF.upper()`\n",
    "        # else:\n",
    "        #     ancestral_allele = alleles.index(ancestral)\n",
    "    \n",
    "        # Check we have ATCG alleles\n",
    "        for a in alleles:\n",
    "            if len(set(a) - allele_chars) > 0:\n",
    "                print(f\"Ignoring site at pos {pos}: allele {a} not in {allele_chars}\")\n",
    "                continue\n",
    "        # Map original allele indexes to their indexes in the new alleles list.\n",
    "        genotypes = [g for row in variant.genotypes for g in row[0:2]]\n",
    "\n",
    "        samples.add_site(pos, genotypes, alleles, ancestral_allele=ancestral_allele)\n",
    "        siteID += 1"
   ]
  },
  {
   "cell_type": "code",
   "execution_count": 4,
   "id": "83e3da9d-55d2-4ca6-bb86-af8a58805539",
   "metadata": {},
   "outputs": [],
   "source": [
    "##  Load samples to tsinfer\n",
    "demes=['mFR','yYe']\n",
    "demeSize = [22, 20]\n",
    "popList = np.repeat(demes, demeSize)\n",
    "vcf_path=\"./VCFs/Am_mFRyYe_stitchRun1_Chr6-52800000-53200000.refScaf.statphased.vcf.gz\"\n",
    "vcf = cyvcf2.VCF(vcf_path)"
   ]
  },
  {
   "cell_type": "code",
   "execution_count": 5,
   "id": "8181a650-1fe0-49d4-a884-54fca8520366",
   "metadata": {},
   "outputs": [],
   "source": [
    "with tsinfer.SampleData(path = './ts_run2-20240522_FrYe/ts.RosEl.mFRyYe.samples') as sample_data:\n",
    "    \n",
    "    ## Define populations\n",
    "    sample_data.add_population(metadata={\"name\": \"mFR\"})\n",
    "    sample_data.add_population(metadata={\"name\": \"yYe\"})\n",
    "\n",
    "    ## Define inidividuals\n",
    "    for sampleName, pop in zip(vcf.samples, popList):\n",
    "        popIndex = demes.index(pop)\n",
    "        sample_data.add_individual(ploidy=2, population=popIndex, metadata={\"names\":sampleName})\n",
    "\n",
    "    ## Add sites and genotypes\n",
    "    add_diploid_sites(vcf, sample_data)"
   ]
  },
  {
   "cell_type": "code",
   "execution_count": 6,
   "id": "4722e90a-f1cb-454e-bdba-9606a0f044e0",
   "metadata": {},
   "outputs": [],
   "source": [
    "## Load sample data if run before\n",
    "sample_data = tsinfer.load('./ts_run2-20240522_FrYe/ts.RosEl.mFRyYe.samples')"
   ]
  },
  {
   "cell_type": "code",
   "execution_count": 7,
   "id": "7979aa9a-b38f-4c39-963b-6551e2a735ad",
   "metadata": {},
   "outputs": [
    {
     "data": {
      "text/plain": [
       "84"
      ]
     },
     "execution_count": 7,
     "metadata": {},
     "output_type": "execute_result"
    }
   ],
   "source": [
    "# sample_data.\n",
    "sample_data.num_samples"
   ]
  },
  {
   "cell_type": "code",
   "execution_count": 8,
   "id": "17c8218e-b3ce-465d-ae48-f8bb7ba95560",
   "metadata": {},
   "outputs": [
    {
     "name": "stdout",
     "output_type": "stream",
     "text": [
      "Sample file created for 84 samples (42 individuals) with 23529 variable sites.\n"
     ]
    }
   ],
   "source": [
    "print(\n",
    "    \"Sample file created for {} samples \".format(sample_data.num_samples)\n",
    "    + \"({} individuals) \".format(sample_data.num_individuals)\n",
    "    + \"with {} variable sites.\".format(sample_data.num_sites),\n",
    "    flush=True,\n",
    ")"
   ]
  },
  {
   "cell_type": "code",
   "execution_count": 9,
   "id": "6e4afdb0-47bc-409c-83de-cbb8d8158c63",
   "metadata": {},
   "outputs": [],
   "source": [
    "ts_rosel_mFRyYe = tsinfer.infer(sample_data)"
   ]
  },
  {
   "cell_type": "code",
   "execution_count": 10,
   "id": "6277887f-ac40-4917-a161-a980b26dea65",
   "metadata": {},
   "outputs": [
    {
     "data": {
      "text/plain": [
       "tskit.trees.TreeSequence"
      ]
     },
     "execution_count": 10,
     "metadata": {},
     "output_type": "execute_result"
    }
   ],
   "source": [
    "type(ts_rosel_mFRyYe)"
   ]
  },
  {
   "cell_type": "code",
   "execution_count": 11,
   "id": "896430e2-1bed-4ff5-bfb2-0cab01ae13b1",
   "metadata": {},
   "outputs": [],
   "source": [
    "tsSimp_rosel_mFRyYe = ts_rosel_mFRyYe.simplify(keep_unary=False)\n",
    "tsD_rosel_mFRyYe = tsdate.date(tsSimp_rosel_mFRyYe, Ne = 354349, mutation_rate = 7e-9)"
   ]
  },
  {
   "cell_type": "code",
   "execution_count": 12,
   "id": "7d3a8be1-0797-4311-9e4b-c231df410992",
   "metadata": {},
   "outputs": [
    {
     "data": {
      "text/html": [
       "\n",
       "            <div>\n",
       "              <style>\n",
       "                .tskit-table thead tr th {text-align: left;padding: 0.5em 0.5em;}\n",
       "                .tskit-table tbody tr td {padding: 0.5em 0.5em;}\n",
       "                .tskit-table tbody tr td:first-of-type {text-align: left;}\n",
       "                .tskit-details-label {vertical-align: top; padding-right:5px;}\n",
       "                .tskit-table-set {display: inline-flex;flex-wrap: wrap;margin: -12px 0 0 -12px;width: calc(100% + 12px);}\n",
       "                .tskit-table-set-table {margin: 12px 0 0 12px;}\n",
       "                details {display: inline-block;}\n",
       "                summary {cursor: pointer; outline: 0; display: list-item;}\n",
       "              </style>\n",
       "              <div class=\"tskit-table-set\">\n",
       "                <div class=\"tskit-table-set-table\">\n",
       "                  <table class=\"tskit-table\">\n",
       "                    <thead>\n",
       "                      <tr>\n",
       "                        <th style=\"padding:0;line-height:21px;\">\n",
       "                          <img style=\"height: 32px;display: inline-block;padding: 3px 5px 3px 0;\" src=\"https://raw.githubusercontent.com/tskit-dev/administrative/main/tskit_logo.svg\"/>\n",
       "                          <a target=\"_blank\" href=\"https://tskit.dev/tskit/docs/latest/python-api.html#the-treesequence-class\"> Tree Sequence </a>\n",
       "                        </th>\n",
       "                      </tr>\n",
       "                    </thead>\n",
       "                    <tbody>\n",
       "                      <tr><td>Trees</td><td>10427</td></tr>\n",
       "                      <tr><td>Sequence Length</td><td>53199989.0</td></tr>\n",
       "                      <tr><td>Time Units</td><td>generations</td></tr>\n",
       "                      <tr><td>Sample Nodes</td><td>84</td></tr>\n",
       "                      <tr><td>Total Size</td><td>6.0 MiB</td></tr>\n",
       "                      <tr>\n",
       "                        <td>Metadata</td><td style=\"text-align: left;\">\n",
       "                <div>\n",
       "                  <span class=\"tskit-details-label\"></span>\n",
       "                  <details open>\n",
       "                    <summary>dict</summary>\n",
       "                    \n",
       "                  </details>\n",
       "                </div>\n",
       "                </td></tr>\n",
       "                    </tbody>\n",
       "                  </table>\n",
       "                </div>\n",
       "                <div class=\"tskit-table-set-table\">\n",
       "                  <table class=\"tskit-table\">\n",
       "                    <thead>\n",
       "                      <tr>\n",
       "                        <th style=\"line-height:21px;\">Table</th>\n",
       "                        <th>Rows</th>\n",
       "                        <th>Size</th>\n",
       "                        <th>Has Metadata</th>\n",
       "                      </tr>\n",
       "                    </thead>\n",
       "                    <tbody>\n",
       "                    \n",
       "                  <tr>\n",
       "                    <td>Edges</td>\n",
       "                      <td>85212</td>\n",
       "                      <td>2.6 MiB</td>\n",
       "                      <td style=\"text-align: center;\">\n",
       "                        \n",
       "                      </td>\n",
       "                    </tr>\n",
       "                \n",
       "                  <tr>\n",
       "                    <td>Individuals</td>\n",
       "                      <td>42</td>\n",
       "                      <td>3.1 KiB</td>\n",
       "                      <td style=\"text-align: center;\">\n",
       "                        ✅\n",
       "                      </td>\n",
       "                    </tr>\n",
       "                \n",
       "                  <tr>\n",
       "                    <td>Migrations</td>\n",
       "                      <td>0</td>\n",
       "                      <td>8 Bytes</td>\n",
       "                      <td style=\"text-align: center;\">\n",
       "                        \n",
       "                      </td>\n",
       "                    </tr>\n",
       "                \n",
       "                  <tr>\n",
       "                    <td>Mutations</td>\n",
       "                      <td>19413</td>\n",
       "                      <td>701.5 KiB</td>\n",
       "                      <td style=\"text-align: center;\">\n",
       "                        \n",
       "                      </td>\n",
       "                    </tr>\n",
       "                \n",
       "                  <tr>\n",
       "                    <td>Nodes</td>\n",
       "                      <td>14542</td>\n",
       "                      <td>1.1 MiB</td>\n",
       "                      <td style=\"text-align: center;\">\n",
       "                        ✅\n",
       "                      </td>\n",
       "                    </tr>\n",
       "                \n",
       "                  <tr>\n",
       "                    <td>Populations</td>\n",
       "                      <td>2</td>\n",
       "                      <td>54 Bytes</td>\n",
       "                      <td style=\"text-align: center;\">\n",
       "                        ✅\n",
       "                      </td>\n",
       "                    </tr>\n",
       "                \n",
       "                  <tr>\n",
       "                    <td>Provenances</td>\n",
       "                      <td>3</td>\n",
       "                      <td>1.7 KiB</td>\n",
       "                      <td style=\"text-align: center;\">\n",
       "                        \n",
       "                      </td>\n",
       "                    </tr>\n",
       "                \n",
       "                  <tr>\n",
       "                    <td>Sites</td>\n",
       "                      <td>19413</td>\n",
       "                      <td>978.8 KiB</td>\n",
       "                      <td style=\"text-align: center;\">\n",
       "                        ✅\n",
       "                      </td>\n",
       "                    </tr>\n",
       "                \n",
       "                    </tbody>\n",
       "                  </table>\n",
       "                </div>\n",
       "              </div>\n",
       "            </div>\n",
       "            "
      ],
      "text/plain": [
       "<tskit.trees.TreeSequence at 0x7f00c80da010>"
      ]
     },
     "execution_count": 12,
     "metadata": {},
     "output_type": "execute_result"
    }
   ],
   "source": [
    "tsD_rosel_mFRyYe"
   ]
  },
  {
   "cell_type": "code",
   "execution_count": 3,
   "id": "566df577-90c9-46b5-b4f6-c91d986e4eba",
   "metadata": {},
   "outputs": [],
   "source": [
    "## Save the tree sequence\n",
    "# tsD_rosel_mFRyYe.dump('./ts_run2-20240522_FrYe/ts.RosEl.mFRyYe.ts')\n",
    "\n",
    "## Load tree sequence\n",
    "tsD_rosel_mFRyYe = tskit.load('./ts_run2-20240522_FrYe/ts.RosEl.mFRyYe.ts')"
   ]
  },
  {
   "cell_type": "code",
   "execution_count": 18,
   "id": "0461b2aa-cee1-4a16-8860-462c7b7de014",
   "metadata": {},
   "outputs": [
    {
     "data": {
      "text/plain": [
       "array([       0., 52800008., 52800120., ..., 53199772., 53199823.,\n",
       "       53199989.])"
      ]
     },
     "execution_count": 18,
     "metadata": {},
     "output_type": "execute_result"
    }
   ],
   "source": [
    "tsD_rosel_mFRyYe.breakpoints(as_array=True)[:]"
   ]
  },
  {
   "cell_type": "code",
   "execution_count": 26,
   "id": "4d5df2c6-7f14-4d3f-971d-eb15c9da0566",
   "metadata": {},
   "outputs": [],
   "source": [
    "## Num of trees\n",
    "tr1 = tsD_rosel_mFRyYe.last()"
   ]
  },
  {
   "cell_type": "code",
   "execution_count": 43,
   "id": "ea13f86f-a2db-4cc5-9c9c-a50131911f26",
   "metadata": {
    "collapsed": true,
    "jupyter": {
     "outputs_hidden": true
    }
   },
   "outputs": [
    {
     "data": {
      "image/svg+xml": [
       "<svg baseProfile=\"full\" height=\"500\" version=\"1.1\" width=\"1000\" xmlns=\"http://www.w3.org/2000/svg\" xmlns:ev=\"http://www.w3.org/2001/xml-events\" xmlns:xlink=\"http://www.w3.org/1999/xlink\"><defs><style type=\"text/css\"><![CDATA[.background path {fill: #808080; fill-opacity: 0}.background path:nth-child(odd) {fill-opacity: .1}.axes {font-size: 14px}.x-axis .tick .lab {font-weight: bold; dominant-baseline: hanging}.axes, .tree {font-size: 14px; text-anchor: middle}.axes line, .edge {stroke: black; fill: none}.axes .ax-skip {stroke-dasharray: 4}.y-axis .grid {stroke: #FAFAFA}.node > .sym {fill: black; stroke: none}.site > .sym {stroke: black}.mut text {fill: red; font-style: italic}.mut.extra text {fill: hotpink}.mut line {fill: none; stroke: none}.mut .sym {fill: none; stroke: red}.mut.extra .sym {stroke: hotpink}.node .mut .sym {stroke-width: 1.5px}.tree text, .tree-sequence text {dominant-baseline: central}.plotbox .lab.lft {text-anchor: end}.plotbox .lab.rgt {text-anchor: start}]]></style></defs><g class=\"tree t10426\"><g class=\"plotbox\"><g class=\"c2 node n14541 root\" transform=\"translate(883.85 26.8)\"><g class=\"a14541 i37 leaf node n75 p1 sample\" transform=\"translate(90.4353 441.4)\"><path class=\"edge\" d=\"M 0 0 V -441.4 H -90.4353\" /><rect class=\"sym\" height=\"6\" width=\"6\" x=\"-3\" y=\"-3\" /><text class=\"lab\" transform=\"translate(0 11)\">75</text></g><g class=\"a14541 c11 m19409 node n10485 s19409\" transform=\"translate(-90.4353 3.03487e-10)\"><g class=\"a10485 i2 leaf node n5 p0 sample\" transform=\"translate(9.44196 441.4)\"><path class=\"edge\" d=\"M 0 0 V -441.4 H -9.44196\" /><rect class=\"sym\" height=\"6\" width=\"6\" x=\"-3\" y=\"-3\" /><text class=\"lab\" transform=\"translate(0 11)\">5</text></g><g class=\"a10485 i18 leaf node n36 p0 sample\" transform=\"translate(100.871 441.4)\"><path class=\"edge\" d=\"M 0 0 V -441.4 H -100.871\" /><rect class=\"sym\" height=\"6\" width=\"6\" x=\"-3\" y=\"-3\" /><text class=\"lab\" transform=\"translate(0 11)\">36</text></g><g class=\"a10485 i30 leaf node n61 p1 sample\" transform=\"translate(112.299 441.4)\"><path class=\"edge\" d=\"M 0 0 V -441.4 H -112.299\" /><rect class=\"sym\" height=\"6\" width=\"6\" x=\"-3\" y=\"-3\" /><text class=\"lab\" transform=\"translate(0 11)\">61</text></g><g class=\"a10485 i34 leaf node n69 p1 sample\" transform=\"translate(158.013 441.4)\"><path class=\"edge\" d=\"M 0 0 V -441.4 H -158.013\" /><rect class=\"sym\" height=\"6\" width=\"6\" x=\"-3\" y=\"-3\" /><text class=\"lab\" transform=\"translate(0 11)\">69</text></g><g class=\"a10485 i39 leaf node n79 p1 sample\" transform=\"translate(169.442 441.4)\"><path class=\"edge\" d=\"M 0 0 V -441.4 H -169.442\" /><rect class=\"sym\" height=\"6\" width=\"6\" x=\"-3\" y=\"-3\" /><text class=\"lab\" transform=\"translate(0 11)\">79</text></g><g class=\"a10485 c3 node n386\" transform=\"translate(78.0134 440.473)\"><g class=\"a386 i6 leaf node n12 p0 sample\" transform=\"translate(-11.4286 0.926975)\"><path class=\"edge\" d=\"M 0 0 V -0.926975 H 11.4286\" /><rect class=\"sym\" height=\"6\" width=\"6\" x=\"-3\" y=\"-3\" /><text class=\"lab\" transform=\"translate(0 11)\">12</text></g><g class=\"a386 i15 leaf node n30 p0 sample\" transform=\"translate(0.0 0.926975)\"><path class=\"edge\" d=\"M 0 0 V -0.926975 H 0.0\" /><rect class=\"sym\" height=\"6\" width=\"6\" x=\"-3\" y=\"-3\" /><text class=\"lab\" transform=\"translate(0 11)\">30</text></g><g class=\"a386 i19 leaf node n38 p0 sample\" transform=\"translate(11.4286 0.926975)\"><path class=\"edge\" d=\"M 0 0 V -0.926975 H -11.4286\" /><rect class=\"sym\" height=\"6\" width=\"6\" x=\"-3\" y=\"-3\" /><text class=\"lab\" transform=\"translate(0 11)\">38</text></g><path class=\"edge\" d=\"M 0 0 V -440.473 H -78.0134\" /><circle class=\"sym\" cx=\"0\" cy=\"0\" r=\"3\" /><text class=\"lab rgt\" transform=\"translate(3 -7.0)\">386</text></g><g class=\"a10485 c2 node n662\" transform=\"translate(49.442 440.678)\"><g class=\"a662 i4 leaf node n9 p0 sample\" transform=\"translate(-5.71429 0.722167)\"><path class=\"edge\" d=\"M 0 0 V -0.722167 H 5.71429\" /><rect class=\"sym\" height=\"6\" width=\"6\" x=\"-3\" y=\"-3\" /><text class=\"lab\" transform=\"translate(0 11)\">9</text></g><g class=\"a662 i12 leaf node n24 p0 sample\" transform=\"translate(5.71429 0.722167)\"><path class=\"edge\" d=\"M 0 0 V -0.722167 H -5.71429\" /><rect class=\"sym\" height=\"6\" width=\"6\" x=\"-3\" y=\"-3\" /><text class=\"lab\" transform=\"translate(0 11)\">24</text></g><path class=\"edge\" d=\"M 0 0 V -440.678 H -49.442\" /><circle class=\"sym\" cx=\"0\" cy=\"0\" r=\"3\" /><text class=\"lab rgt\" transform=\"translate(3 -7.0)\">662</text></g><g class=\"a10485 c2 node n1404\" transform=\"translate(26.5848 435.103)\"><g class=\"a1404 i3 leaf node n7 p0 sample\" transform=\"translate(-5.71429 6.29692)\"><path class=\"edge\" d=\"M 0 0 V -6.29692 H 5.71429\" /><rect class=\"sym\" height=\"6\" width=\"6\" x=\"-3\" y=\"-3\" /><text class=\"lab\" transform=\"translate(0 11)\">7</text></g><g class=\"a1404 i11 leaf node n22 p0 sample\" transform=\"translate(5.71429 6.29692)\"><path class=\"edge\" d=\"M 0 0 V -6.29692 H -5.71429\" /><rect class=\"sym\" height=\"6\" width=\"6\" x=\"-3\" y=\"-3\" /><text class=\"lab\" transform=\"translate(0 11)\">22</text></g><path class=\"edge\" d=\"M 0 0 V -435.103 H -26.5848\" /><circle class=\"sym\" cx=\"0\" cy=\"0\" r=\"3\" /><text class=\"lab rgt\" transform=\"translate(3 -7.0)\">1404</text></g><g class=\"a10485 c2 node n2950\" transform=\"translate(-21.9866 415.044)\"><g class=\"a2950 c2 node n378\" transform=\"translate(14.2857 25.8067)\"><g class=\"a378 i15 leaf node n31 p0 sample\" transform=\"translate(-5.71429 0.548929)\"><path class=\"edge\" d=\"M 0 0 V -0.548929 H 5.71429\" /><rect class=\"sym\" height=\"6\" width=\"6\" x=\"-3\" y=\"-3\" /><text class=\"lab\" transform=\"translate(0 11)\">31</text></g><g class=\"a378 i29 leaf node n59 p1 sample\" transform=\"translate(5.71429 0.548929)\"><path class=\"edge\" d=\"M 0 0 V -0.548929 H -5.71429\" /><rect class=\"sym\" height=\"6\" width=\"6\" x=\"-3\" y=\"-3\" /><text class=\"lab\" transform=\"translate(0 11)\">59</text></g><path class=\"edge\" d=\"M 0 0 V -25.8067 H -14.2857\" /><circle class=\"sym\" cx=\"0\" cy=\"0\" r=\"3\" /><text class=\"lab rgt\" transform=\"translate(3 -7.0)\">378</text></g><g class=\"a2950 c3 node n1498\" transform=\"translate(-14.2857 25.2638)\"><g class=\"a1498 i1 leaf node n3 p0 sample\" transform=\"translate(-11.4286 1.09188)\"><path class=\"edge\" d=\"M 0 0 V -1.09188 H 11.4286\" /><rect class=\"sym\" height=\"6\" width=\"6\" x=\"-3\" y=\"-3\" /><text class=\"lab\" transform=\"translate(0 11)\">3</text></g><g class=\"a1498 i21 leaf node n42 p0 sample\" transform=\"translate(0.0 1.09188)\"><path class=\"edge\" d=\"M 0 0 V -1.09188 H 0.0\" /><rect class=\"sym\" height=\"6\" width=\"6\" x=\"-3\" y=\"-3\" /><text class=\"lab\" transform=\"translate(0 11)\">42</text></g><g class=\"a1498 i31 leaf node n62 p1 sample\" transform=\"translate(11.4286 1.09188)\"><path class=\"edge\" d=\"M 0 0 V -1.09188 H -11.4286\" /><rect class=\"sym\" height=\"6\" width=\"6\" x=\"-3\" y=\"-3\" /><text class=\"lab\" transform=\"translate(0 11)\">62</text></g><path class=\"edge\" d=\"M 0 0 V -25.2638 H 14.2857\" /><circle class=\"sym\" cx=\"0\" cy=\"0\" r=\"3\" /><text class=\"lab lft\" transform=\"translate(-3 -7.0)\">1498</text></g><path class=\"edge\" d=\"M 0 0 V -415.044 H 21.9866\" /><circle class=\"sym\" cx=\"0\" cy=\"0\" r=\"3\" /><text class=\"lab rgt\" transform=\"translate(3 -7.0)\">2950</text></g><g class=\"a10485 c2 node n4525\" transform=\"translate(132.299 431.567)\"><g class=\"a4525 i31 leaf node n63 p1 sample\" transform=\"translate(-8.57143 9.83317)\"><path class=\"edge\" d=\"M 0 0 V -9.83317 H 8.57143\" /><rect class=\"sym\" height=\"6\" width=\"6\" x=\"-3\" y=\"-3\" /><text class=\"lab\" transform=\"translate(0 11)\">63</text></g><g class=\"a4525 c2 node n142\" transform=\"translate(8.57143 8.49376)\"><g class=\"a142 i32 leaf node n64 p1 sample\" transform=\"translate(-5.71429 1.33941)\"><path class=\"edge\" d=\"M 0 0 V -1.33941 H 5.71429\" /><rect class=\"sym\" height=\"6\" width=\"6\" x=\"-3\" y=\"-3\" /><text class=\"lab\" transform=\"translate(0 11)\">64</text></g><g class=\"a142 i41 leaf node n83 p1 sample\" transform=\"translate(5.71429 1.33941)\"><path class=\"edge\" d=\"M 0 0 V -1.33941 H -5.71429\" /><rect class=\"sym\" height=\"6\" width=\"6\" x=\"-3\" y=\"-3\" /><text class=\"lab\" transform=\"translate(0 11)\">83</text></g><path class=\"edge\" d=\"M 0 0 V -8.49376 H -8.57143\" /><circle class=\"sym\" cx=\"0\" cy=\"0\" r=\"3\" /><text class=\"lab rgt\" transform=\"translate(3 -7.0)\">142</text></g><path class=\"edge\" d=\"M 0 0 V -431.567 H -132.299\" /><circle class=\"sym\" cx=\"0\" cy=\"0\" r=\"3\" /><text class=\"lab rgt\" transform=\"translate(3 -7.0)\">4525</text></g><g class=\"a10485 c2 node n10378\" transform=\"translate(-169.442 250.557)\"><g class=\"a10378 i20 leaf node n41 p0 sample\" transform=\"translate(110.313 190.843)\"><path class=\"edge\" d=\"M 0 0 V -190.843 H -110.313\" /><rect class=\"sym\" height=\"6\" width=\"6\" x=\"-3\" y=\"-3\" /><text class=\"lab\" transform=\"translate(0 11)\">41</text></g><g class=\"a10378 c6 node n9846\" transform=\"translate(-110.313 3.35586)\"><g class=\"a9846 i1 leaf node n2 p0 sample\" transform=\"translate(-65.0893 187.488)\"><path class=\"edge\" d=\"M 0 0 V -187.488 H 65.0893\" /><rect class=\"sym\" height=\"6\" width=\"6\" x=\"-3\" y=\"-3\" /><text class=\"lab\" transform=\"translate(0 11)\">2</text></g><g class=\"a9846 i20 leaf node n40 p0 sample\" transform=\"translate(197.768 187.488)\"><path class=\"edge\" d=\"M 0 0 V -187.488 H -197.768\" /><rect class=\"sym\" height=\"6\" width=\"6\" x=\"-3\" y=\"-3\" /><text class=\"lab\" transform=\"translate(0 11)\">40</text></g><g class=\"a9846 i26 leaf node n52 p1 sample\" transform=\"translate(209.196 187.488)\"><path class=\"edge\" d=\"M 0 0 V -187.488 H -209.196\" /><rect class=\"sym\" height=\"6\" width=\"6\" x=\"-3\" y=\"-3\" /><text class=\"lab\" transform=\"translate(0 11)\">52</text></g><g class=\"a9846 c3 node n4050\" transform=\"translate(157.768 167.812)\"><g class=\"a4050 i6 leaf node n13 p0 sample\" transform=\"translate(17.1429 19.6753)\"><path class=\"edge\" d=\"M 0 0 V -19.6753 H -17.1429\" /><rect class=\"sym\" height=\"6\" width=\"6\" x=\"-3\" y=\"-3\" /><text class=\"lab\" transform=\"translate(0 11)\">13</text></g><g class=\"a4050 i38 leaf node n77 p1 sample\" transform=\"translate(28.5714 19.6753)\"><path class=\"edge\" d=\"M 0 0 V -19.6753 H -28.5714\" /><rect class=\"sym\" height=\"6\" width=\"6\" x=\"-3\" y=\"-3\" /><text class=\"lab\" transform=\"translate(0 11)\">77</text></g><g class=\"a4050 c2 node n3644\" transform=\"translate(-28.5714 12.6537)\"><g class=\"a3644 c3 node n1457\" transform=\"translate(17.1429 4.90576)\"><g class=\"a1457 i13 leaf node n26 p0 sample\" transform=\"translate(-17.1429 2.11585)\"><path class=\"edge\" d=\"M 0 0 V -2.11585 H 17.1429\" /><rect class=\"sym\" height=\"6\" width=\"6\" x=\"-3\" y=\"-3\" /><text class=\"lab\" transform=\"translate(0 11)\">26</text></g><g class=\"a1457 i18 leaf node n37 p0 sample\" transform=\"translate(17.1429 2.11585)\"><path class=\"edge\" d=\"M 0 0 V -2.11585 H -17.1429\" /><rect class=\"sym\" height=\"6\" width=\"6\" x=\"-3\" y=\"-3\" /><text class=\"lab\" transform=\"translate(0 11)\">37</text></g><g class=\"a1457 c2 node n404\" transform=\"translate(0.0 1.57275)\"><g class=\"a404 i14 leaf node n28 p0 sample\" transform=\"translate(-5.71429 0.543097)\"><path class=\"edge\" d=\"M 0 0 V -0.543097 H 5.71429\" /><rect class=\"sym\" height=\"6\" width=\"6\" x=\"-3\" y=\"-3\" /><text class=\"lab\" transform=\"translate(0 11)\">28</text></g><g class=\"a404 i17 leaf node n34 p0 sample\" transform=\"translate(5.71429 0.543097)\"><path class=\"edge\" d=\"M 0 0 V -0.543097 H -5.71429\" /><rect class=\"sym\" height=\"6\" width=\"6\" x=\"-3\" y=\"-3\" /><text class=\"lab\" transform=\"translate(0 11)\">34</text></g><path class=\"edge\" d=\"M 0 0 V -1.57275 H 0.0\" /><circle class=\"sym\" cx=\"0\" cy=\"0\" r=\"3\" /><text class=\"lab rgt\" transform=\"translate(3 -7.0)\">404</text></g><path class=\"edge\" d=\"M 0 0 V -4.90576 H -17.1429\" /><circle class=\"sym\" cx=\"0\" cy=\"0\" r=\"3\" /><text class=\"lab rgt\" transform=\"translate(3 -7.0)\">1457</text></g><g class=\"a3644 c2 node n1666\" transform=\"translate(-17.1429 6.10795)\"><g class=\"a1666 i4 leaf node n8 p0 sample\" transform=\"translate(-5.71429 0.91365)\"><path class=\"edge\" d=\"M 0 0 V -0.91365 H 5.71429\" /><rect class=\"sym\" height=\"6\" width=\"6\" x=\"-3\" y=\"-3\" /><text class=\"lab\" transform=\"translate(0 11)\">8</text></g><g class=\"a1666 i10 leaf node n20 p0 sample\" transform=\"translate(5.71429 0.91365)\"><path class=\"edge\" d=\"M 0 0 V -0.91365 H -5.71429\" /><rect class=\"sym\" height=\"6\" width=\"6\" x=\"-3\" y=\"-3\" /><text class=\"lab\" transform=\"translate(0 11)\">20</text></g><path class=\"edge\" d=\"M 0 0 V -6.10795 H 17.1429\" /><circle class=\"sym\" cx=\"0\" cy=\"0\" r=\"3\" /><text class=\"lab lft\" transform=\"translate(-3 -7.0)\">1666</text></g><path class=\"edge\" d=\"M 0 0 V -12.6537 H 28.5714\" /><circle class=\"sym\" cx=\"0\" cy=\"0\" r=\"3\" /><text class=\"lab lft\" transform=\"translate(-3 -7.0)\">3644</text></g><path class=\"edge\" d=\"M 0 0 V -167.812 H -157.768\" /><circle class=\"sym\" cx=\"0\" cy=\"0\" r=\"3\" /><text class=\"lab rgt\" transform=\"translate(3 -7.0)\">4050</text></g><g class=\"a9846 c2 node n6579\" transform=\"translate(54.9107 159.228)\"><g class=\"a6579 i7 leaf node n14 p0 sample\" transform=\"translate(40 28.2599)\"><path class=\"edge\" d=\"M 0 0 V -28.2599 H -40\" /><rect class=\"sym\" height=\"6\" width=\"6\" x=\"-3\" y=\"-3\" /><text class=\"lab\" transform=\"translate(0 11)\">14</text></g><g class=\"a6579 c7 node n6001\" transform=\"translate(-40 14.5805)\"><g class=\"a6001 i3 leaf node n6 p0 sample\" transform=\"translate(-68.5714 13.6794)\"><path class=\"edge\" d=\"M 0 0 V -13.6794 H 68.5714\" /><rect class=\"sym\" height=\"6\" width=\"6\" x=\"-3\" y=\"-3\" /><text class=\"lab\" transform=\"translate(0 11)\">6</text></g><g class=\"a6001 i8 leaf node n17 p0 sample\" transform=\"translate(-11.4286 13.6794)\"><path class=\"edge\" d=\"M 0 0 V -13.6794 H 11.4286\" /><rect class=\"sym\" height=\"6\" width=\"6\" x=\"-3\" y=\"-3\" /><text class=\"lab\" transform=\"translate(0 11)\">17</text></g><g class=\"a6001 i9 leaf node n19 p0 sample\" transform=\"translate(0.0 13.6794)\"><path class=\"edge\" d=\"M 0 0 V -13.6794 H 0.0\" /><rect class=\"sym\" height=\"6\" width=\"6\" x=\"-3\" y=\"-3\" /><text class=\"lab\" transform=\"translate(0 11)\">19</text></g><g class=\"a6001 i10 leaf node n21 p0 sample\" transform=\"translate(11.4286 13.6794)\"><path class=\"edge\" d=\"M 0 0 V -13.6794 H -11.4286\" /><rect class=\"sym\" height=\"6\" width=\"6\" x=\"-3\" y=\"-3\" /><text class=\"lab\" transform=\"translate(0 11)\">21</text></g><g class=\"a6001 i16 leaf node n33 p0 sample\" transform=\"translate(68.5714 13.6794)\"><path class=\"edge\" d=\"M 0 0 V -13.6794 H -68.5714\" /><rect class=\"sym\" height=\"6\" width=\"6\" x=\"-3\" y=\"-3\" /><text class=\"lab\" transform=\"translate(0 11)\">33</text></g><g class=\"a6001 c2 node n2537\" transform=\"translate(-34.2857 6.06917e-10)\"><g class=\"a2537 i17 leaf node n35 p0 sample\" transform=\"translate(11.4286 13.6794)\"><path class=\"edge\" d=\"M 0 0 V -13.6794 H -11.4286\" /><rect class=\"sym\" height=\"6\" width=\"6\" x=\"-3\" y=\"-3\" /><text class=\"lab\" transform=\"translate(0 11)\">35</text></g><g class=\"a2537 c3 node n1202\" transform=\"translate(-11.4286 13.2004)\"><g class=\"a1202 i8 leaf node n16 p0 sample\" transform=\"translate(-11.4286 0.478955)\"><path class=\"edge\" d=\"M 0 0 V -0.478955 H 11.4286\" /><rect class=\"sym\" height=\"6\" width=\"6\" x=\"-3\" y=\"-3\" /><text class=\"lab\" transform=\"translate(0 11)\">16</text></g><g class=\"a1202 i9 leaf node n18 p0 sample\" transform=\"translate(0.0 0.478955)\"><path class=\"edge\" d=\"M 0 0 V -0.478955 H 0.0\" /><rect class=\"sym\" height=\"6\" width=\"6\" x=\"-3\" y=\"-3\" /><text class=\"lab\" transform=\"translate(0 11)\">18</text></g><g class=\"a1202 i13 leaf node n27 p0 sample\" transform=\"translate(11.4286 0.478955)\"><path class=\"edge\" d=\"M 0 0 V -0.478955 H -11.4286\" /><rect class=\"sym\" height=\"6\" width=\"6\" x=\"-3\" y=\"-3\" /><text class=\"lab\" transform=\"translate(0 11)\">27</text></g><path class=\"edge\" d=\"M 0 0 V -13.2004 H 11.4286\" /><circle class=\"sym\" cx=\"0\" cy=\"0\" r=\"3\" /><text class=\"lab lft\" transform=\"translate(-3 -7.0)\">1202</text></g><path class=\"edge\" d=\"M 0 0 V -6.06917e-10 H 34.2857\" /><circle class=\"sym\" cx=\"0\" cy=\"0\" r=\"3\" /><text class=\"lab rgt\" transform=\"translate(3 -7.0)\">2537</text></g><g class=\"a6001 c4 node n3659\" transform=\"translate(40 12.4251)\"><g class=\"a3659 i14 leaf node n29 p0 sample\" transform=\"translate(-17.1429 1.25429)\"><path class=\"edge\" d=\"M 0 0 V -1.25429 H 17.1429\" /><rect class=\"sym\" height=\"6\" width=\"6\" x=\"-3\" y=\"-3\" /><text class=\"lab\" transform=\"translate(0 11)\">29</text></g><g class=\"a3659 i16 leaf node n32 p0 sample\" transform=\"translate(-5.71429 1.25429)\"><path class=\"edge\" d=\"M 0 0 V -1.25429 H 5.71429\" /><rect class=\"sym\" height=\"6\" width=\"6\" x=\"-3\" y=\"-3\" /><text class=\"lab\" transform=\"translate(0 11)\">32</text></g><g class=\"a3659 i19 leaf node n39 p0 sample\" transform=\"translate(5.71429 1.25429)\"><path class=\"edge\" d=\"M 0 0 V -1.25429 H -5.71429\" /><rect class=\"sym\" height=\"6\" width=\"6\" x=\"-3\" y=\"-3\" /><text class=\"lab\" transform=\"translate(0 11)\">39</text></g><g class=\"a3659 i35 leaf node n70 p1 sample\" transform=\"translate(17.1429 1.25429)\"><path class=\"edge\" d=\"M 0 0 V -1.25429 H -17.1429\" /><rect class=\"sym\" height=\"6\" width=\"6\" x=\"-3\" y=\"-3\" /><text class=\"lab\" transform=\"translate(0 11)\">70</text></g><path class=\"edge\" d=\"M 0 0 V -12.4251 H -40\" /><circle class=\"sym\" cx=\"0\" cy=\"0\" r=\"3\" /><text class=\"lab rgt\" transform=\"translate(3 -7.0)\">3659</text></g><path class=\"edge\" d=\"M 0 0 V -14.5805 H 40\" /><circle class=\"sym\" cx=\"0\" cy=\"0\" r=\"3\" /><text class=\"lab lft\" transform=\"translate(-3 -7.0)\">6001</text></g><path class=\"edge\" d=\"M 0 0 V -159.228 H -54.9107\" /><circle class=\"sym\" cx=\"0\" cy=\"0\" r=\"3\" /><text class=\"lab rgt\" transform=\"translate(3 -7.0)\">6579</text></g><g class=\"a9846 c2 node n9209\" transform=\"translate(-209.196 39.6853)\"><g class=\"a9209 c3 node n5785\" transform=\"translate(89.8214 107.886)\"><g class=\"a5785 i12 leaf node n25 p0 sample\" transform=\"translate(20 39.9161)\"><path class=\"edge\" d=\"M 0 0 V -39.9161 H -20\" /><rect class=\"sym\" height=\"6\" width=\"6\" x=\"-3\" y=\"-3\" /><text class=\"lab\" transform=\"translate(0 11)\">25</text></g><g class=\"a5785 c2 m19408 node n201 s19408\" transform=\"translate(37.1429 17.2058)\"><g class=\"a201 i26 leaf m19410 node n53 p1 s19410 sample\" transform=\"translate(-5.71429 22.7103)\"><path class=\"edge\" d=\"M 0 0 V -22.7103 H 5.71429\" /><g class=\"mut m19410 s19410 unknown_time\" transform=\"translate(0 -11.3551)\"><line x1=\"0\" x2=\"0\" y1=\"0\" y2=\"11.3551\" /><path class=\"sym\" d=\"M -3,-3 l 6,6 M -3,3 l 6,-6\" /><text class=\"lab lft\" transform=\"translate(-5 0)\">19410</text></g><rect class=\"sym\" height=\"6\" width=\"6\" x=\"-3\" y=\"-3\" /><text class=\"lab\" transform=\"translate(0 11)\">53</text></g><g class=\"a201 i41 leaf m19406 node n82 p1 s19406 sample\" transform=\"translate(5.71429 22.7103)\"><path class=\"edge\" d=\"M 0 0 V -22.7103 H -5.71429\" /><g class=\"mut m19406 s19406 unknown_time\" transform=\"translate(0 -11.3551)\"><line x1=\"0\" x2=\"0\" y1=\"0\" y2=\"11.3551\" /><path class=\"sym\" d=\"M -3,-3 l 6,6 M -3,3 l 6,-6\" /><text class=\"lab rgt\" transform=\"translate(5 0)\">19406</text></g><rect class=\"sym\" height=\"6\" width=\"6\" x=\"-3\" y=\"-3\" /><text class=\"lab\" transform=\"translate(0 11)\">82</text></g><path class=\"edge\" d=\"M 0 0 V -17.2058 H -37.1429\" /><g class=\"mut m19408 s19408 unknown_time\" transform=\"translate(0 -8.60289)\"><line x1=\"0\" x2=\"0\" y1=\"0\" y2=\"8.60289\" /><path class=\"sym\" d=\"M -3,-3 l 6,6 M -3,3 l 6,-6\" /><text class=\"lab rgt\" transform=\"translate(5 0)\">19408</text></g><circle class=\"sym\" cx=\"0\" cy=\"0\" r=\"3\" /><text class=\"lab rgt\" transform=\"translate(3 -7.0)\">201</text></g><g class=\"a5785 c6 node n5266\" transform=\"translate(-37.1429 21.4453)\"><g class=\"a5266 i0 leaf node n1 p0 sample\" transform=\"translate(-45.7143 18.4708)\"><path class=\"edge\" d=\"M 0 0 V -18.4708 H 45.7143\" /><rect class=\"sym\" height=\"6\" width=\"6\" x=\"-3\" y=\"-3\" /><text class=\"lab\" transform=\"translate(0 11)\">1</text></g><g class=\"a5266 i7 leaf node n15 p0 sample\" transform=\"translate(22.8571 18.4708)\"><path class=\"edge\" d=\"M 0 0 V -18.4708 H -22.8571\" /><rect class=\"sym\" height=\"6\" width=\"6\" x=\"-3\" y=\"-3\" /><text class=\"lab\" transform=\"translate(0 11)\">15</text></g><g class=\"a5266 i21 leaf node n43 p0 sample\" transform=\"translate(34.2857 18.4708)\"><path class=\"edge\" d=\"M 0 0 V -18.4708 H -34.2857\" /><rect class=\"sym\" height=\"6\" width=\"6\" x=\"-3\" y=\"-3\" /><text class=\"lab\" transform=\"translate(0 11)\">43</text></g><g class=\"a5266 i32 leaf m19411 node n65 p1 s19411 sample\" transform=\"translate(45.7143 18.4708)\"><path class=\"edge\" d=\"M 0 0 V -18.4708 H -45.7143\" /><g class=\"mut m19411 s19411 unknown_time\" transform=\"translate(0 -9.23538)\"><line x1=\"0\" x2=\"0\" y1=\"0\" y2=\"9.23538\" /><path class=\"sym\" d=\"M -3,-3 l 6,6 M -3,3 l 6,-6\" /><text class=\"lab rgt\" transform=\"translate(5 0)\">19411</text></g><rect class=\"sym\" height=\"6\" width=\"6\" x=\"-3\" y=\"-3\" /><text class=\"lab\" transform=\"translate(0 11)\">65</text></g><g class=\"a5266 c3 node n113\" transform=\"translate(0.0 17.04)\"><g class=\"a113 i5 leaf node n10 p0 sample\" transform=\"translate(-11.4286 1.43078)\"><path class=\"edge\" d=\"M 0 0 V -1.43078 H 11.4286\" /><rect class=\"sym\" height=\"6\" width=\"6\" x=\"-3\" y=\"-3\" /><text class=\"lab\" transform=\"translate(0 11)\">10</text></g><g class=\"a113 i36 leaf node n72 p1 sample\" transform=\"translate(0.0 1.43078)\"><path class=\"edge\" d=\"M 0 0 V -1.43078 H 0.0\" /><rect class=\"sym\" height=\"6\" width=\"6\" x=\"-3\" y=\"-3\" /><text class=\"lab\" transform=\"translate(0 11)\">72</text></g><g class=\"a113 i38 leaf node n76 p1 sample\" transform=\"translate(11.4286 1.43078)\"><path class=\"edge\" d=\"M 0 0 V -1.43078 H -11.4286\" /><rect class=\"sym\" height=\"6\" width=\"6\" x=\"-3\" y=\"-3\" /><text class=\"lab\" transform=\"translate(0 11)\">76</text></g><path class=\"edge\" d=\"M 0 0 V -17.04 H 0.0\" /><circle class=\"sym\" cx=\"0\" cy=\"0\" r=\"3\" /><text class=\"lab rgt\" transform=\"translate(3 -7.0)\">113</text></g><g class=\"a5266 c2 node n4295\" transform=\"translate(-28.5714 17.9285)\"><g class=\"a4295 i2 leaf node n4 p0 sample\" transform=\"translate(-5.71429 0.542258)\"><path class=\"edge\" d=\"M 0 0 V -0.542258 H 5.71429\" /><rect class=\"sym\" height=\"6\" width=\"6\" x=\"-3\" y=\"-3\" /><text class=\"lab\" transform=\"translate(0 11)\">4</text></g><g class=\"a4295 i5 leaf node n11 p0 sample\" transform=\"translate(5.71429 0.542258)\"><path class=\"edge\" d=\"M 0 0 V -0.542258 H -5.71429\" /><rect class=\"sym\" height=\"6\" width=\"6\" x=\"-3\" y=\"-3\" /><text class=\"lab\" transform=\"translate(0 11)\">11</text></g><path class=\"edge\" d=\"M 0 0 V -17.9285 H 28.5714\" /><circle class=\"sym\" cx=\"0\" cy=\"0\" r=\"3\" /><text class=\"lab rgt\" transform=\"translate(3 -7.0)\">4295</text></g><path class=\"edge\" d=\"M 0 0 V -21.4453 H 37.1429\" /><circle class=\"sym\" cx=\"0\" cy=\"0\" r=\"3\" /><text class=\"lab lft\" transform=\"translate(-3 -7.0)\">5266</text></g><path class=\"edge\" d=\"M 0 0 V -107.886 H -89.8214\" /><circle class=\"sym\" cx=\"0\" cy=\"0\" r=\"3\" /><text class=\"lab rgt\" transform=\"translate(3 -7.0)\">5785</text></g><g class=\"a9209 c2 node n7602\" transform=\"translate(-89.8214 3.03487e-10)\"><g class=\"a7602 c6 node n4349\" transform=\"translate(49.6429 145.419)\"><g class=\"a4349 i23 leaf node n46 p1 sample\" transform=\"translate(-10 2.38317)\"><path class=\"edge\" d=\"M 0 0 V -2.38317 H 10\" /><rect class=\"sym\" height=\"6\" width=\"6\" x=\"-3\" y=\"-3\" /><text class=\"lab\" transform=\"translate(0 11)\">46</text></g><g class=\"a4349 i27 leaf node n54 p1 sample\" transform=\"translate(1.42857 2.38317)\"><path class=\"edge\" d=\"M 0 0 V -2.38317 H -1.42857\" /><rect class=\"sym\" height=\"6\" width=\"6\" x=\"-3\" y=\"-3\" /><text class=\"lab\" transform=\"translate(0 11)\">54</text></g><g class=\"a4349 i30 leaf node n60 p1 sample\" transform=\"translate(12.8571 2.38317)\"><path class=\"edge\" d=\"M 0 0 V -2.38317 H -12.8571\" /><rect class=\"sym\" height=\"6\" width=\"6\" x=\"-3\" y=\"-3\" /><text class=\"lab\" transform=\"translate(0 11)\">60</text></g><g class=\"a4349 i35 leaf node n71 p1 sample\" transform=\"translate(24.2857 2.38317)\"><path class=\"edge\" d=\"M 0 0 V -2.38317 H -24.2857\" /><rect class=\"sym\" height=\"6\" width=\"6\" x=\"-3\" y=\"-3\" /><text class=\"lab\" transform=\"translate(0 11)\">71</text></g><g class=\"a4349 i40 leaf node n81 p1 sample\" transform=\"translate(35.7143 2.38317)\"><path class=\"edge\" d=\"M 0 0 V -2.38317 H -35.7143\" /><rect class=\"sym\" height=\"6\" width=\"6\" x=\"-3\" y=\"-3\" /><text class=\"lab\" transform=\"translate(0 11)\">81</text></g><g class=\"a4349 c3 node n3511\" transform=\"translate(-35.7143 1.60491)\"><g class=\"a3511 i34 leaf node n68 p1 sample\" transform=\"translate(2.85714 0.778257)\"><path class=\"edge\" d=\"M 0 0 V -0.778257 H -2.85714\" /><rect class=\"sym\" height=\"6\" width=\"6\" x=\"-3\" y=\"-3\" /><text class=\"lab\" transform=\"translate(0 11)\">68</text></g><g class=\"a3511 i36 leaf node n73 p1 sample\" transform=\"translate(14.2857 0.778257)\"><path class=\"edge\" d=\"M 0 0 V -0.778257 H -14.2857\" /><rect class=\"sym\" height=\"6\" width=\"6\" x=\"-3\" y=\"-3\" /><text class=\"lab\" transform=\"translate(0 11)\">73</text></g><g class=\"a3511 c2 node n3446\" transform=\"translate(-14.2857 0.401075)\"><g class=\"a3446 i22 leaf node n44 p1 sample\" transform=\"translate(-5.71429 0.377182)\"><path class=\"edge\" d=\"M 0 0 V -0.377182 H 5.71429\" /><rect class=\"sym\" height=\"6\" width=\"6\" x=\"-3\" y=\"-3\" /><text class=\"lab\" transform=\"translate(0 11)\">44</text></g><g class=\"a3446 i33 leaf node n67 p1 sample\" transform=\"translate(5.71429 0.377182)\"><path class=\"edge\" d=\"M 0 0 V -0.377182 H -5.71429\" /><rect class=\"sym\" height=\"6\" width=\"6\" x=\"-3\" y=\"-3\" /><text class=\"lab\" transform=\"translate(0 11)\">67</text></g><path class=\"edge\" d=\"M 0 0 V -0.401075 H 14.2857\" /><circle class=\"sym\" cx=\"0\" cy=\"0\" r=\"3\" /><text class=\"lab lft\" transform=\"translate(-3 -7.0)\">3446</text></g><path class=\"edge\" d=\"M 0 0 V -1.60491 H 35.7143\" /><circle class=\"sym\" cx=\"0\" cy=\"0\" r=\"3\" /><text class=\"lab lft\" transform=\"translate(-3 -7.0)\">3511</text></g><path class=\"edge\" d=\"M 0 0 V -145.419 H -49.6429\" /><circle class=\"sym\" cx=\"0\" cy=\"0\" r=\"3\" /><text class=\"lab rgt\" transform=\"translate(3 -7.0)\">4349</text></g><g class=\"a7602 c2 node n6098\" transform=\"translate(-49.6429 42.7997)\"><g class=\"a6098 c2 m19405 m19407 node n275 s19405 s19407\" transform=\"translate(26.4286 104.206)\"><g class=\"a275 i23 leaf node n47 p1 sample\" transform=\"translate(-5.71429 0.796648)\"><path class=\"edge\" d=\"M 0 0 V -0.796648 H 5.71429\" /><rect class=\"sym\" height=\"6\" width=\"6\" x=\"-3\" y=\"-3\" /><text class=\"lab\" transform=\"translate(0 11)\">47</text></g><g class=\"a275 i29 leaf node n58 p1 sample\" transform=\"translate(5.71429 0.796648)\"><path class=\"edge\" d=\"M 0 0 V -0.796648 H -5.71429\" /><rect class=\"sym\" height=\"6\" width=\"6\" x=\"-3\" y=\"-3\" /><text class=\"lab\" transform=\"translate(0 11)\">58</text></g><path class=\"edge\" d=\"M 0 0 V -104.206 H -26.4286\" /><g class=\"mut m19405 s19405 unknown_time\" transform=\"translate(0 -69.4706)\"><line x1=\"0\" x2=\"0\" y1=\"0\" y2=\"69.4706\" /><path class=\"sym\" d=\"M -3,-3 l 6,6 M -3,3 l 6,-6\" /><text class=\"lab rgt\" transform=\"translate(5 0)\">19405</text></g><g class=\"mut m19407 s19407 unknown_time\" transform=\"translate(0 -34.7353)\"><line x1=\"0\" x2=\"0\" y1=\"0\" y2=\"34.7353\" /><path class=\"sym\" d=\"M -3,-3 l 6,6 M -3,3 l 6,-6\" /><text class=\"lab rgt\" transform=\"translate(5 0)\">19407</text></g><circle class=\"sym\" cx=\"0\" cy=\"0\" r=\"3\" /><text class=\"lab rgt\" transform=\"translate(3 -7.0)\">275</text></g><g class=\"a6098 c2 node n5858\" transform=\"translate(-26.4286 67.4977)\"><g class=\"a5858 c2 m19412 node n926 s19412\" transform=\"translate(27.1429 26.5008)\"><g class=\"a926 i39 leaf node n78 p1 sample\" transform=\"translate(8.57143 11.0041)\"><path class=\"edge\" d=\"M 0 0 V -11.0041 H -8.57143\" /><rect class=\"sym\" height=\"6\" width=\"6\" x=\"-3\" y=\"-3\" /><text class=\"lab\" transform=\"translate(0 11)\">78</text></g><g class=\"a926 c2 node n175\" transform=\"translate(-8.57143 9.79736)\"><g class=\"a175 i28 leaf node n57 p1 sample\" transform=\"translate(-5.71429 1.20669)\"><path class=\"edge\" d=\"M 0 0 V -1.20669 H 5.71429\" /><rect class=\"sym\" height=\"6\" width=\"6\" x=\"-3\" y=\"-3\" /><text class=\"lab\" transform=\"translate(0 11)\">57</text></g><g class=\"a175 i37 leaf node n74 p1 sample\" transform=\"translate(5.71429 1.20669)\"><path class=\"edge\" d=\"M 0 0 V -1.20669 H -5.71429\" /><rect class=\"sym\" height=\"6\" width=\"6\" x=\"-3\" y=\"-3\" /><text class=\"lab\" transform=\"translate(0 11)\">74</text></g><path class=\"edge\" d=\"M 0 0 V -9.79736 H 8.57143\" /><circle class=\"sym\" cx=\"0\" cy=\"0\" r=\"3\" /><text class=\"lab lft\" transform=\"translate(-3 -7.0)\">175</text></g><path class=\"edge\" d=\"M 0 0 V -26.5008 H -27.1429\" /><g class=\"mut m19412 s19412 unknown_time\" transform=\"translate(0 -13.2504)\"><line x1=\"0\" x2=\"0\" y1=\"0\" y2=\"13.2504\" /><path class=\"sym\" d=\"M -3,-3 l 6,6 M -3,3 l 6,-6\" /><text class=\"lab rgt\" transform=\"translate(5 0)\">19412</text></g><circle class=\"sym\" cx=\"0\" cy=\"0\" r=\"3\" /><text class=\"lab rgt\" transform=\"translate(3 -7.0)\">926</text></g><g class=\"a5858 c3 node n5289\" transform=\"translate(-27.1429 10.1086)\"><g class=\"a5289 i24 leaf node n48 p1 sample\" transform=\"translate(17.1429 27.3963)\"><path class=\"edge\" d=\"M 0 0 V -27.3963 H -17.1429\" /><rect class=\"sym\" height=\"6\" width=\"6\" x=\"-3\" y=\"-3\" /><text class=\"lab\" transform=\"translate(0 11)\">48</text></g><g class=\"a5289 i25 leaf node n50 p1 sample\" transform=\"translate(28.5714 27.3963)\"><path class=\"edge\" d=\"M 0 0 V -27.3963 H -28.5714\" /><rect class=\"sym\" height=\"6\" width=\"6\" x=\"-3\" y=\"-3\" /><text class=\"lab\" transform=\"translate(0 11)\">50</text></g><g class=\"a5289 c3 node n4586\" transform=\"translate(-28.5714 8.51991)\"><g class=\"a4586 i28 leaf node n56 p1 sample\" transform=\"translate(11.4286 18.8764)\"><path class=\"edge\" d=\"M 0 0 V -18.8764 H -11.4286\" /><rect class=\"sym\" height=\"6\" width=\"6\" x=\"-3\" y=\"-3\" /><text class=\"lab\" transform=\"translate(0 11)\">56</text></g><g class=\"a4586 c2 node n2426\" transform=\"translate(28.5714 15.9267)\"><g class=\"a2426 i33 leaf node n66 p1 sample\" transform=\"translate(-5.71429 2.94968)\"><path class=\"edge\" d=\"M 0 0 V -2.94968 H 5.71429\" /><rect class=\"sym\" height=\"6\" width=\"6\" x=\"-3\" y=\"-3\" /><text class=\"lab\" transform=\"translate(0 11)\">66</text></g><g class=\"a2426 i40 leaf node n80 p1 sample\" transform=\"translate(5.71429 2.94968)\"><path class=\"edge\" d=\"M 0 0 V -2.94968 H -5.71429\" /><rect class=\"sym\" height=\"6\" width=\"6\" x=\"-3\" y=\"-3\" /><text class=\"lab\" transform=\"translate(0 11)\">80</text></g><path class=\"edge\" d=\"M 0 0 V -15.9267 H -28.5714\" /><circle class=\"sym\" cx=\"0\" cy=\"0\" r=\"3\" /><text class=\"lab rgt\" transform=\"translate(3 -7.0)\">2426</text></g><g class=\"a4586 c4 node n3348\" transform=\"translate(-28.5714 16.4506)\"><g class=\"a3348 i0 leaf node n0 p0 sample\" transform=\"translate(-28.5714 2.42577)\"><path class=\"edge\" d=\"M 0 0 V -2.42577 H 28.5714\" /><rect class=\"sym\" height=\"6\" width=\"6\" x=\"-3\" y=\"-3\" /><text class=\"lab\" transform=\"translate(0 11)\">0</text></g><g class=\"a3348 i11 leaf node n23 p0 sample\" transform=\"translate(-17.1429 2.42577)\"><path class=\"edge\" d=\"M 0 0 V -2.42577 H 17.1429\" /><rect class=\"sym\" height=\"6\" width=\"6\" x=\"-3\" y=\"-3\" /><text class=\"lab\" transform=\"translate(0 11)\">23</text></g><g class=\"a3348 i24 leaf node n49 p1 sample\" transform=\"translate(28.5714 2.42577)\"><path class=\"edge\" d=\"M 0 0 V -2.42577 H -28.5714\" /><rect class=\"sym\" height=\"6\" width=\"6\" x=\"-3\" y=\"-3\" /><text class=\"lab\" transform=\"translate(0 11)\">49</text></g><g class=\"a3348 c2 node n1881\" transform=\"translate(8.57143 0.960807)\"><g class=\"a1881 i27 leaf node n55 p1 sample\" transform=\"translate(8.57143 1.46497)\"><path class=\"edge\" d=\"M 0 0 V -1.46497 H -8.57143\" /><rect class=\"sym\" height=\"6\" width=\"6\" x=\"-3\" y=\"-3\" /><text class=\"lab\" transform=\"translate(0 11)\">55</text></g><g class=\"a1881 c2 node n288\" transform=\"translate(-8.57143 0.919868)\"><g class=\"a288 i22 leaf node n45 p1 sample\" transform=\"translate(-5.71429 0.545099)\"><path class=\"edge\" d=\"M 0 0 V -0.545099 H 5.71429\" /><rect class=\"sym\" height=\"6\" width=\"6\" x=\"-3\" y=\"-3\" /><text class=\"lab\" transform=\"translate(0 11)\">45</text></g><g class=\"a288 i25 leaf node n51 p1 sample\" transform=\"translate(5.71429 0.545099)\"><path class=\"edge\" d=\"M 0 0 V -0.545099 H -5.71429\" /><rect class=\"sym\" height=\"6\" width=\"6\" x=\"-3\" y=\"-3\" /><text class=\"lab\" transform=\"translate(0 11)\">51</text></g><path class=\"edge\" d=\"M 0 0 V -0.919868 H 8.57143\" /><circle class=\"sym\" cx=\"0\" cy=\"0\" r=\"3\" /><text class=\"lab lft\" transform=\"translate(-3 -7.0)\">288</text></g><path class=\"edge\" d=\"M 0 0 V -0.960807 H -8.57143\" /><circle class=\"sym\" cx=\"0\" cy=\"0\" r=\"3\" /><text class=\"lab rgt\" transform=\"translate(3 -7.0)\">1881</text></g><path class=\"edge\" d=\"M 0 0 V -16.4506 H 28.5714\" /><circle class=\"sym\" cx=\"0\" cy=\"0\" r=\"3\" /><text class=\"lab lft\" transform=\"translate(-3 -7.0)\">3348</text></g><path class=\"edge\" d=\"M 0 0 V -8.51991 H 28.5714\" /><circle class=\"sym\" cx=\"0\" cy=\"0\" r=\"3\" /><text class=\"lab lft\" transform=\"translate(-3 -7.0)\">4586</text></g><path class=\"edge\" d=\"M 0 0 V -10.1086 H 27.1429\" /><circle class=\"sym\" cx=\"0\" cy=\"0\" r=\"3\" /><text class=\"lab lft\" transform=\"translate(-3 -7.0)\">5289</text></g><path class=\"edge\" d=\"M 0 0 V -67.4977 H 26.4286\" /><circle class=\"sym\" cx=\"0\" cy=\"0\" r=\"3\" /><text class=\"lab lft\" transform=\"translate(-3 -7.0)\">5858</text></g><path class=\"edge\" d=\"M 0 0 V -42.7997 H 49.6429\" /><circle class=\"sym\" cx=\"0\" cy=\"0\" r=\"3\" /><text class=\"lab lft\" transform=\"translate(-3 -7.0)\">6098</text></g><path class=\"edge\" d=\"M 0 0 V -3.03487e-10 H 89.8214\" /><circle class=\"sym\" cx=\"0\" cy=\"0\" r=\"3\" /><text class=\"lab lft\" transform=\"translate(-3 -7.0)\">7602</text></g><path class=\"edge\" d=\"M 0 0 V -39.6853 H 209.196\" /><circle class=\"sym\" cx=\"0\" cy=\"0\" r=\"3\" /><text class=\"lab lft\" transform=\"translate(-3 -7.0)\">9209</text></g><path class=\"edge\" d=\"M 0 0 V -3.35586 H 110.313\" /><circle class=\"sym\" cx=\"0\" cy=\"0\" r=\"3\" /><text class=\"lab lft\" transform=\"translate(-3 -7.0)\">9846</text></g><path class=\"edge\" d=\"M 0 0 V -250.557 H 169.442\" /><circle class=\"sym\" cx=\"0\" cy=\"0\" r=\"3\" /><text class=\"lab lft\" transform=\"translate(-3 -7.0)\">10378</text></g><path class=\"edge\" d=\"M 0 0 V -3.03487e-10 H 90.4353\" /><g class=\"mut m19409 s19409 unknown_time\" transform=\"translate(0 -1.51715e-10)\"><line x1=\"0\" x2=\"0\" y1=\"0\" y2=\"1.51715e-10\" /><path class=\"sym\" d=\"M -3,-3 l 6,6 M -3,3 l 6,-6\" /><text class=\"lab lft\" transform=\"translate(-5 0)\">19409</text></g><circle class=\"sym\" cx=\"0\" cy=\"0\" r=\"3\" /><text class=\"lab lft\" transform=\"translate(-3 -7.0)\">10485</text></g><circle class=\"sym\" cx=\"0\" cy=\"0\" r=\"3\" /><text class=\"lab\" transform=\"translate(0 -11)\">14541</text></g></g></g></svg>"
      ],
      "text/plain": [
       "'<svg baseProfile=\"full\" height=\"500\" version=\"1.1\" width=\"1000\" xmlns=\"http://www.w3.org/2000/svg\" xmlns:ev=\"http://www.w3.org/2001/xml-events\" xmlns:xlink=\"http://www.w3.org/1999/xlink\"><defs><style type=\"text/css\"><![CDATA[.background path {fill: #808080; fill-opacity: 0}.background path:nth-child(odd) {fill-opacity: .1}.axes {font-size: 14px}.x-axis .tick .lab {font-weight: bold; dominant-baseline: hanging}.axes, .tree {font-size: 14px; text-anchor: middle}.axes line, .edge {stroke: black; fill: none}.axes .ax-skip {stroke-dasharray: 4}.y-axis .grid {stroke: #FAFAFA}.node > .sym {fill: black; stroke: none}.site > .sym {stroke: black}.mut text {fill: red; font-style: italic}.mut.extra text {fill: hotpink}.mut line {fill: none; stroke: none}.mut .sym {fill: none; stroke: red}.mut.extra .sym {stroke: hotpink}.node .mut .sym {stroke-width: 1.5px}.tree text, .tree-sequence text {dominant-baseline: central}.plotbox .lab.lft {text-anchor: end}.plotbox .lab.rgt {text-anchor: start}]]></style></defs><g class=\"tree t10426\"><g class=\"plotbox\"><g class=\"c2 node n14541 root\" transform=\"translate(883.85 26.8)\"><g class=\"a14541 i37 leaf node n75 p1 sample\" transform=\"translate(90.4353 441.4)\"><path class=\"edge\" d=\"M 0 0 V -441.4 H -90.4353\" /><rect class=\"sym\" height=\"6\" width=\"6\" x=\"-3\" y=\"-3\" /><text class=\"lab\" transform=\"translate(0 11)\">75</text></g><g class=\"a14541 c11 m19409 node n10485 s19409\" transform=\"translate(-90.4353 3.03487e-10)\"><g class=\"a10485 i2 leaf node n5 p0 sample\" transform=\"translate(9.44196 441.4)\"><path class=\"edge\" d=\"M 0 0 V -441.4 H -9.44196\" /><rect class=\"sym\" height=\"6\" width=\"6\" x=\"-3\" y=\"-3\" /><text class=\"lab\" transform=\"translate(0 11)\">5</text></g><g class=\"a10485 i18 leaf node n36 p0 sample\" transform=\"translate(100.871 441.4)\"><path class=\"edge\" d=\"M 0 0 V -441.4 H -100.871\" /><rect class=\"sym\" height=\"6\" width=\"6\" x=\"-3\" y=\"-3\" /><text class=\"lab\" transform=\"translate(0 11)\">36</text></g><g class=\"a10485 i30 leaf node n61 p1 sample\" transform=\"translate(112.299 441.4)\"><path class=\"edge\" d=\"M 0 0 V -441.4 H -112.299\" /><rect class=\"sym\" height=\"6\" width=\"6\" x=\"-3\" y=\"-3\" /><text class=\"lab\" transform=\"translate(0 11)\">61</text></g><g class=\"a10485 i34 leaf node n69 p1 sample\" transform=\"translate(158.013 441.4)\"><path class=\"edge\" d=\"M 0 0 V -441.4 H -158.013\" /><rect class=\"sym\" height=\"6\" width=\"6\" x=\"-3\" y=\"-3\" /><text class=\"lab\" transform=\"translate(0 11)\">69</text></g><g class=\"a10485 i39 leaf node n79 p1 sample\" transform=\"translate(169.442 441.4)\"><path class=\"edge\" d=\"M 0 0 V -441.4 H -169.442\" /><rect class=\"sym\" height=\"6\" width=\"6\" x=\"-3\" y=\"-3\" /><text class=\"lab\" transform=\"translate(0 11)\">79</text></g><g class=\"a10485 c3 node n386\" transform=\"translate(78.0134 440.473)\"><g class=\"a386 i6 leaf node n12 p0 sample\" transform=\"translate(-11.4286 0.926975)\"><path class=\"edge\" d=\"M 0 0 V -0.926975 H 11.4286\" /><rect class=\"sym\" height=\"6\" width=\"6\" x=\"-3\" y=\"-3\" /><text class=\"lab\" transform=\"translate(0 11)\">12</text></g><g class=\"a386 i15 leaf node n30 p0 sample\" transform=\"translate(0.0 0.926975)\"><path class=\"edge\" d=\"M 0 0 V -0.926975 H 0.0\" /><rect class=\"sym\" height=\"6\" width=\"6\" x=\"-3\" y=\"-3\" /><text class=\"lab\" transform=\"translate(0 11)\">30</text></g><g class=\"a386 i19 leaf node n38 p0 sample\" transform=\"translate(11.4286 0.926975)\"><path class=\"edge\" d=\"M 0 0 V -0.926975 H -11.4286\" /><rect class=\"sym\" height=\"6\" width=\"6\" x=\"-3\" y=\"-3\" /><text class=\"lab\" transform=\"translate(0 11)\">38</text></g><path class=\"edge\" d=\"M 0 0 V -440.473 H -78.0134\" /><circle class=\"sym\" cx=\"0\" cy=\"0\" r=\"3\" /><text class=\"lab rgt\" transform=\"translate(3 -7.0)\">386</text></g><g class=\"a10485 c2 node n662\" transform=\"translate(49.442 440.678)\"><g class=\"a662 i4 leaf node n9 p0 sample\" transform=\"translate(-5.71429 0.722167)\"><path class=\"edge\" d=\"M 0 0 V -0.722167 H 5.71429\" /><rect class=\"sym\" height=\"6\" width=\"6\" x=\"-3\" y=\"-3\" /><text class=\"lab\" transform=\"translate(0 11)\">9</text></g><g class=\"a662 i12 leaf node n24 p0 sample\" transform=\"translate(5.71429 0.722167)\"><path class=\"edge\" d=\"M 0 0 V -0.722167 H -5.71429\" /><rect class=\"sym\" height=\"6\" width=\"6\" x=\"-3\" y=\"-3\" /><text class=\"lab\" transform=\"translate(0 11)\">24</text></g><path class=\"edge\" d=\"M 0 0 V -440.678 H -49.442\" /><circle class=\"sym\" cx=\"0\" cy=\"0\" r=\"3\" /><text class=\"lab rgt\" transform=\"translate(3 -7.0)\">662</text></g><g class=\"a10485 c2 node n1404\" transform=\"translate(26.5848 435.103)\"><g class=\"a1404 i3 leaf node n7 p0 sample\" transform=\"translate(-5.71429 6.29692)\"><path class=\"edge\" d=\"M 0 0 V -6.29692 H 5.71429\" /><rect class=\"sym\" height=\"6\" width=\"6\" x=\"-3\" y=\"-3\" /><text class=\"lab\" transform=\"translate(0 11)\">7</text></g><g class=\"a1404 i11 leaf node n22 p0 sample\" transform=\"translate(5.71429 6.29692)\"><path class=\"edge\" d=\"M 0 0 V -6.29692 H -5.71429\" /><rect class=\"sym\" height=\"6\" width=\"6\" x=\"-3\" y=\"-3\" /><text class=\"lab\" transform=\"translate(0 11)\">22</text></g><path class=\"edge\" d=\"M 0 0 V -435.103 H -26.5848\" /><circle class=\"sym\" cx=\"0\" cy=\"0\" r=\"3\" /><text class=\"lab rgt\" transform=\"translate(3 -7.0)\">1404</text></g><g class=\"a10485 c2 node n2950\" transform=\"translate(-21.9866 415.044)\"><g class=\"a2950 c2 node n378\" transform=\"translate(14.2857 25.8067)\"><g class=\"a378 i15 leaf node n31 p0 sample\" transform=\"translate(-5.71429 0.548929)\"><path class=\"edge\" d=\"M 0 0 V -0.548929 H 5.71429\" /><rect class=\"sym\" height=\"6\" width=\"6\" x=\"-3\" y=\"-3\" /><text class=\"lab\" transform=\"translate(0 11)\">31</text></g><g class=\"a378 i29 leaf node n59 p1 sample\" transform=\"translate(5.71429 0.548929)\"><path class=\"edge\" d=\"M 0 0 V -0.548929 H -5.71429\" /><rect class=\"sym\" height=\"6\" width=\"6\" x=\"-3\" y=\"-3\" /><text class=\"lab\" transform=\"translate(0 11)\">59</text></g><path class=\"edge\" d=\"M 0 0 V -25.8067 H -14.2857\" /><circle class=\"sym\" cx=\"0\" cy=\"0\" r=\"3\" /><text class=\"lab rgt\" transform=\"translate(3 -7.0)\">378</text></g><g class=\"a2950 c3 node n1498\" transform=\"translate(-14.2857 25.2638)\"><g class=\"a1498 i1 leaf node n3 p0 sample\" transform=\"translate(-11.4286 1.09188)\"><path class=\"edge\" d=\"M 0 0 V -1.09188 H 11.4286\" /><rect class=\"sym\" height=\"6\" width=\"6\" x=\"-3\" y=\"-3\" /><text class=\"lab\" transform=\"translate(0 11)\">3</text></g><g class=\"a1498 i21 leaf node n42 p0 sample\" transform=\"translate(0.0 1.09188)\"><path class=\"edge\" d=\"M 0 0 V -1.09188 H 0.0\" /><rect class=\"sym\" height=\"6\" width=\"6\" x=\"-3\" y=\"-3\" /><text class=\"lab\" transform=\"translate(0 11)\">42</text></g><g class=\"a1498 i31 leaf node n62 p1 sample\" transform=\"translate(11.4286 1.09188)\"><path class=\"edge\" d=\"M 0 0 V -1.09188 H -11.4286\" /><rect class=\"sym\" height=\"6\" width=\"6\" x=\"-3\" y=\"-3\" /><text class=\"lab\" transform=\"translate(0 11)\">62</text></g><path class=\"edge\" d=\"M 0 0 V -25.2638 H 14.2857\" /><circle class=\"sym\" cx=\"0\" cy=\"0\" r=\"3\" /><text class=\"lab lft\" transform=\"translate(-3 -7.0)\">1498</text></g><path class=\"edge\" d=\"M 0 0 V -415.044 H 21.9866\" /><circle class=\"sym\" cx=\"0\" cy=\"0\" r=\"3\" /><text class=\"lab rgt\" transform=\"translate(3 -7.0)\">2950</text></g><g class=\"a10485 c2 node n4525\" transform=\"translate(132.299 431.567)\"><g class=\"a4525 i31 leaf node n63 p1 sample\" transform=\"translate(-8.57143 9.83317)\"><path class=\"edge\" d=\"M 0 0 V -9.83317 H 8.57143\" /><rect class=\"sym\" height=\"6\" width=\"6\" x=\"-3\" y=\"-3\" /><text class=\"lab\" transform=\"translate(0 11)\">63</text></g><g class=\"a4525 c2 node n142\" transform=\"translate(8.57143 8.49376)\"><g class=\"a142 i32 leaf node n64 p1 sample\" transform=\"translate(-5.71429 1.33941)\"><path class=\"edge\" d=\"M 0 0 V -1.33941 H 5.71429\" /><rect class=\"sym\" height=\"6\" width=\"6\" x=\"-3\" y=\"-3\" /><text class=\"lab\" transform=\"translate(0 11)\">64</text></g><g class=\"a142 i41 leaf node n83 p1 sample\" transform=\"translate(5.71429 1.33941)\"><path class=\"edge\" d=\"M 0 0 V -1.33941 H -5.71429\" /><rect class=\"sym\" height=\"6\" width=\"6\" x=\"-3\" y=\"-3\" /><text class=\"lab\" transform=\"translate(0 11)\">83</text></g><path class=\"edge\" d=\"M 0 0 V -8.49376 H -8.57143\" /><circle class=\"sym\" cx=\"0\" cy=\"0\" r=\"3\" /><text class=\"lab rgt\" transform=\"translate(3 -7.0)\">142</text></g><path class=\"edge\" d=\"M 0 0 V -431.567 H -132.299\" /><circle class=\"sym\" cx=\"0\" cy=\"0\" r=\"3\" /><text class=\"lab rgt\" transform=\"translate(3 -7.0)\">4525</text></g><g class=\"a10485 c2 node n10378\" transform=\"translate(-169.442 250.557)\"><g class=\"a10378 i20 leaf node n41 p0 sample\" transform=\"translate(110.313 190.843)\"><path class=\"edge\" d=\"M 0 0 V -190.843 H -110.313\" /><rect class=\"sym\" height=\"6\" width=\"6\" x=\"-3\" y=\"-3\" /><text class=\"lab\" transform=\"translate(0 11)\">41</text></g><g class=\"a10378 c6 node n9846\" transform=\"translate(-110.313 3.35586)\"><g class=\"a9846 i1 leaf node n2 p0 sample\" transform=\"translate(-65.0893 187.488)\"><path class=\"edge\" d=\"M 0 0 V -187.488 H 65.0893\" /><rect class=\"sym\" height=\"6\" width=\"6\" x=\"-3\" y=\"-3\" /><text class=\"lab\" transform=\"translate(0 11)\">2</text></g><g class=\"a9846 i20 leaf node n40 p0 sample\" transform=\"translate(197.768 187.488)\"><path class=\"edge\" d=\"M 0 0 V -187.488 H -197.768\" /><rect class=\"sym\" height=\"6\" width=\"6\" x=\"-3\" y=\"-3\" /><text class=\"lab\" transform=\"translate(0 11)\">40</text></g><g class=\"a9846 i26 leaf node n52 p1 sample\" transform=\"translate(209.196 187.488)\"><path class=\"edge\" d=\"M 0 0 V -187.488 H -209.196\" /><rect class=\"sym\" height=\"6\" width=\"6\" x=\"-3\" y=\"-3\" /><text class=\"lab\" transform=\"translate(0 11)\">52</text></g><g class=\"a9846 c3 node n4050\" transform=\"translate(157.768 167.812)\"><g class=\"a4050 i6 leaf node n13 p0 sample\" transform=\"translate(17.1429 19.6753)\"><path class=\"edge\" d=\"M 0 0 V -19.6753 H -17.1429\" /><rect class=\"sym\" height=\"6\" width=\"6\" x=\"-3\" y=\"-3\" /><text class=\"lab\" transform=\"translate(0 11)\">13</text></g><g class=\"a4050 i38 leaf node n77 p1 sample\" transform=\"translate(28.5714 19.6753)\"><path class=\"edge\" d=\"M 0 0 V -19.6753 H -28.5714\" /><rect class=\"sym\" height=\"6\" width=\"6\" x=\"-3\" y=\"-3\" /><text class=\"lab\" transform=\"translate(0 11)\">77</text></g><g class=\"a4050 c2 node n3644\" transform=\"translate(-28.5714 12.6537)\"><g class=\"a3644 c3 node n1457\" transform=\"translate(17.1429 4.90576)\"><g class=\"a1457 i13 leaf node n26 p0 sample\" transform=\"translate(-17.1429 2.11585)\"><path class=\"edge\" d=\"M 0 0 V -2.11585 H 17.1429\" /><rect class=\"sym\" height=\"6\" width=\"6\" x=\"-3\" y=\"-3\" /><text class=\"lab\" transform=\"translate(0 11)\">26</text></g><g class=\"a1457 i18 leaf node n37 p0 sample\" transform=\"translate(17.1429 2.11585)\"><path class=\"edge\" d=\"M 0 0 V -2.11585 H -17.1429\" /><rect class=\"sym\" height=\"6\" width=\"6\" x=\"-3\" y=\"-3\" /><text class=\"lab\" transform=\"translate(0 11)\">37</text></g><g class=\"a1457 c2 node n404\" transform=\"translate(0.0 1.57275)\"><g class=\"a404 i14 leaf node n28 p0 sample\" transform=\"translate(-5.71429 0.543097)\"><path class=\"edge\" d=\"M 0 0 V -0.543097 H 5.71429\" /><rect class=\"sym\" height=\"6\" width=\"6\" x=\"-3\" y=\"-3\" /><text class=\"lab\" transform=\"translate(0 11)\">28</text></g><g class=\"a404 i17 leaf node n34 p0 sample\" transform=\"translate(5.71429 0.543097)\"><path class=\"edge\" d=\"M 0 0 V -0.543097 H -5.71429\" /><rect class=\"sym\" height=\"6\" width=\"6\" x=\"-3\" y=\"-3\" /><text class=\"lab\" transform=\"translate(0 11)\">34</text></g><path class=\"edge\" d=\"M 0 0 V -1.57275 H 0.0\" /><circle class=\"sym\" cx=\"0\" cy=\"0\" r=\"3\" /><text class=\"lab rgt\" transform=\"translate(3 -7.0)\">404</text></g><path class=\"edge\" d=\"M 0 0 V -4.90576 H -17.1429\" /><circle class=\"sym\" cx=\"0\" cy=\"0\" r=\"3\" /><text class=\"lab rgt\" transform=\"translate(3 -7.0)\">1457</text></g><g class=\"a3644 c2 node n1666\" transform=\"translate(-17.1429 6.10795)\"><g class=\"a1666 i4 leaf node n8 p0 sample\" transform=\"translate(-5.71429 0.91365)\"><path class=\"edge\" d=\"M 0 0 V -0.91365 H 5.71429\" /><rect class=\"sym\" height=\"6\" width=\"6\" x=\"-3\" y=\"-3\" /><text class=\"lab\" transform=\"translate(0 11)\">8</text></g><g class=\"a1666 i10 leaf node n20 p0 sample\" transform=\"translate(5.71429 0.91365)\"><path class=\"edge\" d=\"M 0 0 V -0.91365 H -5.71429\" /><rect class=\"sym\" height=\"6\" width=\"6\" x=\"-3\" y=\"-3\" /><text class=\"lab\" transform=\"translate(0 11)\">20</text></g><path class=\"edge\" d=\"M 0 0 V -6.10795 H 17.1429\" /><circle class=\"sym\" cx=\"0\" cy=\"0\" r=\"3\" /><text class=\"lab lft\" transform=\"translate(-3 -7.0)\">1666</text></g><path class=\"edge\" d=\"M 0 0 V -12.6537 H 28.5714\" /><circle class=\"sym\" cx=\"0\" cy=\"0\" r=\"3\" /><text class=\"lab lft\" transform=\"translate(-3 -7.0)\">3644</text></g><path class=\"edge\" d=\"M 0 0 V -167.812 H -157.768\" /><circle class=\"sym\" cx=\"0\" cy=\"0\" r=\"3\" /><text class=\"lab rgt\" transform=\"translate(3 -7.0)\">4050</text></g><g class=\"a9846 c2 node n6579\" transform=\"translate(54.9107 159.228)\"><g class=\"a6579 i7 leaf node n14 p0 sample\" transform=\"translate(40 28.2599)\"><path class=\"edge\" d=\"M 0 0 V -28.2599 H -40\" /><rect class=\"sym\" height=\"6\" width=\"6\" x=\"-3\" y=\"-3\" /><text class=\"lab\" transform=\"translate(0 11)\">14</text></g><g class=\"a6579 c7 node n6001\" transform=\"translate(-40 14.5805)\"><g class=\"a6001 i3 leaf node n6 p0 sample\" transform=\"translate(-68.5714 13.6794)\"><path class=\"edge\" d=\"M 0 0 V -13.6794 H 68.5714\" /><rect class=\"sym\" height=\"6\" width=\"6\" x=\"-3\" y=\"-3\" /><text class=\"lab\" transform=\"translate(0 11)\">6</text></g><g class=\"a6001 i8 leaf node n17 p0 sample\" transform=\"translate(-11.4286 13.6794)\"><path class=\"edge\" d=\"M 0 0 V -13.6794 H 11.4286\" /><rect class=\"sym\" height=\"6\" width=\"6\" x=\"-3\" y=\"-3\" /><text class=\"lab\" transform=\"translate(0 11)\">17</text></g><g class=\"a6001 i9 leaf node n19 p0 sample\" transform=\"translate(0.0 13.6794)\"><path class=\"edge\" d=\"M 0 0 V -13.6794 H 0.0\" /><rect class=\"sym\" height=\"6\" width=\"6\" x=\"-3\" y=\"-3\" /><text class=\"lab\" transform=\"translate(0 11)\">19</text></g><g class=\"a6001 i10 leaf node n21 p0 sample\" transform=\"translate(11.4286 13.6794)\"><path class=\"edge\" d=\"M 0 0 V -13.6794 H -11.4286\" /><rect class=\"sym\" height=\"6\" width=\"6\" x=\"-3\" y=\"-3\" /><text class=\"lab\" transform=\"translate(0 11)\">21</text></g><g class=\"a6001 i16 leaf node n33 p0 sample\" transform=\"translate(68.5714 13.6794)\"><path class=\"edge\" d=\"M 0 0 V -13.6794 H -68.5714\" /><rect class=\"sym\" height=\"6\" width=\"6\" x=\"-3\" y=\"-3\" /><text class=\"lab\" transform=\"translate(0 11)\">33</text></g><g class=\"a6001 c2 node n2537\" transform=\"translate(-34.2857 6.06917e-10)\"><g class=\"a2537 i17 leaf node n35 p0 sample\" transform=\"translate(11.4286 13.6794)\"><path class=\"edge\" d=\"M 0 0 V -13.6794 H -11.4286\" /><rect class=\"sym\" height=\"6\" width=\"6\" x=\"-3\" y=\"-3\" /><text class=\"lab\" transform=\"translate(0 11)\">35</text></g><g class=\"a2537 c3 node n1202\" transform=\"translate(-11.4286 13.2004)\"><g class=\"a1202 i8 leaf node n16 p0 sample\" transform=\"translate(-11.4286 0.478955)\"><path class=\"edge\" d=\"M 0 0 V -0.478955 H 11.4286\" /><rect class=\"sym\" height=\"6\" width=\"6\" x=\"-3\" y=\"-3\" /><text class=\"lab\" transform=\"translate(0 11)\">16</text></g><g class=\"a1202 i9 leaf node n18 p0 sample\" transform=\"translate(0.0 0.478955)\"><path class=\"edge\" d=\"M 0 0 V -0.478955 H 0.0\" /><rect class=\"sym\" height=\"6\" width=\"6\" x=\"-3\" y=\"-3\" /><text class=\"lab\" transform=\"translate(0 11)\">18</text></g><g class=\"a1202 i13 leaf node n27 p0 sample\" transform=\"translate(11.4286 0.478955)\"><path class=\"edge\" d=\"M 0 0 V -0.478955 H -11.4286\" /><rect class=\"sym\" height=\"6\" width=\"6\" x=\"-3\" y=\"-3\" /><text class=\"lab\" transform=\"translate(0 11)\">27</text></g><path class=\"edge\" d=\"M 0 0 V -13.2004 H 11.4286\" /><circle class=\"sym\" cx=\"0\" cy=\"0\" r=\"3\" /><text class=\"lab lft\" transform=\"translate(-3 -7.0)\">1202</text></g><path class=\"edge\" d=\"M 0 0 V -6.06917e-10 H 34.2857\" /><circle class=\"sym\" cx=\"0\" cy=\"0\" r=\"3\" /><text class=\"lab rgt\" transform=\"translate(3 -7.0)\">2537</text></g><g class=\"a6001 c4 node n3659\" transform=\"translate(40 12.4251)\"><g class=\"a3659 i14 leaf node n29 p0 sample\" transform=\"translate(-17.1429 1.25429)\"><path class=\"edge\" d=\"M 0 0 V -1.25429 H 17.1429\" /><rect class=\"sym\" height=\"6\" width=\"6\" x=\"-3\" y=\"-3\" /><text class=\"lab\" transform=\"translate(0 11)\">29</text></g><g class=\"a3659 i16 leaf node n32 p0 sample\" transform=\"translate(-5.71429 1.25429)\"><path class=\"edge\" d=\"M 0 0 V -1.25429 H 5.71429\" /><rect class=\"sym\" height=\"6\" width=\"6\" x=\"-3\" y=\"-3\" /><text class=\"lab\" transform=\"translate(0 11)\">32</text></g><g class=\"a3659 i19 leaf node n39 p0 sample\" transform=\"translate(5.71429 1.25429)\"><path class=\"edge\" d=\"M 0 0 V -1.25429 H -5.71429\" /><rect class=\"sym\" height=\"6\" width=\"6\" x=\"-3\" y=\"-3\" /><text class=\"lab\" transform=\"translate(0 11)\">39</text></g><g class=\"a3659 i35 leaf node n70 p1 sample\" transform=\"translate(17.1429 1.25429)\"><path class=\"edge\" d=\"M 0 0 V -1.25429 H -17.1429\" /><rect class=\"sym\" height=\"6\" width=\"6\" x=\"-3\" y=\"-3\" /><text class=\"lab\" transform=\"translate(0 11)\">70</text></g><path class=\"edge\" d=\"M 0 0 V -12.4251 H -40\" /><circle class=\"sym\" cx=\"0\" cy=\"0\" r=\"3\" /><text class=\"lab rgt\" transform=\"translate(3 -7.0)\">3659</text></g><path class=\"edge\" d=\"M 0 0 V -14.5805 H 40\" /><circle class=\"sym\" cx=\"0\" cy=\"0\" r=\"3\" /><text class=\"lab lft\" transform=\"translate(-3 -7.0)\">6001</text></g><path class=\"edge\" d=\"M 0 0 V -159.228 H -54.9107\" /><circle class=\"sym\" cx=\"0\" cy=\"0\" r=\"3\" /><text class=\"lab rgt\" transform=\"translate(3 -7.0)\">6579</text></g><g class=\"a9846 c2 node n9209\" transform=\"translate(-209.196 39.6853)\"><g class=\"a9209 c3 node n5785\" transform=\"translate(89.8214 107.886)\"><g class=\"a5785 i12 leaf node n25 p0 sample\" transform=\"translate(20 39.9161)\"><path class=\"edge\" d=\"M 0 0 V -39.9161 H -20\" /><rect class=\"sym\" height=\"6\" width=\"6\" x=\"-3\" y=\"-3\" /><text class=\"lab\" transform=\"translate(0 11)\">25</text></g><g class=\"a5785 c2 m19408 node n201 s19408\" transform=\"translate(37.1429 17.2058)\"><g class=\"a201 i26 leaf m19410 node n53 p1 s19410 sample\" transform=\"translate(-5.71429 22.7103)\"><path class=\"edge\" d=\"M 0 0 V -22.7103 H 5.71429\" /><g class=\"mut m19410 s19410 unknown_time\" transform=\"translate(0 -11.3551)\"><line x1=\"0\" x2=\"0\" y1=\"0\" y2=\"11.3551\" /><path class=\"sym\" d=\"M -3,-3 l 6,6 M -3,3 l 6,-6\" /><text class=\"lab lft\" transform=\"translate(-5 0)\">19410</text></g><rect class=\"sym\" height=\"6\" width=\"6\" x=\"-3\" y=\"-3\" /><text class=\"lab\" transform=\"translate(0 11)\">53</text></g><g class=\"a201 i41 leaf m19406 node n82 p1 s19406 sample\" transform=\"translate(5.71429 22.7103)\"><path class=\"edge\" d=\"M 0 0 V -22.7103 H -5.71429\" /><g class=\"mut m19406 s19406 unknown_time\" transform=\"translate(0 -11.3551)\"><line x1=\"0\" x2=\"0\" y1=\"0\" y2=\"11.3551\" /><path class=\"sym\" d=\"M -3,-3 l 6,6 M -3,3 l 6,-6\" /><text class=\"lab rgt\" transform=\"translate(5 0)\">19406</text></g><rect class=\"sym\" height=\"6\" width=\"6\" x=\"-3\" y=\"-3\" /><text class=\"lab\" transform=\"translate(0 11)\">82</text></g><path class=\"edge\" d=\"M 0 0 V -17.2058 H -37.1429\" /><g class=\"mut m19408 s19408 unknown_time\" transform=\"translate(0 -8.60289)\"><line x1=\"0\" x2=\"0\" y1=\"0\" y2=\"8.60289\" /><path class=\"sym\" d=\"M -3,-3 l 6,6 M -3,3 l 6,-6\" /><text class=\"lab rgt\" transform=\"translate(5 0)\">19408</text></g><circle class=\"sym\" cx=\"0\" cy=\"0\" r=\"3\" /><text class=\"lab rgt\" transform=\"translate(3 -7.0)\">201</text></g><g class=\"a5785 c6 node n5266\" transform=\"translate(-37.1429 21.4453)\"><g class=\"a5266 i0 leaf node n1 p0 sample\" transform=\"translate(-45.7143 18.4708)\"><path class=\"edge\" d=\"M 0 0 V -18.4708 H 45.7143\" /><rect class=\"sym\" height=\"6\" width=\"6\" x=\"-3\" y=\"-3\" /><text class=\"lab\" transform=\"translate(0 11)\">1</text></g><g class=\"a5266 i7 leaf node n15 p0 sample\" transform=\"translate(22.8571 18.4708)\"><path class=\"edge\" d=\"M 0 0 V -18.4708 H -22.8571\" /><rect class=\"sym\" height=\"6\" width=\"6\" x=\"-3\" y=\"-3\" /><text class=\"lab\" transform=\"translate(0 11)\">15</text></g><g class=\"a5266 i21 leaf node n43 p0 sample\" transform=\"translate(34.2857 18.4708)\"><path class=\"edge\" d=\"M 0 0 V -18.4708 H -34.2857\" /><rect class=\"sym\" height=\"6\" width=\"6\" x=\"-3\" y=\"-3\" /><text class=\"lab\" transform=\"translate(0 11)\">43</text></g><g class=\"a5266 i32 leaf m19411 node n65 p1 s19411 sample\" transform=\"translate(45.7143 18.4708)\"><path class=\"edge\" d=\"M 0 0 V -18.4708 H -45.7143\" /><g class=\"mut m19411 s19411 unknown_time\" transform=\"translate(0 -9.23538)\"><line x1=\"0\" x2=\"0\" y1=\"0\" y2=\"9.23538\" /><path class=\"sym\" d=\"M -3,-3 l 6,6 M -3,3 l 6,-6\" /><text class=\"lab rgt\" transform=\"translate(5 0)\">19411</text></g><rect class=\"sym\" height=\"6\" width=\"6\" x=\"-3\" y=\"-3\" /><text class=\"lab\" transform=\"translate(0 11)\">65</text></g><g class=\"a5266 c3 node n113\" transform=\"translate(0.0 17.04)\"><g class=\"a113 i5 leaf node n10 p0 sample\" transform=\"translate(-11.4286 1.43078)\"><path class=\"edge\" d=\"M 0 0 V -1.43078 H 11.4286\" /><rect class=\"sym\" height=\"6\" width=\"6\" x=\"-3\" y=\"-3\" /><text class=\"lab\" transform=\"translate(0 11)\">10</text></g><g class=\"a113 i36 leaf node n72 p1 sample\" transform=\"translate(0.0 1.43078)\"><path class=\"edge\" d=\"M 0 0 V -1.43078 H 0.0\" /><rect class=\"sym\" height=\"6\" width=\"6\" x=\"-3\" y=\"-3\" /><text class=\"lab\" transform=\"translate(0 11)\">72</text></g><g class=\"a113 i38 leaf node n76 p1 sample\" transform=\"translate(11.4286 1.43078)\"><path class=\"edge\" d=\"M 0 0 V -1.43078 H -11.4286\" /><rect class=\"sym\" height=\"6\" width=\"6\" x=\"-3\" y=\"-3\" /><text class=\"lab\" transform=\"translate(0 11)\">76</text></g><path class=\"edge\" d=\"M 0 0 V -17.04 H 0.0\" /><circle class=\"sym\" cx=\"0\" cy=\"0\" r=\"3\" /><text class=\"lab rgt\" transform=\"translate(3 -7.0)\">113</text></g><g class=\"a5266 c2 node n4295\" transform=\"translate(-28.5714 17.9285)\"><g class=\"a4295 i2 leaf node n4 p0 sample\" transform=\"translate(-5.71429 0.542258)\"><path class=\"edge\" d=\"M 0 0 V -0.542258 H 5.71429\" /><rect class=\"sym\" height=\"6\" width=\"6\" x=\"-3\" y=\"-3\" /><text class=\"lab\" transform=\"translate(0 11)\">4</text></g><g class=\"a4295 i5 leaf node n11 p0 sample\" transform=\"translate(5.71429 0.542258)\"><path class=\"edge\" d=\"M 0 0 V -0.542258 H -5.71429\" /><rect class=\"sym\" height=\"6\" width=\"6\" x=\"-3\" y=\"-3\" /><text class=\"lab\" transform=\"translate(0 11)\">11</text></g><path class=\"edge\" d=\"M 0 0 V -17.9285 H 28.5714\" /><circle class=\"sym\" cx=\"0\" cy=\"0\" r=\"3\" /><text class=\"lab rgt\" transform=\"translate(3 -7.0)\">4295</text></g><path class=\"edge\" d=\"M 0 0 V -21.4453 H 37.1429\" /><circle class=\"sym\" cx=\"0\" cy=\"0\" r=\"3\" /><text class=\"lab lft\" transform=\"translate(-3 -7.0)\">5266</text></g><path class=\"edge\" d=\"M 0 0 V -107.886 H -89.8214\" /><circle class=\"sym\" cx=\"0\" cy=\"0\" r=\"3\" /><text class=\"lab rgt\" transform=\"translate(3 -7.0)\">5785</text></g><g class=\"a9209 c2 node n7602\" transform=\"translate(-89.8214 3.03487e-10)\"><g class=\"a7602 c6 node n4349\" transform=\"translate(49.6429 145.419)\"><g class=\"a4349 i23 leaf node n46 p1 sample\" transform=\"translate(-10 2.38317)\"><path class=\"edge\" d=\"M 0 0 V -2.38317 H 10\" /><rect class=\"sym\" height=\"6\" width=\"6\" x=\"-3\" y=\"-3\" /><text class=\"lab\" transform=\"translate(0 11)\">46</text></g><g class=\"a4349 i27 leaf node n54 p1 sample\" transform=\"translate(1.42857 2.38317)\"><path class=\"edge\" d=\"M 0 0 V -2.38317 H -1.42857\" /><rect class=\"sym\" height=\"6\" width=\"6\" x=\"-3\" y=\"-3\" /><text class=\"lab\" transform=\"translate(0 11)\">54</text></g><g class=\"a4349 i30 leaf node n60 p1 sample\" transform=\"translate(12.8571 2.38317)\"><path class=\"edge\" d=\"M 0 0 V -2.38317 H -12.8571\" /><rect class=\"sym\" height=\"6\" width=\"6\" x=\"-3\" y=\"-3\" /><text class=\"lab\" transform=\"translate(0 11)\">60</text></g><g class=\"a4349 i35 leaf node n71 p1 sample\" transform=\"translate(24.2857 2.38317)\"><path class=\"edge\" d=\"M 0 0 V -2.38317 H -24.2857\" /><rect class=\"sym\" height=\"6\" width=\"6\" x=\"-3\" y=\"-3\" /><text class=\"lab\" transform=\"translate(0 11)\">71</text></g><g class=\"a4349 i40 leaf node n81 p1 sample\" transform=\"translate(35.7143 2.38317)\"><path class=\"edge\" d=\"M 0 0 V -2.38317 H -35.7143\" /><rect class=\"sym\" height=\"6\" width=\"6\" x=\"-3\" y=\"-3\" /><text class=\"lab\" transform=\"translate(0 11)\">81</text></g><g class=\"a4349 c3 node n3511\" transform=\"translate(-35.7143 1.60491)\"><g class=\"a3511 i34 leaf node n68 p1 sample\" transform=\"translate(2.85714 0.778257)\"><path class=\"edge\" d=\"M 0 0 V -0.778257 H -2.85714\" /><rect class=\"sym\" height=\"6\" width=\"6\" x=\"-3\" y=\"-3\" /><text class=\"lab\" transform=\"translate(0 11)\">68</text></g><g class=\"a3511 i36 leaf node n73 p1 sample\" transform=\"translate(14.2857 0.778257)\"><path class=\"edge\" d=\"M 0 0 V -0.778257 H -14.2857\" /><rect class=\"sym\" height=\"6\" width=\"6\" x=\"-3\" y=\"-3\" /><text class=\"lab\" transform=\"translate(0 11)\">73</text></g><g class=\"a3511 c2 node n3446\" transform=\"translate(-14.2857 0.401075)\"><g class=\"a3446 i22 leaf node n44 p1 sample\" transform=\"translate(-5.71429 0.377182)\"><path class=\"edge\" d=\"M 0 0 V -0.377182 H 5.71429\" /><rect class=\"sym\" height=\"6\" width=\"6\" x=\"-3\" y=\"-3\" /><text class=\"lab\" transform=\"translate(0 11)\">44</text></g><g class=\"a3446 i33 leaf node n67 p1 sample\" transform=\"translate(5.71429 0.377182)\"><path class=\"edge\" d=\"M 0 0 V -0.377182 H -5.71429\" /><rect class=\"sym\" height=\"6\" width=\"6\" x=\"-3\" y=\"-3\" /><text class=\"lab\" transform=\"translate(0 11)\">67</text></g><path class=\"edge\" d=\"M 0 0 V -0.401075 H 14.2857\" /><circle class=\"sym\" cx=\"0\" cy=\"0\" r=\"3\" /><text class=\"lab lft\" transform=\"translate(-3 -7.0)\">3446</text></g><path class=\"edge\" d=\"M 0 0 V -1.60491 H 35.7143\" /><circle class=\"sym\" cx=\"0\" cy=\"0\" r=\"3\" /><text class=\"lab lft\" transform=\"translate(-3 -7.0)\">3511</text></g><path class=\"edge\" d=\"M 0 0 V -145.419 H -49.6429\" /><circle class=\"sym\" cx=\"0\" cy=\"0\" r=\"3\" /><text class=\"lab rgt\" transform=\"translate(3 -7.0)\">4349</text></g><g class=\"a7602 c2 node n6098\" transform=\"translate(-49.6429 42.7997)\"><g class=\"a6098 c2 m19405 m19407 node n275 s19405 s19407\" transform=\"translate(26.4286 104.206)\"><g class=\"a275 i23 leaf node n47 p1 sample\" transform=\"translate(-5.71429 0.796648)\"><path class=\"edge\" d=\"M 0 0 V -0.796648 H 5.71429\" /><rect class=\"sym\" height=\"6\" width=\"6\" x=\"-3\" y=\"-3\" /><text class=\"lab\" transform=\"translate(0 11)\">47</text></g><g class=\"a275 i29 leaf node n58 p1 sample\" transform=\"translate(5.71429 0.796648)\"><path class=\"edge\" d=\"M 0 0 V -0.796648 H -5.71429\" /><rect class=\"sym\" height=\"6\" width=\"6\" x=\"-3\" y=\"-3\" /><text class=\"lab\" transform=\"translate(0 11)\">58</text></g><path class=\"edge\" d=\"M 0 0 V -104.206 H -26.4286\" /><g class=\"mut m19405 s19405 unknown_time\" transform=\"translate(0 -69.4706)\"><line x1=\"0\" x2=\"0\" y1=\"0\" y2=\"69.4706\" /><path class=\"sym\" d=\"M -3,-3 l 6,6 M -3,3 l 6,-6\" /><text class=\"lab rgt\" transform=\"translate(5 0)\">19405</text></g><g class=\"mut m19407 s19407 unknown_time\" transform=\"translate(0 -34.7353)\"><line x1=\"0\" x2=\"0\" y1=\"0\" y2=\"34.7353\" /><path class=\"sym\" d=\"M -3,-3 l 6,6 M -3,3 l 6,-6\" /><text class=\"lab rgt\" transform=\"translate(5 0)\">19407</text></g><circle class=\"sym\" cx=\"0\" cy=\"0\" r=\"3\" /><text class=\"lab rgt\" transform=\"translate(3 -7.0)\">275</text></g><g class=\"a6098 c2 node n5858\" transform=\"translate(-26.4286 67.4977)\"><g class=\"a5858 c2 m19412 node n926 s19412\" transform=\"translate(27.1429 26.5008)\"><g class=\"a926 i39 leaf node n78 p1 sample\" transform=\"translate(8.57143 11.0041)\"><path class=\"edge\" d=\"M 0 0 V -11.0041 H -8.57143\" /><rect class=\"sym\" height=\"6\" width=\"6\" x=\"-3\" y=\"-3\" /><text class=\"lab\" transform=\"translate(0 11)\">78</text></g><g class=\"a926 c2 node n175\" transform=\"translate(-8.57143 9.79736)\"><g class=\"a175 i28 leaf node n57 p1 sample\" transform=\"translate(-5.71429 1.20669)\"><path class=\"edge\" d=\"M 0 0 V -1.20669 H 5.71429\" /><rect class=\"sym\" height=\"6\" width=\"6\" x=\"-3\" y=\"-3\" /><text class=\"lab\" transform=\"translate(0 11)\">57</text></g><g class=\"a175 i37 leaf node n74 p1 sample\" transform=\"translate(5.71429 1.20669)\"><path class=\"edge\" d=\"M 0 0 V -1.20669 H -5.71429\" /><rect class=\"sym\" height=\"6\" width=\"6\" x=\"-3\" y=\"-3\" /><text class=\"lab\" transform=\"translate(0 11)\">74</text></g><path class=\"edge\" d=\"M 0 0 V -9.79736 H 8.57143\" /><circle class=\"sym\" cx=\"0\" cy=\"0\" r=\"3\" /><text class=\"lab lft\" transform=\"translate(-3 -7.0)\">175</text></g><path class=\"edge\" d=\"M 0 0 V -26.5008 H -27.1429\" /><g class=\"mut m19412 s19412 unknown_time\" transform=\"translate(0 -13.2504)\"><line x1=\"0\" x2=\"0\" y1=\"0\" y2=\"13.2504\" /><path class=\"sym\" d=\"M -3,-3 l 6,6 M -3,3 l 6,-6\" /><text class=\"lab rgt\" transform=\"translate(5 0)\">19412</text></g><circle class=\"sym\" cx=\"0\" cy=\"0\" r=\"3\" /><text class=\"lab rgt\" transform=\"translate(3 -7.0)\">926</text></g><g class=\"a5858 c3 node n5289\" transform=\"translate(-27.1429 10.1086)\"><g class=\"a5289 i24 leaf node n48 p1 sample\" transform=\"translate(17.1429 27.3963)\"><path class=\"edge\" d=\"M 0 0 V -27.3963 H -17.1429\" /><rect class=\"sym\" height=\"6\" width=\"6\" x=\"-3\" y=\"-3\" /><text class=\"lab\" transform=\"translate(0 11)\">48</text></g><g class=\"a5289 i25 leaf node n50 p1 sample\" transform=\"translate(28.5714 27.3963)\"><path class=\"edge\" d=\"M 0 0 V -27.3963 H -28.5714\" /><rect class=\"sym\" height=\"6\" width=\"6\" x=\"-3\" y=\"-3\" /><text class=\"lab\" transform=\"translate(0 11)\">50</text></g><g class=\"a5289 c3 node n4586\" transform=\"translate(-28.5714 8.51991)\"><g class=\"a4586 i28 leaf node n56 p1 sample\" transform=\"translate(11.4286 18.8764)\"><path class=\"edge\" d=\"M 0 0 V -18.8764 H -11.4286\" /><rect class=\"sym\" height=\"6\" width=\"6\" x=\"-3\" y=\"-3\" /><text class=\"lab\" transform=\"translate(0 11)\">56</text></g><g class=\"a4586 c2 node n2426\" transform=\"translate(28.5714 15.9267)\"><g class=\"a2426 i33 leaf node n66 p1 sample\" transform=\"translate(-5.71429 2.94968)\"><path class=\"edge\" d=\"M 0 0 V -2.94968 H 5.71429\" /><rect class=\"sym\" height=\"6\" width=\"6\" x=\"-3\" y=\"-3\" /><text class=\"lab\" transform=\"translate(0 11)\">66</text></g><g class=\"a2426 i40 leaf node n80 p1 sample\" transform=\"translate(5.71429 2.94968)\"><path class=\"edge\" d=\"M 0 0 V -2.94968 H -5.71429\" /><rect class=\"sym\" height=\"6\" width=\"6\" x=\"-3\" y=\"-3\" /><text class=\"lab\" transform=\"translate(0 11)\">80</text></g><path class=\"edge\" d=\"M 0 0 V -15.9267 H -28.5714\" /><circle class=\"sym\" cx=\"0\" cy=\"0\" r=\"3\" /><text class=\"lab rgt\" transform=\"translate(3 -7.0)\">2426</text></g><g class=\"a4586 c4 node n3348\" transform=\"translate(-28.5714 16.4506)\"><g class=\"a3348 i0 leaf node n0 p0 sample\" transform=\"translate(-28.5714 2.42577)\"><path class=\"edge\" d=\"M 0 0 V -2.42577 H 28.5714\" /><rect class=\"sym\" height=\"6\" width=\"6\" x=\"-3\" y=\"-3\" /><text class=\"lab\" transform=\"translate(0 11)\">0</text></g><g class=\"a3348 i11 leaf node n23 p0 sample\" transform=\"translate(-17.1429 2.42577)\"><path class=\"edge\" d=\"M 0 0 V -2.42577 H 17.1429\" /><rect class=\"sym\" height=\"6\" width=\"6\" x=\"-3\" y=\"-3\" /><text class=\"lab\" transform=\"translate(0 11)\">23</text></g><g class=\"a3348 i24 leaf node n49 p1 sample\" transform=\"translate(28.5714 2.42577)\"><path class=\"edge\" d=\"M 0 0 V -2.42577 H -28.5714\" /><rect class=\"sym\" height=\"6\" width=\"6\" x=\"-3\" y=\"-3\" /><text class=\"lab\" transform=\"translate(0 11)\">49</text></g><g class=\"a3348 c2 node n1881\" transform=\"translate(8.57143 0.960807)\"><g class=\"a1881 i27 leaf node n55 p1 sample\" transform=\"translate(8.57143 1.46497)\"><path class=\"edge\" d=\"M 0 0 V -1.46497 H -8.57143\" /><rect class=\"sym\" height=\"6\" width=\"6\" x=\"-3\" y=\"-3\" /><text class=\"lab\" transform=\"translate(0 11)\">55</text></g><g class=\"a1881 c2 node n288\" transform=\"translate(-8.57143 0.919868)\"><g class=\"a288 i22 leaf node n45 p1 sample\" transform=\"translate(-5.71429 0.545099)\"><path class=\"edge\" d=\"M 0 0 V -0.545099 H 5.71429\" /><rect class=\"sym\" height=\"6\" width=\"6\" x=\"-3\" y=\"-3\" /><text class=\"lab\" transform=\"translate(0 11)\">45</text></g><g class=\"a288 i25 leaf node n51 p1 sample\" transform=\"translate(5.71429 0.545099)\"><path class=\"edge\" d=\"M 0 0 V -0.545099 H -5.71429\" /><rect class=\"sym\" height=\"6\" width=\"6\" x=\"-3\" y=\"-3\" /><text class=\"lab\" transform=\"translate(0 11)\">51</text></g><path class=\"edge\" d=\"M 0 0 V -0.919868 H 8.57143\" /><circle class=\"sym\" cx=\"0\" cy=\"0\" r=\"3\" /><text class=\"lab lft\" transform=\"translate(-3 -7.0)\">288</text></g><path class=\"edge\" d=\"M 0 0 V -0.960807 H -8.57143\" /><circle class=\"sym\" cx=\"0\" cy=\"0\" r=\"3\" /><text class=\"lab rgt\" transform=\"translate(3 -7.0)\">1881</text></g><path class=\"edge\" d=\"M 0 0 V -16.4506 H 28.5714\" /><circle class=\"sym\" cx=\"0\" cy=\"0\" r=\"3\" /><text class=\"lab lft\" transform=\"translate(-3 -7.0)\">3348</text></g><path class=\"edge\" d=\"M 0 0 V -8.51991 H 28.5714\" /><circle class=\"sym\" cx=\"0\" cy=\"0\" r=\"3\" /><text class=\"lab lft\" transform=\"translate(-3 -7.0)\">4586</text></g><path class=\"edge\" d=\"M 0 0 V -10.1086 H 27.1429\" /><circle class=\"sym\" cx=\"0\" cy=\"0\" r=\"3\" /><text class=\"lab lft\" transform=\"translate(-3 -7.0)\">5289</text></g><path class=\"edge\" d=\"M 0 0 V -67.4977 H 26.4286\" /><circle class=\"sym\" cx=\"0\" cy=\"0\" r=\"3\" /><text class=\"lab lft\" transform=\"translate(-3 -7.0)\">5858</text></g><path class=\"edge\" d=\"M 0 0 V -42.7997 H 49.6429\" /><circle class=\"sym\" cx=\"0\" cy=\"0\" r=\"3\" /><text class=\"lab lft\" transform=\"translate(-3 -7.0)\">6098</text></g><path class=\"edge\" d=\"M 0 0 V -3.03487e-10 H 89.8214\" /><circle class=\"sym\" cx=\"0\" cy=\"0\" r=\"3\" /><text class=\"lab lft\" transform=\"translate(-3 -7.0)\">7602</text></g><path class=\"edge\" d=\"M 0 0 V -39.6853 H 209.196\" /><circle class=\"sym\" cx=\"0\" cy=\"0\" r=\"3\" /><text class=\"lab lft\" transform=\"translate(-3 -7.0)\">9209</text></g><path class=\"edge\" d=\"M 0 0 V -3.35586 H 110.313\" /><circle class=\"sym\" cx=\"0\" cy=\"0\" r=\"3\" /><text class=\"lab lft\" transform=\"translate(-3 -7.0)\">9846</text></g><path class=\"edge\" d=\"M 0 0 V -250.557 H 169.442\" /><circle class=\"sym\" cx=\"0\" cy=\"0\" r=\"3\" /><text class=\"lab lft\" transform=\"translate(-3 -7.0)\">10378</text></g><path class=\"edge\" d=\"M 0 0 V -3.03487e-10 H 90.4353\" /><g class=\"mut m19409 s19409 unknown_time\" transform=\"translate(0 -1.51715e-10)\"><line x1=\"0\" x2=\"0\" y1=\"0\" y2=\"1.51715e-10\" /><path class=\"sym\" d=\"M -3,-3 l 6,6 M -3,3 l 6,-6\" /><text class=\"lab lft\" transform=\"translate(-5 0)\">19409</text></g><circle class=\"sym\" cx=\"0\" cy=\"0\" r=\"3\" /><text class=\"lab lft\" transform=\"translate(-3 -7.0)\">10485</text></g><circle class=\"sym\" cx=\"0\" cy=\"0\" r=\"3\" /><text class=\"lab\" transform=\"translate(0 -11)\">14541</text></g></g></g></svg>'"
      ]
     },
     "execution_count": 43,
     "metadata": {},
     "output_type": "execute_result"
    }
   ],
   "source": [
    "tr1.draw_svg(size=(1000,500))"
   ]
  },
  {
   "cell_type": "code",
   "execution_count": 40,
   "id": "08107775-d44f-42c4-ab0a-1f0139207e40",
   "metadata": {},
   "outputs": [
    {
     "data": {
      "text/plain": [
       "14541"
      ]
     },
     "execution_count": 40,
     "metadata": {},
     "output_type": "execute_result"
    }
   ],
   "source": [
    "\n",
    "tr1.root"
   ]
  },
  {
   "cell_type": "code",
   "execution_count": 52,
   "id": "7fbadc71-235b-43b9-b3f9-f9207373bd76",
   "metadata": {},
   "outputs": [],
   "source": [
    "# sample_data = tsinfer.load('./ts_run2-20240522_FrYe/ts.RosEl.mFRyYe.samples')\n",
    "samples_listed_by_pop = [tsD_rosel_mFRyYe.samples(population_id=pop_id) for pop_id in range(tsD_rosel_mFRyYe.num_populations)]"
   ]
  },
  {
   "cell_type": "code",
   "execution_count": 53,
   "id": "595f0d22-6a87-4903-bce0-2fd15ceb07f5",
   "metadata": {},
   "outputs": [],
   "source": [
    "## GNN\n",
    "gnn = tsD_rosel_mFRyYe.genealogical_nearest_neighbours(tsD_rosel_mFRyYe.samples(), samples_listed_by_pop)"
   ]
  },
  {
   "cell_type": "code",
   "execution_count": 71,
   "id": "d9dafd0d-3ed1-4c79-a2cc-ddee3a83a3dd",
   "metadata": {},
   "outputs": [
    {
     "name": "stdout",
     "output_type": "stream",
     "text": [
      "                       mFR       yYe\n",
      "Sample node name                    \n",
      "0           mFR   0.773730  0.226270\n",
      "1           mFR   0.767041  0.232959\n",
      "2           mFR   0.742133  0.257867\n",
      "3           mFR   0.814355  0.185645\n",
      "4           mFR   0.834793  0.165207\n",
      "...                    ...       ...\n",
      "79          yYe   0.416737  0.583263\n",
      "80          yYe   0.160332  0.839668\n",
      "81          yYe   0.188854  0.811146\n",
      "82          yYe   0.127513  0.872487\n",
      "83          yYe   0.171082  0.828918\n",
      "\n",
      "[84 rows x 2 columns]\n"
     ]
    }
   ],
   "source": [
    "## Tabulate GNN nicely using a Pandas dataframe with named rows and columns\n",
    "sample_nodes = [tsD_rosel_mFRyYe.node(n) for n in tsD_rosel_mFRyYe.samples()]\n",
    "sample_ids = [n.id for n in sample_nodes]\n",
    "# sample_names = [json.loads(sparrow_ts.individual(n.individual).metadata)[\"name\"] for n in sample_nodes]\n",
    "sample_pops = [json.loads(tsD_rosel_mFRyYe.population(n.population).metadata)[\"name\"] for n in sample_nodes]\n",
    "gnn_table = pd.DataFrame(data=gnn,\n",
    "                         index=[\n",
    "                             pd.Index(sample_ids, name=\"Sample node\"),\n",
    "                             # pd.Index(sample_names, name=\"Bird\"),\n",
    "                             pd.Index(sample_pops, name=\"name\"),\n",
    "                         ],\n",
    "    columns=[json.loads(p.metadata)[\"name\"] for p in tsD_rosel_mFRyYe.populations()],\n",
    ")\n",
    "\n",
    "print(gnn_table)"
   ]
  },
  {
   "cell_type": "code",
   "execution_count": 78,
   "id": "272b802b-285e-4106-bdd5-08c1ab183174",
   "metadata": {},
   "outputs": [],
   "source": [
    "gnn_table.to_csv('./gnn.txt')"
   ]
  },
  {
   "cell_type": "code",
   "execution_count": 73,
   "id": "bbeec277-d867-46ae-9001-3a5b58bab9d5",
   "metadata": {},
   "outputs": [
    {
     "name": "stdout",
     "output_type": "stream",
     "text": [
      "           mFR       yYe\n",
      "name                    \n",
      "mFR   0.794729  0.205271\n",
      "yYe   0.193877  0.806123\n"
     ]
    }
   ],
   "source": [
    "# # Summarize GNN for all birds from the same country\n",
    "print(gnn_table.groupby(level=\"name\").mean())"
   ]
  },
  {
   "cell_type": "code",
   "execution_count": null,
   "id": "dbd852ed-a5c7-40a4-afc9-9e25bc0e5f90",
   "metadata": {},
   "outputs": [],
   "source": [
    "## Subset samples "
   ]
  },
  {
   "cell_type": "code",
   "execution_count": 74,
   "id": "30020b52-1a7f-4140-b9dd-e40ba2a22638",
   "metadata": {},
   "outputs": [],
   "source": [
    "treeStart = []\n",
    "treeEnd = []\n",
    "treeSpan = []\n",
    "treeList = []\n",
    "\n",
    "for tree in tsD_rosel_mFRyYe.trees():\n",
    "    if (tree.interval.left > 0):\n",
    "        treeStart.append(tree.interval.left)\n",
    "        treeEnd.append(tree.interval.right)\n",
    "        treeSpan.append(tree.span)\n",
    "        # treeList.append(tree.as_newick(root=tree.roots))\n",
    "        treeList.append(tree.as_newick(root=tree.root))\n",
    "\n",
    "tsDF = pd.DataFrame({'treeStart': treeStart,\n",
    "                      'treeEnd': treeEnd,\n",
    "                     'treeSpan': treeSpan,\n",
    "                     'tree': treeList})\n",
    "tsDF.to_csv('./ts_run2-20240522_FrYe/ts.RosEl.trList.newick.txt',\n",
    "            sep=\"\\t\", quoting = None, index = False, encoding = 'utf-8')"
   ]
  }
 ],
 "metadata": {
  "kernelspec": {
   "display_name": "Python 3 (ipykernel)",
   "language": "python",
   "name": "python3"
  },
  "language_info": {
   "codemirror_mode": {
    "name": "ipython",
    "version": 3
   },
   "file_extension": ".py",
   "mimetype": "text/x-python",
   "name": "python",
   "nbconvert_exporter": "python",
   "pygments_lexer": "ipython3",
   "version": "3.11.8"
  }
 },
 "nbformat": 4,
 "nbformat_minor": 5
}
