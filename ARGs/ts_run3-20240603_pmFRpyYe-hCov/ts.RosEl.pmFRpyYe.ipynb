{
 "cells": [
  {
   "cell_type": "markdown",
   "id": "93b51f4f-c19a-4a1d-8183-8fd307142ce5",
   "metadata": {},
   "source": [
    "# ts genealogies\n",
    "Infer genealogies with pure-magenta vs pure-yellow high coverage samples from MF and YF"
   ]
  },
  {
   "cell_type": "code",
   "execution_count": 2,
   "id": "6336440f-4b29-44d7-bdfc-49b322daefb9",
   "metadata": {},
   "outputs": [],
   "source": [
    "import tsinfer\n",
    "import tsdate\n",
    "import tskit\n",
    "import cyvcf2\n",
    "import numpy as np\n",
    "import os\n",
    "import pandas as pd"
   ]
  },
  {
   "cell_type": "code",
   "execution_count": 3,
   "id": "6df90a7c-c5e2-484e-b335-87dd85a37cd3",
   "metadata": {},
   "outputs": [
    {
     "data": {
      "text/plain": [
       "'/nfs/scistore18/bartogrp/apal/snap_hap/ARGs'"
      ]
     },
     "execution_count": 3,
     "metadata": {},
     "output_type": "execute_result"
    }
   ],
   "source": [
    "# os.chdir('/Users/apal/Phd/Projects/2021-snap_hap/ARGs')\n",
    "os.chdir('/nfs/scistore18/bartogrp/apal/snap_hap/ARGs')\n",
    "os.getcwd()"
   ]
  },
  {
   "cell_type": "code",
   "execution_count": 4,
   "id": "a080be48-377f-4fdc-9986-4b9181135b81",
   "metadata": {
    "jupyter": {
     "source_hidden": true
    }
   },
   "outputs": [],
   "source": [
    "## Define function to add sites into samples for tsinfer\n",
    "def add_diploid_sites(vcf, samples):\n",
    "    \n",
    "    \"\"\"\n",
    "    Read the sites in the vcf and add them to the samples object.\n",
    "    \"\"\"\n",
    "    \n",
    "    # You may want to change the following line, e.g. here we allow\n",
    "    # \"*\" (a spanning deletion) to be a valid allele state\n",
    "    allele_chars = set(\"ATGCatgc*\")\n",
    "    pos = 0\n",
    "    siteID = 0\n",
    "    \n",
    "    for variant in vcf:  # Loop over variants, each assumed at a unique site    \n",
    "        # progressbar.update(variant.POS - pos)\n",
    "        allele_chars = set(\"ATGCatgc*\")\n",
    "        \n",
    "        pos = variant.POS\n",
    "        \n",
    "        alleles = [variant.REF.upper()] + [v.upper() for v in variant.ALT]\n",
    "        ancestral_allele = 0\n",
    "        \n",
    "        # ancestral = variant.INFO.get(\"AA\", \".\")  # \".\" means unknown\n",
    "        \n",
    "        # # some VCFs (e.g. from 1000G) have many values in the AA field: take the 1st\n",
    "        # ancestral = ancestral.split(\"|\")[0].upper()\n",
    "        # if ancestral == \".\" or ancestral == \"\":\n",
    "        #     ancestral_allele = MISSING_DATA\n",
    "        #     # alternatively, you could specify `ancestral = variant.REF.upper()`\n",
    "        # else:\n",
    "        #     ancestral_allele = alleles.index(ancestral)\n",
    "    \n",
    "        # Check we have ATCG alleles\n",
    "        for a in alleles:\n",
    "            if len(set(a) - allele_chars) > 0:\n",
    "                print(f\"Ignoring site at pos {pos}: allele {a} not in {allele_chars}\")\n",
    "                continue\n",
    "        # Map original allele indexes to their indexes in the new alleles list.\n",
    "        genotypes = [g for row in variant.genotypes for g in row[0:2]]\n",
    "\n",
    "        samples.add_site(pos, genotypes, alleles, ancestral_allele=ancestral_allele)\n",
    "        siteID += 1"
   ]
  },
  {
   "cell_type": "code",
   "execution_count": 5,
   "id": "9c6a08a3-9126-4e1c-8226-2a410c0f5271",
   "metadata": {},
   "outputs": [],
   "source": [
    "##  Load samples to tsinfer\n",
    "demes=['pmFR','pyYe']\n",
    "demeSize = [45, 50]\n",
    "popList = np.repeat(demes, demeSize)\n",
    "vcf_path=\"./VCFs/Am_pmFRpyYe-hCov_stitchRun1_Chr6-52800000-53200000.refScaf.statphased.vcf.gz\"\n",
    "vcf = cyvcf2.VCF(vcf_path)"
   ]
  },
  {
   "cell_type": "code",
   "execution_count": 6,
   "id": "74c4d07e-c449-4ab1-9cae-0c2a1583391b",
   "metadata": {},
   "outputs": [],
   "source": [
    "with tsinfer.SampleData(path = './ts_run3-20240603_pmFRpyYe-hCov/ts.RosEl.pmFRpyYe.samples') as sample_data:\n",
    "    \n",
    "    ## Define populations\n",
    "    sample_data.add_population(metadata={\"name\": \"pmFR\"})\n",
    "    sample_data.add_population(metadata={\"name\": \"pyYe\"})\n",
    "\n",
    "    ## Define inidividuals\n",
    "    for sampleName, pop in zip(vcf.samples, popList):\n",
    "        popIndex = demes.index(pop)\n",
    "        sample_data.add_individual(ploidy=2, population=popIndex, metadata={\"names\":sampleName})\n",
    "\n",
    "    ## Add sites and genotypes\n",
    "    add_diploid_sites(vcf, sample_data)"
   ]
  },
  {
   "cell_type": "code",
   "execution_count": 7,
   "id": "2b51c189-b36c-4ac8-a850-3e91f5dc2214",
   "metadata": {},
   "outputs": [],
   "source": [
    "## Load sample data if run before\n",
    "sample_data = tsinfer.load('./ts_run3-20240603_pmFRpyYe-hCov/ts.RosEl.pmFRpyYe.samples')"
   ]
  },
  {
   "cell_type": "code",
   "execution_count": 8,
   "id": "d75cf1b6-0418-4c15-9001-d46d835d0f61",
   "metadata": {},
   "outputs": [
    {
     "data": {
      "text/plain": [
       "190"
      ]
     },
     "execution_count": 8,
     "metadata": {},
     "output_type": "execute_result"
    }
   ],
   "source": [
    "# sample_data.\n",
    "sample_data.num_samples"
   ]
  },
  {
   "cell_type": "code",
   "execution_count": 9,
   "id": "7107583f-beb7-43b9-b55b-21676bfa2689",
   "metadata": {},
   "outputs": [
    {
     "name": "stdout",
     "output_type": "stream",
     "text": [
      "Sample file created for 190 samples (95 individuals) with 23529 variable sites.\n"
     ]
    }
   ],
   "source": [
    "print(\n",
    "    \"Sample file created for {} samples \".format(sample_data.num_samples)\n",
    "    + \"({} individuals) \".format(sample_data.num_individuals)\n",
    "    + \"with {} variable sites.\".format(sample_data.num_sites),\n",
    "    flush=True,\n",
    ")"
   ]
  },
  {
   "cell_type": "code",
   "execution_count": 11,
   "id": "c259d2cd-850f-4219-8b34-68a99ff2a675",
   "metadata": {},
   "outputs": [],
   "source": [
    "ts_rosel_pmFRpyYe = tsinfer.infer(sample_data)\n",
    "tsSimp_rosel_pmFRpyYe = ts_rosel_pmFRpyYe.simplify(keep_unary=False)\n",
    "tsD_rosel_pmFRpyYe = tsdate.date(tsSimp_rosel_pmFRpyYe, Ne=354349, mutation_rate=7e-9)"
   ]
  },
  {
   "cell_type": "code",
   "execution_count": 12,
   "id": "f14cd1f5-3d2c-4eb5-b296-396dbb85b130",
   "metadata": {},
   "outputs": [
    {
     "data": {
      "text/html": [
       "\n",
       "            <div>\n",
       "              <style>\n",
       "                .tskit-table thead tr th {text-align: left;padding: 0.5em 0.5em;}\n",
       "                .tskit-table tbody tr td {padding: 0.5em 0.5em;}\n",
       "                .tskit-table tbody tr td:first-of-type {text-align: left;}\n",
       "                .tskit-details-label {vertical-align: top; padding-right:5px;}\n",
       "                .tskit-table-set {display: inline-flex;flex-wrap: wrap;margin: -12px 0 0 -12px;width: calc(100% + 12px);}\n",
       "                .tskit-table-set-table {margin: 12px 0 0 12px;}\n",
       "                details {display: inline-block;}\n",
       "                summary {cursor: pointer; outline: 0; display: list-item;}\n",
       "              </style>\n",
       "              <div class=\"tskit-table-set\">\n",
       "                <div class=\"tskit-table-set-table\">\n",
       "                  <table class=\"tskit-table\">\n",
       "                    <thead>\n",
       "                      <tr>\n",
       "                        <th style=\"padding:0;line-height:21px;\">\n",
       "                          <img style=\"height: 32px;display: inline-block;padding: 3px 5px 3px 0;\" src=\"https://raw.githubusercontent.com/tskit-dev/administrative/main/tskit_logo.svg\"/>\n",
       "                          <a target=\"_blank\" href=\"https://tskit.dev/tskit/docs/latest/python-api.html#the-treesequence-class\"> Tree Sequence </a>\n",
       "                        </th>\n",
       "                      </tr>\n",
       "                    </thead>\n",
       "                    <tbody>\n",
       "                      <tr><td>Trees</td><td>13993</td></tr>\n",
       "                      <tr><td>Sequence Length</td><td>53199989.0</td></tr>\n",
       "                      <tr><td>Time Units</td><td>generations</td></tr>\n",
       "                      <tr><td>Sample Nodes</td><td>190</td></tr>\n",
       "                      <tr><td>Total Size</td><td>8.3 MiB</td></tr>\n",
       "                      <tr>\n",
       "                        <td>Metadata</td><td style=\"text-align: left;\">\n",
       "                <div>\n",
       "                  <span class=\"tskit-details-label\"></span>\n",
       "                  <details open>\n",
       "                    <summary>dict</summary>\n",
       "                    \n",
       "                  </details>\n",
       "                </div>\n",
       "                </td></tr>\n",
       "                    </tbody>\n",
       "                  </table>\n",
       "                </div>\n",
       "                <div class=\"tskit-table-set-table\">\n",
       "                  <table class=\"tskit-table\">\n",
       "                    <thead>\n",
       "                      <tr>\n",
       "                        <th style=\"line-height:21px;\">Table</th>\n",
       "                        <th>Rows</th>\n",
       "                        <th>Size</th>\n",
       "                        <th>Has Metadata</th>\n",
       "                      </tr>\n",
       "                    </thead>\n",
       "                    <tbody>\n",
       "                    \n",
       "                  <tr>\n",
       "                    <td>Edges</td>\n",
       "                      <td>132057</td>\n",
       "                      <td>4.0 MiB</td>\n",
       "                      <td style=\"text-align: center;\">\n",
       "                        \n",
       "                      </td>\n",
       "                    </tr>\n",
       "                \n",
       "                  <tr>\n",
       "                    <td>Individuals</td>\n",
       "                      <td>95</td>\n",
       "                      <td>7.1 KiB</td>\n",
       "                      <td style=\"text-align: center;\">\n",
       "                        ✅\n",
       "                      </td>\n",
       "                    </tr>\n",
       "                \n",
       "                  <tr>\n",
       "                    <td>Migrations</td>\n",
       "                      <td>0</td>\n",
       "                      <td>8 Bytes</td>\n",
       "                      <td style=\"text-align: center;\">\n",
       "                        \n",
       "                      </td>\n",
       "                    </tr>\n",
       "                \n",
       "                  <tr>\n",
       "                    <td>Mutations</td>\n",
       "                      <td>21207</td>\n",
       "                      <td>766.3 KiB</td>\n",
       "                      <td style=\"text-align: center;\">\n",
       "                        \n",
       "                      </td>\n",
       "                    </tr>\n",
       "                \n",
       "                  <tr>\n",
       "                    <td>Nodes</td>\n",
       "                      <td>19208</td>\n",
       "                      <td>1.4 MiB</td>\n",
       "                      <td style=\"text-align: center;\">\n",
       "                        ✅\n",
       "                      </td>\n",
       "                    </tr>\n",
       "                \n",
       "                  <tr>\n",
       "                    <td>Populations</td>\n",
       "                      <td>2</td>\n",
       "                      <td>56 Bytes</td>\n",
       "                      <td style=\"text-align: center;\">\n",
       "                        ✅\n",
       "                      </td>\n",
       "                    </tr>\n",
       "                \n",
       "                  <tr>\n",
       "                    <td>Provenances</td>\n",
       "                      <td>3</td>\n",
       "                      <td>1.7 KiB</td>\n",
       "                      <td style=\"text-align: center;\">\n",
       "                        \n",
       "                      </td>\n",
       "                    </tr>\n",
       "                \n",
       "                  <tr>\n",
       "                    <td>Sites</td>\n",
       "                      <td>21207</td>\n",
       "                      <td>1.0 MiB</td>\n",
       "                      <td style=\"text-align: center;\">\n",
       "                        ✅\n",
       "                      </td>\n",
       "                    </tr>\n",
       "                \n",
       "                    </tbody>\n",
       "                  </table>\n",
       "                </div>\n",
       "              </div>\n",
       "            </div>\n",
       "            "
      ],
      "text/plain": [
       "<tskit.trees.TreeSequence at 0x7fc4c6abb610>"
      ]
     },
     "execution_count": 12,
     "metadata": {},
     "output_type": "execute_result"
    }
   ],
   "source": [
    "tsD_rosel_pmFRpyYe"
   ]
  },
  {
   "cell_type": "code",
   "execution_count": 14,
   "id": "fc8cffc7-3689-41ed-b963-9f45ff2163c3",
   "metadata": {},
   "outputs": [],
   "source": [
    "## Save the tree sequence\n",
    "tsD_rosel_pmFRpyYe.dump('./ts_run3-20240603_pmFRpyYe-hCov/ts.RosEl.pmFRpyYe.trees')\n",
    "\n",
    "## Load tree sequence\n",
    "# tsD_rosel_mFRyYe = tskit.load('./ts_run2-20240522_FrYe/ts.RosEl.mFRyYe.ts')"
   ]
  },
  {
   "cell_type": "code",
   "execution_count": 15,
   "id": "1a2103a0-3c6f-4144-a7a5-9d662fe80d15",
   "metadata": {},
   "outputs": [],
   "source": [
    "treeStart = []\n",
    "treeEnd = []\n",
    "treeSpan = []\n",
    "treeList = []\n",
    "\n",
    "for tree in tsD_rosel_pmFRpyYe.trees():\n",
    "    if (tree.interval.left > 0):\n",
    "        treeStart.append(tree.interval.left)\n",
    "        treeEnd.append(tree.interval.right)\n",
    "        treeSpan.append(tree.span)\n",
    "        # treeList.append(tree.as_newick(root=tree.roots))\n",
    "        treeList.append(tree.as_newick(root=tree.root))\n",
    "\n",
    "tsDF = pd.DataFrame({'treeStart': treeStart,\n",
    "                      'treeEnd': treeEnd,\n",
    "                     'treeSpan': treeSpan,\n",
    "                     'tree': treeList})\n",
    "tsDF.to_csv('./ts_run3-20240603_pmFRpyYe-hCov/ts.RosEl.trList.newick.txt',\n",
    "            sep=\"\\t\", quoting = None, index = False, encoding = 'utf-8')"
   ]
  },
  {
   "cell_type": "code",
   "execution_count": null,
   "id": "3b5415e5-a920-49bb-b3e6-3a7ece01ebf7",
   "metadata": {},
   "outputs": [],
   "source": []
  }
 ],
 "metadata": {
  "kernelspec": {
   "display_name": "Python 3 (ipykernel)",
   "language": "python",
   "name": "python3"
  },
  "language_info": {
   "codemirror_mode": {
    "name": "ipython",
    "version": 3
   },
   "file_extension": ".py",
   "mimetype": "text/x-python",
   "name": "python",
   "nbconvert_exporter": "python",
   "pygments_lexer": "ipython3",
   "version": "3.11.8"
  }
 },
 "nbformat": 4,
 "nbformat_minor": 5
}
