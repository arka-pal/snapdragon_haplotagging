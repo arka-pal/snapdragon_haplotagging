{
 "cells": [
  {
   "cell_type": "markdown",
   "id": "75e747e1-7eb1-44ee-977e-4be0a1a48aa0",
   "metadata": {},
   "source": [
    "# Inferring genealogies"
   ]
  },
  {
   "cell_type": "code",
   "execution_count": 1,
   "id": "16f07feb-2312-4e14-be1a-e3529b109f3f",
   "metadata": {},
   "outputs": [],
   "source": [
    "module load bcftools"
   ]
  },
  {
   "cell_type": "markdown",
   "id": "70f85a35-f06b-4bd3-bafd-5d07839eb924",
   "metadata": {},
   "source": [
    "## Run: MF3 & YF3"
   ]
  },
  {
   "cell_type": "markdown",
   "id": "4f2d426b-7c69-4e0c-bc7d-00563edbedff",
   "metadata": {},
   "source": [
    "### Region: RosEl – Chr6:52800000-53200000"
   ]
  },
  {
   "cell_type": "code",
   "execution_count": null,
   "id": "e232a60f-1f49-4dea-9beb-d3d1038d326c",
   "metadata": {},
   "outputs": [],
   "source": [
    "chrom=Chr6\n",
    "start=52800000\n",
    "end=53200000\n",
    "sampleList=~/snap_hap/ARGs/samples/samples_MY3.list\n",
    "statVCF=~/snap_hap/variants/statphase/run-Final/${chrom}/Am_all_stitchRun1_${chrom}.noRef.statphased.bcf\n",
    "outVCF=~/snap_hap/ARGs/VCFs/Am_MY3_stitchRun1_${chrom}-${start}-${end}.noRef.statphased.vcf.gz\n",
    "bcftools view -r ${chrom}:${start}-${end} -S $sampleList $statVCF -Oz -o $outVCF --write-index"
   ]
  },
  {
   "cell_type": "markdown",
   "id": "95e2bc18-da6e-4547-8fc3-df5389315980",
   "metadata": {
    "jp-MarkdownHeadingCollapsed": true
   },
   "source": [
    "### Region: neutral – Chr6:20000000-20400000"
   ]
  },
  {
   "cell_type": "code",
   "execution_count": null,
   "id": "642b1a48-97a1-4da7-98cf-ed489a63df27",
   "metadata": {},
   "outputs": [],
   "source": [
    "chrom=Chr6\n",
    "start=20000000\n",
    "end=20400000\n",
    "sampleList=~/snap_hap/ARGs/samples/samples_MY3.list\n",
    "statVCF=~/snap_hap/variants/statphase/run-Final/${chrom}/Am_all_stitchRun1_${chrom}.noRef.statphased.bcf\n",
    "outVCF=~/snap_hap/ARGs/VCFs/Am_MY3_stitchRun1_${chrom}-${start}-${end}.noRef.statphased.vcf.gz\n",
    "bcftools view -r ${chrom}:${start}-${end} -S $sampleList $statVCF -Oz -o $outVCF --write-index"
   ]
  },
  {
   "cell_type": "markdown",
   "id": "70c48605-373c-440c-8b6a-a3010115effe",
   "metadata": {},
   "source": [
    "## Run: MF3-FR  & YF3-Ye"
   ]
  },
  {
   "cell_type": "code",
   "execution_count": null,
   "id": "5e2e88c2-bc79-45e1-8f8c-0dfb59920079",
   "metadata": {},
   "outputs": [],
   "source": [
    "## Region: neutral – Chr6:30000000-30400000\n",
    "chrom=Chr6\n",
    "start=30000000\n",
    "end=30400000\n",
    "prefix=\n",
    "sampleList1=~/snap_hap/ARGs/samples/\n",
    "sampleList2=~/snap_hap/ARGs/samples/\n",
    "statVCF=~/snap_hap/variants/statphase/run-Final/${chrom}/Am_all_stitchRun1_${chrom}.refScaf.statphased.bcf\n",
    "outVCF=~/snap_hap/ARGs/VCFs/Am_mFRyYe_stitchRun1_${chrom}-${start}-${end}.refScaf.statphased.vcf.gz\n",
    "bcftools view -r ${chrom}:${start}-${end} -S $sampleList $statVCF -Oz -o $outVCF --write-index"
   ]
  },
  {
   "cell_type": "code",
   "execution_count": null,
   "id": "c74946d8-de90-4df5-bfa7-4560d3cb377d",
   "metadata": {},
   "outputs": [],
   "source": [
    "## Region: RosEl - Chr6:52800000-53200000"
   ]
  }
 ],
 "metadata": {
  "kernelspec": {
   "display_name": "Bash",
   "language": "bash",
   "name": "bash"
  },
  "language_info": {
   "codemirror_mode": "shell",
   "file_extension": ".sh",
   "mimetype": "text/x-sh",
   "name": "bash"
  }
 },
 "nbformat": 4,
 "nbformat_minor": 5
}
