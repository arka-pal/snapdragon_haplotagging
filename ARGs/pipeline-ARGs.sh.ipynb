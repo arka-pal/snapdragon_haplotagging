{
 "cells": [
  {
   "cell_type": "markdown",
   "id": "75e747e1-7eb1-44ee-977e-4be0a1a48aa0",
   "metadata": {},
   "source": [
    "# Inferring genealogies"
   ]
  },
  {
   "cell_type": "code",
   "execution_count": 1,
   "id": "16f07feb-2312-4e14-be1a-e3529b109f3f",
   "metadata": {},
   "outputs": [],
   "source": [
    "module load bcftools"
   ]
  },
  {
   "cell_type": "markdown",
   "id": "70f85a35-f06b-4bd3-bafd-5d07839eb924",
   "metadata": {
    "jp-MarkdownHeadingCollapsed": true
   },
   "source": [
    "## Run: MF3 & YF3"
   ]
  },
  {
   "cell_type": "code",
   "execution_count": null,
   "id": "e232a60f-1f49-4dea-9beb-d3d1038d326c",
   "metadata": {},
   "outputs": [],
   "source": [
    "## Region: RosEl – Chr6:52800000-53200000\n",
    "chrom=Chr6\n",
    "start=5280000s0\n",
    "end=53200000\n",
    "sampleList=~/snap_hap/ARGs/samples/samples_MY3.list\n",
    "statVCF=~/snap_hap/variants/statphase/run-Final/${chrom}/Am_all_stitchRun1_${chrom}.noRef.statphased.bcf\n",
    "outVCF=~/snap_hap/ARGs/VCFs/Am_MY3_stitchRun1_${chrom}-${start}-${end}.noRef.statphased.vcf.gz\n",
    "bcftools view -r ${chrom}:${start}-${end} -S $sampleList $statVCF -Oz -o $outVCF --write-index"
   ]
  },
  {
   "cell_type": "code",
   "execution_count": null,
   "id": "642b1a48-97a1-4da7-98cf-ed489a63df27",
   "metadata": {},
   "outputs": [],
   "source": [
    "## Region: neutral – Chr6:20000000-20400000\n",
    "chrom=Chr6\n",
    "start=20000000\n",
    "end=20400000\n",
    "sampleList=~/snap_hap/ARGs/samples/samples_MY3.list\n",
    "statVCF=~/snap_hap/variants/statphase/run-Final/${chrom}/Am_all_stitchRun1_${chrom}.noRef.statphased.bcf\n",
    "outVCF=~/snap_hap/ARGs/VCFs/Am_MY3_stitchRun1_${chrom}-${start}-${end}.noRef.statphased.vcf.gz\n",
    "bcftools view -r ${chrom}:${start}-${end} -S $sampleList $statVCF -Oz -o $outVCF --write-index"
   ]
  },
  {
   "cell_type": "markdown",
   "id": "9fdf2818-ed9e-4176-b1bb-fe51d35b7494",
   "metadata": {},
   "source": [
    "## Run: MF3-FR & YF3-Ye"
   ]
  },
  {
   "cell_type": "code",
   "execution_count": null,
   "id": "45cbff76-c946-419f-b6d3-5ed2f21f5958",
   "metadata": {},
   "outputs": [],
   "source": [
    "## Region: neutral – Chr6:30000000-30400000\n",
    "chrom=Chr6\n",
    "start=30000000\n",
    "end=30400000\n",
    "prefix=\n",
    "sampleList1=~/snap_hap/ARGs/samples/samples_MF3-FR.txt\n",
    "sampleList2=~/snap_hap/ARGs/samples/samples_YF3-Ye.txt\n",
    "statVCF=~/snap_hap/variants/statphase/run-Final/${chrom}/Am_all_stitchRun1_${chrom}.refScaf.statphased.bcf\n",
    "outVCF=~/snap_hap/ARGs/VCFs/Am_mFRyYe_stitchRun1_${chrom}-${start}-${end}.refScaf.statphased.vcf.gz\n",
    "\n",
    "cat $sampleList1 $sampleList2 > ~/snap_hap/ARGs/samples/samples_MF3-FR_YF3-Ye.txt\n",
    "sampleList=~/snap_hap/ARGs/samples/samples_MF3-FR_YF3-Ye.txt\n",
    "bcftools view -r ${chrom}:${start}-${end} -S $sampleList $statVCF -Oz -o $outVCF --write-index"
   ]
  },
  {
   "cell_type": "code",
   "execution_count": null,
   "id": "9bf71144-56a9-47f8-a5a7-d7da36922dde",
   "metadata": {},
   "outputs": [],
   "source": [
    "## Region: RosEl - Chr6:52800000-53200000\n",
    "chrom=Chr6\n",
    "start=52800000\n",
    "end=53200000\n",
    "prefix=\n",
    "sampleList1=~/snap_hap/ARGs/samples/samples_MF3-FR.txt\n",
    "sampleList2=~/snap_hap/ARGs/samples/samples_YF3-Ye.txt\n",
    "statVCF=~/snap_hap/variants/statphase/run-Final/${chrom}/Am_all_stitchRun1_${chrom}.refScaf.statphased.bcf\n",
    "outVCF=~/snap_hap/ARGs/VCFs/Am_mFRyYe_stitchRun1_${chrom}-${start}-${end}.refScaf.statphased.vcf.gz\n",
    "\n",
    "cat $sampleList1 $sampleList2 > ~/snap_hap/ARGs/samples/samples_MF3-FR_YF3-Ye.txt\n",
    "sampleList=~/snap_hap/ARGs/samples/samples_MF3-FR_YF3-Ye.txt\n",
    "bcftools view -r ${chrom}:${start}-${end} -S $sampleList $statVCF -Oz -o $outVCF --write-index"
   ]
  },
  {
   "cell_type": "markdown",
   "id": "606d90af-c699-4efa-acfb-972fb1c765fc",
   "metadata": {},
   "source": [
    "## Run: "
   ]
  },
  {
   "cell_type": "code",
   "execution_count": null,
   "id": "fec3830f-3896-40dd-af2e-01896b55a361",
   "metadata": {},
   "outputs": [],
   "source": [
    "## Region: RosEl - Chr6:52800000-53200000\n",
    "chrom=Chr6\n",
    "start=52800000\n",
    "end=53200000\n",
    "prefix=pmFRpyYe-hCov\n",
    "sampleList1=~/snap_hap/sample_info/samples_by_colors/highCov_MF_ColorClass2-pFR.txt\n",
    "sampleList2=~/snap_hap/sample_info/samples_by_colors/highCov_YF_ColorClass2-pYe.txt\n",
    "statVCF=~/snap_hap/variants/statphase/run-Final/${chrom}/Am_all_stitchRun1_${chrom}.refScaf.statphased.bcf\n",
    "outVCF=~/snap_hap/ARGs/VCFs/Am_${prefix}_stitchRun1_${chrom}-${start}-${end}.refScaf.statphased.vcf.gz\n",
    "\n",
    "cat $sampleList1 $sampleList2 > ~/snap_hap/ARGs/samples/samples_pmFR_pyYe.txt\n",
    "sampleList=~/snap_hap/ARGs/samples/samples_pmFR_pyYe.txt\n",
    "bcftools view -r ${chrom}:${start}-${end} -S $sampleList $statVCF -Oz -o $outVCF --write-index"
   ]
  },
  {
   "cell_type": "code",
   "execution_count": null,
   "id": "28063444-fe10-41b5-8193-07cf2290c504",
   "metadata": {},
   "outputs": [],
   "source": [
    "## Region: neutral – Chr6:30000000-30400000\n",
    "chrom=Chr6\n",
    "start=30000000\n",
    "end=30400000\n",
    "prefix=pmFRpyYe-hCov\n",
    "sampleList1=~/snap_hap/sample_info/samples_by_colors/highCov_MF_ColorClass2-pFR.txt\n",
    "sampleList2=~/snap_hap/sample_info/samples_by_colors/highCov_YF_ColorClass2-pYe.txt\n",
    "statVCF=~/snap_hap/variants/statphase/run-Final/${chrom}/Am_all_stitchRun1_${chrom}.refScaf.statphased.bcf\n",
    "outVCF=~/snap_hap/ARGs/VCFs/Am_${prefix}_stitchRun1_${chrom}-${start}-${end}.refScaf.statphased.vcf.gz\n",
    "\n",
    "# cat $sampleList1 $sampleList2 > ~/snap_hap/ARGs/samples/samples_pmFR_pyYe.txt\n",
    "sampleList=~/snap_hap/ARGs/samples/samples_pmFR_pyYe.txt\n",
    "bcftools view -r ${chrom}:${start}-${end} -S $sampleList $statVCF -Oz -o $outVCF --write-index"
   ]
  }
 ],
 "metadata": {
  "kernelspec": {
   "display_name": "Bash",
   "language": "bash",
   "name": "bash"
  },
  "language_info": {
   "codemirror_mode": "shell",
   "file_extension": ".sh",
   "mimetype": "text/x-sh",
   "name": "bash"
  }
 },
 "nbformat": 4,
 "nbformat_minor": 5
}
